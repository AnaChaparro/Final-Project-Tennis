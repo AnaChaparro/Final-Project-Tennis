{
 "cells": [
  {
   "cell_type": "markdown",
   "id": "55a4a0b0",
   "metadata": {},
   "source": [
    "# Extracción de datos:"
   ]
  },
  {
   "cell_type": "markdown",
   "id": "6a67cdd3",
   "metadata": {},
   "source": [
    "#### Librerías:"
   ]
  },
  {
   "cell_type": "code",
   "execution_count": 1,
   "id": "50abb672",
   "metadata": {},
   "outputs": [
    {
     "name": "stdout",
     "output_type": "stream",
     "text": [
      "Requirement already satisfied: joblib in /Users/anachaparrohernandez/opt/anaconda3/envs/clase/lib/python3.7/site-packages (1.2.0)\n",
      "Note: you may need to restart the kernel to use updated packages.\n"
     ]
    }
   ],
   "source": [
    "from selenium import webdriver\n",
    "import pandas as pd\n",
    "import csv\n",
    "from selenium.webdriver.chrome.options import Options\n",
    "from webdriver_manager.chrome import ChromeDriverManager\n",
    "\n",
    "from webdriver_manager.chrome import ChromeDriverManager\n",
    "\n",
    "from selenium.webdriver.common.by import By   \n",
    "\n",
    "import time\n",
    "\n",
    "import warnings\n",
    "warnings.filterwarnings('ignore')\n",
    "\n",
    "%pip install joblib\n",
    "\n",
    "from joblib import Parallel, delayed\n",
    "import xgboost as xgb"
   ]
  },
  {
   "cell_type": "code",
   "execution_count": 2,
   "id": "d23a3800",
   "metadata": {
    "scrolled": true
   },
   "outputs": [],
   "source": [
    "PATH=ChromeDriverManager().install()"
   ]
  },
  {
   "cell_type": "markdown",
   "id": "33ce5075",
   "metadata": {},
   "source": [
    "# Web scraping la ATP estadísticas para obtener datos de efectividades de los jugadores en saque, resto y líderes bajo presión."
   ]
  },
  {
   "cell_type": "code",
   "execution_count": 3,
   "id": "d7e94aa6",
   "metadata": {},
   "outputs": [],
   "source": [
    "def extraer(url):\n",
    "    \n",
    "    \n",
    "    driver=webdriver.Chrome(PATH)\n",
    "    driver.get(url)\n",
    "\n",
    "    time.sleep(2)\n",
    "\n",
    "    tabla=driver.find_element(By.XPATH, '//*[@id=\"statsListingTableContent\"]/table')\n",
    "\n",
    "    filas=[[e.text for e in f.find_elements(By.TAG_NAME, 'td')] \n",
    "             for f in tabla.find_elements(By.TAG_NAME, 'tr')]\n",
    "\n",
    "    time.sleep(2)\n",
    "\n",
    "\n",
    "    cabeceras=[e.text.split('\\n') for e in driver.find_elements(By.CLASS_NAME, 'leaderboard-table-header')]\n",
    "\n",
    "\n",
    "    driver.quit()\n",
    "\n",
    "\n",
    "    return pd.DataFrame(filas, columns=cabeceras)\n"
   ]
  },
  {
   "cell_type": "markdown",
   "id": "1e2a25d9",
   "metadata": {},
   "source": [
    "#### Scraping de saque tierra."
   ]
  },
  {
   "cell_type": "code",
   "execution_count": 4,
   "id": "2eebef5c",
   "metadata": {},
   "outputs": [],
   "source": [
    "años=['52Week','2021','2020','2019','2018']"
   ]
  },
  {
   "cell_type": "code",
   "execution_count": 5,
   "id": "040d8957",
   "metadata": {},
   "outputs": [],
   "source": [
    "urlsaquetierra=[]\n",
    "\n",
    "for i in años:\n",
    "    \n",
    "    urlsaquetierra.append(f'https://www.atptour.com/es/stats/leaderboard?boardType=serve&timeFrame={i}&surface=clay&versusRank=all&formerNo1=false')\n",
    "  "
   ]
  },
  {
   "cell_type": "code",
   "execution_count": 6,
   "id": "98d96454",
   "metadata": {},
   "outputs": [
    {
     "name": "stderr",
     "output_type": "stream",
     "text": [
      "[Parallel(n_jobs=-1)]: Using backend LokyBackend with 8 concurrent workers.\n",
      "/Users/anachaparrohernandez/opt/anaconda3/envs/clase/lib/python3.7/site-packages/ipykernel_launcher.py:4: DeprecationWarning: executable_path has been deprecated, please pass in a Service object\n",
      "  after removing the cwd from sys.path.\n",
      "/Users/anachaparrohernandez/opt/anaconda3/envs/clase/lib/python3.7/site-packages/ipykernel_launcher.py:4: DeprecationWarning: executable_path has been deprecated, please pass in a Service object\n",
      "  after removing the cwd from sys.path.\n",
      "/Users/anachaparrohernandez/opt/anaconda3/envs/clase/lib/python3.7/site-packages/ipykernel_launcher.py:4: DeprecationWarning: executable_path has been deprecated, please pass in a Service object\n",
      "  after removing the cwd from sys.path.\n",
      "/Users/anachaparrohernandez/opt/anaconda3/envs/clase/lib/python3.7/site-packages/ipykernel_launcher.py:4: DeprecationWarning: executable_path has been deprecated, please pass in a Service object\n",
      "  after removing the cwd from sys.path.\n",
      "/Users/anachaparrohernandez/opt/anaconda3/envs/clase/lib/python3.7/site-packages/ipykernel_launcher.py:4: DeprecationWarning: executable_path has been deprecated, please pass in a Service object\n",
      "  after removing the cwd from sys.path.\n",
      "[Parallel(n_jobs=-1)]: Done   2 out of   5 | elapsed:  1.8min remaining:  2.7min\n",
      "[Parallel(n_jobs=-1)]: Done   5 out of   5 | elapsed:  1.9min finished\n"
     ]
    }
   ],
   "source": [
    "lst_dfsaquetierra=Parallel(n_jobs=-1, verbose=True)(delayed(extraer)(url) for url in urlsaquetierra)"
   ]
  },
  {
   "cell_type": "code",
   "execution_count": 7,
   "id": "48f7402e",
   "metadata": {},
   "outputs": [],
   "source": [
    "lst_dfsaquetierra1=lst_dfsaquetierra.copy()"
   ]
  },
  {
   "cell_type": "code",
   "execution_count": 8,
   "id": "060794a9",
   "metadata": {},
   "outputs": [],
   "source": [
    "dfsaquetierra52Week=lst_dfsaquetierra[0].to_csv('../datanosubir/dfsaquetierra52Week.csv', index=False)\n",
    "dfsaquetierra2021=lst_dfsaquetierra[1].to_csv('../datanosubir/dfsaquetierra2021.csv', index=False)\n",
    "dfsaquetierra2020=lst_dfsaquetierra[2].to_csv('../datanosubir/dfsaquetierra2020.csv', index=False)\n",
    "dfsaquetierra2019=lst_dfsaquetierra[3].to_csv('../datanosubir/dfsaquetierra2019.csv', index=False)\n",
    "dfsaquetierra2018=lst_dfsaquetierra[4].to_csv('../datanosubir/dfsaquetierra2018.csv', index=False)"
   ]
  },
  {
   "cell_type": "markdown",
   "id": "a33e374f",
   "metadata": {},
   "source": [
    "#### Scraping de saque pista dura."
   ]
  },
  {
   "cell_type": "code",
   "execution_count": 9,
   "id": "2caa0520",
   "metadata": {},
   "outputs": [],
   "source": [
    "urlsaquedura=[]\n",
    "\n",
    "for i in años:\n",
    "    \n",
    "    urlsaquedura.append(f'https://www.atptour.com/es/stats/leaderboard?boardType=serve&timeFrame={i}&surface=hard&versusRank=all&formerNo1=false')\n",
    "  "
   ]
  },
  {
   "cell_type": "code",
   "execution_count": 10,
   "id": "92320ced",
   "metadata": {},
   "outputs": [
    {
     "name": "stderr",
     "output_type": "stream",
     "text": [
      "[Parallel(n_jobs=-1)]: Using backend LokyBackend with 8 concurrent workers.\n",
      "/Users/anachaparrohernandez/opt/anaconda3/envs/clase/lib/python3.7/site-packages/ipykernel_launcher.py:4: DeprecationWarning: executable_path has been deprecated, please pass in a Service object\n",
      "  after removing the cwd from sys.path.\n",
      "/Users/anachaparrohernandez/opt/anaconda3/envs/clase/lib/python3.7/site-packages/ipykernel_launcher.py:4: DeprecationWarning: executable_path has been deprecated, please pass in a Service object\n",
      "  after removing the cwd from sys.path.\n",
      "/Users/anachaparrohernandez/opt/anaconda3/envs/clase/lib/python3.7/site-packages/ipykernel_launcher.py:4: DeprecationWarning: executable_path has been deprecated, please pass in a Service object\n",
      "  after removing the cwd from sys.path.\n",
      "/Users/anachaparrohernandez/opt/anaconda3/envs/clase/lib/python3.7/site-packages/ipykernel_launcher.py:4: DeprecationWarning: executable_path has been deprecated, please pass in a Service object\n",
      "  after removing the cwd from sys.path.\n",
      "/Users/anachaparrohernandez/opt/anaconda3/envs/clase/lib/python3.7/site-packages/ipykernel_launcher.py:4: DeprecationWarning: executable_path has been deprecated, please pass in a Service object\n",
      "  after removing the cwd from sys.path.\n",
      "[Parallel(n_jobs=-1)]: Done   2 out of   5 | elapsed:  1.8min remaining:  2.7min\n",
      "[Parallel(n_jobs=-1)]: Done   5 out of   5 | elapsed:  1.8min finished\n"
     ]
    }
   ],
   "source": [
    "lst_dfsaquedura=Parallel(n_jobs=-1, verbose=True)(delayed(extraer)(url) for url in urlsaquedura)"
   ]
  },
  {
   "cell_type": "code",
   "execution_count": 11,
   "id": "2e0abee4",
   "metadata": {},
   "outputs": [],
   "source": [
    "lst_dfsaquedura1=lst_dfsaquedura.copy()"
   ]
  },
  {
   "cell_type": "code",
   "execution_count": 12,
   "id": "9ec2a16c",
   "metadata": {},
   "outputs": [],
   "source": [
    "dfsaquedura52Week=lst_dfsaquedura[0].to_csv('../datanosubir/dfsaquedura52Week.csv', index=False)\n",
    "dfsaquedura2021=lst_dfsaquedura[1].to_csv('../datanosubir/dfsaquedura2021.csv', index=False)\n",
    "dfsaquedura2020=lst_dfsaquedura[2].to_csv('../datanosubir/dfsaquedura2020.csv', index=False)\n",
    "dfsaquedura2019=lst_dfsaquedura[3].to_csv('../datanosubir/dfsaquedura2019.csv', index=False)\n",
    "dfsaquedura2018=lst_dfsaquedura[4].to_csv('../datanosubir/dfsaquedura2018.csv', index=False)"
   ]
  },
  {
   "cell_type": "markdown",
   "id": "6f07bd5b",
   "metadata": {},
   "source": [
    "#### Scraping de saque hierba."
   ]
  },
  {
   "cell_type": "code",
   "execution_count": 13,
   "id": "16bb85e0",
   "metadata": {},
   "outputs": [],
   "source": [
    "años1=['52Week','2021','2019','2018']\n",
    "\n",
    "urlsaquehierba=[]\n",
    "\n",
    "for i in años1:\n",
    "    \n",
    "    urlsaquehierba.append(f'https://www.atptour.com/es/stats/leaderboard?boardType=serve&timeFrame={i}&surface=grass&versusRank=all&formerNo1=false')\n",
    "  "
   ]
  },
  {
   "cell_type": "code",
   "execution_count": 14,
   "id": "cb9244df",
   "metadata": {},
   "outputs": [
    {
     "name": "stderr",
     "output_type": "stream",
     "text": [
      "[Parallel(n_jobs=-1)]: Using backend LokyBackend with 8 concurrent workers.\n",
      "/Users/anachaparrohernandez/opt/anaconda3/envs/clase/lib/python3.7/site-packages/ipykernel_launcher.py:4: DeprecationWarning: executable_path has been deprecated, please pass in a Service object\n",
      "  after removing the cwd from sys.path.\n",
      "/Users/anachaparrohernandez/opt/anaconda3/envs/clase/lib/python3.7/site-packages/ipykernel_launcher.py:4: DeprecationWarning: executable_path has been deprecated, please pass in a Service object\n",
      "  after removing the cwd from sys.path.\n",
      "/Users/anachaparrohernandez/opt/anaconda3/envs/clase/lib/python3.7/site-packages/ipykernel_launcher.py:4: DeprecationWarning: executable_path has been deprecated, please pass in a Service object\n",
      "  after removing the cwd from sys.path.\n",
      "/Users/anachaparrohernandez/opt/anaconda3/envs/clase/lib/python3.7/site-packages/ipykernel_launcher.py:4: DeprecationWarning: executable_path has been deprecated, please pass in a Service object\n",
      "  after removing the cwd from sys.path.\n",
      "[Parallel(n_jobs=-1)]: Done   4 out of   4 | elapsed:  1.7min remaining:    0.0s\n",
      "[Parallel(n_jobs=-1)]: Done   4 out of   4 | elapsed:  1.7min finished\n"
     ]
    }
   ],
   "source": [
    "lst_dfsaquehierba=Parallel(n_jobs=-1, verbose=True)(delayed(extraer)(url) for url in urlsaquehierba)"
   ]
  },
  {
   "cell_type": "code",
   "execution_count": 15,
   "id": "3a0e46d4",
   "metadata": {},
   "outputs": [],
   "source": [
    "lst_dfsaquehierba1=lst_dfsaquehierba.copy()"
   ]
  },
  {
   "cell_type": "code",
   "execution_count": 16,
   "id": "3fad8097",
   "metadata": {},
   "outputs": [],
   "source": [
    "dfsaquehierba52Week=lst_dfsaquehierba[0].to_csv('../datanosubir/dfsaquehierba52Week.csv', index=False)\n",
    "dfsaquehierba2021=lst_dfsaquehierba[1].to_csv('../datanosubir/dfsaquehierba2021.csv', index=False)\n",
    "dfsaquehierba2019=lst_dfsaquehierba[2].to_csv('../datanosubir/dfsaquehierba2019.csv', index=False)\n",
    "dfsaquehierba2018=lst_dfsaquehierba[3].to_csv('../datanosubir/dfsaquehierba2018.csv', index=False)"
   ]
  },
  {
   "cell_type": "markdown",
   "id": "7ac60661",
   "metadata": {},
   "source": [
    "#### Scraping de resto tierra."
   ]
  },
  {
   "cell_type": "code",
   "execution_count": 17,
   "id": "87c23069",
   "metadata": {},
   "outputs": [],
   "source": [
    "urlrestotierra=[]\n",
    "\n",
    "for i in años:\n",
    "    \n",
    "    urlrestotierra.append(f'https://www.atptour.com/es/stats/leaderboard?boardType=return&timeFrame={i}&surface=clay&versusRank=all&formerNo1=false')\n",
    "  "
   ]
  },
  {
   "cell_type": "code",
   "execution_count": 18,
   "id": "b4e78690",
   "metadata": {},
   "outputs": [
    {
     "name": "stderr",
     "output_type": "stream",
     "text": [
      "[Parallel(n_jobs=-1)]: Using backend LokyBackend with 8 concurrent workers.\n",
      "/Users/anachaparrohernandez/opt/anaconda3/envs/clase/lib/python3.7/site-packages/ipykernel_launcher.py:4: DeprecationWarning: executable_path has been deprecated, please pass in a Service object\n",
      "  after removing the cwd from sys.path.\n",
      "/Users/anachaparrohernandez/opt/anaconda3/envs/clase/lib/python3.7/site-packages/ipykernel_launcher.py:4: DeprecationWarning: executable_path has been deprecated, please pass in a Service object\n",
      "  after removing the cwd from sys.path.\n",
      "/Users/anachaparrohernandez/opt/anaconda3/envs/clase/lib/python3.7/site-packages/ipykernel_launcher.py:4: DeprecationWarning: executable_path has been deprecated, please pass in a Service object\n",
      "  after removing the cwd from sys.path.\n",
      "/Users/anachaparrohernandez/opt/anaconda3/envs/clase/lib/python3.7/site-packages/ipykernel_launcher.py:4: DeprecationWarning: executable_path has been deprecated, please pass in a Service object\n",
      "  after removing the cwd from sys.path.\n",
      "/Users/anachaparrohernandez/opt/anaconda3/envs/clase/lib/python3.7/site-packages/ipykernel_launcher.py:4: DeprecationWarning: executable_path has been deprecated, please pass in a Service object\n",
      "  after removing the cwd from sys.path.\n",
      "[Parallel(n_jobs=-1)]: Done   2 out of   5 | elapsed:  1.8min remaining:  2.7min\n",
      "[Parallel(n_jobs=-1)]: Done   5 out of   5 | elapsed:  1.9min finished\n"
     ]
    }
   ],
   "source": [
    "lst_dfrestotierra=Parallel(n_jobs=-1, verbose=True)(delayed(extraer)(url) for url in urlrestotierra)"
   ]
  },
  {
   "cell_type": "code",
   "execution_count": 19,
   "id": "ba071759",
   "metadata": {},
   "outputs": [],
   "source": [
    "lst_dfrestotierra1=lst_dfrestotierra.copy()"
   ]
  },
  {
   "cell_type": "code",
   "execution_count": 20,
   "id": "1d270955",
   "metadata": {},
   "outputs": [],
   "source": [
    "dfrestotierra52Week=lst_dfrestotierra[0].to_csv('../datanosubir/dfrestotierra52Week.csv', index=False)\n",
    "dfrestotierra2021=lst_dfrestotierra[1].to_csv('../datanosubir/dfrestotierra2021.csv', index=False)\n",
    "dfrestotierra2020=lst_dfrestotierra[2].to_csv('../datanosubir/dfrestotierra2020.csv', index=False)\n",
    "dfrestotierra2019=lst_dfrestotierra[3].to_csv('../datanosubir/dfrestotierra2019.csv', index=False)\n",
    "dfrestotierra2018=lst_dfrestotierra[4].to_csv('../datanosubir/dfrestotierra2018.csv', index=False)"
   ]
  },
  {
   "cell_type": "markdown",
   "id": "f293a265",
   "metadata": {},
   "source": [
    "#### Scraping de resto pista dura."
   ]
  },
  {
   "cell_type": "code",
   "execution_count": 21,
   "id": "9a202c4c",
   "metadata": {},
   "outputs": [],
   "source": [
    "urlrestodura=[]\n",
    "\n",
    "for i in años:\n",
    "    \n",
    "    urlrestodura.append(f'https://www.atptour.com/es/stats/leaderboard?boardType=return&timeFrame={i}&surface=hard&versusRank=all&formerNo1=false')\n",
    "  "
   ]
  },
  {
   "cell_type": "code",
   "execution_count": 22,
   "id": "857365fe",
   "metadata": {},
   "outputs": [
    {
     "name": "stderr",
     "output_type": "stream",
     "text": [
      "[Parallel(n_jobs=-1)]: Using backend LokyBackend with 8 concurrent workers.\n",
      "/Users/anachaparrohernandez/opt/anaconda3/envs/clase/lib/python3.7/site-packages/ipykernel_launcher.py:4: DeprecationWarning: executable_path has been deprecated, please pass in a Service object\n",
      "  after removing the cwd from sys.path.\n",
      "/Users/anachaparrohernandez/opt/anaconda3/envs/clase/lib/python3.7/site-packages/ipykernel_launcher.py:4: DeprecationWarning: executable_path has been deprecated, please pass in a Service object\n",
      "  after removing the cwd from sys.path.\n",
      "/Users/anachaparrohernandez/opt/anaconda3/envs/clase/lib/python3.7/site-packages/ipykernel_launcher.py:4: DeprecationWarning: executable_path has been deprecated, please pass in a Service object\n",
      "  after removing the cwd from sys.path.\n",
      "/Users/anachaparrohernandez/opt/anaconda3/envs/clase/lib/python3.7/site-packages/ipykernel_launcher.py:4: DeprecationWarning: executable_path has been deprecated, please pass in a Service object\n",
      "  after removing the cwd from sys.path.\n",
      "/Users/anachaparrohernandez/opt/anaconda3/envs/clase/lib/python3.7/site-packages/ipykernel_launcher.py:4: DeprecationWarning: executable_path has been deprecated, please pass in a Service object\n",
      "  after removing the cwd from sys.path.\n",
      "[Parallel(n_jobs=-1)]: Done   2 out of   5 | elapsed:  1.7min remaining:  2.5min\n",
      "[Parallel(n_jobs=-1)]: Done   5 out of   5 | elapsed:  1.7min finished\n"
     ]
    }
   ],
   "source": [
    "lst_dfrestodura=Parallel(n_jobs=-1, verbose=True)(delayed(extraer)(url) for url in urlrestodura)"
   ]
  },
  {
   "cell_type": "code",
   "execution_count": 23,
   "id": "dc3adc17",
   "metadata": {},
   "outputs": [],
   "source": [
    "lst_dfrestodura1=lst_dfrestodura.copy()"
   ]
  },
  {
   "cell_type": "code",
   "execution_count": 24,
   "id": "ad0f8e58",
   "metadata": {},
   "outputs": [],
   "source": [
    "dfrestodura52Week=lst_dfrestodura[0].to_csv('../datanosubir/dfrestodura52Week.csv', index=False)\n",
    "dfrestodura2021=lst_dfrestodura[1].to_csv('../datanosubir/dfrestodura2021.csv', index=False)\n",
    "dfrestodura2020=lst_dfrestodura[2].to_csv('../datanosubir/dfrestodura2020.csv', index=False)\n",
    "dfrestodura2019=lst_dfrestodura[3].to_csv('../datanosubir/dfrestodura2019.csv', index=False)\n",
    "dfrestodura2018=lst_dfrestodura[4].to_csv('../datanosubir/dfrestodura2018.csv', index=False)"
   ]
  },
  {
   "cell_type": "markdown",
   "id": "f3542619",
   "metadata": {},
   "source": [
    "#### Scraping de resto hierba."
   ]
  },
  {
   "cell_type": "code",
   "execution_count": 25,
   "id": "62c51105",
   "metadata": {},
   "outputs": [],
   "source": [
    "años1=['52Week','2021','2019','2018']\n",
    "\n",
    "urlrestohierba=[]\n",
    "\n",
    "for i in años1:\n",
    "    \n",
    "    urlrestohierba.append(f'https://www.atptour.com/es/stats/leaderboard?boardType=return&timeFrame={i}&surface=grass&versusRank=all&formerNo1=false')\n",
    "  "
   ]
  },
  {
   "cell_type": "code",
   "execution_count": 26,
   "id": "126eb6d2",
   "metadata": {},
   "outputs": [
    {
     "name": "stderr",
     "output_type": "stream",
     "text": [
      "[Parallel(n_jobs=-1)]: Using backend LokyBackend with 8 concurrent workers.\n",
      "/Users/anachaparrohernandez/opt/anaconda3/envs/clase/lib/python3.7/site-packages/ipykernel_launcher.py:4: DeprecationWarning: executable_path has been deprecated, please pass in a Service object\n",
      "  after removing the cwd from sys.path.\n",
      "/Users/anachaparrohernandez/opt/anaconda3/envs/clase/lib/python3.7/site-packages/ipykernel_launcher.py:4: DeprecationWarning: executable_path has been deprecated, please pass in a Service object\n",
      "  after removing the cwd from sys.path.\n",
      "/Users/anachaparrohernandez/opt/anaconda3/envs/clase/lib/python3.7/site-packages/ipykernel_launcher.py:4: DeprecationWarning: executable_path has been deprecated, please pass in a Service object\n",
      "  after removing the cwd from sys.path.\n",
      "/Users/anachaparrohernandez/opt/anaconda3/envs/clase/lib/python3.7/site-packages/ipykernel_launcher.py:4: DeprecationWarning: executable_path has been deprecated, please pass in a Service object\n",
      "  after removing the cwd from sys.path.\n",
      "[Parallel(n_jobs=-1)]: Done   4 out of   4 | elapsed:  1.9min remaining:    0.0s\n",
      "[Parallel(n_jobs=-1)]: Done   4 out of   4 | elapsed:  1.9min finished\n"
     ]
    }
   ],
   "source": [
    "lst_dfrestohirba=Parallel(n_jobs=-1, verbose=True)(delayed(extraer)(url) for url in urlrestohierba)"
   ]
  },
  {
   "cell_type": "code",
   "execution_count": 27,
   "id": "bb094bed",
   "metadata": {},
   "outputs": [],
   "source": [
    "lst_dfrestohirba1=lst_dfrestohirba.copy()"
   ]
  },
  {
   "cell_type": "code",
   "execution_count": 28,
   "id": "1c6ada84",
   "metadata": {},
   "outputs": [],
   "source": [
    "dfrestohierba52Week=lst_dfrestohirba[0].to_csv('../datanosubir/dfrestohierba52Week.csv', index=False)\n",
    "dfrestohierba2021=lst_dfrestohirba[1].to_csv('../datanosubir/dfrestohierba2021.csv', index=False)\n",
    "dfrestohierba2019=lst_dfrestohirba[2].to_csv('../datanosubir/dfrestohierba2019.csv', index=False)\n",
    "dfrestohierba2018=lst_dfrestohirba[3].to_csv('../datanosubir/dfrestohierba2018.csv', index=False)"
   ]
  },
  {
   "cell_type": "markdown",
   "id": "fe869aaf",
   "metadata": {},
   "source": [
    "#### Scraping de Líderes bajo presión en tierra."
   ]
  },
  {
   "cell_type": "code",
   "execution_count": 29,
   "id": "9b7ce81f",
   "metadata": {},
   "outputs": [],
   "source": [
    "urlpresiontierra=[]\n",
    "\n",
    "for i in años:\n",
    "    \n",
    "    urlpresiontierra.append(f'https://www.atptour.com/es/stats/leaderboard?boardType=pressure&timeFrame={i}&surface=clay&versusRank=all&formerNo1=false')\n",
    "  "
   ]
  },
  {
   "cell_type": "code",
   "execution_count": 30,
   "id": "938c22dd",
   "metadata": {},
   "outputs": [
    {
     "name": "stderr",
     "output_type": "stream",
     "text": [
      "[Parallel(n_jobs=-1)]: Using backend LokyBackend with 8 concurrent workers.\n",
      "/Users/anachaparrohernandez/opt/anaconda3/envs/clase/lib/python3.7/site-packages/ipykernel_launcher.py:4: DeprecationWarning: executable_path has been deprecated, please pass in a Service object\n",
      "  after removing the cwd from sys.path.\n",
      "/Users/anachaparrohernandez/opt/anaconda3/envs/clase/lib/python3.7/site-packages/ipykernel_launcher.py:4: DeprecationWarning: executable_path has been deprecated, please pass in a Service object\n",
      "  after removing the cwd from sys.path.\n",
      "/Users/anachaparrohernandez/opt/anaconda3/envs/clase/lib/python3.7/site-packages/ipykernel_launcher.py:4: DeprecationWarning: executable_path has been deprecated, please pass in a Service object\n",
      "  after removing the cwd from sys.path.\n",
      "/Users/anachaparrohernandez/opt/anaconda3/envs/clase/lib/python3.7/site-packages/ipykernel_launcher.py:4: DeprecationWarning: executable_path has been deprecated, please pass in a Service object\n",
      "  after removing the cwd from sys.path.\n",
      "/Users/anachaparrohernandez/opt/anaconda3/envs/clase/lib/python3.7/site-packages/ipykernel_launcher.py:4: DeprecationWarning: executable_path has been deprecated, please pass in a Service object\n",
      "  after removing the cwd from sys.path.\n",
      "[Parallel(n_jobs=-1)]: Done   2 out of   5 | elapsed:  1.8min remaining:  2.7min\n",
      "[Parallel(n_jobs=-1)]: Done   5 out of   5 | elapsed:  1.8min finished\n"
     ]
    }
   ],
   "source": [
    "lst_dfpresiontierra=Parallel(n_jobs=-1, verbose=True)(delayed(extraer)(url) for url in urlpresiontierra)"
   ]
  },
  {
   "cell_type": "code",
   "execution_count": 31,
   "id": "9237fc18",
   "metadata": {},
   "outputs": [],
   "source": [
    "lst_dfpresiontierra1=lst_dfpresiontierra.copy()"
   ]
  },
  {
   "cell_type": "code",
   "execution_count": 32,
   "id": "dcbaa453",
   "metadata": {},
   "outputs": [],
   "source": [
    "dfpresiontierra52Week=lst_dfpresiontierra[0].to_csv('../datanosubir/dfpresiontierra52Week.csv', index=False)\n",
    "dfpresiontierra2021=lst_dfpresiontierra[1].to_csv('../datanosubir/dfpresiontierra2021.csv', index=False)\n",
    "dfpresiontierra2020=lst_dfpresiontierra[2].to_csv('../datanosubir/dfpresiontierra2020.csv', index=False)\n",
    "dfpresiontierra2019=lst_dfpresiontierra[3].to_csv('../datanosubir/dfpresiontierra2019.csv', index=False)\n",
    "dfpresiontierra2018=lst_dfpresiontierra[4].to_csv('../datanosubir/dfpresiontierra2018.csv', index=False)"
   ]
  },
  {
   "cell_type": "markdown",
   "id": "5413d20e",
   "metadata": {},
   "source": [
    "#### Scraping de Líderes bajo presión en pista dura."
   ]
  },
  {
   "cell_type": "code",
   "execution_count": 33,
   "id": "47534177",
   "metadata": {},
   "outputs": [],
   "source": [
    "urlpresiondura=[]\n",
    "\n",
    "for i in años:\n",
    "    \n",
    "    urlpresiondura.append(f'https://www.atptour.com/es/stats/leaderboard?boardType=pressure&timeFrame={i}&surface=hard&versusRank=all&formerNo1=false')\n",
    "  "
   ]
  },
  {
   "cell_type": "code",
   "execution_count": 34,
   "id": "f0fe1393",
   "metadata": {},
   "outputs": [
    {
     "name": "stderr",
     "output_type": "stream",
     "text": [
      "[Parallel(n_jobs=-1)]: Using backend LokyBackend with 8 concurrent workers.\n",
      "/Users/anachaparrohernandez/opt/anaconda3/envs/clase/lib/python3.7/site-packages/ipykernel_launcher.py:4: DeprecationWarning: executable_path has been deprecated, please pass in a Service object\n",
      "  after removing the cwd from sys.path.\n",
      "/Users/anachaparrohernandez/opt/anaconda3/envs/clase/lib/python3.7/site-packages/ipykernel_launcher.py:4: DeprecationWarning: executable_path has been deprecated, please pass in a Service object\n",
      "  after removing the cwd from sys.path.\n",
      "/Users/anachaparrohernandez/opt/anaconda3/envs/clase/lib/python3.7/site-packages/ipykernel_launcher.py:4: DeprecationWarning: executable_path has been deprecated, please pass in a Service object\n",
      "  after removing the cwd from sys.path.\n",
      "/Users/anachaparrohernandez/opt/anaconda3/envs/clase/lib/python3.7/site-packages/ipykernel_launcher.py:4: DeprecationWarning: executable_path has been deprecated, please pass in a Service object\n",
      "  after removing the cwd from sys.path.\n",
      "/Users/anachaparrohernandez/opt/anaconda3/envs/clase/lib/python3.7/site-packages/ipykernel_launcher.py:4: DeprecationWarning: executable_path has been deprecated, please pass in a Service object\n",
      "  after removing the cwd from sys.path.\n",
      "[Parallel(n_jobs=-1)]: Done   2 out of   5 | elapsed:  2.1min remaining:  3.2min\n",
      "[Parallel(n_jobs=-1)]: Done   5 out of   5 | elapsed:  2.2min finished\n"
     ]
    }
   ],
   "source": [
    "lst_dfpresiondura=Parallel(n_jobs=-1, verbose=True)(delayed(extraer)(url) for url in urlpresiondura)"
   ]
  },
  {
   "cell_type": "code",
   "execution_count": 35,
   "id": "7b096333",
   "metadata": {},
   "outputs": [],
   "source": [
    "lst_dfpresiondura1=lst_dfpresiondura.copy()"
   ]
  },
  {
   "cell_type": "code",
   "execution_count": 36,
   "id": "4eb00a2c",
   "metadata": {},
   "outputs": [],
   "source": [
    "dfpresiondura52Week=lst_dfpresiondura[0].to_csv('../datanosubir/dfpresiondura52Week.csv', index=False)\n",
    "dfpresiondura2021=lst_dfpresiondura[1].to_csv('../datanosubir/dfpresiondura2021.csv', index=False)\n",
    "dfpresiondura2020=lst_dfpresiondura[2].to_csv('../datanosubir/dfpresiondura2020.csv', index=False)\n",
    "dfpresiondura2019=lst_dfpresiondura[3].to_csv('../datanosubir/dfpresiondura2019.csv', index=False)\n",
    "dfpresiondura2018=lst_dfpresiondura[4].to_csv('../datanosubir/dfpresiondura2018.csv', index=False)"
   ]
  },
  {
   "cell_type": "markdown",
   "id": "202b50f3",
   "metadata": {},
   "source": [
    "#### Scraping de Líderes bajo presión en hierba."
   ]
  },
  {
   "cell_type": "code",
   "execution_count": 37,
   "id": "5263a067",
   "metadata": {},
   "outputs": [],
   "source": [
    "años1=['52Week','2021','2019','2018']\n",
    "\n",
    "urlpresionhierba=[]\n",
    "\n",
    "for i in años1:\n",
    "    \n",
    "    urlpresionhierba.append(f'https://www.atptour.com/es/stats/leaderboard?boardType=pressure&timeFrame={i}&surface=grass&versusRank=all&formerNo1=false')\n",
    "  "
   ]
  },
  {
   "cell_type": "code",
   "execution_count": 38,
   "id": "50bde572",
   "metadata": {},
   "outputs": [
    {
     "name": "stderr",
     "output_type": "stream",
     "text": [
      "[Parallel(n_jobs=-1)]: Using backend LokyBackend with 8 concurrent workers.\n",
      "/Users/anachaparrohernandez/opt/anaconda3/envs/clase/lib/python3.7/site-packages/ipykernel_launcher.py:4: DeprecationWarning: executable_path has been deprecated, please pass in a Service object\n",
      "  after removing the cwd from sys.path.\n",
      "/Users/anachaparrohernandez/opt/anaconda3/envs/clase/lib/python3.7/site-packages/ipykernel_launcher.py:4: DeprecationWarning: executable_path has been deprecated, please pass in a Service object\n",
      "  after removing the cwd from sys.path.\n",
      "/Users/anachaparrohernandez/opt/anaconda3/envs/clase/lib/python3.7/site-packages/ipykernel_launcher.py:4: DeprecationWarning: executable_path has been deprecated, please pass in a Service object\n",
      "  after removing the cwd from sys.path.\n",
      "/Users/anachaparrohernandez/opt/anaconda3/envs/clase/lib/python3.7/site-packages/ipykernel_launcher.py:4: DeprecationWarning: executable_path has been deprecated, please pass in a Service object\n",
      "  after removing the cwd from sys.path.\n",
      "[Parallel(n_jobs=-1)]: Done   4 out of   4 | elapsed:  2.3min remaining:    0.0s\n",
      "[Parallel(n_jobs=-1)]: Done   4 out of   4 | elapsed:  2.3min finished\n"
     ]
    }
   ],
   "source": [
    "lst_dfpresionhierba=Parallel(n_jobs=-1, verbose=True)(delayed(extraer)(url) for url in urlpresionhierba)"
   ]
  },
  {
   "cell_type": "code",
   "execution_count": 39,
   "id": "b51c6b53",
   "metadata": {},
   "outputs": [],
   "source": [
    "lst_dfpresionhierba1=lst_dfpresionhierba.copy()  "
   ]
  },
  {
   "cell_type": "code",
   "execution_count": 40,
   "id": "30127e65",
   "metadata": {},
   "outputs": [],
   "source": [
    "dfpresionhierba52Week=lst_dfpresionhierba[0].to_csv('../datanosubir/dfpresionhierba52Week.csv', index=False)\n",
    "dfpresionhierba2021=lst_dfpresionhierba[1].to_csv('../datanosubir/dfpresionhierba2021.csv', index=False)\n",
    "dfpresionhierba2019=lst_dfpresionhierba[2].to_csv('../datanosubir/dfpresionhierba2019.csv', index=False)\n",
    "dfpresionhierba2018=lst_dfpresionhierba[3].to_csv('../datanosubir/dfpresionhierba2018.csv', index=False)"
   ]
  },
  {
   "cell_type": "markdown",
   "id": "e4787810",
   "metadata": {},
   "source": [
    "### Como no tengo casi datos de los torneos de 2022 en el csv de Kaggle, extraigo datos de resultados de Master 1000 y Grand Slam de la web de la ATP"
   ]
  },
  {
   "cell_type": "markdown",
   "id": "fe5b6589",
   "metadata": {},
   "source": [
    "# Roland Garros"
   ]
  },
  {
   "cell_type": "code",
   "execution_count": 41,
   "id": "3f685d51",
   "metadata": {},
   "outputs": [],
   "source": [
    "urlrg='https://www.atptour.com/es/scores/archive/roland-garros/520/2022/results'"
   ]
  },
  {
   "cell_type": "code",
   "execution_count": 42,
   "id": "ae17bf30",
   "metadata": {},
   "outputs": [],
   "source": [
    "driverrg=webdriver.Chrome(PATH)         \n",
    "\n",
    "driverrg.get(urlrg)"
   ]
  },
  {
   "cell_type": "code",
   "execution_count": 43,
   "id": "02d5cf4c",
   "metadata": {},
   "outputs": [],
   "source": [
    "tabla1=driverrg.find_element(By.XPATH, '//*[@id=\"scoresResultsContent\"]/div/table')\n",
    "\n",
    "filas1=[[e.text for e in f.find_elements(By.CLASS_NAME, 'day-table-name')] \n",
    "        for f in tabla1.find_elements(By.TAG_NAME, 'tr')]"
   ]
  },
  {
   "cell_type": "code",
   "execution_count": 44,
   "id": "cc1cc242",
   "metadata": {},
   "outputs": [],
   "source": [
    "cols = [e.text.split('\\n') for e in driverrg.find_elements(By.TAG_NAME, 'th')]\n",
    "cols\n",
    "\n",
    "driverrg.quit()"
   ]
  },
  {
   "cell_type": "code",
   "execution_count": 45,
   "id": "1b2fe0bd",
   "metadata": {},
   "outputs": [],
   "source": [
    "cols1=['Winner','Loser']"
   ]
  },
  {
   "cell_type": "code",
   "execution_count": 46,
   "id": "500d06ef",
   "metadata": {},
   "outputs": [],
   "source": [
    "rg = pd.DataFrame(filas1, columns=cols1)\n"
   ]
  },
  {
   "cell_type": "code",
   "execution_count": 47,
   "id": "1b2f4cde",
   "metadata": {},
   "outputs": [],
   "source": [
    "def nada(x):\n",
    "    \n",
    "    if x==None:\n",
    "        \n",
    "        return 'Round'\n",
    "    else:\n",
    "        return x"
   ]
  },
  {
   "cell_type": "code",
   "execution_count": 48,
   "id": "7b7a1170",
   "metadata": {},
   "outputs": [],
   "source": [
    "rg.Winner=rg.Winner.apply(nada)"
   ]
  },
  {
   "cell_type": "code",
   "execution_count": 49,
   "id": "057a5f4e",
   "metadata": {},
   "outputs": [],
   "source": [
    "rg.Loser=rg.Loser.apply(nada)"
   ]
  },
  {
   "cell_type": "code",
   "execution_count": 50,
   "id": "9598a212",
   "metadata": {},
   "outputs": [],
   "source": [
    "rg=rg[(rg['Winner'] == 'Carlos Alcaraz') | (rg['Winner'] == 'Casper Ruud')\n",
    "               | (rg['Winner'] == 'Rafael Nadal') | (rg['Winner'] == 'Stefanos Tsitsipas')\n",
    "               | (rg['Winner'] == 'Felix Auger-Aliassime') | (rg['Winner'] == 'Daniil Medvedev')\n",
    "               | (rg['Winner'] == 'Andrey Rublev') | (rg['Winner'] == 'Taylor Fritz')\n",
    "               | (rg['Winner'] == 'Hubert Hurkacz') | (rg['Winner'] == 'Novak Djokovic')\n",
    "               | (rg['Winner'] == 'Holger Rune') | (rg['Winner'] == 'Alexander Zverev')\n",
    "               | (rg['Winner'] == 'Pablo Carreno Busta') | (rg['Winner'] == 'Cameron Norrie')\n",
    "               | (rg['Winner'] == 'Jannik Sinner') | (rg['Winner'] == 'Matteo Berrettini')\n",
    "               | (rg['Winner'] == 'Marin Cilic') | (rg['Winner'] == 'Denis Shapovalov')\n",
    "               | (rg['Winner'] == 'Frances Tiafoe') | (rg['Winner'] == 'Karen Khachanov')\n",
    "               | (rg['Winner'] == 'Roberto Bautista Agut') | (rg['Winner'] == 'Nick Kyrgios')\n",
    "               | (rg['Winner'] == 'Lorenzo Musetti') | (rg['Winner'] == 'Alex de Minaur')\n",
    "               | (rg['Winner'] == 'Diego Schwartzman') | (rg['Winner'] == 'Borna Coric')                                             \n",
    "               | (rg['Winner'] == 'Daniel Evans') | (rg['Winner'] == 'Grigor Dimitrov')\n",
    "               | (rg['Winner'] == 'Miomir Kecmanovic') | (rg['Winner'] == 'Francisco Cerundolo')\n",
    "               | (rg['Winner'] == 'Alejandro Davidovich Fokina') | (rg['Winner'] == 'Tommy Paul')\n",
    "               | (rg['Winner'] == 'Round')]"
   ]
  },
  {
   "cell_type": "code",
   "execution_count": 51,
   "id": "54436295",
   "metadata": {},
   "outputs": [],
   "source": [
    " rg=rg[(rg['Loser'] == 'Carlos Alcaraz') | (rg['Loser'] == 'Casper Ruud')\n",
    "               | (rg['Loser'] == 'Rafael Nadal') | (rg['Loser'] == 'Stefanos Tsitsipas')\n",
    "               | (rg['Loser'] == 'Felix Auger-Aliassime') | (rg['Loser'] == 'Daniil Medvedev')\n",
    "               | (rg['Loser'] == 'Andrey Rublev') | (rg['Loser'] == 'Taylor Fritz')\n",
    "               | (rg['Loser'] == 'Hubert Hurkacz') | (rg['Loser'] == 'Novak Djokovic')\n",
    "               | (rg['Loser'] == 'Holger Rune') | (rg['Loser'] == 'Alexander Zverev')\n",
    "               | (rg['Loser'] == 'Pablo Carreno Busta') | (rg['Loser'] == 'Cameron Norrie')\n",
    "               | (rg['Loser'] == 'Jannik Sinner') | (rg['Loser'] == 'Matteo Berrettini')\n",
    "               | (rg['Loser'] == 'Marin Cilic') | (rg['Loser'] == 'Denis Shapovalov')\n",
    "               | (rg['Loser'] == 'Frances Tiafoe') | (rg['Loser'] == 'Karen Khachanov')\n",
    "               | (rg['Loser'] == 'Frances Tiafoe') | (rg['Loser'] == 'Karen Khachanov')\n",
    "               | (rg['Loser'] == 'Roberto Bautista Agut') | (rg['Loser'] == 'Nick Kyrgios')\n",
    "               | (rg['Loser'] == 'Lorenzo Musetti') | (rg['Loser'] == 'Alex de Minaur')\n",
    "               | (rg['Loser'] == 'Diego Schwartzman') | (rg['Loser'] == 'Borna Coric')                                             \n",
    "               | (rg['Loser'] == 'Daniel Evans') | (rg['Loser'] == 'Grigor Dimitrov')\n",
    "               | (rg['Loser'] == 'Miomir Kecmanovic') | (rg['Loser'] == 'Francisco Cerundolo')\n",
    "               | (rg['Loser'] == 'Alejandro Davidovich Fokina') | (rg['Loser'] == 'Tommy Paul')\n",
    "               | (rg['Loser'] == 'Round')]\n",
    "    "
   ]
  },
  {
   "cell_type": "code",
   "execution_count": 52,
   "id": "d650b833",
   "metadata": {},
   "outputs": [],
   "source": [
    "rg.to_csv('../datanosubir/RolandGarros.csv', index=False)"
   ]
  },
  {
   "cell_type": "markdown",
   "id": "3a60b099",
   "metadata": {},
   "source": [
    "# Wimbledon"
   ]
  },
  {
   "cell_type": "code",
   "execution_count": 53,
   "id": "d5451a7f",
   "metadata": {},
   "outputs": [],
   "source": [
    "urlw='https://www.atptour.com/es/scores/archive/wimbledon/540/2022/results'"
   ]
  },
  {
   "cell_type": "code",
   "execution_count": 54,
   "id": "fbf72e12",
   "metadata": {},
   "outputs": [],
   "source": [
    "driverw=webdriver.Chrome(PATH)         \n",
    "\n",
    "driverw.get(urlw)"
   ]
  },
  {
   "cell_type": "code",
   "execution_count": 55,
   "id": "abbe0f0f",
   "metadata": {},
   "outputs": [],
   "source": [
    "tabla2=driverw.find_element(By.XPATH, '//*[@id=\"scoresResultsContent\"]/div/table')\n",
    "\n",
    "filas2=[[e.text for e in f.find_elements(By.CLASS_NAME, 'day-table-name')] \n",
    "        for f in tabla2.find_elements(By.TAG_NAME, 'tr')]"
   ]
  },
  {
   "cell_type": "code",
   "execution_count": 56,
   "id": "75035d5d",
   "metadata": {},
   "outputs": [],
   "source": [
    "cols2 = [e.text.split('\\n') for e in driverw.find_elements(By.TAG_NAME, 'th')]\n",
    "\n",
    "driverw.quit()"
   ]
  },
  {
   "cell_type": "code",
   "execution_count": 57,
   "id": "4180b5b5",
   "metadata": {},
   "outputs": [],
   "source": [
    "cols2=['Winner','Loser']"
   ]
  },
  {
   "cell_type": "code",
   "execution_count": 58,
   "id": "e1e2d066",
   "metadata": {},
   "outputs": [],
   "source": [
    "w = pd.DataFrame(filas2, columns=cols2)"
   ]
  },
  {
   "cell_type": "code",
   "execution_count": 59,
   "id": "011eee53",
   "metadata": {},
   "outputs": [],
   "source": [
    "w.Winner=w.Winner.apply(nada)"
   ]
  },
  {
   "cell_type": "code",
   "execution_count": 60,
   "id": "59f406e8",
   "metadata": {},
   "outputs": [],
   "source": [
    "w.Loser=w.Loser.apply(nada)"
   ]
  },
  {
   "cell_type": "code",
   "execution_count": 61,
   "id": "f41e6bae",
   "metadata": {},
   "outputs": [],
   "source": [
    "w=w[(w['Winner'] == 'Carlos Alcaraz') | (w['Winner'] == 'Casper Ruud')\n",
    "               | (w['Winner'] == 'Rafael Nadal') | (w['Winner'] == 'Stefanos Tsitsipas')\n",
    "               | (w['Winner'] == 'Felix Auger-Aliassime') | (w['Winner'] == 'Daniil Medvedev')\n",
    "               | (w['Winner'] == 'Andrey Rublev') | (w['Winner'] == 'Taylor Fritz')\n",
    "               | (w['Winner'] == 'Hubert Hurkacz') | (w['Winner'] == 'Novak Djokovic')\n",
    "               | (w['Winner'] == 'Holger Rune') | (w['Winner'] == 'Alexander Zverev')\n",
    "               | (w['Winner'] == 'Pablo Carreno Busta') | (w['Winner'] == 'Cameron Norrie')\n",
    "               | (w['Winner'] == 'Jannik Sinner') | (w['Winner'] == 'Matteo Berrettini')\n",
    "               | (w['Winner'] == 'Marin Cilic') | (w['Winner'] == 'Denis Shapovalov')\n",
    "               | (w['Winner'] == 'Frances Tiafoe') | (w['Winner'] == 'Karen Khachanov')\n",
    "               | (w['Winner'] == 'Roberto Bautista Agut') | (w['Winner'] == 'Nick Kyrgios')\n",
    "               | (w['Winner'] == 'Lorenzo Musetti') | (w['Winner'] == 'Alex de Minaur')\n",
    "               | (w['Winner'] == 'Diego Schwartzman') | (w['Winner'] == 'Borna Coric')                                             \n",
    "               | (w['Winner'] == 'Daniel Evans') | (w['Winner'] == 'Grigor Dimitrov')\n",
    "               | (w['Winner'] == 'Miomir Kecmanovic') | (w['Winner'] == 'Francisco Cerundolo')\n",
    "               | (w['Winner'] == 'Alejandro Davidovich Fokina') | (w['Winner'] == 'Tommy Paul')\n",
    "               | (w['Winner'] == 'Round')]"
   ]
  },
  {
   "cell_type": "code",
   "execution_count": 62,
   "id": "a4cce9f6",
   "metadata": {},
   "outputs": [],
   "source": [
    "w=w[(w['Loser'] == 'Carlos Alcaraz') | (w['Loser'] == 'Casper Ruud')\n",
    "               | (w['Loser'] == 'Rafael Nadal') | (w['Loser'] == 'Stefanos Tsitsipas')\n",
    "               | (w['Loser'] == 'Felix Auger-Aliassime') | (w['Loser'] == 'Daniil Medvedev')\n",
    "               | (w['Loser'] == 'Andrey Rublev') | (w['Loser'] == 'Taylor Fritz')\n",
    "               | (w['Loser'] == 'Hubert Hurkacz') | (w['Loser'] == 'Novak Djokovic')\n",
    "               | (w['Loser'] == 'Holger Rune') | (w['Loser'] == 'Alexander Zverev')\n",
    "               | (w['Loser'] == 'Pablo Carreno Busta') | (w['Loser'] == 'Cameron Norrie')\n",
    "               | (w['Loser'] == 'Jannik Sinner') | (w['Loser'] == 'Matteo Berrettini')\n",
    "               | (w['Loser'] == 'Marin Cilic') | (w['Loser'] == 'Denis Shapovalov')\n",
    "               | (w['Loser'] == 'Frances Tiafoe') | (w['Loser'] == 'Karen Khachanov')\n",
    "               | (w['Loser'] == 'Frances Tiafoe') | (w['Loser'] == 'Karen Khachanov')\n",
    "               | (w['Loser'] == 'Roberto Bautista Agut') | (w['Loser'] == 'Nick Kyrgios')\n",
    "               | (w['Loser'] == 'Lorenzo Musetti') | (w['Loser'] == 'Alex de Minaur')\n",
    "               | (w['Loser'] == 'Diego Schwartzman') | (w['Loser'] == 'Borna Coric')                                             \n",
    "               | (w['Loser'] == 'Daniel Evans') | (w['Loser'] == 'Grigor Dimitrov')\n",
    "               | (w['Loser'] == 'Miomir Kecmanovic') | (w['Loser'] == 'Francisco Cerundolo')\n",
    "               | (w['Loser'] == 'Alejandro Davidovich Fokina') | (w['Loser'] == 'Tommy Paul')\n",
    "               | (w['Loser'] == 'Round')]\n",
    "    "
   ]
  },
  {
   "cell_type": "code",
   "execution_count": 63,
   "id": "dfeac4aa",
   "metadata": {},
   "outputs": [],
   "source": [
    "w.to_csv('../datanosubir/Winbledon.csv', index=False)"
   ]
  },
  {
   "cell_type": "markdown",
   "id": "a66624bb",
   "metadata": {},
   "source": [
    "# US Open"
   ]
  },
  {
   "cell_type": "code",
   "execution_count": 64,
   "id": "e3472b15",
   "metadata": {},
   "outputs": [],
   "source": [
    "urlus='https://www.atptour.com/es/scores/archive/us-open/560/2022/results'"
   ]
  },
  {
   "cell_type": "code",
   "execution_count": 65,
   "id": "b3007336",
   "metadata": {},
   "outputs": [],
   "source": [
    "driverus=webdriver.Chrome(PATH)         \n",
    "\n",
    "driverus.get(urlus)"
   ]
  },
  {
   "cell_type": "code",
   "execution_count": 66,
   "id": "2e33a908",
   "metadata": {},
   "outputs": [],
   "source": [
    "tabla3=driverus.find_element(By.XPATH, '//*[@id=\"scoresResultsContent\"]/div/table')\n",
    "\n",
    "filas3=[[e.text for e in f.find_elements(By.CLASS_NAME, 'day-table-name')] \n",
    "        for f in tabla3.find_elements(By.TAG_NAME, 'tr')]"
   ]
  },
  {
   "cell_type": "code",
   "execution_count": 67,
   "id": "4ecbedd5",
   "metadata": {},
   "outputs": [],
   "source": [
    "cols3 = [e.text.split('\\n') for e in driverus.find_elements(By.TAG_NAME, 'th')]\n",
    "\n",
    "driverus.quit()"
   ]
  },
  {
   "cell_type": "code",
   "execution_count": 68,
   "id": "b8f82328",
   "metadata": {},
   "outputs": [],
   "source": [
    "cols3=['Winner','Loser']"
   ]
  },
  {
   "cell_type": "code",
   "execution_count": 69,
   "id": "f99b7f02",
   "metadata": {},
   "outputs": [],
   "source": [
    "us = pd.DataFrame(filas3, columns=cols3)"
   ]
  },
  {
   "cell_type": "code",
   "execution_count": 70,
   "id": "462a4b86",
   "metadata": {},
   "outputs": [],
   "source": [
    "us.Winner=us.Winner.apply(nada)"
   ]
  },
  {
   "cell_type": "code",
   "execution_count": 71,
   "id": "178f6eb5",
   "metadata": {},
   "outputs": [],
   "source": [
    "us.Loser=us.Loser.apply(nada)"
   ]
  },
  {
   "cell_type": "code",
   "execution_count": 72,
   "id": "e6139de3",
   "metadata": {},
   "outputs": [],
   "source": [
    "us=us[(us['Winner'] == 'Carlos Alcaraz') | (us['Winner'] == 'Casper Ruud')\n",
    "               | (us['Winner'] == 'Rafael Nadal') | (us['Winner'] == 'Stefanos Tsitsipas')\n",
    "               | (us['Winner'] == 'Felix Auger-Aliassime') | (us['Winner'] == 'Daniil Medvedev')\n",
    "               | (us['Winner'] == 'Andrey Rublev') | (us['Winner'] == 'Taylor Fritz')\n",
    "               | (us['Winner'] == 'Hubert Hurkacz') | (us['Winner'] == 'Novak Djokovic')\n",
    "               | (us['Winner'] == 'Holger Rune') | (us['Winner'] == 'Alexander Zverev')\n",
    "               | (us['Winner'] == 'Pablo Carreno Busta') | (us['Winner'] == 'Cameron Norrie')\n",
    "               | (us['Winner'] == 'Jannik Sinner') | (us['Winner'] == 'Matteo Berrettini')\n",
    "               | (us['Winner'] == 'Marin Cilic') | (us['Winner'] == 'Denis Shapovalov')\n",
    "               | (us['Winner'] == 'Frances Tiafoe') | (us['Winner'] == 'Karen Khachanov')\n",
    "               | (us['Winner'] == 'Roberto Bautista Agut') | (us['Winner'] == 'Nick Kyrgios')\n",
    "               | (us['Winner'] == 'Lorenzo Musetti') | (us['Winner'] == 'Alex de Minaur')\n",
    "               | (us['Winner'] == 'Diego Schwartzman') | (us['Winner'] == 'Borna Coric')                                             \n",
    "               | (us['Winner'] == 'Daniel Evans') | (us['Winner'] == 'Grigor Dimitrov')\n",
    "               | (us['Winner'] == 'Miomir Kecmanovic') | (us['Winner'] == 'Francisco Cerundolo')\n",
    "               | (us['Winner'] == 'Alejandro Davidovich Fokina') | (us['Winner'] == 'Tommy Paul')\n",
    "               | (us['Winner'] == 'Round')]"
   ]
  },
  {
   "cell_type": "code",
   "execution_count": 73,
   "id": "5bb38ca9",
   "metadata": {},
   "outputs": [],
   "source": [
    "us=us[(us['Loser'] == 'Carlos Alcaraz') | (us['Loser'] == 'Casper Ruud')\n",
    "               | (us['Loser'] == 'Rafael Nadal') | (us['Loser'] == 'Stefanos Tsitsipas')\n",
    "               | (us['Loser'] == 'Felix Auger-Aliassime') | (us['Loser'] == 'Daniil Medvedev')\n",
    "               | (us['Loser'] == 'Andrey Rublev') | (us['Loser'] == 'Taylor Fritz')\n",
    "               | (us['Loser'] == 'Hubert Hurkacz') | (us['Loser'] == 'Novak Djokovic')\n",
    "               | (us['Loser'] == 'Holger Rune') | (us['Loser'] == 'Alexander Zverev')\n",
    "               | (us['Loser'] == 'Pablo Carreno Busta') | (us['Loser'] == 'Cameron Norrie')\n",
    "               | (us['Loser'] == 'Jannik Sinner') | (us['Loser'] == 'Matteo Berrettini')\n",
    "               | (us['Loser'] == 'Marin Cilic') | (us['Loser'] == 'Denis Shapovalov')\n",
    "               | (us['Loser'] == 'Frances Tiafoe') | (us['Loser'] == 'Karen Khachanov')\n",
    "               | (us['Loser'] == 'Frances Tiafoe') | (us['Loser'] == 'Karen Khachanov')\n",
    "               | (us['Loser'] == 'Roberto Bautista Agut') | (us['Loser'] == 'Nick Kyrgios')\n",
    "               | (us['Loser'] == 'Lorenzo Musetti') | (us['Loser'] == 'Alex de Minaur')\n",
    "               | (us['Loser'] == 'Diego Schwartzman') | (us['Loser'] == 'Borna Coric')                                             \n",
    "               | (us['Loser'] == 'Daniel Evans') | (us['Loser'] == 'Grigor Dimitrov')\n",
    "               | (us['Loser'] == 'Miomir Kecmanovic') | (us['Loser'] == 'Francisco Cerundolo')\n",
    "               | (us['Loser'] == 'Alejandro Davidovich Fokina') | (us['Loser'] == 'Tommy Paul')\n",
    "               | (us['Loser'] == 'Round')]"
   ]
  },
  {
   "cell_type": "code",
   "execution_count": 74,
   "id": "9e1f2d55",
   "metadata": {},
   "outputs": [],
   "source": [
    "us.to_csv('../datanosubir/USOpen.csv', index=False)"
   ]
  },
  {
   "cell_type": "markdown",
   "id": "e0dce47b",
   "metadata": {},
   "source": [
    "# Indian Wells"
   ]
  },
  {
   "cell_type": "code",
   "execution_count": 75,
   "id": "fcca3051",
   "metadata": {},
   "outputs": [],
   "source": [
    "urliw='https://www.atptour.com/es/scores/archive/indian-wells/404/2022/results'"
   ]
  },
  {
   "cell_type": "code",
   "execution_count": 76,
   "id": "d54aafe2",
   "metadata": {},
   "outputs": [],
   "source": [
    "driveriw=webdriver.Chrome(PATH)         \n",
    "\n",
    "driveriw.get(urliw)"
   ]
  },
  {
   "cell_type": "code",
   "execution_count": 77,
   "id": "8d3dd3d5",
   "metadata": {},
   "outputs": [],
   "source": [
    "tabla4=driveriw.find_element(By.XPATH, '//*[@id=\"scoresResultsContent\"]/div/table')\n",
    "\n",
    "filas4=[[e.text for e in f.find_elements(By.CLASS_NAME, 'day-table-name')] \n",
    "        for f in tabla4.find_elements(By.TAG_NAME, 'tr')]"
   ]
  },
  {
   "cell_type": "code",
   "execution_count": 78,
   "id": "6cc9d6c2",
   "metadata": {},
   "outputs": [],
   "source": [
    "cols4 = [e.text.split('\\n') for e in driveriw.find_elements(By.TAG_NAME, 'th')]\n",
    "\n",
    "driveriw.quit()"
   ]
  },
  {
   "cell_type": "code",
   "execution_count": 79,
   "id": "f9a15597",
   "metadata": {},
   "outputs": [],
   "source": [
    "cols4=['Winner','Loser']"
   ]
  },
  {
   "cell_type": "code",
   "execution_count": 80,
   "id": "42f4226b",
   "metadata": {},
   "outputs": [],
   "source": [
    "iw = pd.DataFrame(filas4, columns=cols4)"
   ]
  },
  {
   "cell_type": "code",
   "execution_count": 81,
   "id": "82d6783f",
   "metadata": {},
   "outputs": [],
   "source": [
    "iw.Winner=iw.Winner.apply(nada)"
   ]
  },
  {
   "cell_type": "code",
   "execution_count": 82,
   "id": "b54818a3",
   "metadata": {},
   "outputs": [],
   "source": [
    "iw.Loser=iw.Loser.apply(nada)"
   ]
  },
  {
   "cell_type": "code",
   "execution_count": 83,
   "id": "a4fd2357",
   "metadata": {},
   "outputs": [],
   "source": [
    "iw=iw[(iw['Winner'] == 'Carlos Alcaraz') | (iw['Winner'] == 'Casper Ruud')\n",
    "               | (iw['Winner'] == 'Rafael Nadal') | (iw['Winner'] == 'Stefanos Tsitsipas')\n",
    "               | (iw['Winner'] == 'Felix Auger-Aliassime') | (iw['Winner'] == 'Daniil Medvedev')\n",
    "               | (iw['Winner'] == 'Andrey Rublev') | (iw['Winner'] == 'Taylor Fritz')\n",
    "               | (iw['Winner'] == 'Hubert Hurkacz') | (iw['Winner'] == 'Novak Djokovic')\n",
    "               | (iw['Winner'] == 'Holger Rune') | (iw['Winner'] == 'Alexander Zverev')\n",
    "               | (iw['Winner'] == 'Pablo Carreno Busta') | (iw['Winner'] == 'Cameron Norrie')\n",
    "               | (iw['Winner'] == 'Jannik Sinner') | (iw['Winner'] == 'Matteo Berrettini')\n",
    "               | (iw['Winner'] == 'Marin Cilic') | (iw['Winner'] == 'Denis Shapovalov')\n",
    "               | (iw['Winner'] == 'Frances Tiafoe') | (iw['Winner'] == 'Karen Khachanov')\n",
    "               | (iw['Winner'] == 'Roberto Bautista Agut') | (iw['Winner'] == 'Nick Kyrgios')\n",
    "               | (iw['Winner'] == 'Lorenzo Musetti') | (iw['Winner'] == 'Alex de Minaur')\n",
    "               | (iw['Winner'] == 'Diego Schwartzman') | (iw['Winner'] == 'Borna Coric')                                             \n",
    "               | (iw['Winner'] == 'Daniel Evans') | (iw['Winner'] == 'Grigor Dimitrov')\n",
    "               | (iw['Winner'] == 'Miomir Kecmanovic') | (iw['Winner'] == 'Francisco Cerundolo')\n",
    "               | (iw['Winner'] == 'Alejandro Davidovich Fokina') | (iw['Winner'] == 'Tommy Paul')\n",
    "               | (iw['Winner'] == 'Round')]"
   ]
  },
  {
   "cell_type": "code",
   "execution_count": 84,
   "id": "28092c9d",
   "metadata": {},
   "outputs": [],
   "source": [
    "iw=iw[(iw['Loser'] == 'Carlos Alcaraz') | (iw['Loser'] == 'Casper Ruud')\n",
    "               | (iw['Loser'] == 'Rafael Nadal') | (iw['Loser'] == 'Stefanos Tsitsipas')\n",
    "               | (iw['Loser'] == 'Felix Auger-Aliassime') | (iw['Loser'] == 'Daniil Medvedev')\n",
    "               | (iw['Loser'] == 'Andrey Rublev') | (iw['Loser'] == 'Taylor Fritz')\n",
    "               | (iw['Loser'] == 'Hubert Hurkacz') | (iw['Loser'] == 'Novak Djokovic')\n",
    "               | (iw['Loser'] == 'Holger Rune') | (iw['Loser'] == 'Alexander Zverev')\n",
    "               | (iw['Loser'] == 'Pablo Carreno Busta') | (iw['Loser'] == 'Cameron Norrie')\n",
    "               | (iw['Loser'] == 'Jannik Sinner') | (iw['Loser'] == 'Matteo Berrettini')\n",
    "               | (iw['Loser'] == 'Marin Cilic') | (iw['Loser'] == 'Denis Shapovalov')\n",
    "               | (iw['Loser'] == 'Frances Tiafoe') | (iw['Loser'] == 'Karen Khachanov')\n",
    "               | (iw['Loser'] == 'Frances Tiafoe') | (iw['Loser'] == 'Karen Khachanov')\n",
    "               | (iw['Loser'] == 'Roberto Bautista Agut') | (iw['Loser'] == 'Nick Kyrgios')\n",
    "               | (iw['Loser'] == 'Lorenzo Musetti') | (iw['Loser'] == 'Alex de Minaur')\n",
    "               | (iw['Loser'] == 'Diego Schwartzman') | (iw['Loser'] == 'Borna Coric')                                             \n",
    "               | (iw['Loser'] == 'Daniel Evans') | (iw['Loser'] == 'Grigor Dimitrov')\n",
    "               | (iw['Loser'] == 'Miomir Kecmanovic') | (iw['Loser'] == 'Francisco Cerundolo')\n",
    "               | (iw['Loser'] == 'Alejandro Davidovich Fokina') | (iw['Loser'] == 'Tommy Paul')\n",
    "               | (iw['Loser'] == 'Round')]"
   ]
  },
  {
   "cell_type": "code",
   "execution_count": 85,
   "id": "8f3076b9",
   "metadata": {},
   "outputs": [],
   "source": [
    "iw.to_csv('../datanosubir/IndianWells.csv', index=False)"
   ]
  },
  {
   "cell_type": "markdown",
   "id": "84de81d1",
   "metadata": {},
   "source": [
    "# Miami Open"
   ]
  },
  {
   "cell_type": "code",
   "execution_count": 86,
   "id": "4146b941",
   "metadata": {},
   "outputs": [],
   "source": [
    "urlmo='https://www.atptour.com/es/scores/archive/miami/403/2022/results'"
   ]
  },
  {
   "cell_type": "code",
   "execution_count": 87,
   "id": "15abca36",
   "metadata": {},
   "outputs": [],
   "source": [
    "drivermo=webdriver.Chrome(PATH)         \n",
    "\n",
    "drivermo.get(urlmo)"
   ]
  },
  {
   "cell_type": "code",
   "execution_count": 88,
   "id": "e283ec31",
   "metadata": {},
   "outputs": [],
   "source": [
    "tabla5=drivermo.find_element(By.XPATH, '//*[@id=\"scoresResultsContent\"]/div/table')\n",
    "\n",
    "filas5=[[e.text for e in f.find_elements(By.CLASS_NAME, 'day-table-name')] \n",
    "        for f in tabla5.find_elements(By.TAG_NAME, 'tr')]"
   ]
  },
  {
   "cell_type": "code",
   "execution_count": 89,
   "id": "8bf6b2a6",
   "metadata": {},
   "outputs": [],
   "source": [
    "cols5 = [e.text.split('\\n') for e in drivermo.find_elements(By.TAG_NAME, 'th')]\n",
    "\n",
    "drivermo.quit()"
   ]
  },
  {
   "cell_type": "code",
   "execution_count": 90,
   "id": "b11f86f2",
   "metadata": {},
   "outputs": [],
   "source": [
    "cols5=['Winner','Loser']"
   ]
  },
  {
   "cell_type": "code",
   "execution_count": 91,
   "id": "538848bd",
   "metadata": {},
   "outputs": [],
   "source": [
    "mo = pd.DataFrame(filas5, columns=cols5)"
   ]
  },
  {
   "cell_type": "code",
   "execution_count": 92,
   "id": "75abf4ec",
   "metadata": {},
   "outputs": [],
   "source": [
    "mo.Winner=mo.Winner.apply(nada)"
   ]
  },
  {
   "cell_type": "code",
   "execution_count": 93,
   "id": "fc1c81eb",
   "metadata": {},
   "outputs": [],
   "source": [
    "mo.Loser=mo.Loser.apply(nada)"
   ]
  },
  {
   "cell_type": "code",
   "execution_count": 94,
   "id": "69625aff",
   "metadata": {},
   "outputs": [],
   "source": [
    "mo=mo[(mo['Winner'] == 'Carlos Alcaraz') | (mo['Winner'] == 'Casper Ruud')\n",
    "               | (mo['Winner'] == 'Rafael Nadal') | (mo['Winner'] == 'Stefanos Tsitsipas')\n",
    "               | (mo['Winner'] == 'Felix Auger-Aliassime') | (mo['Winner'] == 'Daniil Medvedev')\n",
    "               | (mo['Winner'] == 'Andrey Rublev') | (mo['Winner'] == 'Taylor Fritz')\n",
    "               | (mo['Winner'] == 'Hubert Hurkacz') | (mo['Winner'] == 'Novak Djokovic')\n",
    "               | (mo['Winner'] == 'Holger Rune') | (mo['Winner'] == 'Alexander Zverev')\n",
    "               | (mo['Winner'] == 'Pablo Carreno Busta') | (mo['Winner'] == 'Cameron Norrie')\n",
    "               | (mo['Winner'] == 'Jannik Sinner') | (mo['Winner'] == 'Matteo Berrettini')\n",
    "               | (mo['Winner'] == 'Marin Cilic') | (mo['Winner'] == 'Denis Shapovalov')\n",
    "               | (mo['Winner'] == 'Frances Tiafoe') | (mo['Winner'] == 'Karen Khachanov')\n",
    "               | (mo['Winner'] == 'Roberto Bautista Agut') | (mo['Winner'] == 'Nick Kyrgios')\n",
    "               | (mo['Winner'] == 'Lorenzo Musetti') | (mo['Winner'] == 'Alex de Minaur')\n",
    "               | (mo['Winner'] == 'Diego Schwartzman') | (mo['Winner'] == 'Borna Coric')                                             \n",
    "               | (mo['Winner'] == 'Daniel Evans') | (mo['Winner'] == 'Grigor Dimitrov')\n",
    "               | (mo['Winner'] == 'Miomir Kecmanovic') | (mo['Winner'] == 'Francisco Cerundolo')\n",
    "               | (mo['Winner'] == 'Alejandro Davidovich Fokina') | (mo['Winner'] == 'Tommy Paul')\n",
    "               | (mo['Winner'] == 'Round')]"
   ]
  },
  {
   "cell_type": "code",
   "execution_count": 95,
   "id": "b29018e6",
   "metadata": {},
   "outputs": [],
   "source": [
    "mo=mo[(mo['Loser'] == 'Carlos Alcaraz') | (mo['Loser'] == 'Casper Ruud')\n",
    "               | (mo['Loser'] == 'Rafael Nadal') | (mo['Loser'] == 'Stefanos Tsitsipas')\n",
    "               | (mo['Loser'] == 'Felix Auger-Aliassime') | (mo['Loser'] == 'Daniil Medvedev')\n",
    "               | (mo['Loser'] == 'Andrey Rublev') | (mo['Loser'] == 'Taylor Fritz')\n",
    "               | (mo['Loser'] == 'Hubert Hurkacz') | (mo['Loser'] == 'Novak Djokovic')\n",
    "               | (mo['Loser'] == 'Holger Rune') | (mo['Loser'] == 'Alexander Zverev')\n",
    "               | (mo['Loser'] == 'Pablo Carreno Busta') | (mo['Loser'] == 'Cameron Norrie')\n",
    "               | (mo['Loser'] == 'Jannik Sinner') | (mo['Loser'] == 'Matteo Berrettini')\n",
    "               | (mo['Loser'] == 'Marin Cilic') | (mo['Loser'] == 'Denis Shapovalov')\n",
    "               | (mo['Loser'] == 'Frances Tiafoe') | (mo['Loser'] == 'Karen Khachanov')\n",
    "               | (mo['Loser'] == 'Frances Tiafoe') | (mo['Loser'] == 'Karen Khachanov')\n",
    "               | (mo['Loser'] == 'Roberto Bautista Agut') | (mo['Loser'] == 'Nick Kyrgios')\n",
    "               | (mo['Loser'] == 'Lorenzo Musetti') | (mo['Loser'] == 'Alex de Minaur')\n",
    "               | (mo['Loser'] == 'Diego Schwartzman') | (mo['Loser'] == 'Borna Coric')                                             \n",
    "               | (mo['Loser'] == 'Daniel Evans') | (mo['Loser'] == 'Grigor Dimitrov')\n",
    "               | (mo['Loser'] == 'Miomir Kecmanovic') | (mo['Loser'] == 'Francisco Cerundolo')\n",
    "               | (mo['Loser'] == 'Alejandro Davidovich Fokina') | (mo['Loser'] == 'Tommy Paul')\n",
    "               | (mo['Loser'] == 'Round')]"
   ]
  },
  {
   "cell_type": "code",
   "execution_count": 96,
   "id": "1c31321f",
   "metadata": {},
   "outputs": [],
   "source": [
    "mo.to_csv('../datanosubir/MiamiOpen.csv', index=False)"
   ]
  },
  {
   "cell_type": "markdown",
   "id": "4b7f1bdd",
   "metadata": {},
   "source": [
    "# Motecarlo Masters"
   ]
  },
  {
   "cell_type": "code",
   "execution_count": 97,
   "id": "d808db50",
   "metadata": {},
   "outputs": [],
   "source": [
    "urlmc='https://www.atptour.com/es/scores/archive/monte-carlo/410/2022/results'"
   ]
  },
  {
   "cell_type": "code",
   "execution_count": 98,
   "id": "76feeb50",
   "metadata": {},
   "outputs": [],
   "source": [
    "drivermc=webdriver.Chrome(PATH)         \n",
    "\n",
    "drivermc.get(urlmc)"
   ]
  },
  {
   "cell_type": "code",
   "execution_count": 99,
   "id": "de541846",
   "metadata": {},
   "outputs": [],
   "source": [
    "tabla6=drivermc.find_element(By.XPATH, '//*[@id=\"scoresResultsContent\"]/div/table')\n",
    "\n",
    "filas6=[[e.text for e in f.find_elements(By.CLASS_NAME, 'day-table-name')] \n",
    "        for f in tabla6.find_elements(By.TAG_NAME, 'tr')]"
   ]
  },
  {
   "cell_type": "code",
   "execution_count": 100,
   "id": "9a09edab",
   "metadata": {},
   "outputs": [],
   "source": [
    "cols6 = [e.text.split('\\n') for e in drivermc.find_elements(By.TAG_NAME, 'th')]\n",
    "\n",
    "drivermc.quit()"
   ]
  },
  {
   "cell_type": "code",
   "execution_count": 101,
   "id": "4d9e5122",
   "metadata": {},
   "outputs": [],
   "source": [
    "cols6=['Winner','Loser']"
   ]
  },
  {
   "cell_type": "code",
   "execution_count": 102,
   "id": "4365006d",
   "metadata": {},
   "outputs": [],
   "source": [
    "mc = pd.DataFrame(filas6, columns=cols6)"
   ]
  },
  {
   "cell_type": "code",
   "execution_count": 103,
   "id": "3e4d33f7",
   "metadata": {},
   "outputs": [],
   "source": [
    "mc.Winner=mc.Winner.apply(nada)"
   ]
  },
  {
   "cell_type": "code",
   "execution_count": 104,
   "id": "d637f00a",
   "metadata": {},
   "outputs": [],
   "source": [
    "mc.Loser=mc.Loser.apply(nada)"
   ]
  },
  {
   "cell_type": "code",
   "execution_count": 105,
   "id": "37cc1341",
   "metadata": {},
   "outputs": [],
   "source": [
    "mc=mc[(mc['Winner'] == 'Carlos Alcaraz') | (mc['Winner'] == 'Casper Ruud')\n",
    "               | (mc['Winner'] == 'Rafael Nadal') | (mc['Winner'] == 'Stefanos Tsitsipas')\n",
    "               | (mc['Winner'] == 'Felix Auger-Aliassime') | (mc['Winner'] == 'Daniil Medvedev')\n",
    "               | (mc['Winner'] == 'Andrey Rublev') | (mc['Winner'] == 'Taylor Fritz')\n",
    "               | (mc['Winner'] == 'Hubert Hurkacz') | (mc['Winner'] == 'Novak Djokovic')\n",
    "               | (mc['Winner'] == 'Holger Rune') | (mc['Winner'] == 'Alexander Zverev')\n",
    "               | (mc['Winner'] == 'Pablo Carreno Busta') | (mc['Winner'] == 'Cameron Norrie')\n",
    "               | (mc['Winner'] == 'Jannik Sinner') | (mc['Winner'] == 'Matteo Berrettini')\n",
    "               | (mc['Winner'] == 'Marin Cilic') | (mc['Winner'] == 'Denis Shapovalov')\n",
    "               | (mc['Winner'] == 'Frances Tiafoe') | (mc['Winner'] == 'Karen Khachanov')\n",
    "               | (mc['Winner'] == 'Roberto Bautista Agut') | (mc['Winner'] == 'Nick Kyrgios')\n",
    "               | (mc['Winner'] == 'Lorenzo Musetti') | (mc['Winner'] == 'Alex de Minaur')\n",
    "               | (mc['Winner'] == 'Diego Schwartzman') | (mc['Winner'] == 'Borna Coric')                                             \n",
    "               | (mc['Winner'] == 'Daniel Evans') | (mc['Winner'] == 'Grigor Dimitrov')\n",
    "               | (mc['Winner'] == 'Miomir Kecmanovic') | (mc['Winner'] == 'Francisco Cerundolo')\n",
    "               | (mc['Winner'] == 'Alejandro Davidovich Fokina') | (mc['Winner'] == 'Tommy Paul')\n",
    "               | (mc['Winner'] == 'Round')]"
   ]
  },
  {
   "cell_type": "code",
   "execution_count": 106,
   "id": "8222acbd",
   "metadata": {},
   "outputs": [],
   "source": [
    "mc=mc[(mc['Loser'] == 'Carlos Alcaraz') | (mc['Loser'] == 'Casper Ruud')\n",
    "               | (mc['Loser'] == 'Rafael Nadal') | (mc['Loser'] == 'Stefanos Tsitsipas')\n",
    "               | (mc['Loser'] == 'Felix Auger-Aliassime') | (mc['Loser'] == 'Daniil Medvedev')\n",
    "               | (mc['Loser'] == 'Andrey Rublev') | (mc['Loser'] == 'Taylor Fritz')\n",
    "               | (mc['Loser'] == 'Hubert Hurkacz') | (mc['Loser'] == 'Novak Djokovic')\n",
    "               | (mc['Loser'] == 'Holger Rune') | (mc['Loser'] == 'Alexander Zverev')\n",
    "               | (mc['Loser'] == 'Pablo Carreno Busta') | (mc['Loser'] == 'Cameron Norrie')\n",
    "               | (mc['Loser'] == 'Jannik Sinner') | (mc['Loser'] == 'Matteo Berrettini')\n",
    "               | (mc['Loser'] == 'Marin Cilic') | (mc['Loser'] == 'Denis Shapovalov')\n",
    "               | (mc['Loser'] == 'Frances Tiafoe') | (mc['Loser'] == 'Karen Khachanov')\n",
    "               | (mc['Loser'] == 'Frances Tiafoe') | (mc['Loser'] == 'Karen Khachanov')\n",
    "               | (mc['Loser'] == 'Roberto Bautista Agut') | (mc['Loser'] == 'Nick Kyrgios')\n",
    "               | (mc['Loser'] == 'Lorenzo Musetti') | (mc['Loser'] == 'Alex de Minaur')\n",
    "               | (mc['Loser'] == 'Diego Schwartzman') | (mc['Loser'] == 'Borna Coric')                                             \n",
    "               | (mc['Loser'] == 'Daniel Evans') | (mc['Loser'] == 'Grigor Dimitrov')\n",
    "               | (mc['Loser'] == 'Miomir Kecmanovic') | (mc['Loser'] == 'Francisco Cerundolo')\n",
    "               | (mc['Loser'] == 'Alejandro Davidovich Fokina') | (mc['Loser'] == 'Tommy Paul')\n",
    "               | (mc['Loser'] == 'Round')]"
   ]
  },
  {
   "cell_type": "code",
   "execution_count": 107,
   "id": "2b6f55c7",
   "metadata": {},
   "outputs": [],
   "source": [
    "mc.to_csv('../datanosubir/MonteCarloOpen.csv', index=False)"
   ]
  },
  {
   "cell_type": "markdown",
   "id": "d65f2a1a",
   "metadata": {},
   "source": [
    "# Mutua Madrid Open"
   ]
  },
  {
   "cell_type": "code",
   "execution_count": 108,
   "id": "3dd80922",
   "metadata": {},
   "outputs": [],
   "source": [
    "urlmm='https://www.atptour.com/es/scores/archive/madrid/1536/2022/results'"
   ]
  },
  {
   "cell_type": "code",
   "execution_count": 109,
   "id": "4f26fb05",
   "metadata": {},
   "outputs": [],
   "source": [
    "drivermm=webdriver.Chrome(PATH)         \n",
    "\n",
    "drivermm.get(urlmm)"
   ]
  },
  {
   "cell_type": "code",
   "execution_count": 110,
   "id": "f1cd0e53",
   "metadata": {},
   "outputs": [],
   "source": [
    "tabla7=drivermm.find_element(By.XPATH, '//*[@id=\"scoresResultsContent\"]/div/table')\n",
    "\n",
    "filas7=[[e.text for e in f.find_elements(By.CLASS_NAME, 'day-table-name')] \n",
    "        for f in tabla7.find_elements(By.TAG_NAME, 'tr')]"
   ]
  },
  {
   "cell_type": "code",
   "execution_count": 111,
   "id": "358aa568",
   "metadata": {},
   "outputs": [],
   "source": [
    "cols7 = [e.text.split('\\n') for e in drivermm.find_elements(By.TAG_NAME, 'th')]\n",
    "\n",
    "drivermm.quit()"
   ]
  },
  {
   "cell_type": "code",
   "execution_count": 112,
   "id": "58016b26",
   "metadata": {},
   "outputs": [],
   "source": [
    "cols7=['Winner','Loser']"
   ]
  },
  {
   "cell_type": "code",
   "execution_count": 113,
   "id": "23ba5817",
   "metadata": {},
   "outputs": [],
   "source": [
    "mm = pd.DataFrame(filas7, columns=cols7)"
   ]
  },
  {
   "cell_type": "code",
   "execution_count": 114,
   "id": "22120e4a",
   "metadata": {},
   "outputs": [],
   "source": [
    "mm.Winner=mm.Winner.apply(nada)"
   ]
  },
  {
   "cell_type": "code",
   "execution_count": 115,
   "id": "b956bf6d",
   "metadata": {},
   "outputs": [],
   "source": [
    "mm.Loser=mm.Loser.apply(nada)"
   ]
  },
  {
   "cell_type": "code",
   "execution_count": 116,
   "id": "6a7d3458",
   "metadata": {},
   "outputs": [],
   "source": [
    "mm=mm[(mm['Winner'] == 'Carlos Alcaraz') | (mm['Winner'] == 'Casper Ruud')\n",
    "               | (mm['Winner'] == 'Rafael Nadal') | (mm['Winner'] == 'Stefanos Tsitsipas')\n",
    "               | (mm['Winner'] == 'Felix Auger-Aliassime') | (mm['Winner'] == 'Daniil Medvedev')\n",
    "               | (mm['Winner'] == 'Andrey Rublev') | (mm['Winner'] == 'Taylor Fritz')\n",
    "               | (mm['Winner'] == 'Hubert Hurkacz') | (mm['Winner'] == 'Novak Djokovic')\n",
    "               | (mm['Winner'] == 'Holger Rune') | (mm['Winner'] == 'Alexander Zverev')\n",
    "               | (mm['Winner'] == 'Pablo Carreno Busta') | (mm['Winner'] == 'Cameron Norrie')\n",
    "               | (mm['Winner'] == 'Jannik Sinner') | (mm['Winner'] == 'Matteo Berrettini')\n",
    "               | (mm['Winner'] == 'Marin Cilic') | (mm['Winner'] == 'Denis Shapovalov')\n",
    "               | (mm['Winner'] == 'Frances Tiafoe') | (mm['Winner'] == 'Karen Khachanov')\n",
    "               | (mm['Winner'] == 'Roberto Bautista Agut') | (mm['Winner'] == 'Nick Kyrgios')\n",
    "               | (mm['Winner'] == 'Lorenzo Musetti') | (mm['Winner'] == 'Alex de Minaur')\n",
    "               | (mm['Winner'] == 'Diego Schwartzman') | (mm['Winner'] == 'Borna Coric')                                             \n",
    "               | (mm['Winner'] == 'Daniel Evans') | (mm['Winner'] == 'Grigor Dimitrov')\n",
    "               | (mm['Winner'] == 'Miomir Kecmanovic') | (mm['Winner'] == 'Francisco Cerundolo')\n",
    "               | (mm['Winner'] == 'Alejandro Davidovich Fokina') | (mm['Winner'] == 'Tommy Paul')\n",
    "               | (mm['Winner'] == 'Round')]"
   ]
  },
  {
   "cell_type": "code",
   "execution_count": 117,
   "id": "e0cf527e",
   "metadata": {},
   "outputs": [],
   "source": [
    "mm=mm[(mm['Loser'] == 'Carlos Alcaraz') | (mm['Loser'] == 'Casper Ruud')\n",
    "               | (mm['Loser'] == 'Rafael Nadal') | (mm['Loser'] == 'Stefanos Tsitsipas')\n",
    "               | (mm['Loser'] == 'Felix Auger-Aliassime') | (mm['Loser'] == 'Daniil Medvedev')\n",
    "               | (mm['Loser'] == 'Andrey Rublev') | (mm['Loser'] == 'Taylor Fritz')\n",
    "               | (mm['Loser'] == 'Hubert Hurkacz') | (mm['Loser'] == 'Novak Djokovic')\n",
    "               | (mm['Loser'] == 'Holger Rune') | (mm['Loser'] == 'Alexander Zverev')\n",
    "               | (mm['Loser'] == 'Pablo Carreno Busta') | (mm['Loser'] == 'Cameron Norrie')\n",
    "               | (mm['Loser'] == 'Jannik Sinner') | (mm['Loser'] == 'Matteo Berrettini')\n",
    "               | (mm['Loser'] == 'Marin Cilic') | (mm['Loser'] == 'Denis Shapovalov')\n",
    "               | (mm['Loser'] == 'Frances Tiafoe') | (mm['Loser'] == 'Karen Khachanov')\n",
    "               | (mm['Loser'] == 'Frances Tiafoe') | (mm['Loser'] == 'Karen Khachanov')\n",
    "               | (mm['Loser'] == 'Roberto Bautista Agut') | (mm['Loser'] == 'Nick Kyrgios')\n",
    "               | (mm['Loser'] == 'Lorenzo Musetti') | (mm['Loser'] == 'Alex de Minaur')\n",
    "               | (mm['Loser'] == 'Diego Schwartzman') | (mm['Loser'] == 'Borna Coric')                                             \n",
    "               | (mm['Loser'] == 'Daniel Evans') | (mm['Loser'] == 'Grigor Dimitrov')\n",
    "               | (mm['Loser'] == 'Miomir Kecmanovic') | (mm['Loser'] == 'Francisco Cerundolo')\n",
    "               | (mm['Loser'] == 'Alejandro Davidovich Fokina') | (mm['Loser'] == 'Tommy Paul')\n",
    "               | (mm['Loser'] == 'Round')]"
   ]
  },
  {
   "cell_type": "code",
   "execution_count": 118,
   "id": "11955db2",
   "metadata": {},
   "outputs": [],
   "source": [
    "mm.to_csv('../datanosubir/MtuaMadrileñaOpen.csv', index=False)"
   ]
  },
  {
   "cell_type": "markdown",
   "id": "bfc171c8",
   "metadata": {},
   "source": [
    "# Masters Roma"
   ]
  },
  {
   "cell_type": "code",
   "execution_count": 119,
   "id": "5805f0c0",
   "metadata": {},
   "outputs": [],
   "source": [
    "urlmr='https://www.atptour.com/es/scores/archive/rome/416/2022/results'"
   ]
  },
  {
   "cell_type": "code",
   "execution_count": 120,
   "id": "3bf90e9a",
   "metadata": {},
   "outputs": [],
   "source": [
    "drivermr=webdriver.Chrome(PATH)         \n",
    "\n",
    "drivermr.get(urlmr)"
   ]
  },
  {
   "cell_type": "code",
   "execution_count": 121,
   "id": "7dbf8fc3",
   "metadata": {},
   "outputs": [],
   "source": [
    "tabla8=drivermr.find_element(By.XPATH, '//*[@id=\"scoresResultsContent\"]/div/table')\n",
    "\n",
    "filas8=[[e.text for e in f.find_elements(By.CLASS_NAME, 'day-table-name')] \n",
    "        for f in tabla8.find_elements(By.TAG_NAME, 'tr')]"
   ]
  },
  {
   "cell_type": "code",
   "execution_count": 122,
   "id": "d4565551",
   "metadata": {},
   "outputs": [],
   "source": [
    "cols8 = [e.text.split('\\n') for e in drivermr.find_elements(By.TAG_NAME, 'th')]\n",
    "\n",
    "drivermr.quit()"
   ]
  },
  {
   "cell_type": "code",
   "execution_count": 123,
   "id": "4b23ed83",
   "metadata": {},
   "outputs": [],
   "source": [
    "cols8=['Winner','Loser']"
   ]
  },
  {
   "cell_type": "code",
   "execution_count": 124,
   "id": "5edc0bfe",
   "metadata": {},
   "outputs": [],
   "source": [
    "mr = pd.DataFrame(filas8, columns=cols8)"
   ]
  },
  {
   "cell_type": "code",
   "execution_count": 125,
   "id": "4bd7ddd3",
   "metadata": {},
   "outputs": [],
   "source": [
    "mr.Winner=mr.Winner.apply(nada)"
   ]
  },
  {
   "cell_type": "code",
   "execution_count": 126,
   "id": "2be5a226",
   "metadata": {},
   "outputs": [],
   "source": [
    "mr.Loser=mr.Loser.apply(nada)"
   ]
  },
  {
   "cell_type": "code",
   "execution_count": 127,
   "id": "bb1c437a",
   "metadata": {},
   "outputs": [],
   "source": [
    "mr=mr[(mr['Winner'] == 'Carlos Alcaraz') | (mr['Winner'] == 'Casper Ruud')\n",
    "               | (mr['Winner'] == 'Rafael Nadal') | (mr['Winner'] == 'Stefanos Tsitsipas')\n",
    "               | (mr['Winner'] == 'Felix Auger-Aliassime') | (mr['Winner'] == 'Daniil Medvedev')\n",
    "               | (mr['Winner'] == 'Andrey Rublev') | (mr['Winner'] == 'Taylor Fritz')\n",
    "               | (mr['Winner'] == 'Hubert Hurkacz') | (mr['Winner'] == 'Novak Djokovic')\n",
    "               | (mr['Winner'] == 'Holger Rune') | (mr['Winner'] == 'Alexander Zverev')\n",
    "               | (mr['Winner'] == 'Pablo Carreno Busta') | (mr['Winner'] == 'Cameron Norrie')\n",
    "               | (mr['Winner'] == 'Jannik Sinner') | (mr['Winner'] == 'Matteo Berrettini')\n",
    "               | (mr['Winner'] == 'Marin Cilic') | (mr['Winner'] == 'Denis Shapovalov')\n",
    "               | (mr['Winner'] == 'Frances Tiafoe') | (mr['Winner'] == 'Karen Khachanov')\n",
    "               | (mr['Winner'] == 'Roberto Bautista Agut') | (mr['Winner'] == 'Nick Kyrgios')\n",
    "               | (mr['Winner'] == 'Lorenzo Musetti') | (mr['Winner'] == 'Alex de Minaur')\n",
    "               | (mr['Winner'] == 'Diego Schwartzman') | (mr['Winner'] == 'Borna Coric')                                             \n",
    "               | (mr['Winner'] == 'Daniel Evans') | (mr['Winner'] == 'Grigor Dimitrov')\n",
    "               | (mr['Winner'] == 'Miomir Kecmanovic') | (mr['Winner'] == 'Francisco Cerundolo')\n",
    "               | (mr['Winner'] == 'Alejandro Davidovich Fokina') | (mr['Winner'] == 'Tommy Paul')\n",
    "               | (mr['Winner'] == 'Round')]"
   ]
  },
  {
   "cell_type": "code",
   "execution_count": 128,
   "id": "f79354db",
   "metadata": {},
   "outputs": [],
   "source": [
    "mr=mr[(mr['Loser'] == 'Carlos Alcaraz') | (mr['Loser'] == 'Casper Ruud')\n",
    "               | (mr['Loser'] == 'Rafael Nadal') | (mr['Loser'] == 'Stefanos Tsitsipas')\n",
    "               | (mr['Loser'] == 'Felix Auger-Aliassime') | (mr['Loser'] == 'Daniil Medvedev')\n",
    "               | (mr['Loser'] == 'Andrey Rublev') | (mr['Loser'] == 'Taylor Fritz')\n",
    "               | (mr['Loser'] == 'Hubert Hurkacz') | (mr['Loser'] == 'Novak Djokovic')\n",
    "               | (mr['Loser'] == 'Holger Rune') | (mr['Loser'] == 'Alexander Zverev')\n",
    "               | (mr['Loser'] == 'Pablo Carreno Busta') | (mr['Loser'] == 'Cameron Norrie')\n",
    "               | (mr['Loser'] == 'Jannik Sinner') | (mr['Loser'] == 'Matteo Berrettini')\n",
    "               | (mr['Loser'] == 'Marin Cilic') | (mr['Loser'] == 'Denis Shapovalov')\n",
    "               | (mr['Loser'] == 'Frances Tiafoe') | (mr['Loser'] == 'Karen Khachanov')\n",
    "               | (mr['Loser'] == 'Frances Tiafoe') | (mr['Loser'] == 'Karen Khachanov')\n",
    "               | (mr['Loser'] == 'Roberto Bautista Agut') | (mr['Loser'] == 'Nick Kyrgios')\n",
    "               | (mr['Loser'] == 'Lorenzo Musetti') | (mr['Loser'] == 'Alex de Minaur')\n",
    "               | (mr['Loser'] == 'Diego Schwartzman') | (mr['Loser'] == 'Borna Coric')                                             \n",
    "               | (mr['Loser'] == 'Daniel Evans') | (mr['Loser'] == 'Grigor Dimitrov')\n",
    "               | (mr['Loser'] == 'Miomir Kecmanovic') | (mr['Loser'] == 'Francisco Cerundolo')\n",
    "               | (mr['Loser'] == 'Alejandro Davidovich Fokina') | (mr['Loser'] == 'Tommy Paul')\n",
    "               | (mr['Loser'] == 'Round')]"
   ]
  },
  {
   "cell_type": "code",
   "execution_count": 129,
   "id": "852fa9bd",
   "metadata": {},
   "outputs": [],
   "source": [
    "mr.to_csv('../datanosubir/MastersRoma.csv', index=False)"
   ]
  },
  {
   "cell_type": "markdown",
   "id": "73b2a8af",
   "metadata": {},
   "source": [
    "# Masters Montreal"
   ]
  },
  {
   "cell_type": "code",
   "execution_count": 130,
   "id": "6a062949",
   "metadata": {},
   "outputs": [],
   "source": [
    "urlmon='https://www.atptour.com/es/scores/archive/montreal/421/2022/results'"
   ]
  },
  {
   "cell_type": "code",
   "execution_count": 131,
   "id": "9c8152e3",
   "metadata": {},
   "outputs": [],
   "source": [
    "drivermon=webdriver.Chrome(PATH)         \n",
    "\n",
    "drivermon.get(urlmon)"
   ]
  },
  {
   "cell_type": "code",
   "execution_count": 132,
   "id": "6e8eb059",
   "metadata": {},
   "outputs": [],
   "source": [
    "tabla9=drivermon.find_element(By.XPATH, '//*[@id=\"scoresResultsContent\"]/div/table')\n",
    "\n",
    "filas9=[[e.text for e in f.find_elements(By.CLASS_NAME, 'day-table-name')] \n",
    "        for f in tabla9.find_elements(By.TAG_NAME, 'tr')]"
   ]
  },
  {
   "cell_type": "code",
   "execution_count": 133,
   "id": "1b0bfe04",
   "metadata": {},
   "outputs": [],
   "source": [
    "cols9 = [e.text.split('\\n') for e in drivermon.find_elements(By.TAG_NAME, 'th')]\n",
    "\n",
    "drivermon.quit()"
   ]
  },
  {
   "cell_type": "code",
   "execution_count": 134,
   "id": "5e70f297",
   "metadata": {},
   "outputs": [],
   "source": [
    "cols9=['Winner','Loser']"
   ]
  },
  {
   "cell_type": "code",
   "execution_count": 135,
   "id": "580fbd94",
   "metadata": {},
   "outputs": [],
   "source": [
    "mon = pd.DataFrame(filas9, columns=cols9)"
   ]
  },
  {
   "cell_type": "code",
   "execution_count": 136,
   "id": "197299c8",
   "metadata": {},
   "outputs": [],
   "source": [
    "mon.Winner=mon.Winner.apply(nada)"
   ]
  },
  {
   "cell_type": "code",
   "execution_count": 137,
   "id": "46d2c770",
   "metadata": {},
   "outputs": [],
   "source": [
    "mon.Loser=mon.Loser.apply(nada)"
   ]
  },
  {
   "cell_type": "code",
   "execution_count": 138,
   "id": "f8c1d91a",
   "metadata": {},
   "outputs": [],
   "source": [
    "mon=mon[(mon['Winner'] == 'Carlos Alcaraz') | (mon['Winner'] == 'Casper Ruud')\n",
    "               | (mon['Winner'] == 'Rafael Nadal') | (mon['Winner'] == 'Stefanos Tsitsipas')\n",
    "               | (mon['Winner'] == 'Felix Auger-Aliassime') | (mon['Winner'] == 'Daniil Medvedev')\n",
    "               | (mon['Winner'] == 'Andrey Rublev') | (mon['Winner'] == 'Taylor Fritz')\n",
    "               | (mon['Winner'] == 'Hubert Hurkacz') | (mon['Winner'] == 'Novak Djokovic')\n",
    "               | (mon['Winner'] == 'Holger Rune') | (mon['Winner'] == 'Alexander Zverev')\n",
    "               | (mon['Winner'] == 'Pablo Carreno Busta') | (mon['Winner'] == 'Cameron Norrie')\n",
    "               | (mon['Winner'] == 'Jannik Sinner') | (mon['Winner'] == 'Matteo Berrettini')\n",
    "               | (mon['Winner'] == 'Marin Cilic') | (mon['Winner'] == 'Denis Shapovalov')\n",
    "               | (mon['Winner'] == 'Frances Tiafoe') | (mon['Winner'] == 'Karen Khachanov')\n",
    "               | (mon['Winner'] == 'Roberto Bautista Agut') | (mon['Winner'] == 'Nick Kyrgios')\n",
    "               | (mon['Winner'] == 'Lorenzo Musetti') | (mon['Winner'] == 'Alex de Minaur')\n",
    "               | (mon['Winner'] == 'Diego Schwartzman') | (mon['Winner'] == 'Borna Coric')                                             \n",
    "               | (mon['Winner'] == 'Daniel Evans') | (mon['Winner'] == 'Grigor Dimitrov')\n",
    "               | (mon['Winner'] == 'Miomir Kecmanovic') | (mon['Winner'] == 'Francisco Cerundolo')\n",
    "               | (mon['Winner'] == 'Alejandro Davidovich Fokina') | (mon['Winner'] == 'Tommy Paul')\n",
    "               | (mon['Winner'] == 'Round')]"
   ]
  },
  {
   "cell_type": "code",
   "execution_count": 139,
   "id": "b135a476",
   "metadata": {},
   "outputs": [],
   "source": [
    "mon=mon[(mon['Loser'] == 'Carlos Alcaraz') | (mon['Loser'] == 'Casper Ruud')\n",
    "               | (mon['Loser'] == 'Rafael Nadal') | (mon['Loser'] == 'Stefanos Tsitsipas')\n",
    "               | (mon['Loser'] == 'Felix Auger-Aliassime') | (mon['Loser'] == 'Daniil Medvedev')\n",
    "               | (mon['Loser'] == 'Andrey Rublev') | (mon['Loser'] == 'Taylor Fritz')\n",
    "               | (mon['Loser'] == 'Hubert Hurkacz') | (mon['Loser'] == 'Novak Djokovic')\n",
    "               | (mon['Loser'] == 'Holger Rune') | (mon['Loser'] == 'Alexander Zverev')\n",
    "               | (mon['Loser'] == 'Pablo Carreno Busta') | (mon['Loser'] == 'Cameron Norrie')\n",
    "               | (mon['Loser'] == 'Jannik Sinner') | (mon['Loser'] == 'Matteo Berrettini')\n",
    "               | (mon['Loser'] == 'Marin Cilic') | (mon['Loser'] == 'Denis Shapovalov')\n",
    "               | (mon['Loser'] == 'Frances Tiafoe') | (mon['Loser'] == 'Karen Khachanov')\n",
    "               | (mon['Loser'] == 'Frances Tiafoe') | (mon['Loser'] == 'Karen Khachanov')\n",
    "               | (mon['Loser'] == 'Roberto Bautista Agut') | (mon['Loser'] == 'Nick Kyrgios')\n",
    "               | (mon['Loser'] == 'Lorenzo Musetti') | (mon['Loser'] == 'Alex de Minaur')\n",
    "               | (mon['Loser'] == 'Diego Schwartzman') | (mon['Loser'] == 'Borna Coric')                                             \n",
    "               | (mon['Loser'] == 'Daniel Evans') | (mon['Loser'] == 'Grigor Dimitrov')\n",
    "               | (mon['Loser'] == 'Miomir Kecmanovic') | (mon['Loser'] == 'Francisco Cerundolo')\n",
    "               | (mon['Loser'] == 'Alejandro Davidovich Fokina') | (mon['Loser'] == 'Tommy Paul')\n",
    "               | (mon['Loser'] == 'Round')]"
   ]
  },
  {
   "cell_type": "code",
   "execution_count": 140,
   "id": "1a0ecf03",
   "metadata": {},
   "outputs": [],
   "source": [
    "mon.to_csv('../datanosubir/MastersMontreal.csv', index=False)"
   ]
  },
  {
   "cell_type": "markdown",
   "id": "f1a5d91f",
   "metadata": {},
   "source": [
    "# Masters Cincinnati"
   ]
  },
  {
   "cell_type": "code",
   "execution_count": 141,
   "id": "8f34600a",
   "metadata": {},
   "outputs": [],
   "source": [
    "urlcin='https://www.atptour.com/es/scores/archive/cincinnati/422/2022/results'"
   ]
  },
  {
   "cell_type": "code",
   "execution_count": 142,
   "id": "0dc240d1",
   "metadata": {},
   "outputs": [],
   "source": [
    "drivercin=webdriver.Chrome(PATH)         \n",
    "\n",
    "drivercin.get(urlcin)"
   ]
  },
  {
   "cell_type": "code",
   "execution_count": 143,
   "id": "ab906ad5",
   "metadata": {},
   "outputs": [],
   "source": [
    "tabla10=drivercin.find_element(By.XPATH, '//*[@id=\"scoresResultsContent\"]/div/table')\n",
    "\n",
    "filas10=[[e.text for e in f.find_elements(By.CLASS_NAME, 'day-table-name')] \n",
    "        for f in tabla10.find_elements(By.TAG_NAME, 'tr')]"
   ]
  },
  {
   "cell_type": "code",
   "execution_count": 144,
   "id": "23481fc0",
   "metadata": {},
   "outputs": [],
   "source": [
    "cols10 = [e.text.split('\\n') for e in drivercin.find_elements(By.TAG_NAME, 'th')]\n",
    "\n",
    "drivercin.quit()"
   ]
  },
  {
   "cell_type": "code",
   "execution_count": 145,
   "id": "54f29458",
   "metadata": {},
   "outputs": [],
   "source": [
    "cols10 = ['Winner','Loser']"
   ]
  },
  {
   "cell_type": "code",
   "execution_count": 146,
   "id": "e1c63afc",
   "metadata": {},
   "outputs": [],
   "source": [
    "cin = pd.DataFrame(filas10, columns=cols10)"
   ]
  },
  {
   "cell_type": "code",
   "execution_count": 147,
   "id": "fd777eb3",
   "metadata": {},
   "outputs": [],
   "source": [
    "cin.Winner=cin.Winner.apply(nada)"
   ]
  },
  {
   "cell_type": "code",
   "execution_count": 148,
   "id": "04f4a097",
   "metadata": {},
   "outputs": [],
   "source": [
    "cin.Loser=cin.Loser.apply(nada)"
   ]
  },
  {
   "cell_type": "code",
   "execution_count": 149,
   "id": "34c8c985",
   "metadata": {},
   "outputs": [],
   "source": [
    "cin=cin[(cin['Winner'] == 'Carlos Alcaraz') | (cin['Winner'] == 'Casper Ruud')\n",
    "               | (cin['Winner'] == 'Rafael Nadal') | (cin['Winner'] == 'Stefanos Tsitsipas')\n",
    "               | (cin['Winner'] == 'Felix Auger-Aliassime') | (cin['Winner'] == 'Daniil Medvedev')\n",
    "               | (cin['Winner'] == 'Andrey Rublev') | (cin['Winner'] == 'Taylor Fritz')\n",
    "               | (cin['Winner'] == 'Hubert Hurkacz') | (cin['Winner'] == 'Novak Djokovic')\n",
    "               | (cin['Winner'] == 'Holger Rune') | (cin['Winner'] == 'Alexander Zverev')\n",
    "               | (cin['Winner'] == 'Pablo Carreno Busta') | (cin['Winner'] == 'Cameron Norrie')\n",
    "               | (cin['Winner'] == 'Jannik Sinner') | (cin['Winner'] == 'Matteo Berrettini')\n",
    "               | (cin['Winner'] == 'Marin Cilic') | (cin['Winner'] == 'Denis Shapovalov')\n",
    "               | (cin['Winner'] == 'Frances Tiafoe') | (cin['Winner'] == 'Karen Khachanov')\n",
    "               | (cin['Winner'] == 'Roberto Bautista Agut') | (cin['Winner'] == 'Nick Kyrgios')\n",
    "               | (cin['Winner'] == 'Lorenzo Musetti') | (cin['Winner'] == 'Alex de Minaur')\n",
    "               | (cin['Winner'] == 'Diego Schwartzman') | (cin['Winner'] == 'Borna Coric')                                             \n",
    "               | (cin['Winner'] == 'Daniel Evans') | (cin['Winner'] == 'Grigor Dimitrov')\n",
    "               | (cin['Winner'] == 'Miomir Kecmanovic') | (cin['Winner'] == 'Francisco Cerundolo')\n",
    "               | (cin['Winner'] == 'Alejandro Davidovich Fokina') | (cin['Winner'] == 'Tommy Paul')\n",
    "               | (cin['Winner'] == 'Round')]"
   ]
  },
  {
   "cell_type": "code",
   "execution_count": 150,
   "id": "fbfd5b5a",
   "metadata": {},
   "outputs": [],
   "source": [
    "cin=cin[(cin['Loser'] == 'Carlos Alcaraz') | (cin['Loser'] == 'Casper Ruud')\n",
    "               | (cin['Loser'] == 'Rafael Nadal') | (cin['Loser'] == 'Stefanos Tsitsipas')\n",
    "               | (cin['Loser'] == 'Felix Auger-Aliassime') | (cin['Loser'] == 'Daniil Medvedev')\n",
    "               | (cin['Loser'] == 'Andrey Rublev') | (cin['Loser'] == 'Taylor Fritz')\n",
    "               | (cin['Loser'] == 'Hubert Hurkacz') | (cin['Loser'] == 'Novak Djokovic')\n",
    "               | (cin['Loser'] == 'Holger Rune') | (cin['Loser'] == 'Alexander Zverev')\n",
    "               | (cin['Loser'] == 'Pablo Carreno Busta') | (cin['Loser'] == 'Cameron Norrie')\n",
    "               | (cin['Loser'] == 'Jannik Sinner') | (cin['Loser'] == 'Matteo Berrettini')\n",
    "               | (cin['Loser'] == 'Marin Cilic') | (cin['Loser'] == 'Denis Shapovalov')\n",
    "               | (cin['Loser'] == 'Frances Tiafoe') | (cin['Loser'] == 'Karen Khachanov')\n",
    "               | (cin['Loser'] == 'Frances Tiafoe') | (cin['Loser'] == 'Karen Khachanov')\n",
    "               | (cin['Loser'] == 'Roberto Bautista Agut') | (cin['Loser'] == 'Nick Kyrgios')\n",
    "               | (cin['Loser'] == 'Lorenzo Musetti') | (cin['Loser'] == 'Alex de Minaur')\n",
    "               | (cin['Loser'] == 'Diego Schwartzman') | (cin['Loser'] == 'Borna Coric')                                             \n",
    "               | (cin['Loser'] == 'Daniel Evans') | (cin['Loser'] == 'Grigor Dimitrov')\n",
    "               | (cin['Loser'] == 'Miomir Kecmanovic') | (cin['Loser'] == 'Francisco Cerundolo')\n",
    "               | (cin['Loser'] == 'Alejandro Davidovich Fokina') | (cin['Loser'] == 'Tommy Paul')\n",
    "               | (cin['Loser'] == 'Round')]"
   ]
  },
  {
   "cell_type": "code",
   "execution_count": 151,
   "id": "1dde549c",
   "metadata": {},
   "outputs": [],
   "source": [
    "cin.to_csv('../datanosubir/MastersCincinnati.csv', index=False)"
   ]
  },
  {
   "cell_type": "markdown",
   "id": "d45efe7c",
   "metadata": {},
   "source": [
    "# Masters Rolex Paris"
   ]
  },
  {
   "cell_type": "code",
   "execution_count": 152,
   "id": "d8be5b09",
   "metadata": {},
   "outputs": [],
   "source": [
    "urlpar='https://www.atptour.com/es/scores/archive/paris/352/2022/results'"
   ]
  },
  {
   "cell_type": "code",
   "execution_count": 153,
   "id": "6161b66f",
   "metadata": {},
   "outputs": [],
   "source": [
    "driverpar=webdriver.Chrome(PATH)         \n",
    "\n",
    "driverpar.get(urlpar)"
   ]
  },
  {
   "cell_type": "code",
   "execution_count": 154,
   "id": "4cb8d629",
   "metadata": {},
   "outputs": [],
   "source": [
    "tabla11=driverpar.find_element(By.XPATH, '//*[@id=\"scoresResultsContent\"]/div/table')\n",
    "\n",
    "filas11=[[e.text for e in f.find_elements(By.CLASS_NAME, 'day-table-name')] \n",
    "        for f in tabla11.find_elements(By.TAG_NAME, 'tr')]"
   ]
  },
  {
   "cell_type": "code",
   "execution_count": 155,
   "id": "04ec8851",
   "metadata": {},
   "outputs": [],
   "source": [
    "cols11 = [e.text.split('\\n') for e in driverpar.find_elements(By.TAG_NAME, 'th')]\n",
    "\n",
    "driverpar.quit()"
   ]
  },
  {
   "cell_type": "code",
   "execution_count": 156,
   "id": "ac0361c0",
   "metadata": {},
   "outputs": [],
   "source": [
    "cols11 = ['Winner','Loser']"
   ]
  },
  {
   "cell_type": "code",
   "execution_count": 157,
   "id": "f3ff8944",
   "metadata": {},
   "outputs": [],
   "source": [
    "par = pd.DataFrame(filas11, columns=cols11)"
   ]
  },
  {
   "cell_type": "code",
   "execution_count": 158,
   "id": "2694605a",
   "metadata": {},
   "outputs": [],
   "source": [
    "par.Winner=par.Winner.apply(nada)"
   ]
  },
  {
   "cell_type": "code",
   "execution_count": 159,
   "id": "d5a84b49",
   "metadata": {},
   "outputs": [],
   "source": [
    "par.Loser=par.Loser.apply(nada)"
   ]
  },
  {
   "cell_type": "code",
   "execution_count": 160,
   "id": "e3d0bf62",
   "metadata": {},
   "outputs": [],
   "source": [
    "par=par[(par['Winner'] == 'Carlos Alcaraz') | (par['Winner'] == 'Casper Ruud')\n",
    "               | (par['Winner'] == 'Rafael Nadal') | (par['Winner'] == 'Stefanos Tsitsipas')\n",
    "               | (par['Winner'] == 'Felix Auger-Aliassime') | (par['Winner'] == 'Daniil Medvedev')\n",
    "               | (par['Winner'] == 'Andrey Rublev') | (par['Winner'] == 'Taylor Fritz')\n",
    "               | (par['Winner'] == 'Hubert Hurkacz') | (par['Winner'] == 'Novak Djokovic')\n",
    "               | (par['Winner'] == 'Holger Rune') | (par['Winner'] == 'Alexander Zverev')\n",
    "               | (par['Winner'] == 'Pablo Carreno Busta') | (par['Winner'] == 'Cameron Norrie')\n",
    "               | (par['Winner'] == 'Jannik Sinner') | (par['Winner'] == 'Matteo Berrettini')\n",
    "               | (par['Winner'] == 'Marin Cilic') | (par['Winner'] == 'Denis Shapovalov')\n",
    "               | (par['Winner'] == 'Frances Tiafoe') | (par['Winner'] == 'Karen Khachanov')\n",
    "               | (par['Winner'] == 'Roberto Bautista Agut') | (par['Winner'] == 'Nick Kyrgios')\n",
    "               | (par['Winner'] == 'Lorenzo Musetti') | (par['Winner'] == 'Alex de Minaur')\n",
    "               | (par['Winner'] == 'Diego Schwartzman') | (par['Winner'] == 'Borna Coric')                                             \n",
    "               | (par['Winner'] == 'Daniel Evans') | (par['Winner'] == 'Grigor Dimitrov')\n",
    "               | (par['Winner'] == 'Miomir Kecmanovic') | (par['Winner'] == 'Francisco Cerundolo')\n",
    "               | (par['Winner'] == 'Alejandro Davidovich Fokina') | (par['Winner'] == 'Tommy Paul')\n",
    "               | (par['Winner'] == 'Round')]"
   ]
  },
  {
   "cell_type": "code",
   "execution_count": 161,
   "id": "772d4aef",
   "metadata": {},
   "outputs": [],
   "source": [
    "par=par[(par['Loser'] == 'Carlos Alcaraz') | (par['Loser'] == 'Casper Ruud')\n",
    "               | (par['Loser'] == 'Rafael Nadal') | (par['Loser'] == 'Stefanos Tsitsipas')\n",
    "               | (par['Loser'] == 'Felix Auger-Aliassime') | (par['Loser'] == 'Daniil Medvedev')\n",
    "               | (par['Loser'] == 'Andrey Rublev') | (par['Loser'] == 'Taylor Fritz')\n",
    "               | (par['Loser'] == 'Hubert Hurkacz') | (par['Loser'] == 'Novak Djokovic')\n",
    "               | (par['Loser'] == 'Holger Rune') | (par['Loser'] == 'Alexander Zverev')\n",
    "               | (par['Loser'] == 'Pablo Carreno Busta') | (par['Loser'] == 'Cameron Norrie')\n",
    "               | (par['Loser'] == 'Jannik Sinner') | (par['Loser'] == 'Matteo Berrettini')\n",
    "               | (par['Loser'] == 'Marin Cilic') | (par['Loser'] == 'Denis Shapovalov')\n",
    "               | (par['Loser'] == 'Frances Tiafoe') | (par['Loser'] == 'Karen Khachanov')\n",
    "               | (par['Loser'] == 'Frances Tiafoe') | (par['Loser'] == 'Karen Khachanov')\n",
    "               | (par['Loser'] == 'Roberto Bautista Agut') | (par['Loser'] == 'Nick Kyrgios')\n",
    "               | (par['Loser'] == 'Lorenzo Musetti') | (par['Loser'] == 'Alex de Minaur')\n",
    "               | (par['Loser'] == 'Diego Schwartzman') | (par['Loser'] == 'Borna Coric')                                             \n",
    "               | (par['Loser'] == 'Daniel Evans') | (par['Loser'] == 'Grigor Dimitrov')\n",
    "               | (par['Loser'] == 'Miomir Kecmanovic') | (par['Loser'] == 'Francisco Cerundolo')\n",
    "               | (par['Loser'] == 'Alejandro Davidovich Fokina') | (par['Loser'] == 'Tommy Paul')\n",
    "               | (par['Loser'] == 'Round')]"
   ]
  },
  {
   "cell_type": "code",
   "execution_count": 162,
   "id": "b1883d89",
   "metadata": {},
   "outputs": [],
   "source": [
    "par.to_csv('../datanosubir/MastersRolexParis.csv', index=False)"
   ]
  },
  {
   "cell_type": "markdown",
   "id": "32fe9b32",
   "metadata": {},
   "source": [
    "# Scraping ranking ATP 2022"
   ]
  },
  {
   "cell_type": "code",
   "execution_count": 163,
   "id": "4900d51c",
   "metadata": {},
   "outputs": [],
   "source": [
    "urlaespn='https://www.espn.com.ar/tenis/rankings'"
   ]
  },
  {
   "cell_type": "code",
   "execution_count": 172,
   "id": "bea0f089",
   "metadata": {},
   "outputs": [],
   "source": [
    "driverespn=webdriver.Chrome(PATH)         \n",
    "\n",
    "driverespn.get(urlaespn)"
   ]
  },
  {
   "cell_type": "code",
   "execution_count": 173,
   "id": "b58ccde5",
   "metadata": {},
   "outputs": [],
   "source": [
    "tablaespn=driverespn.find_element(By.XPATH, '//*[@id=\"fittPageContainer\"]/div[3]/div/div/section/div/div/section/div[4]/div[2]/div/div[2]')"
   ]
  },
  {
   "cell_type": "code",
   "execution_count": 174,
   "id": "170eabbd",
   "metadata": {},
   "outputs": [],
   "source": [
    "ranks=[[e.text for e in f.find_elements(By.TAG_NAME, 'td')] \n",
    "      for f in tablaespn.find_elements(By.TAG_NAME, 'tr')]"
   ]
  },
  {
   "cell_type": "code",
   "execution_count": 175,
   "id": "b504cefd",
   "metadata": {},
   "outputs": [],
   "source": [
    "cabeceras=driverespn.find_element(By.TAG_NAME, 'thead')\n",
    "\n",
    "cabeceras=[c.text for c in cabeceras.find_elements(By.TAG_NAME, 'th')]\n",
    "\n",
    "driverespn.quit()"
   ]
  },
  {
   "cell_type": "code",
   "execution_count": 176,
   "id": "51214cd4",
   "metadata": {},
   "outputs": [
    {
     "data": {
      "text/html": [
       "<div>\n",
       "<style scoped>\n",
       "    .dataframe tbody tr th:only-of-type {\n",
       "        vertical-align: middle;\n",
       "    }\n",
       "\n",
       "    .dataframe tbody tr th {\n",
       "        vertical-align: top;\n",
       "    }\n",
       "\n",
       "    .dataframe thead th {\n",
       "        text-align: right;\n",
       "    }\n",
       "</style>\n",
       "<table border=\"1\" class=\"dataframe\">\n",
       "  <thead>\n",
       "    <tr style=\"text-align: right;\">\n",
       "      <th></th>\n",
       "      <th>POS</th>\n",
       "      <th></th>\n",
       "      <th>NOMBRE</th>\n",
       "      <th>PUNTOS</th>\n",
       "      <th>EDAD</th>\n",
       "    </tr>\n",
       "  </thead>\n",
       "  <tbody>\n",
       "    <tr>\n",
       "      <th>0</th>\n",
       "      <td>None</td>\n",
       "      <td>None</td>\n",
       "      <td>None</td>\n",
       "      <td>None</td>\n",
       "      <td>None</td>\n",
       "    </tr>\n",
       "    <tr>\n",
       "      <th>1</th>\n",
       "      <td>1</td>\n",
       "      <td>-</td>\n",
       "      <td>Carlos Alcaraz</td>\n",
       "      <td>6,820</td>\n",
       "      <td>19</td>\n",
       "    </tr>\n",
       "    <tr>\n",
       "      <th>2</th>\n",
       "      <td>2</td>\n",
       "      <td>-</td>\n",
       "      <td>Rafael Nadal</td>\n",
       "      <td>6,020</td>\n",
       "      <td>36</td>\n",
       "    </tr>\n",
       "    <tr>\n",
       "      <th>3</th>\n",
       "      <td>3</td>\n",
       "      <td>-</td>\n",
       "      <td>Casper Ruud</td>\n",
       "      <td>5,820</td>\n",
       "      <td>23</td>\n",
       "    </tr>\n",
       "    <tr>\n",
       "      <th>4</th>\n",
       "      <td>4</td>\n",
       "      <td>-</td>\n",
       "      <td>Stefanos Tsitsipas</td>\n",
       "      <td>5,550</td>\n",
       "      <td>24</td>\n",
       "    </tr>\n",
       "  </tbody>\n",
       "</table>\n",
       "</div>"
      ],
      "text/plain": [
       "    POS                    NOMBRE PUNTOS  EDAD\n",
       "0  None  None                None   None  None\n",
       "1     1     -      Carlos Alcaraz  6,820    19\n",
       "2     2     -        Rafael Nadal  6,020    36\n",
       "3     3     -         Casper Ruud  5,820    23\n",
       "4     4     -  Stefanos Tsitsipas  5,550    24"
      ]
     },
     "execution_count": 176,
     "metadata": {},
     "output_type": "execute_result"
    }
   ],
   "source": [
    "rankings=pd.DataFrame(ranks, columns=cabeceras)\n",
    "\n",
    "rankings.head()"
   ]
  },
  {
   "cell_type": "code",
   "execution_count": 177,
   "id": "2e4ebe25",
   "metadata": {},
   "outputs": [],
   "source": [
    "rankings = rankings.drop([0],axis=0)"
   ]
  },
  {
   "cell_type": "code",
   "execution_count": 178,
   "id": "ecc51ed0",
   "metadata": {},
   "outputs": [
    {
     "data": {
      "text/plain": [
       "Index(['POS', '', 'NOMBRE', 'PUNTOS', 'EDAD'], dtype='object')"
      ]
     },
     "execution_count": 178,
     "metadata": {},
     "output_type": "execute_result"
    }
   ],
   "source": [
    "rankings.columns"
   ]
  },
  {
   "cell_type": "code",
   "execution_count": 179,
   "id": "dce74760",
   "metadata": {},
   "outputs": [],
   "source": [
    "colsborrar = ['']\n",
    "\n",
    "rankings = rankings.drop(columns=colsborrar)\n",
    "\n",
    "rankings.columns=['Posicion','Jugador','Puntos','Edad']"
   ]
  },
  {
   "cell_type": "code",
   "execution_count": 180,
   "id": "1cb5fc72",
   "metadata": {},
   "outputs": [],
   "source": [
    "rankings = rankings[:32]"
   ]
  },
  {
   "cell_type": "code",
   "execution_count": 181,
   "id": "72944153",
   "metadata": {},
   "outputs": [],
   "source": [
    "def cambiarCilic(x):\n",
    "    \n",
    "    if 'Čilić' in x:\n",
    "        \n",
    "        return 'Marin Cilic'\n",
    "    \n",
    "    else:\n",
    "        \n",
    "        return x"
   ]
  },
  {
   "cell_type": "code",
   "execution_count": 182,
   "id": "7addc4d7",
   "metadata": {},
   "outputs": [],
   "source": [
    "rankings.Jugador=rankings.Jugador.apply(cambiarCilic)"
   ]
  },
  {
   "cell_type": "code",
   "execution_count": 183,
   "id": "3d560f22",
   "metadata": {},
   "outputs": [],
   "source": [
    "def cambiarMinaur(x):\n",
    "    \n",
    "    if 'Minaur' in x:\n",
    "        \n",
    "        return 'Alex de Minaur'\n",
    "    \n",
    "    else:\n",
    "        \n",
    "        return x"
   ]
  },
  {
   "cell_type": "code",
   "execution_count": 184,
   "id": "7bfff161",
   "metadata": {},
   "outputs": [],
   "source": [
    "rankings.Jugador=rankings.Jugador.apply(cambiarMinaur)"
   ]
  },
  {
   "cell_type": "code",
   "execution_count": 185,
   "id": "c297a4bb",
   "metadata": {},
   "outputs": [],
   "source": [
    "rankings.to_csv('../data/ranking.csv', index=False)"
   ]
  },
  {
   "cell_type": "markdown",
   "id": "ce52d55c",
   "metadata": {},
   "source": [
    "# Scrapeo de las finales entre Djokovic y Nadal:"
   ]
  },
  {
   "cell_type": "code",
   "execution_count": 186,
   "id": "0b7f46dc",
   "metadata": {},
   "outputs": [],
   "source": [
    "urlafinals='https://www.atptour.com/en/players/atp-head-2-head/rafael-nadal-vs-novak-djokovic/n409/d643'"
   ]
  },
  {
   "cell_type": "code",
   "execution_count": 187,
   "id": "7b0e1c5e",
   "metadata": {},
   "outputs": [],
   "source": [
    "driverfinals=webdriver.Chrome(PATH)         \n",
    "\n",
    "driverfinals.get(urlafinals)"
   ]
  },
  {
   "cell_type": "code",
   "execution_count": 188,
   "id": "956bd9d5",
   "metadata": {},
   "outputs": [],
   "source": [
    "tablafinals=driverfinals.find_element(By.XPATH, '//*[@id=\"pageEventH2hTable\"]')"
   ]
  },
  {
   "cell_type": "code",
   "execution_count": 189,
   "id": "14b5ef2b",
   "metadata": {},
   "outputs": [],
   "source": [
    "finals=[[e.text for e in f.find_elements(By.TAG_NAME, 'td')] \n",
    "      for f in driverfinals.find_elements(By.TAG_NAME, 'tr')]"
   ]
  },
  {
   "cell_type": "code",
   "execution_count": 190,
   "id": "e5a6397a",
   "metadata": {},
   "outputs": [],
   "source": [
    "cabeceras=driverfinals.find_element(By.TAG_NAME, 'thead')\n",
    "\n",
    "cabeceras=[c.text for c in cabeceras.find_elements(By.TAG_NAME, 'th')]\n",
    "\n",
    "driverfinals.quit()"
   ]
  },
  {
   "cell_type": "code",
   "execution_count": 191,
   "id": "4ff2b1d9",
   "metadata": {},
   "outputs": [
    {
     "data": {
      "text/html": [
       "<div>\n",
       "<style scoped>\n",
       "    .dataframe tbody tr th:only-of-type {\n",
       "        vertical-align: middle;\n",
       "    }\n",
       "\n",
       "    .dataframe tbody tr th {\n",
       "        vertical-align: top;\n",
       "    }\n",
       "\n",
       "    .dataframe thead th {\n",
       "        text-align: right;\n",
       "    }\n",
       "</style>\n",
       "<table border=\"1\" class=\"dataframe\">\n",
       "  <thead>\n",
       "    <tr style=\"text-align: right;\">\n",
       "      <th></th>\n",
       "      <th>Year</th>\n",
       "      <th>Event</th>\n",
       "      <th>Surface</th>\n",
       "      <th>RND</th>\n",
       "      <th>Winner</th>\n",
       "      <th>Result</th>\n",
       "    </tr>\n",
       "  </thead>\n",
       "  <tbody>\n",
       "    <tr>\n",
       "      <th>0</th>\n",
       "      <td>36 (1986.06.03)</td>\n",
       "      <td>Age</td>\n",
       "      <td>35 (1987.05.22)</td>\n",
       "      <td>None</td>\n",
       "      <td>None</td>\n",
       "      <td>None</td>\n",
       "    </tr>\n",
       "    <tr>\n",
       "      <th>1</th>\n",
       "      <td>Spain</td>\n",
       "      <td>Birthplace</td>\n",
       "      <td>Serbia</td>\n",
       "      <td>None</td>\n",
       "      <td>None</td>\n",
       "      <td>None</td>\n",
       "    </tr>\n",
       "    <tr>\n",
       "      <th>2</th>\n",
       "      <td>6'1\" (185 cm)</td>\n",
       "      <td>Height</td>\n",
       "      <td>6'2\" (188 cm)</td>\n",
       "      <td>None</td>\n",
       "      <td>None</td>\n",
       "      <td>None</td>\n",
       "    </tr>\n",
       "    <tr>\n",
       "      <th>3</th>\n",
       "      <td>187 lbs (85 kg)</td>\n",
       "      <td>Weight</td>\n",
       "      <td>170 lbs (77 kg)</td>\n",
       "      <td>None</td>\n",
       "      <td>None</td>\n",
       "      <td>None</td>\n",
       "    </tr>\n",
       "    <tr>\n",
       "      <th>4</th>\n",
       "      <td>Left-Handed</td>\n",
       "      <td>Plays</td>\n",
       "      <td>Right-Handed</td>\n",
       "      <td>None</td>\n",
       "      <td>None</td>\n",
       "      <td>None</td>\n",
       "    </tr>\n",
       "    <tr>\n",
       "      <th>5</th>\n",
       "      <td>Two-Handed</td>\n",
       "      <td>Backhand</td>\n",
       "      <td>Two-Handed</td>\n",
       "      <td>None</td>\n",
       "      <td>None</td>\n",
       "      <td>None</td>\n",
       "    </tr>\n",
       "    <tr>\n",
       "      <th>6</th>\n",
       "      <td>2001</td>\n",
       "      <td>Turned Pro</td>\n",
       "      <td>2003</td>\n",
       "      <td>None</td>\n",
       "      <td>None</td>\n",
       "      <td>None</td>\n",
       "    </tr>\n",
       "    <tr>\n",
       "      <th>7</th>\n",
       "      <td>39/8</td>\n",
       "      <td>YTD Won/Lost</td>\n",
       "      <td>42/7</td>\n",
       "      <td>None</td>\n",
       "      <td>None</td>\n",
       "      <td>None</td>\n",
       "    </tr>\n",
       "    <tr>\n",
       "      <th>8</th>\n",
       "      <td>4</td>\n",
       "      <td>YTD Titles</td>\n",
       "      <td>5</td>\n",
       "      <td>None</td>\n",
       "      <td>None</td>\n",
       "      <td>None</td>\n",
       "    </tr>\n",
       "    <tr>\n",
       "      <th>9</th>\n",
       "      <td>1067/217</td>\n",
       "      <td>CAREER W/L</td>\n",
       "      <td>1031/206</td>\n",
       "      <td>None</td>\n",
       "      <td>None</td>\n",
       "      <td>None</td>\n",
       "    </tr>\n",
       "    <tr>\n",
       "      <th>10</th>\n",
       "      <td>92</td>\n",
       "      <td>Career Titles</td>\n",
       "      <td>91</td>\n",
       "      <td>None</td>\n",
       "      <td>None</td>\n",
       "      <td>None</td>\n",
       "    </tr>\n",
       "    <tr>\n",
       "      <th>11</th>\n",
       "      <td>$134,329,921</td>\n",
       "      <td>Career Prize Money</td>\n",
       "      <td>$164,691,308</td>\n",
       "      <td>None</td>\n",
       "      <td>None</td>\n",
       "      <td>None</td>\n",
       "    </tr>\n",
       "    <tr>\n",
       "      <th>12</th>\n",
       "      <td>None</td>\n",
       "      <td>None</td>\n",
       "      <td>None</td>\n",
       "      <td>None</td>\n",
       "      <td>None</td>\n",
       "      <td>None</td>\n",
       "    </tr>\n",
       "    <tr>\n",
       "      <th>13</th>\n",
       "      <td>2022</td>\n",
       "      <td>Roland Garros\\nFrance</td>\n",
       "      <td>Outdoor Clay</td>\n",
       "      <td>QF</td>\n",
       "      <td>Rafael Nadal</td>\n",
       "      <td>62 46 62 764</td>\n",
       "    </tr>\n",
       "    <tr>\n",
       "      <th>14</th>\n",
       "      <td>2021</td>\n",
       "      <td>Roland Garros\\nFrance</td>\n",
       "      <td>Outdoor Clay</td>\n",
       "      <td>SF</td>\n",
       "      <td>Novak Djokovic</td>\n",
       "      <td>36 63 764 62</td>\n",
       "    </tr>\n",
       "  </tbody>\n",
       "</table>\n",
       "</div>"
      ],
      "text/plain": [
       "               Year                  Event          Surface   RND  \\\n",
       "0   36 (1986.06.03)                    Age  35 (1987.05.22)  None   \n",
       "1             Spain             Birthplace           Serbia  None   \n",
       "2     6'1\" (185 cm)                 Height    6'2\" (188 cm)  None   \n",
       "3   187 lbs (85 kg)                 Weight  170 lbs (77 kg)  None   \n",
       "4       Left-Handed                  Plays     Right-Handed  None   \n",
       "5        Two-Handed               Backhand       Two-Handed  None   \n",
       "6              2001             Turned Pro             2003  None   \n",
       "7              39/8           YTD Won/Lost             42/7  None   \n",
       "8                 4             YTD Titles                5  None   \n",
       "9          1067/217             CAREER W/L         1031/206  None   \n",
       "10               92          Career Titles               91  None   \n",
       "11     $134,329,921     Career Prize Money     $164,691,308  None   \n",
       "12             None                   None             None  None   \n",
       "13             2022  Roland Garros\\nFrance     Outdoor Clay    QF   \n",
       "14             2021  Roland Garros\\nFrance     Outdoor Clay    SF   \n",
       "\n",
       "            Winner        Result  \n",
       "0             None          None  \n",
       "1             None          None  \n",
       "2             None          None  \n",
       "3             None          None  \n",
       "4             None          None  \n",
       "5             None          None  \n",
       "6             None          None  \n",
       "7             None          None  \n",
       "8             None          None  \n",
       "9             None          None  \n",
       "10            None          None  \n",
       "11            None          None  \n",
       "12            None          None  \n",
       "13    Rafael Nadal  62 46 62 764  \n",
       "14  Novak Djokovic  36 63 764 62  "
      ]
     },
     "execution_count": 191,
     "metadata": {},
     "output_type": "execute_result"
    }
   ],
   "source": [
    "dffinals=pd.DataFrame(finals, columns=cabeceras)\n",
    "\n",
    "dffinals.head(15)"
   ]
  },
  {
   "cell_type": "code",
   "execution_count": 192,
   "id": "7cc4cc01",
   "metadata": {},
   "outputs": [],
   "source": [
    "dfmatches=dffinals[13:]"
   ]
  },
  {
   "cell_type": "code",
   "execution_count": 193,
   "id": "3d3ff9ca",
   "metadata": {},
   "outputs": [],
   "source": [
    "dfmatches = dfmatches.reset_index(drop=True)"
   ]
  },
  {
   "cell_type": "code",
   "execution_count": 194,
   "id": "a62c2b9e",
   "metadata": {},
   "outputs": [
    {
     "data": {
      "text/plain": [
       "(59, 6)"
      ]
     },
     "execution_count": 194,
     "metadata": {},
     "output_type": "execute_result"
    }
   ],
   "source": [
    "dfmatches.shape"
   ]
  },
  {
   "cell_type": "code",
   "execution_count": 195,
   "id": "b5243cf1",
   "metadata": {},
   "outputs": [
    {
     "data": {
      "text/html": [
       "<div>\n",
       "<style scoped>\n",
       "    .dataframe tbody tr th:only-of-type {\n",
       "        vertical-align: middle;\n",
       "    }\n",
       "\n",
       "    .dataframe tbody tr th {\n",
       "        vertical-align: top;\n",
       "    }\n",
       "\n",
       "    .dataframe thead th {\n",
       "        text-align: right;\n",
       "    }\n",
       "</style>\n",
       "<table border=\"1\" class=\"dataframe\">\n",
       "  <thead>\n",
       "    <tr style=\"text-align: right;\">\n",
       "      <th></th>\n",
       "      <th>Year</th>\n",
       "      <th>Event</th>\n",
       "      <th>Surface</th>\n",
       "      <th>RND</th>\n",
       "      <th>Winner</th>\n",
       "      <th>Result</th>\n",
       "    </tr>\n",
       "  </thead>\n",
       "  <tbody>\n",
       "    <tr>\n",
       "      <th>0</th>\n",
       "      <td>2022</td>\n",
       "      <td>Roland Garros\\nFrance</td>\n",
       "      <td>Outdoor Clay</td>\n",
       "      <td>QF</td>\n",
       "      <td>Rafael Nadal</td>\n",
       "      <td>62 46 62 764</td>\n",
       "    </tr>\n",
       "    <tr>\n",
       "      <th>1</th>\n",
       "      <td>2021</td>\n",
       "      <td>Roland Garros\\nFrance</td>\n",
       "      <td>Outdoor Clay</td>\n",
       "      <td>SF</td>\n",
       "      <td>Novak Djokovic</td>\n",
       "      <td>36 63 764 62</td>\n",
       "    </tr>\n",
       "    <tr>\n",
       "      <th>2</th>\n",
       "      <td>2021</td>\n",
       "      <td>ATP Masters 1000 Rome\\nItaly</td>\n",
       "      <td>Outdoor Clay</td>\n",
       "      <td>F</td>\n",
       "      <td>Rafael Nadal</td>\n",
       "      <td>75 16 63</td>\n",
       "    </tr>\n",
       "    <tr>\n",
       "      <th>3</th>\n",
       "      <td>2020</td>\n",
       "      <td>Roland Garros\\nFrance</td>\n",
       "      <td>Outdoor Clay</td>\n",
       "      <td>F</td>\n",
       "      <td>Rafael Nadal</td>\n",
       "      <td>60 62 75</td>\n",
       "    </tr>\n",
       "    <tr>\n",
       "      <th>4</th>\n",
       "      <td>2020</td>\n",
       "      <td>ATP Cup\\nAustralia</td>\n",
       "      <td>Outdoor Hard</td>\n",
       "      <td>F</td>\n",
       "      <td>Novak Djokovic</td>\n",
       "      <td>62 764</td>\n",
       "    </tr>\n",
       "  </tbody>\n",
       "</table>\n",
       "</div>"
      ],
      "text/plain": [
       "   Year                         Event       Surface RND          Winner  \\\n",
       "0  2022         Roland Garros\\nFrance  Outdoor Clay  QF    Rafael Nadal   \n",
       "1  2021         Roland Garros\\nFrance  Outdoor Clay  SF  Novak Djokovic   \n",
       "2  2021  ATP Masters 1000 Rome\\nItaly  Outdoor Clay   F    Rafael Nadal   \n",
       "3  2020         Roland Garros\\nFrance  Outdoor Clay   F    Rafael Nadal   \n",
       "4  2020            ATP Cup\\nAustralia  Outdoor Hard   F  Novak Djokovic   \n",
       "\n",
       "         Result  \n",
       "0  62 46 62 764  \n",
       "1  36 63 764 62  \n",
       "2      75 16 63  \n",
       "3      60 62 75  \n",
       "4        62 764  "
      ]
     },
     "execution_count": 195,
     "metadata": {},
     "output_type": "execute_result"
    }
   ],
   "source": [
    "dfmatches.head()"
   ]
  },
  {
   "cell_type": "code",
   "execution_count": 196,
   "id": "49beec44",
   "metadata": {},
   "outputs": [],
   "source": [
    "finalround = dfmatches[dfmatches['RND'] == 'F']"
   ]
  },
  {
   "cell_type": "code",
   "execution_count": 197,
   "id": "13575d65",
   "metadata": {},
   "outputs": [
    {
     "data": {
      "text/plain": [
       "(29, 6)"
      ]
     },
     "execution_count": 197,
     "metadata": {},
     "output_type": "execute_result"
    }
   ],
   "source": [
    "finalround.shape"
   ]
  },
  {
   "cell_type": "code",
   "execution_count": 198,
   "id": "eef32a8d",
   "metadata": {},
   "outputs": [
    {
     "data": {
      "text/html": [
       "<div>\n",
       "<style scoped>\n",
       "    .dataframe tbody tr th:only-of-type {\n",
       "        vertical-align: middle;\n",
       "    }\n",
       "\n",
       "    .dataframe tbody tr th {\n",
       "        vertical-align: top;\n",
       "    }\n",
       "\n",
       "    .dataframe thead th {\n",
       "        text-align: right;\n",
       "    }\n",
       "</style>\n",
       "<table border=\"1\" class=\"dataframe\">\n",
       "  <thead>\n",
       "    <tr style=\"text-align: right;\">\n",
       "      <th></th>\n",
       "      <th>Year</th>\n",
       "      <th>Event</th>\n",
       "      <th>Surface</th>\n",
       "      <th>RND</th>\n",
       "      <th>Winner</th>\n",
       "      <th>Result</th>\n",
       "    </tr>\n",
       "  </thead>\n",
       "  <tbody>\n",
       "    <tr>\n",
       "      <th>2</th>\n",
       "      <td>2021</td>\n",
       "      <td>ATP Masters 1000 Rome\\nItaly</td>\n",
       "      <td>Outdoor Clay</td>\n",
       "      <td>F</td>\n",
       "      <td>Rafael Nadal</td>\n",
       "      <td>75 16 63</td>\n",
       "    </tr>\n",
       "    <tr>\n",
       "      <th>3</th>\n",
       "      <td>2020</td>\n",
       "      <td>Roland Garros\\nFrance</td>\n",
       "      <td>Outdoor Clay</td>\n",
       "      <td>F</td>\n",
       "      <td>Rafael Nadal</td>\n",
       "      <td>60 62 75</td>\n",
       "    </tr>\n",
       "    <tr>\n",
       "      <th>4</th>\n",
       "      <td>2020</td>\n",
       "      <td>ATP Cup\\nAustralia</td>\n",
       "      <td>Outdoor Hard</td>\n",
       "      <td>F</td>\n",
       "      <td>Novak Djokovic</td>\n",
       "      <td>62 764</td>\n",
       "    </tr>\n",
       "    <tr>\n",
       "      <th>5</th>\n",
       "      <td>2019</td>\n",
       "      <td>ATP Masters 1000 Rome\\nItaly</td>\n",
       "      <td>Outdoor Clay</td>\n",
       "      <td>F</td>\n",
       "      <td>Rafael Nadal</td>\n",
       "      <td>60 46 61</td>\n",
       "    </tr>\n",
       "    <tr>\n",
       "      <th>6</th>\n",
       "      <td>2019</td>\n",
       "      <td>Australian Open\\nAustralia</td>\n",
       "      <td>Outdoor Hard</td>\n",
       "      <td>F</td>\n",
       "      <td>Novak Djokovic</td>\n",
       "      <td>63 62 63</td>\n",
       "    </tr>\n",
       "  </tbody>\n",
       "</table>\n",
       "</div>"
      ],
      "text/plain": [
       "   Year                         Event       Surface RND          Winner  \\\n",
       "2  2021  ATP Masters 1000 Rome\\nItaly  Outdoor Clay   F    Rafael Nadal   \n",
       "3  2020         Roland Garros\\nFrance  Outdoor Clay   F    Rafael Nadal   \n",
       "4  2020            ATP Cup\\nAustralia  Outdoor Hard   F  Novak Djokovic   \n",
       "5  2019  ATP Masters 1000 Rome\\nItaly  Outdoor Clay   F    Rafael Nadal   \n",
       "6  2019    Australian Open\\nAustralia  Outdoor Hard   F  Novak Djokovic   \n",
       "\n",
       "     Result  \n",
       "2  75 16 63  \n",
       "3  60 62 75  \n",
       "4    62 764  \n",
       "5  60 46 61  \n",
       "6  63 62 63  "
      ]
     },
     "execution_count": 198,
     "metadata": {},
     "output_type": "execute_result"
    }
   ],
   "source": [
    "finalround.head()"
   ]
  },
  {
   "cell_type": "code",
   "execution_count": 199,
   "id": "be8a8716",
   "metadata": {},
   "outputs": [
    {
     "data": {
      "text/plain": [
       "13"
      ]
     },
     "execution_count": 199,
     "metadata": {},
     "output_type": "execute_result"
    }
   ],
   "source": [
    "len(finalround[finalround['Winner'] == 'Rafael Nadal'])"
   ]
  },
  {
   "cell_type": "code",
   "execution_count": 200,
   "id": "1f379e91",
   "metadata": {},
   "outputs": [],
   "source": [
    "def surface(x):\n",
    "\n",
    "    if 'Clay' in x:\n",
    "\n",
    "        return 'Clay'\n",
    "    \n",
    "    if 'Hard' in x:\n",
    "        \n",
    "        return 'Hard'\n",
    "    \n",
    "    if 'Grass' in x:\n",
    "        \n",
    "        return 'Grass'"
   ]
  },
  {
   "cell_type": "code",
   "execution_count": 201,
   "id": "c49b8318",
   "metadata": {},
   "outputs": [],
   "source": [
    "finalround.Surface = finalround.Surface.apply(surface)"
   ]
  },
  {
   "cell_type": "code",
   "execution_count": 202,
   "id": "c1a0c202",
   "metadata": {},
   "outputs": [
    {
     "data": {
      "text/plain": [
       "9"
      ]
     },
     "execution_count": 202,
     "metadata": {},
     "output_type": "execute_result"
    }
   ],
   "source": [
    "len(finalround[(finalround['Winner'] == 'Rafael Nadal') & (finalround['Surface'] == 'Clay')])"
   ]
  },
  {
   "cell_type": "code",
   "execution_count": 203,
   "id": "5de73044",
   "metadata": {},
   "outputs": [
    {
     "data": {
      "text/plain": [
       "1"
      ]
     },
     "execution_count": 203,
     "metadata": {},
     "output_type": "execute_result"
    }
   ],
   "source": [
    "len(finalround[(finalround['Winner'] == 'Rafael Nadal') & (finalround['Surface'] == 'Grass')])"
   ]
  },
  {
   "cell_type": "code",
   "execution_count": 204,
   "id": "04b39d74",
   "metadata": {},
   "outputs": [
    {
     "data": {
      "text/plain": [
       "3"
      ]
     },
     "execution_count": 204,
     "metadata": {},
     "output_type": "execute_result"
    }
   ],
   "source": [
    "len(finalround[(finalround['Winner'] == 'Rafael Nadal') & (finalround['Surface'] == 'Hard')])"
   ]
  },
  {
   "cell_type": "code",
   "execution_count": 205,
   "id": "0cad32b3",
   "metadata": {},
   "outputs": [
    {
     "data": {
      "text/plain": [
       "4"
      ]
     },
     "execution_count": 205,
     "metadata": {},
     "output_type": "execute_result"
    }
   ],
   "source": [
    "len(finalround[(finalround['Winner'] == 'Novak Djokovic') & (finalround['Surface'] == 'Clay')])"
   ]
  },
  {
   "cell_type": "code",
   "execution_count": 206,
   "id": "02133764",
   "metadata": {},
   "outputs": [
    {
     "data": {
      "text/plain": [
       "11"
      ]
     },
     "execution_count": 206,
     "metadata": {},
     "output_type": "execute_result"
    }
   ],
   "source": [
    "len(finalround[(finalround['Winner'] == 'Novak Djokovic') & (finalround['Surface'] == 'Hard')])"
   ]
  },
  {
   "cell_type": "code",
   "execution_count": 207,
   "id": "16d2553c",
   "metadata": {},
   "outputs": [
    {
     "data": {
      "text/plain": [
       "1"
      ]
     },
     "execution_count": 207,
     "metadata": {},
     "output_type": "execute_result"
    }
   ],
   "source": [
    "len(finalround[(finalround['Winner'] == 'Novak Djokovic') & (finalround['Surface'] == 'Grass')])"
   ]
  }
 ],
 "metadata": {
  "kernelspec": {
   "display_name": "clase",
   "language": "python",
   "name": "clase"
  },
  "language_info": {
   "codemirror_mode": {
    "name": "ipython",
    "version": 3
   },
   "file_extension": ".py",
   "mimetype": "text/x-python",
   "name": "python",
   "nbconvert_exporter": "python",
   "pygments_lexer": "ipython3",
   "version": "3.7.13"
  }
 },
 "nbformat": 4,
 "nbformat_minor": 5
}
