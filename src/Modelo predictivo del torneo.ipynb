{
 "cells": [
  {
   "cell_type": "code",
   "execution_count": 1,
   "id": "683c5cf3",
   "metadata": {},
   "outputs": [],
   "source": [
    "import pandas as pd\n",
    "import csv\n",
    "pd.options.display.max_columns = None\n",
    "\n",
    "import warnings\n",
    "warnings.filterwarnings('ignore')\n",
    "\n",
    "import re\n",
    "\n",
    "import random\n",
    "                             \n",
    "pd.set_option('display.max_columns', None)         \n",
    "\n",
    "import numpy as np                                 \n",
    "                         \n",
    "\n",
    "\n",
    "from sklearn.linear_model import LogisticRegression            \n",
    "\n",
    "from sklearn.preprocessing import StandardScaler               \n",
    "from sklearn.preprocessing import LabelEncoder               \n",
    "\n",
    "from sklearn.model_selection import train_test_split as tts\n",
    "\n",
    "from sklearn.metrics import accuracy_score"
   ]
  },
  {
   "cell_type": "code",
   "execution_count": 2,
   "id": "dc7416fc",
   "metadata": {},
   "outputs": [],
   "source": [
    "#%pip install lazypredict"
   ]
  },
  {
   "cell_type": "code",
   "execution_count": 3,
   "id": "dc478f64",
   "metadata": {},
   "outputs": [],
   "source": [
    "from sklearn.svm import LinearSVC\n",
    "from sklearn.linear_model import SGDClassifier\n",
    "from sklearn.neural_network import MLPClassifier\n",
    "from sklearn.linear_model import Perceptron\n",
    "from sklearn.linear_model import LogisticRegression\n",
    "from sklearn.linear_model import LogisticRegressionCV\n",
    "from sklearn.svm import SVC\n",
    "from sklearn.calibration import CalibratedClassifierCV\n",
    "from sklearn.linear_model import PassiveAggressiveClassifier\n",
    "from sklearn.semi_supervised import LabelPropagation\n",
    "from sklearn.semi_supervised import LabelSpreading\n",
    "from sklearn.ensemble import RandomForestClassifier\n",
    "from sklearn.ensemble import GradientBoostingClassifier\n",
    "from sklearn.discriminant_analysis import QuadraticDiscriminantAnalysis\n",
    "from sklearn.ensemble import HistGradientBoostingClassifier\n",
    "from sklearn.linear_model import RidgeClassifierCV\n",
    "from sklearn.linear_model import RidgeClassifier\n",
    "from sklearn.ensemble import AdaBoostClassifier\n",
    "from sklearn.ensemble import ExtraTreesClassifier\n",
    "from sklearn.neighbors import KNeighborsClassifier\n",
    "from sklearn.ensemble import BaggingClassifier\n",
    "from sklearn.naive_bayes import BernoulliNB\n",
    "from sklearn.discriminant_analysis import LinearDiscriminantAnalysis\n",
    "from sklearn.naive_bayes import GaussianNB\n",
    "from sklearn.svm import NuSVC\n",
    "from sklearn.tree import DecisionTreeClassifier\n",
    "from sklearn.neighbors import NearestCentroid\n",
    "from sklearn.ensemble import ExtraTreesClassifier\n",
    "from sklearn.tree import ExtraTreeClassifier\n",
    "from sklearn.model_selection import train_test_split as tts\n",
    "from sklearn.metrics import accuracy_score as acc\n",
    "from sklearn.metrics import f1_score as f1\n",
    "import xgboost as xgb"
   ]
  },
  {
   "cell_type": "code",
   "execution_count": 4,
   "id": "24047bd8",
   "metadata": {},
   "outputs": [],
   "source": [
    "alltorneos=pd.read_csv('../Final-Project-Tennis/data/Alltorneos.csv')"
   ]
  },
  {
   "cell_type": "code",
   "execution_count": 5,
   "id": "809fff3f",
   "metadata": {},
   "outputs": [],
   "source": [
    "efectividadessaque=pd.read_csv('../Final-Project-Tennis/data/EfecSaque.csv')\n",
    "efectividadesresto=pd.read_csv('../Final-Project-Tennis/data/EfecResto.csv')\n",
    "efectividadespresion=pd.read_csv('../Final-Project-Tennis/data/EfecPresion.csv')"
   ]
  },
  {
   "cell_type": "code",
   "execution_count": 6,
   "id": "cbde10c7",
   "metadata": {},
   "outputs": [],
   "source": [
    "ranking=pd.read_csv('../Final-Project-Tennis/data/ranking.csv')"
   ]
  },
  {
   "cell_type": "markdown",
   "id": "621b97e6",
   "metadata": {},
   "source": [
    "# Determinación de la tercera ronda del torneo."
   ]
  },
  {
   "cell_type": "code",
   "execution_count": 7,
   "id": "a137613e",
   "metadata": {},
   "outputs": [],
   "source": [
    "jugadores = ranking.Jugador.tolist()"
   ]
  },
  {
   "cell_type": "code",
   "execution_count": 8,
   "id": "d32d68f9",
   "metadata": {},
   "outputs": [],
   "source": [
    "pareja1=[]\n",
    "for i in range(1):\n",
    "    random.seed(2)\n",
    "    pareja1.append(random.sample(jugadores,k=2))\n",
    "    for e in pareja1[0]: \n",
    "        jugadores.remove(e)\n",
    "pareja2=[]\n",
    "for i in range(1):\n",
    "    random.seed(2)\n",
    "    pareja2.append(random.sample(jugadores,k=2))\n",
    "    for e in pareja2[0]: \n",
    "        jugadores.remove(e)\n",
    "pareja3=[]\n",
    "for i in range(1):\n",
    "    random.seed(2)\n",
    "    pareja3.append(random.sample(jugadores,k=2))\n",
    "    for e in pareja3[0]: \n",
    "        jugadores.remove(e)\n",
    "pareja4=[]\n",
    "for i in range(1):\n",
    "    random.seed(2)\n",
    "    \n",
    "    pareja4.append(random.sample(jugadores,k=2))\n",
    "    for e in pareja4[0]: \n",
    "        jugadores.remove(e)\n",
    "pareja5=[]\n",
    "for i in range(1):\n",
    "    random.seed(2)\n",
    "    pareja5.append(random.sample(jugadores,k=2))\n",
    "    for e in pareja5[0]: \n",
    "        jugadores.remove(e)\n",
    "        \n",
    "pareja6=[]\n",
    "for i in range(1):\n",
    "    random.seed(2)\n",
    "    pareja6.append(random.sample(jugadores,k=2))\n",
    "    for e in pareja6[0]: \n",
    "        jugadores.remove(e)\n",
    "pareja7=[]\n",
    "for i in range(1):\n",
    "    random.seed(2)\n",
    "    pareja7.append(random.sample(jugadores,k=2))\n",
    "    for e in pareja7[0]: \n",
    "        jugadores.remove(e)\n",
    "pareja8=[]\n",
    "for i in range(1):\n",
    "    random.seed(2)\n",
    "    pareja8.append(random.sample(jugadores,k=2))\n",
    "    for e in pareja8[0]: \n",
    "        jugadores.remove(e)\n",
    "        \n",
    "pareja9=[]\n",
    "for i in range(1):\n",
    "    random.seed(2)\n",
    "    pareja9.append(random.sample(jugadores,k=2))\n",
    "    for e in pareja9[0]: \n",
    "        jugadores.remove(e)\n",
    "        \n",
    "pareja10=[]\n",
    "for i in range(1):\n",
    "    random.seed(2)\n",
    "    pareja10.append(random.sample(jugadores,k=2))\n",
    "    for e in pareja10[0]: \n",
    "        jugadores.remove(e)\n",
    "pareja11=[]\n",
    "for i in range(1):\n",
    "    random.seed(2)\n",
    "    pareja11.append(random.sample(jugadores,k=2))\n",
    "    for e in pareja11[0]: \n",
    "        jugadores.remove(e)\n",
    "pareja12=[]\n",
    "for i in range(1):\n",
    "    random.seed(2)\n",
    "    pareja12.append(random.sample(jugadores,k=2))\n",
    "    for e in pareja12[0]: \n",
    "        jugadores.remove(e)\n",
    "pareja13=[]\n",
    "for i in range(1):\n",
    "    random.seed(2)\n",
    "    pareja13.append(random.sample(jugadores,k=2))\n",
    "    for e in pareja13[0]: \n",
    "        jugadores.remove(e)\n",
    "pareja14=[]\n",
    "for i in range(1):\n",
    "    random.seed(2)\n",
    "    pareja14.append(random.sample(jugadores,k=2))\n",
    "    for e in pareja14[0]: \n",
    "        jugadores.remove(e)    \n",
    "pareja15=[]\n",
    "for i in range(1):\n",
    "    random.seed(2)\n",
    "    pareja15.append(random.sample(jugadores,k=2))\n",
    "    for e in pareja15[0]: \n",
    "        jugadores.remove(e)\n",
    "pareja16=[]\n",
    "for i in range(1):\n",
    "    random.seed(2)\n",
    "    pareja16.append(random.sample(jugadores,k=2))\n",
    "    for e in pareja16[0]: \n",
    "        jugadores.remove(e)"
   ]
  },
  {
   "cell_type": "code",
   "execution_count": 9,
   "id": "98c6b3ec",
   "metadata": {},
   "outputs": [],
   "source": [
    "par1=[]\n",
    "for i in pareja1[0]:\n",
    "    par1.append(i)\n",
    "par2=[]\n",
    "for i in pareja2[0]:\n",
    "    par2.append(i)\n",
    "par3=[]\n",
    "for i in pareja3[0]:\n",
    "    par3.append(i)\n",
    "par4=[]\n",
    "for i in pareja4[0]:\n",
    "    par4.append(i)\n",
    "par5=[]\n",
    "for i in pareja5[0]:\n",
    "    par5.append(i)\n",
    "par6=[]\n",
    "for i in pareja6[0]:\n",
    "    par6.append(i)\n",
    "par7=[]\n",
    "for i in pareja7[0]:\n",
    "    par7.append(i)\n",
    "par8=[]\n",
    "for i in pareja8[0]:\n",
    "    par8.append(i)\n",
    "par9=[]\n",
    "for i in pareja9[0]:\n",
    "    par9.append(i)\n",
    "par10=[]\n",
    "for i in pareja10[0]:\n",
    "    par10.append(i)\n",
    "par11=[]\n",
    "for i in pareja11[0]:\n",
    "    par11.append(i)\n",
    "par12=[]\n",
    "for i in pareja12[0]:\n",
    "    par12.append(i)\n",
    "par13=[]\n",
    "for i in pareja13[0]:\n",
    "    par13.append(i)\n",
    "par14=[]\n",
    "for i in pareja14[0]:\n",
    "    par14.append(i)\n",
    "par15=[]\n",
    "for i in pareja15[0]:\n",
    "    par15.append(i)\n",
    "par16=[]\n",
    "for i in pareja16[0]:\n",
    "    par16.append(i)"
   ]
  },
  {
   "cell_type": "code",
   "execution_count": 10,
   "id": "a307ca96",
   "metadata": {},
   "outputs": [],
   "source": [
    "def fecha(x):\n",
    "    \n",
    "    return int(x[:4])"
   ]
  },
  {
   "cell_type": "code",
   "execution_count": 11,
   "id": "e18b8abc",
   "metadata": {},
   "outputs": [],
   "source": [
    "alltorneos.Date = alltorneos.Date.apply(fecha)"
   ]
  },
  {
   "cell_type": "code",
   "execution_count": 12,
   "id": "b2cfd1eb",
   "metadata": {},
   "outputs": [
    {
     "data": {
      "text/plain": [
       "array(['The Final', 'Semifinals', 'Quarterfinals', '4th Round',\n",
       "       '3rd Round', '2nd Round', '1st Round', 'Round Robin'], dtype=object)"
      ]
     },
     "execution_count": 12,
     "metadata": {},
     "output_type": "execute_result"
    }
   ],
   "source": [
    "alltorneos.Round.unique()"
   ]
  },
  {
   "cell_type": "code",
   "execution_count": 13,
   "id": "f551fb39",
   "metadata": {},
   "outputs": [],
   "source": [
    "series={'ATP500': 2, 'Masters 1000': 3, 'ATP250': 1, 'Grand Slam': 5, 'Masters 1000': 4, 'ATP250': 1,'Masters Cup':3 }  \n",
    "\n",
    "rounds={'The Final': 7, 'Semifinals': 6, 'Quarterfinals': 5,\n",
    "        '4th Round': 4, '3rd Round': 3, '2nd Round': 2,\n",
    "        '1st Round': 1, 'Round Robin': 5.5}  "
   ]
  },
  {
   "cell_type": "code",
   "execution_count": null,
   "id": "e1b1f039",
   "metadata": {},
   "outputs": [],
   "source": []
  },
  {
   "cell_type": "code",
   "execution_count": 14,
   "id": "b855cede",
   "metadata": {
    "scrolled": true
   },
   "outputs": [
    {
     "data": {
      "text/plain": [
       "Index(['Jugador', 'Efectividad_al_saque', 'Primer_Servicio_Saque_pct',\n",
       "       'Puntos_Ganados_Primer_Saque_pct', 'Puntos_Ganados_Segundo_Saque_pct',\n",
       "       'Games_Ganados_Saque_pct', 'Prom_AcesxPartido', 'Prom_DoblexPartido',\n",
       "       'Año', 'Superficie'],\n",
       "      dtype='object')"
      ]
     },
     "execution_count": 14,
     "metadata": {},
     "output_type": "execute_result"
    }
   ],
   "source": [
    "efectividadessaque.columns"
   ]
  },
  {
   "cell_type": "code",
   "execution_count": 15,
   "id": "f62f9cac",
   "metadata": {},
   "outputs": [
    {
     "data": {
      "text/plain": [
       "Index(['Jugador', 'Efectividad_al_resto', 'Restos_Primer_Saque_pct',\n",
       "       'Restos_Segundo_Saque_pct', 'Games_Resto_pct',\n",
       "       'Break_Points_Covertidos_pct', 'Año', 'Superficie'],\n",
       "      dtype='object')"
      ]
     },
     "execution_count": 15,
     "metadata": {},
     "output_type": "execute_result"
    }
   ],
   "source": [
    "efectividadesresto.columns"
   ]
  },
  {
   "cell_type": "code",
   "execution_count": 16,
   "id": "d08ecffd",
   "metadata": {},
   "outputs": [
    {
     "data": {
      "text/plain": [
       "Index(['Jugador', 'Efectividad_bajo_presion', 'Break_Points_Covertidos_pct',\n",
       "       'Break_Points_Salvados_pct', 'Tie_Break_Ganados_pct',\n",
       "       'Victorias_Sets_Definitivos_pct', 'Año', 'Superficie'],\n",
       "      dtype='object')"
      ]
     },
     "execution_count": 16,
     "metadata": {},
     "output_type": "execute_result"
    }
   ],
   "source": [
    "efectividadespresion.columns"
   ]
  },
  {
   "cell_type": "code",
   "execution_count": 17,
   "id": "e9fab315",
   "metadata": {},
   "outputs": [],
   "source": [
    "rename=['Winner', 'Efectividad_al_saque', 'Primer_Servicio_Saque_pct',\n",
    "       'Puntos_Ganados_Primer_Saque_pct', 'Puntos_Ganados_Segundo_Saque_pct',\n",
    "       'Games_Ganados_Saque_pct', 'Prom_AcesxPartido', 'Prom_DoblexPartido',\n",
    "       'Date', 'Surface']\n",
    "efectividadessaque.columns = rename"
   ]
  },
  {
   "cell_type": "code",
   "execution_count": 18,
   "id": "fd794719",
   "metadata": {},
   "outputs": [],
   "source": [
    "rename=['Winner', 'Efectividad_al_resto', 'Restos_Primer_Saque_pct',\n",
    "       'Restos_Segundo_Saque_pct', 'Games_Resto_pct',\n",
    "       'Break_Points_Covertidos_pct', 'Date', 'Surface']\n",
    "efectividadesresto.columns = rename"
   ]
  },
  {
   "cell_type": "code",
   "execution_count": 19,
   "id": "9b9c13a3",
   "metadata": {},
   "outputs": [],
   "source": [
    "rename=['Winner', 'Efectividad_bajo_presion', 'Break_Points_Covertidos_pct',\n",
    "       'Break_Points_Salvados_pct', 'Tie_Break_Ganados_pct',\n",
    "       'Victorias_Sets_Definitivos_pct', 'Date', 'Surface']\n",
    "efectividadespresion.columns = rename"
   ]
  },
  {
   "cell_type": "code",
   "execution_count": 20,
   "id": "323219d1",
   "metadata": {},
   "outputs": [],
   "source": [
    "newtorneos = alltorneos.merge(efectividadessaque, on = ['Winner','Date','Surface'])"
   ]
  },
  {
   "cell_type": "code",
   "execution_count": 21,
   "id": "a75e33ab",
   "metadata": {},
   "outputs": [],
   "source": [
    "newtorneos1 =newtorneos.merge(efectividadesresto, on = ['Winner','Date','Surface'])"
   ]
  },
  {
   "cell_type": "code",
   "execution_count": 22,
   "id": "6e78abc6",
   "metadata": {},
   "outputs": [],
   "source": [
    "newtorneos2 =newtorneos1.merge(efectividadespresion, on = ['Winner','Date','Surface'])"
   ]
  },
  {
   "cell_type": "code",
   "execution_count": 23,
   "id": "cb79bdf2",
   "metadata": {},
   "outputs": [],
   "source": [
    "totaltorneos=newtorneos2"
   ]
  },
  {
   "cell_type": "code",
   "execution_count": 24,
   "id": "0902c3b5",
   "metadata": {},
   "outputs": [
    {
     "data": {
      "text/html": [
       "<div>\n",
       "<style scoped>\n",
       "    .dataframe tbody tr th:only-of-type {\n",
       "        vertical-align: middle;\n",
       "    }\n",
       "\n",
       "    .dataframe tbody tr th {\n",
       "        vertical-align: top;\n",
       "    }\n",
       "\n",
       "    .dataframe thead th {\n",
       "        text-align: right;\n",
       "    }\n",
       "</style>\n",
       "<table border=\"1\" class=\"dataframe\">\n",
       "  <thead>\n",
       "    <tr style=\"text-align: right;\">\n",
       "      <th></th>\n",
       "      <th>Tournament</th>\n",
       "      <th>Date</th>\n",
       "      <th>Series</th>\n",
       "      <th>Surface</th>\n",
       "      <th>Round</th>\n",
       "      <th>Winner</th>\n",
       "      <th>Loser</th>\n",
       "      <th>Efectividad_al_saque</th>\n",
       "      <th>Primer_Servicio_Saque_pct</th>\n",
       "      <th>Puntos_Ganados_Primer_Saque_pct</th>\n",
       "      <th>Puntos_Ganados_Segundo_Saque_pct</th>\n",
       "      <th>Games_Ganados_Saque_pct</th>\n",
       "      <th>Prom_AcesxPartido</th>\n",
       "      <th>Prom_DoblexPartido</th>\n",
       "      <th>Efectividad_al_resto</th>\n",
       "      <th>Restos_Primer_Saque_pct</th>\n",
       "      <th>Restos_Segundo_Saque_pct</th>\n",
       "      <th>Games_Resto_pct</th>\n",
       "      <th>Break_Points_Covertidos_pct_x</th>\n",
       "      <th>Efectividad_bajo_presion</th>\n",
       "      <th>Break_Points_Covertidos_pct_y</th>\n",
       "      <th>Break_Points_Salvados_pct</th>\n",
       "      <th>Tie_Break_Ganados_pct</th>\n",
       "      <th>Victorias_Sets_Definitivos_pct</th>\n",
       "    </tr>\n",
       "  </thead>\n",
       "  <tbody>\n",
       "    <tr>\n",
       "      <th>0</th>\n",
       "      <td>BNP Paribas Masters</td>\n",
       "      <td>2022</td>\n",
       "      <td>Masters 1000</td>\n",
       "      <td>Hard</td>\n",
       "      <td>The Final</td>\n",
       "      <td>Holger Rune</td>\n",
       "      <td>Novak Djokovic</td>\n",
       "      <td>280.6</td>\n",
       "      <td>64.1</td>\n",
       "      <td>74.3</td>\n",
       "      <td>54.0</td>\n",
       "      <td>86.2</td>\n",
       "      <td>5.6</td>\n",
       "      <td>3.6</td>\n",
       "      <td>142.7</td>\n",
       "      <td>27.2</td>\n",
       "      <td>52.8</td>\n",
       "      <td>20.7</td>\n",
       "      <td>42.0</td>\n",
       "      <td>230.2</td>\n",
       "      <td>42.0</td>\n",
       "      <td>66.7</td>\n",
       "      <td>60.0</td>\n",
       "      <td>61.5</td>\n",
       "    </tr>\n",
       "    <tr>\n",
       "      <th>1</th>\n",
       "      <td>BNP Paribas Masters</td>\n",
       "      <td>2022</td>\n",
       "      <td>Masters 1000</td>\n",
       "      <td>Hard</td>\n",
       "      <td>Semifinals</td>\n",
       "      <td>Holger Rune</td>\n",
       "      <td>Felix Auger-Aliassime</td>\n",
       "      <td>280.6</td>\n",
       "      <td>64.1</td>\n",
       "      <td>74.3</td>\n",
       "      <td>54.0</td>\n",
       "      <td>86.2</td>\n",
       "      <td>5.6</td>\n",
       "      <td>3.6</td>\n",
       "      <td>142.7</td>\n",
       "      <td>27.2</td>\n",
       "      <td>52.8</td>\n",
       "      <td>20.7</td>\n",
       "      <td>42.0</td>\n",
       "      <td>230.2</td>\n",
       "      <td>42.0</td>\n",
       "      <td>66.7</td>\n",
       "      <td>60.0</td>\n",
       "      <td>61.5</td>\n",
       "    </tr>\n",
       "    <tr>\n",
       "      <th>2</th>\n",
       "      <td>BNP Paribas Masters</td>\n",
       "      <td>2022</td>\n",
       "      <td>Masters 1000</td>\n",
       "      <td>Hard</td>\n",
       "      <td>Quarterfinals</td>\n",
       "      <td>Holger Rune</td>\n",
       "      <td>Carlos Alcaraz</td>\n",
       "      <td>280.6</td>\n",
       "      <td>64.1</td>\n",
       "      <td>74.3</td>\n",
       "      <td>54.0</td>\n",
       "      <td>86.2</td>\n",
       "      <td>5.6</td>\n",
       "      <td>3.6</td>\n",
       "      <td>142.7</td>\n",
       "      <td>27.2</td>\n",
       "      <td>52.8</td>\n",
       "      <td>20.7</td>\n",
       "      <td>42.0</td>\n",
       "      <td>230.2</td>\n",
       "      <td>42.0</td>\n",
       "      <td>66.7</td>\n",
       "      <td>60.0</td>\n",
       "      <td>61.5</td>\n",
       "    </tr>\n",
       "    <tr>\n",
       "      <th>3</th>\n",
       "      <td>BNP Paribas Masters</td>\n",
       "      <td>2022</td>\n",
       "      <td>Masters 1000</td>\n",
       "      <td>Hard</td>\n",
       "      <td>4th Round</td>\n",
       "      <td>Holger Rune</td>\n",
       "      <td>Andrey Rublev</td>\n",
       "      <td>280.6</td>\n",
       "      <td>64.1</td>\n",
       "      <td>74.3</td>\n",
       "      <td>54.0</td>\n",
       "      <td>86.2</td>\n",
       "      <td>5.6</td>\n",
       "      <td>3.6</td>\n",
       "      <td>142.7</td>\n",
       "      <td>27.2</td>\n",
       "      <td>52.8</td>\n",
       "      <td>20.7</td>\n",
       "      <td>42.0</td>\n",
       "      <td>230.2</td>\n",
       "      <td>42.0</td>\n",
       "      <td>66.7</td>\n",
       "      <td>60.0</td>\n",
       "      <td>61.5</td>\n",
       "    </tr>\n",
       "    <tr>\n",
       "      <th>4</th>\n",
       "      <td>BNP Paribas Masters</td>\n",
       "      <td>2022</td>\n",
       "      <td>Masters 1000</td>\n",
       "      <td>Hard</td>\n",
       "      <td>3rd Round</td>\n",
       "      <td>Holger Rune</td>\n",
       "      <td>Hubert Hurkacz</td>\n",
       "      <td>280.6</td>\n",
       "      <td>64.1</td>\n",
       "      <td>74.3</td>\n",
       "      <td>54.0</td>\n",
       "      <td>86.2</td>\n",
       "      <td>5.6</td>\n",
       "      <td>3.6</td>\n",
       "      <td>142.7</td>\n",
       "      <td>27.2</td>\n",
       "      <td>52.8</td>\n",
       "      <td>20.7</td>\n",
       "      <td>42.0</td>\n",
       "      <td>230.2</td>\n",
       "      <td>42.0</td>\n",
       "      <td>66.7</td>\n",
       "      <td>60.0</td>\n",
       "      <td>61.5</td>\n",
       "    </tr>\n",
       "    <tr>\n",
       "      <th>...</th>\n",
       "      <td>...</td>\n",
       "      <td>...</td>\n",
       "      <td>...</td>\n",
       "      <td>...</td>\n",
       "      <td>...</td>\n",
       "      <td>...</td>\n",
       "      <td>...</td>\n",
       "      <td>...</td>\n",
       "      <td>...</td>\n",
       "      <td>...</td>\n",
       "      <td>...</td>\n",
       "      <td>...</td>\n",
       "      <td>...</td>\n",
       "      <td>...</td>\n",
       "      <td>...</td>\n",
       "      <td>...</td>\n",
       "      <td>...</td>\n",
       "      <td>...</td>\n",
       "      <td>...</td>\n",
       "      <td>...</td>\n",
       "      <td>...</td>\n",
       "      <td>...</td>\n",
       "      <td>...</td>\n",
       "      <td>...</td>\n",
       "    </tr>\n",
       "    <tr>\n",
       "      <th>1033</th>\n",
       "      <td>Shanghai Masters</td>\n",
       "      <td>2018</td>\n",
       "      <td>Masters 1000</td>\n",
       "      <td>Hard</td>\n",
       "      <td>Semifinals</td>\n",
       "      <td>Novak Djokovic</td>\n",
       "      <td>Alexander Zverev</td>\n",
       "      <td>294.5</td>\n",
       "      <td>66.0</td>\n",
       "      <td>77.0</td>\n",
       "      <td>59.4</td>\n",
       "      <td>88.5</td>\n",
       "      <td>6.0</td>\n",
       "      <td>2.4</td>\n",
       "      <td>167.8</td>\n",
       "      <td>33.7</td>\n",
       "      <td>55.4</td>\n",
       "      <td>31.5</td>\n",
       "      <td>47.2</td>\n",
       "      <td>216.5</td>\n",
       "      <td>47.2</td>\n",
       "      <td>59.1</td>\n",
       "      <td>72.7</td>\n",
       "      <td>37.5</td>\n",
       "    </tr>\n",
       "    <tr>\n",
       "      <th>1034</th>\n",
       "      <td>Shanghai Masters</td>\n",
       "      <td>2018</td>\n",
       "      <td>Masters 1000</td>\n",
       "      <td>Hard</td>\n",
       "      <td>The Final</td>\n",
       "      <td>Novak Djokovic</td>\n",
       "      <td>Borna Coric</td>\n",
       "      <td>294.5</td>\n",
       "      <td>66.0</td>\n",
       "      <td>77.0</td>\n",
       "      <td>59.4</td>\n",
       "      <td>88.5</td>\n",
       "      <td>6.0</td>\n",
       "      <td>2.4</td>\n",
       "      <td>167.8</td>\n",
       "      <td>33.7</td>\n",
       "      <td>55.4</td>\n",
       "      <td>31.5</td>\n",
       "      <td>47.2</td>\n",
       "      <td>216.5</td>\n",
       "      <td>47.2</td>\n",
       "      <td>59.1</td>\n",
       "      <td>72.7</td>\n",
       "      <td>37.5</td>\n",
       "    </tr>\n",
       "    <tr>\n",
       "      <th>1035</th>\n",
       "      <td>BNP Paribas Masters</td>\n",
       "      <td>2018</td>\n",
       "      <td>Masters 1000</td>\n",
       "      <td>Hard</td>\n",
       "      <td>Quarterfinals</td>\n",
       "      <td>Novak Djokovic</td>\n",
       "      <td>Marin Cilic</td>\n",
       "      <td>294.5</td>\n",
       "      <td>66.0</td>\n",
       "      <td>77.0</td>\n",
       "      <td>59.4</td>\n",
       "      <td>88.5</td>\n",
       "      <td>6.0</td>\n",
       "      <td>2.4</td>\n",
       "      <td>167.8</td>\n",
       "      <td>33.7</td>\n",
       "      <td>55.4</td>\n",
       "      <td>31.5</td>\n",
       "      <td>47.2</td>\n",
       "      <td>216.5</td>\n",
       "      <td>47.2</td>\n",
       "      <td>59.1</td>\n",
       "      <td>72.7</td>\n",
       "      <td>37.5</td>\n",
       "    </tr>\n",
       "    <tr>\n",
       "      <th>1036</th>\n",
       "      <td>Masters Cup</td>\n",
       "      <td>2018</td>\n",
       "      <td>Masters Cup</td>\n",
       "      <td>Hard</td>\n",
       "      <td>Round Robin</td>\n",
       "      <td>Novak Djokovic</td>\n",
       "      <td>Alexander Zverev</td>\n",
       "      <td>294.5</td>\n",
       "      <td>66.0</td>\n",
       "      <td>77.0</td>\n",
       "      <td>59.4</td>\n",
       "      <td>88.5</td>\n",
       "      <td>6.0</td>\n",
       "      <td>2.4</td>\n",
       "      <td>167.8</td>\n",
       "      <td>33.7</td>\n",
       "      <td>55.4</td>\n",
       "      <td>31.5</td>\n",
       "      <td>47.2</td>\n",
       "      <td>216.5</td>\n",
       "      <td>47.2</td>\n",
       "      <td>59.1</td>\n",
       "      <td>72.7</td>\n",
       "      <td>37.5</td>\n",
       "    </tr>\n",
       "    <tr>\n",
       "      <th>1037</th>\n",
       "      <td>Masters Cup</td>\n",
       "      <td>2018</td>\n",
       "      <td>Masters Cup</td>\n",
       "      <td>Hard</td>\n",
       "      <td>Round Robin</td>\n",
       "      <td>Novak Djokovic</td>\n",
       "      <td>Marin Cilic</td>\n",
       "      <td>294.5</td>\n",
       "      <td>66.0</td>\n",
       "      <td>77.0</td>\n",
       "      <td>59.4</td>\n",
       "      <td>88.5</td>\n",
       "      <td>6.0</td>\n",
       "      <td>2.4</td>\n",
       "      <td>167.8</td>\n",
       "      <td>33.7</td>\n",
       "      <td>55.4</td>\n",
       "      <td>31.5</td>\n",
       "      <td>47.2</td>\n",
       "      <td>216.5</td>\n",
       "      <td>47.2</td>\n",
       "      <td>59.1</td>\n",
       "      <td>72.7</td>\n",
       "      <td>37.5</td>\n",
       "    </tr>\n",
       "  </tbody>\n",
       "</table>\n",
       "<p>1038 rows × 24 columns</p>\n",
       "</div>"
      ],
      "text/plain": [
       "               Tournament  Date        Series Surface          Round  \\\n",
       "0     BNP Paribas Masters  2022  Masters 1000    Hard      The Final   \n",
       "1     BNP Paribas Masters  2022  Masters 1000    Hard     Semifinals   \n",
       "2     BNP Paribas Masters  2022  Masters 1000    Hard  Quarterfinals   \n",
       "3     BNP Paribas Masters  2022  Masters 1000    Hard      4th Round   \n",
       "4     BNP Paribas Masters  2022  Masters 1000    Hard      3rd Round   \n",
       "...                   ...   ...           ...     ...            ...   \n",
       "1033     Shanghai Masters  2018  Masters 1000    Hard     Semifinals   \n",
       "1034     Shanghai Masters  2018  Masters 1000    Hard      The Final   \n",
       "1035  BNP Paribas Masters  2018  Masters 1000    Hard  Quarterfinals   \n",
       "1036          Masters Cup  2018   Masters Cup    Hard    Round Robin   \n",
       "1037          Masters Cup  2018   Masters Cup    Hard    Round Robin   \n",
       "\n",
       "              Winner                  Loser  Efectividad_al_saque  \\\n",
       "0        Holger Rune         Novak Djokovic                 280.6   \n",
       "1        Holger Rune  Felix Auger-Aliassime                 280.6   \n",
       "2        Holger Rune         Carlos Alcaraz                 280.6   \n",
       "3        Holger Rune          Andrey Rublev                 280.6   \n",
       "4        Holger Rune         Hubert Hurkacz                 280.6   \n",
       "...              ...                    ...                   ...   \n",
       "1033  Novak Djokovic       Alexander Zverev                 294.5   \n",
       "1034  Novak Djokovic            Borna Coric                 294.5   \n",
       "1035  Novak Djokovic            Marin Cilic                 294.5   \n",
       "1036  Novak Djokovic       Alexander Zverev                 294.5   \n",
       "1037  Novak Djokovic            Marin Cilic                 294.5   \n",
       "\n",
       "      Primer_Servicio_Saque_pct  Puntos_Ganados_Primer_Saque_pct  \\\n",
       "0                          64.1                             74.3   \n",
       "1                          64.1                             74.3   \n",
       "2                          64.1                             74.3   \n",
       "3                          64.1                             74.3   \n",
       "4                          64.1                             74.3   \n",
       "...                         ...                              ...   \n",
       "1033                       66.0                             77.0   \n",
       "1034                       66.0                             77.0   \n",
       "1035                       66.0                             77.0   \n",
       "1036                       66.0                             77.0   \n",
       "1037                       66.0                             77.0   \n",
       "\n",
       "      Puntos_Ganados_Segundo_Saque_pct  Games_Ganados_Saque_pct  \\\n",
       "0                                 54.0                     86.2   \n",
       "1                                 54.0                     86.2   \n",
       "2                                 54.0                     86.2   \n",
       "3                                 54.0                     86.2   \n",
       "4                                 54.0                     86.2   \n",
       "...                                ...                      ...   \n",
       "1033                              59.4                     88.5   \n",
       "1034                              59.4                     88.5   \n",
       "1035                              59.4                     88.5   \n",
       "1036                              59.4                     88.5   \n",
       "1037                              59.4                     88.5   \n",
       "\n",
       "      Prom_AcesxPartido  Prom_DoblexPartido  Efectividad_al_resto  \\\n",
       "0                   5.6                 3.6                 142.7   \n",
       "1                   5.6                 3.6                 142.7   \n",
       "2                   5.6                 3.6                 142.7   \n",
       "3                   5.6                 3.6                 142.7   \n",
       "4                   5.6                 3.6                 142.7   \n",
       "...                 ...                 ...                   ...   \n",
       "1033                6.0                 2.4                 167.8   \n",
       "1034                6.0                 2.4                 167.8   \n",
       "1035                6.0                 2.4                 167.8   \n",
       "1036                6.0                 2.4                 167.8   \n",
       "1037                6.0                 2.4                 167.8   \n",
       "\n",
       "      Restos_Primer_Saque_pct  Restos_Segundo_Saque_pct  Games_Resto_pct  \\\n",
       "0                        27.2                      52.8             20.7   \n",
       "1                        27.2                      52.8             20.7   \n",
       "2                        27.2                      52.8             20.7   \n",
       "3                        27.2                      52.8             20.7   \n",
       "4                        27.2                      52.8             20.7   \n",
       "...                       ...                       ...              ...   \n",
       "1033                     33.7                      55.4             31.5   \n",
       "1034                     33.7                      55.4             31.5   \n",
       "1035                     33.7                      55.4             31.5   \n",
       "1036                     33.7                      55.4             31.5   \n",
       "1037                     33.7                      55.4             31.5   \n",
       "\n",
       "      Break_Points_Covertidos_pct_x  Efectividad_bajo_presion  \\\n",
       "0                              42.0                     230.2   \n",
       "1                              42.0                     230.2   \n",
       "2                              42.0                     230.2   \n",
       "3                              42.0                     230.2   \n",
       "4                              42.0                     230.2   \n",
       "...                             ...                       ...   \n",
       "1033                           47.2                     216.5   \n",
       "1034                           47.2                     216.5   \n",
       "1035                           47.2                     216.5   \n",
       "1036                           47.2                     216.5   \n",
       "1037                           47.2                     216.5   \n",
       "\n",
       "      Break_Points_Covertidos_pct_y  Break_Points_Salvados_pct  \\\n",
       "0                              42.0                       66.7   \n",
       "1                              42.0                       66.7   \n",
       "2                              42.0                       66.7   \n",
       "3                              42.0                       66.7   \n",
       "4                              42.0                       66.7   \n",
       "...                             ...                        ...   \n",
       "1033                           47.2                       59.1   \n",
       "1034                           47.2                       59.1   \n",
       "1035                           47.2                       59.1   \n",
       "1036                           47.2                       59.1   \n",
       "1037                           47.2                       59.1   \n",
       "\n",
       "      Tie_Break_Ganados_pct  Victorias_Sets_Definitivos_pct  \n",
       "0                      60.0                            61.5  \n",
       "1                      60.0                            61.5  \n",
       "2                      60.0                            61.5  \n",
       "3                      60.0                            61.5  \n",
       "4                      60.0                            61.5  \n",
       "...                     ...                             ...  \n",
       "1033                   72.7                            37.5  \n",
       "1034                   72.7                            37.5  \n",
       "1035                   72.7                            37.5  \n",
       "1036                   72.7                            37.5  \n",
       "1037                   72.7                            37.5  \n",
       "\n",
       "[1038 rows x 24 columns]"
      ]
     },
     "execution_count": 24,
     "metadata": {},
     "output_type": "execute_result"
    }
   ],
   "source": [
    "totaltorneos"
   ]
  },
  {
   "cell_type": "markdown",
   "id": "59f8505d",
   "metadata": {},
   "source": [
    "# 3rd Round"
   ]
  },
  {
   "cell_type": "markdown",
   "id": "dd0dae5d",
   "metadata": {},
   "source": [
    "# Pareja 1"
   ]
  },
  {
   "cell_type": "code",
   "execution_count": 25,
   "id": "269dd386",
   "metadata": {
    "scrolled": true
   },
   "outputs": [
    {
     "data": {
      "text/plain": [
       "['Stefanos Tsitsipas', 'Felix Auger-Aliassime']"
      ]
     },
     "execution_count": 25,
     "metadata": {},
     "output_type": "execute_result"
    }
   ],
   "source": [
    "par1"
   ]
  },
  {
   "cell_type": "markdown",
   "id": "c478db58",
   "metadata": {},
   "source": [
    "### Stefanos Tsitsipas"
   ]
  },
  {
   "cell_type": "code",
   "execution_count": 26,
   "id": "ade808f4",
   "metadata": {},
   "outputs": [],
   "source": [
    "primerarondapar1 = totaltorneos[(totaltorneos['Winner'] == 'Stefanos Tsitsipas')]\n",
    "                        \n",
    "primerarondapar1rep = totaltorneos[(totaltorneos['Loser'] == 'Stefanos Tsitsipas')]"
   ]
  },
  {
   "cell_type": "code",
   "execution_count": 27,
   "id": "d4f5cc99",
   "metadata": {},
   "outputs": [],
   "source": [
    "tsitsipas=pd.concat([primerarondapar1,primerarondapar1rep],axis=0)"
   ]
  },
  {
   "cell_type": "code",
   "execution_count": 28,
   "id": "8eeb04a2",
   "metadata": {},
   "outputs": [],
   "source": [
    "win=tsitsipas.Winner"
   ]
  },
  {
   "cell_type": "code",
   "execution_count": 29,
   "id": "25b9aef0",
   "metadata": {},
   "outputs": [],
   "source": [
    "tsitsipas['Win'] = win "
   ]
  },
  {
   "cell_type": "code",
   "execution_count": 30,
   "id": "66f1c592",
   "metadata": {},
   "outputs": [
    {
     "data": {
      "text/plain": [
       "(76, 51)"
      ]
     },
     "execution_count": 30,
     "metadata": {},
     "output_type": "execute_result"
    }
   ],
   "source": [
    "tsitsipas.Winner.value_counts()[0],tsitsipas.Loser.value_counts()[0]"
   ]
  },
  {
   "cell_type": "code",
   "execution_count": 31,
   "id": "0705b274",
   "metadata": {},
   "outputs": [],
   "source": [
    "def win(x):\n",
    "    \n",
    "    if x == 'Stefanos Tsitsipas':\n",
    "        return 1\n",
    "    else:\n",
    "        return 0"
   ]
  },
  {
   "cell_type": "code",
   "execution_count": 32,
   "id": "c538247a",
   "metadata": {},
   "outputs": [],
   "source": [
    "tsitsipas.Win = tsitsipas.Win.apply(win)"
   ]
  },
  {
   "cell_type": "code",
   "execution_count": 33,
   "id": "59bb6b92",
   "metadata": {},
   "outputs": [],
   "source": [
    "tsitsipas=tsitsipas.drop(columns='Loser')"
   ]
  },
  {
   "cell_type": "code",
   "execution_count": 34,
   "id": "e9225322",
   "metadata": {},
   "outputs": [
    {
     "data": {
      "text/html": [
       "<div>\n",
       "<style scoped>\n",
       "    .dataframe tbody tr th:only-of-type {\n",
       "        vertical-align: middle;\n",
       "    }\n",
       "\n",
       "    .dataframe tbody tr th {\n",
       "        vertical-align: top;\n",
       "    }\n",
       "\n",
       "    .dataframe thead th {\n",
       "        text-align: right;\n",
       "    }\n",
       "</style>\n",
       "<table border=\"1\" class=\"dataframe\">\n",
       "  <thead>\n",
       "    <tr style=\"text-align: right;\">\n",
       "      <th></th>\n",
       "      <th>Tournament</th>\n",
       "      <th>Date</th>\n",
       "      <th>Series</th>\n",
       "      <th>Surface</th>\n",
       "      <th>Round</th>\n",
       "      <th>Winner</th>\n",
       "      <th>Efectividad_al_saque</th>\n",
       "      <th>Primer_Servicio_Saque_pct</th>\n",
       "      <th>Puntos_Ganados_Primer_Saque_pct</th>\n",
       "      <th>Puntos_Ganados_Segundo_Saque_pct</th>\n",
       "      <th>Games_Ganados_Saque_pct</th>\n",
       "      <th>Prom_AcesxPartido</th>\n",
       "      <th>Prom_DoblexPartido</th>\n",
       "      <th>Efectividad_al_resto</th>\n",
       "      <th>Restos_Primer_Saque_pct</th>\n",
       "      <th>Restos_Segundo_Saque_pct</th>\n",
       "      <th>Games_Resto_pct</th>\n",
       "      <th>Break_Points_Covertidos_pct_x</th>\n",
       "      <th>Efectividad_bajo_presion</th>\n",
       "      <th>Break_Points_Covertidos_pct_y</th>\n",
       "      <th>Break_Points_Salvados_pct</th>\n",
       "      <th>Tie_Break_Ganados_pct</th>\n",
       "      <th>Victorias_Sets_Definitivos_pct</th>\n",
       "      <th>Win</th>\n",
       "    </tr>\n",
       "  </thead>\n",
       "  <tbody>\n",
       "    <tr>\n",
       "      <th>10</th>\n",
       "      <td>BNP Paribas Masters</td>\n",
       "      <td>2022</td>\n",
       "      <td>Masters 1000</td>\n",
       "      <td>Hard</td>\n",
       "      <td>Quarterfinals</td>\n",
       "      <td>Stefanos Tsitsipas</td>\n",
       "      <td>290.2</td>\n",
       "      <td>64.4</td>\n",
       "      <td>77.0</td>\n",
       "      <td>55.6</td>\n",
       "      <td>87.5</td>\n",
       "      <td>7.3</td>\n",
       "      <td>1.6</td>\n",
       "      <td>133.0</td>\n",
       "      <td>27.0</td>\n",
       "      <td>48.3</td>\n",
       "      <td>18.8</td>\n",
       "      <td>38.9</td>\n",
       "      <td>228.3</td>\n",
       "      <td>38.9</td>\n",
       "      <td>68.4</td>\n",
       "      <td>56.7</td>\n",
       "      <td>64.3</td>\n",
       "      <td>1</td>\n",
       "    </tr>\n",
       "    <tr>\n",
       "      <th>11</th>\n",
       "      <td>BNP Paribas Masters</td>\n",
       "      <td>2022</td>\n",
       "      <td>Masters 1000</td>\n",
       "      <td>Hard</td>\n",
       "      <td>3rd Round</td>\n",
       "      <td>Stefanos Tsitsipas</td>\n",
       "      <td>290.2</td>\n",
       "      <td>64.4</td>\n",
       "      <td>77.0</td>\n",
       "      <td>55.6</td>\n",
       "      <td>87.5</td>\n",
       "      <td>7.3</td>\n",
       "      <td>1.6</td>\n",
       "      <td>133.0</td>\n",
       "      <td>27.0</td>\n",
       "      <td>48.3</td>\n",
       "      <td>18.8</td>\n",
       "      <td>38.9</td>\n",
       "      <td>228.3</td>\n",
       "      <td>38.9</td>\n",
       "      <td>68.4</td>\n",
       "      <td>56.7</td>\n",
       "      <td>64.3</td>\n",
       "      <td>1</td>\n",
       "    </tr>\n",
       "    <tr>\n",
       "      <th>12</th>\n",
       "      <td>Western &amp; Southern Financial Group Masters</td>\n",
       "      <td>2022</td>\n",
       "      <td>Masters 1000</td>\n",
       "      <td>Hard</td>\n",
       "      <td>Semifinals</td>\n",
       "      <td>Stefanos Tsitsipas</td>\n",
       "      <td>290.2</td>\n",
       "      <td>64.4</td>\n",
       "      <td>77.0</td>\n",
       "      <td>55.6</td>\n",
       "      <td>87.5</td>\n",
       "      <td>7.3</td>\n",
       "      <td>1.6</td>\n",
       "      <td>133.0</td>\n",
       "      <td>27.0</td>\n",
       "      <td>48.3</td>\n",
       "      <td>18.8</td>\n",
       "      <td>38.9</td>\n",
       "      <td>228.3</td>\n",
       "      <td>38.9</td>\n",
       "      <td>68.4</td>\n",
       "      <td>56.7</td>\n",
       "      <td>64.3</td>\n",
       "      <td>1</td>\n",
       "    </tr>\n",
       "    <tr>\n",
       "      <th>13</th>\n",
       "      <td>Western &amp; Southern Financial Group Masters</td>\n",
       "      <td>2022</td>\n",
       "      <td>Masters 1000</td>\n",
       "      <td>Hard</td>\n",
       "      <td>4th Round</td>\n",
       "      <td>Stefanos Tsitsipas</td>\n",
       "      <td>290.2</td>\n",
       "      <td>64.4</td>\n",
       "      <td>77.0</td>\n",
       "      <td>55.6</td>\n",
       "      <td>87.5</td>\n",
       "      <td>7.3</td>\n",
       "      <td>1.6</td>\n",
       "      <td>133.0</td>\n",
       "      <td>27.0</td>\n",
       "      <td>48.3</td>\n",
       "      <td>18.8</td>\n",
       "      <td>38.9</td>\n",
       "      <td>228.3</td>\n",
       "      <td>38.9</td>\n",
       "      <td>68.4</td>\n",
       "      <td>56.7</td>\n",
       "      <td>64.3</td>\n",
       "      <td>1</td>\n",
       "    </tr>\n",
       "    <tr>\n",
       "      <th>14</th>\n",
       "      <td>Miami Open</td>\n",
       "      <td>2022</td>\n",
       "      <td>Masters 1000</td>\n",
       "      <td>Hard</td>\n",
       "      <td>3rd Round</td>\n",
       "      <td>Stefanos Tsitsipas</td>\n",
       "      <td>290.2</td>\n",
       "      <td>64.4</td>\n",
       "      <td>77.0</td>\n",
       "      <td>55.6</td>\n",
       "      <td>87.5</td>\n",
       "      <td>7.3</td>\n",
       "      <td>1.6</td>\n",
       "      <td>133.0</td>\n",
       "      <td>27.0</td>\n",
       "      <td>48.3</td>\n",
       "      <td>18.8</td>\n",
       "      <td>38.9</td>\n",
       "      <td>228.3</td>\n",
       "      <td>38.9</td>\n",
       "      <td>68.4</td>\n",
       "      <td>56.7</td>\n",
       "      <td>64.3</td>\n",
       "      <td>1</td>\n",
       "    </tr>\n",
       "  </tbody>\n",
       "</table>\n",
       "</div>"
      ],
      "text/plain": [
       "                                    Tournament  Date        Series Surface  \\\n",
       "10                         BNP Paribas Masters  2022  Masters 1000    Hard   \n",
       "11                         BNP Paribas Masters  2022  Masters 1000    Hard   \n",
       "12  Western & Southern Financial Group Masters  2022  Masters 1000    Hard   \n",
       "13  Western & Southern Financial Group Masters  2022  Masters 1000    Hard   \n",
       "14                                  Miami Open  2022  Masters 1000    Hard   \n",
       "\n",
       "            Round              Winner  Efectividad_al_saque  \\\n",
       "10  Quarterfinals  Stefanos Tsitsipas                 290.2   \n",
       "11      3rd Round  Stefanos Tsitsipas                 290.2   \n",
       "12     Semifinals  Stefanos Tsitsipas                 290.2   \n",
       "13      4th Round  Stefanos Tsitsipas                 290.2   \n",
       "14      3rd Round  Stefanos Tsitsipas                 290.2   \n",
       "\n",
       "    Primer_Servicio_Saque_pct  Puntos_Ganados_Primer_Saque_pct  \\\n",
       "10                       64.4                             77.0   \n",
       "11                       64.4                             77.0   \n",
       "12                       64.4                             77.0   \n",
       "13                       64.4                             77.0   \n",
       "14                       64.4                             77.0   \n",
       "\n",
       "    Puntos_Ganados_Segundo_Saque_pct  Games_Ganados_Saque_pct  \\\n",
       "10                              55.6                     87.5   \n",
       "11                              55.6                     87.5   \n",
       "12                              55.6                     87.5   \n",
       "13                              55.6                     87.5   \n",
       "14                              55.6                     87.5   \n",
       "\n",
       "    Prom_AcesxPartido  Prom_DoblexPartido  Efectividad_al_resto  \\\n",
       "10                7.3                 1.6                 133.0   \n",
       "11                7.3                 1.6                 133.0   \n",
       "12                7.3                 1.6                 133.0   \n",
       "13                7.3                 1.6                 133.0   \n",
       "14                7.3                 1.6                 133.0   \n",
       "\n",
       "    Restos_Primer_Saque_pct  Restos_Segundo_Saque_pct  Games_Resto_pct  \\\n",
       "10                     27.0                      48.3             18.8   \n",
       "11                     27.0                      48.3             18.8   \n",
       "12                     27.0                      48.3             18.8   \n",
       "13                     27.0                      48.3             18.8   \n",
       "14                     27.0                      48.3             18.8   \n",
       "\n",
       "    Break_Points_Covertidos_pct_x  Efectividad_bajo_presion  \\\n",
       "10                           38.9                     228.3   \n",
       "11                           38.9                     228.3   \n",
       "12                           38.9                     228.3   \n",
       "13                           38.9                     228.3   \n",
       "14                           38.9                     228.3   \n",
       "\n",
       "    Break_Points_Covertidos_pct_y  Break_Points_Salvados_pct  \\\n",
       "10                           38.9                       68.4   \n",
       "11                           38.9                       68.4   \n",
       "12                           38.9                       68.4   \n",
       "13                           38.9                       68.4   \n",
       "14                           38.9                       68.4   \n",
       "\n",
       "    Tie_Break_Ganados_pct  Victorias_Sets_Definitivos_pct  Win  \n",
       "10                   56.7                            64.3    1  \n",
       "11                   56.7                            64.3    1  \n",
       "12                   56.7                            64.3    1  \n",
       "13                   56.7                            64.3    1  \n",
       "14                   56.7                            64.3    1  "
      ]
     },
     "execution_count": 34,
     "metadata": {},
     "output_type": "execute_result"
    }
   ],
   "source": [
    "tsitsipas.head()"
   ]
  },
  {
   "cell_type": "code",
   "execution_count": 35,
   "id": "b37d644e",
   "metadata": {},
   "outputs": [],
   "source": [
    "tsitsipas.Series=tsitsipas.Series.apply(lambda x: series[x])\n",
    "tsitsipas.Round=tsitsipas.Round.apply(lambda x: rounds[x])"
   ]
  },
  {
   "cell_type": "code",
   "execution_count": 36,
   "id": "9cc854a1",
   "metadata": {},
   "outputs": [],
   "source": [
    "tsitsipas = tsitsipas.drop(columns=['Tournament','Winner','Surface'])"
   ]
  },
  {
   "cell_type": "code",
   "execution_count": 37,
   "id": "0bf21f05",
   "metadata": {},
   "outputs": [],
   "source": [
    "Xtsi=tsitsipas.drop(columns = 'Win')\n",
    "ytsi=tsitsipas.Win"
   ]
  },
  {
   "cell_type": "code",
   "execution_count": 38,
   "id": "e22252ee",
   "metadata": {},
   "outputs": [],
   "source": [
    "datatsi=pd.DataFrame(StandardScaler().fit_transform(Xtsi._get_numeric_data()),\n",
    "                      \n",
    "                      columns=Xtsi._get_numeric_data().columns)"
   ]
  },
  {
   "cell_type": "code",
   "execution_count": 39,
   "id": "e8b749cc",
   "metadata": {},
   "outputs": [],
   "source": [
    "X_train, X_test, y_train, y_test = tts(datatsi, ytsi, train_size=0.8, test_size=0.2, random_state=42)"
   ]
  },
  {
   "cell_type": "code",
   "execution_count": 40,
   "id": "e1b1293e",
   "metadata": {},
   "outputs": [
    {
     "data": {
      "text/plain": [
       "((101, 20), (26, 20), (101,), (26,))"
      ]
     },
     "execution_count": 40,
     "metadata": {},
     "output_type": "execute_result"
    }
   ],
   "source": [
    "X_train.shape, X_test.shape, y_train.shape, y_test.shape"
   ]
  },
  {
   "cell_type": "code",
   "execution_count": 41,
   "id": "201b020a",
   "metadata": {},
   "outputs": [
    {
     "name": "stderr",
     "output_type": "stream",
     "text": [
      "100%|██████████| 29/29 [00:00<00:00, 49.03it/s]"
     ]
    },
    {
     "name": "stdout",
     "output_type": "stream",
     "text": [
      "                               Accuracy  Balanced Accuracy  ROC AUC  F1 Score  \\\n",
      "Model                                                                           \n",
      "AdaBoostClassifier                 0.96               0.96     0.96      0.96   \n",
      "LinearDiscriminantAnalysis         0.96               0.96     0.96      0.96   \n",
      "XGBClassifier                      0.96               0.96     0.96      0.96   \n",
      "DecisionTreeClassifier             0.96               0.96     0.96      0.96   \n",
      "RandomForestClassifier             0.96               0.96     0.96      0.96   \n",
      "ExtraTreesClassifier               0.96               0.96     0.96      0.96   \n",
      "SGDClassifier                      0.92               0.92     0.92      0.92   \n",
      "Perceptron                         0.92               0.92     0.92      0.92   \n",
      "BaggingClassifier                  0.92               0.92     0.92      0.92   \n",
      "LGBMClassifier                     0.92               0.92     0.92      0.92   \n",
      "LabelPropagation                   0.88               0.88     0.88      0.88   \n",
      "PassiveAggressiveClassifier        0.88               0.88     0.88      0.88   \n",
      "SVC                                0.88               0.88     0.88      0.88   \n",
      "CalibratedClassifierCV             0.88               0.88     0.88      0.88   \n",
      "RidgeClassifierCV                  0.88               0.88     0.88      0.88   \n",
      "RidgeClassifier                    0.88               0.88     0.88      0.88   \n",
      "LabelSpreading                     0.88               0.88     0.88      0.88   \n",
      "LinearSVC                          0.88               0.88     0.88      0.88   \n",
      "NuSVC                              0.88               0.88     0.88      0.88   \n",
      "LogisticRegression                 0.88               0.88     0.88      0.88   \n",
      "ExtraTreeClassifier                0.85               0.85     0.85      0.84   \n",
      "GaussianNB                         0.81               0.81     0.81      0.81   \n",
      "NearestCentroid                    0.73               0.73     0.73      0.73   \n",
      "KNeighborsClassifier               0.73               0.73     0.73      0.71   \n",
      "BernoulliNB                        0.73               0.73     0.73      0.73   \n",
      "QuadraticDiscriminantAnalysis      0.50               0.50     0.50      0.33   \n",
      "DummyClassifier                    0.50               0.50     0.50      0.33   \n",
      "\n",
      "                               Time Taken  \n",
      "Model                                      \n",
      "AdaBoostClassifier                   0.05  \n",
      "LinearDiscriminantAnalysis           0.01  \n",
      "XGBClassifier                        0.11  \n",
      "DecisionTreeClassifier               0.01  \n",
      "RandomForestClassifier               0.08  \n",
      "ExtraTreesClassifier                 0.06  \n",
      "SGDClassifier                        0.01  \n",
      "Perceptron                           0.01  \n",
      "BaggingClassifier                    0.02  \n",
      "LGBMClassifier                       0.12  \n",
      "LabelPropagation                     0.01  \n",
      "PassiveAggressiveClassifier          0.01  \n",
      "SVC                                  0.01  \n",
      "CalibratedClassifierCV               0.02  \n",
      "RidgeClassifierCV                    0.01  \n",
      "RidgeClassifier                      0.01  \n",
      "LabelSpreading                       0.01  \n",
      "LinearSVC                            0.01  \n",
      "NuSVC                                0.01  \n",
      "LogisticRegression                   0.01  \n",
      "ExtraTreeClassifier                  0.01  \n",
      "GaussianNB                           0.01  \n",
      "NearestCentroid                      0.01  \n",
      "KNeighborsClassifier                 0.01  \n",
      "BernoulliNB                          0.01  \n",
      "QuadraticDiscriminantAnalysis        0.01  \n",
      "DummyClassifier                      0.00  \n"
     ]
    },
    {
     "name": "stderr",
     "output_type": "stream",
     "text": [
      "\n"
     ]
    }
   ],
   "source": [
    "from lazypredict.Supervised import LazyClassifier\n",
    "clf = LazyClassifier(verbose=0, ignore_warnings=True, custom_metric=None)\n",
    "models, predictions = clf.fit(X_train, X_test, y_train, y_test)\n",
    "print(models)"
   ]
  },
  {
   "cell_type": "code",
   "execution_count": 42,
   "id": "bad6736c",
   "metadata": {},
   "outputs": [],
   "source": [
    "ABC= AdaBoostClassifier()"
   ]
  },
  {
   "cell_type": "code",
   "execution_count": 43,
   "id": "e9a56e86",
   "metadata": {},
   "outputs": [
    {
     "data": {
      "text/plain": [
       "AdaBoostClassifier()"
      ]
     },
     "execution_count": 43,
     "metadata": {},
     "output_type": "execute_result"
    }
   ],
   "source": [
    "ABC.fit(X_train, y_train)"
   ]
  },
  {
   "cell_type": "code",
   "execution_count": 44,
   "id": "3f165339",
   "metadata": {},
   "outputs": [],
   "source": [
    "y_pred_tsi=ABC.predict(X_test)"
   ]
  },
  {
   "cell_type": "code",
   "execution_count": 45,
   "id": "c3a15dce",
   "metadata": {},
   "outputs": [],
   "source": [
    "def ratewins(x):\n",
    "    \n",
    "    cont=[]\n",
    "    \n",
    "    for i in x:\n",
    "        if i == 1:\n",
    "            cont.append(i)\n",
    "    return len(cont)/len(x)\n",
    "            "
   ]
  },
  {
   "cell_type": "code",
   "execution_count": 46,
   "id": "92c0cce2",
   "metadata": {},
   "outputs": [],
   "source": [
    "ratetsi = ratewins(y_pred_tsi)"
   ]
  },
  {
   "cell_type": "code",
   "execution_count": 47,
   "id": "869f3199",
   "metadata": {},
   "outputs": [
    {
     "data": {
      "text/plain": [
       "0.5384615384615384"
      ]
     },
     "execution_count": 47,
     "metadata": {},
     "output_type": "execute_result"
    }
   ],
   "source": [
    "ratetsi"
   ]
  },
  {
   "cell_type": "markdown",
   "id": "5ed9d8d7",
   "metadata": {},
   "source": [
    "### Felix Auger-Aliassime"
   ]
  },
  {
   "cell_type": "code",
   "execution_count": 48,
   "id": "2785be63",
   "metadata": {},
   "outputs": [],
   "source": [
    "primerarondapar1a = totaltorneos[(totaltorneos['Winner'] == 'Felix Auger-Aliassime')]\n",
    "                        \n",
    "primerarondapar1repa = totaltorneos[(totaltorneos['Loser'] == 'Felix Auger-Aliassime')]"
   ]
  },
  {
   "cell_type": "code",
   "execution_count": 49,
   "id": "d144de81",
   "metadata": {},
   "outputs": [],
   "source": [
    "aliassime=pd.concat([primerarondapar1a,primerarondapar1repa],axis=0)"
   ]
  },
  {
   "cell_type": "code",
   "execution_count": 50,
   "id": "8976892f",
   "metadata": {},
   "outputs": [],
   "source": [
    "win=aliassime.Winner"
   ]
  },
  {
   "cell_type": "code",
   "execution_count": 51,
   "id": "c1df0fa2",
   "metadata": {},
   "outputs": [],
   "source": [
    "aliassime['Win'] = win "
   ]
  },
  {
   "cell_type": "code",
   "execution_count": 52,
   "id": "3d6d7968",
   "metadata": {},
   "outputs": [
    {
     "data": {
      "text/plain": [
       "(37, 40)"
      ]
     },
     "execution_count": 52,
     "metadata": {},
     "output_type": "execute_result"
    }
   ],
   "source": [
    "aliassime.Winner.value_counts()[0],aliassime.Loser.value_counts()[0]"
   ]
  },
  {
   "cell_type": "code",
   "execution_count": 53,
   "id": "f1518a6b",
   "metadata": {},
   "outputs": [],
   "source": [
    "def win(x):\n",
    "    \n",
    "    if x == 'Felix Auger-Aliassime':\n",
    "        return 1\n",
    "    else:\n",
    "        return 0"
   ]
  },
  {
   "cell_type": "code",
   "execution_count": 54,
   "id": "25e0d9d7",
   "metadata": {},
   "outputs": [],
   "source": [
    "aliassime.Win = aliassime.Win.apply(win)"
   ]
  },
  {
   "cell_type": "code",
   "execution_count": 55,
   "id": "9a430f21",
   "metadata": {},
   "outputs": [],
   "source": [
    "aliassime=aliassime.drop(columns='Loser')"
   ]
  },
  {
   "cell_type": "code",
   "execution_count": 56,
   "id": "0a93ae46",
   "metadata": {},
   "outputs": [],
   "source": [
    "aliassime.Series=aliassime.Series.apply(lambda x: series[x])\n",
    "aliassime.Round=aliassime.Round.apply(lambda x: rounds[x])"
   ]
  },
  {
   "cell_type": "code",
   "execution_count": 57,
   "id": "224d5137",
   "metadata": {},
   "outputs": [],
   "source": [
    "aliassime = aliassime.drop(columns=['Tournament','Winner','Surface'])"
   ]
  },
  {
   "cell_type": "code",
   "execution_count": 58,
   "id": "80b7ecd8",
   "metadata": {},
   "outputs": [],
   "source": [
    "Xali=aliassime.drop(columns = 'Win')\n",
    "yali=aliassime.Win"
   ]
  },
  {
   "cell_type": "code",
   "execution_count": 59,
   "id": "ed93a135",
   "metadata": {},
   "outputs": [],
   "source": [
    "dataali=pd.DataFrame(StandardScaler().fit_transform(Xali._get_numeric_data()),\n",
    "                      \n",
    "                      columns=Xali._get_numeric_data().columns)\n"
   ]
  },
  {
   "cell_type": "code",
   "execution_count": 60,
   "id": "65227fbc",
   "metadata": {},
   "outputs": [],
   "source": [
    "X_train, X_test, y_train, y_test = tts(dataali, yali, train_size=0.8, test_size=0.2, random_state=42)"
   ]
  },
  {
   "cell_type": "code",
   "execution_count": 61,
   "id": "c5fe68ef",
   "metadata": {},
   "outputs": [
    {
     "data": {
      "text/plain": [
       "((61, 20), (16, 20), (61,), (16,))"
      ]
     },
     "execution_count": 61,
     "metadata": {},
     "output_type": "execute_result"
    }
   ],
   "source": [
    "X_train.shape, X_test.shape, y_train.shape, y_test.shape"
   ]
  },
  {
   "cell_type": "code",
   "execution_count": 62,
   "id": "d191e1c9",
   "metadata": {},
   "outputs": [
    {
     "name": "stderr",
     "output_type": "stream",
     "text": [
      "100%|██████████| 29/29 [00:00<00:00, 73.04it/s]"
     ]
    },
    {
     "name": "stdout",
     "output_type": "stream",
     "text": [
      "                               Accuracy  Balanced Accuracy  ROC AUC  F1 Score  \\\n",
      "Model                                                                           \n",
      "AdaBoostClassifier                 0.94               0.94     0.94      0.94   \n",
      "XGBClassifier                      0.94               0.94     0.94      0.94   \n",
      "RidgeClassifier                    0.94               0.94     0.94      0.94   \n",
      "ExtraTreesClassifier               0.94               0.94     0.94      0.94   \n",
      "LabelPropagation                   0.94               0.94     0.94      0.94   \n",
      "LabelSpreading                     0.94               0.94     0.94      0.94   \n",
      "LinearDiscriminantAnalysis         0.94               0.94     0.94      0.94   \n",
      "BaggingClassifier                  0.94               0.94     0.94      0.94   \n",
      "LogisticRegression                 0.88               0.88     0.88      0.88   \n",
      "SVC                                0.88               0.88     0.88      0.88   \n",
      "RidgeClassifierCV                  0.88               0.88     0.88      0.88   \n",
      "RandomForestClassifier             0.88               0.88     0.88      0.88   \n",
      "PassiveAggressiveClassifier        0.88               0.88     0.88      0.88   \n",
      "NuSVC                              0.88               0.88     0.88      0.88   \n",
      "LinearSVC                          0.88               0.88     0.88      0.88   \n",
      "KNeighborsClassifier               0.88               0.88     0.88      0.87   \n",
      "GaussianNB                         0.88               0.88     0.88      0.88   \n",
      "ExtraTreeClassifier                0.88               0.88     0.88      0.88   \n",
      "DecisionTreeClassifier             0.88               0.88     0.88      0.87   \n",
      "CalibratedClassifierCV             0.88               0.88     0.88      0.88   \n",
      "BernoulliNB                        0.88               0.88     0.88      0.87   \n",
      "Perceptron                         0.81               0.81     0.81      0.81   \n",
      "SGDClassifier                      0.81               0.81     0.81      0.81   \n",
      "LGBMClassifier                     0.81               0.81     0.81      0.81   \n",
      "NearestCentroid                    0.69               0.69     0.69      0.69   \n",
      "QuadraticDiscriminantAnalysis      0.50               0.50     0.50      0.33   \n",
      "DummyClassifier                    0.50               0.50     0.50      0.33   \n",
      "\n",
      "                               Time Taken  \n",
      "Model                                      \n",
      "AdaBoostClassifier                   0.05  \n",
      "XGBClassifier                        0.02  \n",
      "RidgeClassifier                      0.01  \n",
      "ExtraTreesClassifier                 0.06  \n",
      "LabelPropagation                     0.01  \n",
      "LabelSpreading                       0.01  \n",
      "LinearDiscriminantAnalysis           0.01  \n",
      "BaggingClassifier                    0.02  \n",
      "LogisticRegression                   0.01  \n",
      "SVC                                  0.01  \n",
      "RidgeClassifierCV                    0.01  \n",
      "RandomForestClassifier               0.08  \n",
      "PassiveAggressiveClassifier          0.01  \n",
      "NuSVC                                0.01  \n",
      "LinearSVC                            0.01  \n",
      "KNeighborsClassifier                 0.01  \n",
      "GaussianNB                           0.01  \n",
      "ExtraTreeClassifier                  0.01  \n",
      "DecisionTreeClassifier               0.01  \n",
      "CalibratedClassifierCV               0.02  \n",
      "BernoulliNB                          0.01  \n",
      "Perceptron                           0.01  \n",
      "SGDClassifier                        0.01  \n",
      "LGBMClassifier                       0.03  \n",
      "NearestCentroid                      0.01  \n",
      "QuadraticDiscriminantAnalysis        0.01  \n",
      "DummyClassifier                      0.01  \n"
     ]
    },
    {
     "name": "stderr",
     "output_type": "stream",
     "text": [
      "\n"
     ]
    }
   ],
   "source": [
    "from lazypredict.Supervised import LazyClassifier\n",
    "clf = LazyClassifier(verbose=0, ignore_warnings=True, custom_metric=None)\n",
    "models, predictions = clf.fit(X_train, X_test, y_train, y_test)\n",
    "print(models)"
   ]
  },
  {
   "cell_type": "code",
   "execution_count": 63,
   "id": "e3b418ab",
   "metadata": {},
   "outputs": [],
   "source": [
    "ABC= AdaBoostClassifier()"
   ]
  },
  {
   "cell_type": "code",
   "execution_count": 64,
   "id": "15f6c40e",
   "metadata": {},
   "outputs": [
    {
     "data": {
      "text/plain": [
       "AdaBoostClassifier()"
      ]
     },
     "execution_count": 64,
     "metadata": {},
     "output_type": "execute_result"
    }
   ],
   "source": [
    "ABC.fit(X_train, y_train)"
   ]
  },
  {
   "cell_type": "code",
   "execution_count": 65,
   "id": "e41a584b",
   "metadata": {},
   "outputs": [],
   "source": [
    "y_pred_ali=ABC.predict(X_test)"
   ]
  },
  {
   "cell_type": "code",
   "execution_count": 66,
   "id": "1fc8aa95",
   "metadata": {},
   "outputs": [],
   "source": [
    "def ratewins(x):\n",
    "    \n",
    "    cont=[]\n",
    "    \n",
    "    for i in x:\n",
    "        if i == 1:\n",
    "            cont.append(i)\n",
    "    return len(cont)/len(x)\n",
    "            "
   ]
  },
  {
   "cell_type": "code",
   "execution_count": 67,
   "id": "a92d7ec8",
   "metadata": {},
   "outputs": [],
   "source": [
    "rateali= ratewins(y_pred_ali)"
   ]
  },
  {
   "cell_type": "code",
   "execution_count": 68,
   "id": "1b8057f3",
   "metadata": {},
   "outputs": [
    {
     "data": {
      "text/plain": [
       "0.4375"
      ]
     },
     "execution_count": 68,
     "metadata": {},
     "output_type": "execute_result"
    }
   ],
   "source": [
    "rateali"
   ]
  },
  {
   "cell_type": "markdown",
   "id": "d4b46e35",
   "metadata": {},
   "source": [
    "### El ratio de victorias de Stefanos Tsitsipas es mayor, por lo que consideremos que gana el encuentro y pasa a la siguiente ronda. Felix Auger-Aliassime es eliminado."
   ]
  },
  {
   "cell_type": "markdown",
   "id": "68704d82",
   "metadata": {},
   "source": [
    "# Pareja 2"
   ]
  },
  {
   "cell_type": "code",
   "execution_count": 69,
   "id": "0399e12c",
   "metadata": {
    "scrolled": true
   },
   "outputs": [
    {
     "data": {
      "text/plain": [
       "['Francisco Cerundolo', 'Rafael Nadal']"
      ]
     },
     "execution_count": 69,
     "metadata": {},
     "output_type": "execute_result"
    }
   ],
   "source": [
    "par2"
   ]
  },
  {
   "cell_type": "markdown",
   "id": "5d8006ae",
   "metadata": {},
   "source": [
    "### Francisco Cerundolo"
   ]
  },
  {
   "cell_type": "code",
   "execution_count": 70,
   "id": "dc9760ff",
   "metadata": {},
   "outputs": [],
   "source": [
    "primerarondapar2 = totaltorneos[(totaltorneos['Winner'] == 'Francisco Cerundolo')]\n",
    "                        \n",
    "primerarondapar2rep = totaltorneos[(totaltorneos['Loser'] == 'Francisco Cerundolo')]"
   ]
  },
  {
   "cell_type": "code",
   "execution_count": 71,
   "id": "27cc4077",
   "metadata": {},
   "outputs": [],
   "source": [
    "cerundolo=pd.concat([primerarondapar2,primerarondapar2rep],axis=0)"
   ]
  },
  {
   "cell_type": "code",
   "execution_count": 72,
   "id": "e6935242",
   "metadata": {},
   "outputs": [],
   "source": [
    "win=cerundolo.Winner"
   ]
  },
  {
   "cell_type": "code",
   "execution_count": 73,
   "id": "bd0b49a0",
   "metadata": {},
   "outputs": [],
   "source": [
    "cerundolo['Win'] = win "
   ]
  },
  {
   "cell_type": "code",
   "execution_count": 74,
   "id": "c589067d",
   "metadata": {},
   "outputs": [
    {
     "data": {
      "text/plain": [
       "(5, 8)"
      ]
     },
     "execution_count": 74,
     "metadata": {},
     "output_type": "execute_result"
    }
   ],
   "source": [
    "cerundolo.Winner.value_counts()[0],cerundolo.Loser.value_counts()[0]"
   ]
  },
  {
   "cell_type": "code",
   "execution_count": 75,
   "id": "dffc13a6",
   "metadata": {},
   "outputs": [],
   "source": [
    "def win(x):\n",
    "    \n",
    "    if x == 'Francisco Cerundolo':\n",
    "        return 1\n",
    "    else:\n",
    "        return 0"
   ]
  },
  {
   "cell_type": "code",
   "execution_count": 76,
   "id": "e2d1617d",
   "metadata": {},
   "outputs": [],
   "source": [
    "cerundolo.Win = cerundolo.Win.apply(win)"
   ]
  },
  {
   "cell_type": "code",
   "execution_count": 77,
   "id": "97a82599",
   "metadata": {},
   "outputs": [],
   "source": [
    "cerundolo=cerundolo.drop(columns='Loser')"
   ]
  },
  {
   "cell_type": "code",
   "execution_count": 78,
   "id": "85525bac",
   "metadata": {},
   "outputs": [],
   "source": [
    "cerundolo.Series=cerundolo.Series.apply(lambda x: series[x])\n",
    "cerundolo.Round=cerundolo.Round.apply(lambda x: rounds[x])"
   ]
  },
  {
   "cell_type": "code",
   "execution_count": 79,
   "id": "1162506e",
   "metadata": {},
   "outputs": [],
   "source": [
    "cerundolo = cerundolo.drop(columns=['Tournament','Winner','Surface'])"
   ]
  },
  {
   "cell_type": "code",
   "execution_count": 80,
   "id": "c173c984",
   "metadata": {},
   "outputs": [],
   "source": [
    "Xcer=cerundolo.drop(columns = 'Win')\n",
    "ycer=cerundolo.Win"
   ]
  },
  {
   "cell_type": "code",
   "execution_count": 81,
   "id": "0da365d3",
   "metadata": {},
   "outputs": [],
   "source": [
    "datacer=pd.DataFrame(StandardScaler().fit_transform(Xcer._get_numeric_data()),\n",
    "                      \n",
    "                      columns=Xcer._get_numeric_data().columns)\n"
   ]
  },
  {
   "cell_type": "code",
   "execution_count": 82,
   "id": "2f16b24e",
   "metadata": {},
   "outputs": [],
   "source": [
    "X_train, X_test, y_train, y_test = tts(datacer, ycer, train_size=0.8, test_size=0.2, random_state=42)"
   ]
  },
  {
   "cell_type": "code",
   "execution_count": 83,
   "id": "8c182f30",
   "metadata": {},
   "outputs": [
    {
     "data": {
      "text/plain": [
       "((10, 20), (3, 20), (10,), (3,))"
      ]
     },
     "execution_count": 83,
     "metadata": {},
     "output_type": "execute_result"
    }
   ],
   "source": [
    "X_train.shape, X_test.shape, y_train.shape, y_test.shape"
   ]
  },
  {
   "cell_type": "code",
   "execution_count": 84,
   "id": "885b9367",
   "metadata": {},
   "outputs": [
    {
     "name": "stderr",
     "output_type": "stream",
     "text": [
      "100%|██████████| 29/29 [00:00<00:00, 82.04it/s]"
     ]
    },
    {
     "name": "stdout",
     "output_type": "stream",
     "text": [
      "                               Accuracy  Balanced Accuracy  ROC AUC  F1 Score  \\\n",
      "Model                                                                           \n",
      "LinearSVC                          1.00               1.00     1.00      1.00   \n",
      "SVC                                1.00               1.00     1.00      1.00   \n",
      "CalibratedClassifierCV             1.00               1.00     1.00      1.00   \n",
      "SGDClassifier                      1.00               1.00     1.00      1.00   \n",
      "RidgeClassifierCV                  1.00               1.00     1.00      1.00   \n",
      "RidgeClassifier                    1.00               1.00     1.00      1.00   \n",
      "Perceptron                         1.00               1.00     1.00      1.00   \n",
      "PassiveAggressiveClassifier        1.00               1.00     1.00      1.00   \n",
      "NuSVC                              1.00               1.00     1.00      1.00   \n",
      "LogisticRegression                 1.00               1.00     1.00      1.00   \n",
      "BaggingClassifier                  0.67               0.75     0.75      0.67   \n",
      "RandomForestClassifier             0.67               0.75     0.75      0.67   \n",
      "QuadraticDiscriminantAnalysis      0.67               0.75     0.75      0.67   \n",
      "AdaBoostClassifier                 0.67               0.75     0.75      0.67   \n",
      "LinearDiscriminantAnalysis         0.67               0.75     0.75      0.67   \n",
      "LabelSpreading                     0.67               0.75     0.75      0.67   \n",
      "LabelPropagation                   0.67               0.75     0.75      0.67   \n",
      "ExtraTreesClassifier               0.67               0.75     0.75      0.67   \n",
      "ExtraTreeClassifier                0.67               0.75     0.75      0.67   \n",
      "DecisionTreeClassifier             0.67               0.75     0.75      0.67   \n",
      "GaussianNB                         0.67               0.50     0.50      0.53   \n",
      "DummyClassifier                    0.67               0.50     0.50      0.53   \n",
      "XGBClassifier                      0.67               0.50     0.50      0.53   \n",
      "LGBMClassifier                     0.67               0.50     0.50      0.53   \n",
      "NearestCentroid                    0.00               0.00     0.00      0.00   \n",
      "KNeighborsClassifier               0.00               0.00     0.00      0.00   \n",
      "BernoulliNB                        0.00               0.00     0.00      0.00   \n",
      "\n",
      "                               Time Taken  \n",
      "Model                                      \n",
      "LinearSVC                            0.01  \n",
      "SVC                                  0.00  \n",
      "CalibratedClassifierCV               0.01  \n",
      "SGDClassifier                        0.01  \n",
      "RidgeClassifierCV                    0.01  \n",
      "RidgeClassifier                      0.01  \n",
      "Perceptron                           0.01  \n",
      "PassiveAggressiveClassifier          0.00  \n",
      "NuSVC                                0.01  \n",
      "LogisticRegression                   0.01  \n",
      "BaggingClassifier                    0.01  \n",
      "RandomForestClassifier               0.07  \n",
      "QuadraticDiscriminantAnalysis        0.00  \n",
      "AdaBoostClassifier                   0.04  \n",
      "LinearDiscriminantAnalysis           0.01  \n",
      "LabelSpreading                       0.01  \n",
      "LabelPropagation                     0.01  \n",
      "ExtraTreesClassifier                 0.06  \n",
      "ExtraTreeClassifier                  0.00  \n",
      "DecisionTreeClassifier               0.00  \n",
      "GaussianNB                           0.01  \n",
      "DummyClassifier                      0.00  \n",
      "XGBClassifier                        0.03  \n",
      "LGBMClassifier                       0.01  \n",
      "NearestCentroid                      0.00  \n",
      "KNeighborsClassifier                 0.01  \n",
      "BernoulliNB                          0.01  \n"
     ]
    },
    {
     "name": "stderr",
     "output_type": "stream",
     "text": [
      "\n"
     ]
    }
   ],
   "source": [
    "from lazypredict.Supervised import LazyClassifier\n",
    "clf = LazyClassifier(verbose=0, ignore_warnings=True, custom_metric=None)\n",
    "models, predictions = clf.fit(X_train, X_test, y_train, y_test)\n",
    "print(models)"
   ]
  },
  {
   "cell_type": "code",
   "execution_count": 85,
   "id": "029a6c97",
   "metadata": {},
   "outputs": [],
   "source": [
    "linearsvc = LinearSVC()"
   ]
  },
  {
   "cell_type": "code",
   "execution_count": 86,
   "id": "b97a48c8",
   "metadata": {},
   "outputs": [
    {
     "data": {
      "text/plain": [
       "LinearSVC()"
      ]
     },
     "execution_count": 86,
     "metadata": {},
     "output_type": "execute_result"
    }
   ],
   "source": [
    "linearsvc.fit(X_train, y_train)"
   ]
  },
  {
   "cell_type": "code",
   "execution_count": 87,
   "id": "d37959bd",
   "metadata": {},
   "outputs": [],
   "source": [
    "y_pred_cer=linearsvc.predict(X_test)"
   ]
  },
  {
   "cell_type": "code",
   "execution_count": 88,
   "id": "9b909d37",
   "metadata": {},
   "outputs": [],
   "source": [
    "def ratewins(x):\n",
    "    \n",
    "    cont=[]\n",
    "    \n",
    "    for i in x:\n",
    "        if i == 1:\n",
    "            cont.append(i)\n",
    "    return len(cont)/len(x)\n",
    "            "
   ]
  },
  {
   "cell_type": "code",
   "execution_count": 89,
   "id": "0ad0803e",
   "metadata": {},
   "outputs": [],
   "source": [
    "ratecer = ratewins(y_pred_cer)"
   ]
  },
  {
   "cell_type": "code",
   "execution_count": 90,
   "id": "41c2db1a",
   "metadata": {},
   "outputs": [
    {
     "data": {
      "text/plain": [
       "0.3333333333333333"
      ]
     },
     "execution_count": 90,
     "metadata": {},
     "output_type": "execute_result"
    }
   ],
   "source": [
    "ratecer"
   ]
  },
  {
   "cell_type": "markdown",
   "id": "483666a4",
   "metadata": {},
   "source": [
    "### Rafael Nadal"
   ]
  },
  {
   "cell_type": "code",
   "execution_count": 91,
   "id": "2612f01c",
   "metadata": {},
   "outputs": [],
   "source": [
    "primerarondapar2a = totaltorneos[(totaltorneos['Winner'] == 'Rafael Nadal')]\n",
    "                        \n",
    "primerarondapar2repa = totaltorneos[(totaltorneos['Loser'] == 'Rafael Nadal')]"
   ]
  },
  {
   "cell_type": "code",
   "execution_count": 92,
   "id": "c1006f01",
   "metadata": {},
   "outputs": [],
   "source": [
    "nadal=pd.concat([primerarondapar2a,primerarondapar2repa],axis=0)"
   ]
  },
  {
   "cell_type": "code",
   "execution_count": 93,
   "id": "794d77d4",
   "metadata": {},
   "outputs": [],
   "source": [
    "win=nadal.Winner"
   ]
  },
  {
   "cell_type": "code",
   "execution_count": 94,
   "id": "13e03439",
   "metadata": {},
   "outputs": [],
   "source": [
    "nadal['Win'] = win "
   ]
  },
  {
   "cell_type": "code",
   "execution_count": 95,
   "id": "6e8b554c",
   "metadata": {},
   "outputs": [
    {
     "data": {
      "text/plain": [
       "(75, 21)"
      ]
     },
     "execution_count": 95,
     "metadata": {},
     "output_type": "execute_result"
    }
   ],
   "source": [
    "nadal.Winner.value_counts()[0],nadal.Loser.value_counts()[0]"
   ]
  },
  {
   "cell_type": "code",
   "execution_count": 96,
   "id": "00b11947",
   "metadata": {},
   "outputs": [],
   "source": [
    "def win(x):\n",
    "    \n",
    "    if x == 'Rafael Nadal':\n",
    "        return 1\n",
    "    else:\n",
    "        return 0"
   ]
  },
  {
   "cell_type": "code",
   "execution_count": 97,
   "id": "2bce6752",
   "metadata": {},
   "outputs": [],
   "source": [
    "nadal.Win = nadal.Win.apply(win)"
   ]
  },
  {
   "cell_type": "code",
   "execution_count": 98,
   "id": "265475d8",
   "metadata": {},
   "outputs": [],
   "source": [
    "nadal=nadal.drop(columns='Loser')"
   ]
  },
  {
   "cell_type": "code",
   "execution_count": 99,
   "id": "9fced5b6",
   "metadata": {},
   "outputs": [],
   "source": [
    "nadal.Series=nadal.Series.apply(lambda x: series[x])\n",
    "nadal.Round=nadal.Round.apply(lambda x: rounds[x])"
   ]
  },
  {
   "cell_type": "code",
   "execution_count": 100,
   "id": "c980a2c6",
   "metadata": {},
   "outputs": [],
   "source": [
    "nadal = nadal.drop(columns=['Tournament','Winner','Surface'])"
   ]
  },
  {
   "cell_type": "code",
   "execution_count": 101,
   "id": "24853ac3",
   "metadata": {},
   "outputs": [],
   "source": [
    "Xnad=nadal.drop(columns = 'Win')\n",
    "ynad=nadal.Win"
   ]
  },
  {
   "cell_type": "code",
   "execution_count": 102,
   "id": "102669d9",
   "metadata": {},
   "outputs": [],
   "source": [
    "datanad=pd.DataFrame(StandardScaler().fit_transform(Xnad._get_numeric_data()),\n",
    "                      \n",
    "                      columns=Xnad._get_numeric_data().columns)\n",
    "\n"
   ]
  },
  {
   "cell_type": "code",
   "execution_count": 103,
   "id": "c17b1f40",
   "metadata": {},
   "outputs": [],
   "source": [
    "X_train, X_test, y_train, y_test = tts(datanad, ynad, train_size=0.8, test_size=0.2, random_state=42)"
   ]
  },
  {
   "cell_type": "code",
   "execution_count": 104,
   "id": "159b9141",
   "metadata": {},
   "outputs": [
    {
     "data": {
      "text/plain": [
       "((76, 20), (20, 20), (76,), (20,))"
      ]
     },
     "execution_count": 104,
     "metadata": {},
     "output_type": "execute_result"
    }
   ],
   "source": [
    "X_train.shape, X_test.shape, y_train.shape, y_test.shape"
   ]
  },
  {
   "cell_type": "code",
   "execution_count": 105,
   "id": "d813280a",
   "metadata": {},
   "outputs": [
    {
     "name": "stderr",
     "output_type": "stream",
     "text": [
      "100%|██████████| 29/29 [00:00<00:00, 52.78it/s]"
     ]
    },
    {
     "name": "stdout",
     "output_type": "stream",
     "text": [
      "                               Accuracy  Balanced Accuracy  ROC AUC  F1 Score  \\\n",
      "Model                                                                           \n",
      "RandomForestClassifier             1.00               1.00     1.00      1.00   \n",
      "ExtraTreesClassifier               1.00               1.00     1.00      1.00   \n",
      "XGBClassifier                      0.95               0.90     0.90      0.95   \n",
      "DecisionTreeClassifier             0.95               0.90     0.90      0.95   \n",
      "ExtraTreeClassifier                0.95               0.90     0.90      0.95   \n",
      "GaussianNB                         0.85               0.83     0.83      0.85   \n",
      "NearestCentroid                    0.85               0.83     0.83      0.85   \n",
      "AdaBoostClassifier                 0.90               0.80     0.80      0.89   \n",
      "BaggingClassifier                  0.90               0.80     0.80      0.89   \n",
      "SGDClassifier                      0.90               0.80     0.80      0.89   \n",
      "Perceptron                         0.90               0.80     0.80      0.89   \n",
      "PassiveAggressiveClassifier        0.90               0.80     0.80      0.89   \n",
      "LogisticRegression                 0.90               0.80     0.80      0.89   \n",
      "LinearSVC                          0.90               0.80     0.80      0.89   \n",
      "LinearDiscriminantAnalysis         0.90               0.80     0.80      0.89   \n",
      "LabelSpreading                     0.90               0.80     0.80      0.89   \n",
      "LabelPropagation                   0.90               0.80     0.80      0.89   \n",
      "KNeighborsClassifier               0.90               0.80     0.80      0.89   \n",
      "LGBMClassifier                     0.90               0.80     0.80      0.89   \n",
      "BernoulliNB                        0.80               0.73     0.73      0.80   \n",
      "QuadraticDiscriminantAnalysis      0.55               0.70     0.70      0.56   \n",
      "RidgeClassifier                    0.85               0.70     0.70      0.82   \n",
      "RidgeClassifierCV                  0.85               0.70     0.70      0.82   \n",
      "CalibratedClassifierCV             0.85               0.70     0.70      0.82   \n",
      "SVC                                0.85               0.70     0.70      0.82   \n",
      "DummyClassifier                    0.75               0.50     0.50      0.64   \n",
      "\n",
      "                               Time Taken  \n",
      "Model                                      \n",
      "RandomForestClassifier               0.08  \n",
      "ExtraTreesClassifier                 0.06  \n",
      "XGBClassifier                        0.11  \n",
      "DecisionTreeClassifier               0.01  \n",
      "ExtraTreeClassifier                  0.00  \n",
      "GaussianNB                           0.01  \n",
      "NearestCentroid                      0.01  \n",
      "AdaBoostClassifier                   0.04  \n",
      "BaggingClassifier                    0.01  \n",
      "SGDClassifier                        0.01  \n",
      "Perceptron                           0.01  \n",
      "PassiveAggressiveClassifier          0.01  \n",
      "LogisticRegression                   0.01  \n",
      "LinearSVC                            0.01  \n",
      "LinearDiscriminantAnalysis           0.01  \n",
      "LabelSpreading                       0.01  \n",
      "LabelPropagation                     0.01  \n",
      "KNeighborsClassifier                 0.01  \n",
      "LGBMClassifier                       0.11  \n",
      "BernoulliNB                          0.00  \n",
      "QuadraticDiscriminantAnalysis        0.01  \n",
      "RidgeClassifier                      0.01  \n",
      "RidgeClassifierCV                    0.01  \n",
      "CalibratedClassifierCV               0.01  \n",
      "SVC                                  0.01  \n",
      "DummyClassifier                      0.00  \n"
     ]
    },
    {
     "name": "stderr",
     "output_type": "stream",
     "text": [
      "\n"
     ]
    }
   ],
   "source": [
    "from lazypredict.Supervised import LazyClassifier\n",
    "clf = LazyClassifier(verbose=0, ignore_warnings=True, custom_metric=None)\n",
    "models, predictions = clf.fit(X_train, X_test, y_train, y_test)\n",
    "print(models)"
   ]
  },
  {
   "cell_type": "code",
   "execution_count": 106,
   "id": "93c47577",
   "metadata": {},
   "outputs": [],
   "source": [
    "rfc = RandomForestClassifier()"
   ]
  },
  {
   "cell_type": "code",
   "execution_count": 107,
   "id": "e2d91f65",
   "metadata": {},
   "outputs": [
    {
     "data": {
      "text/plain": [
       "RandomForestClassifier()"
      ]
     },
     "execution_count": 107,
     "metadata": {},
     "output_type": "execute_result"
    }
   ],
   "source": [
    "rfc.fit(X_train, y_train)"
   ]
  },
  {
   "cell_type": "code",
   "execution_count": 108,
   "id": "f65e31aa",
   "metadata": {},
   "outputs": [],
   "source": [
    "y_pred_nad=rfc.predict(X_test)"
   ]
  },
  {
   "cell_type": "code",
   "execution_count": 109,
   "id": "ecc26832",
   "metadata": {},
   "outputs": [],
   "source": [
    "def ratewins(x):\n",
    "    \n",
    "    cont=[]\n",
    "    \n",
    "    for i in x:\n",
    "        if i == 1:\n",
    "            cont.append(i)\n",
    "    return len(cont)/len(x)\n",
    "            "
   ]
  },
  {
   "cell_type": "code",
   "execution_count": 110,
   "id": "3e0d10f0",
   "metadata": {},
   "outputs": [],
   "source": [
    "ratenad= ratewins(y_pred_nad)"
   ]
  },
  {
   "cell_type": "code",
   "execution_count": 111,
   "id": "99808398",
   "metadata": {},
   "outputs": [
    {
     "data": {
      "text/plain": [
       "0.75"
      ]
     },
     "execution_count": 111,
     "metadata": {},
     "output_type": "execute_result"
    }
   ],
   "source": [
    "ratenad"
   ]
  },
  {
   "cell_type": "markdown",
   "id": "40c7f958",
   "metadata": {},
   "source": [
    "### El ratio de victorias de Rafael Nadal es mayor, por lo que consideremos que gana el encuentro y pasa a la siguiente ronda. Francisco Cerundolo es eliminado."
   ]
  },
  {
   "cell_type": "markdown",
   "id": "9b984290",
   "metadata": {},
   "source": [
    "# Pareja 3"
   ]
  },
  {
   "cell_type": "code",
   "execution_count": 112,
   "id": "ea0c5a89",
   "metadata": {},
   "outputs": [
    {
     "data": {
      "text/plain": [
       "['Tommy Paul', 'Casper Ruud']"
      ]
     },
     "execution_count": 112,
     "metadata": {},
     "output_type": "execute_result"
    }
   ],
   "source": [
    "par3"
   ]
  },
  {
   "cell_type": "markdown",
   "id": "98a76f12",
   "metadata": {},
   "source": [
    "### Tommy Paul"
   ]
  },
  {
   "cell_type": "code",
   "execution_count": 113,
   "id": "8137956a",
   "metadata": {},
   "outputs": [],
   "source": [
    "primerarondapar3 = totaltorneos[(totaltorneos['Winner'] == 'Tommy Paul')]\n",
    "                        \n",
    "primerarondapar3rep = totaltorneos[(totaltorneos['Loser'] == 'Tommy Paul')]"
   ]
  },
  {
   "cell_type": "code",
   "execution_count": 114,
   "id": "700ded64",
   "metadata": {},
   "outputs": [],
   "source": [
    "paul=pd.concat([primerarondapar3,primerarondapar3rep],axis=0)"
   ]
  },
  {
   "cell_type": "code",
   "execution_count": 115,
   "id": "3694dc55",
   "metadata": {},
   "outputs": [],
   "source": [
    "win=paul.Winner"
   ]
  },
  {
   "cell_type": "code",
   "execution_count": 116,
   "id": "7c7a65b3",
   "metadata": {},
   "outputs": [],
   "source": [
    "paul['Win'] = win "
   ]
  },
  {
   "cell_type": "code",
   "execution_count": 117,
   "id": "d3a3899e",
   "metadata": {},
   "outputs": [
    {
     "data": {
      "text/plain": [
       "(15, 31)"
      ]
     },
     "execution_count": 117,
     "metadata": {},
     "output_type": "execute_result"
    }
   ],
   "source": [
    "paul.Winner.value_counts()[0],paul.Loser.value_counts()[0]"
   ]
  },
  {
   "cell_type": "code",
   "execution_count": 118,
   "id": "03674900",
   "metadata": {},
   "outputs": [],
   "source": [
    "def win(x):\n",
    "    \n",
    "    if x == 'Tommy Paul':\n",
    "        return 1\n",
    "    else:\n",
    "        return 0"
   ]
  },
  {
   "cell_type": "code",
   "execution_count": 119,
   "id": "71bc04fd",
   "metadata": {},
   "outputs": [],
   "source": [
    "paul.Win = paul.Win.apply(win)"
   ]
  },
  {
   "cell_type": "code",
   "execution_count": 120,
   "id": "587717a3",
   "metadata": {},
   "outputs": [],
   "source": [
    "paul=paul.drop(columns='Loser')"
   ]
  },
  {
   "cell_type": "code",
   "execution_count": 121,
   "id": "9359b57b",
   "metadata": {},
   "outputs": [],
   "source": [
    "paul.Series=paul.Series.apply(lambda x: series[x])\n",
    "paul.Round=paul.Round.apply(lambda x: rounds[x])"
   ]
  },
  {
   "cell_type": "code",
   "execution_count": 122,
   "id": "8ad9dbde",
   "metadata": {},
   "outputs": [],
   "source": [
    "paul = paul.drop(columns=['Tournament','Winner','Surface'])"
   ]
  },
  {
   "cell_type": "code",
   "execution_count": 123,
   "id": "61676e27",
   "metadata": {},
   "outputs": [],
   "source": [
    "Xpau=paul.drop(columns = 'Win')\n",
    "ypau=paul.Win"
   ]
  },
  {
   "cell_type": "code",
   "execution_count": 124,
   "id": "ea06c9d8",
   "metadata": {},
   "outputs": [],
   "source": [
    "datapau=pd.DataFrame(StandardScaler().fit_transform(Xpau._get_numeric_data()),\n",
    "                      \n",
    "                      columns=Xpau._get_numeric_data().columns)\n"
   ]
  },
  {
   "cell_type": "code",
   "execution_count": 125,
   "id": "abf544c3",
   "metadata": {},
   "outputs": [],
   "source": [
    "X_train, X_test, y_train, y_test = tts(datapau, ypau, train_size=0.8, test_size=0.2, random_state=42)"
   ]
  },
  {
   "cell_type": "code",
   "execution_count": 126,
   "id": "00aaf5c8",
   "metadata": {},
   "outputs": [
    {
     "data": {
      "text/plain": [
       "((36, 20), (10, 20), (36,), (10,))"
      ]
     },
     "execution_count": 126,
     "metadata": {},
     "output_type": "execute_result"
    }
   ],
   "source": [
    "X_train.shape, X_test.shape, y_train.shape, y_test.shape"
   ]
  },
  {
   "cell_type": "code",
   "execution_count": 127,
   "id": "e6221de1",
   "metadata": {},
   "outputs": [
    {
     "name": "stderr",
     "output_type": "stream",
     "text": [
      "100%|██████████| 29/29 [00:00<00:00, 84.55it/s]"
     ]
    },
    {
     "name": "stdout",
     "output_type": "stream",
     "text": [
      "                               Accuracy  Balanced Accuracy  ROC AUC  F1 Score  \\\n",
      "Model                                                                           \n",
      "ExtraTreesClassifier               1.00               1.00     1.00      1.00   \n",
      "GaussianNB                         1.00               1.00     1.00      1.00   \n",
      "RandomForestClassifier             1.00               1.00     1.00      1.00   \n",
      "BernoulliNB                        0.90               0.92     0.92      0.90   \n",
      "NuSVC                              0.90               0.92     0.92      0.90   \n",
      "BaggingClassifier                  0.90               0.92     0.92      0.90   \n",
      "SVC                                0.90               0.92     0.92      0.90   \n",
      "AdaBoostClassifier                 0.80               0.83     0.83      0.80   \n",
      "LabelSpreading                     0.80               0.83     0.83      0.80   \n",
      "LinearDiscriminantAnalysis         0.80               0.83     0.83      0.80   \n",
      "KNeighborsClassifier               0.80               0.83     0.83      0.80   \n",
      "LabelPropagation                   0.80               0.83     0.83      0.80   \n",
      "ExtraTreeClassifier                0.80               0.83     0.83      0.80   \n",
      "DecisionTreeClassifier             0.80               0.83     0.83      0.80   \n",
      "XGBClassifier                      0.80               0.83     0.83      0.80   \n",
      "SGDClassifier                      0.70               0.75     0.75      0.69   \n",
      "RidgeClassifierCV                  0.70               0.75     0.75      0.69   \n",
      "RidgeClassifier                    0.70               0.75     0.75      0.69   \n",
      "LinearSVC                          0.70               0.75     0.75      0.69   \n",
      "Perceptron                         0.70               0.75     0.75      0.69   \n",
      "PassiveAggressiveClassifier        0.70               0.75     0.75      0.69   \n",
      "LogisticRegression                 0.70               0.75     0.75      0.69   \n",
      "CalibratedClassifierCV             0.80               0.75     0.75      0.78   \n",
      "NearestCentroid                    0.60               0.67     0.67      0.57   \n",
      "QuadraticDiscriminantAnalysis      0.70               0.62     0.62      0.64   \n",
      "DummyClassifier                    0.60               0.50     0.50      0.45   \n",
      "LGBMClassifier                     0.60               0.50     0.50      0.45   \n",
      "\n",
      "                               Time Taken  \n",
      "Model                                      \n",
      "ExtraTreesClassifier                 0.05  \n",
      "GaussianNB                           0.01  \n",
      "RandomForestClassifier               0.07  \n",
      "BernoulliNB                          0.00  \n",
      "NuSVC                                0.01  \n",
      "BaggingClassifier                    0.01  \n",
      "SVC                                  0.01  \n",
      "AdaBoostClassifier                   0.04  \n",
      "LabelSpreading                       0.01  \n",
      "LinearDiscriminantAnalysis           0.01  \n",
      "KNeighborsClassifier                 0.01  \n",
      "LabelPropagation                     0.01  \n",
      "ExtraTreeClassifier                  0.00  \n",
      "DecisionTreeClassifier               0.00  \n",
      "XGBClassifier                        0.02  \n",
      "SGDClassifier                        0.01  \n",
      "RidgeClassifierCV                    0.01  \n",
      "RidgeClassifier                      0.01  \n",
      "LinearSVC                            0.01  \n",
      "Perceptron                           0.01  \n",
      "PassiveAggressiveClassifier          0.00  \n",
      "LogisticRegression                   0.01  \n",
      "CalibratedClassifierCV               0.01  \n",
      "NearestCentroid                      0.00  \n",
      "QuadraticDiscriminantAnalysis        0.00  \n",
      "DummyClassifier                      0.00  \n",
      "LGBMClassifier                       0.02  \n"
     ]
    },
    {
     "name": "stderr",
     "output_type": "stream",
     "text": [
      "\n"
     ]
    }
   ],
   "source": [
    "from lazypredict.Supervised import LazyClassifier\n",
    "clf = LazyClassifier(verbose=0, ignore_warnings=True, custom_metric=None)\n",
    "models, predictions = clf.fit(X_train, X_test, y_train, y_test)\n",
    "print(models)"
   ]
  },
  {
   "cell_type": "code",
   "execution_count": 128,
   "id": "b525499e",
   "metadata": {},
   "outputs": [],
   "source": [
    "etc = ExtraTreesClassifier()"
   ]
  },
  {
   "cell_type": "code",
   "execution_count": 129,
   "id": "73de31c0",
   "metadata": {},
   "outputs": [
    {
     "data": {
      "text/plain": [
       "ExtraTreesClassifier()"
      ]
     },
     "execution_count": 129,
     "metadata": {},
     "output_type": "execute_result"
    }
   ],
   "source": [
    "etc.fit(X_train, y_train)"
   ]
  },
  {
   "cell_type": "code",
   "execution_count": 130,
   "id": "5ac779bc",
   "metadata": {},
   "outputs": [],
   "source": [
    "y_pred_pau=etc.predict(X_test)"
   ]
  },
  {
   "cell_type": "code",
   "execution_count": 131,
   "id": "365ba1d6",
   "metadata": {},
   "outputs": [],
   "source": [
    "def ratewins(x):\n",
    "    \n",
    "    cont=[]\n",
    "    \n",
    "    for i in x:\n",
    "        if i == 1:\n",
    "            cont.append(i)\n",
    "    return len(cont)/len(x)\n",
    "            "
   ]
  },
  {
   "cell_type": "code",
   "execution_count": 132,
   "id": "359b07c3",
   "metadata": {},
   "outputs": [],
   "source": [
    "ratepau = ratewins(y_pred_pau)"
   ]
  },
  {
   "cell_type": "code",
   "execution_count": 133,
   "id": "31dad01d",
   "metadata": {},
   "outputs": [
    {
     "data": {
      "text/plain": [
       "0.4"
      ]
     },
     "execution_count": 133,
     "metadata": {},
     "output_type": "execute_result"
    }
   ],
   "source": [
    "ratepau"
   ]
  },
  {
   "cell_type": "markdown",
   "id": "3e8e7cb6",
   "metadata": {},
   "source": [
    "### Casper Ruud"
   ]
  },
  {
   "cell_type": "code",
   "execution_count": 134,
   "id": "c214deb7",
   "metadata": {},
   "outputs": [],
   "source": [
    "primerarondapar3a = totaltorneos[(totaltorneos['Winner'] == 'Casper Ruud')]\n",
    "                        \n",
    "primerarondapar3repa = totaltorneos[(totaltorneos['Loser'] == 'Casper Ruud')]"
   ]
  },
  {
   "cell_type": "code",
   "execution_count": 135,
   "id": "70ca6300",
   "metadata": {},
   "outputs": [],
   "source": [
    "ruud=pd.concat([primerarondapar3a,primerarondapar3repa],axis=0)"
   ]
  },
  {
   "cell_type": "code",
   "execution_count": 136,
   "id": "042b8270",
   "metadata": {},
   "outputs": [],
   "source": [
    "win=ruud.Winner"
   ]
  },
  {
   "cell_type": "code",
   "execution_count": 137,
   "id": "4b6d94b0",
   "metadata": {},
   "outputs": [],
   "source": [
    "ruud['Win'] = win "
   ]
  },
  {
   "cell_type": "code",
   "execution_count": 138,
   "id": "c2c524cb",
   "metadata": {},
   "outputs": [
    {
     "data": {
      "text/plain": [
       "(36, 35)"
      ]
     },
     "execution_count": 138,
     "metadata": {},
     "output_type": "execute_result"
    }
   ],
   "source": [
    "ruud.Winner.value_counts()[0],ruud.Loser.value_counts()[0]"
   ]
  },
  {
   "cell_type": "code",
   "execution_count": 139,
   "id": "99cb222e",
   "metadata": {},
   "outputs": [],
   "source": [
    "def win(x):\n",
    "    \n",
    "    if x == 'Casper Ruud':\n",
    "        return 1\n",
    "    else:\n",
    "        return 0"
   ]
  },
  {
   "cell_type": "code",
   "execution_count": 140,
   "id": "7e684a35",
   "metadata": {},
   "outputs": [],
   "source": [
    "ruud.Win = ruud.Win.apply(win)"
   ]
  },
  {
   "cell_type": "code",
   "execution_count": 141,
   "id": "5b128abb",
   "metadata": {},
   "outputs": [],
   "source": [
    "ruud=ruud.drop(columns='Loser')"
   ]
  },
  {
   "cell_type": "code",
   "execution_count": 142,
   "id": "f5ed2f22",
   "metadata": {},
   "outputs": [],
   "source": [
    "ruud.Series=ruud.Series.apply(lambda x: series[x])\n",
    "ruud.Round=ruud.Round.apply(lambda x: rounds[x])"
   ]
  },
  {
   "cell_type": "code",
   "execution_count": 143,
   "id": "5a15f402",
   "metadata": {},
   "outputs": [],
   "source": [
    "ruud = ruud.drop(columns=['Tournament','Winner','Surface'])"
   ]
  },
  {
   "cell_type": "code",
   "execution_count": 144,
   "id": "268bab96",
   "metadata": {},
   "outputs": [],
   "source": [
    "Xruu=ruud.drop(columns = 'Win')\n",
    "yruu=ruud.Win"
   ]
  },
  {
   "cell_type": "code",
   "execution_count": 145,
   "id": "bc6b7c94",
   "metadata": {},
   "outputs": [
    {
     "data": {
      "text/plain": [
       "(71, 20)"
      ]
     },
     "execution_count": 145,
     "metadata": {},
     "output_type": "execute_result"
    }
   ],
   "source": [
    "dataruu=pd.DataFrame(StandardScaler().fit_transform(Xruu._get_numeric_data()),\n",
    "                      \n",
    "                      columns=Xruu._get_numeric_data().columns)\n",
    "\n",
    "\n",
    "\n",
    "\n",
    "dataruu.shape"
   ]
  },
  {
   "cell_type": "code",
   "execution_count": 146,
   "id": "45c51204",
   "metadata": {},
   "outputs": [],
   "source": [
    "X_train, X_test, y_train, y_test = tts(dataruu, yruu, train_size=0.8, test_size=0.2, random_state=42)"
   ]
  },
  {
   "cell_type": "code",
   "execution_count": 147,
   "id": "45c3f2bf",
   "metadata": {},
   "outputs": [
    {
     "data": {
      "text/plain": [
       "((56, 20), (15, 20), (56,), (15,))"
      ]
     },
     "execution_count": 147,
     "metadata": {},
     "output_type": "execute_result"
    }
   ],
   "source": [
    "X_train.shape, X_test.shape, y_train.shape, y_test.shape"
   ]
  },
  {
   "cell_type": "code",
   "execution_count": 148,
   "id": "df60c697",
   "metadata": {},
   "outputs": [
    {
     "name": "stderr",
     "output_type": "stream",
     "text": [
      "100%|██████████| 29/29 [00:00<00:00, 72.22it/s]"
     ]
    },
    {
     "name": "stdout",
     "output_type": "stream",
     "text": [
      "                               Accuracy  Balanced Accuracy  ROC AUC  F1 Score  \\\n",
      "Model                                                                           \n",
      "GaussianNB                         0.93               0.95     0.95      0.93   \n",
      "AdaBoostClassifier                 0.93               0.90     0.90      0.93   \n",
      "LabelPropagation                   0.93               0.90     0.90      0.93   \n",
      "SVC                                0.93               0.90     0.90      0.93   \n",
      "SGDClassifier                      0.93               0.90     0.90      0.93   \n",
      "RandomForestClassifier             0.93               0.90     0.90      0.93   \n",
      "Perceptron                         0.93               0.90     0.90      0.93   \n",
      "NuSVC                              0.93               0.90     0.90      0.93   \n",
      "BaggingClassifier                  0.93               0.90     0.90      0.93   \n",
      "LabelSpreading                     0.93               0.90     0.90      0.93   \n",
      "LinearSVC                          0.93               0.90     0.90      0.93   \n",
      "ExtraTreesClassifier               0.93               0.90     0.90      0.93   \n",
      "ExtraTreeClassifier                0.93               0.90     0.90      0.93   \n",
      "CalibratedClassifierCV             0.93               0.90     0.90      0.93   \n",
      "NearestCentroid                    0.87               0.85     0.85      0.87   \n",
      "BernoulliNB                        0.87               0.85     0.85      0.87   \n",
      "LinearDiscriminantAnalysis         0.87               0.80     0.80      0.86   \n",
      "LogisticRegression                 0.87               0.80     0.80      0.86   \n",
      "PassiveAggressiveClassifier        0.87               0.80     0.80      0.86   \n",
      "DecisionTreeClassifier             0.87               0.80     0.80      0.86   \n",
      "RidgeClassifier                    0.87               0.80     0.80      0.86   \n",
      "RidgeClassifierCV                  0.87               0.80     0.80      0.86   \n",
      "XGBClassifier                      0.87               0.80     0.80      0.86   \n",
      "LGBMClassifier                     0.87               0.80     0.80      0.86   \n",
      "KNeighborsClassifier               0.80               0.70     0.70      0.77   \n",
      "DummyClassifier                    0.33               0.50     0.50      0.17   \n",
      "QuadraticDiscriminantAnalysis      0.33               0.50     0.50      0.17   \n",
      "\n",
      "                               Time Taken  \n",
      "Model                                      \n",
      "GaussianNB                           0.01  \n",
      "AdaBoostClassifier                   0.04  \n",
      "LabelPropagation                     0.01  \n",
      "SVC                                  0.01  \n",
      "SGDClassifier                        0.01  \n",
      "RandomForestClassifier               0.08  \n",
      "Perceptron                           0.01  \n",
      "NuSVC                                0.01  \n",
      "BaggingClassifier                    0.01  \n",
      "LabelSpreading                       0.01  \n",
      "LinearSVC                            0.01  \n",
      "ExtraTreesClassifier                 0.06  \n",
      "ExtraTreeClassifier                  0.00  \n",
      "CalibratedClassifierCV               0.01  \n",
      "NearestCentroid                      0.00  \n",
      "BernoulliNB                          0.00  \n",
      "LinearDiscriminantAnalysis           0.01  \n",
      "LogisticRegression                   0.01  \n",
      "PassiveAggressiveClassifier          0.01  \n",
      "DecisionTreeClassifier               0.00  \n",
      "RidgeClassifier                      0.01  \n",
      "RidgeClassifierCV                    0.01  \n",
      "XGBClassifier                        0.04  \n",
      "LGBMClassifier                       0.05  \n",
      "KNeighborsClassifier                 0.01  \n",
      "DummyClassifier                      0.00  \n",
      "QuadraticDiscriminantAnalysis        0.01  \n"
     ]
    },
    {
     "name": "stderr",
     "output_type": "stream",
     "text": [
      "\n"
     ]
    }
   ],
   "source": [
    "from lazypredict.Supervised import LazyClassifier\n",
    "clf = LazyClassifier(verbose=0, ignore_warnings=True, custom_metric=None)\n",
    "models, predictions = clf.fit(X_train, X_test, y_train, y_test)\n",
    "print(models)"
   ]
  },
  {
   "cell_type": "code",
   "execution_count": 149,
   "id": "4dbe4d4e",
   "metadata": {},
   "outputs": [],
   "source": [
    "gauss = GaussianNB()"
   ]
  },
  {
   "cell_type": "code",
   "execution_count": 150,
   "id": "f880a54f",
   "metadata": {},
   "outputs": [
    {
     "data": {
      "text/plain": [
       "GaussianNB()"
      ]
     },
     "execution_count": 150,
     "metadata": {},
     "output_type": "execute_result"
    }
   ],
   "source": [
    "gauss.fit(X_train, y_train)"
   ]
  },
  {
   "cell_type": "code",
   "execution_count": 151,
   "id": "4c1a1391",
   "metadata": {},
   "outputs": [],
   "source": [
    "y_pred_ruu=gauss.predict(X_test)"
   ]
  },
  {
   "cell_type": "code",
   "execution_count": 152,
   "id": "d3c5b90e",
   "metadata": {},
   "outputs": [],
   "source": [
    "def ratewins(x):\n",
    "    \n",
    "    cont=[]\n",
    "    \n",
    "    for i in x:\n",
    "        if i == 1:\n",
    "            cont.append(i)\n",
    "    return len(cont)/len(x)\n",
    "            "
   ]
  },
  {
   "cell_type": "code",
   "execution_count": 153,
   "id": "85c28ff2",
   "metadata": {},
   "outputs": [],
   "source": [
    "rateruu= ratewins(y_pred_ruu)"
   ]
  },
  {
   "cell_type": "code",
   "execution_count": 154,
   "id": "39ce507a",
   "metadata": {},
   "outputs": [
    {
     "data": {
      "text/plain": [
       "0.6"
      ]
     },
     "execution_count": 154,
     "metadata": {},
     "output_type": "execute_result"
    }
   ],
   "source": [
    "rateruu"
   ]
  },
  {
   "cell_type": "markdown",
   "id": "c07c92a4",
   "metadata": {},
   "source": [
    "### El ratio de victorias de Casper Ruud es mayor, por lo que consideremos que gana el encuentro y pasa a la siguiente ronda. Tommy Paul es eliminado."
   ]
  },
  {
   "cell_type": "markdown",
   "id": "4983453b",
   "metadata": {},
   "source": [
    "# Pareja 4"
   ]
  },
  {
   "cell_type": "code",
   "execution_count": 155,
   "id": "80684d03",
   "metadata": {},
   "outputs": [
    {
     "data": {
      "text/plain": [
       "['Novak Djokovic', 'Daniil Medvedev']"
      ]
     },
     "execution_count": 155,
     "metadata": {},
     "output_type": "execute_result"
    }
   ],
   "source": [
    "par4"
   ]
  },
  {
   "cell_type": "markdown",
   "id": "a8798927",
   "metadata": {},
   "source": [
    "### Novak Djokovic"
   ]
  },
  {
   "cell_type": "code",
   "execution_count": 156,
   "id": "20365560",
   "metadata": {},
   "outputs": [],
   "source": [
    "primerarondapar4 = totaltorneos[(totaltorneos['Winner'] == 'Novak Djokovic')]\n",
    "                        \n",
    "primerarondapar4rep = totaltorneos[(totaltorneos['Loser'] == 'Novak Djokovic')]"
   ]
  },
  {
   "cell_type": "code",
   "execution_count": 157,
   "id": "15a689b9",
   "metadata": {},
   "outputs": [],
   "source": [
    "djokovic=pd.concat([primerarondapar4,primerarondapar4rep],axis=0)"
   ]
  },
  {
   "cell_type": "code",
   "execution_count": 158,
   "id": "78d514d7",
   "metadata": {},
   "outputs": [],
   "source": [
    "win=djokovic.Winner"
   ]
  },
  {
   "cell_type": "code",
   "execution_count": 159,
   "id": "51ed510f",
   "metadata": {},
   "outputs": [],
   "source": [
    "djokovic['Win'] = win "
   ]
  },
  {
   "cell_type": "code",
   "execution_count": 160,
   "id": "ebe8b429",
   "metadata": {},
   "outputs": [
    {
     "data": {
      "text/plain": [
       "(77, 22)"
      ]
     },
     "execution_count": 160,
     "metadata": {},
     "output_type": "execute_result"
    }
   ],
   "source": [
    "djokovic.Winner.value_counts()[0],djokovic.Loser.value_counts()[0]"
   ]
  },
  {
   "cell_type": "code",
   "execution_count": 161,
   "id": "dcf17787",
   "metadata": {},
   "outputs": [],
   "source": [
    "def win(x):\n",
    "    \n",
    "    if x == 'Novak Djokovic':\n",
    "        return 1\n",
    "    else:\n",
    "        return 0"
   ]
  },
  {
   "cell_type": "code",
   "execution_count": 162,
   "id": "5235787f",
   "metadata": {},
   "outputs": [],
   "source": [
    "djokovic.Win = djokovic.Win.apply(win)"
   ]
  },
  {
   "cell_type": "code",
   "execution_count": 163,
   "id": "570082ac",
   "metadata": {},
   "outputs": [],
   "source": [
    "djokovic=djokovic.drop(columns='Loser')"
   ]
  },
  {
   "cell_type": "code",
   "execution_count": 164,
   "id": "b59f1b49",
   "metadata": {},
   "outputs": [],
   "source": [
    "djokovic.Series=djokovic.Series.apply(lambda x: series[x])\n",
    "djokovic.Round=djokovic.Round.apply(lambda x: rounds[x])"
   ]
  },
  {
   "cell_type": "code",
   "execution_count": 165,
   "id": "5d212149",
   "metadata": {},
   "outputs": [],
   "source": [
    "djokovic = djokovic.drop(columns=['Tournament','Winner','Surface'])"
   ]
  },
  {
   "cell_type": "code",
   "execution_count": 166,
   "id": "73327c5e",
   "metadata": {},
   "outputs": [],
   "source": [
    "Xdjo=djokovic.drop(columns = 'Win')\n",
    "ydjo=djokovic.Win"
   ]
  },
  {
   "cell_type": "code",
   "execution_count": 167,
   "id": "bc745281",
   "metadata": {},
   "outputs": [],
   "source": [
    "datadjo=pd.DataFrame(StandardScaler().fit_transform(Xdjo._get_numeric_data()),\n",
    "                      \n",
    "                      columns=Xdjo._get_numeric_data().columns)\n"
   ]
  },
  {
   "cell_type": "code",
   "execution_count": 168,
   "id": "515c0321",
   "metadata": {},
   "outputs": [],
   "source": [
    "X_train, X_test, y_train, y_test = tts(datadjo, ydjo, train_size=0.8, test_size=0.2, random_state=42)"
   ]
  },
  {
   "cell_type": "code",
   "execution_count": 169,
   "id": "a81436be",
   "metadata": {},
   "outputs": [
    {
     "data": {
      "text/plain": [
       "((79, 20), (20, 20), (79,), (20,))"
      ]
     },
     "execution_count": 169,
     "metadata": {},
     "output_type": "execute_result"
    }
   ],
   "source": [
    "X_train.shape, X_test.shape, y_train.shape, y_test.shape"
   ]
  },
  {
   "cell_type": "code",
   "execution_count": 170,
   "id": "54800b7e",
   "metadata": {},
   "outputs": [
    {
     "name": "stderr",
     "output_type": "stream",
     "text": [
      "100%|██████████| 29/29 [00:00<00:00, 57.76it/s]"
     ]
    },
    {
     "name": "stdout",
     "output_type": "stream",
     "text": [
      "                               Accuracy  Balanced Accuracy  ROC AUC  F1 Score  \\\n",
      "Model                                                                           \n",
      "AdaBoostClassifier                 1.00               1.00     1.00      1.00   \n",
      "ExtraTreesClassifier               1.00               1.00     1.00      1.00   \n",
      "XGBClassifier                      1.00               1.00     1.00      1.00   \n",
      "RandomForestClassifier             1.00               1.00     1.00      1.00   \n",
      "BaggingClassifier                  1.00               1.00     1.00      1.00   \n",
      "GaussianNB                         1.00               1.00     1.00      1.00   \n",
      "LGBMClassifier                     1.00               1.00     1.00      1.00   \n",
      "ExtraTreeClassifier                1.00               1.00     1.00      1.00   \n",
      "NearestCentroid                    0.95               0.97     0.97      0.95   \n",
      "DecisionTreeClassifier             0.95               0.88     0.88      0.95   \n",
      "SVC                                0.95               0.88     0.88      0.95   \n",
      "LogisticRegression                 0.95               0.88     0.88      0.95   \n",
      "LinearSVC                          0.95               0.88     0.88      0.95   \n",
      "LinearDiscriminantAnalysis         0.95               0.88     0.88      0.95   \n",
      "LabelSpreading                     0.95               0.88     0.88      0.95   \n",
      "LabelPropagation                   0.95               0.88     0.88      0.95   \n",
      "KNeighborsClassifier               0.95               0.88     0.88      0.95   \n",
      "SGDClassifier                      0.90               0.84     0.84      0.90   \n",
      "BernoulliNB                        0.90               0.84     0.84      0.90   \n",
      "PassiveAggressiveClassifier        0.85               0.81     0.81      0.86   \n",
      "RidgeClassifier                    0.90               0.75     0.75      0.89   \n",
      "RidgeClassifierCV                  0.90               0.75     0.75      0.89   \n",
      "Perceptron                         0.70               0.62     0.62      0.72   \n",
      "CalibratedClassifierCV             0.85               0.62     0.62      0.81   \n",
      "DummyClassifier                    0.80               0.50     0.50      0.71   \n",
      "QuadraticDiscriminantAnalysis      0.20               0.50     0.50      0.07   \n",
      "\n",
      "                               Time Taken  \n",
      "Model                                      \n",
      "AdaBoostClassifier                   0.04  \n",
      "ExtraTreesClassifier                 0.06  \n",
      "XGBClassifier                        0.06  \n",
      "RandomForestClassifier               0.08  \n",
      "BaggingClassifier                    0.01  \n",
      "GaussianNB                           0.01  \n",
      "LGBMClassifier                       0.11  \n",
      "ExtraTreeClassifier                  0.00  \n",
      "NearestCentroid                      0.01  \n",
      "DecisionTreeClassifier               0.00  \n",
      "SVC                                  0.01  \n",
      "LogisticRegression                   0.01  \n",
      "LinearSVC                            0.01  \n",
      "LinearDiscriminantAnalysis           0.01  \n",
      "LabelSpreading                       0.01  \n",
      "LabelPropagation                     0.01  \n",
      "KNeighborsClassifier                 0.01  \n",
      "SGDClassifier                        0.01  \n",
      "BernoulliNB                          0.00  \n",
      "PassiveAggressiveClassifier          0.01  \n",
      "RidgeClassifier                      0.01  \n",
      "RidgeClassifierCV                    0.01  \n",
      "Perceptron                           0.01  \n",
      "CalibratedClassifierCV               0.02  \n",
      "DummyClassifier                      0.00  \n",
      "QuadraticDiscriminantAnalysis        0.01  \n"
     ]
    },
    {
     "name": "stderr",
     "output_type": "stream",
     "text": [
      "\n"
     ]
    }
   ],
   "source": [
    "from lazypredict.Supervised import LazyClassifier\n",
    "clf = LazyClassifier(verbose=0, ignore_warnings=True, custom_metric=None)\n",
    "models, predictions = clf.fit(X_train, X_test, y_train, y_test)\n",
    "print(models)"
   ]
  },
  {
   "cell_type": "code",
   "execution_count": 171,
   "id": "2be779fd",
   "metadata": {},
   "outputs": [],
   "source": [
    "ABC = AdaBoostClassifier()"
   ]
  },
  {
   "cell_type": "code",
   "execution_count": 172,
   "id": "a81ee5e7",
   "metadata": {},
   "outputs": [
    {
     "data": {
      "text/plain": [
       "AdaBoostClassifier()"
      ]
     },
     "execution_count": 172,
     "metadata": {},
     "output_type": "execute_result"
    }
   ],
   "source": [
    "ABC.fit(X_train, y_train)"
   ]
  },
  {
   "cell_type": "code",
   "execution_count": 173,
   "id": "e4920ea8",
   "metadata": {},
   "outputs": [],
   "source": [
    "y_pred_djo=ABC.predict(X_test)"
   ]
  },
  {
   "cell_type": "code",
   "execution_count": 174,
   "id": "b690b366",
   "metadata": {},
   "outputs": [],
   "source": [
    "def ratewins(x):\n",
    "    \n",
    "    cont=[]\n",
    "    \n",
    "    for i in x:\n",
    "        if i == 1:\n",
    "            cont.append(i)\n",
    "    return len(cont)/len(x)\n",
    "            "
   ]
  },
  {
   "cell_type": "code",
   "execution_count": 175,
   "id": "a6346bcb",
   "metadata": {},
   "outputs": [],
   "source": [
    "ratedjo = ratewins(y_pred_djo)"
   ]
  },
  {
   "cell_type": "code",
   "execution_count": 176,
   "id": "795bf386",
   "metadata": {},
   "outputs": [
    {
     "data": {
      "text/plain": [
       "0.8"
      ]
     },
     "execution_count": 176,
     "metadata": {},
     "output_type": "execute_result"
    }
   ],
   "source": [
    "ratedjo"
   ]
  },
  {
   "cell_type": "markdown",
   "id": "4551e113",
   "metadata": {},
   "source": [
    "### Daniil Medvedev"
   ]
  },
  {
   "cell_type": "code",
   "execution_count": 177,
   "id": "c1c8add1",
   "metadata": {},
   "outputs": [],
   "source": [
    "primerarondapar4a = totaltorneos[(totaltorneos['Winner'] == 'Daniil Medvedev')]\n",
    "                        \n",
    "primerarondapar4repa = totaltorneos[(totaltorneos['Loser'] == 'Daniil Medvedev')]"
   ]
  },
  {
   "cell_type": "code",
   "execution_count": 178,
   "id": "ac726e80",
   "metadata": {},
   "outputs": [],
   "source": [
    "medvedev=pd.concat([primerarondapar4a,primerarondapar4repa],axis=0)"
   ]
  },
  {
   "cell_type": "code",
   "execution_count": 179,
   "id": "ac5ebfa7",
   "metadata": {},
   "outputs": [],
   "source": [
    "win=medvedev.Winner"
   ]
  },
  {
   "cell_type": "code",
   "execution_count": 180,
   "id": "20f4e7ad",
   "metadata": {},
   "outputs": [],
   "source": [
    "medvedev['Win'] = win "
   ]
  },
  {
   "cell_type": "code",
   "execution_count": 181,
   "id": "c5d23139",
   "metadata": {},
   "outputs": [
    {
     "data": {
      "text/plain": [
       "(63, 33)"
      ]
     },
     "execution_count": 181,
     "metadata": {},
     "output_type": "execute_result"
    }
   ],
   "source": [
    "medvedev.Winner.value_counts()[0],medvedev.Loser.value_counts()[0]"
   ]
  },
  {
   "cell_type": "code",
   "execution_count": 182,
   "id": "f0f27d55",
   "metadata": {},
   "outputs": [],
   "source": [
    "def win(x):\n",
    "    \n",
    "    if x == 'Daniil Medvedev':\n",
    "        return 1\n",
    "    else:\n",
    "        return 0"
   ]
  },
  {
   "cell_type": "code",
   "execution_count": 183,
   "id": "6151475b",
   "metadata": {},
   "outputs": [],
   "source": [
    "medvedev.Win = medvedev.Win.apply(win)"
   ]
  },
  {
   "cell_type": "code",
   "execution_count": 184,
   "id": "0bbf5df3",
   "metadata": {},
   "outputs": [],
   "source": [
    "medvedev=medvedev.drop(columns='Loser')"
   ]
  },
  {
   "cell_type": "code",
   "execution_count": 185,
   "id": "9a82c35b",
   "metadata": {},
   "outputs": [],
   "source": [
    "medvedev.Series=medvedev.Series.apply(lambda x: series[x])\n",
    "medvedev.Round=medvedev.Round.apply(lambda x: rounds[x])"
   ]
  },
  {
   "cell_type": "code",
   "execution_count": 186,
   "id": "f9a39ab9",
   "metadata": {},
   "outputs": [],
   "source": [
    "medvedev = medvedev.drop(columns=['Tournament','Winner','Surface'])"
   ]
  },
  {
   "cell_type": "code",
   "execution_count": 187,
   "id": "92f4f62a",
   "metadata": {},
   "outputs": [],
   "source": [
    "Xmev=medvedev.drop(columns = 'Win')\n",
    "ymev=medvedev.Win"
   ]
  },
  {
   "cell_type": "code",
   "execution_count": 188,
   "id": "48c0ce69",
   "metadata": {},
   "outputs": [],
   "source": [
    "datamev=pd.DataFrame(StandardScaler().fit_transform(Xmev._get_numeric_data()),\n",
    "                      \n",
    "                      columns=Xmev._get_numeric_data().columns)\n"
   ]
  },
  {
   "cell_type": "code",
   "execution_count": 189,
   "id": "eee8146d",
   "metadata": {},
   "outputs": [],
   "source": [
    "X_train, X_test, y_train, y_test = tts(datamev, ymev, train_size=0.8, test_size=0.2, random_state=42)"
   ]
  },
  {
   "cell_type": "code",
   "execution_count": 190,
   "id": "702ec2fe",
   "metadata": {},
   "outputs": [
    {
     "data": {
      "text/plain": [
       "((76, 20), (20, 20), (76,), (20,))"
      ]
     },
     "execution_count": 190,
     "metadata": {},
     "output_type": "execute_result"
    }
   ],
   "source": [
    "X_train.shape, X_test.shape, y_train.shape, y_test.shape"
   ]
  },
  {
   "cell_type": "code",
   "execution_count": 191,
   "id": "04fa2237",
   "metadata": {},
   "outputs": [
    {
     "name": "stderr",
     "output_type": "stream",
     "text": [
      "100%|██████████| 29/29 [00:00<00:00, 65.74it/s]"
     ]
    },
    {
     "name": "stdout",
     "output_type": "stream",
     "text": [
      "                               Accuracy  Balanced Accuracy  ROC AUC  F1 Score  \\\n",
      "Model                                                                           \n",
      "AdaBoostClassifier                 1.00               1.00     1.00      1.00   \n",
      "LabelPropagation                   1.00               1.00     1.00      1.00   \n",
      "XGBClassifier                      1.00               1.00     1.00      1.00   \n",
      "RandomForestClassifier             1.00               1.00     1.00      1.00   \n",
      "Perceptron                         1.00               1.00     1.00      1.00   \n",
      "PassiveAggressiveClassifier        1.00               1.00     1.00      1.00   \n",
      "BaggingClassifier                  1.00               1.00     1.00      1.00   \n",
      "LabelSpreading                     1.00               1.00     1.00      1.00   \n",
      "LinearSVC                          1.00               1.00     1.00      1.00   \n",
      "DecisionTreeClassifier             1.00               1.00     1.00      1.00   \n",
      "ExtraTreesClassifier               1.00               1.00     1.00      1.00   \n",
      "LGBMClassifier                     1.00               1.00     1.00      1.00   \n",
      "LinearDiscriminantAnalysis         0.95               0.96     0.96      0.95   \n",
      "RidgeClassifier                    0.95               0.96     0.96      0.95   \n",
      "ExtraTreeClassifier                0.95               0.94     0.94      0.95   \n",
      "LogisticRegression                 0.95               0.94     0.94      0.95   \n",
      "NuSVC                              0.95               0.94     0.94      0.95   \n",
      "CalibratedClassifierCV             0.95               0.94     0.94      0.95   \n",
      "SGDClassifier                      0.95               0.94     0.94      0.95   \n",
      "SVC                                0.95               0.94     0.94      0.95   \n",
      "GaussianNB                         0.90               0.90     0.90      0.90   \n",
      "RidgeClassifierCV                  0.90               0.90     0.90      0.90   \n",
      "NearestCentroid                    0.90               0.88     0.88      0.90   \n",
      "KNeighborsClassifier               0.85               0.83     0.83      0.85   \n",
      "BernoulliNB                        0.75               0.75     0.75      0.75   \n",
      "DummyClassifier                    0.60               0.50     0.50      0.45   \n",
      "QuadraticDiscriminantAnalysis      0.40               0.50     0.50      0.23   \n",
      "\n",
      "                               Time Taken  \n",
      "Model                                      \n",
      "AdaBoostClassifier                   0.04  \n",
      "LabelPropagation                     0.01  \n",
      "XGBClassifier                        0.05  \n",
      "RandomForestClassifier               0.08  \n",
      "Perceptron                           0.01  \n",
      "PassiveAggressiveClassifier          0.01  \n",
      "BaggingClassifier                    0.01  \n",
      "LabelSpreading                       0.01  \n",
      "LinearSVC                            0.01  \n",
      "DecisionTreeClassifier               0.00  \n",
      "ExtraTreesClassifier                 0.06  \n",
      "LGBMClassifier                       0.07  \n",
      "LinearDiscriminantAnalysis           0.01  \n",
      "RidgeClassifier                      0.01  \n",
      "ExtraTreeClassifier                  0.00  \n",
      "LogisticRegression                   0.01  \n",
      "NuSVC                                0.01  \n",
      "CalibratedClassifierCV               0.01  \n",
      "SGDClassifier                        0.01  \n",
      "SVC                                  0.01  \n",
      "GaussianNB                           0.01  \n",
      "RidgeClassifierCV                    0.01  \n",
      "NearestCentroid                      0.01  \n",
      "KNeighborsClassifier                 0.01  \n",
      "BernoulliNB                          0.00  \n",
      "DummyClassifier                      0.00  \n",
      "QuadraticDiscriminantAnalysis        0.01  \n"
     ]
    },
    {
     "name": "stderr",
     "output_type": "stream",
     "text": [
      "\n"
     ]
    }
   ],
   "source": [
    "from lazypredict.Supervised import LazyClassifier\n",
    "clf = LazyClassifier(verbose=0, ignore_warnings=True, custom_metric=None)\n",
    "models, predictions = clf.fit(X_train, X_test, y_train, y_test)\n",
    "print(models)"
   ]
  },
  {
   "cell_type": "code",
   "execution_count": 192,
   "id": "2a8685d1",
   "metadata": {},
   "outputs": [],
   "source": [
    "ABC = AdaBoostClassifier()"
   ]
  },
  {
   "cell_type": "code",
   "execution_count": 193,
   "id": "e6db1ad2",
   "metadata": {},
   "outputs": [
    {
     "data": {
      "text/plain": [
       "AdaBoostClassifier()"
      ]
     },
     "execution_count": 193,
     "metadata": {},
     "output_type": "execute_result"
    }
   ],
   "source": [
    "ABC.fit(X_train, y_train)"
   ]
  },
  {
   "cell_type": "code",
   "execution_count": 194,
   "id": "05854c33",
   "metadata": {},
   "outputs": [],
   "source": [
    "y_pred_mev=ABC.predict(X_test)"
   ]
  },
  {
   "cell_type": "code",
   "execution_count": 195,
   "id": "68d76f4c",
   "metadata": {},
   "outputs": [],
   "source": [
    "def ratewins(x):\n",
    "    \n",
    "    cont=[]\n",
    "    \n",
    "    for i in x:\n",
    "        if i == 1:\n",
    "            cont.append(i)\n",
    "    return len(cont)/len(x)\n",
    "            "
   ]
  },
  {
   "cell_type": "code",
   "execution_count": 196,
   "id": "1d2b780c",
   "metadata": {},
   "outputs": [],
   "source": [
    "ratemev= ratewins(y_pred_mev)"
   ]
  },
  {
   "cell_type": "code",
   "execution_count": 197,
   "id": "207c77a6",
   "metadata": {
    "scrolled": true
   },
   "outputs": [
    {
     "data": {
      "text/plain": [
       "0.6"
      ]
     },
     "execution_count": 197,
     "metadata": {},
     "output_type": "execute_result"
    }
   ],
   "source": [
    "ratemev"
   ]
  },
  {
   "cell_type": "markdown",
   "id": "d4e8cfc9",
   "metadata": {},
   "source": [
    "### El ratio de victorias de Novak Djokovic es mayor, por lo que consideremos que gana el encuentro y pasa a la siguiente ronda. Daniil Mevdedev es eliminado."
   ]
  },
  {
   "cell_type": "markdown",
   "id": "cf361146",
   "metadata": {},
   "source": [
    "# Pareja 5"
   ]
  },
  {
   "cell_type": "code",
   "execution_count": 198,
   "id": "7dccd31d",
   "metadata": {},
   "outputs": [
    {
     "data": {
      "text/plain": [
       "['Andrey Rublev', 'Taylor Fritz']"
      ]
     },
     "execution_count": 198,
     "metadata": {},
     "output_type": "execute_result"
    }
   ],
   "source": [
    "par5"
   ]
  },
  {
   "cell_type": "markdown",
   "id": "c18a8d08",
   "metadata": {},
   "source": [
    "### Andrey Rublev"
   ]
  },
  {
   "cell_type": "code",
   "execution_count": 199,
   "id": "f2fd11d1",
   "metadata": {},
   "outputs": [
    {
     "name": "stderr",
     "output_type": "stream",
     "text": [
      "100%|██████████| 29/29 [00:00<00:00, 64.37it/s]"
     ]
    },
    {
     "name": "stdout",
     "output_type": "stream",
     "text": [
      "                               Accuracy  Balanced Accuracy  ROC AUC  F1 Score  \\\n",
      "Model                                                                           \n",
      "AdaBoostClassifier                 1.00               1.00     1.00      1.00   \n",
      "ExtraTreesClassifier               1.00               1.00     1.00      1.00   \n",
      "XGBClassifier                      1.00               1.00     1.00      1.00   \n",
      "RandomForestClassifier             1.00               1.00     1.00      1.00   \n",
      "NuSVC                              1.00               1.00     1.00      1.00   \n",
      "LabelSpreading                     1.00               1.00     1.00      1.00   \n",
      "LabelPropagation                   1.00               1.00     1.00      1.00   \n",
      "LGBMClassifier                     0.95               0.94     0.94      0.95   \n",
      "DecisionTreeClassifier             0.95               0.94     0.94      0.95   \n",
      "SVC                                0.90               0.92     0.92      0.90   \n",
      "SGDClassifier                      0.90               0.92     0.92      0.90   \n",
      "CalibratedClassifierCV             0.90               0.90     0.90      0.90   \n",
      "ExtraTreeClassifier                0.90               0.88     0.88      0.90   \n",
      "LinearDiscriminantAnalysis         0.90               0.88     0.88      0.90   \n",
      "BaggingClassifier                  0.90               0.88     0.88      0.90   \n",
      "PassiveAggressiveClassifier        0.85               0.85     0.85      0.85   \n",
      "Perceptron                         0.85               0.85     0.85      0.85   \n",
      "LinearSVC                          0.85               0.85     0.85      0.85   \n",
      "LogisticRegression                 0.85               0.85     0.85      0.85   \n",
      "KNeighborsClassifier               0.85               0.83     0.83      0.85   \n",
      "RidgeClassifier                    0.80               0.79     0.79      0.80   \n",
      "GaussianNB                         0.80               0.77     0.77      0.79   \n",
      "RidgeClassifierCV                  0.75               0.73     0.73      0.75   \n",
      "NearestCentroid                    0.60               0.56     0.56      0.59   \n",
      "QuadraticDiscriminantAnalysis      0.40               0.50     0.50      0.23   \n",
      "DummyClassifier                    0.60               0.50     0.50      0.45   \n",
      "BernoulliNB                        0.55               0.50     0.50      0.52   \n",
      "\n",
      "                               Time Taken  \n",
      "Model                                      \n",
      "AdaBoostClassifier                   0.04  \n",
      "ExtraTreesClassifier                 0.06  \n",
      "XGBClassifier                        0.08  \n",
      "RandomForestClassifier               0.08  \n",
      "NuSVC                                0.01  \n",
      "LabelSpreading                       0.01  \n",
      "LabelPropagation                     0.01  \n",
      "LGBMClassifier                       0.04  \n",
      "DecisionTreeClassifier               0.01  \n",
      "SVC                                  0.01  \n",
      "SGDClassifier                        0.01  \n",
      "CalibratedClassifierCV               0.02  \n",
      "ExtraTreeClassifier                  0.00  \n",
      "LinearDiscriminantAnalysis           0.01  \n",
      "BaggingClassifier                    0.01  \n",
      "PassiveAggressiveClassifier          0.01  \n",
      "Perceptron                           0.01  \n",
      "LinearSVC                            0.01  \n",
      "LogisticRegression                   0.01  \n",
      "KNeighborsClassifier                 0.01  \n",
      "RidgeClassifier                      0.01  \n",
      "GaussianNB                           0.01  \n",
      "RidgeClassifierCV                    0.01  \n",
      "NearestCentroid                      0.01  \n",
      "QuadraticDiscriminantAnalysis        0.01  \n",
      "DummyClassifier                      0.00  \n",
      "BernoulliNB                          0.01  \n"
     ]
    },
    {
     "name": "stderr",
     "output_type": "stream",
     "text": [
      "\n"
     ]
    }
   ],
   "source": [
    "primeraronda4win = totaltorneos[(totaltorneos['Winner'] == 'Andrey Rublev')]\n",
    "\n",
    "primeraronda4lose = totaltorneos[(totaltorneos['Loser'] == 'Andrey Rublev')]\n",
    "\n",
    "jugador=pd.concat([primeraronda4win,primeraronda4lose],axis=0)\n",
    "\n",
    "win=jugador.Winner\n",
    "\n",
    "jugador['Win'] = win \n",
    "\n",
    "def win(x):\n",
    "\n",
    "        if x == 'Andrey Rublev':\n",
    "            return 1\n",
    "        else:\n",
    "            return 0\n",
    "\n",
    "jugador.Win = jugador.Win.apply(win)\n",
    "\n",
    "jugador=jugador.drop(columns='Loser')\n",
    "\n",
    "jugador.Series=jugador.Series.apply(lambda x: series[x])\n",
    "jugador.Round=jugador.Round.apply(lambda x: rounds[x])\n",
    "\n",
    "\n",
    "jugador = jugador.drop(columns=['Tournament','Winner','Surface'])\n",
    "\n",
    "X=jugador.drop(columns = 'Win')\n",
    "y=jugador.Win\n",
    "\n",
    "data=pd.DataFrame(StandardScaler().fit_transform(X._get_numeric_data()),\\\n",
    "                     columns=X._get_numeric_data().columns)\n",
    "\n",
    "X_train, X_test, y_train, y_test = tts(data, y, train_size=0.8, test_size=0.2, random_state=42)\n",
    "\n",
    "clf = LazyClassifier(verbose=0, ignore_warnings=True, custom_metric=None)\n",
    "models, predictions = clf.fit(X_train, X_test, y_train, y_test)\n",
    "print(models)\n",
    "\n"
   ]
  },
  {
   "cell_type": "code",
   "execution_count": 200,
   "id": "bb3b0eb6",
   "metadata": {},
   "outputs": [],
   "source": [
    "ABC = AdaBoostClassifier()\n",
    "ABC.fit(X_train, y_train)\n",
    "y_pred_rub=ABC.predict(X_test)"
   ]
  },
  {
   "cell_type": "code",
   "execution_count": 201,
   "id": "c136b649",
   "metadata": {},
   "outputs": [],
   "source": [
    "def ratewins(x):\n",
    "    \n",
    "    cont=[] \n",
    "    for i in x:\n",
    "        if i == 1:\n",
    "            cont.append(i)\n",
    "    return len(cont)/len(x)"
   ]
  },
  {
   "cell_type": "code",
   "execution_count": 202,
   "id": "1facb6b1",
   "metadata": {},
   "outputs": [],
   "source": [
    "raterub= ratewins(y_pred_rub)"
   ]
  },
  {
   "cell_type": "code",
   "execution_count": 203,
   "id": "efcc1160",
   "metadata": {},
   "outputs": [
    {
     "data": {
      "text/plain": [
       "0.6"
      ]
     },
     "execution_count": 203,
     "metadata": {},
     "output_type": "execute_result"
    }
   ],
   "source": [
    "raterub"
   ]
  },
  {
   "cell_type": "markdown",
   "id": "7c970356",
   "metadata": {},
   "source": [
    "### Taylor Fritz"
   ]
  },
  {
   "cell_type": "code",
   "execution_count": 204,
   "id": "649f9a68",
   "metadata": {},
   "outputs": [
    {
     "name": "stderr",
     "output_type": "stream",
     "text": [
      "100%|██████████| 29/29 [00:00<00:00, 76.60it/s]"
     ]
    },
    {
     "name": "stdout",
     "output_type": "stream",
     "text": [
      "                               Accuracy  Balanced Accuracy  ROC AUC  F1 Score  \\\n",
      "Model                                                                           \n",
      "AdaBoostClassifier                 0.86               0.90     0.90      0.86   \n",
      "ExtraTreeClassifier                0.86               0.90     0.90      0.86   \n",
      "XGBClassifier                      0.86               0.90     0.90      0.86   \n",
      "LGBMClassifier                     0.86               0.90     0.90      0.86   \n",
      "RidgeClassifierCV                  0.93               0.88     0.88      0.93   \n",
      "RidgeClassifier                    0.93               0.88     0.88      0.93   \n",
      "LinearDiscriminantAnalysis         0.93               0.88     0.88      0.93   \n",
      "DecisionTreeClassifier             0.79               0.85     0.85      0.80   \n",
      "BaggingClassifier                  0.79               0.85     0.85      0.80   \n",
      "ExtraTreesClassifier               0.79               0.85     0.85      0.80   \n",
      "RandomForestClassifier             0.79               0.85     0.85      0.80   \n",
      "Perceptron                         0.79               0.78     0.78      0.79   \n",
      "LogisticRegression                 0.79               0.78     0.78      0.79   \n",
      "LinearSVC                          0.79               0.78     0.78      0.79   \n",
      "GaussianNB                         0.79               0.78     0.78      0.79   \n",
      "CalibratedClassifierCV             0.79               0.78     0.78      0.79   \n",
      "LabelSpreading                     0.71               0.72     0.72      0.73   \n",
      "NuSVC                              0.71               0.72     0.72      0.73   \n",
      "PassiveAggressiveClassifier        0.71               0.72     0.72      0.73   \n",
      "LabelPropagation                   0.71               0.72     0.72      0.73   \n",
      "SGDClassifier                      0.71               0.72     0.72      0.73   \n",
      "SVC                                0.71               0.72     0.72      0.73   \n",
      "KNeighborsClassifier               0.71               0.65     0.65      0.71   \n",
      "BernoulliNB                        0.71               0.65     0.65      0.71   \n",
      "NearestCentroid                    0.71               0.65     0.65      0.71   \n",
      "DummyClassifier                    0.29               0.50     0.50      0.13   \n",
      "QuadraticDiscriminantAnalysis      0.29               0.50     0.50      0.13   \n",
      "\n",
      "                               Time Taken  \n",
      "Model                                      \n",
      "AdaBoostClassifier                   0.04  \n",
      "ExtraTreeClassifier                  0.00  \n",
      "XGBClassifier                        0.02  \n",
      "LGBMClassifier                       0.05  \n",
      "RidgeClassifierCV                    0.01  \n",
      "RidgeClassifier                      0.01  \n",
      "LinearDiscriminantAnalysis           0.01  \n",
      "DecisionTreeClassifier               0.00  \n",
      "BaggingClassifier                    0.01  \n",
      "ExtraTreesClassifier                 0.06  \n",
      "RandomForestClassifier               0.07  \n",
      "Perceptron                           0.01  \n",
      "LogisticRegression                   0.01  \n",
      "LinearSVC                            0.01  \n",
      "GaussianNB                           0.01  \n",
      "CalibratedClassifierCV               0.01  \n",
      "LabelSpreading                       0.01  \n",
      "NuSVC                                0.01  \n",
      "PassiveAggressiveClassifier          0.00  \n",
      "LabelPropagation                     0.01  \n",
      "SGDClassifier                        0.01  \n",
      "SVC                                  0.01  \n",
      "KNeighborsClassifier                 0.01  \n",
      "BernoulliNB                          0.00  \n",
      "NearestCentroid                      0.00  \n",
      "DummyClassifier                      0.00  \n",
      "QuadraticDiscriminantAnalysis        0.00  \n"
     ]
    },
    {
     "name": "stderr",
     "output_type": "stream",
     "text": [
      "\n"
     ]
    }
   ],
   "source": [
    "primeraronda4wina = totaltorneos[(totaltorneos['Winner'] == 'Taylor Fritz')]\n",
    "\n",
    "primeraronda4losea = totaltorneos[(totaltorneos['Loser'] == 'Taylor Fritz')]\n",
    "\n",
    "jugador=pd.concat([primeraronda4wina,primeraronda4losea],axis=0)\n",
    "\n",
    "win=jugador.Winner\n",
    "\n",
    "jugador['Win'] = win \n",
    "\n",
    "def win(x):\n",
    "\n",
    "        if x == 'Taylor Fritz':\n",
    "            return 1\n",
    "        else:\n",
    "            return 0\n",
    "\n",
    "jugador.Win = jugador.Win.apply(win)\n",
    "\n",
    "jugador=jugador.drop(columns='Loser')\n",
    "\n",
    "jugador.Series=jugador.Series.apply(lambda x: series[x])\n",
    "jugador.Round=jugador.Round.apply(lambda x: rounds[x])\n",
    "\n",
    "\n",
    "jugador = jugador.drop(columns=['Tournament','Winner','Surface'])\n",
    "\n",
    "X=jugador.drop(columns = 'Win')\n",
    "y=jugador.Win\n",
    "\n",
    "data=pd.DataFrame(StandardScaler().fit_transform(X._get_numeric_data()),\\\n",
    "                     columns=X._get_numeric_data().columns)\n",
    "\n",
    "X_train, X_test, y_train, y_test = tts(data, y, train_size=0.8, test_size=0.2, random_state=42)\n",
    "\n",
    "clf = LazyClassifier(verbose=0, ignore_warnings=True, custom_metric=None)\n",
    "models, predictions = clf.fit(X_train, X_test, y_train, y_test)\n",
    "print(models)\n",
    "\n"
   ]
  },
  {
   "cell_type": "code",
   "execution_count": 205,
   "id": "ad8efe2b",
   "metadata": {},
   "outputs": [],
   "source": [
    "ABC = AdaBoostClassifier()\n",
    "ABC.fit(X_train, y_train)\n",
    "y_pred_fri=ABC.predict(X_test)"
   ]
  },
  {
   "cell_type": "code",
   "execution_count": 206,
   "id": "e8c531fd",
   "metadata": {},
   "outputs": [],
   "source": [
    "def ratewins(x):\n",
    "    \n",
    "    cont=[] \n",
    "    for i in x:\n",
    "        if i == 1:\n",
    "            cont.append(i)\n",
    "    return len(cont)/len(x)"
   ]
  },
  {
   "cell_type": "code",
   "execution_count": 207,
   "id": "9db6b241",
   "metadata": {},
   "outputs": [],
   "source": [
    "ratefri= ratewins(y_pred_fri)"
   ]
  },
  {
   "cell_type": "code",
   "execution_count": 208,
   "id": "14fefbe4",
   "metadata": {},
   "outputs": [
    {
     "data": {
      "text/plain": [
       "0.5714285714285714"
      ]
     },
     "execution_count": 208,
     "metadata": {},
     "output_type": "execute_result"
    }
   ],
   "source": [
    "ratefri"
   ]
  },
  {
   "cell_type": "markdown",
   "id": "57689cde",
   "metadata": {},
   "source": [
    "### El ratio de victorias de Andrey Rublev es mayor, por lo que consideremos que gana el encuentro y pasa a la siguiente ronda. Taylor Fritz es eliminado."
   ]
  },
  {
   "cell_type": "markdown",
   "id": "a4628caf",
   "metadata": {},
   "source": [
    "# Pareja 6"
   ]
  },
  {
   "cell_type": "code",
   "execution_count": 209,
   "id": "7fcae673",
   "metadata": {},
   "outputs": [
    {
     "data": {
      "text/plain": [
       "['Hubert Hurkacz', 'Holger Rune']"
      ]
     },
     "execution_count": 209,
     "metadata": {},
     "output_type": "execute_result"
    }
   ],
   "source": [
    "par6"
   ]
  },
  {
   "cell_type": "markdown",
   "id": "dbfd75d2",
   "metadata": {},
   "source": [
    "### Hubert Hurkacz"
   ]
  },
  {
   "cell_type": "code",
   "execution_count": 210,
   "id": "8e7d59f2",
   "metadata": {},
   "outputs": [
    {
     "name": "stderr",
     "output_type": "stream",
     "text": [
      "100%|██████████| 29/29 [00:00<00:00, 74.51it/s]"
     ]
    },
    {
     "name": "stdout",
     "output_type": "stream",
     "text": [
      "                               Accuracy  Balanced Accuracy  ROC AUC  F1 Score  \\\n",
      "Model                                                                           \n",
      "LGBMClassifier                     0.93               0.94     0.94      0.93   \n",
      "NuSVC                              0.93               0.94     0.94      0.93   \n",
      "XGBClassifier                      0.93               0.94     0.94      0.93   \n",
      "DecisionTreeClassifier             0.93               0.94     0.94      0.93   \n",
      "ExtraTreesClassifier               0.93               0.94     0.94      0.93   \n",
      "RandomForestClassifier             0.93               0.94     0.94      0.93   \n",
      "SVC                                0.86               0.88     0.88      0.86   \n",
      "SGDClassifier                      0.86               0.85     0.85      0.86   \n",
      "LabelPropagation                   0.86               0.85     0.85      0.86   \n",
      "LabelSpreading                     0.86               0.85     0.85      0.86   \n",
      "BaggingClassifier                  0.86               0.85     0.85      0.86   \n",
      "BernoulliNB                        0.86               0.83     0.83      0.85   \n",
      "Perceptron                         0.86               0.83     0.83      0.85   \n",
      "NearestCentroid                    0.86               0.83     0.83      0.85   \n",
      "ExtraTreeClassifier                0.79               0.77     0.77      0.78   \n",
      "PassiveAggressiveClassifier        0.79               0.75     0.75      0.77   \n",
      "AdaBoostClassifier                 0.79               0.75     0.75      0.77   \n",
      "KNeighborsClassifier               0.79               0.75     0.75      0.77   \n",
      "GaussianNB                         0.79               0.75     0.75      0.77   \n",
      "LinearSVC                          0.79               0.75     0.75      0.77   \n",
      "LinearDiscriminantAnalysis         0.71               0.69     0.69      0.70   \n",
      "QuadraticDiscriminantAnalysis      0.64               0.69     0.69      0.61   \n",
      "RidgeClassifier                    0.71               0.69     0.69      0.70   \n",
      "RidgeClassifierCV                  0.71               0.69     0.69      0.70   \n",
      "LogisticRegression                 0.64               0.62     0.62      0.64   \n",
      "CalibratedClassifierCV             0.64               0.62     0.62      0.64   \n",
      "DummyClassifier                    0.43               0.50     0.50      0.26   \n",
      "\n",
      "                               Time Taken  \n",
      "Model                                      \n",
      "LGBMClassifier                       0.05  \n",
      "NuSVC                                0.01  \n",
      "XGBClassifier                        0.03  \n",
      "DecisionTreeClassifier               0.00  \n",
      "ExtraTreesClassifier                 0.06  \n",
      "RandomForestClassifier               0.07  \n",
      "SVC                                  0.01  \n",
      "SGDClassifier                        0.01  \n",
      "LabelPropagation                     0.01  \n",
      "LabelSpreading                       0.01  \n",
      "BaggingClassifier                    0.01  \n",
      "BernoulliNB                          0.01  \n",
      "Perceptron                           0.00  \n",
      "NearestCentroid                      0.00  \n",
      "ExtraTreeClassifier                  0.00  \n",
      "PassiveAggressiveClassifier          0.01  \n",
      "AdaBoostClassifier                   0.04  \n",
      "KNeighborsClassifier                 0.01  \n",
      "GaussianNB                           0.01  \n",
      "LinearSVC                            0.01  \n",
      "LinearDiscriminantAnalysis           0.01  \n",
      "QuadraticDiscriminantAnalysis        0.00  \n",
      "RidgeClassifier                      0.01  \n",
      "RidgeClassifierCV                    0.01  \n",
      "LogisticRegression                   0.01  \n",
      "CalibratedClassifierCV               0.01  \n",
      "DummyClassifier                      0.00  \n"
     ]
    },
    {
     "name": "stderr",
     "output_type": "stream",
     "text": [
      "\n"
     ]
    }
   ],
   "source": [
    "primeraronda6win = totaltorneos[(totaltorneos['Winner'] == 'Hubert Hurkacz')]\n",
    "\n",
    "primeraronda6lose = totaltorneos[(totaltorneos['Loser'] == 'Hubert Hurkacz')]\n",
    "\n",
    "jugador=pd.concat([primeraronda6win,primeraronda6lose],axis=0)\n",
    "\n",
    "win=jugador.Winner\n",
    "\n",
    "jugador['Win'] = win \n",
    "\n",
    "def win(x):\n",
    "\n",
    "        if x == 'Hubert Hurkacz':\n",
    "            return 1\n",
    "        else:\n",
    "            return 0\n",
    "\n",
    "jugador.Win = jugador.Win.apply(win)\n",
    "\n",
    "jugador=jugador.drop(columns='Loser')\n",
    "\n",
    "jugador.Series=jugador.Series.apply(lambda x: series[x])\n",
    "jugador.Round=jugador.Round.apply(lambda x: rounds[x])\n",
    "\n",
    "\n",
    "jugador = jugador.drop(columns=['Tournament','Winner','Surface'])\n",
    "\n",
    "X=jugador.drop(columns = 'Win')\n",
    "y=jugador.Win\n",
    "\n",
    "data=pd.DataFrame(StandardScaler().fit_transform(X._get_numeric_data()),\\\n",
    "                     columns=X._get_numeric_data().columns)\n",
    "\n",
    "X_train, X_test, y_train, y_test = tts(data, y, train_size=0.8, test_size=0.2, random_state=42)\n",
    "\n",
    "clf = LazyClassifier(verbose=0, ignore_warnings=True, custom_metric=None)\n",
    "models, predictions = clf.fit(X_train, X_test, y_train, y_test)\n",
    "print(models)\n",
    "\n"
   ]
  },
  {
   "cell_type": "code",
   "execution_count": 211,
   "id": "8a476a70",
   "metadata": {},
   "outputs": [],
   "source": [
    "from lightgbm import LGBMClassifier"
   ]
  },
  {
   "cell_type": "code",
   "execution_count": 212,
   "id": "94b3b4c0",
   "metadata": {},
   "outputs": [],
   "source": [
    "LGBMC = LGBMClassifier ()\n",
    "LGBMC.fit(X_train, y_train)\n",
    "y_pred_hur=LGBMC.predict(X_test)"
   ]
  },
  {
   "cell_type": "code",
   "execution_count": 213,
   "id": "97290e28",
   "metadata": {},
   "outputs": [],
   "source": [
    "ratehur= ratewins(y_pred_hur)"
   ]
  },
  {
   "cell_type": "code",
   "execution_count": 214,
   "id": "64c2dc40",
   "metadata": {},
   "outputs": [
    {
     "data": {
      "text/plain": [
       "0.5"
      ]
     },
     "execution_count": 214,
     "metadata": {},
     "output_type": "execute_result"
    }
   ],
   "source": [
    "ratehur"
   ]
  },
  {
   "cell_type": "markdown",
   "id": "3baddeef",
   "metadata": {},
   "source": [
    "### Holger Rune"
   ]
  },
  {
   "cell_type": "code",
   "execution_count": 215,
   "id": "0f6b3485",
   "metadata": {},
   "outputs": [
    {
     "name": "stderr",
     "output_type": "stream",
     "text": [
      "100%|██████████| 29/29 [00:00<00:00, 93.52it/s]"
     ]
    },
    {
     "name": "stdout",
     "output_type": "stream",
     "text": [
      "                               Accuracy  Balanced Accuracy  ROC AUC  F1 Score  \\\n",
      "Model                                                                           \n",
      "AdaBoostClassifier                 1.00               1.00     1.00      1.00   \n",
      "LogisticRegression                 1.00               1.00     1.00      1.00   \n",
      "XGBClassifier                      1.00               1.00     1.00      1.00   \n",
      "SVC                                1.00               1.00     1.00      1.00   \n",
      "SGDClassifier                      1.00               1.00     1.00      1.00   \n",
      "RidgeClassifierCV                  1.00               1.00     1.00      1.00   \n",
      "RidgeClassifier                    1.00               1.00     1.00      1.00   \n",
      "RandomForestClassifier             1.00               1.00     1.00      1.00   \n",
      "QuadraticDiscriminantAnalysis      1.00               1.00     1.00      1.00   \n",
      "Perceptron                         1.00               1.00     1.00      1.00   \n",
      "PassiveAggressiveClassifier        1.00               1.00     1.00      1.00   \n",
      "NuSVC                              1.00               1.00     1.00      1.00   \n",
      "NearestCentroid                    1.00               1.00     1.00      1.00   \n",
      "LinearSVC                          1.00               1.00     1.00      1.00   \n",
      "BaggingClassifier                  1.00               1.00     1.00      1.00   \n",
      "LabelSpreading                     1.00               1.00     1.00      1.00   \n",
      "LabelPropagation                   1.00               1.00     1.00      1.00   \n",
      "KNeighborsClassifier               1.00               1.00     1.00      1.00   \n",
      "GaussianNB                         1.00               1.00     1.00      1.00   \n",
      "ExtraTreesClassifier               1.00               1.00     1.00      1.00   \n",
      "ExtraTreeClassifier                1.00               1.00     1.00      1.00   \n",
      "DecisionTreeClassifier             1.00               1.00     1.00      1.00   \n",
      "BernoulliNB                        1.00               1.00     1.00      1.00   \n",
      "CalibratedClassifierCV             0.50               0.67     0.67      0.50   \n",
      "LinearDiscriminantAnalysis         0.75               0.50     0.50      0.64   \n",
      "DummyClassifier                    0.25               0.50     0.50      0.10   \n",
      "LGBMClassifier                     0.25               0.50     0.50      0.10   \n",
      "\n",
      "                               Time Taken  \n",
      "Model                                      \n",
      "AdaBoostClassifier                   0.01  \n",
      "LogisticRegression                   0.01  \n",
      "XGBClassifier                        0.02  \n",
      "SVC                                  0.01  \n",
      "SGDClassifier                        0.01  \n",
      "RidgeClassifierCV                    0.01  \n",
      "RidgeClassifier                      0.01  \n",
      "RandomForestClassifier               0.07  \n",
      "QuadraticDiscriminantAnalysis        0.00  \n",
      "Perceptron                           0.00  \n",
      "PassiveAggressiveClassifier          0.00  \n",
      "NuSVC                                0.00  \n",
      "NearestCentroid                      0.00  \n",
      "LinearSVC                            0.01  \n",
      "BaggingClassifier                    0.01  \n",
      "LabelSpreading                       0.01  \n",
      "LabelPropagation                     0.01  \n",
      "KNeighborsClassifier                 0.01  \n",
      "GaussianNB                           0.01  \n",
      "ExtraTreesClassifier                 0.05  \n",
      "ExtraTreeClassifier                  0.00  \n",
      "DecisionTreeClassifier               0.00  \n",
      "BernoulliNB                          0.01  \n",
      "CalibratedClassifierCV               0.01  \n",
      "LinearDiscriminantAnalysis           0.01  \n",
      "DummyClassifier                      0.00  \n",
      "LGBMClassifier                       0.01  \n"
     ]
    },
    {
     "name": "stderr",
     "output_type": "stream",
     "text": [
      "\n"
     ]
    }
   ],
   "source": [
    "primeraronda6wina = totaltorneos[(totaltorneos['Winner'] == 'Holger Rune')]\n",
    "\n",
    "primeraronda6losea = totaltorneos[(totaltorneos['Loser'] == 'Holger Rune')]\n",
    "\n",
    "jugador=pd.concat([primeraronda6wina,primeraronda6losea],axis=0)\n",
    "\n",
    "win=jugador.Winner\n",
    "\n",
    "jugador['Win'] = win \n",
    "\n",
    "def win(x):\n",
    "\n",
    "        if x == 'Holger Rune':\n",
    "            return 1\n",
    "        else:\n",
    "            return 0\n",
    "\n",
    "jugador.Win = jugador.Win.apply(win)\n",
    "\n",
    "jugador=jugador.drop(columns='Loser')\n",
    "\n",
    "jugador.Series=jugador.Series.apply(lambda x: series[x])\n",
    "jugador.Round=jugador.Round.apply(lambda x: rounds[x])\n",
    "\n",
    "\n",
    "jugador = jugador.drop(columns=['Tournament','Winner','Surface'])\n",
    "\n",
    "X=jugador.drop(columns = 'Win')\n",
    "y=jugador.Win\n",
    "\n",
    "data=pd.DataFrame(StandardScaler().fit_transform(X._get_numeric_data()),\\\n",
    "                     columns=X._get_numeric_data().columns)\n",
    "\n",
    "X_train, X_test, y_train, y_test = tts(data, y, train_size=0.8, test_size=0.2, random_state=42)\n",
    "\n",
    "clf = LazyClassifier(verbose=0, ignore_warnings=True, custom_metric=None)\n",
    "models, predictions = clf.fit(X_train, X_test, y_train, y_test)\n",
    "print(models)\n",
    "\n"
   ]
  },
  {
   "cell_type": "code",
   "execution_count": 216,
   "id": "95d3983f",
   "metadata": {},
   "outputs": [],
   "source": [
    "ABC = AdaBoostClassifier()\n",
    "ABC.fit(X_train, y_train)\n",
    "y_pred_run=ABC.predict(X_test)"
   ]
  },
  {
   "cell_type": "code",
   "execution_count": 217,
   "id": "e5b94e98",
   "metadata": {},
   "outputs": [],
   "source": [
    "raterun= ratewins(y_pred_run)"
   ]
  },
  {
   "cell_type": "code",
   "execution_count": 218,
   "id": "ee75776e",
   "metadata": {},
   "outputs": [
    {
     "data": {
      "text/plain": [
       "0.75"
      ]
     },
     "execution_count": 218,
     "metadata": {},
     "output_type": "execute_result"
    }
   ],
   "source": [
    "raterun"
   ]
  },
  {
   "cell_type": "markdown",
   "id": "9f139f39",
   "metadata": {},
   "source": [
    "### El ratio de victorias de Holger Rune es mayor, por lo que consideremos que gana el encuentro y pasa a la siguiente ronda. Hubert Hurkacz es eliminado."
   ]
  },
  {
   "cell_type": "markdown",
   "id": "61e00422",
   "metadata": {},
   "source": [
    "# Pareja 7"
   ]
  },
  {
   "cell_type": "code",
   "execution_count": 219,
   "id": "cd74789d",
   "metadata": {},
   "outputs": [
    {
     "data": {
      "text/plain": [
       "['Alexander Zverev', 'Pablo Carreno Busta']"
      ]
     },
     "execution_count": 219,
     "metadata": {},
     "output_type": "execute_result"
    }
   ],
   "source": [
    "par7"
   ]
  },
  {
   "cell_type": "markdown",
   "id": "fe140ce0",
   "metadata": {},
   "source": [
    "### Alexander Zverev"
   ]
  },
  {
   "cell_type": "code",
   "execution_count": 220,
   "id": "9efebf02",
   "metadata": {},
   "outputs": [
    {
     "name": "stderr",
     "output_type": "stream",
     "text": [
      "100%|██████████| 29/29 [00:00<00:00, 56.20it/s]"
     ]
    },
    {
     "name": "stdout",
     "output_type": "stream",
     "text": [
      "                               Accuracy  Balanced Accuracy  ROC AUC  F1 Score  \\\n",
      "Model                                                                           \n",
      "AdaBoostClassifier                 1.00               1.00     1.00      1.00   \n",
      "ExtraTreesClassifier               1.00               1.00     1.00      1.00   \n",
      "XGBClassifier                      1.00               1.00     1.00      1.00   \n",
      "RandomForestClassifier             1.00               1.00     1.00      1.00   \n",
      "BaggingClassifier                  1.00               1.00     1.00      1.00   \n",
      "LGBMClassifier                     1.00               1.00     1.00      1.00   \n",
      "DecisionTreeClassifier             1.00               1.00     1.00      1.00   \n",
      "BernoulliNB                        0.92               0.94     0.94      0.92   \n",
      "ExtraTreeClassifier                0.96               0.92     0.92      0.96   \n",
      "PassiveAggressiveClassifier        0.96               0.92     0.92      0.96   \n",
      "SVC                                0.96               0.92     0.92      0.96   \n",
      "SGDClassifier                      0.96               0.92     0.92      0.96   \n",
      "RidgeClassifierCV                  0.96               0.92     0.92      0.96   \n",
      "RidgeClassifier                    0.96               0.92     0.92      0.96   \n",
      "CalibratedClassifierCV             0.96               0.92     0.92      0.96   \n",
      "Perceptron                         0.96               0.92     0.92      0.96   \n",
      "LinearSVC                          0.96               0.92     0.92      0.96   \n",
      "NearestCentroid                    0.96               0.92     0.92      0.96   \n",
      "LogisticRegression                 0.96               0.92     0.92      0.96   \n",
      "LinearDiscriminantAnalysis         0.96               0.92     0.92      0.96   \n",
      "LabelSpreading                     0.96               0.92     0.92      0.96   \n",
      "LabelPropagation                   0.96               0.92     0.92      0.96   \n",
      "KNeighborsClassifier               0.92               0.89     0.89      0.92   \n",
      "NuSVC                              0.92               0.89     0.89      0.92   \n",
      "GaussianNB                         0.83               0.83     0.83      0.84   \n",
      "DummyClassifier                    0.75               0.50     0.50      0.64   \n",
      "QuadraticDiscriminantAnalysis      0.25               0.50     0.50      0.10   \n",
      "\n",
      "                               Time Taken  \n",
      "Model                                      \n",
      "AdaBoostClassifier                   0.04  \n",
      "ExtraTreesClassifier                 0.06  \n",
      "XGBClassifier                        0.05  \n",
      "RandomForestClassifier               0.11  \n",
      "BaggingClassifier                    0.01  \n",
      "LGBMClassifier                       0.11  \n",
      "DecisionTreeClassifier               0.01  \n",
      "BernoulliNB                          0.01  \n",
      "ExtraTreeClassifier                  0.00  \n",
      "PassiveAggressiveClassifier          0.01  \n",
      "SVC                                  0.01  \n",
      "SGDClassifier                        0.01  \n",
      "RidgeClassifierCV                    0.01  \n",
      "RidgeClassifier                      0.01  \n",
      "CalibratedClassifierCV               0.02  \n",
      "Perceptron                           0.01  \n",
      "LinearSVC                            0.01  \n",
      "NearestCentroid                      0.01  \n",
      "LogisticRegression                   0.01  \n",
      "LinearDiscriminantAnalysis           0.01  \n",
      "LabelSpreading                       0.01  \n",
      "LabelPropagation                     0.01  \n",
      "KNeighborsClassifier                 0.01  \n",
      "NuSVC                                0.01  \n",
      "GaussianNB                           0.01  \n",
      "DummyClassifier                      0.00  \n",
      "QuadraticDiscriminantAnalysis        0.01  \n"
     ]
    },
    {
     "name": "stderr",
     "output_type": "stream",
     "text": [
      "\n"
     ]
    }
   ],
   "source": [
    "primeraronda7win = totaltorneos[(totaltorneos['Winner'] == 'Alexander Zverev')]\n",
    "\n",
    "primeraronda7lose = totaltorneos[(totaltorneos['Loser'] == 'Alexander Zverev')]\n",
    "\n",
    "jugador=pd.concat([primeraronda7win,primeraronda7lose],axis=0)\n",
    "\n",
    "win=jugador.Winner\n",
    "\n",
    "jugador['Win'] = win \n",
    "\n",
    "def win(x):\n",
    "\n",
    "        if x == 'Alexander Zverev':\n",
    "            return 1\n",
    "        else:\n",
    "            return 0\n",
    "\n",
    "jugador.Win = jugador.Win.apply(win)\n",
    "\n",
    "jugador=jugador.drop(columns='Loser')\n",
    "\n",
    "jugador.Series=jugador.Series.apply(lambda x: series[x])\n",
    "jugador.Round=jugador.Round.apply(lambda x: rounds[x])\n",
    "\n",
    "\n",
    "jugador = jugador.drop(columns=['Tournament','Winner','Surface'])\n",
    "\n",
    "X=jugador.drop(columns = 'Win')\n",
    "y=jugador.Win\n",
    "\n",
    "data=pd.DataFrame(StandardScaler().fit_transform(X._get_numeric_data()),\\\n",
    "                     columns=X._get_numeric_data().columns)\n",
    "\n",
    "X_train, X_test, y_train, y_test = tts(data, y, train_size=0.8, test_size=0.2, random_state=42)\n",
    "\n",
    "clf = LazyClassifier(verbose=0, ignore_warnings=True, custom_metric=None)\n",
    "models, predictions = clf.fit(X_train, X_test, y_train, y_test)\n",
    "print(models)\n",
    "\n"
   ]
  },
  {
   "cell_type": "code",
   "execution_count": 221,
   "id": "bfa86c61",
   "metadata": {},
   "outputs": [],
   "source": [
    "ABC = AdaBoostClassifier()\n",
    "ABC.fit(X_train, y_train)\n",
    "y_pred_zve=ABC.predict(X_test)"
   ]
  },
  {
   "cell_type": "code",
   "execution_count": 222,
   "id": "54d1a610",
   "metadata": {},
   "outputs": [],
   "source": [
    "ratezve= ratewins(y_pred_zve)"
   ]
  },
  {
   "cell_type": "code",
   "execution_count": 223,
   "id": "a2768ba0",
   "metadata": {},
   "outputs": [
    {
     "data": {
      "text/plain": [
       "0.75"
      ]
     },
     "execution_count": 223,
     "metadata": {},
     "output_type": "execute_result"
    }
   ],
   "source": [
    "ratezve"
   ]
  },
  {
   "cell_type": "markdown",
   "id": "7f6dccd1",
   "metadata": {},
   "source": [
    "### Pablo Carreno Busta"
   ]
  },
  {
   "cell_type": "code",
   "execution_count": 224,
   "id": "cb4e683c",
   "metadata": {},
   "outputs": [
    {
     "name": "stderr",
     "output_type": "stream",
     "text": [
      "100%|██████████| 29/29 [00:00<00:00, 66.20it/s]"
     ]
    },
    {
     "name": "stdout",
     "output_type": "stream",
     "text": [
      "                               Accuracy  Balanced Accuracy  ROC AUC  F1 Score  \\\n",
      "Model                                                                           \n",
      "AdaBoostClassifier                 1.00               1.00     1.00      1.00   \n",
      "BaggingClassifier                  1.00               1.00     1.00      1.00   \n",
      "XGBClassifier                      1.00               1.00     1.00      1.00   \n",
      "SVC                                1.00               1.00     1.00      1.00   \n",
      "RidgeClassifierCV                  1.00               1.00     1.00      1.00   \n",
      "RandomForestClassifier             1.00               1.00     1.00      1.00   \n",
      "QuadraticDiscriminantAnalysis      1.00               1.00     1.00      1.00   \n",
      "Perceptron                         1.00               1.00     1.00      1.00   \n",
      "PassiveAggressiveClassifier        1.00               1.00     1.00      1.00   \n",
      "NuSVC                              1.00               1.00     1.00      1.00   \n",
      "LogisticRegression                 1.00               1.00     1.00      1.00   \n",
      "LGBMClassifier                     1.00               1.00     1.00      1.00   \n",
      "ExtraTreesClassifier               1.00               1.00     1.00      1.00   \n",
      "ExtraTreeClassifier                1.00               1.00     1.00      1.00   \n",
      "CalibratedClassifierCV             1.00               1.00     1.00      1.00   \n",
      "LinearDiscriminantAnalysis         0.92               0.93     0.93      0.92   \n",
      "GaussianNB                         0.92               0.93     0.93      0.92   \n",
      "RidgeClassifier                    0.92               0.93     0.93      0.92   \n",
      "DecisionTreeClassifier             0.92               0.93     0.93      0.92   \n",
      "SGDClassifier                      0.92               0.93     0.93      0.92   \n",
      "BernoulliNB                        0.92               0.93     0.93      0.92   \n",
      "LinearSVC                          0.92               0.93     0.93      0.92   \n",
      "LabelSpreading                     0.83               0.86     0.86      0.83   \n",
      "LabelPropagation                   0.83               0.86     0.86      0.83   \n",
      "NearestCentroid                    0.83               0.86     0.86      0.83   \n",
      "KNeighborsClassifier               0.67               0.71     0.71      0.65   \n",
      "DummyClassifier                    0.58               0.50     0.50      0.43   \n",
      "\n",
      "                               Time Taken  \n",
      "Model                                      \n",
      "AdaBoostClassifier                   0.05  \n",
      "BaggingClassifier                    0.02  \n",
      "XGBClassifier                        0.04  \n",
      "SVC                                  0.01  \n",
      "RidgeClassifierCV                    0.01  \n",
      "RandomForestClassifier               0.08  \n",
      "QuadraticDiscriminantAnalysis        0.01  \n",
      "Perceptron                           0.01  \n",
      "PassiveAggressiveClassifier          0.01  \n",
      "NuSVC                                0.01  \n",
      "LogisticRegression                   0.01  \n",
      "LGBMClassifier                       0.06  \n",
      "ExtraTreesClassifier                 0.06  \n",
      "ExtraTreeClassifier                  0.01  \n",
      "CalibratedClassifierCV               0.01  \n",
      "LinearDiscriminantAnalysis           0.01  \n",
      "GaussianNB                           0.01  \n",
      "RidgeClassifier                      0.01  \n",
      "DecisionTreeClassifier               0.01  \n",
      "SGDClassifier                        0.01  \n",
      "BernoulliNB                          0.01  \n",
      "LinearSVC                            0.01  \n",
      "LabelSpreading                       0.01  \n",
      "LabelPropagation                     0.01  \n",
      "NearestCentroid                      0.01  \n",
      "KNeighborsClassifier                 0.01  \n",
      "DummyClassifier                      0.01  \n"
     ]
    },
    {
     "name": "stderr",
     "output_type": "stream",
     "text": [
      "\n"
     ]
    }
   ],
   "source": [
    "primeraronda4wina = totaltorneos[(totaltorneos['Winner'] == 'Pablo Carreno Busta')]\n",
    "\n",
    "primeraronda4losea = totaltorneos[(totaltorneos['Loser'] == 'Pablo Carreno Busta')]\n",
    "\n",
    "jugador=pd.concat([primeraronda4wina,primeraronda4losea],axis=0)\n",
    "\n",
    "win=jugador.Winner\n",
    "\n",
    "jugador['Win'] = win \n",
    "\n",
    "def win(x):\n",
    "\n",
    "        if x == 'Pablo Carreno Busta':\n",
    "            return 1\n",
    "        else:\n",
    "            return 0\n",
    "\n",
    "jugador.Win = jugador.Win.apply(win)\n",
    "\n",
    "jugador=jugador.drop(columns='Loser')\n",
    "\n",
    "jugador.Series=jugador.Series.apply(lambda x: series[x])\n",
    "jugador.Round=jugador.Round.apply(lambda x: rounds[x])\n",
    "\n",
    "\n",
    "jugador = jugador.drop(columns=['Tournament','Winner','Surface'])\n",
    "\n",
    "X=jugador.drop(columns = 'Win')\n",
    "y=jugador.Win\n",
    "\n",
    "data=pd.DataFrame(StandardScaler().fit_transform(X._get_numeric_data()),\\\n",
    "                     columns=X._get_numeric_data().columns)\n",
    "\n",
    "X_train, X_test, y_train, y_test = tts(data, y, train_size=0.8, test_size=0.2, random_state=42)\n",
    "\n",
    "clf = LazyClassifier(verbose=0, ignore_warnings=True, custom_metric=None)\n",
    "models, predictions = clf.fit(X_train, X_test, y_train, y_test)\n",
    "print(models)\n",
    "\n"
   ]
  },
  {
   "cell_type": "code",
   "execution_count": 225,
   "id": "52599a96",
   "metadata": {},
   "outputs": [],
   "source": [
    "ABC = AdaBoostClassifier()\n",
    "ABC.fit(X_train, y_train)\n",
    "y_pred_car=ABC.predict(X_test)"
   ]
  },
  {
   "cell_type": "code",
   "execution_count": 226,
   "id": "b20f61fe",
   "metadata": {},
   "outputs": [],
   "source": [
    "ratecar= ratewins(y_pred_car)"
   ]
  },
  {
   "cell_type": "code",
   "execution_count": 227,
   "id": "4681a303",
   "metadata": {},
   "outputs": [
    {
     "data": {
      "text/plain": [
       "0.4166666666666667"
      ]
     },
     "execution_count": 227,
     "metadata": {},
     "output_type": "execute_result"
    }
   ],
   "source": [
    "ratecar"
   ]
  },
  {
   "cell_type": "markdown",
   "id": "cc17c891",
   "metadata": {},
   "source": [
    "### El ratio de victorias de Alexander Zverev es mayor, por lo que consideremos que gana el encuentro y pasa a la siguiente ronda. Pablo Carreño Busta es eliminado."
   ]
  },
  {
   "cell_type": "markdown",
   "id": "58aad393",
   "metadata": {},
   "source": [
    "# Pareja 8"
   ]
  },
  {
   "cell_type": "code",
   "execution_count": 228,
   "id": "391b3974",
   "metadata": {},
   "outputs": [
    {
     "data": {
      "text/plain": [
       "['Cameron Norrie', 'Jannik Sinner']"
      ]
     },
     "execution_count": 228,
     "metadata": {},
     "output_type": "execute_result"
    }
   ],
   "source": [
    "par8"
   ]
  },
  {
   "cell_type": "markdown",
   "id": "554be7b3",
   "metadata": {},
   "source": [
    "### Cameron Norrie"
   ]
  },
  {
   "cell_type": "code",
   "execution_count": 229,
   "id": "43a45828",
   "metadata": {},
   "outputs": [
    {
     "name": "stderr",
     "output_type": "stream",
     "text": [
      "100%|██████████| 29/29 [00:00<00:00, 75.57it/s]"
     ]
    },
    {
     "name": "stdout",
     "output_type": "stream",
     "text": [
      "                               Accuracy  Balanced Accuracy  ROC AUC  F1 Score  \\\n",
      "Model                                                                           \n",
      "LGBMClassifier                     1.00               1.00     1.00      1.00   \n",
      "NuSVC                              1.00               1.00     1.00      1.00   \n",
      "BernoulliNB                        1.00               1.00     1.00      1.00   \n",
      "XGBClassifier                      1.00               1.00     1.00      1.00   \n",
      "DecisionTreeClassifier             1.00               1.00     1.00      1.00   \n",
      "SVC                                1.00               1.00     1.00      1.00   \n",
      "ExtraTreesClassifier               1.00               1.00     1.00      1.00   \n",
      "GaussianNB                         1.00               1.00     1.00      1.00   \n",
      "RidgeClassifierCV                  1.00               1.00     1.00      1.00   \n",
      "RandomForestClassifier             1.00               1.00     1.00      1.00   \n",
      "BaggingClassifier                  1.00               1.00     1.00      1.00   \n",
      "NearestCentroid                    1.00               1.00     1.00      1.00   \n",
      "SGDClassifier                      0.93               0.94     0.94      0.93   \n",
      "RidgeClassifier                    0.93               0.94     0.94      0.93   \n",
      "Perceptron                         0.93               0.94     0.94      0.93   \n",
      "PassiveAggressiveClassifier        0.93               0.94     0.94      0.93   \n",
      "LinearSVC                          0.93               0.94     0.94      0.93   \n",
      "LogisticRegression                 0.93               0.94     0.94      0.93   \n",
      "ExtraTreeClassifier                0.93               0.94     0.94      0.93   \n",
      "CalibratedClassifierCV             0.93               0.94     0.94      0.93   \n",
      "LabelSpreading                     0.93               0.92     0.92      0.93   \n",
      "LabelPropagation                   0.93               0.92     0.92      0.93   \n",
      "KNeighborsClassifier               0.93               0.92     0.92      0.93   \n",
      "AdaBoostClassifier                 0.93               0.92     0.92      0.93   \n",
      "LinearDiscriminantAnalysis         0.86               0.85     0.85      0.86   \n",
      "QuadraticDiscriminantAnalysis      0.43               0.50     0.50      0.26   \n",
      "DummyClassifier                    0.43               0.50     0.50      0.26   \n",
      "\n",
      "                               Time Taken  \n",
      "Model                                      \n",
      "LGBMClassifier                       0.05  \n",
      "NuSVC                                0.01  \n",
      "BernoulliNB                          0.01  \n",
      "XGBClassifier                        0.02  \n",
      "DecisionTreeClassifier               0.01  \n",
      "SVC                                  0.01  \n",
      "ExtraTreesClassifier                 0.06  \n",
      "GaussianNB                           0.01  \n",
      "RidgeClassifierCV                    0.01  \n",
      "RandomForestClassifier               0.07  \n",
      "BaggingClassifier                    0.01  \n",
      "NearestCentroid                      0.00  \n",
      "SGDClassifier                        0.01  \n",
      "RidgeClassifier                      0.01  \n",
      "Perceptron                           0.00  \n",
      "PassiveAggressiveClassifier          0.01  \n",
      "LinearSVC                            0.01  \n",
      "LogisticRegression                   0.01  \n",
      "ExtraTreeClassifier                  0.00  \n",
      "CalibratedClassifierCV               0.01  \n",
      "LabelSpreading                       0.01  \n",
      "LabelPropagation                     0.01  \n",
      "KNeighborsClassifier                 0.01  \n",
      "AdaBoostClassifier                   0.05  \n",
      "LinearDiscriminantAnalysis           0.01  \n",
      "QuadraticDiscriminantAnalysis        0.00  \n",
      "DummyClassifier                      0.00  \n"
     ]
    },
    {
     "name": "stderr",
     "output_type": "stream",
     "text": [
      "\n"
     ]
    }
   ],
   "source": [
    "primeraronda7win = totaltorneos[(totaltorneos['Winner'] == 'Cameron Norrie')]\n",
    "\n",
    "primeraronda7lose = totaltorneos[(totaltorneos['Loser'] == 'Cameron Norrie')]\n",
    "\n",
    "jugador=pd.concat([primeraronda7win,primeraronda7lose],axis=0)\n",
    "\n",
    "win=jugador.Winner\n",
    "\n",
    "jugador['Win'] = win \n",
    "\n",
    "def win(x):\n",
    "\n",
    "        if x == 'Cameron Norrie':\n",
    "            return 1\n",
    "        else:\n",
    "            return 0\n",
    "\n",
    "jugador.Win = jugador.Win.apply(win)\n",
    "\n",
    "jugador=jugador.drop(columns='Loser')\n",
    "\n",
    "jugador.Series=jugador.Series.apply(lambda x: series[x])\n",
    "jugador.Round=jugador.Round.apply(lambda x: rounds[x])\n",
    "\n",
    "\n",
    "jugador = jugador.drop(columns=['Tournament','Winner','Surface'])\n",
    "\n",
    "X=jugador.drop(columns = 'Win')\n",
    "y=jugador.Win\n",
    "\n",
    "data=pd.DataFrame(StandardScaler().fit_transform(X._get_numeric_data()),\\\n",
    "                     columns=X._get_numeric_data().columns)\n",
    "\n",
    "X_train, X_test, y_train, y_test = tts(data, y, train_size=0.8, test_size=0.2, random_state=42)\n",
    "\n",
    "clf = LazyClassifier(verbose=0, ignore_warnings=True, custom_metric=None)\n",
    "models, predictions = clf.fit(X_train, X_test, y_train, y_test)\n",
    "print(models)\n",
    "\n"
   ]
  },
  {
   "cell_type": "code",
   "execution_count": 230,
   "id": "bedc4fba",
   "metadata": {},
   "outputs": [],
   "source": [
    "LGBMC = LGBMClassifier ()\n",
    "LGBMC.fit(X_train, y_train)\n",
    "y_pred_nor=LGBMC.predict(X_test)"
   ]
  },
  {
   "cell_type": "code",
   "execution_count": 231,
   "id": "d7ed22cd",
   "metadata": {},
   "outputs": [],
   "source": [
    "ratenor= ratewins(y_pred_nor)"
   ]
  },
  {
   "cell_type": "code",
   "execution_count": 232,
   "id": "3692c0e9",
   "metadata": {},
   "outputs": [
    {
     "data": {
      "text/plain": [
       "0.5714285714285714"
      ]
     },
     "execution_count": 232,
     "metadata": {},
     "output_type": "execute_result"
    }
   ],
   "source": [
    "ratenor"
   ]
  },
  {
   "cell_type": "markdown",
   "id": "ec14b67b",
   "metadata": {},
   "source": [
    "### Jannik Sinner"
   ]
  },
  {
   "cell_type": "code",
   "execution_count": 233,
   "id": "eead3352",
   "metadata": {},
   "outputs": [
    {
     "name": "stderr",
     "output_type": "stream",
     "text": [
      "100%|██████████| 29/29 [00:00<00:00, 69.76it/s]"
     ]
    },
    {
     "name": "stdout",
     "output_type": "stream",
     "text": [
      "                               Accuracy  Balanced Accuracy  ROC AUC  F1 Score  \\\n",
      "Model                                                                           \n",
      "AdaBoostClassifier                 1.00               1.00     1.00      1.00   \n",
      "XGBClassifier                      1.00               1.00     1.00      1.00   \n",
      "BaggingClassifier                  1.00               1.00     1.00      1.00   \n",
      "DecisionTreeClassifier             1.00               1.00     1.00      1.00   \n",
      "ExtraTreeClassifier                0.92               0.93     0.93      0.92   \n",
      "LGBMClassifier                     0.92               0.93     0.93      0.92   \n",
      "ExtraTreesClassifier               0.92               0.90     0.90      0.91   \n",
      "RandomForestClassifier             0.92               0.90     0.90      0.91   \n",
      "NuSVC                              0.83               0.83     0.83      0.83   \n",
      "SVC                                0.83               0.83     0.83      0.83   \n",
      "PassiveAggressiveClassifier        0.83               0.83     0.83      0.83   \n",
      "LinearSVC                          0.83               0.83     0.83      0.83   \n",
      "LabelSpreading                     0.83               0.83     0.83      0.83   \n",
      "LabelPropagation                   0.83               0.83     0.83      0.83   \n",
      "GaussianNB                         0.83               0.83     0.83      0.83   \n",
      "CalibratedClassifierCV             0.75               0.73     0.73      0.74   \n",
      "LogisticRegression                 0.75               0.70     0.70      0.72   \n",
      "RidgeClassifier                    0.75               0.70     0.70      0.72   \n",
      "RidgeClassifierCV                  0.75               0.70     0.70      0.72   \n",
      "Perceptron                         0.67               0.63     0.63      0.65   \n",
      "SGDClassifier                      0.67               0.63     0.63      0.65   \n",
      "BernoulliNB                        0.67               0.63     0.63      0.65   \n",
      "KNeighborsClassifier               0.58               0.61     0.61      0.57   \n",
      "LinearDiscriminantAnalysis         0.58               0.56     0.56      0.57   \n",
      "QuadraticDiscriminantAnalysis      0.58               0.50     0.50      0.43   \n",
      "DummyClassifier                    0.58               0.50     0.50      0.43   \n",
      "NearestCentroid                    0.50               0.49     0.49      0.50   \n",
      "\n",
      "                               Time Taken  \n",
      "Model                                      \n",
      "AdaBoostClassifier                   0.04  \n",
      "XGBClassifier                        0.04  \n",
      "BaggingClassifier                    0.01  \n",
      "DecisionTreeClassifier               0.01  \n",
      "ExtraTreeClassifier                  0.01  \n",
      "LGBMClassifier                       0.06  \n",
      "ExtraTreesClassifier                 0.06  \n",
      "RandomForestClassifier               0.08  \n",
      "NuSVC                                0.01  \n",
      "SVC                                  0.01  \n",
      "PassiveAggressiveClassifier          0.01  \n",
      "LinearSVC                            0.01  \n",
      "LabelSpreading                       0.01  \n",
      "LabelPropagation                     0.01  \n",
      "GaussianNB                           0.01  \n",
      "CalibratedClassifierCV               0.01  \n",
      "LogisticRegression                   0.01  \n",
      "RidgeClassifier                      0.01  \n",
      "RidgeClassifierCV                    0.01  \n",
      "Perceptron                           0.01  \n",
      "SGDClassifier                        0.01  \n",
      "BernoulliNB                          0.01  \n",
      "KNeighborsClassifier                 0.01  \n",
      "LinearDiscriminantAnalysis           0.01  \n",
      "QuadraticDiscriminantAnalysis        0.01  \n",
      "DummyClassifier                      0.01  \n",
      "NearestCentroid                      0.00  \n"
     ]
    },
    {
     "name": "stderr",
     "output_type": "stream",
     "text": [
      "\n"
     ]
    }
   ],
   "source": [
    "primeraronda4wina = totaltorneos[(totaltorneos['Winner'] == 'Jannik Sinner')]\n",
    "\n",
    "primeraronda4losea = totaltorneos[(totaltorneos['Loser'] == 'Jannik Sinner')]\n",
    "\n",
    "jugador=pd.concat([primeraronda4wina,primeraronda4losea],axis=0)\n",
    "\n",
    "win=jugador.Winner\n",
    "\n",
    "jugador['Win'] = win \n",
    "\n",
    "def win(x):\n",
    "\n",
    "        if x == 'Jannik Sinner':\n",
    "            return 1\n",
    "        else:\n",
    "            return 0\n",
    "\n",
    "jugador.Win = jugador.Win.apply(win)\n",
    "\n",
    "jugador=jugador.drop(columns='Loser')\n",
    "\n",
    "jugador.Series=jugador.Series.apply(lambda x: series[x])\n",
    "jugador.Round=jugador.Round.apply(lambda x: rounds[x])\n",
    "\n",
    "\n",
    "jugador = jugador.drop(columns=['Tournament','Winner','Surface'])\n",
    "\n",
    "X=jugador.drop(columns = 'Win')\n",
    "y=jugador.Win\n",
    "\n",
    "data=pd.DataFrame(StandardScaler().fit_transform(X._get_numeric_data()),\\\n",
    "                     columns=X._get_numeric_data().columns)\n",
    "\n",
    "X_train, X_test, y_train, y_test = tts(data, y, train_size=0.8, test_size=0.2, random_state=42)\n",
    "\n",
    "clf = LazyClassifier(verbose=0, ignore_warnings=True, custom_metric=None)\n",
    "models, predictions = clf.fit(X_train, X_test, y_train, y_test)\n",
    "print(models)\n",
    "\n"
   ]
  },
  {
   "cell_type": "code",
   "execution_count": 234,
   "id": "2455cae9",
   "metadata": {},
   "outputs": [],
   "source": [
    "ABC = AdaBoostClassifier()\n",
    "ABC.fit(X_train, y_train)\n",
    "y_pred_sin=ABC.predict(X_test)"
   ]
  },
  {
   "cell_type": "code",
   "execution_count": 235,
   "id": "6ecf830a",
   "metadata": {},
   "outputs": [],
   "source": [
    "ratesin= ratewins(y_pred_sin)"
   ]
  },
  {
   "cell_type": "code",
   "execution_count": 236,
   "id": "1febccda",
   "metadata": {},
   "outputs": [
    {
     "data": {
      "text/plain": [
       "0.4166666666666667"
      ]
     },
     "execution_count": 236,
     "metadata": {},
     "output_type": "execute_result"
    }
   ],
   "source": [
    "ratesin"
   ]
  },
  {
   "cell_type": "markdown",
   "id": "2f2391ae",
   "metadata": {},
   "source": [
    "### El ratio de victorias de Cameron Norrie es mayor, por lo que consideremos que gana el encuentro y pasa a la siguiente ronda. Jannik Sinner es eliminado."
   ]
  },
  {
   "cell_type": "markdown",
   "id": "5a7269a5",
   "metadata": {},
   "source": [
    "# Pareja 9"
   ]
  },
  {
   "cell_type": "code",
   "execution_count": 237,
   "id": "7b7ca928",
   "metadata": {},
   "outputs": [
    {
     "data": {
      "text/plain": [
       "['Matteo Berrettini', 'Alejandro Davidovich Fokina']"
      ]
     },
     "execution_count": 237,
     "metadata": {},
     "output_type": "execute_result"
    }
   ],
   "source": [
    "par9"
   ]
  },
  {
   "cell_type": "markdown",
   "id": "5e3fc991",
   "metadata": {},
   "source": [
    "### Matteo Berrettini"
   ]
  },
  {
   "cell_type": "code",
   "execution_count": 238,
   "id": "b5a69aeb",
   "metadata": {},
   "outputs": [
    {
     "name": "stderr",
     "output_type": "stream",
     "text": [
      "100%|██████████| 29/29 [00:00<00:00, 84.74it/s]"
     ]
    },
    {
     "name": "stdout",
     "output_type": "stream",
     "text": [
      "                               Accuracy  Balanced Accuracy  ROC AUC  F1 Score  \\\n",
      "Model                                                                           \n",
      "LogisticRegression                 0.92               0.92     0.92      0.92   \n",
      "CalibratedClassifierCV             0.92               0.92     0.92      0.92   \n",
      "SGDClassifier                      0.92               0.92     0.92      0.92   \n",
      "SVC                                0.92               0.92     0.92      0.92   \n",
      "Perceptron                         0.92               0.92     0.92      0.92   \n",
      "GaussianNB                         0.92               0.92     0.92      0.92   \n",
      "NuSVC                              0.92               0.92     0.92      0.92   \n",
      "NearestCentroid                    0.92               0.92     0.92      0.92   \n",
      "LabelSpreading                     0.83               0.83     0.83      0.83   \n",
      "RandomForestClassifier             0.83               0.83     0.83      0.83   \n",
      "ExtraTreesClassifier               0.83               0.83     0.83      0.83   \n",
      "LabelPropagation                   0.83               0.83     0.83      0.83   \n",
      "BaggingClassifier                  0.83               0.83     0.83      0.83   \n",
      "PassiveAggressiveClassifier        0.83               0.83     0.83      0.83   \n",
      "LinearSVC                          0.83               0.83     0.83      0.83   \n",
      "LinearDiscriminantAnalysis         0.83               0.83     0.83      0.83   \n",
      "RidgeClassifierCV                  0.83               0.83     0.83      0.83   \n",
      "KNeighborsClassifier               0.83               0.83     0.83      0.83   \n",
      "ExtraTreeClassifier                0.83               0.83     0.83      0.83   \n",
      "BernoulliNB                        0.83               0.83     0.83      0.83   \n",
      "RidgeClassifier                    0.83               0.83     0.83      0.83   \n",
      "XGBClassifier                      0.75               0.75     0.75      0.75   \n",
      "AdaBoostClassifier                 0.75               0.75     0.75      0.75   \n",
      "DecisionTreeClassifier             0.75               0.75     0.75      0.75   \n",
      "LGBMClassifier                     0.75               0.75     0.75      0.75   \n",
      "QuadraticDiscriminantAnalysis      0.50               0.50     0.50      0.33   \n",
      "DummyClassifier                    0.50               0.50     0.50      0.33   \n",
      "\n",
      "                               Time Taken  \n",
      "Model                                      \n",
      "LogisticRegression                   0.01  \n",
      "CalibratedClassifierCV               0.01  \n",
      "SGDClassifier                        0.01  \n",
      "SVC                                  0.01  \n",
      "Perceptron                           0.01  \n",
      "GaussianNB                           0.01  \n",
      "NuSVC                                0.01  \n",
      "NearestCentroid                      0.00  \n",
      "LabelSpreading                       0.01  \n",
      "RandomForestClassifier               0.07  \n",
      "ExtraTreesClassifier                 0.06  \n",
      "LabelPropagation                     0.00  \n",
      "BaggingClassifier                    0.01  \n",
      "PassiveAggressiveClassifier          0.00  \n",
      "LinearSVC                            0.00  \n",
      "LinearDiscriminantAnalysis           0.01  \n",
      "RidgeClassifierCV                    0.01  \n",
      "KNeighborsClassifier                 0.01  \n",
      "ExtraTreeClassifier                  0.00  \n",
      "BernoulliNB                          0.01  \n",
      "RidgeClassifier                      0.01  \n",
      "XGBClassifier                        0.02  \n",
      "AdaBoostClassifier                   0.04  \n",
      "DecisionTreeClassifier               0.00  \n",
      "LGBMClassifier                       0.01  \n",
      "QuadraticDiscriminantAnalysis        0.00  \n",
      "DummyClassifier                      0.00  \n"
     ]
    },
    {
     "name": "stderr",
     "output_type": "stream",
     "text": [
      "\n"
     ]
    }
   ],
   "source": [
    "primeraronda7win = totaltorneos[(totaltorneos['Winner'] == 'Matteo Berrettini')]\n",
    "\n",
    "primeraronda7lose = totaltorneos[(totaltorneos['Loser'] == 'Matteo Berrettini')]\n",
    "\n",
    "jugador=pd.concat([primeraronda7win,primeraronda7lose],axis=0)\n",
    "\n",
    "win=jugador.Winner\n",
    "\n",
    "jugador['Win'] = win \n",
    "\n",
    "def win(x):\n",
    "\n",
    "        if x == 'Matteo Berrettini':\n",
    "            return 1\n",
    "        else:\n",
    "            return 0\n",
    "\n",
    "jugador.Win = jugador.Win.apply(win)\n",
    "\n",
    "jugador=jugador.drop(columns='Loser')\n",
    "\n",
    "jugador.Series=jugador.Series.apply(lambda x: series[x])\n",
    "jugador.Round=jugador.Round.apply(lambda x: rounds[x])\n",
    "\n",
    "\n",
    "jugador = jugador.drop(columns=['Tournament','Winner','Surface'])\n",
    "\n",
    "X=jugador.drop(columns = 'Win')\n",
    "y=jugador.Win\n",
    "\n",
    "data=pd.DataFrame(StandardScaler().fit_transform(X._get_numeric_data()),\\\n",
    "                     columns=X._get_numeric_data().columns)\n",
    "\n",
    "X_train, X_test, y_train, y_test = tts(data, y, train_size=0.8, test_size=0.2, random_state=42)\n",
    "\n",
    "clf = LazyClassifier(verbose=0, ignore_warnings=True, custom_metric=None)\n",
    "models, predictions = clf.fit(X_train, X_test, y_train, y_test)\n",
    "print(models)\n",
    "\n"
   ]
  },
  {
   "cell_type": "code",
   "execution_count": 239,
   "id": "5c976dd6",
   "metadata": {},
   "outputs": [],
   "source": [
    "logreg = LogisticRegression()\n",
    "logreg.fit(X_train, y_train)\n",
    "y_pred_ber=logreg.predict(X_test)"
   ]
  },
  {
   "cell_type": "code",
   "execution_count": 240,
   "id": "7eae401c",
   "metadata": {},
   "outputs": [],
   "source": [
    "rateber= ratewins(y_pred_ber)"
   ]
  },
  {
   "cell_type": "code",
   "execution_count": 241,
   "id": "6b02d7ad",
   "metadata": {},
   "outputs": [
    {
     "data": {
      "text/plain": [
       "0.6666666666666666"
      ]
     },
     "execution_count": 241,
     "metadata": {},
     "output_type": "execute_result"
    }
   ],
   "source": [
    "rateber"
   ]
  },
  {
   "cell_type": "markdown",
   "id": "e6b9b12c",
   "metadata": {},
   "source": [
    "### Alejandro Davidovich Fokina"
   ]
  },
  {
   "cell_type": "code",
   "execution_count": 242,
   "id": "f9cc813e",
   "metadata": {},
   "outputs": [
    {
     "name": "stderr",
     "output_type": "stream",
     "text": [
      "100%|██████████| 29/29 [00:00<00:00, 81.84it/s]"
     ]
    },
    {
     "name": "stdout",
     "output_type": "stream",
     "text": [
      "                               Accuracy  Balanced Accuracy  ROC AUC  F1 Score  \\\n",
      "Model                                                                           \n",
      "AdaBoostClassifier                 1.00               1.00     1.00      1.00   \n",
      "BaggingClassifier                  1.00               1.00     1.00      1.00   \n",
      "XGBClassifier                      1.00               1.00     1.00      1.00   \n",
      "SVC                                1.00               1.00     1.00      1.00   \n",
      "SGDClassifier                      1.00               1.00     1.00      1.00   \n",
      "RidgeClassifierCV                  1.00               1.00     1.00      1.00   \n",
      "RidgeClassifier                    1.00               1.00     1.00      1.00   \n",
      "RandomForestClassifier             1.00               1.00     1.00      1.00   \n",
      "QuadraticDiscriminantAnalysis      1.00               1.00     1.00      1.00   \n",
      "PassiveAggressiveClassifier        1.00               1.00     1.00      1.00   \n",
      "NuSVC                              1.00               1.00     1.00      1.00   \n",
      "LogisticRegression                 1.00               1.00     1.00      1.00   \n",
      "LinearSVC                          1.00               1.00     1.00      1.00   \n",
      "LinearDiscriminantAnalysis         1.00               1.00     1.00      1.00   \n",
      "ExtraTreesClassifier               1.00               1.00     1.00      1.00   \n",
      "ExtraTreeClassifier                1.00               1.00     1.00      1.00   \n",
      "DecisionTreeClassifier             1.00               1.00     1.00      1.00   \n",
      "CalibratedClassifierCV             1.00               1.00     1.00      1.00   \n",
      "LabelSpreading                     0.89               0.92     0.92      0.89   \n",
      "LabelPropagation                   0.89               0.92     0.92      0.89   \n",
      "Perceptron                         0.89               0.92     0.92      0.89   \n",
      "NearestCentroid                    0.78               0.83     0.83      0.78   \n",
      "GaussianNB                         0.78               0.83     0.83      0.78   \n",
      "BernoulliNB                        0.78               0.83     0.83      0.78   \n",
      "KNeighborsClassifier               0.67               0.75     0.75      0.67   \n",
      "DummyClassifier                    0.67               0.50     0.50      0.53   \n",
      "LGBMClassifier                     0.67               0.50     0.50      0.53   \n",
      "\n",
      "                               Time Taken  \n",
      "Model                                      \n",
      "AdaBoostClassifier                   0.05  \n",
      "BaggingClassifier                    0.01  \n",
      "XGBClassifier                        0.03  \n",
      "SVC                                  0.01  \n",
      "SGDClassifier                        0.01  \n",
      "RidgeClassifierCV                    0.01  \n",
      "RidgeClassifier                      0.01  \n",
      "RandomForestClassifier               0.07  \n",
      "QuadraticDiscriminantAnalysis        0.00  \n",
      "PassiveAggressiveClassifier          0.01  \n",
      "NuSVC                                0.01  \n",
      "LogisticRegression                   0.01  \n",
      "LinearSVC                            0.00  \n",
      "LinearDiscriminantAnalysis           0.01  \n",
      "ExtraTreesClassifier                 0.06  \n",
      "ExtraTreeClassifier                  0.00  \n",
      "DecisionTreeClassifier               0.00  \n",
      "CalibratedClassifierCV               0.01  \n",
      "LabelSpreading                       0.01  \n",
      "LabelPropagation                     0.00  \n",
      "Perceptron                           0.01  \n",
      "NearestCentroid                      0.00  \n",
      "GaussianNB                           0.00  \n",
      "BernoulliNB                          0.01  \n",
      "KNeighborsClassifier                 0.01  \n",
      "DummyClassifier                      0.00  \n",
      "LGBMClassifier                       0.01  \n"
     ]
    },
    {
     "name": "stderr",
     "output_type": "stream",
     "text": [
      "\n"
     ]
    }
   ],
   "source": [
    "primeraronda4wina = totaltorneos[(totaltorneos['Winner'] == 'Alejandro Davidovich Fokina')]\n",
    "\n",
    "primeraronda4losea = totaltorneos[(totaltorneos['Loser'] == 'Alejandro Davidovich Fokina')]\n",
    "\n",
    "jugador=pd.concat([primeraronda4wina,primeraronda4losea],axis=0)\n",
    "\n",
    "win=jugador.Winner\n",
    "\n",
    "jugador['Win'] = win \n",
    "\n",
    "def win(x):\n",
    "\n",
    "        if x == 'Alejandro Davidovich Fokina':\n",
    "            return 1\n",
    "        else:\n",
    "            return 0\n",
    "\n",
    "jugador.Win = jugador.Win.apply(win)\n",
    "\n",
    "jugador=jugador.drop(columns='Loser')\n",
    "\n",
    "jugador.Series=jugador.Series.apply(lambda x: series[x])\n",
    "jugador.Round=jugador.Round.apply(lambda x: rounds[x])\n",
    "\n",
    "\n",
    "jugador = jugador.drop(columns=['Tournament','Winner','Surface'])\n",
    "\n",
    "X=jugador.drop(columns = 'Win')\n",
    "y=jugador.Win\n",
    "\n",
    "data=pd.DataFrame(StandardScaler().fit_transform(X._get_numeric_data()),\\\n",
    "                     columns=X._get_numeric_data().columns)\n",
    "\n",
    "X_train, X_test, y_train, y_test = tts(data, y, train_size=0.8, test_size=0.2, random_state=42)\n",
    "\n",
    "clf = LazyClassifier(verbose=0, ignore_warnings=True, custom_metric=None)\n",
    "models, predictions = clf.fit(X_train, X_test, y_train, y_test)\n",
    "print(models)\n",
    "\n"
   ]
  },
  {
   "cell_type": "code",
   "execution_count": 243,
   "id": "620fd6e4",
   "metadata": {},
   "outputs": [],
   "source": [
    "ABC = AdaBoostClassifier()\n",
    "ABC.fit(X_train, y_train)\n",
    "y_pred_dav=ABC.predict(X_test)"
   ]
  },
  {
   "cell_type": "code",
   "execution_count": 244,
   "id": "88716682",
   "metadata": {},
   "outputs": [],
   "source": [
    "ratedav= ratewins(y_pred_dav)"
   ]
  },
  {
   "cell_type": "code",
   "execution_count": 245,
   "id": "f4799f24",
   "metadata": {},
   "outputs": [
    {
     "data": {
      "text/plain": [
       "0.3333333333333333"
      ]
     },
     "execution_count": 245,
     "metadata": {},
     "output_type": "execute_result"
    }
   ],
   "source": [
    "ratedav"
   ]
  },
  {
   "cell_type": "markdown",
   "id": "8d1bd363",
   "metadata": {},
   "source": [
    "### El ratio de victorias de Matteo Berrettini es mayor, por lo que consideremos que gana el encuentro y pasa a la siguiente ronda.  Alejandro Davidovich Fokina es eliminado."
   ]
  },
  {
   "cell_type": "markdown",
   "id": "ed206623",
   "metadata": {},
   "source": [
    "# Pareja 10"
   ]
  },
  {
   "cell_type": "code",
   "execution_count": 246,
   "id": "076b554d",
   "metadata": {},
   "outputs": [
    {
     "data": {
      "text/plain": [
       "['Miomir Kecmanovic', 'Carlos Alcaraz']"
      ]
     },
     "execution_count": 246,
     "metadata": {},
     "output_type": "execute_result"
    }
   ],
   "source": [
    "par10"
   ]
  },
  {
   "cell_type": "markdown",
   "id": "cb921895",
   "metadata": {},
   "source": [
    "### Miomir Kecmanovic"
   ]
  },
  {
   "cell_type": "code",
   "execution_count": 247,
   "id": "2bd3ebd1",
   "metadata": {},
   "outputs": [
    {
     "name": "stderr",
     "output_type": "stream",
     "text": [
      "100%|██████████| 29/29 [00:00<00:00, 86.87it/s]"
     ]
    },
    {
     "name": "stdout",
     "output_type": "stream",
     "text": [
      "                               Accuracy  Balanced Accuracy  ROC AUC  F1 Score  \\\n",
      "Model                                                                           \n",
      "LinearSVC                          1.00               1.00     1.00      1.00   \n",
      "PassiveAggressiveClassifier        1.00               1.00     1.00      1.00   \n",
      "SVC                                1.00               1.00     1.00      1.00   \n",
      "SGDClassifier                      1.00               1.00     1.00      1.00   \n",
      "RidgeClassifierCV                  1.00               1.00     1.00      1.00   \n",
      "NuSVC                              1.00               1.00     1.00      1.00   \n",
      "ExtraTreesClassifier               1.00               1.00     1.00      1.00   \n",
      "GaussianNB                         1.00               1.00     1.00      1.00   \n",
      "QuadraticDiscriminantAnalysis      1.00               1.00     1.00      1.00   \n",
      "LogisticRegression                 1.00               1.00     1.00      1.00   \n",
      "BaggingClassifier                  0.88               0.92     0.92      0.88   \n",
      "NearestCentroid                    0.88               0.92     0.92      0.88   \n",
      "Perceptron                         0.88               0.92     0.92      0.88   \n",
      "RandomForestClassifier             0.88               0.92     0.92      0.88   \n",
      "LabelSpreading                     0.88               0.92     0.92      0.88   \n",
      "LabelPropagation                   0.88               0.92     0.92      0.88   \n",
      "ExtraTreeClassifier                0.88               0.92     0.92      0.88   \n",
      "XGBClassifier                      0.88               0.92     0.92      0.88   \n",
      "RidgeClassifier                    0.75               0.83     0.83      0.77   \n",
      "AdaBoostClassifier                 0.75               0.83     0.83      0.77   \n",
      "DecisionTreeClassifier             0.75               0.83     0.83      0.77   \n",
      "KNeighborsClassifier               0.62               0.75     0.75      0.64   \n",
      "CalibratedClassifierCV             0.88               0.75     0.75      0.86   \n",
      "LinearDiscriminantAnalysis         0.50               0.67     0.67      0.50   \n",
      "BernoulliNB                        0.62               0.58     0.58      0.65   \n",
      "DummyClassifier                    0.75               0.50     0.50      0.64   \n",
      "LGBMClassifier                     0.75               0.50     0.50      0.64   \n",
      "\n",
      "                               Time Taken  \n",
      "Model                                      \n",
      "LinearSVC                            0.00  \n",
      "PassiveAggressiveClassifier          0.00  \n",
      "SVC                                  0.01  \n",
      "SGDClassifier                        0.01  \n",
      "RidgeClassifierCV                    0.01  \n",
      "NuSVC                                0.01  \n",
      "ExtraTreesClassifier                 0.06  \n",
      "GaussianNB                           0.01  \n",
      "QuadraticDiscriminantAnalysis        0.00  \n",
      "LogisticRegression                   0.01  \n",
      "BaggingClassifier                    0.01  \n",
      "NearestCentroid                      0.00  \n",
      "Perceptron                           0.01  \n",
      "RandomForestClassifier               0.07  \n",
      "LabelSpreading                       0.01  \n",
      "LabelPropagation                     0.01  \n",
      "ExtraTreeClassifier                  0.00  \n",
      "XGBClassifier                        0.02  \n",
      "RidgeClassifier                      0.01  \n",
      "AdaBoostClassifier                   0.04  \n",
      "DecisionTreeClassifier               0.00  \n",
      "KNeighborsClassifier                 0.01  \n",
      "CalibratedClassifierCV               0.01  \n",
      "LinearDiscriminantAnalysis           0.01  \n",
      "BernoulliNB                          0.00  \n",
      "DummyClassifier                      0.00  \n",
      "LGBMClassifier                       0.01  \n"
     ]
    },
    {
     "name": "stderr",
     "output_type": "stream",
     "text": [
      "\n"
     ]
    }
   ],
   "source": [
    "primeraronda7win = totaltorneos[(totaltorneos['Winner'] == 'Miomir Kecmanovic')]\n",
    "\n",
    "primeraronda7lose = totaltorneos[(totaltorneos['Loser'] == 'Miomir Kecmanovic')]\n",
    "\n",
    "jugador=pd.concat([primeraronda7win,primeraronda7lose],axis=0)\n",
    "\n",
    "win=jugador.Winner\n",
    "\n",
    "jugador['Win'] = win \n",
    "\n",
    "def win(x):\n",
    "\n",
    "        if x == 'Miomir Kecmanovic':\n",
    "            return 1\n",
    "        else:\n",
    "            return 0\n",
    "\n",
    "jugador.Win = jugador.Win.apply(win)\n",
    "\n",
    "jugador=jugador.drop(columns='Loser')\n",
    "\n",
    "jugador.Series=jugador.Series.apply(lambda x: series[x])\n",
    "jugador.Round=jugador.Round.apply(lambda x: rounds[x])\n",
    "\n",
    "\n",
    "jugador = jugador.drop(columns=['Tournament','Winner','Surface'])\n",
    "\n",
    "X=jugador.drop(columns = 'Win')\n",
    "y=jugador.Win\n",
    "\n",
    "data=pd.DataFrame(StandardScaler().fit_transform(X._get_numeric_data()),\\\n",
    "                     columns=X._get_numeric_data().columns)\n",
    "\n",
    "X_train, X_test, y_train, y_test = tts(data, y, train_size=0.8, test_size=0.2, random_state=42)\n",
    "\n",
    "clf = LazyClassifier(verbose=0, ignore_warnings=True, custom_metric=None)\n",
    "models, predictions = clf.fit(X_train, X_test, y_train, y_test)\n",
    "print(models)\n",
    "\n"
   ]
  },
  {
   "cell_type": "code",
   "execution_count": 248,
   "id": "c6a4b882",
   "metadata": {},
   "outputs": [],
   "source": [
    "linearsvc = LinearSVC() \n",
    "linearsvc.fit(X_train, y_train)\n",
    "y_pred_kec=linearsvc.predict(X_test)"
   ]
  },
  {
   "cell_type": "code",
   "execution_count": 249,
   "id": "780df672",
   "metadata": {},
   "outputs": [],
   "source": [
    "ratekec= ratewins(y_pred_kec)"
   ]
  },
  {
   "cell_type": "code",
   "execution_count": 250,
   "id": "411e8451",
   "metadata": {},
   "outputs": [
    {
     "data": {
      "text/plain": [
       "0.25"
      ]
     },
     "execution_count": 250,
     "metadata": {},
     "output_type": "execute_result"
    }
   ],
   "source": [
    "ratekec"
   ]
  },
  {
   "cell_type": "markdown",
   "id": "8872b464",
   "metadata": {},
   "source": [
    "### Carlos Alcaraz"
   ]
  },
  {
   "cell_type": "code",
   "execution_count": 251,
   "id": "a794abeb",
   "metadata": {},
   "outputs": [
    {
     "name": "stderr",
     "output_type": "stream",
     "text": [
      "100%|██████████| 29/29 [00:00<00:00, 84.42it/s]"
     ]
    },
    {
     "name": "stdout",
     "output_type": "stream",
     "text": [
      "                               Accuracy  Balanced Accuracy  ROC AUC  F1 Score  \\\n",
      "Model                                                                           \n",
      "BernoulliNB                        1.00               1.00     1.00      1.00   \n",
      "ExtraTreeClassifier                1.00               1.00     1.00      1.00   \n",
      "GaussianNB                         1.00               1.00     1.00      1.00   \n",
      "AdaBoostClassifier                 0.88               0.83     0.83      0.87   \n",
      "BaggingClassifier                  0.88               0.83     0.83      0.87   \n",
      "XGBClassifier                      0.88               0.83     0.83      0.87   \n",
      "SVC                                0.88               0.83     0.83      0.87   \n",
      "SGDClassifier                      0.88               0.83     0.83      0.87   \n",
      "Perceptron                         0.88               0.83     0.83      0.87   \n",
      "PassiveAggressiveClassifier        0.88               0.83     0.83      0.87   \n",
      "NuSVC                              0.88               0.83     0.83      0.87   \n",
      "LinearSVC                          0.88               0.83     0.83      0.87   \n",
      "LabelSpreading                     0.88               0.83     0.83      0.87   \n",
      "LabelPropagation                   0.88               0.83     0.83      0.87   \n",
      "DecisionTreeClassifier             0.88               0.83     0.83      0.87   \n",
      "LinearDiscriminantAnalysis         0.75               0.67     0.67      0.71   \n",
      "LogisticRegression                 0.75               0.67     0.67      0.71   \n",
      "NearestCentroid                    0.75               0.67     0.67      0.71   \n",
      "ExtraTreesClassifier               0.75               0.67     0.67      0.71   \n",
      "RandomForestClassifier             0.75               0.67     0.67      0.71   \n",
      "RidgeClassifier                    0.75               0.67     0.67      0.71   \n",
      "RidgeClassifierCV                  0.75               0.67     0.67      0.71   \n",
      "CalibratedClassifierCV             0.75               0.67     0.67      0.71   \n",
      "KNeighborsClassifier               0.62               0.50     0.50      0.48   \n",
      "QuadraticDiscriminantAnalysis      0.38               0.50     0.50      0.20   \n",
      "DummyClassifier                    0.62               0.50     0.50      0.48   \n",
      "LGBMClassifier                     0.62               0.50     0.50      0.48   \n",
      "\n",
      "                               Time Taken  \n",
      "Model                                      \n",
      "BernoulliNB                          0.00  \n",
      "ExtraTreeClassifier                  0.00  \n",
      "GaussianNB                           0.01  \n",
      "AdaBoostClassifier                   0.04  \n",
      "BaggingClassifier                    0.01  \n",
      "XGBClassifier                        0.02  \n",
      "SVC                                  0.01  \n",
      "SGDClassifier                        0.00  \n",
      "Perceptron                           0.01  \n",
      "PassiveAggressiveClassifier          0.01  \n",
      "NuSVC                                0.01  \n",
      "LinearSVC                            0.01  \n",
      "LabelSpreading                       0.01  \n",
      "LabelPropagation                     0.01  \n",
      "DecisionTreeClassifier               0.00  \n",
      "LinearDiscriminantAnalysis           0.01  \n",
      "LogisticRegression                   0.01  \n",
      "NearestCentroid                      0.01  \n",
      "ExtraTreesClassifier                 0.05  \n",
      "RandomForestClassifier               0.07  \n",
      "RidgeClassifier                      0.01  \n",
      "RidgeClassifierCV                    0.01  \n",
      "CalibratedClassifierCV               0.01  \n",
      "KNeighborsClassifier                 0.01  \n",
      "QuadraticDiscriminantAnalysis        0.01  \n",
      "DummyClassifier                      0.00  \n",
      "LGBMClassifier                       0.01  \n"
     ]
    },
    {
     "name": "stderr",
     "output_type": "stream",
     "text": [
      "\n"
     ]
    }
   ],
   "source": [
    "primeraronda4wina = totaltorneos[(totaltorneos['Winner'] == 'Carlos Alcaraz')]\n",
    "\n",
    "primeraronda4losea = totaltorneos[(totaltorneos['Loser'] == 'Carlos Alcaraz')]\n",
    "\n",
    "jugador=pd.concat([primeraronda4wina,primeraronda4losea],axis=0)\n",
    "\n",
    "win=jugador.Winner\n",
    "\n",
    "jugador['Win'] = win \n",
    "\n",
    "def win(x):\n",
    "\n",
    "        if x == 'Carlos Alcaraz':\n",
    "            return 1\n",
    "        else:\n",
    "            return 0\n",
    "\n",
    "jugador.Win = jugador.Win.apply(win)\n",
    "\n",
    "jugador=jugador.drop(columns='Loser')\n",
    "\n",
    "jugador.Series=jugador.Series.apply(lambda x: series[x])\n",
    "jugador.Round=jugador.Round.apply(lambda x: rounds[x])\n",
    "\n",
    "\n",
    "jugador = jugador.drop(columns=['Tournament','Winner','Surface'])\n",
    "\n",
    "X=jugador.drop(columns = 'Win')\n",
    "y=jugador.Win\n",
    "\n",
    "data=pd.DataFrame(StandardScaler().fit_transform(X._get_numeric_data()),\\\n",
    "                     columns=X._get_numeric_data().columns)\n",
    "\n",
    "X_train, X_test, y_train, y_test = tts(data, y, train_size=0.8, test_size=0.2, random_state=42)\n",
    "\n",
    "clf = LazyClassifier(verbose=0, ignore_warnings=True, custom_metric=None)\n",
    "models, predictions = clf.fit(X_train, X_test, y_train, y_test)\n",
    "print(models)\n",
    "\n"
   ]
  },
  {
   "cell_type": "code",
   "execution_count": 252,
   "id": "d631cfb5",
   "metadata": {},
   "outputs": [],
   "source": [
    "bernoulli = BernoulliNB()\n",
    "bernoulli.fit(X_train, y_train)\n",
    "y_pred_alc=bernoulli.predict(X_test)"
   ]
  },
  {
   "cell_type": "code",
   "execution_count": 253,
   "id": "9714465f",
   "metadata": {},
   "outputs": [],
   "source": [
    "ratealc= ratewins(y_pred_alc)"
   ]
  },
  {
   "cell_type": "code",
   "execution_count": 254,
   "id": "005d98b4",
   "metadata": {},
   "outputs": [
    {
     "data": {
      "text/plain": [
       "0.625"
      ]
     },
     "execution_count": 254,
     "metadata": {},
     "output_type": "execute_result"
    }
   ],
   "source": [
    "ratealc"
   ]
  },
  {
   "cell_type": "markdown",
   "id": "afaf48e5",
   "metadata": {},
   "source": [
    "### El ratio de victorias de Carlos Alcaraz es mayor, por lo que consideremos que gana el encuentro y pasa a la siguiente ronda. Miomir Kecmanovic es eliminado."
   ]
  },
  {
   "cell_type": "markdown",
   "id": "7d567946",
   "metadata": {},
   "source": [
    "# Pareja 11"
   ]
  },
  {
   "cell_type": "code",
   "execution_count": 255,
   "id": "c638ff04",
   "metadata": {},
   "outputs": [
    {
     "data": {
      "text/plain": [
       "['Marin Cilic', 'Denis Shapovalov']"
      ]
     },
     "execution_count": 255,
     "metadata": {},
     "output_type": "execute_result"
    }
   ],
   "source": [
    "par11"
   ]
  },
  {
   "cell_type": "markdown",
   "id": "c0c3f2a8",
   "metadata": {},
   "source": [
    "### Marin Cilic"
   ]
  },
  {
   "cell_type": "code",
   "execution_count": 256,
   "id": "c8faf679",
   "metadata": {},
   "outputs": [
    {
     "name": "stderr",
     "output_type": "stream",
     "text": [
      "100%|██████████| 29/29 [00:00<00:00, 74.06it/s]"
     ]
    },
    {
     "name": "stdout",
     "output_type": "stream",
     "text": [
      "                               Accuracy  Balanced Accuracy  ROC AUC  F1 Score  \\\n",
      "Model                                                                           \n",
      "AdaBoostClassifier                 1.00               1.00     1.00      1.00   \n",
      "ExtraTreesClassifier               1.00               1.00     1.00      1.00   \n",
      "LGBMClassifier                     1.00               1.00     1.00      1.00   \n",
      "LinearSVC                          0.93               0.92     0.92      0.93   \n",
      "BaggingClassifier                  0.93               0.92     0.92      0.93   \n",
      "XGBClassifier                      0.93               0.92     0.92      0.93   \n",
      "SGDClassifier                      0.93               0.92     0.92      0.93   \n",
      "RandomForestClassifier             0.93               0.92     0.92      0.93   \n",
      "Perceptron                         0.93               0.92     0.92      0.93   \n",
      "PassiveAggressiveClassifier        0.93               0.92     0.92      0.93   \n",
      "DecisionTreeClassifier             0.93               0.92     0.92      0.93   \n",
      "RidgeClassifierCV                  0.87               0.83     0.83      0.86   \n",
      "LogisticRegression                 0.87               0.83     0.83      0.86   \n",
      "CalibratedClassifierCV             0.87               0.83     0.83      0.86   \n",
      "LabelSpreading                     0.87               0.83     0.83      0.86   \n",
      "LabelPropagation                   0.87               0.83     0.83      0.86   \n",
      "SVC                                0.80               0.78     0.78      0.80   \n",
      "LinearDiscriminantAnalysis         0.80               0.75     0.75      0.78   \n",
      "RidgeClassifier                    0.80               0.75     0.75      0.78   \n",
      "ExtraTreeClassifier                0.80               0.75     0.75      0.78   \n",
      "NuSVC                              0.73               0.72     0.72      0.73   \n",
      "GaussianNB                         0.73               0.72     0.72      0.73   \n",
      "KNeighborsClassifier               0.67               0.64     0.64      0.66   \n",
      "BernoulliNB                        0.67               0.64     0.64      0.66   \n",
      "NearestCentroid                    0.67               0.64     0.64      0.66   \n",
      "QuadraticDiscriminantAnalysis      0.40               0.50     0.50      0.23   \n",
      "DummyClassifier                    0.40               0.50     0.50      0.23   \n",
      "\n",
      "                               Time Taken  \n",
      "Model                                      \n",
      "AdaBoostClassifier                   0.05  \n",
      "ExtraTreesClassifier                 0.06  \n",
      "LGBMClassifier                       0.03  \n",
      "LinearSVC                            0.01  \n",
      "BaggingClassifier                    0.01  \n",
      "XGBClassifier                        0.03  \n",
      "SGDClassifier                        0.01  \n",
      "RandomForestClassifier               0.07  \n",
      "Perceptron                           0.00  \n",
      "PassiveAggressiveClassifier          0.01  \n",
      "DecisionTreeClassifier               0.01  \n",
      "RidgeClassifierCV                    0.01  \n",
      "LogisticRegression                   0.01  \n",
      "CalibratedClassifierCV               0.02  \n",
      "LabelSpreading                       0.01  \n",
      "LabelPropagation                     0.01  \n",
      "SVC                                  0.01  \n",
      "LinearDiscriminantAnalysis           0.01  \n",
      "RidgeClassifier                      0.01  \n",
      "ExtraTreeClassifier                  0.01  \n",
      "NuSVC                                0.01  \n",
      "GaussianNB                           0.01  \n",
      "KNeighborsClassifier                 0.01  \n",
      "BernoulliNB                          0.01  \n",
      "NearestCentroid                      0.01  \n",
      "QuadraticDiscriminantAnalysis        0.01  \n",
      "DummyClassifier                      0.01  \n"
     ]
    },
    {
     "name": "stderr",
     "output_type": "stream",
     "text": [
      "\n"
     ]
    }
   ],
   "source": [
    "primeraronda7win = totaltorneos[(totaltorneos['Winner'] == 'Marin Cilic')]\n",
    "\n",
    "primeraronda7lose = totaltorneos[(totaltorneos['Loser'] == 'Marin Cilic')]\n",
    "\n",
    "jugador=pd.concat([primeraronda7win,primeraronda7lose],axis=0)\n",
    "\n",
    "win=jugador.Winner\n",
    "\n",
    "jugador['Win'] = win \n",
    "\n",
    "def win(x):\n",
    "\n",
    "        if x == 'Marin Cilic':\n",
    "            return 1\n",
    "        else:\n",
    "            return 0\n",
    "\n",
    "jugador.Win = jugador.Win.apply(win)\n",
    "\n",
    "jugador=jugador.drop(columns='Loser')\n",
    "\n",
    "jugador.Series=jugador.Series.apply(lambda x: series[x])\n",
    "jugador.Round=jugador.Round.apply(lambda x: rounds[x])\n",
    "\n",
    "\n",
    "jugador = jugador.drop(columns=['Tournament','Winner','Surface'])\n",
    "\n",
    "X=jugador.drop(columns = 'Win')\n",
    "y=jugador.Win\n",
    "\n",
    "data=pd.DataFrame(StandardScaler().fit_transform(X._get_numeric_data()),\\\n",
    "                     columns=X._get_numeric_data().columns)\n",
    "\n",
    "X_train, X_test, y_train, y_test = tts(data, y, train_size=0.8, test_size=0.2, random_state=42)\n",
    "\n",
    "clf = LazyClassifier(verbose=0, ignore_warnings=True, custom_metric=None)\n",
    "models, predictions = clf.fit(X_train, X_test, y_train, y_test)\n",
    "print(models)\n",
    "\n"
   ]
  },
  {
   "cell_type": "code",
   "execution_count": 257,
   "id": "a69dc8cb",
   "metadata": {},
   "outputs": [],
   "source": [
    "ABC = AdaBoostClassifier()\n",
    "ABC.fit(X_train, y_train)\n",
    "y_pred_cil=ABC.predict(X_test)"
   ]
  },
  {
   "cell_type": "code",
   "execution_count": 258,
   "id": "a69929fe",
   "metadata": {},
   "outputs": [],
   "source": [
    "ratecil= ratewins(y_pred_cil)"
   ]
  },
  {
   "cell_type": "code",
   "execution_count": 259,
   "id": "fdcf4d55",
   "metadata": {},
   "outputs": [
    {
     "data": {
      "text/plain": [
       "0.6"
      ]
     },
     "execution_count": 259,
     "metadata": {},
     "output_type": "execute_result"
    }
   ],
   "source": [
    "ratecil"
   ]
  },
  {
   "cell_type": "markdown",
   "id": "5ac5210c",
   "metadata": {},
   "source": [
    "### Denis Shapovalov"
   ]
  },
  {
   "cell_type": "code",
   "execution_count": 260,
   "id": "94fdb1e0",
   "metadata": {},
   "outputs": [
    {
     "name": "stderr",
     "output_type": "stream",
     "text": [
      "100%|██████████| 29/29 [00:00<00:00, 71.58it/s]"
     ]
    },
    {
     "name": "stdout",
     "output_type": "stream",
     "text": [
      "                               Accuracy  Balanced Accuracy  ROC AUC  F1 Score  \\\n",
      "Model                                                                           \n",
      "AdaBoostClassifier                 0.93               0.94     0.94      0.93   \n",
      "PassiveAggressiveClassifier        0.93               0.93     0.93      0.93   \n",
      "SGDClassifier                      0.93               0.93     0.93      0.93   \n",
      "RidgeClassifierCV                  0.93               0.93     0.93      0.93   \n",
      "RidgeClassifier                    0.93               0.93     0.93      0.93   \n",
      "Perceptron                         0.93               0.93     0.93      0.93   \n",
      "LinearSVC                          0.93               0.93     0.93      0.93   \n",
      "CalibratedClassifierCV             0.93               0.93     0.93      0.93   \n",
      "RandomForestClassifier             0.87               0.88     0.88      0.87   \n",
      "LGBMClassifier                     0.87               0.87     0.87      0.87   \n",
      "XGBClassifier                      0.87               0.87     0.87      0.87   \n",
      "LinearDiscriminantAnalysis         0.87               0.87     0.87      0.87   \n",
      "BaggingClassifier                  0.87               0.87     0.87      0.87   \n",
      "LogisticRegression                 0.87               0.87     0.87      0.87   \n",
      "DecisionTreeClassifier             0.87               0.87     0.87      0.87   \n",
      "NearestCentroid                    0.87               0.86     0.86      0.86   \n",
      "SVC                                0.80               0.80     0.80      0.80   \n",
      "BernoulliNB                        0.80               0.80     0.80      0.80   \n",
      "ExtraTreesClassifier               0.80               0.80     0.80      0.80   \n",
      "GaussianNB                         0.80               0.80     0.80      0.80   \n",
      "NuSVC                              0.80               0.80     0.80      0.80   \n",
      "LabelSpreading                     0.80               0.80     0.80      0.80   \n",
      "LabelPropagation                   0.80               0.80     0.80      0.80   \n",
      "KNeighborsClassifier               0.80               0.80     0.80      0.80   \n",
      "ExtraTreeClassifier                0.80               0.80     0.80      0.80   \n",
      "QuadraticDiscriminantAnalysis      0.47               0.50     0.50      0.30   \n",
      "DummyClassifier                    0.47               0.50     0.50      0.30   \n",
      "\n",
      "                               Time Taken  \n",
      "Model                                      \n",
      "AdaBoostClassifier                   0.05  \n",
      "PassiveAggressiveClassifier          0.01  \n",
      "SGDClassifier                        0.01  \n",
      "RidgeClassifierCV                    0.01  \n",
      "RidgeClassifier                      0.01  \n",
      "Perceptron                           0.01  \n",
      "LinearSVC                            0.01  \n",
      "CalibratedClassifierCV               0.01  \n",
      "RandomForestClassifier               0.08  \n",
      "LGBMClassifier                       0.06  \n",
      "XGBClassifier                        0.02  \n",
      "LinearDiscriminantAnalysis           0.01  \n",
      "BaggingClassifier                    0.02  \n",
      "LogisticRegression                   0.01  \n",
      "DecisionTreeClassifier               0.01  \n",
      "NearestCentroid                      0.01  \n",
      "SVC                                  0.01  \n",
      "BernoulliNB                          0.01  \n",
      "ExtraTreesClassifier                 0.06  \n",
      "GaussianNB                           0.01  \n",
      "NuSVC                                0.01  \n",
      "LabelSpreading                       0.01  \n",
      "LabelPropagation                     0.01  \n",
      "KNeighborsClassifier                 0.01  \n",
      "ExtraTreeClassifier                  0.01  \n",
      "QuadraticDiscriminantAnalysis        0.01  \n",
      "DummyClassifier                      0.01  \n"
     ]
    },
    {
     "name": "stderr",
     "output_type": "stream",
     "text": [
      "\n"
     ]
    }
   ],
   "source": [
    "primeraronda4wina = totaltorneos[(totaltorneos['Winner'] == 'Denis Shapovalov')]\n",
    "\n",
    "primeraronda4losea = totaltorneos[(totaltorneos['Loser'] == 'Denis Shapovalov')]\n",
    "\n",
    "jugador=pd.concat([primeraronda4wina,primeraronda4losea],axis=0)\n",
    "\n",
    "win=jugador.Winner\n",
    "\n",
    "jugador['Win'] = win \n",
    "\n",
    "def win(x):\n",
    "\n",
    "        if x == 'Denis Shapovalov':\n",
    "            return 1\n",
    "        else:\n",
    "            return 0\n",
    "\n",
    "jugador.Win = jugador.Win.apply(win)\n",
    "\n",
    "jugador=jugador.drop(columns='Loser')\n",
    "\n",
    "jugador.Series=jugador.Series.apply(lambda x: series[x])\n",
    "jugador.Round=jugador.Round.apply(lambda x: rounds[x])\n",
    "\n",
    "\n",
    "jugador = jugador.drop(columns=['Tournament','Winner','Surface'])\n",
    "\n",
    "X=jugador.drop(columns = 'Win')\n",
    "y=jugador.Win\n",
    "\n",
    "data=pd.DataFrame(StandardScaler().fit_transform(X._get_numeric_data()),\\\n",
    "                     columns=X._get_numeric_data().columns)\n",
    "\n",
    "X_train, X_test, y_train, y_test = tts(data, y, train_size=0.8, test_size=0.2, random_state=42)\n",
    "\n",
    "clf = LazyClassifier(verbose=0, ignore_warnings=True, custom_metric=None)\n",
    "models, predictions = clf.fit(X_train, X_test, y_train, y_test)\n",
    "print(models)\n",
    "\n"
   ]
  },
  {
   "cell_type": "code",
   "execution_count": 261,
   "id": "71a32f83",
   "metadata": {},
   "outputs": [],
   "source": [
    "ABC = AdaBoostClassifier()\n",
    "ABC.fit(X_train, y_train)\n",
    "y_pred_sha=ABC.predict(X_test)"
   ]
  },
  {
   "cell_type": "code",
   "execution_count": 262,
   "id": "5f5205ab",
   "metadata": {},
   "outputs": [],
   "source": [
    "ratesha= ratewins(y_pred_sha)"
   ]
  },
  {
   "cell_type": "code",
   "execution_count": 263,
   "id": "3430b534",
   "metadata": {},
   "outputs": [
    {
     "data": {
      "text/plain": [
       "0.4666666666666667"
      ]
     },
     "execution_count": 263,
     "metadata": {},
     "output_type": "execute_result"
    }
   ],
   "source": [
    "ratesha"
   ]
  },
  {
   "cell_type": "markdown",
   "id": "6683985d",
   "metadata": {},
   "source": [
    "### El ratio de victorias de Marin Cilic es mayor, por lo que consideremos que gana el encuentro y pasa a la siguiente ronda. Denis Shapovalov es eliminado.\n",
    "\n"
   ]
  },
  {
   "cell_type": "markdown",
   "id": "ed1da374",
   "metadata": {},
   "source": [
    "# Pareja 12"
   ]
  },
  {
   "cell_type": "code",
   "execution_count": 264,
   "id": "e551d6ae",
   "metadata": {},
   "outputs": [
    {
     "data": {
      "text/plain": [
       "['Frances Tiafoe', 'Karen Khachanov']"
      ]
     },
     "execution_count": 264,
     "metadata": {},
     "output_type": "execute_result"
    }
   ],
   "source": [
    "par12"
   ]
  },
  {
   "cell_type": "markdown",
   "id": "f12a60de",
   "metadata": {},
   "source": [
    "### Frances Tiafoe"
   ]
  },
  {
   "cell_type": "code",
   "execution_count": 265,
   "id": "0e20b480",
   "metadata": {},
   "outputs": [
    {
     "name": "stderr",
     "output_type": "stream",
     "text": [
      "100%|██████████| 29/29 [00:00<00:00, 76.06it/s]"
     ]
    },
    {
     "name": "stdout",
     "output_type": "stream",
     "text": [
      "                               Accuracy  Balanced Accuracy  ROC AUC  F1 Score  \\\n",
      "Model                                                                           \n",
      "AdaBoostClassifier                 1.00               1.00     1.00      1.00   \n",
      "LinearDiscriminantAnalysis         1.00               1.00     1.00      1.00   \n",
      "RidgeClassifierCV                  1.00               1.00     1.00      1.00   \n",
      "RidgeClassifier                    1.00               1.00     1.00      1.00   \n",
      "LGBMClassifier                     1.00               1.00     1.00      1.00   \n",
      "BernoulliNB                        0.92               0.94     0.94      0.92   \n",
      "ExtraTreeClassifier                0.92               0.94     0.94      0.92   \n",
      "PassiveAggressiveClassifier        0.92               0.94     0.94      0.92   \n",
      "LinearSVC                          0.92               0.90     0.90      0.92   \n",
      "QuadraticDiscriminantAnalysis      0.92               0.90     0.90      0.92   \n",
      "ExtraTreesClassifier               0.92               0.90     0.90      0.92   \n",
      "XGBClassifier                      0.92               0.90     0.90      0.92   \n",
      "SGDClassifier                      0.92               0.90     0.90      0.92   \n",
      "DecisionTreeClassifier             0.92               0.90     0.90      0.92   \n",
      "BaggingClassifier                  0.92               0.90     0.90      0.92   \n",
      "LogisticRegression                 0.92               0.90     0.90      0.92   \n",
      "RandomForestClassifier             0.92               0.90     0.90      0.92   \n",
      "KNeighborsClassifier               0.85               0.88     0.88      0.85   \n",
      "SVC                                0.85               0.84     0.84      0.85   \n",
      "NuSVC                              0.85               0.84     0.84      0.85   \n",
      "GaussianNB                         0.85               0.84     0.84      0.85   \n",
      "NearestCentroid                    0.77               0.81     0.81      0.77   \n",
      "LabelSpreading                     0.77               0.78     0.78      0.77   \n",
      "LabelPropagation                   0.77               0.78     0.78      0.77   \n",
      "Perceptron                         0.69               0.64     0.64      0.67   \n",
      "CalibratedClassifierCV             0.62               0.50     0.50      0.47   \n",
      "DummyClassifier                    0.62               0.50     0.50      0.47   \n",
      "\n",
      "                               Time Taken  \n",
      "Model                                      \n",
      "AdaBoostClassifier                   0.04  \n",
      "LinearDiscriminantAnalysis           0.01  \n",
      "RidgeClassifierCV                    0.01  \n",
      "RidgeClassifier                      0.01  \n",
      "LGBMClassifier                       0.05  \n",
      "BernoulliNB                          0.00  \n",
      "ExtraTreeClassifier                  0.00  \n",
      "PassiveAggressiveClassifier          0.01  \n",
      "LinearSVC                            0.01  \n",
      "QuadraticDiscriminantAnalysis        0.00  \n",
      "ExtraTreesClassifier                 0.06  \n",
      "XGBClassifier                        0.03  \n",
      "SGDClassifier                        0.01  \n",
      "DecisionTreeClassifier               0.00  \n",
      "BaggingClassifier                    0.01  \n",
      "LogisticRegression                   0.01  \n",
      "RandomForestClassifier               0.07  \n",
      "KNeighborsClassifier                 0.01  \n",
      "SVC                                  0.01  \n",
      "NuSVC                                0.01  \n",
      "GaussianNB                           0.01  \n",
      "NearestCentroid                      0.00  \n",
      "LabelSpreading                       0.01  \n",
      "LabelPropagation                     0.01  \n",
      "Perceptron                           0.01  \n",
      "CalibratedClassifierCV               0.01  \n",
      "DummyClassifier                      0.00  \n"
     ]
    },
    {
     "name": "stderr",
     "output_type": "stream",
     "text": [
      "\n"
     ]
    }
   ],
   "source": [
    "primeraronda7win = totaltorneos[(totaltorneos['Winner'] == 'Frances Tiafoe')]\n",
    "\n",
    "primeraronda7lose = totaltorneos[(totaltorneos['Loser'] == 'Frances Tiafoe')]\n",
    "\n",
    "jugador=pd.concat([primeraronda7win,primeraronda7lose],axis=0)\n",
    "\n",
    "win=jugador.Winner\n",
    "\n",
    "jugador['Win'] = win \n",
    "\n",
    "def win(x):\n",
    "\n",
    "        if x == 'Frances Tiafoe':\n",
    "            return 1\n",
    "        else:\n",
    "            return 0\n",
    "\n",
    "jugador.Win = jugador.Win.apply(win)\n",
    "\n",
    "jugador=jugador.drop(columns='Loser')\n",
    "\n",
    "jugador.Series=jugador.Series.apply(lambda x: series[x])\n",
    "jugador.Round=jugador.Round.apply(lambda x: rounds[x])\n",
    "\n",
    "\n",
    "jugador = jugador.drop(columns=['Tournament','Winner','Surface'])\n",
    "\n",
    "X=jugador.drop(columns = 'Win')\n",
    "y=jugador.Win\n",
    "\n",
    "data=pd.DataFrame(StandardScaler().fit_transform(X._get_numeric_data()),\\\n",
    "                     columns=X._get_numeric_data().columns)\n",
    "\n",
    "X_train, X_test, y_train, y_test = tts(data, y, train_size=0.8, test_size=0.2, random_state=42)\n",
    "\n",
    "clf = LazyClassifier(verbose=0, ignore_warnings=True, custom_metric=None)\n",
    "models, predictions = clf.fit(X_train, X_test, y_train, y_test)\n",
    "print(models)\n",
    "\n"
   ]
  },
  {
   "cell_type": "code",
   "execution_count": 266,
   "id": "71a16462",
   "metadata": {},
   "outputs": [],
   "source": [
    "ABC = AdaBoostClassifier()\n",
    "ABC.fit(X_train, y_train)\n",
    "y_pred_tia=ABC.predict(X_test)"
   ]
  },
  {
   "cell_type": "code",
   "execution_count": 267,
   "id": "26f434fd",
   "metadata": {},
   "outputs": [],
   "source": [
    "ratetia= ratewins(y_pred_tia)"
   ]
  },
  {
   "cell_type": "code",
   "execution_count": 268,
   "id": "a081d86b",
   "metadata": {},
   "outputs": [
    {
     "data": {
      "text/plain": [
       "0.38461538461538464"
      ]
     },
     "execution_count": 268,
     "metadata": {},
     "output_type": "execute_result"
    }
   ],
   "source": [
    "ratetia"
   ]
  },
  {
   "cell_type": "markdown",
   "id": "d4683a5b",
   "metadata": {},
   "source": [
    "### Karen Khachanov"
   ]
  },
  {
   "cell_type": "code",
   "execution_count": 269,
   "id": "78bb68c6",
   "metadata": {},
   "outputs": [
    {
     "name": "stderr",
     "output_type": "stream",
     "text": [
      "100%|██████████| 29/29 [00:00<00:00, 72.38it/s]"
     ]
    },
    {
     "name": "stdout",
     "output_type": "stream",
     "text": [
      "                               Accuracy  Balanced Accuracy  ROC AUC  F1 Score  \\\n",
      "Model                                                                           \n",
      "AdaBoostClassifier                 1.00               1.00     1.00      1.00   \n",
      "BaggingClassifier                  1.00               1.00     1.00      1.00   \n",
      "XGBClassifier                      1.00               1.00     1.00      1.00   \n",
      "DecisionTreeClassifier             1.00               1.00     1.00      1.00   \n",
      "RandomForestClassifier             1.00               1.00     1.00      1.00   \n",
      "ExtraTreesClassifier               1.00               1.00     1.00      1.00   \n",
      "SVC                                0.94               0.94     0.94      0.94   \n",
      "SGDClassifier                      0.94               0.94     0.94      0.94   \n",
      "NuSVC                              0.94               0.94     0.94      0.94   \n",
      "LogisticRegression                 0.94               0.94     0.94      0.94   \n",
      "LinearSVC                          0.94               0.94     0.94      0.94   \n",
      "ExtraTreeClassifier                0.94               0.94     0.94      0.94   \n",
      "LGBMClassifier                     0.94               0.93     0.93      0.94   \n",
      "LabelSpreading                     0.88               0.89     0.89      0.88   \n",
      "LabelPropagation                   0.88               0.89     0.89      0.88   \n",
      "KNeighborsClassifier               0.88               0.89     0.89      0.88   \n",
      "NearestCentroid                    0.88               0.89     0.89      0.88   \n",
      "GaussianNB                         0.88               0.87     0.87      0.88   \n",
      "PassiveAggressiveClassifier        0.88               0.87     0.87      0.88   \n",
      "RidgeClassifierCV                  0.88               0.87     0.87      0.88   \n",
      "BernoulliNB                        0.88               0.87     0.87      0.88   \n",
      "Perceptron                         0.81               0.82     0.82      0.81   \n",
      "LinearDiscriminantAnalysis         0.81               0.80     0.80      0.81   \n",
      "RidgeClassifier                    0.81               0.80     0.80      0.81   \n",
      "CalibratedClassifierCV             0.81               0.80     0.80      0.81   \n",
      "QuadraticDiscriminantAnalysis      0.56               0.50     0.50      0.40   \n",
      "DummyClassifier                    0.56               0.50     0.50      0.40   \n",
      "\n",
      "                               Time Taken  \n",
      "Model                                      \n",
      "AdaBoostClassifier                   0.04  \n",
      "BaggingClassifier                    0.01  \n",
      "XGBClassifier                        0.02  \n",
      "DecisionTreeClassifier               0.00  \n",
      "RandomForestClassifier               0.07  \n",
      "ExtraTreesClassifier                 0.06  \n",
      "SVC                                  0.01  \n",
      "SGDClassifier                        0.01  \n",
      "NuSVC                                0.01  \n",
      "LogisticRegression                   0.01  \n",
      "LinearSVC                            0.01  \n",
      "ExtraTreeClassifier                  0.00  \n",
      "LGBMClassifier                       0.06  \n",
      "LabelSpreading                       0.01  \n",
      "LabelPropagation                     0.01  \n",
      "KNeighborsClassifier                 0.01  \n",
      "NearestCentroid                      0.00  \n",
      "GaussianNB                           0.01  \n",
      "PassiveAggressiveClassifier          0.00  \n",
      "RidgeClassifierCV                    0.01  \n",
      "BernoulliNB                          0.00  \n",
      "Perceptron                           0.00  \n",
      "LinearDiscriminantAnalysis           0.01  \n",
      "RidgeClassifier                      0.01  \n",
      "CalibratedClassifierCV               0.02  \n",
      "QuadraticDiscriminantAnalysis        0.00  \n",
      "DummyClassifier                      0.00  \n"
     ]
    },
    {
     "name": "stderr",
     "output_type": "stream",
     "text": [
      "\n"
     ]
    }
   ],
   "source": [
    "primeraronda4wina = totaltorneos[(totaltorneos['Winner'] == 'Karen Khachanov')]\n",
    "\n",
    "primeraronda4losea = totaltorneos[(totaltorneos['Loser'] == 'Karen Khachanov')]\n",
    "\n",
    "jugador=pd.concat([primeraronda4wina,primeraronda4losea],axis=0)\n",
    "\n",
    "win=jugador.Winner\n",
    "\n",
    "jugador['Win'] = win \n",
    "\n",
    "def win(x):\n",
    "\n",
    "        if x == 'Karen Khachanov':\n",
    "            return 1\n",
    "        else:\n",
    "            return 0\n",
    "\n",
    "jugador.Win = jugador.Win.apply(win)\n",
    "\n",
    "jugador=jugador.drop(columns='Loser')\n",
    "\n",
    "jugador.Series=jugador.Series.apply(lambda x: series[x])\n",
    "jugador.Round=jugador.Round.apply(lambda x: rounds[x])\n",
    "\n",
    "\n",
    "jugador = jugador.drop(columns=['Tournament','Winner','Surface'])\n",
    "\n",
    "X=jugador.drop(columns = 'Win')\n",
    "y=jugador.Win\n",
    "\n",
    "data=pd.DataFrame(StandardScaler().fit_transform(X._get_numeric_data()),\\\n",
    "                     columns=X._get_numeric_data().columns)\n",
    "\n",
    "X_train, X_test, y_train, y_test = tts(data, y, train_size=0.8, test_size=0.2, random_state=42)\n",
    "\n",
    "clf = LazyClassifier(verbose=0, ignore_warnings=True, custom_metric=None)\n",
    "models, predictions = clf.fit(X_train, X_test, y_train, y_test)\n",
    "print(models)\n",
    "\n"
   ]
  },
  {
   "cell_type": "code",
   "execution_count": 270,
   "id": "2a14a06b",
   "metadata": {},
   "outputs": [],
   "source": [
    "ABC = AdaBoostClassifier()\n",
    "ABC.fit(X_train, y_train)\n",
    "y_pred_kac=ABC.predict(X_test)"
   ]
  },
  {
   "cell_type": "code",
   "execution_count": 271,
   "id": "0fd685a5",
   "metadata": {},
   "outputs": [],
   "source": [
    "ratekac= ratewins(y_pred_kac)"
   ]
  },
  {
   "cell_type": "code",
   "execution_count": 272,
   "id": "2b6efeb7",
   "metadata": {},
   "outputs": [
    {
     "data": {
      "text/plain": [
       "0.4375"
      ]
     },
     "execution_count": 272,
     "metadata": {},
     "output_type": "execute_result"
    }
   ],
   "source": [
    "ratekac"
   ]
  },
  {
   "cell_type": "markdown",
   "id": "b988635b",
   "metadata": {},
   "source": [
    "### El ratio de victorias Karen Khachanov de  es mayor, por lo que consideremos que gana el encuentro y pasa a la siguiente ronda. Frances Tiafoe es eliminado.\n",
    "\n"
   ]
  },
  {
   "cell_type": "markdown",
   "id": "cf8dd399",
   "metadata": {},
   "source": [
    "# Pareja 13"
   ]
  },
  {
   "cell_type": "code",
   "execution_count": 273,
   "id": "8e382c6b",
   "metadata": {},
   "outputs": [
    {
     "data": {
      "text/plain": [
       "['Roberto Bautista Agut', 'Grigor Dimitrov']"
      ]
     },
     "execution_count": 273,
     "metadata": {},
     "output_type": "execute_result"
    }
   ],
   "source": [
    "par13"
   ]
  },
  {
   "cell_type": "markdown",
   "id": "46e3770f",
   "metadata": {},
   "source": [
    "### Roberto Bautista Agut"
   ]
  },
  {
   "cell_type": "code",
   "execution_count": 274,
   "id": "1010a7a5",
   "metadata": {},
   "outputs": [
    {
     "name": "stderr",
     "output_type": "stream",
     "text": [
      "100%|██████████| 29/29 [00:00<00:00, 74.77it/s]"
     ]
    },
    {
     "name": "stdout",
     "output_type": "stream",
     "text": [
      "                               Accuracy  Balanced Accuracy  ROC AUC  F1 Score  \\\n",
      "Model                                                                           \n",
      "LinearSVC                          1.00               1.00     1.00      1.00   \n",
      "LinearDiscriminantAnalysis         1.00               1.00     1.00      1.00   \n",
      "SGDClassifier                      1.00               1.00     1.00      1.00   \n",
      "RidgeClassifierCV                  1.00               1.00     1.00      1.00   \n",
      "RidgeClassifier                    1.00               1.00     1.00      1.00   \n",
      "Perceptron                         1.00               1.00     1.00      1.00   \n",
      "PassiveAggressiveClassifier        1.00               1.00     1.00      1.00   \n",
      "NearestCentroid                    1.00               1.00     1.00      1.00   \n",
      "LogisticRegression                 1.00               1.00     1.00      1.00   \n",
      "LGBMClassifier                     1.00               1.00     1.00      1.00   \n",
      "KNeighborsClassifier               1.00               1.00     1.00      1.00   \n",
      "CalibratedClassifierCV             1.00               1.00     1.00      1.00   \n",
      "LabelPropagation                   0.93               0.94     0.94      0.93   \n",
      "LabelSpreading                     0.93               0.94     0.94      0.93   \n",
      "RandomForestClassifier             0.93               0.94     0.94      0.93   \n",
      "AdaBoostClassifier                 0.93               0.94     0.94      0.93   \n",
      "ExtraTreesClassifier               0.93               0.94     0.94      0.93   \n",
      "BaggingClassifier                  0.93               0.94     0.94      0.93   \n",
      "ExtraTreeClassifier                0.93               0.92     0.92      0.93   \n",
      "XGBClassifier                      0.93               0.92     0.92      0.93   \n",
      "BernoulliNB                        0.87               0.89     0.89      0.87   \n",
      "SVC                                0.87               0.89     0.89      0.87   \n",
      "DecisionTreeClassifier             0.87               0.86     0.86      0.87   \n",
      "NuSVC                              0.80               0.83     0.83      0.80   \n",
      "GaussianNB                         0.80               0.83     0.83      0.80   \n",
      "QuadraticDiscriminantAnalysis      0.40               0.50     0.50      0.23   \n",
      "DummyClassifier                    0.40               0.50     0.50      0.23   \n",
      "\n",
      "                               Time Taken  \n",
      "Model                                      \n",
      "LinearSVC                            0.01  \n",
      "LinearDiscriminantAnalysis           0.01  \n",
      "SGDClassifier                        0.00  \n",
      "RidgeClassifierCV                    0.01  \n",
      "RidgeClassifier                      0.01  \n",
      "Perceptron                           0.01  \n",
      "PassiveAggressiveClassifier          0.01  \n",
      "NearestCentroid                      0.00  \n",
      "LogisticRegression                   0.01  \n",
      "LGBMClassifier                       0.05  \n",
      "KNeighborsClassifier                 0.01  \n",
      "CalibratedClassifierCV               0.01  \n",
      "LabelPropagation                     0.00  \n",
      "LabelSpreading                       0.01  \n",
      "RandomForestClassifier               0.07  \n",
      "AdaBoostClassifier                   0.05  \n",
      "ExtraTreesClassifier                 0.06  \n",
      "BaggingClassifier                    0.01  \n",
      "ExtraTreeClassifier                  0.00  \n",
      "XGBClassifier                        0.02  \n",
      "BernoulliNB                          0.01  \n",
      "SVC                                  0.01  \n",
      "DecisionTreeClassifier               0.00  \n",
      "NuSVC                                0.01  \n",
      "GaussianNB                           0.00  \n",
      "QuadraticDiscriminantAnalysis        0.01  \n",
      "DummyClassifier                      0.00  \n"
     ]
    },
    {
     "name": "stderr",
     "output_type": "stream",
     "text": [
      "\n"
     ]
    }
   ],
   "source": [
    "primeraronda7win = totaltorneos[(totaltorneos['Winner'] == 'Roberto Bautista Agut')]\n",
    "\n",
    "primeraronda7lose = totaltorneos[(totaltorneos['Loser'] == 'Roberto Bautista Agut')]\n",
    "\n",
    "jugador=pd.concat([primeraronda7win,primeraronda7lose],axis=0)\n",
    "\n",
    "win=jugador.Winner\n",
    "\n",
    "jugador['Win'] = win \n",
    "\n",
    "def win(x):\n",
    "\n",
    "        if x == 'Roberto Bautista Agut':\n",
    "            return 1\n",
    "        else:\n",
    "            return 0\n",
    "\n",
    "jugador.Win = jugador.Win.apply(win)\n",
    "\n",
    "jugador=jugador.drop(columns='Loser')\n",
    "\n",
    "jugador.Series=jugador.Series.apply(lambda x: series[x])\n",
    "jugador.Round=jugador.Round.apply(lambda x: rounds[x])\n",
    "\n",
    "\n",
    "jugador = jugador.drop(columns=['Tournament','Winner','Surface'])\n",
    "\n",
    "X=jugador.drop(columns = 'Win')\n",
    "y=jugador.Win\n",
    "\n",
    "data=pd.DataFrame(StandardScaler().fit_transform(X._get_numeric_data()),\\\n",
    "                     columns=X._get_numeric_data().columns)\n",
    "\n",
    "X_train, X_test, y_train, y_test = tts(data, y, train_size=0.8, test_size=0.2, random_state=42)\n",
    "\n",
    "clf = LazyClassifier(verbose=0, ignore_warnings=True, custom_metric=None)\n",
    "models, predictions = clf.fit(X_train, X_test, y_train, y_test)\n",
    "print(models)\n",
    "\n"
   ]
  },
  {
   "cell_type": "code",
   "execution_count": 275,
   "id": "9a0b3381",
   "metadata": {},
   "outputs": [],
   "source": [
    "linearsvc = LinearSVC()\n",
    "linearsvc.fit(X_train, y_train)\n",
    "y_pred_bau=linearsvc.predict(X_test)"
   ]
  },
  {
   "cell_type": "code",
   "execution_count": 276,
   "id": "4c091103",
   "metadata": {},
   "outputs": [],
   "source": [
    "ratebau= ratewins(y_pred_bau)"
   ]
  },
  {
   "cell_type": "code",
   "execution_count": 277,
   "id": "8fa65c75",
   "metadata": {},
   "outputs": [
    {
     "data": {
      "text/plain": [
       "0.6"
      ]
     },
     "execution_count": 277,
     "metadata": {},
     "output_type": "execute_result"
    }
   ],
   "source": [
    "ratebau"
   ]
  },
  {
   "cell_type": "markdown",
   "id": "c67b68ae",
   "metadata": {},
   "source": [
    "### Grigor Dimitrov"
   ]
  },
  {
   "cell_type": "code",
   "execution_count": 278,
   "id": "b414fea4",
   "metadata": {},
   "outputs": [
    {
     "name": "stderr",
     "output_type": "stream",
     "text": [
      "100%|██████████| 29/29 [00:00<00:00, 76.27it/s]"
     ]
    },
    {
     "name": "stdout",
     "output_type": "stream",
     "text": [
      "                               Accuracy  Balanced Accuracy  ROC AUC  F1 Score  \\\n",
      "Model                                                                           \n",
      "AdaBoostClassifier                 1.00               1.00     1.00      1.00   \n",
      "LabelPropagation                   1.00               1.00     1.00      1.00   \n",
      "SVC                                1.00               1.00     1.00      1.00   \n",
      "RandomForestClassifier             1.00               1.00     1.00      1.00   \n",
      "PassiveAggressiveClassifier        1.00               1.00     1.00      1.00   \n",
      "NuSVC                              1.00               1.00     1.00      1.00   \n",
      "BaggingClassifier                  1.00               1.00     1.00      1.00   \n",
      "LinearDiscriminantAnalysis         1.00               1.00     1.00      1.00   \n",
      "LabelSpreading                     1.00               1.00     1.00      1.00   \n",
      "LinearSVC                          1.00               1.00     1.00      1.00   \n",
      "GaussianNB                         1.00               1.00     1.00      1.00   \n",
      "ExtraTreesClassifier               1.00               1.00     1.00      1.00   \n",
      "ExtraTreeClassifier                1.00               1.00     1.00      1.00   \n",
      "KNeighborsClassifier               0.92               0.94     0.94      0.92   \n",
      "XGBClassifier                      0.92               0.94     0.94      0.92   \n",
      "LGBMClassifier                     0.92               0.94     0.94      0.92   \n",
      "CalibratedClassifierCV             0.92               0.90     0.90      0.92   \n",
      "RidgeClassifier                    0.92               0.90     0.90      0.92   \n",
      "RidgeClassifierCV                  0.92               0.90     0.90      0.92   \n",
      "SGDClassifier                      0.92               0.90     0.90      0.92   \n",
      "BernoulliNB                        0.92               0.90     0.90      0.92   \n",
      "LogisticRegression                 0.92               0.90     0.90      0.92   \n",
      "DecisionTreeClassifier             0.85               0.88     0.88      0.85   \n",
      "Perceptron                         0.85               0.80     0.80      0.84   \n",
      "NearestCentroid                    0.69               0.64     0.64      0.67   \n",
      "DummyClassifier                    0.62               0.50     0.50      0.47   \n",
      "QuadraticDiscriminantAnalysis      0.62               0.50     0.50      0.47   \n",
      "\n",
      "                               Time Taken  \n",
      "Model                                      \n",
      "AdaBoostClassifier                   0.04  \n",
      "LabelPropagation                     0.01  \n",
      "SVC                                  0.01  \n",
      "RandomForestClassifier               0.07  \n",
      "PassiveAggressiveClassifier          0.01  \n",
      "NuSVC                                0.01  \n",
      "BaggingClassifier                    0.01  \n",
      "LinearDiscriminantAnalysis           0.01  \n",
      "LabelSpreading                       0.01  \n",
      "LinearSVC                            0.01  \n",
      "GaussianNB                           0.01  \n",
      "ExtraTreesClassifier                 0.06  \n",
      "ExtraTreeClassifier                  0.00  \n",
      "KNeighborsClassifier                 0.01  \n",
      "XGBClassifier                        0.03  \n",
      "LGBMClassifier                       0.04  \n",
      "CalibratedClassifierCV               0.01  \n",
      "RidgeClassifier                      0.01  \n",
      "RidgeClassifierCV                    0.01  \n",
      "SGDClassifier                        0.01  \n",
      "BernoulliNB                          0.00  \n",
      "LogisticRegression                   0.01  \n",
      "DecisionTreeClassifier               0.00  \n",
      "Perceptron                           0.00  \n",
      "NearestCentroid                      0.00  \n",
      "DummyClassifier                      0.00  \n",
      "QuadraticDiscriminantAnalysis        0.00  \n"
     ]
    },
    {
     "name": "stderr",
     "output_type": "stream",
     "text": [
      "\n"
     ]
    }
   ],
   "source": [
    "primeraronda4wina = totaltorneos[(totaltorneos['Winner'] == 'Grigor Dimitrov')]\n",
    "\n",
    "primeraronda4losea = totaltorneos[(totaltorneos['Loser'] == 'Grigor Dimitrov')]\n",
    "\n",
    "jugador=pd.concat([primeraronda4wina,primeraronda4losea],axis=0)\n",
    "\n",
    "win=jugador.Winner\n",
    "\n",
    "jugador['Win'] = win \n",
    "\n",
    "def win(x):\n",
    "\n",
    "        if x == 'Grigor Dimitrov':\n",
    "            return 1\n",
    "        else:\n",
    "            return 0\n",
    "\n",
    "jugador.Win = jugador.Win.apply(win)\n",
    "\n",
    "jugador=jugador.drop(columns='Loser')\n",
    "\n",
    "jugador.Series=jugador.Series.apply(lambda x: series[x])\n",
    "jugador.Round=jugador.Round.apply(lambda x: rounds[x])\n",
    "\n",
    "\n",
    "jugador = jugador.drop(columns=['Tournament','Winner','Surface'])\n",
    "\n",
    "X=jugador.drop(columns = 'Win')\n",
    "y=jugador.Win\n",
    "\n",
    "data=pd.DataFrame(StandardScaler().fit_transform(X._get_numeric_data()),\\\n",
    "                     columns=X._get_numeric_data().columns)\n",
    "\n",
    "X_train, X_test, y_train, y_test = tts(data, y, train_size=0.8, test_size=0.2, random_state=42)\n",
    "\n",
    "clf = LazyClassifier(verbose=0, ignore_warnings=True, custom_metric=None)\n",
    "models, predictions = clf.fit(X_train, X_test, y_train, y_test)\n",
    "print(models)\n",
    "\n"
   ]
  },
  {
   "cell_type": "code",
   "execution_count": 279,
   "id": "68112445",
   "metadata": {},
   "outputs": [],
   "source": [
    "ABC = AdaBoostClassifier()\n",
    "ABC.fit(X_train, y_train)\n",
    "y_pred_dim=ABC.predict(X_test)"
   ]
  },
  {
   "cell_type": "code",
   "execution_count": 280,
   "id": "16321753",
   "metadata": {},
   "outputs": [],
   "source": [
    "ratedim= ratewins(y_pred_dim)"
   ]
  },
  {
   "cell_type": "code",
   "execution_count": 281,
   "id": "76c4f9ba",
   "metadata": {},
   "outputs": [
    {
     "data": {
      "text/plain": [
       "0.38461538461538464"
      ]
     },
     "execution_count": 281,
     "metadata": {},
     "output_type": "execute_result"
    }
   ],
   "source": [
    "ratedim"
   ]
  },
  {
   "cell_type": "markdown",
   "id": "82d87ded",
   "metadata": {},
   "source": [
    "### El ratio de victorias Roberto Bautista Agut  es mayor, por lo que consideremos que gana el encuentro y pasa a la siguiente ronda. Grigor Dimitrov es eliminado.\n"
   ]
  },
  {
   "cell_type": "markdown",
   "id": "27864f9d",
   "metadata": {},
   "source": [
    "# Pareja 14"
   ]
  },
  {
   "cell_type": "code",
   "execution_count": 282,
   "id": "3ea2fddb",
   "metadata": {},
   "outputs": [
    {
     "data": {
      "text/plain": [
       "['Nick Kyrgios', 'Daniel Evans']"
      ]
     },
     "execution_count": 282,
     "metadata": {},
     "output_type": "execute_result"
    }
   ],
   "source": [
    "par14"
   ]
  },
  {
   "cell_type": "markdown",
   "id": "02cc18b1",
   "metadata": {},
   "source": [
    "### Nick Kyrgios"
   ]
  },
  {
   "cell_type": "code",
   "execution_count": 283,
   "id": "85ad75b9",
   "metadata": {},
   "outputs": [
    {
     "name": "stderr",
     "output_type": "stream",
     "text": [
      "100%|██████████| 29/29 [00:00<00:00, 81.63it/s]\n"
     ]
    },
    {
     "name": "stdout",
     "output_type": "stream",
     "text": [
      "                               Accuracy  Balanced Accuracy  ROC AUC  F1 Score  \\\n",
      "Model                                                                           \n",
      "LinearSVC                          1.00               1.00     1.00      1.00   \n",
      "RidgeClassifierCV                  1.00               1.00     1.00      1.00   \n",
      "RandomForestClassifier             1.00               1.00     1.00      1.00   \n",
      "SGDClassifier                      1.00               1.00     1.00      1.00   \n",
      "Perceptron                         1.00               1.00     1.00      1.00   \n",
      "PassiveAggressiveClassifier        1.00               1.00     1.00      1.00   \n",
      "NuSVC                              1.00               1.00     1.00      1.00   \n",
      "NearestCentroid                    1.00               1.00     1.00      1.00   \n",
      "LogisticRegression                 1.00               1.00     1.00      1.00   \n",
      "BaggingClassifier                  1.00               1.00     1.00      1.00   \n",
      "SVC                                1.00               1.00     1.00      1.00   \n",
      "LabelSpreading                     1.00               1.00     1.00      1.00   \n",
      "LabelPropagation                   1.00               1.00     1.00      1.00   \n",
      "KNeighborsClassifier               1.00               1.00     1.00      1.00   \n",
      "GaussianNB                         1.00               1.00     1.00      1.00   \n",
      "ExtraTreesClassifier               1.00               1.00     1.00      1.00   \n",
      "ExtraTreeClassifier                1.00               1.00     1.00      1.00   \n",
      "XGBClassifier                      1.00               1.00     1.00      1.00   \n",
      "DecisionTreeClassifier             1.00               1.00     1.00      1.00   \n",
      "CalibratedClassifierCV             1.00               1.00     1.00      1.00   \n",
      "BernoulliNB                        1.00               1.00     1.00      1.00   \n",
      "RidgeClassifier                    1.00               1.00     1.00      1.00   \n",
      "AdaBoostClassifier                 0.88               0.88     0.88      0.87   \n",
      "QuadraticDiscriminantAnalysis      0.88               0.88     0.88      0.87   \n",
      "LinearDiscriminantAnalysis         0.75               0.75     0.75      0.73   \n",
      "DummyClassifier                    0.50               0.50     0.50      0.33   \n",
      "LGBMClassifier                     0.50               0.50     0.50      0.33   \n",
      "\n",
      "                               Time Taken  \n",
      "Model                                      \n",
      "LinearSVC                            0.01  \n",
      "RidgeClassifierCV                    0.01  \n",
      "RandomForestClassifier               0.07  \n",
      "SGDClassifier                        0.01  \n",
      "Perceptron                           0.00  \n",
      "PassiveAggressiveClassifier          0.00  \n",
      "NuSVC                                0.01  \n",
      "NearestCentroid                      0.00  \n",
      "LogisticRegression                   0.01  \n",
      "BaggingClassifier                    0.01  \n",
      "SVC                                  0.01  \n",
      "LabelSpreading                       0.01  \n",
      "LabelPropagation                     0.00  \n",
      "KNeighborsClassifier                 0.01  \n",
      "GaussianNB                           0.01  \n",
      "ExtraTreesClassifier                 0.07  \n",
      "ExtraTreeClassifier                  0.00  \n",
      "XGBClassifier                        0.03  \n",
      "DecisionTreeClassifier               0.00  \n",
      "CalibratedClassifierCV               0.01  \n",
      "BernoulliNB                          0.00  \n",
      "RidgeClassifier                      0.01  \n",
      "AdaBoostClassifier                   0.04  \n",
      "QuadraticDiscriminantAnalysis        0.00  \n",
      "LinearDiscriminantAnalysis           0.01  \n",
      "DummyClassifier                      0.00  \n",
      "LGBMClassifier                       0.01  \n"
     ]
    }
   ],
   "source": [
    "primeraronda7win = totaltorneos[(totaltorneos['Winner'] == 'Nick Kyrgios')]\n",
    "\n",
    "primeraronda7lose = totaltorneos[(totaltorneos['Loser'] == 'Nick Kyrgios')]\n",
    "\n",
    "jugador=pd.concat([primeraronda7win,primeraronda7lose],axis=0)\n",
    "\n",
    "win=jugador.Winner\n",
    "\n",
    "jugador['Win'] = win \n",
    "\n",
    "def win(x):\n",
    "\n",
    "        if x == 'Nick Kyrgios':\n",
    "            return 1\n",
    "        else:\n",
    "            return 0\n",
    "\n",
    "jugador.Win = jugador.Win.apply(win)\n",
    "\n",
    "jugador=jugador.drop(columns='Loser')\n",
    "\n",
    "jugador.Series=jugador.Series.apply(lambda x: series[x])\n",
    "jugador.Round=jugador.Round.apply(lambda x: rounds[x])\n",
    "\n",
    "\n",
    "jugador = jugador.drop(columns=['Tournament','Winner','Surface'])\n",
    "\n",
    "X=jugador.drop(columns = 'Win')\n",
    "y=jugador.Win\n",
    "\n",
    "data=pd.DataFrame(StandardScaler().fit_transform(X._get_numeric_data()),\\\n",
    "                     columns=X._get_numeric_data().columns)\n",
    "\n",
    "X_train, X_test, y_train, y_test = tts(data, y, train_size=0.8, test_size=0.2, random_state=42)\n",
    "\n",
    "clf = LazyClassifier(verbose=0, ignore_warnings=True, custom_metric=None)\n",
    "models, predictions = clf.fit(X_train, X_test, y_train, y_test)\n",
    "print(models)\n",
    "\n"
   ]
  },
  {
   "cell_type": "code",
   "execution_count": 284,
   "id": "9b418590",
   "metadata": {},
   "outputs": [],
   "source": [
    "linearsvc = LinearSVC()\n",
    "linearsvc.fit(X_train, y_train)\n",
    "y_pred_kir=linearsvc.predict(X_test)"
   ]
  },
  {
   "cell_type": "code",
   "execution_count": 285,
   "id": "63cab3f8",
   "metadata": {},
   "outputs": [],
   "source": [
    "ratekir= ratewins(y_pred_kir)"
   ]
  },
  {
   "cell_type": "code",
   "execution_count": 286,
   "id": "8e696606",
   "metadata": {},
   "outputs": [
    {
     "data": {
      "text/plain": [
       "0.5"
      ]
     },
     "execution_count": 286,
     "metadata": {},
     "output_type": "execute_result"
    }
   ],
   "source": [
    "ratekir"
   ]
  },
  {
   "cell_type": "markdown",
   "id": "f55d0b46",
   "metadata": {},
   "source": [
    "### Daniel Evans"
   ]
  },
  {
   "cell_type": "code",
   "execution_count": 287,
   "id": "c89bed93",
   "metadata": {},
   "outputs": [
    {
     "name": "stderr",
     "output_type": "stream",
     "text": [
      "100%|██████████| 29/29 [00:00<00:00, 68.21it/s]"
     ]
    },
    {
     "name": "stdout",
     "output_type": "stream",
     "text": [
      "                               Accuracy  Balanced Accuracy  ROC AUC  F1 Score  \\\n",
      "Model                                                                           \n",
      "AdaBoostClassifier                 1.00               1.00     1.00      1.00   \n",
      "ExtraTreesClassifier               1.00               1.00     1.00      1.00   \n",
      "XGBClassifier                      1.00               1.00     1.00      1.00   \n",
      "SVC                                1.00               1.00     1.00      1.00   \n",
      "LabelSpreading                     0.90               0.94     0.94      0.91   \n",
      "LabelPropagation                   0.90               0.94     0.94      0.91   \n",
      "RandomForestClassifier             0.90               0.94     0.94      0.91   \n",
      "ExtraTreeClassifier                0.90               0.94     0.94      0.91   \n",
      "DecisionTreeClassifier             0.90               0.94     0.94      0.91   \n",
      "NuSVC                              0.90               0.94     0.94      0.91   \n",
      "BaggingClassifier                  0.70               0.81     0.81      0.73   \n",
      "KNeighborsClassifier               0.60               0.75     0.75      0.63   \n",
      "BernoulliNB                        0.60               0.75     0.75      0.63   \n",
      "QuadraticDiscriminantAnalysis      0.90               0.75     0.75      0.89   \n",
      "NearestCentroid                    0.60               0.75     0.75      0.63   \n",
      "PassiveAggressiveClassifier        0.80               0.69     0.69      0.80   \n",
      "Perceptron                         0.80               0.69     0.69      0.80   \n",
      "LinearSVC                          0.80               0.69     0.69      0.80   \n",
      "LogisticRegression                 0.80               0.69     0.69      0.80   \n",
      "CalibratedClassifierCV             0.80               0.69     0.69      0.80   \n",
      "LinearDiscriminantAnalysis         0.70               0.62     0.62      0.72   \n",
      "GaussianNB                         0.70               0.62     0.62      0.72   \n",
      "RidgeClassifier                    0.70               0.62     0.62      0.72   \n",
      "RidgeClassifierCV                  0.70               0.62     0.62      0.72   \n",
      "SGDClassifier                      0.70               0.62     0.62      0.72   \n",
      "DummyClassifier                    0.80               0.50     0.50      0.71   \n",
      "LGBMClassifier                     0.80               0.50     0.50      0.71   \n",
      "\n",
      "                               Time Taken  \n",
      "Model                                      \n",
      "AdaBoostClassifier                   0.04  \n",
      "ExtraTreesClassifier                 0.06  \n",
      "XGBClassifier                        0.09  \n",
      "SVC                                  0.01  \n",
      "LabelSpreading                       0.01  \n",
      "LabelPropagation                     0.00  \n",
      "RandomForestClassifier               0.07  \n",
      "ExtraTreeClassifier                  0.00  \n",
      "DecisionTreeClassifier               0.00  \n",
      "NuSVC                                0.01  \n",
      "BaggingClassifier                    0.01  \n",
      "KNeighborsClassifier                 0.01  \n",
      "BernoulliNB                          0.00  \n",
      "QuadraticDiscriminantAnalysis        0.00  \n",
      "NearestCentroid                      0.00  \n",
      "PassiveAggressiveClassifier          0.00  \n",
      "Perceptron                           0.00  \n",
      "LinearSVC                            0.01  \n",
      "LogisticRegression                   0.01  \n",
      "CalibratedClassifierCV               0.01  \n",
      "LinearDiscriminantAnalysis           0.01  \n",
      "GaussianNB                           0.01  \n",
      "RidgeClassifier                      0.01  \n",
      "RidgeClassifierCV                    0.01  \n",
      "SGDClassifier                        0.01  \n",
      "DummyClassifier                      0.00  \n",
      "LGBMClassifier                       0.03  \n"
     ]
    },
    {
     "name": "stderr",
     "output_type": "stream",
     "text": [
      "\n"
     ]
    }
   ],
   "source": [
    "primeraronda4wina = totaltorneos[(totaltorneos['Winner'] == 'Daniel Evans')]\n",
    "\n",
    "primeraronda4losea = totaltorneos[(totaltorneos['Loser'] == 'Daniel Evans')]\n",
    "\n",
    "jugador=pd.concat([primeraronda4wina,primeraronda4losea],axis=0)\n",
    "\n",
    "win=jugador.Winner\n",
    "\n",
    "jugador['Win'] = win \n",
    "\n",
    "def win(x):\n",
    "\n",
    "        if x == 'Daniel Evans':\n",
    "            return 1\n",
    "        else:\n",
    "            return 0\n",
    "\n",
    "jugador.Win = jugador.Win.apply(win)\n",
    "\n",
    "jugador=jugador.drop(columns='Loser')\n",
    "\n",
    "jugador.Series=jugador.Series.apply(lambda x: series[x])\n",
    "jugador.Round=jugador.Round.apply(lambda x: rounds[x])\n",
    "\n",
    "\n",
    "jugador = jugador.drop(columns=['Tournament','Winner','Surface'])\n",
    "\n",
    "X=jugador.drop(columns = 'Win')\n",
    "y=jugador.Win\n",
    "\n",
    "data=pd.DataFrame(StandardScaler().fit_transform(X._get_numeric_data()),\\\n",
    "                     columns=X._get_numeric_data().columns)\n",
    "\n",
    "X_train, X_test, y_train, y_test = tts(data, y, train_size=0.8, test_size=0.2, random_state=42)\n",
    "\n",
    "clf = LazyClassifier(verbose=0, ignore_warnings=True, custom_metric=None)\n",
    "models, predictions = clf.fit(X_train, X_test, y_train, y_test)\n",
    "print(models)\n",
    "\n"
   ]
  },
  {
   "cell_type": "code",
   "execution_count": 288,
   "id": "a16c1dfa",
   "metadata": {},
   "outputs": [],
   "source": [
    "ABC = AdaBoostClassifier()\n",
    "ABC.fit(X_train, y_train)\n",
    "y_pred_eva=ABC.predict(X_test)"
   ]
  },
  {
   "cell_type": "code",
   "execution_count": 289,
   "id": "b0122ede",
   "metadata": {},
   "outputs": [],
   "source": [
    "rateeva= ratewins(y_pred_eva)"
   ]
  },
  {
   "cell_type": "code",
   "execution_count": 290,
   "id": "df42ecba",
   "metadata": {},
   "outputs": [
    {
     "data": {
      "text/plain": [
       "0.2"
      ]
     },
     "execution_count": 290,
     "metadata": {},
     "output_type": "execute_result"
    }
   ],
   "source": [
    "rateeva"
   ]
  },
  {
   "cell_type": "markdown",
   "id": "9b67b11e",
   "metadata": {},
   "source": [
    "### El ratio de victorias Nick Kyrgios es mayor, por lo que consideremos que gana el encuentro y pasa a la siguiente ronda. Daniel Evans es eliminado.\n"
   ]
  },
  {
   "cell_type": "markdown",
   "id": "56bb7fab",
   "metadata": {},
   "source": [
    "# Pareja 15"
   ]
  },
  {
   "cell_type": "code",
   "execution_count": 291,
   "id": "5782beb4",
   "metadata": {},
   "outputs": [
    {
     "data": {
      "text/plain": [
       "['Lorenzo Musetti', 'Borna Coric']"
      ]
     },
     "execution_count": 291,
     "metadata": {},
     "output_type": "execute_result"
    }
   ],
   "source": [
    "par15"
   ]
  },
  {
   "cell_type": "markdown",
   "id": "20eb5c10",
   "metadata": {},
   "source": [
    "### Lorenzo Musetti"
   ]
  },
  {
   "cell_type": "code",
   "execution_count": 292,
   "id": "3abf05aa",
   "metadata": {},
   "outputs": [
    {
     "name": "stderr",
     "output_type": "stream",
     "text": [
      "100%|██████████| 29/29 [00:00<00:00, 81.94it/s]"
     ]
    },
    {
     "name": "stdout",
     "output_type": "stream",
     "text": [
      "                               Accuracy  Balanced Accuracy  ROC AUC  F1 Score  \\\n",
      "Model                                                                           \n",
      "LinearSVC                          1.00               1.00     1.00      1.00   \n",
      "XGBClassifier                      1.00               1.00     1.00      1.00   \n",
      "LinearDiscriminantAnalysis         1.00               1.00     1.00      1.00   \n",
      "KNeighborsClassifier               1.00               1.00     1.00      1.00   \n",
      "CalibratedClassifierCV             1.00               1.00     1.00      1.00   \n",
      "BernoulliNB                        1.00               1.00     1.00      1.00   \n",
      "SGDClassifier                      0.83               0.83     0.83      0.83   \n",
      "ExtraTreesClassifier               0.83               0.83     0.83      0.83   \n",
      "RidgeClassifierCV                  0.83               0.83     0.83      0.83   \n",
      "Perceptron                         0.83               0.83     0.83      0.83   \n",
      "RidgeClassifier                    0.83               0.83     0.83      0.83   \n",
      "RandomForestClassifier             0.83               0.83     0.83      0.83   \n",
      "BaggingClassifier                  0.83               0.83     0.83      0.83   \n",
      "LogisticRegression                 0.83               0.83     0.83      0.83   \n",
      "NearestCentroid                    0.83               0.83     0.83      0.83   \n",
      "PassiveAggressiveClassifier        0.83               0.83     0.83      0.83   \n",
      "SVC                                0.67               0.67     0.67      0.62   \n",
      "QuadraticDiscriminantAnalysis      0.67               0.67     0.67      0.62   \n",
      "AdaBoostClassifier                 0.67               0.67     0.67      0.62   \n",
      "NuSVC                              0.67               0.67     0.67      0.62   \n",
      "LabelSpreading                     0.67               0.67     0.67      0.67   \n",
      "LabelPropagation                   0.67               0.67     0.67      0.67   \n",
      "GaussianNB                         0.67               0.67     0.67      0.62   \n",
      "DecisionTreeClassifier             0.67               0.67     0.67      0.62   \n",
      "ExtraTreeClassifier                0.50               0.50     0.50      0.49   \n",
      "DummyClassifier                    0.50               0.50     0.50      0.33   \n",
      "LGBMClassifier                     0.50               0.50     0.50      0.33   \n",
      "\n",
      "                               Time Taken  \n",
      "Model                                      \n",
      "LinearSVC                            0.01  \n",
      "XGBClassifier                        0.04  \n",
      "LinearDiscriminantAnalysis           0.01  \n",
      "KNeighborsClassifier                 0.01  \n",
      "CalibratedClassifierCV               0.01  \n",
      "BernoulliNB                          0.01  \n",
      "SGDClassifier                        0.01  \n",
      "ExtraTreesClassifier                 0.06  \n",
      "RidgeClassifierCV                    0.01  \n",
      "Perceptron                           0.00  \n",
      "RidgeClassifier                      0.01  \n",
      "RandomForestClassifier               0.07  \n",
      "BaggingClassifier                    0.01  \n",
      "LogisticRegression                   0.01  \n",
      "NearestCentroid                      0.00  \n",
      "PassiveAggressiveClassifier          0.00  \n",
      "SVC                                  0.01  \n",
      "QuadraticDiscriminantAnalysis        0.00  \n",
      "AdaBoostClassifier                   0.04  \n",
      "NuSVC                                0.00  \n",
      "LabelSpreading                       0.01  \n",
      "LabelPropagation                     0.01  \n",
      "GaussianNB                           0.01  \n",
      "DecisionTreeClassifier               0.00  \n",
      "ExtraTreeClassifier                  0.00  \n",
      "DummyClassifier                      0.00  \n",
      "LGBMClassifier                       0.01  \n"
     ]
    },
    {
     "name": "stderr",
     "output_type": "stream",
     "text": [
      "\n"
     ]
    }
   ],
   "source": [
    "primeraronda7win = totaltorneos[(totaltorneos['Winner'] == 'Lorenzo Musetti')]\n",
    "\n",
    "primeraronda7lose = totaltorneos[(totaltorneos['Loser'] == 'Lorenzo Musetti')]\n",
    "\n",
    "jugador=pd.concat([primeraronda7win,primeraronda7lose],axis=0)\n",
    "\n",
    "win=jugador.Winner\n",
    "\n",
    "jugador['Win'] = win \n",
    "\n",
    "def win(x):\n",
    "\n",
    "        if x == 'Lorenzo Musetti':\n",
    "            return 1\n",
    "        else:\n",
    "            return 0\n",
    "\n",
    "jugador.Win = jugador.Win.apply(win)\n",
    "\n",
    "jugador=jugador.drop(columns='Loser')\n",
    "\n",
    "jugador.Series=jugador.Series.apply(lambda x: series[x])\n",
    "jugador.Round=jugador.Round.apply(lambda x: rounds[x])\n",
    "\n",
    "\n",
    "jugador = jugador.drop(columns=['Tournament','Winner','Surface'])\n",
    "\n",
    "X=jugador.drop(columns = 'Win')\n",
    "y=jugador.Win\n",
    "\n",
    "data=pd.DataFrame(StandardScaler().fit_transform(X._get_numeric_data()),\\\n",
    "                     columns=X._get_numeric_data().columns)\n",
    "\n",
    "X_train, X_test, y_train, y_test = tts(data, y, train_size=0.8, test_size=0.2, random_state=42)\n",
    "\n",
    "clf = LazyClassifier(verbose=0, ignore_warnings=True, custom_metric=None)\n",
    "models, predictions = clf.fit(X_train, X_test, y_train, y_test)\n",
    "print(models)\n",
    "\n"
   ]
  },
  {
   "cell_type": "code",
   "execution_count": 293,
   "id": "e154e2a7",
   "metadata": {},
   "outputs": [],
   "source": [
    "linearsvc = LinearSVC()\n",
    "linearsvc.fit(X_train, y_train)\n",
    "y_pred_mus=linearsvc.predict(X_test)"
   ]
  },
  {
   "cell_type": "code",
   "execution_count": 294,
   "id": "8b8fbc50",
   "metadata": {},
   "outputs": [],
   "source": [
    "ratemus= ratewins(y_pred_mus)"
   ]
  },
  {
   "cell_type": "code",
   "execution_count": 295,
   "id": "289c78f5",
   "metadata": {},
   "outputs": [
    {
     "data": {
      "text/plain": [
       "0.5"
      ]
     },
     "execution_count": 295,
     "metadata": {},
     "output_type": "execute_result"
    }
   ],
   "source": [
    "ratemus"
   ]
  },
  {
   "cell_type": "markdown",
   "id": "b6dacb77",
   "metadata": {},
   "source": [
    "### Borna Coric"
   ]
  },
  {
   "cell_type": "code",
   "execution_count": 296,
   "id": "da43d3aa",
   "metadata": {},
   "outputs": [
    {
     "name": "stderr",
     "output_type": "stream",
     "text": [
      "100%|██████████| 29/29 [00:00<00:00, 72.91it/s]"
     ]
    },
    {
     "name": "stdout",
     "output_type": "stream",
     "text": [
      "                               Accuracy  Balanced Accuracy  ROC AUC  F1 Score  \\\n",
      "Model                                                                           \n",
      "ExtraTreesClassifier               1.00               1.00     1.00      1.00   \n",
      "GaussianNB                         1.00               1.00     1.00      1.00   \n",
      "RandomForestClassifier             1.00               1.00     1.00      1.00   \n",
      "AdaBoostClassifier                 0.90               0.93     0.93      0.90   \n",
      "SVC                                0.90               0.93     0.93      0.90   \n",
      "DecisionTreeClassifier             0.90               0.93     0.93      0.90   \n",
      "ExtraTreeClassifier                0.90               0.93     0.93      0.90   \n",
      "NuSVC                              0.90               0.93     0.93      0.90   \n",
      "BaggingClassifier                  0.90               0.93     0.93      0.90   \n",
      "NearestCentroid                    0.80               0.86     0.86      0.81   \n",
      "XGBClassifier                      0.80               0.86     0.86      0.81   \n",
      "SGDClassifier                      0.80               0.86     0.86      0.81   \n",
      "Perceptron                         0.80               0.86     0.86      0.81   \n",
      "PassiveAggressiveClassifier        0.80               0.86     0.86      0.81   \n",
      "LinearSVC                          0.80               0.86     0.86      0.81   \n",
      "LabelSpreading                     0.80               0.86     0.86      0.81   \n",
      "LabelPropagation                   0.80               0.86     0.86      0.81   \n",
      "LogisticRegression                 0.70               0.79     0.79      0.71   \n",
      "RidgeClassifier                    0.70               0.79     0.79      0.71   \n",
      "RidgeClassifierCV                  0.70               0.79     0.79      0.71   \n",
      "CalibratedClassifierCV             0.70               0.79     0.79      0.71   \n",
      "LinearDiscriminantAnalysis         0.60               0.71     0.71      0.60   \n",
      "KNeighborsClassifier               0.60               0.71     0.71      0.60   \n",
      "BernoulliNB                        0.70               0.69     0.69      0.71   \n",
      "LGBMClassifier                     0.60               0.62     0.62      0.62   \n",
      "QuadraticDiscriminantAnalysis      0.70               0.50     0.50      0.58   \n",
      "DummyClassifier                    0.30               0.50     0.50      0.14   \n",
      "\n",
      "                               Time Taken  \n",
      "Model                                      \n",
      "ExtraTreesClassifier                 0.06  \n",
      "GaussianNB                           0.01  \n",
      "RandomForestClassifier               0.07  \n",
      "AdaBoostClassifier                   0.04  \n",
      "SVC                                  0.01  \n",
      "DecisionTreeClassifier               0.00  \n",
      "ExtraTreeClassifier                  0.00  \n",
      "NuSVC                                0.00  \n",
      "BaggingClassifier                    0.01  \n",
      "NearestCentroid                      0.00  \n",
      "XGBClassifier                        0.04  \n",
      "SGDClassifier                        0.01  \n",
      "Perceptron                           0.00  \n",
      "PassiveAggressiveClassifier          0.00  \n",
      "LinearSVC                            0.01  \n",
      "LabelSpreading                       0.01  \n",
      "LabelPropagation                     0.01  \n",
      "LogisticRegression                   0.01  \n",
      "RidgeClassifier                      0.01  \n",
      "RidgeClassifierCV                    0.01  \n",
      "CalibratedClassifierCV               0.01  \n",
      "LinearDiscriminantAnalysis           0.01  \n",
      "KNeighborsClassifier                 0.01  \n",
      "BernoulliNB                          0.00  \n",
      "LGBMClassifier                       0.05  \n",
      "QuadraticDiscriminantAnalysis        0.00  \n",
      "DummyClassifier                      0.00  \n"
     ]
    },
    {
     "name": "stderr",
     "output_type": "stream",
     "text": [
      "\n"
     ]
    }
   ],
   "source": [
    "primeraronda4wina = totaltorneos[(totaltorneos['Winner'] == 'Borna Coric')]\n",
    "\n",
    "primeraronda4losea = totaltorneos[(totaltorneos['Loser'] == 'Borna Coric')]\n",
    "\n",
    "jugador=pd.concat([primeraronda4wina,primeraronda4losea],axis=0)\n",
    "\n",
    "win=jugador.Winner\n",
    "\n",
    "jugador['Win'] = win \n",
    "\n",
    "def win(x):\n",
    "\n",
    "        if x == 'Borna Coric':\n",
    "            return 1\n",
    "        else:\n",
    "            return 0\n",
    "\n",
    "jugador.Win = jugador.Win.apply(win)\n",
    "\n",
    "jugador=jugador.drop(columns='Loser')\n",
    "\n",
    "jugador.Series=jugador.Series.apply(lambda x: series[x])\n",
    "jugador.Round=jugador.Round.apply(lambda x: rounds[x])\n",
    "\n",
    "\n",
    "jugador = jugador.drop(columns=['Tournament','Winner','Surface'])\n",
    "\n",
    "X=jugador.drop(columns = 'Win')\n",
    "y=jugador.Win\n",
    "\n",
    "data=pd.DataFrame(StandardScaler().fit_transform(X._get_numeric_data()),\\\n",
    "                     columns=X._get_numeric_data().columns)\n",
    "\n",
    "X_train, X_test, y_train, y_test = tts(data, y, train_size=0.8, test_size=0.2, random_state=42)\n",
    "\n",
    "clf = LazyClassifier(verbose=0, ignore_warnings=True, custom_metric=None)\n",
    "models, predictions = clf.fit(X_train, X_test, y_train, y_test)\n",
    "print(models)\n",
    "\n"
   ]
  },
  {
   "cell_type": "code",
   "execution_count": 297,
   "id": "a5456964",
   "metadata": {},
   "outputs": [],
   "source": [
    "ETC = ExtraTreesClassifier()\n",
    "ETC.fit(X_train, y_train)\n",
    "y_pred_cor=ETC.predict(X_test)"
   ]
  },
  {
   "cell_type": "code",
   "execution_count": 298,
   "id": "cd45b13f",
   "metadata": {},
   "outputs": [],
   "source": [
    "ratecor= ratewins(y_pred_cor)"
   ]
  },
  {
   "cell_type": "code",
   "execution_count": 299,
   "id": "d1e36a46",
   "metadata": {},
   "outputs": [
    {
     "data": {
      "text/plain": [
       "0.3"
      ]
     },
     "execution_count": 299,
     "metadata": {},
     "output_type": "execute_result"
    }
   ],
   "source": [
    "ratecor"
   ]
  },
  {
   "cell_type": "markdown",
   "id": "2444ff6c",
   "metadata": {},
   "source": [
    "### El ratio de victorias Lorenzo Musetti es mayor, por lo que consideremos que gana el encuentro y pasa a la siguiente ronda. Borna Coric es eliminado.\n"
   ]
  },
  {
   "cell_type": "markdown",
   "id": "df410731",
   "metadata": {},
   "source": [
    "# Pareja 16"
   ]
  },
  {
   "cell_type": "code",
   "execution_count": 300,
   "id": "adbd2e24",
   "metadata": {},
   "outputs": [
    {
     "data": {
      "text/plain": [
       "['Alex de Minaur', 'Diego Schwartzman']"
      ]
     },
     "execution_count": 300,
     "metadata": {},
     "output_type": "execute_result"
    }
   ],
   "source": [
    "par16"
   ]
  },
  {
   "cell_type": "markdown",
   "id": "6c98ac75",
   "metadata": {},
   "source": [
    "### Alex de Minaur"
   ]
  },
  {
   "cell_type": "code",
   "execution_count": 301,
   "id": "10bf8ff2",
   "metadata": {},
   "outputs": [
    {
     "name": "stderr",
     "output_type": "stream",
     "text": [
      "100%|██████████| 29/29 [00:00<00:00, 74.43it/s]"
     ]
    },
    {
     "name": "stdout",
     "output_type": "stream",
     "text": [
      "                               Accuracy  Balanced Accuracy  ROC AUC  F1 Score  \\\n",
      "Model                                                                           \n",
      "LinearSVC                          1.00               1.00     1.00      1.00   \n",
      "BernoulliNB                        1.00               1.00     1.00      1.00   \n",
      "RandomForestClassifier             1.00               1.00     1.00      1.00   \n",
      "Perceptron                         1.00               1.00     1.00      1.00   \n",
      "PassiveAggressiveClassifier        1.00               1.00     1.00      1.00   \n",
      "LogisticRegression                 0.91               0.93     0.93      0.91   \n",
      "XGBClassifier                      0.91               0.93     0.93      0.91   \n",
      "SGDClassifier                      0.91               0.93     0.93      0.91   \n",
      "RidgeClassifierCV                  0.91               0.93     0.93      0.91   \n",
      "KNeighborsClassifier               0.91               0.93     0.93      0.91   \n",
      "NearestCentroid                    0.91               0.93     0.93      0.91   \n",
      "SVC                                0.91               0.88     0.88      0.91   \n",
      "NuSVC                              0.91               0.88     0.88      0.91   \n",
      "AdaBoostClassifier                 0.91               0.88     0.88      0.91   \n",
      "LabelSpreading                     0.91               0.88     0.88      0.91   \n",
      "LabelPropagation                   0.91               0.88     0.88      0.91   \n",
      "GaussianNB                         0.91               0.88     0.88      0.91   \n",
      "ExtraTreesClassifier               0.91               0.88     0.88      0.91   \n",
      "DecisionTreeClassifier             0.91               0.88     0.88      0.91   \n",
      "CalibratedClassifierCV             0.91               0.88     0.88      0.91   \n",
      "LGBMClassifier                     0.91               0.88     0.88      0.91   \n",
      "LinearDiscriminantAnalysis         0.82               0.86     0.86      0.82   \n",
      "RidgeClassifier                    0.82               0.86     0.86      0.82   \n",
      "BaggingClassifier                  0.82               0.80     0.80      0.82   \n",
      "ExtraTreeClassifier                0.82               0.80     0.80      0.82   \n",
      "QuadraticDiscriminantAnalysis      0.64               0.50     0.50      0.49   \n",
      "DummyClassifier                    0.64               0.50     0.50      0.49   \n",
      "\n",
      "                               Time Taken  \n",
      "Model                                      \n",
      "LinearSVC                            0.01  \n",
      "BernoulliNB                          0.00  \n",
      "RandomForestClassifier               0.07  \n",
      "Perceptron                           0.01  \n",
      "PassiveAggressiveClassifier          0.01  \n",
      "LogisticRegression                   0.01  \n",
      "XGBClassifier                        0.02  \n",
      "SGDClassifier                        0.01  \n",
      "RidgeClassifierCV                    0.01  \n",
      "KNeighborsClassifier                 0.01  \n",
      "NearestCentroid                      0.00  \n",
      "SVC                                  0.01  \n",
      "NuSVC                                0.01  \n",
      "AdaBoostClassifier                   0.04  \n",
      "LabelSpreading                       0.01  \n",
      "LabelPropagation                     0.01  \n",
      "GaussianNB                           0.01  \n",
      "ExtraTreesClassifier                 0.06  \n",
      "DecisionTreeClassifier               0.00  \n",
      "CalibratedClassifierCV               0.01  \n",
      "LGBMClassifier                       0.05  \n",
      "LinearDiscriminantAnalysis           0.01  \n",
      "RidgeClassifier                      0.01  \n",
      "BaggingClassifier                    0.01  \n",
      "ExtraTreeClassifier                  0.00  \n",
      "QuadraticDiscriminantAnalysis        0.00  \n",
      "DummyClassifier                      0.00  \n"
     ]
    },
    {
     "name": "stderr",
     "output_type": "stream",
     "text": [
      "\n"
     ]
    }
   ],
   "source": [
    "primeraronda7win = totaltorneos[(totaltorneos['Winner'] == 'Alex de Minaur')]\n",
    "\n",
    "primeraronda7lose = totaltorneos[(totaltorneos['Loser'] == 'Alex de Minaur')]\n",
    "\n",
    "jugador=pd.concat([primeraronda7win,primeraronda7lose],axis=0)\n",
    "\n",
    "win=jugador.Winner\n",
    "\n",
    "jugador['Win'] = win \n",
    "\n",
    "def win(x):\n",
    "\n",
    "        if x == 'Alex de Minaur':\n",
    "            return 1\n",
    "        else:\n",
    "            return 0\n",
    "\n",
    "jugador.Win = jugador.Win.apply(win)\n",
    "\n",
    "jugador=jugador.drop(columns='Loser')\n",
    "\n",
    "jugador.Series=jugador.Series.apply(lambda x: series[x])\n",
    "jugador.Round=jugador.Round.apply(lambda x: rounds[x])\n",
    "\n",
    "\n",
    "jugador = jugador.drop(columns=['Tournament','Winner','Surface'])\n",
    "\n",
    "X=jugador.drop(columns = 'Win')\n",
    "y=jugador.Win\n",
    "\n",
    "data=pd.DataFrame(StandardScaler().fit_transform(X._get_numeric_data()),\\\n",
    "                     columns=X._get_numeric_data().columns)\n",
    "\n",
    "X_train, X_test, y_train, y_test = tts(data, y, train_size=0.8, test_size=0.2, random_state=42)\n",
    "\n",
    "clf = LazyClassifier(verbose=0, ignore_warnings=True, custom_metric=None)\n",
    "models, predictions = clf.fit(X_train, X_test, y_train, y_test)\n",
    "print(models)\n",
    "\n"
   ]
  },
  {
   "cell_type": "code",
   "execution_count": 302,
   "id": "8603341a",
   "metadata": {},
   "outputs": [],
   "source": [
    "linearsvc = LinearSVC()\n",
    "linearsvc.fit(X_train, y_train)\n",
    "y_pred_min=linearsvc.predict(X_test)"
   ]
  },
  {
   "cell_type": "code",
   "execution_count": 303,
   "id": "defe5678",
   "metadata": {},
   "outputs": [],
   "source": [
    "ratemin= ratewins(y_pred_min)"
   ]
  },
  {
   "cell_type": "code",
   "execution_count": 304,
   "id": "2dd57f97",
   "metadata": {},
   "outputs": [
    {
     "data": {
      "text/plain": [
       "0.45454545454545453"
      ]
     },
     "execution_count": 304,
     "metadata": {},
     "output_type": "execute_result"
    }
   ],
   "source": [
    "ratemin"
   ]
  },
  {
   "cell_type": "markdown",
   "id": "0bfabd03",
   "metadata": {},
   "source": [
    "### Diego Schwartzman"
   ]
  },
  {
   "cell_type": "code",
   "execution_count": 305,
   "id": "c4045938",
   "metadata": {},
   "outputs": [
    {
     "name": "stderr",
     "output_type": "stream",
     "text": [
      "100%|██████████| 29/29 [00:00<00:00, 71.16it/s]"
     ]
    },
    {
     "name": "stdout",
     "output_type": "stream",
     "text": [
      "                               Accuracy  Balanced Accuracy  ROC AUC  F1 Score  \\\n",
      "Model                                                                           \n",
      "LinearSVC                          1.00               1.00     1.00      1.00   \n",
      "ExtraTreesClassifier               1.00               1.00     1.00      1.00   \n",
      "XGBClassifier                      1.00               1.00     1.00      1.00   \n",
      "RandomForestClassifier             1.00               1.00     1.00      1.00   \n",
      "LogisticRegression                 1.00               1.00     1.00      1.00   \n",
      "BaggingClassifier                  1.00               1.00     1.00      1.00   \n",
      "GaussianNB                         1.00               1.00     1.00      1.00   \n",
      "LGBMClassifier                     1.00               1.00     1.00      1.00   \n",
      "BernoulliNB                        1.00               1.00     1.00      1.00   \n",
      "CalibratedClassifierCV             1.00               1.00     1.00      1.00   \n",
      "ExtraTreeClassifier                0.93               0.94     0.94      0.93   \n",
      "Perceptron                         0.93               0.94     0.94      0.93   \n",
      "SVC                                0.93               0.94     0.94      0.93   \n",
      "SGDClassifier                      0.93               0.94     0.94      0.93   \n",
      "RidgeClassifierCV                  0.93               0.94     0.94      0.93   \n",
      "RidgeClassifier                    0.93               0.94     0.94      0.93   \n",
      "PassiveAggressiveClassifier        0.93               0.94     0.94      0.93   \n",
      "NearestCentroid                    0.93               0.94     0.94      0.93   \n",
      "LinearDiscriminantAnalysis         0.93               0.94     0.94      0.93   \n",
      "AdaBoostClassifier                 0.93               0.94     0.94      0.93   \n",
      "NuSVC                              0.93               0.93     0.93      0.93   \n",
      "LabelSpreading                     0.87               0.88     0.88      0.87   \n",
      "LabelPropagation                   0.87               0.88     0.88      0.87   \n",
      "KNeighborsClassifier               0.87               0.87     0.87      0.87   \n",
      "DecisionTreeClassifier             0.80               0.81     0.81      0.79   \n",
      "QuadraticDiscriminantAnalysis      0.53               0.50     0.50      0.37   \n",
      "DummyClassifier                    0.53               0.50     0.50      0.37   \n",
      "\n",
      "                               Time Taken  \n",
      "Model                                      \n",
      "LinearSVC                            0.01  \n",
      "ExtraTreesClassifier                 0.06  \n",
      "XGBClassifier                        0.03  \n",
      "RandomForestClassifier               0.08  \n",
      "LogisticRegression                   0.01  \n",
      "BaggingClassifier                    0.01  \n",
      "GaussianNB                           0.01  \n",
      "LGBMClassifier                       0.05  \n",
      "BernoulliNB                          0.00  \n",
      "CalibratedClassifierCV               0.01  \n",
      "ExtraTreeClassifier                  0.00  \n",
      "Perceptron                           0.01  \n",
      "SVC                                  0.01  \n",
      "SGDClassifier                        0.01  \n",
      "RidgeClassifierCV                    0.01  \n",
      "RidgeClassifier                      0.01  \n",
      "PassiveAggressiveClassifier          0.01  \n",
      "NearestCentroid                      0.01  \n",
      "LinearDiscriminantAnalysis           0.01  \n",
      "AdaBoostClassifier                   0.05  \n",
      "NuSVC                                0.01  \n",
      "LabelSpreading                       0.01  \n",
      "LabelPropagation                     0.01  \n",
      "KNeighborsClassifier                 0.01  \n",
      "DecisionTreeClassifier               0.00  \n",
      "QuadraticDiscriminantAnalysis        0.01  \n",
      "DummyClassifier                      0.00  \n"
     ]
    },
    {
     "name": "stderr",
     "output_type": "stream",
     "text": [
      "\n"
     ]
    }
   ],
   "source": [
    "primeraronda4wina = totaltorneos[(totaltorneos['Winner'] == 'Diego Schwartzman')]\n",
    "\n",
    "primeraronda4losea = totaltorneos[(totaltorneos['Loser'] == 'Diego Schwartzman')]\n",
    "\n",
    "jugador=pd.concat([primeraronda4wina,primeraronda4losea],axis=0)\n",
    "\n",
    "win=jugador.Winner\n",
    "\n",
    "jugador['Win'] = win \n",
    "\n",
    "def win(x):\n",
    "\n",
    "        if x == 'Diego Schwartzman':\n",
    "            return 1\n",
    "        else:\n",
    "            return 0\n",
    "\n",
    "jugador.Win = jugador.Win.apply(win)\n",
    "\n",
    "jugador=jugador.drop(columns='Loser')\n",
    "\n",
    "jugador.Series=jugador.Series.apply(lambda x: series[x])\n",
    "jugador.Round=jugador.Round.apply(lambda x: rounds[x])\n",
    "\n",
    "\n",
    "jugador = jugador.drop(columns=['Tournament','Winner','Surface'])\n",
    "\n",
    "X=jugador.drop(columns = 'Win')\n",
    "y=jugador.Win\n",
    "\n",
    "data=pd.DataFrame(StandardScaler().fit_transform(X._get_numeric_data()),\\\n",
    "                     columns=X._get_numeric_data().columns)\n",
    "\n",
    "X_train, X_test, y_train, y_test = tts(data, y, train_size=0.8, test_size=0.2, random_state=42)\n",
    "\n",
    "clf = LazyClassifier(verbose=0, ignore_warnings=True, custom_metric=None)\n",
    "models, predictions = clf.fit(X_train, X_test, y_train, y_test)\n",
    "print(models)\n",
    "\n"
   ]
  },
  {
   "cell_type": "code",
   "execution_count": 306,
   "id": "751cb0d1",
   "metadata": {},
   "outputs": [],
   "source": [
    "linearsvc = LinearSVC()\n",
    "linearsvc.fit(X_train, y_train)\n",
    "y_pred_sch=linearsvc.predict(X_test)"
   ]
  },
  {
   "cell_type": "code",
   "execution_count": 307,
   "id": "e385eb96",
   "metadata": {},
   "outputs": [],
   "source": [
    "ratesch= ratewins(y_pred_sch)"
   ]
  },
  {
   "cell_type": "code",
   "execution_count": 308,
   "id": "77726d40",
   "metadata": {},
   "outputs": [
    {
     "data": {
      "text/plain": [
       "0.4666666666666667"
      ]
     },
     "execution_count": 308,
     "metadata": {},
     "output_type": "execute_result"
    }
   ],
   "source": [
    "ratesch"
   ]
  },
  {
   "cell_type": "markdown",
   "id": "76b9a5c8",
   "metadata": {},
   "source": [
    "### El ratio de victorias Alex de Minaur es mayor, por lo que consideremos que gana el encuentro y pasa a la siguiente ronda.  Diego Schwartzman es eliminado.\n"
   ]
  },
  {
   "cell_type": "markdown",
   "id": "3f9ec6d9",
   "metadata": {},
   "source": [
    "# De la primera ronda salen los siguientes ganadores:\n"
   ]
  },
  {
   "cell_type": "markdown",
   "id": "fda80d51",
   "metadata": {},
   "source": [
    "# 4rd round"
   ]
  },
  {
   "cell_type": "code",
   "execution_count": 309,
   "id": "ab6240a3",
   "metadata": {},
   "outputs": [],
   "source": [
    "jugadoresquarterfinals = ['Stefanos Tsitsipas','Rafael Nadal','Casper Ruud','Novak Djokovic','Andrey Rublev',\n",
    "                          'Holger Rune','Alexander Zverev','Cameron Norrie','Matteo Berrettini','Carlos Alcaraz',\n",
    "                          'Marin Cilic','Karen Khachanov','Roberto Bautista Agut','Nick Kyrgios','Lorenzo Musetti',\n",
    "                          'Alex de Minaur']"
   ]
  },
  {
   "cell_type": "code",
   "execution_count": 310,
   "id": "dc45ab04",
   "metadata": {},
   "outputs": [],
   "source": [
    "parejaq1=[]\n",
    "for i in range(1):\n",
    "    random.seed(2)\n",
    "    parejaq1.append(random.sample(jugadoresquarterfinals,k=2))\n",
    "    for e in parejaq1[0]: \n",
    "        jugadoresquarterfinals.remove(e)\n",
    "parejaq2=[]\n",
    "for i in range(1):\n",
    "    random.seed(2)\n",
    "    parejaq2.append(random.sample(jugadoresquarterfinals,k=2))\n",
    "    for e in parejaq2[0]: \n",
    "        jugadoresquarterfinals.remove(e)\n",
    "parejaq3=[]\n",
    "for i in range(1):\n",
    "    random.seed(2)\n",
    "    parejaq3.append(random.sample(jugadoresquarterfinals,k=2))\n",
    "    for e in parejaq3[0]: \n",
    "        jugadoresquarterfinals.remove(e)\n",
    "parejaq4=[]\n",
    "for i in range(1):\n",
    "    random.seed(2)\n",
    "    \n",
    "    parejaq4.append(random.sample(jugadoresquarterfinals,k=2))\n",
    "    for e in parejaq4[0]: \n",
    "        jugadoresquarterfinals.remove(e)\n",
    "parejaq5=[]\n",
    "for i in range(1):\n",
    "    random.seed(2)\n",
    "    parejaq5.append(random.sample(jugadoresquarterfinals,k=2))\n",
    "    for e in parejaq5[0]: \n",
    "        jugadoresquarterfinals.remove(e)\n",
    "        \n",
    "parejaq6=[]\n",
    "for i in range(1):\n",
    "    random.seed(2)\n",
    "    parejaq6.append(random.sample(jugadoresquarterfinals,k=2))\n",
    "    for e in parejaq6[0]: \n",
    "        jugadoresquarterfinals.remove(e)\n",
    "parejaq7=[]\n",
    "for i in range(1):\n",
    "    random.seed(2)\n",
    "    parejaq7.append(random.sample(jugadoresquarterfinals,k=2))\n",
    "    for e in parejaq7[0]: \n",
    "        jugadoresquarterfinals.remove(e)\n",
    "parejaq8=[]\n",
    "for i in range(1):\n",
    "    random.seed(2)\n",
    "    parejaq8.append(random.sample(jugadoresquarterfinals,k=2))\n",
    "    for e in parejaq8[0]: \n",
    "        jugadoresquarterfinals.remove(e)"
   ]
  },
  {
   "cell_type": "code",
   "execution_count": 311,
   "id": "d647d080",
   "metadata": {},
   "outputs": [],
   "source": [
    "parq1=[]\n",
    "for i in parejaq1[0]:\n",
    "    parq1.append(i)\n",
    "parq2=[]\n",
    "for i in parejaq2[0]:\n",
    "    parq2.append(i)\n",
    "parq3=[]\n",
    "for i in parejaq3[0]:\n",
    "    parq3.append(i)\n",
    "parq4=[]\n",
    "for i in parejaq4[0]:\n",
    "    parq4.append(i)\n",
    "parq5=[]\n",
    "for i in parejaq5[0]:\n",
    "    parq5.append(i)\n",
    "parq6=[]\n",
    "for i in parejaq6[0]:\n",
    "    parq6.append(i)\n",
    "parq7=[]\n",
    "for i in parejaq7[0]:\n",
    "    parq7.append(i)\n",
    "parq8=[]\n",
    "for i in parejaq8[0]:\n",
    "    parq8.append(i)"
   ]
  },
  {
   "cell_type": "code",
   "execution_count": 312,
   "id": "d5d11d8b",
   "metadata": {},
   "outputs": [],
   "source": [
    "torneosquart=totaltorneos[(totaltorneos['Winner'] == 'Carlos Alcaraz') | (totaltorneos['Winner'] == 'Casper Ruud')\n",
    "               | (totaltorneos['Winner'] == 'Rafael Nadal') | (totaltorneos['Winner'] == 'Stefanos Tsitsipas')\n",
    "               | (totaltorneos['Winner'] == 'Andrey Rublev')| (totaltorneos['Winner'] == 'Novak Djokovic')\n",
    "               | (totaltorneos['Winner'] == 'Holger Rune') | (totaltorneos['Winner'] == 'Alexander Zverev')\n",
    "               | (totaltorneos['Winner'] == 'Cameron Norrie') | (totaltorneos['Winner'] == 'Matteo Berrettini')\n",
    "               | (totaltorneos['Winner'] == 'Marin Cilic') | (totaltorneos['Winner'] == 'Alex de Minaur')\n",
    "               | (totaltorneos['Winner'] == 'Karen Khachanov') | (totaltorneos['Winner'] == 'Roberto Bautista Agut') \n",
    "               | (totaltorneos['Winner'] == 'Nick Kyrgios') | (totaltorneos['Winner'] == 'Lorenzo Musetti')]                                                    \n",
    "\n",
    "                                                                   "
   ]
  },
  {
   "cell_type": "code",
   "execution_count": 313,
   "id": "8814c16e",
   "metadata": {},
   "outputs": [],
   "source": [
    "torneosquart=torneosquart[(torneosquart['Loser'] == 'Carlos Alcaraz') | (torneosquart['Loser'] == 'Casper Ruud')\n",
    "               | (torneosquart['Loser'] == 'Rafael Nadal') | (torneosquart['Loser'] == 'Stefanos Tsitsipas')\n",
    "               | (torneosquart['Loser'] == 'Andrey Rublev')| (torneosquart['Loser'] == 'Novak Djokovic')\n",
    "               | (torneosquart['Loser'] == 'Holger Rune') | (torneosquart['Loser'] == 'Alexander Zverev')\n",
    "               | (torneosquart['Loser'] == 'Cameron Norrie') | (torneosquart['Loser'] == 'Matteo Berrettini')\n",
    "               | (torneosquart['Loser'] == 'Marin Cilic') | (torneosquart['Loser'] == 'Alex de Minaur')\n",
    "               | (torneosquart['Loser'] == 'Karen Khachanov') | (torneosquart['Loser'] == 'Roberto Bautista Agut') \n",
    "               | (torneosquart['Loser'] == 'Nick Kyrgios') | (torneosquart['Loser'] == 'Lorenzo Musetti')] "
   ]
  },
  {
   "cell_type": "markdown",
   "id": "a68c0d1f",
   "metadata": {},
   "source": [
    "# Pareja 1"
   ]
  },
  {
   "cell_type": "code",
   "execution_count": 314,
   "id": "a0012363",
   "metadata": {},
   "outputs": [
    {
     "data": {
      "text/plain": [
       "['Rafael Nadal', 'Alex de Minaur']"
      ]
     },
     "execution_count": 314,
     "metadata": {},
     "output_type": "execute_result"
    }
   ],
   "source": [
    "parq1"
   ]
  },
  {
   "cell_type": "markdown",
   "id": "504ecdfb",
   "metadata": {},
   "source": [
    "### Rafael Nadal"
   ]
  },
  {
   "cell_type": "code",
   "execution_count": 315,
   "id": "4a77a5f5",
   "metadata": {},
   "outputs": [
    {
     "name": "stderr",
     "output_type": "stream",
     "text": [
      "100%|██████████| 29/29 [00:00<00:00, 84.98it/s]"
     ]
    },
    {
     "name": "stdout",
     "output_type": "stream",
     "text": [
      "                               Accuracy  Balanced Accuracy  ROC AUC  F1 Score  \\\n",
      "Model                                                                           \n",
      "LinearSVC                          1.00               1.00     1.00      1.00   \n",
      "SGDClassifier                      1.00               1.00     1.00      1.00   \n",
      "RidgeClassifier                    1.00               1.00     1.00      1.00   \n",
      "QuadraticDiscriminantAnalysis      1.00               1.00     1.00      1.00   \n",
      "Perceptron                         1.00               1.00     1.00      1.00   \n",
      "PassiveAggressiveClassifier        1.00               1.00     1.00      1.00   \n",
      "LogisticRegression                 1.00               1.00     1.00      1.00   \n",
      "BaggingClassifier                  1.00               1.00     1.00      1.00   \n",
      "LinearDiscriminantAnalysis         1.00               1.00     1.00      1.00   \n",
      "LabelSpreading                     0.91               0.88     0.88      0.91   \n",
      "AdaBoostClassifier                 0.91               0.88     0.88      0.91   \n",
      "LabelPropagation                   0.91               0.88     0.88      0.91   \n",
      "ExtraTreesClassifier               0.91               0.88     0.88      0.91   \n",
      "ExtraTreeClassifier                0.91               0.88     0.88      0.91   \n",
      "NearestCentroid                    0.82               0.86     0.86      0.82   \n",
      "BernoulliNB                        0.82               0.86     0.86      0.82   \n",
      "GaussianNB                         0.82               0.80     0.80      0.82   \n",
      "KNeighborsClassifier               0.82               0.75     0.75      0.80   \n",
      "DecisionTreeClassifier             0.82               0.75     0.75      0.80   \n",
      "RandomForestClassifier             0.82               0.75     0.75      0.80   \n",
      "CalibratedClassifierCV             0.82               0.75     0.75      0.80   \n",
      "RidgeClassifierCV                  0.82               0.75     0.75      0.80   \n",
      "XGBClassifier                      0.82               0.75     0.75      0.80   \n",
      "DummyClassifier                    0.64               0.50     0.50      0.49   \n",
      "SVC                                0.64               0.50     0.50      0.49   \n",
      "LGBMClassifier                     0.64               0.50     0.50      0.49   \n",
      "\n",
      "                               Time Taken  \n",
      "Model                                      \n",
      "LinearSVC                            0.01  \n",
      "SGDClassifier                        0.01  \n",
      "RidgeClassifier                      0.01  \n",
      "QuadraticDiscriminantAnalysis        0.00  \n",
      "Perceptron                           0.00  \n",
      "PassiveAggressiveClassifier          0.00  \n",
      "LogisticRegression                   0.01  \n",
      "BaggingClassifier                    0.01  \n",
      "LinearDiscriminantAnalysis           0.01  \n",
      "LabelSpreading                       0.01  \n",
      "AdaBoostClassifier                   0.04  \n",
      "LabelPropagation                     0.01  \n",
      "ExtraTreesClassifier                 0.06  \n",
      "ExtraTreeClassifier                  0.00  \n",
      "NearestCentroid                      0.00  \n",
      "BernoulliNB                          0.00  \n",
      "GaussianNB                           0.01  \n",
      "KNeighborsClassifier                 0.01  \n",
      "DecisionTreeClassifier               0.00  \n",
      "RandomForestClassifier               0.07  \n",
      "CalibratedClassifierCV               0.01  \n",
      "RidgeClassifierCV                    0.01  \n",
      "XGBClassifier                        0.02  \n",
      "DummyClassifier                      0.00  \n",
      "SVC                                  0.01  \n",
      "LGBMClassifier                       0.02  \n"
     ]
    },
    {
     "name": "stderr",
     "output_type": "stream",
     "text": [
      "\n"
     ]
    }
   ],
   "source": [
    "primeraronda7win = torneosquart[(torneosquart['Winner'] == 'Rafael Nadal')]\n",
    "\n",
    "primeraronda7lose = torneosquart[(torneosquart['Loser'] == 'Rafael Nadal')]\n",
    "\n",
    "jugador=pd.concat([primeraronda7win,primeraronda7lose],axis=0)\n",
    "\n",
    "win=jugador.Winner\n",
    "\n",
    "jugador['Win'] = win \n",
    "\n",
    "def win(x):\n",
    "\n",
    "        if x == 'Rafael Nadal':\n",
    "            return 1\n",
    "        else:\n",
    "            return 0\n",
    "\n",
    "jugador.Win = jugador.Win.apply(win)\n",
    "\n",
    "jugador=jugador.drop(columns='Loser')\n",
    "\n",
    "jugador.Series=jugador.Series.apply(lambda x: series[x])\n",
    "jugador.Round=jugador.Round.apply(lambda x: rounds[x])\n",
    "\n",
    "\n",
    "jugador = jugador.drop(columns=['Tournament','Winner','Surface'])\n",
    "\n",
    "X=jugador.drop(columns = 'Win')\n",
    "y=jugador.Win\n",
    "\n",
    "data=pd.DataFrame(StandardScaler().fit_transform(X._get_numeric_data()),\\\n",
    "                     columns=X._get_numeric_data().columns)\n",
    "\n",
    "X_train, X_test, y_train, y_test = tts(data, y, train_size=0.8, test_size=0.2, random_state=42)\n",
    "\n",
    "clf = LazyClassifier(verbose=0, ignore_warnings=True, custom_metric=None)\n",
    "models, predictions = clf.fit(X_train, X_test, y_train, y_test)\n",
    "print(models)\n",
    "\n"
   ]
  },
  {
   "cell_type": "code",
   "execution_count": 316,
   "id": "134b66d2",
   "metadata": {},
   "outputs": [],
   "source": [
    "linearsvc = LinearSVC()\n",
    "linearsvc.fit(X_train, y_train)\n",
    "y_pred_nad2=linearsvc.predict(X_test)"
   ]
  },
  {
   "cell_type": "code",
   "execution_count": 317,
   "id": "d128ced0",
   "metadata": {},
   "outputs": [],
   "source": [
    "ratenad2= ratewins(y_pred_nad2)"
   ]
  },
  {
   "cell_type": "code",
   "execution_count": 318,
   "id": "a9cb0a40",
   "metadata": {},
   "outputs": [
    {
     "data": {
      "text/plain": [
       "0.6363636363636364"
      ]
     },
     "execution_count": 318,
     "metadata": {},
     "output_type": "execute_result"
    }
   ],
   "source": [
    "ratenad2"
   ]
  },
  {
   "cell_type": "markdown",
   "id": "e7bf1aa2",
   "metadata": {},
   "source": [
    "### Alex de Minaur"
   ]
  },
  {
   "cell_type": "code",
   "execution_count": 319,
   "id": "5537e79a",
   "metadata": {},
   "outputs": [
    {
     "name": "stderr",
     "output_type": "stream",
     "text": [
      "100%|██████████| 29/29 [00:00<00:00, 97.50it/s]"
     ]
    },
    {
     "name": "stdout",
     "output_type": "stream",
     "text": [
      "                               Accuracy  Balanced Accuracy  ROC AUC  F1 Score  \\\n",
      "Model                                                                           \n",
      "AdaBoostClassifier                 1.00               1.00     1.00      1.00   \n",
      "LabelPropagation                   1.00               1.00     1.00      1.00   \n",
      "NuSVC                              1.00               1.00     1.00      1.00   \n",
      "RandomForestClassifier             1.00               1.00     1.00      1.00   \n",
      "LogisticRegression                 1.00               1.00     1.00      1.00   \n",
      "BaggingClassifier                  1.00               1.00     1.00      1.00   \n",
      "LabelSpreading                     1.00               1.00     1.00      1.00   \n",
      "PassiveAggressiveClassifier        1.00               1.00     1.00      1.00   \n",
      "ExtraTreesClassifier               1.00               1.00     1.00      1.00   \n",
      "ExtraTreeClassifier                1.00               1.00     1.00      1.00   \n",
      "SVC                                1.00               1.00     1.00      1.00   \n",
      "DecisionTreeClassifier             1.00               1.00     1.00      1.00   \n",
      "CalibratedClassifierCV             1.00               1.00     1.00      1.00   \n",
      "XGBClassifier                      1.00               1.00     1.00      1.00   \n",
      "SGDClassifier                      0.80               0.88     0.88      0.82   \n",
      "Perceptron                         0.80               0.88     0.88      0.82   \n",
      "RidgeClassifier                    0.80               0.88     0.88      0.82   \n",
      "RidgeClassifierCV                  0.80               0.88     0.88      0.82   \n",
      "LinearSVC                          0.80               0.88     0.88      0.82   \n",
      "NearestCentroid                    0.80               0.88     0.88      0.82   \n",
      "LinearDiscriminantAnalysis         0.80               0.88     0.88      0.82   \n",
      "BernoulliNB                        0.60               0.75     0.75      0.63   \n",
      "GaussianNB                         0.80               0.50     0.50      0.71   \n",
      "DummyClassifier                    0.80               0.50     0.50      0.71   \n",
      "LGBMClassifier                     0.80               0.50     0.50      0.71   \n",
      "QuadraticDiscriminantAnalysis      0.60               0.38     0.38      0.60   \n",
      "KNeighborsClassifier               0.60               0.38     0.38      0.60   \n",
      "\n",
      "                               Time Taken  \n",
      "Model                                      \n",
      "AdaBoostClassifier                   0.01  \n",
      "LabelPropagation                     0.01  \n",
      "NuSVC                                0.01  \n",
      "RandomForestClassifier               0.07  \n",
      "LogisticRegression                   0.01  \n",
      "BaggingClassifier                    0.01  \n",
      "LabelSpreading                       0.01  \n",
      "PassiveAggressiveClassifier          0.00  \n",
      "ExtraTreesClassifier                 0.05  \n",
      "ExtraTreeClassifier                  0.00  \n",
      "SVC                                  0.01  \n",
      "DecisionTreeClassifier               0.00  \n",
      "CalibratedClassifierCV               0.01  \n",
      "XGBClassifier                        0.02  \n",
      "SGDClassifier                        0.01  \n",
      "Perceptron                           0.00  \n",
      "RidgeClassifier                      0.01  \n",
      "RidgeClassifierCV                    0.01  \n",
      "LinearSVC                            0.01  \n",
      "NearestCentroid                      0.00  \n",
      "LinearDiscriminantAnalysis           0.01  \n",
      "BernoulliNB                          0.01  \n",
      "GaussianNB                           0.01  \n",
      "DummyClassifier                      0.01  \n",
      "LGBMClassifier                       0.01  \n",
      "QuadraticDiscriminantAnalysis        0.00  \n",
      "KNeighborsClassifier                 0.01  \n"
     ]
    },
    {
     "name": "stderr",
     "output_type": "stream",
     "text": [
      "\n"
     ]
    }
   ],
   "source": [
    "primeraronda4wina = torneosquart[(torneosquart['Winner'] == 'Alex de Minaur')]\n",
    "\n",
    "primeraronda4losea = torneosquart[(torneosquart['Loser'] == 'Alex de Minaur')]\n",
    "\n",
    "jugador=pd.concat([primeraronda4wina,primeraronda4losea],axis=0)\n",
    "\n",
    "win=jugador.Winner\n",
    "\n",
    "jugador['Win'] = win \n",
    "\n",
    "def win(x):\n",
    "\n",
    "        if x == 'Alex de Minaur':\n",
    "            return 1\n",
    "        else:\n",
    "            return 0\n",
    "\n",
    "jugador.Win = jugador.Win.apply(win)\n",
    "\n",
    "jugador=jugador.drop(columns='Loser')\n",
    "\n",
    "jugador.Series=jugador.Series.apply(lambda x: series[x])\n",
    "jugador.Round=jugador.Round.apply(lambda x: rounds[x])\n",
    "\n",
    "\n",
    "jugador = jugador.drop(columns=['Tournament','Winner','Surface'])\n",
    "\n",
    "X=jugador.drop(columns = 'Win')\n",
    "y=jugador.Win\n",
    "\n",
    "data=pd.DataFrame(StandardScaler().fit_transform(X._get_numeric_data()),\\\n",
    "                     columns=X._get_numeric_data().columns)\n",
    "\n",
    "X_train, X_test, y_train, y_test = tts(data, y, train_size=0.8, test_size=0.2, random_state=42)\n",
    "\n",
    "clf = LazyClassifier(verbose=0, ignore_warnings=True, custom_metric=None)\n",
    "models, predictions = clf.fit(X_train, X_test, y_train, y_test)\n",
    "print(models)\n",
    "\n"
   ]
  },
  {
   "cell_type": "code",
   "execution_count": 320,
   "id": "8cf3006f",
   "metadata": {},
   "outputs": [],
   "source": [
    "ABC = AdaBoostClassifier()\n",
    "ABC.fit(X_train, y_train)\n",
    "y_pred_min2=ABC.predict(X_test)"
   ]
  },
  {
   "cell_type": "code",
   "execution_count": 321,
   "id": "6c59dd16",
   "metadata": {},
   "outputs": [],
   "source": [
    "ratemin2= ratewins(y_pred_min2)"
   ]
  },
  {
   "cell_type": "code",
   "execution_count": 322,
   "id": "b793884c",
   "metadata": {},
   "outputs": [
    {
     "data": {
      "text/plain": [
       "0.2"
      ]
     },
     "execution_count": 322,
     "metadata": {},
     "output_type": "execute_result"
    }
   ],
   "source": [
    "ratemin2"
   ]
  },
  {
   "cell_type": "markdown",
   "id": "c256436b",
   "metadata": {},
   "source": [
    "### El ratio de victorias Rafael Nadal es mayor, por lo que consideremos que gana el encuentro y pasa a la siguiente ronda.  Alex de Minaur es eliminado.\n"
   ]
  },
  {
   "cell_type": "markdown",
   "id": "184417d4",
   "metadata": {},
   "source": [
    "# Pareja 2"
   ]
  },
  {
   "cell_type": "code",
   "execution_count": 323,
   "id": "0953140f",
   "metadata": {},
   "outputs": [
    {
     "data": {
      "text/plain": [
       "['Lorenzo Musetti', 'Stefanos Tsitsipas']"
      ]
     },
     "execution_count": 323,
     "metadata": {},
     "output_type": "execute_result"
    }
   ],
   "source": [
    "parq2"
   ]
  },
  {
   "cell_type": "markdown",
   "id": "5a61f2d4",
   "metadata": {},
   "source": [
    "### Lorenzo Musetti"
   ]
  },
  {
   "cell_type": "code",
   "execution_count": 324,
   "id": "b013f22f",
   "metadata": {},
   "outputs": [
    {
     "name": "stderr",
     "output_type": "stream",
     "text": [
      "100%|██████████| 29/29 [00:00<00:00, 99.97it/s]"
     ]
    },
    {
     "name": "stdout",
     "output_type": "stream",
     "text": [
      "                             Accuracy  Balanced Accuracy  ROC AUC  F1 Score  \\\n",
      "Model                                                                         \n",
      "AdaBoostClassifier               1.00               1.00     1.00      1.00   \n",
      "LinearDiscriminantAnalysis       1.00               1.00     1.00      1.00   \n",
      "SGDClassifier                    1.00               1.00     1.00      1.00   \n",
      "RidgeClassifierCV                1.00               1.00     1.00      1.00   \n",
      "RidgeClassifier                  1.00               1.00     1.00      1.00   \n",
      "RandomForestClassifier           1.00               1.00     1.00      1.00   \n",
      "Perceptron                       1.00               1.00     1.00      1.00   \n",
      "PassiveAggressiveClassifier      1.00               1.00     1.00      1.00   \n",
      "NearestCentroid                  1.00               1.00     1.00      1.00   \n",
      "LogisticRegression               1.00               1.00     1.00      1.00   \n",
      "BaggingClassifier                1.00               1.00     1.00      1.00   \n",
      "LinearSVC                        1.00               1.00     1.00      1.00   \n",
      "LabelSpreading                   1.00               1.00     1.00      1.00   \n",
      "LabelPropagation                 1.00               1.00     1.00      1.00   \n",
      "ExtraTreesClassifier             1.00               1.00     1.00      1.00   \n",
      "ExtraTreeClassifier              1.00               1.00     1.00      1.00   \n",
      "BernoulliNB                      1.00               1.00     1.00      1.00   \n",
      "DecisionTreeClassifier           0.67               0.75     0.75      0.67   \n",
      "KNeighborsClassifier             0.67               0.50     0.50      0.53   \n",
      "GaussianNB                       0.67               0.50     0.50      0.53   \n",
      "DummyClassifier                  0.67               0.50     0.50      0.53   \n",
      "SVC                              0.67               0.50     0.50      0.53   \n",
      "XGBClassifier                    0.67               0.50     0.50      0.53   \n",
      "LGBMClassifier                   0.67               0.50     0.50      0.53   \n",
      "\n",
      "                             Time Taken  \n",
      "Model                                    \n",
      "AdaBoostClassifier                 0.01  \n",
      "LinearDiscriminantAnalysis         0.01  \n",
      "SGDClassifier                      0.00  \n",
      "RidgeClassifierCV                  0.01  \n",
      "RidgeClassifier                    0.01  \n",
      "RandomForestClassifier             0.07  \n",
      "Perceptron                         0.00  \n",
      "PassiveAggressiveClassifier        0.00  \n",
      "NearestCentroid                    0.00  \n",
      "LogisticRegression                 0.01  \n",
      "BaggingClassifier                  0.01  \n",
      "LinearSVC                          0.00  \n",
      "LabelSpreading                     0.01  \n",
      "LabelPropagation                   0.01  \n",
      "ExtraTreesClassifier               0.05  \n",
      "ExtraTreeClassifier                0.00  \n",
      "BernoulliNB                        0.01  \n",
      "DecisionTreeClassifier             0.00  \n",
      "KNeighborsClassifier               0.01  \n",
      "GaussianNB                         0.01  \n",
      "DummyClassifier                    0.00  \n",
      "SVC                                0.00  \n",
      "XGBClassifier                      0.02  \n",
      "LGBMClassifier                     0.01  \n"
     ]
    },
    {
     "name": "stderr",
     "output_type": "stream",
     "text": [
      "\n"
     ]
    }
   ],
   "source": [
    "primeraronda7win = torneosquart[(torneosquart['Winner'] == 'Lorenzo Musetti')]\n",
    "\n",
    "primeraronda7lose = torneosquart[(torneosquart['Loser'] == 'Lorenzo Musetti')]\n",
    "\n",
    "jugador=pd.concat([primeraronda7win,primeraronda7lose],axis=0)\n",
    "\n",
    "win=jugador.Winner\n",
    "\n",
    "jugador['Win'] = win \n",
    "\n",
    "def win(x):\n",
    "\n",
    "        if x == 'Lorenzo Musetti':\n",
    "            return 1\n",
    "        else:\n",
    "            return 0\n",
    "\n",
    "jugador.Win = jugador.Win.apply(win)\n",
    "\n",
    "jugador=jugador.drop(columns='Loser')\n",
    "\n",
    "jugador.Series=jugador.Series.apply(lambda x: series[x])\n",
    "jugador.Round=jugador.Round.apply(lambda x: rounds[x])\n",
    "\n",
    "\n",
    "jugador = jugador.drop(columns=['Tournament','Winner','Surface'])\n",
    "\n",
    "X=jugador.drop(columns = 'Win')\n",
    "y=jugador.Win\n",
    "\n",
    "data=pd.DataFrame(StandardScaler().fit_transform(X._get_numeric_data()),\\\n",
    "                     columns=X._get_numeric_data().columns)\n",
    "\n",
    "X_train, X_test, y_train, y_test = tts(data, y, train_size=0.8, test_size=0.2, random_state=42)\n",
    "\n",
    "clf = LazyClassifier(verbose=0, ignore_warnings=True, custom_metric=None)\n",
    "models, predictions = clf.fit(X_train, X_test, y_train, y_test)\n",
    "print(models)\n",
    "\n"
   ]
  },
  {
   "cell_type": "code",
   "execution_count": 325,
   "id": "8dd054a8",
   "metadata": {},
   "outputs": [],
   "source": [
    "ABC = AdaBoostClassifier()\n",
    "ABC.fit(X_train, y_train)\n",
    "y_pred_mus2=ABC.predict(X_test)"
   ]
  },
  {
   "cell_type": "code",
   "execution_count": 326,
   "id": "7dc0dae2",
   "metadata": {},
   "outputs": [],
   "source": [
    "ratemus2= ratewins(y_pred_mus2)"
   ]
  },
  {
   "cell_type": "code",
   "execution_count": 327,
   "id": "23b93f80",
   "metadata": {},
   "outputs": [
    {
     "data": {
      "text/plain": [
       "0.3333333333333333"
      ]
     },
     "execution_count": 327,
     "metadata": {},
     "output_type": "execute_result"
    }
   ],
   "source": [
    "ratemus2"
   ]
  },
  {
   "cell_type": "markdown",
   "id": "bb95d100",
   "metadata": {},
   "source": [
    "### Stefanos Tsitsipas"
   ]
  },
  {
   "cell_type": "code",
   "execution_count": 328,
   "id": "5cabaa85",
   "metadata": {},
   "outputs": [
    {
     "name": "stderr",
     "output_type": "stream",
     "text": [
      "100%|██████████| 29/29 [00:00<00:00, 77.06it/s]"
     ]
    },
    {
     "name": "stdout",
     "output_type": "stream",
     "text": [
      "                               Accuracy  Balanced Accuracy  ROC AUC  F1 Score  \\\n",
      "Model                                                                           \n",
      "ExtraTreesClassifier               1.00               1.00     1.00      1.00   \n",
      "RandomForestClassifier             1.00               1.00     1.00      1.00   \n",
      "BaggingClassifier                  1.00               1.00     1.00      1.00   \n",
      "NuSVC                              0.92               0.93     0.93      0.92   \n",
      "SVC                                0.92               0.93     0.93      0.92   \n",
      "AdaBoostClassifier                 0.92               0.92     0.92      0.92   \n",
      "DecisionTreeClassifier             0.92               0.92     0.92      0.92   \n",
      "ExtraTreeClassifier                0.92               0.92     0.92      0.92   \n",
      "Perceptron                         0.92               0.92     0.92      0.92   \n",
      "XGBClassifier                      0.85               0.83     0.83      0.84   \n",
      "SGDClassifier                      0.85               0.83     0.83      0.84   \n",
      "RidgeClassifierCV                  0.85               0.83     0.83      0.84   \n",
      "RidgeClassifier                    0.85               0.83     0.83      0.84   \n",
      "PassiveAggressiveClassifier        0.85               0.83     0.83      0.84   \n",
      "LinearSVC                          0.85               0.83     0.83      0.84   \n",
      "LogisticRegression                 0.85               0.83     0.83      0.84   \n",
      "LinearDiscriminantAnalysis         0.85               0.83     0.83      0.84   \n",
      "LabelSpreading                     0.85               0.83     0.83      0.84   \n",
      "LabelPropagation                   0.85               0.83     0.83      0.84   \n",
      "CalibratedClassifierCV             0.85               0.83     0.83      0.84   \n",
      "LGBMClassifier                     0.85               0.83     0.83      0.84   \n",
      "NearestCentroid                    0.77               0.77     0.77      0.77   \n",
      "GaussianNB                         0.77               0.77     0.77      0.77   \n",
      "BernoulliNB                        0.77               0.77     0.77      0.77   \n",
      "KNeighborsClassifier               0.77               0.76     0.76      0.77   \n",
      "QuadraticDiscriminantAnalysis      0.46               0.50     0.50      0.29   \n",
      "DummyClassifier                    0.54               0.50     0.50      0.38   \n",
      "\n",
      "                               Time Taken  \n",
      "Model                                      \n",
      "ExtraTreesClassifier                 0.06  \n",
      "RandomForestClassifier               0.07  \n",
      "BaggingClassifier                    0.01  \n",
      "NuSVC                                0.01  \n",
      "SVC                                  0.01  \n",
      "AdaBoostClassifier                   0.04  \n",
      "DecisionTreeClassifier               0.01  \n",
      "ExtraTreeClassifier                  0.00  \n",
      "Perceptron                           0.00  \n",
      "XGBClassifier                        0.03  \n",
      "SGDClassifier                        0.01  \n",
      "RidgeClassifierCV                    0.01  \n",
      "RidgeClassifier                      0.01  \n",
      "PassiveAggressiveClassifier          0.01  \n",
      "LinearSVC                            0.01  \n",
      "LogisticRegression                   0.01  \n",
      "LinearDiscriminantAnalysis           0.01  \n",
      "LabelSpreading                       0.01  \n",
      "LabelPropagation                     0.01  \n",
      "CalibratedClassifierCV               0.01  \n",
      "LGBMClassifier                       0.03  \n",
      "NearestCentroid                      0.00  \n",
      "GaussianNB                           0.01  \n",
      "BernoulliNB                          0.01  \n",
      "KNeighborsClassifier                 0.01  \n",
      "QuadraticDiscriminantAnalysis        0.00  \n",
      "DummyClassifier                      0.01  \n"
     ]
    },
    {
     "name": "stderr",
     "output_type": "stream",
     "text": [
      "\n"
     ]
    }
   ],
   "source": [
    "primeraronda4wina = torneosquart[(torneosquart['Winner'] == 'Stefanos Tsitsipas')]\n",
    "\n",
    "primeraronda4losea = torneosquart[(torneosquart['Loser'] == 'Stefanos Tsitsipas')]\n",
    "\n",
    "jugador=pd.concat([primeraronda4wina,primeraronda4losea],axis=0)\n",
    "\n",
    "win=jugador.Winner\n",
    "\n",
    "jugador['Win'] = win \n",
    "\n",
    "def win(x):\n",
    "\n",
    "        if x == 'Stefanos Tsitsipas':\n",
    "            return 1\n",
    "        else:\n",
    "            return 0\n",
    "\n",
    "jugador.Win = jugador.Win.apply(win)\n",
    "\n",
    "jugador=jugador.drop(columns='Loser')\n",
    "\n",
    "jugador.Series=jugador.Series.apply(lambda x: series[x])\n",
    "jugador.Round=jugador.Round.apply(lambda x: rounds[x])\n",
    "\n",
    "\n",
    "jugador = jugador.drop(columns=['Tournament','Winner','Surface'])\n",
    "\n",
    "X=jugador.drop(columns = 'Win')\n",
    "y=jugador.Win\n",
    "\n",
    "data=pd.DataFrame(StandardScaler().fit_transform(X._get_numeric_data()),\\\n",
    "                     columns=X._get_numeric_data().columns)\n",
    "\n",
    "X_train, X_test, y_train, y_test = tts(data, y, train_size=0.8, test_size=0.2, random_state=42)\n",
    "\n",
    "clf = LazyClassifier(verbose=0, ignore_warnings=True, custom_metric=None)\n",
    "models, predictions = clf.fit(X_train, X_test, y_train, y_test)\n",
    "print(models)\n",
    "\n"
   ]
  },
  {
   "cell_type": "code",
   "execution_count": 329,
   "id": "c83eaf48",
   "metadata": {},
   "outputs": [],
   "source": [
    "etc = ExtraTreesClassifier()\n",
    "etc.fit(X_train, y_train)\n",
    "y_pred_tsi2=etc.predict(X_test)"
   ]
  },
  {
   "cell_type": "code",
   "execution_count": 330,
   "id": "d6831d3c",
   "metadata": {},
   "outputs": [],
   "source": [
    "ratetsi2= ratewins(y_pred_tsi2)"
   ]
  },
  {
   "cell_type": "code",
   "execution_count": 331,
   "id": "407d41c2",
   "metadata": {},
   "outputs": [
    {
     "data": {
      "text/plain": [
       "0.5384615384615384"
      ]
     },
     "execution_count": 331,
     "metadata": {},
     "output_type": "execute_result"
    }
   ],
   "source": [
    "ratetsi2"
   ]
  },
  {
   "cell_type": "markdown",
   "id": "9035a54b",
   "metadata": {},
   "source": [
    "### El ratio de victorias Stefanis Tsitsipas es mayor, por lo que consideremos que gana el encuentro y pasa a la siguiente ronda. Lorenzo Musetti  es eliminado.\n"
   ]
  },
  {
   "cell_type": "markdown",
   "id": "0a523291",
   "metadata": {},
   "source": [
    "# Pareja 3"
   ]
  },
  {
   "cell_type": "code",
   "execution_count": 332,
   "id": "e74a42ee",
   "metadata": {},
   "outputs": [
    {
     "data": {
      "text/plain": [
       "['Casper Ruud', 'Novak Djokovic']"
      ]
     },
     "execution_count": 332,
     "metadata": {},
     "output_type": "execute_result"
    }
   ],
   "source": [
    "parq3"
   ]
  },
  {
   "cell_type": "markdown",
   "id": "24fa0b4c",
   "metadata": {},
   "source": [
    "### Casper Ruud"
   ]
  },
  {
   "cell_type": "code",
   "execution_count": 333,
   "id": "c819c13d",
   "metadata": {},
   "outputs": [
    {
     "name": "stderr",
     "output_type": "stream",
     "text": [
      "100%|██████████| 29/29 [00:00<00:00, 69.12it/s]"
     ]
    },
    {
     "name": "stdout",
     "output_type": "stream",
     "text": [
      "                               Accuracy  Balanced Accuracy  ROC AUC  F1 Score  \\\n",
      "Model                                                                           \n",
      "AdaBoostClassifier                 1.00               1.00     1.00      1.00   \n",
      "BaggingClassifier                  1.00               1.00     1.00      1.00   \n",
      "XGBClassifier                      1.00               1.00     1.00      1.00   \n",
      "SVC                                1.00               1.00     1.00      1.00   \n",
      "SGDClassifier                      1.00               1.00     1.00      1.00   \n",
      "RidgeClassifierCV                  1.00               1.00     1.00      1.00   \n",
      "RidgeClassifier                    1.00               1.00     1.00      1.00   \n",
      "RandomForestClassifier             1.00               1.00     1.00      1.00   \n",
      "QuadraticDiscriminantAnalysis      1.00               1.00     1.00      1.00   \n",
      "Perceptron                         1.00               1.00     1.00      1.00   \n",
      "PassiveAggressiveClassifier        1.00               1.00     1.00      1.00   \n",
      "NuSVC                              1.00               1.00     1.00      1.00   \n",
      "LogisticRegression                 1.00               1.00     1.00      1.00   \n",
      "LinearSVC                          1.00               1.00     1.00      1.00   \n",
      "LinearDiscriminantAnalysis         1.00               1.00     1.00      1.00   \n",
      "ExtraTreesClassifier               1.00               1.00     1.00      1.00   \n",
      "CalibratedClassifierCV             1.00               1.00     1.00      1.00   \n",
      "NearestCentroid                    0.88               0.90     0.90      0.88   \n",
      "GaussianNB                         0.88               0.90     0.90      0.88   \n",
      "BernoulliNB                        0.88               0.90     0.90      0.88   \n",
      "LabelSpreading                     0.88               0.83     0.83      0.87   \n",
      "LabelPropagation                   0.88               0.83     0.83      0.87   \n",
      "ExtraTreeClassifier                0.88               0.83     0.83      0.87   \n",
      "DecisionTreeClassifier             0.88               0.83     0.83      0.87   \n",
      "KNeighborsClassifier               0.75               0.67     0.67      0.71   \n",
      "DummyClassifier                    0.38               0.50     0.50      0.20   \n",
      "LGBMClassifier                     0.38               0.50     0.50      0.20   \n",
      "\n",
      "                               Time Taken  \n",
      "Model                                      \n",
      "AdaBoostClassifier                   0.04  \n",
      "BaggingClassifier                    0.01  \n",
      "XGBClassifier                        0.05  \n",
      "SVC                                  0.01  \n",
      "SGDClassifier                        0.01  \n",
      "RidgeClassifierCV                    0.01  \n",
      "RidgeClassifier                      0.01  \n",
      "RandomForestClassifier               0.08  \n",
      "QuadraticDiscriminantAnalysis        0.01  \n",
      "Perceptron                           0.01  \n",
      "PassiveAggressiveClassifier          0.01  \n",
      "NuSVC                                0.01  \n",
      "LogisticRegression                   0.01  \n",
      "LinearSVC                            0.01  \n",
      "LinearDiscriminantAnalysis           0.01  \n",
      "ExtraTreesClassifier                 0.06  \n",
      "CalibratedClassifierCV               0.01  \n",
      "NearestCentroid                      0.01  \n",
      "GaussianNB                           0.01  \n",
      "BernoulliNB                          0.00  \n",
      "LabelSpreading                       0.01  \n",
      "LabelPropagation                     0.01  \n",
      "ExtraTreeClassifier                  0.00  \n",
      "DecisionTreeClassifier               0.00  \n",
      "KNeighborsClassifier                 0.01  \n",
      "DummyClassifier                      0.00  \n",
      "LGBMClassifier                       0.02  \n"
     ]
    },
    {
     "name": "stderr",
     "output_type": "stream",
     "text": [
      "\n"
     ]
    }
   ],
   "source": [
    "primeraronda7win = torneosquart[(torneosquart['Winner'] == 'Casper Ruud')]\n",
    "\n",
    "primeraronda7lose = torneosquart[(torneosquart['Loser'] == 'Casper Ruud')]\n",
    "\n",
    "jugador=pd.concat([primeraronda7win,primeraronda7lose],axis=0)\n",
    "\n",
    "win=jugador.Winner\n",
    "\n",
    "jugador['Win'] = win \n",
    "\n",
    "def win(x):\n",
    "\n",
    "        if x == 'Casper Ruud':\n",
    "            return 1\n",
    "        else:\n",
    "            return 0\n",
    "\n",
    "jugador.Win = jugador.Win.apply(win)\n",
    "\n",
    "jugador=jugador.drop(columns='Loser')\n",
    "\n",
    "jugador.Series=jugador.Series.apply(lambda x: series[x])\n",
    "jugador.Round=jugador.Round.apply(lambda x: rounds[x])\n",
    "\n",
    "\n",
    "jugador = jugador.drop(columns=['Tournament','Winner','Surface'])\n",
    "\n",
    "X=jugador.drop(columns = 'Win')\n",
    "y=jugador.Win\n",
    "\n",
    "data=pd.DataFrame(StandardScaler().fit_transform(X._get_numeric_data()),\\\n",
    "                     columns=X._get_numeric_data().columns)\n",
    "\n",
    "X_train, X_test, y_train, y_test = tts(data, y, train_size=0.8, test_size=0.2, random_state=42)\n",
    "\n",
    "clf = LazyClassifier(verbose=0, ignore_warnings=True, custom_metric=None)\n",
    "models, predictions = clf.fit(X_train, X_test, y_train, y_test)\n",
    "print(models)\n",
    "\n"
   ]
  },
  {
   "cell_type": "code",
   "execution_count": 334,
   "id": "8405ad55",
   "metadata": {},
   "outputs": [],
   "source": [
    "ABC = AdaBoostClassifier()\n",
    "ABC.fit(X_train, y_train)\n",
    "y_pred_ruu2=ABC.predict(X_test)"
   ]
  },
  {
   "cell_type": "code",
   "execution_count": 335,
   "id": "2f44c85d",
   "metadata": {},
   "outputs": [],
   "source": [
    "rateruu2= ratewins(y_pred_ruu2)"
   ]
  },
  {
   "cell_type": "code",
   "execution_count": 336,
   "id": "d2a667aa",
   "metadata": {},
   "outputs": [
    {
     "data": {
      "text/plain": [
       "0.75"
      ]
     },
     "execution_count": 336,
     "metadata": {},
     "output_type": "execute_result"
    }
   ],
   "source": [
    "rateruu2"
   ]
  },
  {
   "cell_type": "markdown",
   "id": "7de42265",
   "metadata": {},
   "source": [
    "### Novak Djokovic"
   ]
  },
  {
   "cell_type": "code",
   "execution_count": 337,
   "id": "1a95df4b",
   "metadata": {},
   "outputs": [
    {
     "name": "stderr",
     "output_type": "stream",
     "text": [
      "100%|██████████| 29/29 [00:00<00:00, 78.72it/s]"
     ]
    },
    {
     "name": "stdout",
     "output_type": "stream",
     "text": [
      "                               Accuracy  Balanced Accuracy  ROC AUC  F1 Score  \\\n",
      "Model                                                                           \n",
      "AdaBoostClassifier                 1.00               1.00     1.00      1.00   \n",
      "ExtraTreesClassifier               1.00               1.00     1.00      1.00   \n",
      "BaggingClassifier                  1.00               1.00     1.00      1.00   \n",
      "LabelSpreading                     1.00               1.00     1.00      1.00   \n",
      "LabelPropagation                   1.00               1.00     1.00      1.00   \n",
      "GaussianNB                         1.00               1.00     1.00      1.00   \n",
      "RandomForestClassifier             1.00               1.00     1.00      1.00   \n",
      "DecisionTreeClassifier             1.00               1.00     1.00      1.00   \n",
      "XGBClassifier                      1.00               1.00     1.00      1.00   \n",
      "ExtraTreeClassifier                0.92               0.94     0.94      0.92   \n",
      "QuadraticDiscriminantAnalysis      0.92               0.94     0.94      0.92   \n",
      "LinearDiscriminantAnalysis         0.92               0.83     0.83      0.91   \n",
      "RidgeClassifierCV                  0.92               0.83     0.83      0.91   \n",
      "RidgeClassifier                    0.92               0.83     0.83      0.91   \n",
      "NearestCentroid                    0.83               0.78     0.78      0.83   \n",
      "SVC                                0.83               0.67     0.67      0.80   \n",
      "KNeighborsClassifier               0.83               0.67     0.67      0.80   \n",
      "SGDClassifier                      0.75               0.50     0.50      0.64   \n",
      "LinearSVC                          0.75               0.50     0.50      0.64   \n",
      "Perceptron                         0.75               0.50     0.50      0.64   \n",
      "PassiveAggressiveClassifier        0.75               0.50     0.50      0.64   \n",
      "NuSVC                              0.75               0.50     0.50      0.64   \n",
      "LogisticRegression                 0.75               0.50     0.50      0.64   \n",
      "DummyClassifier                    0.75               0.50     0.50      0.64   \n",
      "CalibratedClassifierCV             0.75               0.50     0.50      0.64   \n",
      "LGBMClassifier                     0.67               0.44     0.44      0.60   \n",
      "BernoulliNB                        0.42               0.28     0.28      0.44   \n",
      "\n",
      "                               Time Taken  \n",
      "Model                                      \n",
      "AdaBoostClassifier                   0.04  \n",
      "ExtraTreesClassifier                 0.06  \n",
      "BaggingClassifier                    0.01  \n",
      "LabelSpreading                       0.01  \n",
      "LabelPropagation                     0.01  \n",
      "GaussianNB                           0.01  \n",
      "RandomForestClassifier               0.07  \n",
      "DecisionTreeClassifier               0.00  \n",
      "XGBClassifier                        0.02  \n",
      "ExtraTreeClassifier                  0.00  \n",
      "QuadraticDiscriminantAnalysis        0.00  \n",
      "LinearDiscriminantAnalysis           0.01  \n",
      "RidgeClassifierCV                    0.01  \n",
      "RidgeClassifier                      0.01  \n",
      "NearestCentroid                      0.00  \n",
      "SVC                                  0.01  \n",
      "KNeighborsClassifier                 0.01  \n",
      "SGDClassifier                        0.01  \n",
      "LinearSVC                            0.01  \n",
      "Perceptron                           0.00  \n",
      "PassiveAggressiveClassifier          0.01  \n",
      "NuSVC                                0.01  \n",
      "LogisticRegression                   0.01  \n",
      "DummyClassifier                      0.00  \n",
      "CalibratedClassifierCV               0.01  \n",
      "LGBMClassifier                       0.04  \n",
      "BernoulliNB                          0.01  \n"
     ]
    },
    {
     "name": "stderr",
     "output_type": "stream",
     "text": [
      "\n"
     ]
    }
   ],
   "source": [
    "primeraronda4wina = torneosquart[(torneosquart['Winner'] == 'Novak Djokovic')]\n",
    "\n",
    "primeraronda4losea = torneosquart[(torneosquart['Loser'] == 'Novak Djokovic')]\n",
    "\n",
    "jugador=pd.concat([primeraronda4wina,primeraronda4losea],axis=0)\n",
    "\n",
    "win=jugador.Winner\n",
    "\n",
    "jugador['Win'] = win \n",
    "\n",
    "def win(x):\n",
    "\n",
    "        if x == 'Novak Djokovic':\n",
    "            return 1\n",
    "        else:\n",
    "            return 0\n",
    "\n",
    "jugador.Win = jugador.Win.apply(win)\n",
    "\n",
    "jugador=jugador.drop(columns='Loser')\n",
    "\n",
    "jugador.Series=jugador.Series.apply(lambda x: series[x])\n",
    "jugador.Round=jugador.Round.apply(lambda x: rounds[x])\n",
    "\n",
    "\n",
    "jugador = jugador.drop(columns=['Tournament','Winner','Surface'])\n",
    "\n",
    "X=jugador.drop(columns = 'Win')\n",
    "y=jugador.Win\n",
    "\n",
    "data=pd.DataFrame(StandardScaler().fit_transform(X._get_numeric_data()),\\\n",
    "                     columns=X._get_numeric_data().columns)\n",
    "\n",
    "X_train, X_test, y_train, y_test = tts(data, y, train_size=0.8, test_size=0.2, random_state=42)\n",
    "\n",
    "clf = LazyClassifier(verbose=0, ignore_warnings=True, custom_metric=None)\n",
    "models, predictions = clf.fit(X_train, X_test, y_train, y_test)\n",
    "print(models)\n",
    "\n"
   ]
  },
  {
   "cell_type": "code",
   "execution_count": 338,
   "id": "c8d09365",
   "metadata": {},
   "outputs": [],
   "source": [
    "ABC = AdaBoostClassifier()\n",
    "ABC.fit(X_train, y_train)\n",
    "y_pred_djo2=ABC.predict(X_test)"
   ]
  },
  {
   "cell_type": "code",
   "execution_count": 339,
   "id": "474bb5cc",
   "metadata": {},
   "outputs": [],
   "source": [
    "ratedjo2= ratewins(y_pred_djo2)"
   ]
  },
  {
   "cell_type": "code",
   "execution_count": 340,
   "id": "d11c5152",
   "metadata": {
    "scrolled": true
   },
   "outputs": [
    {
     "data": {
      "text/plain": [
       "0.75"
      ]
     },
     "execution_count": 340,
     "metadata": {},
     "output_type": "execute_result"
    }
   ],
   "source": [
    "ratedjo2"
   ]
  },
  {
   "cell_type": "markdown",
   "id": "93d412eb",
   "metadata": {},
   "source": [
    "### El ratio de victorias Novak Djokovic es mayor, por lo que consideremos que gana el encuentro y pasa a la siguiente ronda.  Casper Ruud es eliminado.\n"
   ]
  },
  {
   "cell_type": "markdown",
   "id": "b2e11488",
   "metadata": {},
   "source": [
    "# Pareja 4"
   ]
  },
  {
   "cell_type": "code",
   "execution_count": 341,
   "id": "ed618df0",
   "metadata": {},
   "outputs": [
    {
     "data": {
      "text/plain": [
       "['Andrey Rublev', 'Holger Rune']"
      ]
     },
     "execution_count": 341,
     "metadata": {},
     "output_type": "execute_result"
    }
   ],
   "source": [
    "parq4"
   ]
  },
  {
   "cell_type": "markdown",
   "id": "f1906c2d",
   "metadata": {},
   "source": [
    "### Andrey Rublev"
   ]
  },
  {
   "cell_type": "code",
   "execution_count": 342,
   "id": "e1ec9115",
   "metadata": {},
   "outputs": [
    {
     "name": "stderr",
     "output_type": "stream",
     "text": [
      "100%|██████████| 29/29 [00:00<00:00, 82.86it/s]"
     ]
    },
    {
     "name": "stdout",
     "output_type": "stream",
     "text": [
      "                               Accuracy  Balanced Accuracy  ROC AUC  F1 Score  \\\n",
      "Model                                                                           \n",
      "NuSVC                              0.90               0.93     0.93      0.90   \n",
      "SVC                                0.90               0.93     0.93      0.90   \n",
      "SGDClassifier                      0.90               0.93     0.93      0.90   \n",
      "GaussianNB                         0.90               0.93     0.93      0.90   \n",
      "Perceptron                         0.90               0.93     0.93      0.90   \n",
      "NearestCentroid                    0.90               0.93     0.93      0.90   \n",
      "LinearSVC                          0.80               0.86     0.86      0.81   \n",
      "CalibratedClassifierCV             0.80               0.86     0.86      0.81   \n",
      "RidgeClassifierCV                  0.80               0.86     0.86      0.81   \n",
      "ExtraTreesClassifier               0.80               0.86     0.86      0.81   \n",
      "RidgeClassifier                    0.80               0.86     0.86      0.81   \n",
      "LinearDiscriminantAnalysis         0.80               0.86     0.86      0.81   \n",
      "PassiveAggressiveClassifier        0.80               0.86     0.86      0.81   \n",
      "LogisticRegression                 0.80               0.86     0.86      0.81   \n",
      "XGBClassifier                      0.70               0.79     0.79      0.71   \n",
      "RandomForestClassifier             0.70               0.79     0.79      0.71   \n",
      "AdaBoostClassifier                 0.70               0.79     0.79      0.71   \n",
      "BaggingClassifier                  0.70               0.79     0.79      0.71   \n",
      "LabelSpreading                     0.70               0.79     0.79      0.71   \n",
      "LabelPropagation                   0.70               0.79     0.79      0.71   \n",
      "ExtraTreeClassifier                0.70               0.79     0.79      0.71   \n",
      "BernoulliNB                        0.60               0.71     0.71      0.60   \n",
      "KNeighborsClassifier               0.50               0.64     0.64      0.47   \n",
      "DecisionTreeClassifier             0.50               0.64     0.64      0.47   \n",
      "QuadraticDiscriminantAnalysis      0.70               0.50     0.50      0.58   \n",
      "DummyClassifier                    0.30               0.50     0.50      0.14   \n",
      "LGBMClassifier                     0.30               0.50     0.50      0.14   \n",
      "\n",
      "                               Time Taken  \n",
      "Model                                      \n",
      "NuSVC                                0.01  \n",
      "SVC                                  0.01  \n",
      "SGDClassifier                        0.01  \n",
      "GaussianNB                           0.01  \n",
      "Perceptron                           0.01  \n",
      "NearestCentroid                      0.01  \n",
      "LinearSVC                            0.01  \n",
      "CalibratedClassifierCV               0.01  \n",
      "RidgeClassifierCV                    0.01  \n",
      "ExtraTreesClassifier                 0.06  \n",
      "RidgeClassifier                      0.01  \n",
      "LinearDiscriminantAnalysis           0.01  \n",
      "PassiveAggressiveClassifier          0.01  \n",
      "LogisticRegression                   0.01  \n",
      "XGBClassifier                        0.03  \n",
      "RandomForestClassifier               0.07  \n",
      "AdaBoostClassifier                   0.04  \n",
      "BaggingClassifier                    0.01  \n",
      "LabelSpreading                       0.01  \n",
      "LabelPropagation                     0.01  \n",
      "ExtraTreeClassifier                  0.00  \n",
      "BernoulliNB                          0.01  \n",
      "KNeighborsClassifier                 0.01  \n",
      "DecisionTreeClassifier               0.01  \n",
      "QuadraticDiscriminantAnalysis        0.01  \n",
      "DummyClassifier                      0.00  \n",
      "LGBMClassifier                       0.01  \n"
     ]
    },
    {
     "name": "stderr",
     "output_type": "stream",
     "text": [
      "\n"
     ]
    }
   ],
   "source": [
    "primeraronda7win = torneosquart[(torneosquart['Winner'] == 'Andrey Rublev')]\n",
    "\n",
    "primeraronda7lose = torneosquart[(torneosquart['Loser'] == 'Andrey Rublev')]\n",
    "\n",
    "jugador=pd.concat([primeraronda7win,primeraronda7lose],axis=0)\n",
    "\n",
    "win=jugador.Winner\n",
    "\n",
    "jugador['Win'] = win \n",
    "\n",
    "def win(x):\n",
    "\n",
    "        if x == 'Andrey Rublev':\n",
    "            return 1\n",
    "        else:\n",
    "            return 0\n",
    "\n",
    "jugador.Win = jugador.Win.apply(win)\n",
    "\n",
    "jugador=jugador.drop(columns='Loser')\n",
    "\n",
    "jugador.Series=jugador.Series.apply(lambda x: series[x])\n",
    "jugador.Round=jugador.Round.apply(lambda x: rounds[x])\n",
    "\n",
    "\n",
    "jugador = jugador.drop(columns=['Tournament','Winner','Surface'])\n",
    "\n",
    "X=jugador.drop(columns = 'Win')\n",
    "y=jugador.Win\n",
    "\n",
    "data=pd.DataFrame(StandardScaler().fit_transform(X._get_numeric_data()),\\\n",
    "                     columns=X._get_numeric_data().columns)\n",
    "\n",
    "X_train, X_test, y_train, y_test = tts(data, y, train_size=0.8, test_size=0.2, random_state=42)\n",
    "\n",
    "clf = LazyClassifier(verbose=0, ignore_warnings=True, custom_metric=None)\n",
    "models, predictions = clf.fit(X_train, X_test, y_train, y_test)\n",
    "print(models)\n",
    "\n"
   ]
  },
  {
   "cell_type": "code",
   "execution_count": 343,
   "id": "13bafb84",
   "metadata": {},
   "outputs": [],
   "source": [
    "nusvc = NuSVC()\n",
    "nusvc.fit(X_train, y_train)\n",
    "y_pred_rub2=nusvc.predict(X_test)"
   ]
  },
  {
   "cell_type": "code",
   "execution_count": 344,
   "id": "3b451458",
   "metadata": {},
   "outputs": [],
   "source": [
    "raterub2= ratewins(y_pred_rub2)"
   ]
  },
  {
   "cell_type": "code",
   "execution_count": 345,
   "id": "fc07380c",
   "metadata": {},
   "outputs": [
    {
     "data": {
      "text/plain": [
       "0.4"
      ]
     },
     "execution_count": 345,
     "metadata": {},
     "output_type": "execute_result"
    }
   ],
   "source": [
    "raterub2"
   ]
  },
  {
   "cell_type": "markdown",
   "id": "aa629c91",
   "metadata": {},
   "source": [
    "### Holger Rune"
   ]
  },
  {
   "cell_type": "code",
   "execution_count": 346,
   "id": "1f29c3c8",
   "metadata": {},
   "outputs": [
    {
     "name": "stderr",
     "output_type": "stream",
     "text": [
      "100%|██████████| 29/29 [00:00<00:00, 97.93it/s]"
     ]
    },
    {
     "name": "stdout",
     "output_type": "stream",
     "text": [
      "                               Accuracy  Balanced Accuracy  ROC AUC  F1 Score  \\\n",
      "Model                                                                           \n",
      "AdaBoostClassifier                 1.00               1.00     1.00      1.00   \n",
      "BaggingClassifier                  1.00               1.00     1.00      1.00   \n",
      "SVC                                1.00               1.00     1.00      1.00   \n",
      "SGDClassifier                      1.00               1.00     1.00      1.00   \n",
      "RidgeClassifierCV                  1.00               1.00     1.00      1.00   \n",
      "RidgeClassifier                    1.00               1.00     1.00      1.00   \n",
      "RandomForestClassifier             1.00               1.00     1.00      1.00   \n",
      "QuadraticDiscriminantAnalysis      1.00               1.00     1.00      1.00   \n",
      "Perceptron                         1.00               1.00     1.00      1.00   \n",
      "PassiveAggressiveClassifier        1.00               1.00     1.00      1.00   \n",
      "NuSVC                              1.00               1.00     1.00      1.00   \n",
      "NearestCentroid                    1.00               1.00     1.00      1.00   \n",
      "LogisticRegression                 1.00               1.00     1.00      1.00   \n",
      "LinearSVC                          1.00               1.00     1.00      1.00   \n",
      "LinearDiscriminantAnalysis         1.00               1.00     1.00      1.00   \n",
      "LabelSpreading                     1.00               1.00     1.00      1.00   \n",
      "LabelPropagation                   1.00               1.00     1.00      1.00   \n",
      "GaussianNB                         1.00               1.00     1.00      1.00   \n",
      "ExtraTreesClassifier               1.00               1.00     1.00      1.00   \n",
      "ExtraTreeClassifier                1.00               1.00     1.00      1.00   \n",
      "DecisionTreeClassifier             1.00               1.00     1.00      1.00   \n",
      "CalibratedClassifierCV             1.00               1.00     1.00      1.00   \n",
      "BernoulliNB                        1.00               1.00     1.00      1.00   \n",
      "KNeighborsClassifier               0.67               0.50     0.50      0.53   \n",
      "DummyClassifier                    0.67               0.50     0.50      0.53   \n",
      "XGBClassifier                      0.67               0.50     0.50      0.53   \n",
      "LGBMClassifier                     0.67               0.50     0.50      0.53   \n",
      "\n",
      "                               Time Taken  \n",
      "Model                                      \n",
      "AdaBoostClassifier                   0.01  \n",
      "BaggingClassifier                    0.01  \n",
      "SVC                                  0.00  \n",
      "SGDClassifier                        0.01  \n",
      "RidgeClassifierCV                    0.01  \n",
      "RidgeClassifier                      0.01  \n",
      "RandomForestClassifier               0.07  \n",
      "QuadraticDiscriminantAnalysis        0.00  \n",
      "Perceptron                           0.01  \n",
      "PassiveAggressiveClassifier          0.01  \n",
      "NuSVC                                0.01  \n",
      "NearestCentroid                      0.00  \n",
      "LogisticRegression                   0.01  \n",
      "LinearSVC                            0.01  \n",
      "LinearDiscriminantAnalysis           0.01  \n",
      "LabelSpreading                       0.01  \n",
      "LabelPropagation                     0.01  \n",
      "GaussianNB                           0.01  \n",
      "ExtraTreesClassifier                 0.05  \n",
      "ExtraTreeClassifier                  0.00  \n",
      "DecisionTreeClassifier               0.00  \n",
      "CalibratedClassifierCV               0.01  \n",
      "BernoulliNB                          0.01  \n",
      "KNeighborsClassifier                 0.01  \n",
      "DummyClassifier                      0.01  \n",
      "XGBClassifier                        0.02  \n",
      "LGBMClassifier                       0.01  \n"
     ]
    },
    {
     "name": "stderr",
     "output_type": "stream",
     "text": [
      "\n"
     ]
    }
   ],
   "source": [
    "primeraronda4wina = torneosquart[(torneosquart['Winner'] == 'Holger Rune')]\n",
    "\n",
    "primeraronda4losea = torneosquart[(torneosquart['Loser'] == 'Holger Rune')]\n",
    "\n",
    "jugador=pd.concat([primeraronda4wina,primeraronda4losea],axis=0)\n",
    "\n",
    "win=jugador.Winner\n",
    "\n",
    "jugador['Win'] = win \n",
    "\n",
    "def win(x):\n",
    "\n",
    "        if x == 'Holger Rune':\n",
    "            return 1\n",
    "        else:\n",
    "            return 0\n",
    "\n",
    "jugador.Win = jugador.Win.apply(win)\n",
    "\n",
    "jugador=jugador.drop(columns='Loser')\n",
    "\n",
    "jugador.Series=jugador.Series.apply(lambda x: series[x])\n",
    "jugador.Round=jugador.Round.apply(lambda x: rounds[x])\n",
    "\n",
    "\n",
    "jugador = jugador.drop(columns=['Tournament','Winner','Surface'])\n",
    "\n",
    "X=jugador.drop(columns = 'Win')\n",
    "y=jugador.Win\n",
    "\n",
    "data=pd.DataFrame(StandardScaler().fit_transform(X._get_numeric_data()),\\\n",
    "                     columns=X._get_numeric_data().columns)\n",
    "\n",
    "X_train, X_test, y_train, y_test = tts(data, y, train_size=0.8, test_size=0.2, random_state=42)\n",
    "\n",
    "clf = LazyClassifier(verbose=0, ignore_warnings=True, custom_metric=None)\n",
    "models, predictions = clf.fit(X_train, X_test, y_train, y_test)\n",
    "print(models)\n",
    "\n"
   ]
  },
  {
   "cell_type": "code",
   "execution_count": 347,
   "id": "c53573ae",
   "metadata": {},
   "outputs": [],
   "source": [
    "ABC = AdaBoostClassifier()\n",
    "ABC.fit(X_train, y_train)\n",
    "y_pred_run2=ABC.predict(X_test)"
   ]
  },
  {
   "cell_type": "code",
   "execution_count": 348,
   "id": "2dc6b053",
   "metadata": {},
   "outputs": [],
   "source": [
    "raterun2= ratewins(y_pred_run2)"
   ]
  },
  {
   "cell_type": "code",
   "execution_count": 349,
   "id": "67434ea1",
   "metadata": {
    "scrolled": true
   },
   "outputs": [
    {
     "data": {
      "text/plain": [
       "0.3333333333333333"
      ]
     },
     "execution_count": 349,
     "metadata": {},
     "output_type": "execute_result"
    }
   ],
   "source": [
    "raterun2"
   ]
  },
  {
   "cell_type": "markdown",
   "id": "43a23817",
   "metadata": {},
   "source": [
    "### El ratio de victorias Andrey Rublev es mayor, por lo que consideremos que gana el encuentro y pasa a la siguiente ronda. Holger Rune  es eliminado."
   ]
  },
  {
   "cell_type": "markdown",
   "id": "aacc4717",
   "metadata": {},
   "source": [
    "# Pareja 5"
   ]
  },
  {
   "cell_type": "code",
   "execution_count": 350,
   "id": "7e5d4713",
   "metadata": {},
   "outputs": [
    {
     "data": {
      "text/plain": [
       "['Alexander Zverev', 'Nick Kyrgios']"
      ]
     },
     "execution_count": 350,
     "metadata": {},
     "output_type": "execute_result"
    }
   ],
   "source": [
    "parq5"
   ]
  },
  {
   "cell_type": "markdown",
   "id": "4bb2f386",
   "metadata": {},
   "source": [
    "### Alexander Zverev"
   ]
  },
  {
   "cell_type": "code",
   "execution_count": 351,
   "id": "439b1350",
   "metadata": {},
   "outputs": [
    {
     "name": "stderr",
     "output_type": "stream",
     "text": [
      "100%|██████████| 29/29 [00:00<00:00, 75.60it/s]"
     ]
    },
    {
     "name": "stdout",
     "output_type": "stream",
     "text": [
      "                               Accuracy  Balanced Accuracy  ROC AUC  F1 Score  \\\n",
      "Model                                                                           \n",
      "AdaBoostClassifier                 1.00               1.00     1.00      1.00   \n",
      "LinearDiscriminantAnalysis         1.00               1.00     1.00      1.00   \n",
      "XGBClassifier                      1.00               1.00     1.00      1.00   \n",
      "SGDClassifier                      1.00               1.00     1.00      1.00   \n",
      "RidgeClassifierCV                  1.00               1.00     1.00      1.00   \n",
      "RidgeClassifier                    1.00               1.00     1.00      1.00   \n",
      "RandomForestClassifier             1.00               1.00     1.00      1.00   \n",
      "Perceptron                         1.00               1.00     1.00      1.00   \n",
      "PassiveAggressiveClassifier        1.00               1.00     1.00      1.00   \n",
      "LogisticRegression                 1.00               1.00     1.00      1.00   \n",
      "BaggingClassifier                  1.00               1.00     1.00      1.00   \n",
      "LinearSVC                          1.00               1.00     1.00      1.00   \n",
      "LabelSpreading                     1.00               1.00     1.00      1.00   \n",
      "LabelPropagation                   1.00               1.00     1.00      1.00   \n",
      "ExtraTreesClassifier               1.00               1.00     1.00      1.00   \n",
      "ExtraTreeClassifier                1.00               1.00     1.00      1.00   \n",
      "DecisionTreeClassifier             1.00               1.00     1.00      1.00   \n",
      "CalibratedClassifierCV             1.00               1.00     1.00      1.00   \n",
      "NuSVC                              0.92               0.94     0.94      0.92   \n",
      "GaussianNB                         0.92               0.94     0.94      0.92   \n",
      "SVC                                0.92               0.94     0.94      0.92   \n",
      "LGBMClassifier                     0.92               0.94     0.94      0.92   \n",
      "KNeighborsClassifier               0.85               0.84     0.84      0.85   \n",
      "NearestCentroid                    0.77               0.78     0.78      0.77   \n",
      "BernoulliNB                        0.69               0.68     0.68      0.69   \n",
      "QuadraticDiscriminantAnalysis      0.38               0.50     0.50      0.21   \n",
      "DummyClassifier                    0.62               0.50     0.50      0.47   \n",
      "\n",
      "                               Time Taken  \n",
      "Model                                      \n",
      "AdaBoostClassifier                   0.04  \n",
      "LinearDiscriminantAnalysis           0.01  \n",
      "XGBClassifier                        0.03  \n",
      "SGDClassifier                        0.00  \n",
      "RidgeClassifierCV                    0.01  \n",
      "RidgeClassifier                      0.01  \n",
      "RandomForestClassifier               0.07  \n",
      "Perceptron                           0.00  \n",
      "PassiveAggressiveClassifier          0.01  \n",
      "LogisticRegression                   0.01  \n",
      "BaggingClassifier                    0.01  \n",
      "LinearSVC                            0.01  \n",
      "LabelSpreading                       0.01  \n",
      "LabelPropagation                     0.01  \n",
      "ExtraTreesClassifier                 0.06  \n",
      "ExtraTreeClassifier                  0.00  \n",
      "DecisionTreeClassifier               0.00  \n",
      "CalibratedClassifierCV               0.01  \n",
      "NuSVC                                0.01  \n",
      "GaussianNB                           0.01  \n",
      "SVC                                  0.01  \n",
      "LGBMClassifier                       0.05  \n",
      "KNeighborsClassifier                 0.01  \n",
      "NearestCentroid                      0.00  \n",
      "BernoulliNB                          0.00  \n",
      "QuadraticDiscriminantAnalysis        0.00  \n",
      "DummyClassifier                      0.00  \n"
     ]
    },
    {
     "name": "stderr",
     "output_type": "stream",
     "text": [
      "\n"
     ]
    }
   ],
   "source": [
    "primeraronda7win = torneosquart[(torneosquart['Winner'] == 'Alexander Zverev')]\n",
    "\n",
    "primeraronda7lose = torneosquart[(torneosquart['Loser'] == 'Alexander Zverev')]\n",
    "\n",
    "jugador=pd.concat([primeraronda7win,primeraronda7lose],axis=0)\n",
    "\n",
    "win=jugador.Winner\n",
    "\n",
    "jugador['Win'] = win \n",
    "\n",
    "def win(x):\n",
    "\n",
    "        if x == 'Alexander Zverev':\n",
    "            return 1\n",
    "        else:\n",
    "            return 0\n",
    "\n",
    "jugador.Win = jugador.Win.apply(win)\n",
    "\n",
    "jugador=jugador.drop(columns='Loser')\n",
    "\n",
    "jugador.Series=jugador.Series.apply(lambda x: series[x])\n",
    "jugador.Round=jugador.Round.apply(lambda x: rounds[x])\n",
    "\n",
    "\n",
    "jugador = jugador.drop(columns=['Tournament','Winner','Surface'])\n",
    "\n",
    "X=jugador.drop(columns = 'Win')\n",
    "y=jugador.Win\n",
    "\n",
    "data=pd.DataFrame(StandardScaler().fit_transform(X._get_numeric_data()),\\\n",
    "                     columns=X._get_numeric_data().columns)\n",
    "\n",
    "X_train, X_test, y_train, y_test = tts(data, y, train_size=0.8, test_size=0.2, random_state=42)\n",
    "\n",
    "clf = LazyClassifier(verbose=0, ignore_warnings=True, custom_metric=None)\n",
    "models, predictions = clf.fit(X_train, X_test, y_train, y_test)\n",
    "print(models)\n",
    "\n"
   ]
  },
  {
   "cell_type": "code",
   "execution_count": 352,
   "id": "dd70d5ca",
   "metadata": {},
   "outputs": [],
   "source": [
    "ABC = AdaBoostClassifier()\n",
    "ABC.fit(X_train, y_train)\n",
    "y_pred_zve2=ABC.predict(X_test)"
   ]
  },
  {
   "cell_type": "code",
   "execution_count": 353,
   "id": "0acbdc38",
   "metadata": {},
   "outputs": [],
   "source": [
    "ratezve2= ratewins(y_pred_zve2)"
   ]
  },
  {
   "cell_type": "code",
   "execution_count": 354,
   "id": "79fc92cd",
   "metadata": {},
   "outputs": [
    {
     "data": {
      "text/plain": [
       "0.6153846153846154"
      ]
     },
     "execution_count": 354,
     "metadata": {},
     "output_type": "execute_result"
    }
   ],
   "source": [
    "ratezve2"
   ]
  },
  {
   "cell_type": "markdown",
   "id": "4c5bb425",
   "metadata": {},
   "source": [
    "### Nick Kyrgios"
   ]
  },
  {
   "cell_type": "code",
   "execution_count": 355,
   "id": "faef91b3",
   "metadata": {},
   "outputs": [
    {
     "name": "stderr",
     "output_type": "stream",
     "text": [
      "100%|██████████| 29/29 [00:00<00:00, 78.98it/s]"
     ]
    },
    {
     "name": "stdout",
     "output_type": "stream",
     "text": [
      "                               Accuracy  Balanced Accuracy  ROC AUC  F1 Score  \\\n",
      "Model                                                                           \n",
      "AdaBoostClassifier                 1.00               1.00     1.00      1.00   \n",
      "BaggingClassifier                  1.00               1.00     1.00      1.00   \n",
      "XGBClassifier                      1.00               1.00     1.00      1.00   \n",
      "SVC                                1.00               1.00     1.00      1.00   \n",
      "SGDClassifier                      1.00               1.00     1.00      1.00   \n",
      "RidgeClassifierCV                  1.00               1.00     1.00      1.00   \n",
      "RidgeClassifier                    1.00               1.00     1.00      1.00   \n",
      "RandomForestClassifier             1.00               1.00     1.00      1.00   \n",
      "Perceptron                         1.00               1.00     1.00      1.00   \n",
      "PassiveAggressiveClassifier        1.00               1.00     1.00      1.00   \n",
      "NuSVC                              1.00               1.00     1.00      1.00   \n",
      "NearestCentroid                    1.00               1.00     1.00      1.00   \n",
      "LogisticRegression                 1.00               1.00     1.00      1.00   \n",
      "LinearSVC                          1.00               1.00     1.00      1.00   \n",
      "LinearDiscriminantAnalysis         1.00               1.00     1.00      1.00   \n",
      "LabelSpreading                     1.00               1.00     1.00      1.00   \n",
      "LabelPropagation                   1.00               1.00     1.00      1.00   \n",
      "KNeighborsClassifier               1.00               1.00     1.00      1.00   \n",
      "GaussianNB                         1.00               1.00     1.00      1.00   \n",
      "ExtraTreesClassifier               1.00               1.00     1.00      1.00   \n",
      "ExtraTreeClassifier                1.00               1.00     1.00      1.00   \n",
      "DecisionTreeClassifier             1.00               1.00     1.00      1.00   \n",
      "CalibratedClassifierCV             1.00               1.00     1.00      1.00   \n",
      "BernoulliNB                        1.00               1.00     1.00      1.00   \n",
      "QuadraticDiscriminantAnalysis      0.80               0.83     0.83      0.80   \n",
      "DummyClassifier                    0.40               0.50     0.50      0.23   \n",
      "LGBMClassifier                     0.40               0.50     0.50      0.23   \n",
      "\n",
      "                               Time Taken  \n",
      "Model                                      \n",
      "AdaBoostClassifier                   0.04  \n",
      "BaggingClassifier                    0.02  \n",
      "XGBClassifier                        0.03  \n",
      "SVC                                  0.01  \n",
      "SGDClassifier                        0.01  \n",
      "RidgeClassifierCV                    0.01  \n",
      "RidgeClassifier                      0.01  \n",
      "RandomForestClassifier               0.07  \n",
      "Perceptron                           0.01  \n",
      "PassiveAggressiveClassifier          0.00  \n",
      "NuSVC                                0.01  \n",
      "NearestCentroid                      0.01  \n",
      "LogisticRegression                   0.01  \n",
      "LinearSVC                            0.01  \n",
      "LinearDiscriminantAnalysis           0.00  \n",
      "LabelSpreading                       0.00  \n",
      "LabelPropagation                     0.00  \n",
      "KNeighborsClassifier                 0.00  \n",
      "GaussianNB                           0.00  \n",
      "ExtraTreesClassifier                 0.06  \n",
      "ExtraTreeClassifier                  0.01  \n",
      "DecisionTreeClassifier               0.01  \n",
      "CalibratedClassifierCV               0.02  \n",
      "BernoulliNB                          0.01  \n",
      "QuadraticDiscriminantAnalysis        0.00  \n",
      "DummyClassifier                      0.01  \n",
      "LGBMClassifier                       0.01  \n"
     ]
    },
    {
     "name": "stderr",
     "output_type": "stream",
     "text": [
      "\n"
     ]
    }
   ],
   "source": [
    "primeraronda4wina = torneosquart[(torneosquart['Winner'] == 'Nick Kyrgios')]\n",
    "\n",
    "primeraronda4losea = torneosquart[(torneosquart['Loser'] == 'Nick Kyrgios')]\n",
    "\n",
    "jugador=pd.concat([primeraronda4wina,primeraronda4losea],axis=0)\n",
    "\n",
    "win=jugador.Winner\n",
    "\n",
    "jugador['Win'] = win \n",
    "\n",
    "def win(x):\n",
    "\n",
    "        if x == 'Nick Kyrgios':\n",
    "            return 1\n",
    "        else:\n",
    "            return 0\n",
    "\n",
    "jugador.Win = jugador.Win.apply(win)\n",
    "\n",
    "jugador=jugador.drop(columns='Loser')\n",
    "\n",
    "jugador.Series=jugador.Series.apply(lambda x: series[x])\n",
    "jugador.Round=jugador.Round.apply(lambda x: rounds[x])\n",
    "\n",
    "\n",
    "jugador = jugador.drop(columns=['Tournament','Winner','Surface'])\n",
    "\n",
    "X=jugador.drop(columns = 'Win')\n",
    "y=jugador.Win\n",
    "\n",
    "data=pd.DataFrame(StandardScaler().fit_transform(X._get_numeric_data()),\\\n",
    "                     columns=X._get_numeric_data().columns)\n",
    "\n",
    "X_train, X_test, y_train, y_test = tts(data, y, train_size=0.8, test_size=0.2, random_state=42)\n",
    "\n",
    "clf = LazyClassifier(verbose=0, ignore_warnings=True, custom_metric=None)\n",
    "models, predictions = clf.fit(X_train, X_test, y_train, y_test)\n",
    "print(models)\n",
    "\n"
   ]
  },
  {
   "cell_type": "code",
   "execution_count": 356,
   "id": "8819d88a",
   "metadata": {},
   "outputs": [],
   "source": [
    "ABC = AdaBoostClassifier()\n",
    "ABC.fit(X_train, y_train)\n",
    "y_pred_kyr2=ABC.predict(X_test)"
   ]
  },
  {
   "cell_type": "code",
   "execution_count": 357,
   "id": "4163e155",
   "metadata": {},
   "outputs": [],
   "source": [
    "ratekyr2= ratewins(y_pred_kyr2)"
   ]
  },
  {
   "cell_type": "code",
   "execution_count": 358,
   "id": "54ee14cc",
   "metadata": {
    "scrolled": true
   },
   "outputs": [
    {
     "data": {
      "text/plain": [
       "0.6"
      ]
     },
     "execution_count": 358,
     "metadata": {},
     "output_type": "execute_result"
    }
   ],
   "source": [
    "ratekyr2"
   ]
  },
  {
   "cell_type": "markdown",
   "id": "d9990a96",
   "metadata": {},
   "source": [
    "### El ratio de victorias Alexander Zverev es mayor, por lo que consideremos que gana el encuentro y pasa a la siguiente ronda.  Nick Kyrgios es eliminado."
   ]
  },
  {
   "cell_type": "markdown",
   "id": "50021e8f",
   "metadata": {},
   "source": [
    "# Pareja 6"
   ]
  },
  {
   "cell_type": "code",
   "execution_count": 359,
   "id": "635e1952",
   "metadata": {},
   "outputs": [
    {
     "data": {
      "text/plain": [
       "['Cameron Norrie', 'Roberto Bautista Agut']"
      ]
     },
     "execution_count": 359,
     "metadata": {},
     "output_type": "execute_result"
    }
   ],
   "source": [
    "parq6"
   ]
  },
  {
   "cell_type": "markdown",
   "id": "34305313",
   "metadata": {},
   "source": [
    "### Cameron Norrie"
   ]
  },
  {
   "cell_type": "code",
   "execution_count": 360,
   "id": "8aa0a21e",
   "metadata": {},
   "outputs": [
    {
     "name": "stderr",
     "output_type": "stream",
     "text": [
      "100%|██████████| 29/29 [00:00<00:00, 85.17it/s]"
     ]
    },
    {
     "name": "stdout",
     "output_type": "stream",
     "text": [
      "                               Accuracy  Balanced Accuracy  ROC AUC  F1 Score  \\\n",
      "Model                                                                           \n",
      "AdaBoostClassifier                 1.00               1.00     1.00      1.00   \n",
      "NuSVC                              1.00               1.00     1.00      1.00   \n",
      "XGBClassifier                      1.00               1.00     1.00      1.00   \n",
      "SVC                                1.00               1.00     1.00      1.00   \n",
      "DecisionTreeClassifier             1.00               1.00     1.00      1.00   \n",
      "ExtraTreesClassifier               1.00               1.00     1.00      1.00   \n",
      "GaussianNB                         1.00               1.00     1.00      1.00   \n",
      "RandomForestClassifier             1.00               1.00     1.00      1.00   \n",
      "LabelPropagation                   1.00               1.00     1.00      1.00   \n",
      "LabelSpreading                     1.00               1.00     1.00      1.00   \n",
      "QuadraticDiscriminantAnalysis      1.00               1.00     1.00      1.00   \n",
      "RidgeClassifierCV                  0.86               0.90     0.90      0.86   \n",
      "RidgeClassifier                    0.86               0.90     0.90      0.86   \n",
      "PassiveAggressiveClassifier        0.86               0.90     0.90      0.86   \n",
      "LinearSVC                          0.86               0.90     0.90      0.86   \n",
      "LogisticRegression                 0.86               0.90     0.90      0.86   \n",
      "BaggingClassifier                  0.86               0.90     0.90      0.86   \n",
      "KNeighborsClassifier               0.86               0.90     0.90      0.86   \n",
      "ExtraTreeClassifier                0.86               0.90     0.90      0.86   \n",
      "CalibratedClassifierCV             0.86               0.90     0.90      0.86   \n",
      "NearestCentroid                    0.71               0.80     0.80      0.73   \n",
      "LinearDiscriminantAnalysis         0.71               0.80     0.80      0.73   \n",
      "BernoulliNB                        0.71               0.80     0.80      0.73   \n",
      "Perceptron                         0.57               0.70     0.70      0.57   \n",
      "SGDClassifier                      0.57               0.70     0.70      0.57   \n",
      "DummyClassifier                    0.71               0.50     0.50      0.60   \n",
      "LGBMClassifier                     0.71               0.50     0.50      0.60   \n",
      "\n",
      "                               Time Taken  \n",
      "Model                                      \n",
      "AdaBoostClassifier                   0.04  \n",
      "NuSVC                                0.00  \n",
      "XGBClassifier                        0.03  \n",
      "SVC                                  0.01  \n",
      "DecisionTreeClassifier               0.00  \n",
      "ExtraTreesClassifier                 0.05  \n",
      "GaussianNB                           0.01  \n",
      "RandomForestClassifier               0.07  \n",
      "LabelPropagation                     0.01  \n",
      "LabelSpreading                       0.00  \n",
      "QuadraticDiscriminantAnalysis        0.00  \n",
      "RidgeClassifierCV                    0.01  \n",
      "RidgeClassifier                      0.01  \n",
      "PassiveAggressiveClassifier          0.00  \n",
      "LinearSVC                            0.01  \n",
      "LogisticRegression                   0.01  \n",
      "BaggingClassifier                    0.01  \n",
      "KNeighborsClassifier                 0.01  \n",
      "ExtraTreeClassifier                  0.00  \n",
      "CalibratedClassifierCV               0.01  \n",
      "NearestCentroid                      0.00  \n",
      "LinearDiscriminantAnalysis           0.01  \n",
      "BernoulliNB                          0.00  \n",
      "Perceptron                           0.00  \n",
      "SGDClassifier                        0.01  \n",
      "DummyClassifier                      0.00  \n",
      "LGBMClassifier                       0.01  \n"
     ]
    },
    {
     "name": "stderr",
     "output_type": "stream",
     "text": [
      "\n"
     ]
    }
   ],
   "source": [
    "primeraronda7win = torneosquart[(torneosquart['Winner'] == 'Cameron Norrie')]\n",
    "\n",
    "primeraronda7lose = torneosquart[(torneosquart['Loser'] == 'Cameron Norrie')]\n",
    "\n",
    "jugador=pd.concat([primeraronda7win,primeraronda7lose],axis=0)\n",
    "\n",
    "win=jugador.Winner\n",
    "\n",
    "jugador['Win'] = win \n",
    "\n",
    "def win(x):\n",
    "\n",
    "        if x == 'Cameron Norrie':\n",
    "            return 1\n",
    "        else:\n",
    "            return 0\n",
    "\n",
    "jugador.Win = jugador.Win.apply(win)\n",
    "\n",
    "jugador=jugador.drop(columns='Loser')\n",
    "\n",
    "jugador.Series=jugador.Series.apply(lambda x: series[x])\n",
    "jugador.Round=jugador.Round.apply(lambda x: rounds[x])\n",
    "\n",
    "\n",
    "jugador = jugador.drop(columns=['Tournament','Winner','Surface'])\n",
    "\n",
    "X=jugador.drop(columns = 'Win')\n",
    "y=jugador.Win\n",
    "\n",
    "data=pd.DataFrame(StandardScaler().fit_transform(X._get_numeric_data()),\\\n",
    "                     columns=X._get_numeric_data().columns)\n",
    "\n",
    "X_train, X_test, y_train, y_test = tts(data, y, train_size=0.8, test_size=0.2, random_state=42)\n",
    "\n",
    "clf = LazyClassifier(verbose=0, ignore_warnings=True, custom_metric=None)\n",
    "models, predictions = clf.fit(X_train, X_test, y_train, y_test)\n",
    "print(models)\n",
    "\n"
   ]
  },
  {
   "cell_type": "code",
   "execution_count": 361,
   "id": "2601c96b",
   "metadata": {},
   "outputs": [],
   "source": [
    "ABC = AdaBoostClassifier()\n",
    "ABC.fit(X_train, y_train)\n",
    "y_pred_nor2=ABC.predict(X_test)"
   ]
  },
  {
   "cell_type": "code",
   "execution_count": 362,
   "id": "50487666",
   "metadata": {},
   "outputs": [],
   "source": [
    "ratenor2= ratewins(y_pred_nor2)"
   ]
  },
  {
   "cell_type": "code",
   "execution_count": 363,
   "id": "2abd1c98",
   "metadata": {},
   "outputs": [
    {
     "data": {
      "text/plain": [
       "0.2857142857142857"
      ]
     },
     "execution_count": 363,
     "metadata": {},
     "output_type": "execute_result"
    }
   ],
   "source": [
    "ratenor2"
   ]
  },
  {
   "cell_type": "markdown",
   "id": "4cfc8727",
   "metadata": {},
   "source": [
    "### Roberto Bautista Agut"
   ]
  },
  {
   "cell_type": "code",
   "execution_count": 364,
   "id": "797eedb4",
   "metadata": {},
   "outputs": [
    {
     "name": "stderr",
     "output_type": "stream",
     "text": [
      "100%|██████████| 29/29 [00:00<00:00, 86.73it/s]"
     ]
    },
    {
     "name": "stdout",
     "output_type": "stream",
     "text": [
      "                               Accuracy  Balanced Accuracy  ROC AUC  F1 Score  \\\n",
      "Model                                                                           \n",
      "LinearSVC                          1.00               1.00     1.00      1.00   \n",
      "PassiveAggressiveClassifier        1.00               1.00     1.00      1.00   \n",
      "CalibratedClassifierCV             1.00               1.00     1.00      1.00   \n",
      "SGDClassifier                      1.00               1.00     1.00      1.00   \n",
      "RidgeClassifierCV                  1.00               1.00     1.00      1.00   \n",
      "ExtraTreesClassifier               1.00               1.00     1.00      1.00   \n",
      "GaussianNB                         1.00               1.00     1.00      1.00   \n",
      "RidgeClassifier                    1.00               1.00     1.00      1.00   \n",
      "RandomForestClassifier             1.00               1.00     1.00      1.00   \n",
      "QuadraticDiscriminantAnalysis      1.00               1.00     1.00      1.00   \n",
      "LinearDiscriminantAnalysis         1.00               1.00     1.00      1.00   \n",
      "BaggingClassifier                  1.00               1.00     1.00      1.00   \n",
      "LogisticRegression                 1.00               1.00     1.00      1.00   \n",
      "Perceptron                         1.00               1.00     1.00      1.00   \n",
      "XGBClassifier                      0.86               0.92     0.92      0.87   \n",
      "SVC                                0.86               0.92     0.92      0.87   \n",
      "AdaBoostClassifier                 0.86               0.92     0.92      0.87   \n",
      "NuSVC                              0.86               0.92     0.92      0.87   \n",
      "NearestCentroid                    0.86               0.92     0.92      0.87   \n",
      "KNeighborsClassifier               0.86               0.92     0.92      0.87   \n",
      "ExtraTreeClassifier                0.86               0.92     0.92      0.87   \n",
      "LabelSpreading                     0.71               0.83     0.83      0.76   \n",
      "LabelPropagation                   0.71               0.83     0.83      0.76   \n",
      "DecisionTreeClassifier             0.71               0.83     0.83      0.76   \n",
      "BernoulliNB                        0.71               0.83     0.83      0.76   \n",
      "DummyClassifier                    0.86               0.50     0.50      0.79   \n",
      "LGBMClassifier                     0.86               0.50     0.50      0.79   \n",
      "\n",
      "                               Time Taken  \n",
      "Model                                      \n",
      "LinearSVC                            0.01  \n",
      "PassiveAggressiveClassifier          0.00  \n",
      "CalibratedClassifierCV               0.01  \n",
      "SGDClassifier                        0.01  \n",
      "RidgeClassifierCV                    0.01  \n",
      "ExtraTreesClassifier                 0.06  \n",
      "GaussianNB                           0.01  \n",
      "RidgeClassifier                      0.01  \n",
      "RandomForestClassifier               0.07  \n",
      "QuadraticDiscriminantAnalysis        0.00  \n",
      "LinearDiscriminantAnalysis           0.01  \n",
      "BaggingClassifier                    0.01  \n",
      "LogisticRegression                   0.01  \n",
      "Perceptron                           0.00  \n",
      "XGBClassifier                        0.02  \n",
      "SVC                                  0.01  \n",
      "AdaBoostClassifier                   0.04  \n",
      "NuSVC                                0.01  \n",
      "NearestCentroid                      0.00  \n",
      "KNeighborsClassifier                 0.01  \n",
      "ExtraTreeClassifier                  0.00  \n",
      "LabelSpreading                       0.01  \n",
      "LabelPropagation                     0.01  \n",
      "DecisionTreeClassifier               0.00  \n",
      "BernoulliNB                          0.00  \n",
      "DummyClassifier                      0.00  \n",
      "LGBMClassifier                       0.01  \n"
     ]
    },
    {
     "name": "stderr",
     "output_type": "stream",
     "text": [
      "\n"
     ]
    }
   ],
   "source": [
    "primeraronda4wina = torneosquart[(torneosquart['Winner'] == 'Roberto Bautista Agut')]\n",
    "\n",
    "primeraronda4losea = torneosquart[(torneosquart['Loser'] == 'Roberto Bautista Agut')]\n",
    "\n",
    "jugador=pd.concat([primeraronda4wina,primeraronda4losea],axis=0)\n",
    "\n",
    "win=jugador.Winner\n",
    "\n",
    "jugador['Win'] = win \n",
    "\n",
    "def win(x):\n",
    "\n",
    "        if x == 'Roberto Bautista Agut':\n",
    "            return 1\n",
    "        else:\n",
    "            return 0\n",
    "\n",
    "jugador.Win = jugador.Win.apply(win)\n",
    "\n",
    "jugador=jugador.drop(columns='Loser')\n",
    "\n",
    "jugador.Series=jugador.Series.apply(lambda x: series[x])\n",
    "jugador.Round=jugador.Round.apply(lambda x: rounds[x])\n",
    "\n",
    "\n",
    "jugador = jugador.drop(columns=['Tournament','Winner','Surface'])\n",
    "\n",
    "X=jugador.drop(columns = 'Win')\n",
    "y=jugador.Win\n",
    "\n",
    "data=pd.DataFrame(StandardScaler().fit_transform(X._get_numeric_data()),\\\n",
    "                     columns=X._get_numeric_data().columns)\n",
    "\n",
    "X_train, X_test, y_train, y_test = tts(data, y, train_size=0.8, test_size=0.2, random_state=42)\n",
    "\n",
    "clf = LazyClassifier(verbose=0, ignore_warnings=True, custom_metric=None)\n",
    "models, predictions = clf.fit(X_train, X_test, y_train, y_test)\n",
    "print(models)\n",
    "\n"
   ]
  },
  {
   "cell_type": "code",
   "execution_count": 365,
   "id": "6c58313d",
   "metadata": {},
   "outputs": [],
   "source": [
    "linearsvc = LinearSVC()\n",
    "linearsvc.fit(X_train, y_train)\n",
    "y_pred_bau2=linearsvc.predict(X_test)"
   ]
  },
  {
   "cell_type": "code",
   "execution_count": 366,
   "id": "cf4f7305",
   "metadata": {},
   "outputs": [],
   "source": [
    "ratebau2= ratewins(y_pred_bau2)"
   ]
  },
  {
   "cell_type": "code",
   "execution_count": 367,
   "id": "d09390ba",
   "metadata": {
    "scrolled": true
   },
   "outputs": [
    {
     "data": {
      "text/plain": [
       "0.14285714285714285"
      ]
     },
     "execution_count": 367,
     "metadata": {},
     "output_type": "execute_result"
    }
   ],
   "source": [
    "ratebau2"
   ]
  },
  {
   "cell_type": "markdown",
   "id": "28db60cd",
   "metadata": {},
   "source": [
    "### El ratio de victorias Cameron Norrie es mayor, por lo que consideremos que gana el encuentro y pasa a la siguiente ronda. Roberto Bautista es eliminado."
   ]
  },
  {
   "cell_type": "markdown",
   "id": "a32dacae",
   "metadata": {},
   "source": [
    "# Pareja 7"
   ]
  },
  {
   "cell_type": "code",
   "execution_count": 368,
   "id": "4e3ee52b",
   "metadata": {},
   "outputs": [
    {
     "data": {
      "text/plain": [
       "['Matteo Berrettini', 'Karen Khachanov']"
      ]
     },
     "execution_count": 368,
     "metadata": {},
     "output_type": "execute_result"
    }
   ],
   "source": [
    "parq7"
   ]
  },
  {
   "cell_type": "markdown",
   "id": "3199fb9a",
   "metadata": {},
   "source": [
    "### Matteo Berrettini"
   ]
  },
  {
   "cell_type": "code",
   "execution_count": 369,
   "id": "22fc2428",
   "metadata": {},
   "outputs": [
    {
     "name": "stderr",
     "output_type": "stream",
     "text": [
      "100%|██████████| 29/29 [00:00<00:00, 86.71it/s]"
     ]
    },
    {
     "name": "stdout",
     "output_type": "stream",
     "text": [
      "                               Accuracy  Balanced Accuracy  ROC AUC  F1 Score  \\\n",
      "Model                                                                           \n",
      "LinearSVC                          1.00               1.00     1.00      1.00   \n",
      "RandomForestClassifier             1.00               1.00     1.00      1.00   \n",
      "Perceptron                         1.00               1.00     1.00      1.00   \n",
      "PassiveAggressiveClassifier        1.00               1.00     1.00      1.00   \n",
      "RidgeClassifierCV                  1.00               1.00     1.00      1.00   \n",
      "LogisticRegression                 1.00               1.00     1.00      1.00   \n",
      "BaggingClassifier                  1.00               1.00     1.00      1.00   \n",
      "LinearDiscriminantAnalysis         1.00               1.00     1.00      1.00   \n",
      "RidgeClassifier                    1.00               1.00     1.00      1.00   \n",
      "GaussianNB                         1.00               1.00     1.00      1.00   \n",
      "ExtraTreesClassifier               1.00               1.00     1.00      1.00   \n",
      "SGDClassifier                      1.00               1.00     1.00      1.00   \n",
      "SVC                                1.00               1.00     1.00      1.00   \n",
      "XGBClassifier                      1.00               1.00     1.00      1.00   \n",
      "CalibratedClassifierCV             1.00               1.00     1.00      1.00   \n",
      "BernoulliNB                        1.00               1.00     1.00      1.00   \n",
      "KNeighborsClassifier               0.88               0.90     0.90      0.88   \n",
      "LabelSpreading                     0.88               0.90     0.90      0.88   \n",
      "NearestCentroid                    0.88               0.90     0.90      0.88   \n",
      "LabelPropagation                   0.88               0.90     0.90      0.88   \n",
      "AdaBoostClassifier                 0.88               0.83     0.83      0.87   \n",
      "QuadraticDiscriminantAnalysis      0.88               0.83     0.83      0.87   \n",
      "NuSVC                              0.88               0.83     0.83      0.87   \n",
      "ExtraTreeClassifier                0.88               0.83     0.83      0.87   \n",
      "DecisionTreeClassifier             0.88               0.83     0.83      0.87   \n",
      "DummyClassifier                    0.62               0.50     0.50      0.48   \n",
      "LGBMClassifier                     0.62               0.50     0.50      0.48   \n",
      "\n",
      "                               Time Taken  \n",
      "Model                                      \n",
      "LinearSVC                            0.01  \n",
      "RandomForestClassifier               0.07  \n",
      "Perceptron                           0.00  \n",
      "PassiveAggressiveClassifier          0.00  \n",
      "RidgeClassifierCV                    0.01  \n",
      "LogisticRegression                   0.01  \n",
      "BaggingClassifier                    0.01  \n",
      "LinearDiscriminantAnalysis           0.01  \n",
      "RidgeClassifier                      0.01  \n",
      "GaussianNB                           0.01  \n",
      "ExtraTreesClassifier                 0.06  \n",
      "SGDClassifier                        0.01  \n",
      "SVC                                  0.01  \n",
      "XGBClassifier                        0.02  \n",
      "CalibratedClassifierCV               0.01  \n",
      "BernoulliNB                          0.00  \n",
      "KNeighborsClassifier                 0.01  \n",
      "LabelSpreading                       0.01  \n",
      "NearestCentroid                      0.00  \n",
      "LabelPropagation                     0.01  \n",
      "AdaBoostClassifier                   0.04  \n",
      "QuadraticDiscriminantAnalysis        0.00  \n",
      "NuSVC                                0.00  \n",
      "ExtraTreeClassifier                  0.00  \n",
      "DecisionTreeClassifier               0.00  \n",
      "DummyClassifier                      0.00  \n",
      "LGBMClassifier                       0.01  \n"
     ]
    },
    {
     "name": "stderr",
     "output_type": "stream",
     "text": [
      "\n"
     ]
    }
   ],
   "source": [
    "primeraronda7win = torneosquart[(torneosquart['Winner'] == 'Matteo Berrettini')]\n",
    "\n",
    "primeraronda7lose = torneosquart[(torneosquart['Loser'] == 'Matteo Berrettini')]\n",
    "\n",
    "jugador=pd.concat([primeraronda7win,primeraronda7lose],axis=0)\n",
    "\n",
    "win=jugador.Winner\n",
    "\n",
    "jugador['Win'] = win \n",
    "\n",
    "def win(x):\n",
    "\n",
    "        if x == 'Matteo Berrettini':\n",
    "            return 1\n",
    "        else:\n",
    "            return 0\n",
    "\n",
    "jugador.Win = jugador.Win.apply(win)\n",
    "\n",
    "jugador=jugador.drop(columns='Loser')\n",
    "\n",
    "jugador.Series=jugador.Series.apply(lambda x: series[x])\n",
    "jugador.Round=jugador.Round.apply(lambda x: rounds[x])\n",
    "\n",
    "\n",
    "jugador = jugador.drop(columns=['Tournament','Winner','Surface'])\n",
    "\n",
    "X=jugador.drop(columns = 'Win')\n",
    "y=jugador.Win\n",
    "\n",
    "data=pd.DataFrame(StandardScaler().fit_transform(X._get_numeric_data()),\\\n",
    "                     columns=X._get_numeric_data().columns)\n",
    "\n",
    "X_train, X_test, y_train, y_test = tts(data, y, train_size=0.8, test_size=0.2, random_state=42)\n",
    "\n",
    "clf = LazyClassifier(verbose=0, ignore_warnings=True, custom_metric=None)\n",
    "models, predictions = clf.fit(X_train, X_test, y_train, y_test)\n",
    "print(models)\n",
    "\n"
   ]
  },
  {
   "cell_type": "code",
   "execution_count": 370,
   "id": "85c0944b",
   "metadata": {},
   "outputs": [],
   "source": [
    "linearsvc  = LinearSVC()\n",
    "linearsvc.fit(X_train, y_train)\n",
    "y_pred_ber2=linearsvc.predict(X_test)"
   ]
  },
  {
   "cell_type": "code",
   "execution_count": 371,
   "id": "14292e1f",
   "metadata": {},
   "outputs": [],
   "source": [
    "rateber2= ratewins(y_pred_ber2)"
   ]
  },
  {
   "cell_type": "code",
   "execution_count": 372,
   "id": "328dfcd1",
   "metadata": {},
   "outputs": [
    {
     "data": {
      "text/plain": [
       "0.375"
      ]
     },
     "execution_count": 372,
     "metadata": {},
     "output_type": "execute_result"
    }
   ],
   "source": [
    "rateber2"
   ]
  },
  {
   "cell_type": "markdown",
   "id": "a995ba07",
   "metadata": {},
   "source": [
    "### Karen Khachanov"
   ]
  },
  {
   "cell_type": "code",
   "execution_count": 373,
   "id": "5c35eb87",
   "metadata": {},
   "outputs": [
    {
     "name": "stderr",
     "output_type": "stream",
     "text": [
      "100%|██████████| 29/29 [00:00<00:00, 76.04it/s]"
     ]
    },
    {
     "name": "stdout",
     "output_type": "stream",
     "text": [
      "                               Accuracy  Balanced Accuracy  ROC AUC  F1 Score  \\\n",
      "Model                                                                           \n",
      "AdaBoostClassifier                 1.00               1.00     1.00      1.00   \n",
      "SVC                                1.00               1.00     1.00      1.00   \n",
      "QuadraticDiscriminantAnalysis      1.00               1.00     1.00      1.00   \n",
      "RandomForestClassifier             1.00               1.00     1.00      1.00   \n",
      "ExtraTreesClassifier               1.00               1.00     1.00      1.00   \n",
      "GaussianNB                         1.00               1.00     1.00      1.00   \n",
      "NuSVC                              1.00               1.00     1.00      1.00   \n",
      "DecisionTreeClassifier             0.91               0.94     0.94      0.91   \n",
      "KNeighborsClassifier               0.91               0.94     0.94      0.91   \n",
      "LabelPropagation                   0.91               0.94     0.94      0.91   \n",
      "LabelSpreading                     0.91               0.94     0.94      0.91   \n",
      "BernoulliNB                        0.91               0.94     0.94      0.91   \n",
      "NearestCentroid                    0.91               0.94     0.94      0.91   \n",
      "RidgeClassifierCV                  0.82               0.88     0.88      0.83   \n",
      "PassiveAggressiveClassifier        0.82               0.88     0.88      0.83   \n",
      "XGBClassifier                      0.82               0.88     0.88      0.83   \n",
      "Perceptron                         0.82               0.88     0.88      0.83   \n",
      "LinearSVC                          0.82               0.88     0.88      0.83   \n",
      "LogisticRegression                 0.82               0.88     0.88      0.83   \n",
      "ExtraTreeClassifier                0.82               0.88     0.88      0.83   \n",
      "BaggingClassifier                  0.73               0.81     0.81      0.74   \n",
      "SGDClassifier                      0.73               0.71     0.71      0.74   \n",
      "CalibratedClassifierCV             0.73               0.71     0.71      0.74   \n",
      "LinearDiscriminantAnalysis         0.64               0.65     0.65      0.66   \n",
      "RidgeClassifier                    0.64               0.65     0.65      0.66   \n",
      "DummyClassifier                    0.73               0.50     0.50      0.61   \n",
      "LGBMClassifier                     0.73               0.50     0.50      0.61   \n",
      "\n",
      "                               Time Taken  \n",
      "Model                                      \n",
      "AdaBoostClassifier                   0.04  \n",
      "SVC                                  0.01  \n",
      "QuadraticDiscriminantAnalysis        0.00  \n",
      "RandomForestClassifier               0.07  \n",
      "ExtraTreesClassifier                 0.06  \n",
      "GaussianNB                           0.01  \n",
      "NuSVC                                0.01  \n",
      "DecisionTreeClassifier               0.00  \n",
      "KNeighborsClassifier                 0.01  \n",
      "LabelPropagation                     0.01  \n",
      "LabelSpreading                       0.01  \n",
      "BernoulliNB                          0.00  \n",
      "NearestCentroid                      0.00  \n",
      "RidgeClassifierCV                    0.01  \n",
      "PassiveAggressiveClassifier          0.01  \n",
      "XGBClassifier                        0.04  \n",
      "Perceptron                           0.00  \n",
      "LinearSVC                            0.01  \n",
      "LogisticRegression                   0.01  \n",
      "ExtraTreeClassifier                  0.00  \n",
      "BaggingClassifier                    0.01  \n",
      "SGDClassifier                        0.01  \n",
      "CalibratedClassifierCV               0.01  \n",
      "LinearDiscriminantAnalysis           0.01  \n",
      "RidgeClassifier                      0.01  \n",
      "DummyClassifier                      0.00  \n",
      "LGBMClassifier                       0.03  \n"
     ]
    },
    {
     "name": "stderr",
     "output_type": "stream",
     "text": [
      "\n"
     ]
    }
   ],
   "source": [
    "primeraronda4wina = torneosquart[(torneosquart['Winner'] == 'Karen Khachanov')]\n",
    "\n",
    "primeraronda4losea = torneosquart[(torneosquart['Loser'] == 'Karen Khachanov')]\n",
    "\n",
    "jugador=pd.concat([primeraronda4wina,primeraronda4losea],axis=0)\n",
    "\n",
    "win=jugador.Winner\n",
    "\n",
    "jugador['Win'] = win \n",
    "\n",
    "def win(x):\n",
    "\n",
    "        if x == 'Karen Khachanov':\n",
    "            return 1\n",
    "        else:\n",
    "            return 0\n",
    "\n",
    "jugador.Win = jugador.Win.apply(win)\n",
    "\n",
    "jugador=jugador.drop(columns='Loser')\n",
    "\n",
    "jugador.Series=jugador.Series.apply(lambda x: series[x])\n",
    "jugador.Round=jugador.Round.apply(lambda x: rounds[x])\n",
    "\n",
    "\n",
    "jugador = jugador.drop(columns=['Tournament','Winner','Surface'])\n",
    "\n",
    "X=jugador.drop(columns = 'Win')\n",
    "y=jugador.Win\n",
    "\n",
    "data=pd.DataFrame(StandardScaler().fit_transform(X._get_numeric_data()),\\\n",
    "                     columns=X._get_numeric_data().columns)\n",
    "\n",
    "X_train, X_test, y_train, y_test = tts(data, y, train_size=0.8, test_size=0.2, random_state=42)\n",
    "\n",
    "clf = LazyClassifier(verbose=0, ignore_warnings=True, custom_metric=None)\n",
    "models, predictions = clf.fit(X_train, X_test, y_train, y_test)\n",
    "print(models)\n",
    "\n"
   ]
  },
  {
   "cell_type": "code",
   "execution_count": 374,
   "id": "5f7d471c",
   "metadata": {},
   "outputs": [],
   "source": [
    "ABC = AdaBoostClassifier ()\n",
    "ABC.fit(X_train, y_train)\n",
    "y_pred_kac2=ABC.predict(X_test)"
   ]
  },
  {
   "cell_type": "code",
   "execution_count": 375,
   "id": "f152989e",
   "metadata": {},
   "outputs": [],
   "source": [
    "ratekac2= ratewins(y_pred_kac2)"
   ]
  },
  {
   "cell_type": "code",
   "execution_count": 376,
   "id": "dd07405e",
   "metadata": {
    "scrolled": true
   },
   "outputs": [
    {
     "data": {
      "text/plain": [
       "0.2727272727272727"
      ]
     },
     "execution_count": 376,
     "metadata": {},
     "output_type": "execute_result"
    }
   ],
   "source": [
    "ratekac2"
   ]
  },
  {
   "cell_type": "markdown",
   "id": "a5687d95",
   "metadata": {},
   "source": [
    "### El ratio de victorias Matteo Berrettini es mayor, por lo que consideremos que gana el encuentro y pasa a la siguiente ronda.  Karen Khachanov es eliminado."
   ]
  },
  {
   "cell_type": "markdown",
   "id": "4fbcde3f",
   "metadata": {},
   "source": [
    "# Pareja 8"
   ]
  },
  {
   "cell_type": "code",
   "execution_count": 377,
   "id": "00a5e751",
   "metadata": {},
   "outputs": [
    {
     "data": {
      "text/plain": [
       "['Carlos Alcaraz', 'Marin Cilic']"
      ]
     },
     "execution_count": 377,
     "metadata": {},
     "output_type": "execute_result"
    }
   ],
   "source": [
    "parq8"
   ]
  },
  {
   "cell_type": "markdown",
   "id": "10df7164",
   "metadata": {},
   "source": [
    "### Carlos Alcaraz"
   ]
  },
  {
   "cell_type": "code",
   "execution_count": 378,
   "id": "34863948",
   "metadata": {},
   "outputs": [
    {
     "name": "stderr",
     "output_type": "stream",
     "text": [
      "100%|██████████| 29/29 [00:00<00:00, 94.03it/s]"
     ]
    },
    {
     "name": "stdout",
     "output_type": "stream",
     "text": [
      "                               Accuracy  Balanced Accuracy  ROC AUC  F1 Score  \\\n",
      "Model                                                                           \n",
      "AdaBoostClassifier                 1.00               1.00     1.00      1.00   \n",
      "BaggingClassifier                  1.00               1.00     1.00      1.00   \n",
      "XGBClassifier                      1.00               1.00     1.00      1.00   \n",
      "SVC                                1.00               1.00     1.00      1.00   \n",
      "SGDClassifier                      1.00               1.00     1.00      1.00   \n",
      "RidgeClassifierCV                  1.00               1.00     1.00      1.00   \n",
      "RidgeClassifier                    1.00               1.00     1.00      1.00   \n",
      "RandomForestClassifier             1.00               1.00     1.00      1.00   \n",
      "Perceptron                         1.00               1.00     1.00      1.00   \n",
      "PassiveAggressiveClassifier        1.00               1.00     1.00      1.00   \n",
      "NuSVC                              1.00               1.00     1.00      1.00   \n",
      "NearestCentroid                    1.00               1.00     1.00      1.00   \n",
      "LogisticRegression                 1.00               1.00     1.00      1.00   \n",
      "LinearSVC                          1.00               1.00     1.00      1.00   \n",
      "LinearDiscriminantAnalysis         1.00               1.00     1.00      1.00   \n",
      "LabelSpreading                     1.00               1.00     1.00      1.00   \n",
      "LabelPropagation                   1.00               1.00     1.00      1.00   \n",
      "GaussianNB                         1.00               1.00     1.00      1.00   \n",
      "ExtraTreesClassifier               1.00               1.00     1.00      1.00   \n",
      "DecisionTreeClassifier             1.00               1.00     1.00      1.00   \n",
      "CalibratedClassifierCV             1.00               1.00     1.00      1.00   \n",
      "BernoulliNB                        1.00               1.00     1.00      1.00   \n",
      "QuadraticDiscriminantAnalysis      0.33               0.60     0.60      0.33   \n",
      "KNeighborsClassifier               0.83               0.50     0.50      0.76   \n",
      "ExtraTreeClassifier                0.83               0.50     0.50      0.76   \n",
      "DummyClassifier                    0.83               0.50     0.50      0.76   \n",
      "LGBMClassifier                     0.83               0.50     0.50      0.76   \n",
      "\n",
      "                               Time Taken  \n",
      "Model                                      \n",
      "AdaBoostClassifier                   0.01  \n",
      "BaggingClassifier                    0.01  \n",
      "XGBClassifier                        0.02  \n",
      "SVC                                  0.01  \n",
      "SGDClassifier                        0.01  \n",
      "RidgeClassifierCV                    0.01  \n",
      "RidgeClassifier                      0.01  \n",
      "RandomForestClassifier               0.07  \n",
      "Perceptron                           0.00  \n",
      "PassiveAggressiveClassifier          0.00  \n",
      "NuSVC                                0.01  \n",
      "NearestCentroid                      0.00  \n",
      "LogisticRegression                   0.01  \n",
      "LinearSVC                            0.01  \n",
      "LinearDiscriminantAnalysis           0.01  \n",
      "LabelSpreading                       0.01  \n",
      "LabelPropagation                     0.01  \n",
      "GaussianNB                           0.01  \n",
      "ExtraTreesClassifier                 0.05  \n",
      "DecisionTreeClassifier               0.00  \n",
      "CalibratedClassifierCV               0.01  \n",
      "BernoulliNB                          0.01  \n",
      "QuadraticDiscriminantAnalysis        0.00  \n",
      "KNeighborsClassifier                 0.01  \n",
      "ExtraTreeClassifier                  0.01  \n",
      "DummyClassifier                      0.00  \n",
      "LGBMClassifier                       0.01  \n"
     ]
    },
    {
     "name": "stderr",
     "output_type": "stream",
     "text": [
      "\n"
     ]
    }
   ],
   "source": [
    "primeraronda7win = torneosquart[(torneosquart['Winner'] == 'Carlos Alcaraz')]\n",
    "\n",
    "primeraronda7lose = torneosquart[(torneosquart['Loser'] == 'Carlos Alcaraz')]\n",
    "\n",
    "jugador=pd.concat([primeraronda7win,primeraronda7lose],axis=0)\n",
    "\n",
    "win=jugador.Winner\n",
    "\n",
    "jugador['Win'] = win \n",
    "\n",
    "def win(x):\n",
    "\n",
    "        if x == 'Carlos Alcaraz':\n",
    "            return 1\n",
    "        else:\n",
    "            return 0\n",
    "\n",
    "jugador.Win = jugador.Win.apply(win)\n",
    "\n",
    "jugador=jugador.drop(columns='Loser')\n",
    "\n",
    "jugador.Series=jugador.Series.apply(lambda x: series[x])\n",
    "jugador.Round=jugador.Round.apply(lambda x: rounds[x])\n",
    "\n",
    "\n",
    "jugador = jugador.drop(columns=['Tournament','Winner','Surface'])\n",
    "\n",
    "X=jugador.drop(columns = 'Win')\n",
    "y=jugador.Win\n",
    "\n",
    "data=pd.DataFrame(StandardScaler().fit_transform(X._get_numeric_data()),\\\n",
    "                     columns=X._get_numeric_data().columns)\n",
    "\n",
    "X_train, X_test, y_train, y_test = tts(data, y, train_size=0.8, test_size=0.2, random_state=42)\n",
    "\n",
    "clf = LazyClassifier(verbose=0, ignore_warnings=True, custom_metric=None)\n",
    "models, predictions = clf.fit(X_train, X_test, y_train, y_test)\n",
    "print(models)\n",
    "\n"
   ]
  },
  {
   "cell_type": "code",
   "execution_count": 379,
   "id": "fabf4299",
   "metadata": {},
   "outputs": [],
   "source": [
    "ABC  = AdaBoostClassifier()\n",
    "ABC.fit(X_train, y_train)\n",
    "y_pred_alc2=ABC.predict(X_test)"
   ]
  },
  {
   "cell_type": "code",
   "execution_count": 380,
   "id": "0d50910d",
   "metadata": {},
   "outputs": [],
   "source": [
    "ratealc2= ratewins(y_pred_alc2)"
   ]
  },
  {
   "cell_type": "code",
   "execution_count": 381,
   "id": "1d855e54",
   "metadata": {},
   "outputs": [
    {
     "data": {
      "text/plain": [
       "0.8333333333333334"
      ]
     },
     "execution_count": 381,
     "metadata": {},
     "output_type": "execute_result"
    }
   ],
   "source": [
    "ratealc2"
   ]
  },
  {
   "cell_type": "markdown",
   "id": "873865d3",
   "metadata": {},
   "source": [
    "### Marin Cilic"
   ]
  },
  {
   "cell_type": "code",
   "execution_count": 382,
   "id": "1e002b59",
   "metadata": {},
   "outputs": [
    {
     "name": "stderr",
     "output_type": "stream",
     "text": [
      "100%|██████████| 29/29 [00:00<00:00, 87.25it/s]"
     ]
    },
    {
     "name": "stdout",
     "output_type": "stream",
     "text": [
      "                               Accuracy  Balanced Accuracy  ROC AUC  F1 Score  \\\n",
      "Model                                                                           \n",
      "AdaBoostClassifier                 1.00               1.00     1.00      1.00   \n",
      "BaggingClassifier                  1.00               1.00     1.00      1.00   \n",
      "XGBClassifier                      1.00               1.00     1.00      1.00   \n",
      "SVC                                1.00               1.00     1.00      1.00   \n",
      "SGDClassifier                      1.00               1.00     1.00      1.00   \n",
      "RidgeClassifierCV                  1.00               1.00     1.00      1.00   \n",
      "RidgeClassifier                    1.00               1.00     1.00      1.00   \n",
      "RandomForestClassifier             1.00               1.00     1.00      1.00   \n",
      "QuadraticDiscriminantAnalysis      1.00               1.00     1.00      1.00   \n",
      "Perceptron                         1.00               1.00     1.00      1.00   \n",
      "PassiveAggressiveClassifier        1.00               1.00     1.00      1.00   \n",
      "NuSVC                              1.00               1.00     1.00      1.00   \n",
      "LogisticRegression                 1.00               1.00     1.00      1.00   \n",
      "LinearSVC                          1.00               1.00     1.00      1.00   \n",
      "LinearDiscriminantAnalysis         1.00               1.00     1.00      1.00   \n",
      "LabelSpreading                     1.00               1.00     1.00      1.00   \n",
      "LabelPropagation                   1.00               1.00     1.00      1.00   \n",
      "KNeighborsClassifier               1.00               1.00     1.00      1.00   \n",
      "GaussianNB                         1.00               1.00     1.00      1.00   \n",
      "ExtraTreesClassifier               1.00               1.00     1.00      1.00   \n",
      "ExtraTreeClassifier                1.00               1.00     1.00      1.00   \n",
      "DecisionTreeClassifier             1.00               1.00     1.00      1.00   \n",
      "CalibratedClassifierCV             1.00               1.00     1.00      1.00   \n",
      "BernoulliNB                        1.00               1.00     1.00      1.00   \n",
      "NearestCentroid                    0.88               0.92     0.92      0.88   \n",
      "DummyClassifier                    0.75               0.50     0.50      0.64   \n",
      "LGBMClassifier                     0.75               0.50     0.50      0.64   \n",
      "\n",
      "                               Time Taken  \n",
      "Model                                      \n",
      "AdaBoostClassifier                   0.04  \n",
      "BaggingClassifier                    0.01  \n",
      "XGBClassifier                        0.02  \n",
      "SVC                                  0.01  \n",
      "SGDClassifier                        0.00  \n",
      "RidgeClassifierCV                    0.01  \n",
      "RidgeClassifier                      0.01  \n",
      "RandomForestClassifier               0.07  \n",
      "QuadraticDiscriminantAnalysis        0.00  \n",
      "Perceptron                           0.00  \n",
      "PassiveAggressiveClassifier          0.00  \n",
      "NuSVC                                0.00  \n",
      "LogisticRegression                   0.01  \n",
      "LinearSVC                            0.00  \n",
      "LinearDiscriminantAnalysis           0.01  \n",
      "LabelSpreading                       0.01  \n",
      "LabelPropagation                     0.01  \n",
      "KNeighborsClassifier                 0.01  \n",
      "GaussianNB                           0.01  \n",
      "ExtraTreesClassifier                 0.05  \n",
      "ExtraTreeClassifier                  0.00  \n",
      "DecisionTreeClassifier               0.01  \n",
      "CalibratedClassifierCV               0.01  \n",
      "BernoulliNB                          0.00  \n",
      "NearestCentroid                      0.00  \n",
      "DummyClassifier                      0.00  \n",
      "LGBMClassifier                       0.01  \n"
     ]
    },
    {
     "name": "stderr",
     "output_type": "stream",
     "text": [
      "\n"
     ]
    }
   ],
   "source": [
    "primeraronda4wina = torneosquart[(torneosquart['Winner'] == 'Marin Cilic')]\n",
    "\n",
    "primeraronda4losea = torneosquart[(torneosquart['Loser'] == 'Marin Cilic')]\n",
    "\n",
    "jugador=pd.concat([primeraronda4wina,primeraronda4losea],axis=0)\n",
    "\n",
    "win=jugador.Winner\n",
    "\n",
    "jugador['Win'] = win \n",
    "\n",
    "def win(x):\n",
    "\n",
    "        if x == 'Marin Cilic':\n",
    "            return 1\n",
    "        else:\n",
    "            return 0\n",
    "\n",
    "jugador.Win = jugador.Win.apply(win)\n",
    "\n",
    "jugador=jugador.drop(columns='Loser')\n",
    "\n",
    "jugador.Series=jugador.Series.apply(lambda x: series[x])\n",
    "jugador.Round=jugador.Round.apply(lambda x: rounds[x])\n",
    "\n",
    "\n",
    "jugador = jugador.drop(columns=['Tournament','Winner','Surface'])\n",
    "\n",
    "X=jugador.drop(columns = 'Win')\n",
    "y=jugador.Win\n",
    "\n",
    "data=pd.DataFrame(StandardScaler().fit_transform(X._get_numeric_data()),\\\n",
    "                     columns=X._get_numeric_data().columns)\n",
    "\n",
    "X_train, X_test, y_train, y_test = tts(data, y, train_size=0.8, test_size=0.2, random_state=42)\n",
    "\n",
    "clf = LazyClassifier(verbose=0, ignore_warnings=True, custom_metric=None)\n",
    "models, predictions = clf.fit(X_train, X_test, y_train, y_test)\n",
    "print(models)\n",
    "\n"
   ]
  },
  {
   "cell_type": "code",
   "execution_count": 383,
   "id": "48cd0a22",
   "metadata": {},
   "outputs": [],
   "source": [
    "ABC = AdaBoostClassifier()\n",
    "ABC.fit(X_train, y_train)\n",
    "y_pred_cil2=ABC.predict(X_test)"
   ]
  },
  {
   "cell_type": "code",
   "execution_count": 384,
   "id": "303e3798",
   "metadata": {},
   "outputs": [],
   "source": [
    "ratecil2= ratewins(y_pred_cil2)"
   ]
  },
  {
   "cell_type": "code",
   "execution_count": 385,
   "id": "92be8b2a",
   "metadata": {
    "scrolled": true
   },
   "outputs": [
    {
     "data": {
      "text/plain": [
       "0.25"
      ]
     },
     "execution_count": 385,
     "metadata": {},
     "output_type": "execute_result"
    }
   ],
   "source": [
    "ratecil2"
   ]
  },
  {
   "cell_type": "markdown",
   "id": "5778c4af",
   "metadata": {},
   "source": [
    "### El ratio de victorias Carlos Alcaraz es mayor, por lo que consideremos que gana el encuentro y pasa a la siguiente ronda.  Marin Cilic es eliminado."
   ]
  },
  {
   "cell_type": "markdown",
   "id": "536675da",
   "metadata": {},
   "source": [
    "# Quarterfinals"
   ]
  },
  {
   "cell_type": "code",
   "execution_count": 386,
   "id": "233ede8c",
   "metadata": {},
   "outputs": [],
   "source": [
    "jugadoressemifinals = ['Rafael Nadal','Novak Djokovic','Andrey Rublev','Matteo Berrettini',\n",
    "                       'Carlos Alcaraz','Stefanos Tsitsipas','Alexander Zverev','Cameron Norrie']\n",
    "               "
   ]
  },
  {
   "cell_type": "code",
   "execution_count": 387,
   "id": "ef5f5767",
   "metadata": {},
   "outputs": [],
   "source": [
    "parejas1=[]\n",
    "for i in range(1):\n",
    "    random.seed(2)\n",
    "    parejas1.append(random.sample(jugadoressemifinals,k=2))\n",
    "    for e in parejas1[0]: \n",
    "        jugadoressemifinals.remove(e)\n",
    "parejas2=[]\n",
    "for i in range(1):\n",
    "    random.seed(2)\n",
    "    parejas2.append(random.sample(jugadoressemifinals,k=2))\n",
    "    for e in parejas2[0]: \n",
    "        jugadoressemifinals.remove(e)\n",
    "parejas3=[]\n",
    "for i in range(1):\n",
    "    random.seed(2)\n",
    "    parejas3.append(random.sample(jugadoressemifinals,k=2))\n",
    "    for e in parejas3[0]: \n",
    "        jugadoressemifinals.remove(e)\n",
    "parejas4=[]\n",
    "for i in range(1):\n",
    "    random.seed(2)\n",
    "    \n",
    "    parejas4.append(random.sample(jugadoressemifinals,k=2))\n",
    "    for e in parejas4[0]: \n",
    "        jugadoressemifinals.remove(e)"
   ]
  },
  {
   "cell_type": "code",
   "execution_count": 388,
   "id": "843630ed",
   "metadata": {},
   "outputs": [
    {
     "data": {
      "text/plain": [
       "[['Novak Djokovic', 'Alexander Zverev']]"
      ]
     },
     "execution_count": 388,
     "metadata": {},
     "output_type": "execute_result"
    }
   ],
   "source": [
    "parejas2"
   ]
  },
  {
   "cell_type": "code",
   "execution_count": 389,
   "id": "dab8b572",
   "metadata": {},
   "outputs": [],
   "source": [
    "pars1=[]\n",
    "for i in parejas1[0]:\n",
    "    pars1.append(i)\n",
    "pars2=[]\n",
    "for i in parejas2[0]:\n",
    "    pars2.append(i)\n",
    "pars3=[]\n",
    "for i in parejas3[0]:\n",
    "    pars3.append(i)\n",
    "pars4=[]\n",
    "for i in parejas4[0]:\n",
    "    pars4.append(i)\n"
   ]
  },
  {
   "cell_type": "code",
   "execution_count": 390,
   "id": "b865908c",
   "metadata": {},
   "outputs": [],
   "source": [
    "torneossem=totaltorneos[(totaltorneos['Winner'] == 'Rafael Nadal') | (totaltorneos['Winner'] == 'Novak Djokovic')\n",
    "               | (totaltorneos['Winner'] == 'Andrey Rublev') | (totaltorneos['Winner'] == 'Stefanos Tsitsipas')\n",
    "               | (totaltorneos['Winner'] == 'Matteo Berrettini')| (totaltorneos['Winner'] == 'Carlos Alcaraz')\n",
    "               | (totaltorneos['Winner'] == 'Alexander Zverev') | (totaltorneos['Winner'] == 'Cameron Norrie')]                                        \n",
    "\n",
    "                                                                   "
   ]
  },
  {
   "cell_type": "code",
   "execution_count": 391,
   "id": "5a082016",
   "metadata": {},
   "outputs": [],
   "source": [
    "torneossem=torneossem[(torneossem['Loser'] == 'Rafael Nadal') | (torneossem['Loser'] == 'Novak Djokovic')\n",
    "               | (torneossem['Loser'] == 'Andrey Rublev') | (torneossem['Loser'] == 'Stefanos Tsitsipas')\n",
    "               | (torneossem['Loser'] == 'Matteo Berrettini')| (torneossem['Loser'] == 'Carlos Alcaraz')\n",
    "               | (torneossem['Loser'] == 'Alexander Zverev') | (torneossem['Loser'] == 'Cameron Norrie')]       "
   ]
  },
  {
   "cell_type": "code",
   "execution_count": 392,
   "id": "415ce9fc",
   "metadata": {},
   "outputs": [
    {
     "data": {
      "text/plain": [
       "array(['Novak Djokovic', 'Carlos Alcaraz', 'Cameron Norrie',\n",
       "       'Andrey Rublev', 'Matteo Berrettini', 'Rafael Nadal',\n",
       "       'Alexander Zverev', 'Stefanos Tsitsipas'], dtype=object)"
      ]
     },
     "execution_count": 392,
     "metadata": {},
     "output_type": "execute_result"
    }
   ],
   "source": [
    "torneossem.Winner.unique()"
   ]
  },
  {
   "cell_type": "markdown",
   "id": "98151cd7",
   "metadata": {},
   "source": [
    "# Pareja 1"
   ]
  },
  {
   "cell_type": "code",
   "execution_count": 393,
   "id": "7f14005d",
   "metadata": {},
   "outputs": [
    {
     "data": {
      "text/plain": [
       "['Rafael Nadal', 'Cameron Norrie']"
      ]
     },
     "execution_count": 393,
     "metadata": {},
     "output_type": "execute_result"
    }
   ],
   "source": [
    "pars1"
   ]
  },
  {
   "cell_type": "markdown",
   "id": "d40bb7d7",
   "metadata": {},
   "source": [
    "### Rafael Nadal"
   ]
  },
  {
   "cell_type": "code",
   "execution_count": 394,
   "id": "9dadf796",
   "metadata": {},
   "outputs": [
    {
     "name": "stderr",
     "output_type": "stream",
     "text": [
      "100%|██████████| 29/29 [00:00<00:00, 74.30it/s]"
     ]
    },
    {
     "name": "stdout",
     "output_type": "stream",
     "text": [
      "                               Accuracy  Balanced Accuracy  ROC AUC  F1 Score  \\\n",
      "Model                                                                           \n",
      "LinearSVC                          1.00               1.00     1.00      1.00   \n",
      "BernoulliNB                        1.00               1.00     1.00      1.00   \n",
      "XGBClassifier                      1.00               1.00     1.00      1.00   \n",
      "DecisionTreeClassifier             1.00               1.00     1.00      1.00   \n",
      "ExtraTreesClassifier               1.00               1.00     1.00      1.00   \n",
      "GaussianNB                         1.00               1.00     1.00      1.00   \n",
      "RidgeClassifier                    1.00               1.00     1.00      1.00   \n",
      "RandomForestClassifier             1.00               1.00     1.00      1.00   \n",
      "LinearDiscriminantAnalysis         1.00               1.00     1.00      1.00   \n",
      "BaggingClassifier                  1.00               1.00     1.00      1.00   \n",
      "NearestCentroid                    0.86               0.90     0.90      0.86   \n",
      "SGDClassifier                      0.86               0.90     0.90      0.86   \n",
      "Perceptron                         0.86               0.90     0.90      0.86   \n",
      "RidgeClassifierCV                  0.86               0.75     0.75      0.84   \n",
      "AdaBoostClassifier                 0.86               0.75     0.75      0.84   \n",
      "LogisticRegression                 0.86               0.75     0.75      0.84   \n",
      "ExtraTreeClassifier                0.86               0.75     0.75      0.84   \n",
      "CalibratedClassifierCV             0.86               0.75     0.75      0.84   \n",
      "QuadraticDiscriminantAnalysis      0.57               0.70     0.70      0.57   \n",
      "PassiveAggressiveClassifier        0.71               0.65     0.65      0.71   \n",
      "NuSVC                              0.71               0.50     0.50      0.60   \n",
      "LabelSpreading                     0.71               0.50     0.50      0.60   \n",
      "LabelPropagation                   0.71               0.50     0.50      0.60   \n",
      "KNeighborsClassifier               0.71               0.50     0.50      0.60   \n",
      "DummyClassifier                    0.71               0.50     0.50      0.60   \n",
      "SVC                                0.71               0.50     0.50      0.60   \n",
      "LGBMClassifier                     0.71               0.50     0.50      0.60   \n",
      "\n",
      "                               Time Taken  \n",
      "Model                                      \n",
      "LinearSVC                            0.01  \n",
      "BernoulliNB                          0.01  \n",
      "XGBClassifier                        0.05  \n",
      "DecisionTreeClassifier               0.01  \n",
      "ExtraTreesClassifier                 0.06  \n",
      "GaussianNB                           0.00  \n",
      "RidgeClassifier                      0.01  \n",
      "RandomForestClassifier               0.07  \n",
      "LinearDiscriminantAnalysis           0.00  \n",
      "BaggingClassifier                    0.02  \n",
      "NearestCentroid                      0.01  \n",
      "SGDClassifier                        0.01  \n",
      "Perceptron                           0.00  \n",
      "RidgeClassifierCV                    0.01  \n",
      "AdaBoostClassifier                   0.05  \n",
      "LogisticRegression                   0.01  \n",
      "ExtraTreeClassifier                  0.01  \n",
      "CalibratedClassifierCV               0.02  \n",
      "QuadraticDiscriminantAnalysis        0.00  \n",
      "PassiveAggressiveClassifier          0.01  \n",
      "NuSVC                                0.01  \n",
      "LabelSpreading                       0.00  \n",
      "LabelPropagation                     0.00  \n",
      "KNeighborsClassifier                 0.00  \n",
      "DummyClassifier                      0.01  \n",
      "SVC                                  0.01  \n",
      "LGBMClassifier                       0.01  \n"
     ]
    },
    {
     "name": "stderr",
     "output_type": "stream",
     "text": [
      "\n"
     ]
    }
   ],
   "source": [
    "primeraronda7win = torneossem[(torneossem['Winner'] == 'Rafael Nadal')]\n",
    "\n",
    "primeraronda7lose = torneossem[(torneossem['Loser'] == 'Rafael Nadal')]\n",
    "\n",
    "jugador=pd.concat([primeraronda7win,primeraronda7lose],axis=0)\n",
    "\n",
    "win=jugador.Winner\n",
    "\n",
    "jugador['Win'] = win \n",
    "\n",
    "def win(x):\n",
    "\n",
    "        if x == 'Rafael Nadal':\n",
    "            return 1\n",
    "        else:\n",
    "            return 0\n",
    "\n",
    "jugador.Win = jugador.Win.apply(win)\n",
    "\n",
    "jugador=jugador.drop(columns='Loser')\n",
    "\n",
    "jugador.Series=jugador.Series.apply(lambda x: series[x])\n",
    "jugador.Round=jugador.Round.apply(lambda x: rounds[x])\n",
    "\n",
    "\n",
    "jugador = jugador.drop(columns=['Tournament','Winner','Surface'])\n",
    "\n",
    "X=jugador.drop(columns = 'Win')\n",
    "y=jugador.Win\n",
    "\n",
    "data=pd.DataFrame(StandardScaler().fit_transform(X._get_numeric_data()),\\\n",
    "                     columns=X._get_numeric_data().columns)\n",
    "\n",
    "X_train, X_test, y_train, y_test = tts(data, y, train_size=0.8, test_size=0.2, random_state=42)\n",
    "\n",
    "clf = LazyClassifier(verbose=0, ignore_warnings=True, custom_metric=None)\n",
    "models, predictions = clf.fit(X_train, X_test, y_train, y_test)\n",
    "print(models)\n",
    "\n"
   ]
  },
  {
   "cell_type": "code",
   "execution_count": 395,
   "id": "f5f35cd1",
   "metadata": {},
   "outputs": [],
   "source": [
    "ABC  = AdaBoostClassifier()\n",
    "ABC.fit(X_train, y_train)\n",
    "y_pred_nad3=ABC.predict(X_test)"
   ]
  },
  {
   "cell_type": "code",
   "execution_count": 396,
   "id": "44b2a13e",
   "metadata": {},
   "outputs": [],
   "source": [
    "ratenad3= ratewins(y_pred_nad3)"
   ]
  },
  {
   "cell_type": "code",
   "execution_count": 397,
   "id": "dd1073b5",
   "metadata": {},
   "outputs": [
    {
     "data": {
      "text/plain": [
       "0.8571428571428571"
      ]
     },
     "execution_count": 397,
     "metadata": {},
     "output_type": "execute_result"
    }
   ],
   "source": [
    "ratenad3"
   ]
  },
  {
   "cell_type": "markdown",
   "id": "20b377a5",
   "metadata": {},
   "source": [
    "### Cameron Norrie"
   ]
  },
  {
   "cell_type": "code",
   "execution_count": 398,
   "id": "192a3c68",
   "metadata": {},
   "outputs": [
    {
     "name": "stderr",
     "output_type": "stream",
     "text": [
      "100%|██████████| 29/29 [00:00<00:00, 92.61it/s]"
     ]
    },
    {
     "name": "stdout",
     "output_type": "stream",
     "text": [
      "                             Accuracy  Balanced Accuracy  ROC AUC  F1 Score  \\\n",
      "Model                                                                         \n",
      "LinearSVC                        0.75               0.75     0.75      0.73   \n",
      "LinearDiscriminantAnalysis       0.75               0.75     0.75      0.73   \n",
      "PassiveAggressiveClassifier      0.75               0.75     0.75      0.73   \n",
      "XGBClassifier                    0.50               0.50     0.50      0.33   \n",
      "SVC                              0.50               0.50     0.50      0.33   \n",
      "RidgeClassifierCV                0.50               0.50     0.50      0.33   \n",
      "RidgeClassifier                  0.50               0.50     0.50      0.33   \n",
      "RandomForestClassifier           0.50               0.50     0.50      0.33   \n",
      "NearestCentroid                  0.50               0.50     0.50      0.33   \n",
      "LogisticRegression               0.50               0.50     0.50      0.33   \n",
      "BaggingClassifier                0.50               0.50     0.50      0.33   \n",
      "AdaBoostClassifier               0.50               0.50     0.50      0.33   \n",
      "LabelSpreading                   0.50               0.50     0.50      0.33   \n",
      "LabelPropagation                 0.50               0.50     0.50      0.33   \n",
      "KNeighborsClassifier             0.50               0.50     0.50      0.33   \n",
      "GaussianNB                       0.50               0.50     0.50      0.33   \n",
      "ExtraTreesClassifier             0.50               0.50     0.50      0.33   \n",
      "ExtraTreeClassifier              0.50               0.50     0.50      0.33   \n",
      "DummyClassifier                  0.50               0.50     0.50      0.33   \n",
      "DecisionTreeClassifier           0.50               0.50     0.50      0.33   \n",
      "BernoulliNB                      0.50               0.50     0.50      0.33   \n",
      "LGBMClassifier                   0.50               0.50     0.50      0.33   \n",
      "Perceptron                       0.25               0.25     0.25      0.20   \n",
      "SGDClassifier                    0.25               0.25     0.25      0.20   \n",
      "\n",
      "                             Time Taken  \n",
      "Model                                    \n",
      "LinearSVC                          0.01  \n",
      "LinearDiscriminantAnalysis         0.01  \n",
      "PassiveAggressiveClassifier        0.00  \n",
      "XGBClassifier                      0.04  \n",
      "SVC                                0.01  \n",
      "RidgeClassifierCV                  0.01  \n",
      "RidgeClassifier                    0.01  \n",
      "RandomForestClassifier             0.07  \n",
      "NearestCentroid                    0.01  \n",
      "LogisticRegression                 0.01  \n",
      "BaggingClassifier                  0.02  \n",
      "AdaBoostClassifier                 0.01  \n",
      "LabelSpreading                     0.01  \n",
      "LabelPropagation                   0.01  \n",
      "KNeighborsClassifier               0.01  \n",
      "GaussianNB                         0.01  \n",
      "ExtraTreesClassifier               0.05  \n",
      "ExtraTreeClassifier                0.00  \n",
      "DummyClassifier                    0.00  \n",
      "DecisionTreeClassifier             0.00  \n",
      "BernoulliNB                        0.01  \n",
      "LGBMClassifier                     0.01  \n",
      "Perceptron                         0.00  \n",
      "SGDClassifier                      0.01  \n"
     ]
    },
    {
     "name": "stderr",
     "output_type": "stream",
     "text": [
      "\n"
     ]
    }
   ],
   "source": [
    "primeraronda4wina = torneossem[(torneossem['Winner'] == 'Cameron Norrie')]\n",
    "\n",
    "primeraronda4losea = torneossem[(torneossem['Loser'] == 'Cameron Norrie')]\n",
    "\n",
    "jugador=pd.concat([primeraronda4wina,primeraronda4losea],axis=0)\n",
    "\n",
    "win=jugador.Winner\n",
    "\n",
    "jugador['Win'] = win \n",
    "\n",
    "def win(x):\n",
    "\n",
    "        if x == 'Cameron Norrie':\n",
    "            return 1\n",
    "        else:\n",
    "            return 0\n",
    "\n",
    "jugador.Win = jugador.Win.apply(win)\n",
    "\n",
    "jugador=jugador.drop(columns='Loser')\n",
    "\n",
    "jugador.Series=jugador.Series.apply(lambda x: series[x])\n",
    "jugador.Round=jugador.Round.apply(lambda x: rounds[x])\n",
    "\n",
    "\n",
    "jugador = jugador.drop(columns=['Tournament','Winner','Surface'])\n",
    "\n",
    "X=jugador.drop(columns = 'Win')\n",
    "y=jugador.Win\n",
    "\n",
    "data=pd.DataFrame(StandardScaler().fit_transform(X._get_numeric_data()),\\\n",
    "                     columns=X._get_numeric_data().columns)\n",
    "\n",
    "X_train, X_test, y_train, y_test = tts(data, y, train_size=0.8, test_size=0.2, random_state=42)\n",
    "\n",
    "clf = LazyClassifier(verbose=0, ignore_warnings=True, custom_metric=None)\n",
    "models, predictions = clf.fit(X_train, X_test, y_train, y_test)\n",
    "print(models)\n",
    "\n"
   ]
  },
  {
   "cell_type": "code",
   "execution_count": 399,
   "id": "b1811e7a",
   "metadata": {},
   "outputs": [],
   "source": [
    "linearsvc = LinearSVC ()\n",
    "linearsvc.fit(X_train, y_train)\n",
    "y_pred_nor3=linearsvc.predict(X_test)"
   ]
  },
  {
   "cell_type": "code",
   "execution_count": 400,
   "id": "5ca9e50f",
   "metadata": {},
   "outputs": [],
   "source": [
    "ratenor3= ratewins(y_pred_nor3)"
   ]
  },
  {
   "cell_type": "code",
   "execution_count": 401,
   "id": "4da9bed0",
   "metadata": {
    "scrolled": true
   },
   "outputs": [
    {
     "data": {
      "text/plain": [
       "0.5"
      ]
     },
     "execution_count": 401,
     "metadata": {},
     "output_type": "execute_result"
    }
   ],
   "source": [
    "ratenor3"
   ]
  },
  {
   "cell_type": "markdown",
   "id": "ddc2273b",
   "metadata": {},
   "source": [
    "### El ratio de victorias Rafael Nadal es mayor, por lo que consideremos que gana el encuentro y pasa a la siguiente ronda.  Cameron Norrie es eliminado."
   ]
  },
  {
   "cell_type": "markdown",
   "id": "a1b4d884",
   "metadata": {},
   "source": [
    "# Pareja 2"
   ]
  },
  {
   "cell_type": "code",
   "execution_count": 402,
   "id": "146362d9",
   "metadata": {},
   "outputs": [
    {
     "data": {
      "text/plain": [
       "['Novak Djokovic', 'Alexander Zverev']"
      ]
     },
     "execution_count": 402,
     "metadata": {},
     "output_type": "execute_result"
    }
   ],
   "source": [
    "pars2"
   ]
  },
  {
   "cell_type": "markdown",
   "id": "ccffc9b9",
   "metadata": {},
   "source": [
    "### Novak Djokovic"
   ]
  },
  {
   "cell_type": "code",
   "execution_count": 403,
   "id": "09887a29",
   "metadata": {},
   "outputs": [
    {
     "name": "stderr",
     "output_type": "stream",
     "text": [
      "100%|██████████| 29/29 [00:00<00:00, 86.17it/s]"
     ]
    },
    {
     "name": "stdout",
     "output_type": "stream",
     "text": [
      "                               Accuracy  Balanced Accuracy  ROC AUC  F1 Score  \\\n",
      "Model                                                                           \n",
      "AdaBoostClassifier                 1.00               1.00     1.00      1.00   \n",
      "DecisionTreeClassifier             1.00               1.00     1.00      1.00   \n",
      "RandomForestClassifier             1.00               1.00     1.00      1.00   \n",
      "QuadraticDiscriminantAnalysis      1.00               1.00     1.00      1.00   \n",
      "BaggingClassifier                  1.00               1.00     1.00      1.00   \n",
      "ExtraTreeClassifier                0.86               0.75     0.75      0.84   \n",
      "ExtraTreesClassifier               0.86               0.75     0.75      0.84   \n",
      "LogisticRegression                 0.71               0.50     0.50      0.60   \n",
      "XGBClassifier                      0.71               0.50     0.50      0.60   \n",
      "SVC                                0.71               0.50     0.50      0.60   \n",
      "RidgeClassifierCV                  0.71               0.50     0.50      0.60   \n",
      "RidgeClassifier                    0.71               0.50     0.50      0.60   \n",
      "PassiveAggressiveClassifier        0.71               0.50     0.50      0.60   \n",
      "NuSVC                              0.71               0.50     0.50      0.60   \n",
      "LinearSVC                          0.71               0.50     0.50      0.60   \n",
      "LinearDiscriminantAnalysis         0.71               0.50     0.50      0.60   \n",
      "LabelSpreading                     0.71               0.50     0.50      0.60   \n",
      "LabelPropagation                   0.71               0.50     0.50      0.60   \n",
      "KNeighborsClassifier               0.71               0.50     0.50      0.60   \n",
      "GaussianNB                         0.71               0.50     0.50      0.60   \n",
      "DummyClassifier                    0.71               0.50     0.50      0.60   \n",
      "CalibratedClassifierCV             0.71               0.50     0.50      0.60   \n",
      "LGBMClassifier                     0.71               0.50     0.50      0.60   \n",
      "NearestCentroid                    0.43               0.45     0.45      0.45   \n",
      "BernoulliNB                        0.57               0.40     0.40      0.52   \n",
      "Perceptron                         0.43               0.30     0.30      0.43   \n",
      "SGDClassifier                      0.43               0.30     0.30      0.43   \n",
      "\n",
      "                               Time Taken  \n",
      "Model                                      \n",
      "AdaBoostClassifier                   0.04  \n",
      "DecisionTreeClassifier               0.00  \n",
      "RandomForestClassifier               0.07  \n",
      "QuadraticDiscriminantAnalysis        0.00  \n",
      "BaggingClassifier                    0.01  \n",
      "ExtraTreeClassifier                  0.00  \n",
      "ExtraTreesClassifier                 0.05  \n",
      "LogisticRegression                   0.01  \n",
      "XGBClassifier                        0.02  \n",
      "SVC                                  0.01  \n",
      "RidgeClassifierCV                    0.01  \n",
      "RidgeClassifier                      0.01  \n",
      "PassiveAggressiveClassifier          0.00  \n",
      "NuSVC                                0.01  \n",
      "LinearSVC                            0.01  \n",
      "LinearDiscriminantAnalysis           0.01  \n",
      "LabelSpreading                       0.01  \n",
      "LabelPropagation                     0.01  \n",
      "KNeighborsClassifier                 0.01  \n",
      "GaussianNB                           0.01  \n",
      "DummyClassifier                      0.00  \n",
      "CalibratedClassifierCV               0.01  \n",
      "LGBMClassifier                       0.01  \n",
      "NearestCentroid                      0.00  \n",
      "BernoulliNB                          0.00  \n",
      "Perceptron                           0.01  \n",
      "SGDClassifier                        0.00  \n"
     ]
    },
    {
     "name": "stderr",
     "output_type": "stream",
     "text": [
      "\n"
     ]
    }
   ],
   "source": [
    "primeraronda7win = torneossem[(torneossem['Winner'] == 'Novak Djokovic')]\n",
    "\n",
    "primeraronda7lose = torneossem[(torneossem['Loser'] == 'Novak Djokovic')]\n",
    "\n",
    "jugador=pd.concat([primeraronda7win,primeraronda7lose],axis=0)\n",
    "\n",
    "win=jugador.Winner\n",
    "\n",
    "jugador['Win'] = win \n",
    "\n",
    "def win(x):\n",
    "\n",
    "        if x == 'Novak Djokovic':\n",
    "            return 1\n",
    "        else:\n",
    "            return 0\n",
    "\n",
    "jugador.Win = jugador.Win.apply(win)\n",
    "\n",
    "jugador=jugador.drop(columns='Loser')\n",
    "\n",
    "jugador.Series=jugador.Series.apply(lambda x: series[x])\n",
    "jugador.Round=jugador.Round.apply(lambda x: rounds[x])\n",
    "\n",
    "\n",
    "jugador = jugador.drop(columns=['Tournament','Winner','Surface'])\n",
    "\n",
    "X=jugador.drop(columns = 'Win')\n",
    "y=jugador.Win\n",
    "\n",
    "data=pd.DataFrame(StandardScaler().fit_transform(X._get_numeric_data()),\\\n",
    "                     columns=X._get_numeric_data().columns)\n",
    "\n",
    "X_train, X_test, y_train, y_test = tts(data, y, train_size=0.8, test_size=0.2, random_state=42)\n",
    "\n",
    "clf = LazyClassifier(verbose=0, ignore_warnings=True, custom_metric=None)\n",
    "models, predictions = clf.fit(X_train, X_test, y_train, y_test)\n",
    "print(models)\n",
    "\n"
   ]
  },
  {
   "cell_type": "code",
   "execution_count": 404,
   "id": "15805978",
   "metadata": {},
   "outputs": [],
   "source": [
    "ABC  = AdaBoostClassifier()\n",
    "ABC.fit(X_train, y_train)\n",
    "y_pred_djo3=ABC.predict(X_test)"
   ]
  },
  {
   "cell_type": "code",
   "execution_count": 405,
   "id": "17ba32e1",
   "metadata": {},
   "outputs": [],
   "source": [
    "ratedjo3= ratewins(y_pred_djo3)"
   ]
  },
  {
   "cell_type": "code",
   "execution_count": 406,
   "id": "aa0b1fe9",
   "metadata": {},
   "outputs": [
    {
     "data": {
      "text/plain": [
       "0.7142857142857143"
      ]
     },
     "execution_count": 406,
     "metadata": {},
     "output_type": "execute_result"
    }
   ],
   "source": [
    "ratedjo3"
   ]
  },
  {
   "cell_type": "markdown",
   "id": "5e094c60",
   "metadata": {},
   "source": [
    "### Alexander Zverev"
   ]
  },
  {
   "cell_type": "code",
   "execution_count": 407,
   "id": "7640d1ce",
   "metadata": {},
   "outputs": [
    {
     "name": "stderr",
     "output_type": "stream",
     "text": [
      "100%|██████████| 29/29 [00:00<00:00, 82.00it/s]"
     ]
    },
    {
     "name": "stdout",
     "output_type": "stream",
     "text": [
      "                               Accuracy  Balanced Accuracy  ROC AUC  F1 Score  \\\n",
      "Model                                                                           \n",
      "LabelPropagation                   1.00               1.00     1.00      1.00   \n",
      "ExtraTreesClassifier               1.00               1.00     1.00      1.00   \n",
      "LinearDiscriminantAnalysis         1.00               1.00     1.00      1.00   \n",
      "LabelSpreading                     1.00               1.00     1.00      1.00   \n",
      "RandomForestClassifier             1.00               1.00     1.00      1.00   \n",
      "GaussianNB                         1.00               1.00     1.00      1.00   \n",
      "QuadraticDiscriminantAnalysis      1.00               1.00     1.00      1.00   \n",
      "CalibratedClassifierCV             1.00               1.00     1.00      1.00   \n",
      "SGDClassifier                      0.89               0.90     0.90      0.89   \n",
      "DecisionTreeClassifier             0.89               0.90     0.90      0.89   \n",
      "XGBClassifier                      0.89               0.90     0.90      0.89   \n",
      "BaggingClassifier                  0.89               0.90     0.90      0.89   \n",
      "LogisticRegression                 0.89               0.90     0.90      0.89   \n",
      "RidgeClassifierCV                  0.89               0.90     0.90      0.89   \n",
      "RidgeClassifier                    0.89               0.90     0.90      0.89   \n",
      "Perceptron                         0.89               0.90     0.90      0.89   \n",
      "AdaBoostClassifier                 0.89               0.90     0.90      0.89   \n",
      "SVC                                0.89               0.88     0.88      0.89   \n",
      "KNeighborsClassifier               0.89               0.88     0.88      0.89   \n",
      "NuSVC                              0.89               0.88     0.88      0.89   \n",
      "LinearSVC                          0.78               0.80     0.80      0.77   \n",
      "PassiveAggressiveClassifier        0.78               0.80     0.80      0.77   \n",
      "ExtraTreeClassifier                0.78               0.80     0.80      0.77   \n",
      "NearestCentroid                    0.78               0.78     0.78      0.78   \n",
      "BernoulliNB                        0.78               0.78     0.78      0.78   \n",
      "DummyClassifier                    0.44               0.50     0.50      0.27   \n",
      "LGBMClassifier                     0.44               0.50     0.50      0.27   \n",
      "\n",
      "                               Time Taken  \n",
      "Model                                      \n",
      "LabelPropagation                     0.01  \n",
      "ExtraTreesClassifier                 0.06  \n",
      "LinearDiscriminantAnalysis           0.01  \n",
      "LabelSpreading                       0.01  \n",
      "RandomForestClassifier               0.07  \n",
      "GaussianNB                           0.01  \n",
      "QuadraticDiscriminantAnalysis        0.00  \n",
      "CalibratedClassifierCV               0.01  \n",
      "SGDClassifier                        0.01  \n",
      "DecisionTreeClassifier               0.01  \n",
      "XGBClassifier                        0.02  \n",
      "BaggingClassifier                    0.01  \n",
      "LogisticRegression                   0.01  \n",
      "RidgeClassifierCV                    0.01  \n",
      "RidgeClassifier                      0.01  \n",
      "Perceptron                           0.00  \n",
      "AdaBoostClassifier                   0.04  \n",
      "SVC                                  0.01  \n",
      "KNeighborsClassifier                 0.01  \n",
      "NuSVC                                0.01  \n",
      "LinearSVC                            0.01  \n",
      "PassiveAggressiveClassifier          0.01  \n",
      "ExtraTreeClassifier                  0.01  \n",
      "NearestCentroid                      0.01  \n",
      "BernoulliNB                          0.01  \n",
      "DummyClassifier                      0.00  \n",
      "LGBMClassifier                       0.01  \n"
     ]
    },
    {
     "name": "stderr",
     "output_type": "stream",
     "text": [
      "\n"
     ]
    }
   ],
   "source": [
    "primeraronda4wina = torneossem[(torneossem['Winner'] == 'Alexander Zverev')]\n",
    "\n",
    "primeraronda4losea = torneossem[(torneossem['Loser'] == 'Alexander Zverev')]\n",
    "\n",
    "jugador=pd.concat([primeraronda4wina,primeraronda4losea],axis=0)\n",
    "\n",
    "win=jugador.Winner\n",
    "\n",
    "jugador['Win'] = win \n",
    "\n",
    "def win(x):\n",
    "\n",
    "        if x == 'Alexander Zverev':\n",
    "            return 1\n",
    "        else:\n",
    "            return 0\n",
    "\n",
    "jugador.Win = jugador.Win.apply(win)\n",
    "\n",
    "jugador=jugador.drop(columns='Loser')\n",
    "\n",
    "jugador.Series=jugador.Series.apply(lambda x: series[x])\n",
    "jugador.Round=jugador.Round.apply(lambda x: rounds[x])\n",
    "\n",
    "\n",
    "jugador = jugador.drop(columns=['Tournament','Winner','Surface'])\n",
    "\n",
    "X=jugador.drop(columns = 'Win')\n",
    "y=jugador.Win\n",
    "\n",
    "data=pd.DataFrame(StandardScaler().fit_transform(X._get_numeric_data()),\\\n",
    "                     columns=X._get_numeric_data().columns)\n",
    "\n",
    "X_train, X_test, y_train, y_test = tts(data, y, train_size=0.8, test_size=0.2, random_state=42)\n",
    "\n",
    "clf = LazyClassifier(verbose=0, ignore_warnings=True, custom_metric=None)\n",
    "models, predictions = clf.fit(X_train, X_test, y_train, y_test)\n",
    "print(models)\n",
    "\n"
   ]
  },
  {
   "cell_type": "code",
   "execution_count": 408,
   "id": "3e9b179a",
   "metadata": {},
   "outputs": [],
   "source": [
    "label = LabelPropagation()\n",
    "label.fit(X_train, y_train)\n",
    "y_pred_zve3=label.predict(X_test)"
   ]
  },
  {
   "cell_type": "code",
   "execution_count": 409,
   "id": "e393695c",
   "metadata": {},
   "outputs": [],
   "source": [
    "ratezve3= ratewins(y_pred_zve3)"
   ]
  },
  {
   "cell_type": "code",
   "execution_count": 410,
   "id": "40c0e69b",
   "metadata": {
    "scrolled": false
   },
   "outputs": [
    {
     "data": {
      "text/plain": [
       "0.4444444444444444"
      ]
     },
     "execution_count": 410,
     "metadata": {},
     "output_type": "execute_result"
    }
   ],
   "source": [
    "ratezve3"
   ]
  },
  {
   "cell_type": "markdown",
   "id": "322b80ab",
   "metadata": {},
   "source": [
    "### El ratio de victorias Novak Djokovic es mayor, por lo que consideremos que gana el encuentro y pasa a la siguiente ronda. Alexander Zverev es eliminado."
   ]
  },
  {
   "cell_type": "markdown",
   "id": "f3b13ae7",
   "metadata": {},
   "source": [
    "# Pareja 3"
   ]
  },
  {
   "cell_type": "code",
   "execution_count": 411,
   "id": "aaf7f143",
   "metadata": {},
   "outputs": [
    {
     "data": {
      "text/plain": [
       "['Andrey Rublev', 'Stefanos Tsitsipas']"
      ]
     },
     "execution_count": 411,
     "metadata": {},
     "output_type": "execute_result"
    }
   ],
   "source": [
    "pars3"
   ]
  },
  {
   "cell_type": "markdown",
   "id": "2b1f4b5d",
   "metadata": {},
   "source": [
    "### Andrey Rublev"
   ]
  },
  {
   "cell_type": "code",
   "execution_count": 412,
   "id": "b4103d41",
   "metadata": {},
   "outputs": [
    {
     "name": "stderr",
     "output_type": "stream",
     "text": [
      "100%|██████████| 29/29 [00:00<00:00, 83.32it/s]"
     ]
    },
    {
     "name": "stdout",
     "output_type": "stream",
     "text": [
      "                               Accuracy  Balanced Accuracy  ROC AUC  F1 Score  \\\n",
      "Model                                                                           \n",
      "LabelPropagation                   1.00               1.00     1.00      1.00   \n",
      "LabelSpreading                     1.00               1.00     1.00      1.00   \n",
      "AdaBoostClassifier                 0.80               0.83     0.83      0.80   \n",
      "LogisticRegression                 0.80               0.83     0.83      0.80   \n",
      "XGBClassifier                      0.80               0.83     0.83      0.80   \n",
      "SGDClassifier                      0.80               0.83     0.83      0.80   \n",
      "RidgeClassifierCV                  0.80               0.83     0.83      0.80   \n",
      "RidgeClassifier                    0.80               0.83     0.83      0.80   \n",
      "RandomForestClassifier             0.80               0.83     0.83      0.80   \n",
      "QuadraticDiscriminantAnalysis      0.80               0.83     0.83      0.80   \n",
      "Perceptron                         0.80               0.83     0.83      0.80   \n",
      "PassiveAggressiveClassifier        0.80               0.83     0.83      0.80   \n",
      "NuSVC                              0.80               0.83     0.83      0.80   \n",
      "NearestCentroid                    0.80               0.83     0.83      0.80   \n",
      "LinearSVC                          0.80               0.83     0.83      0.80   \n",
      "BaggingClassifier                  0.80               0.83     0.83      0.80   \n",
      "GaussianNB                         0.80               0.83     0.83      0.80   \n",
      "ExtraTreesClassifier               0.80               0.83     0.83      0.80   \n",
      "DecisionTreeClassifier             0.80               0.83     0.83      0.80   \n",
      "CalibratedClassifierCV             0.80               0.83     0.83      0.80   \n",
      "LinearDiscriminantAnalysis         0.80               0.75     0.75      0.78   \n",
      "KNeighborsClassifier               0.80               0.75     0.75      0.78   \n",
      "SVC                                0.60               0.67     0.67      0.57   \n",
      "ExtraTreeClassifier                0.60               0.58     0.58      0.60   \n",
      "DummyClassifier                    0.40               0.50     0.50      0.23   \n",
      "LGBMClassifier                     0.40               0.50     0.50      0.23   \n",
      "BernoulliNB                        0.40               0.42     0.42      0.40   \n",
      "\n",
      "                               Time Taken  \n",
      "Model                                      \n",
      "LabelPropagation                     0.01  \n",
      "LabelSpreading                       0.01  \n",
      "AdaBoostClassifier                   0.01  \n",
      "LogisticRegression                   0.01  \n",
      "XGBClassifier                        0.05  \n",
      "SGDClassifier                        0.01  \n",
      "RidgeClassifierCV                    0.01  \n",
      "RidgeClassifier                      0.01  \n",
      "RandomForestClassifier               0.08  \n",
      "QuadraticDiscriminantAnalysis        0.00  \n",
      "Perceptron                           0.01  \n",
      "PassiveAggressiveClassifier          0.00  \n",
      "NuSVC                                0.00  \n",
      "NearestCentroid                      0.00  \n",
      "LinearSVC                            0.00  \n",
      "BaggingClassifier                    0.02  \n",
      "GaussianNB                           0.01  \n",
      "ExtraTreesClassifier                 0.05  \n",
      "DecisionTreeClassifier               0.00  \n",
      "CalibratedClassifierCV               0.01  \n",
      "LinearDiscriminantAnalysis           0.01  \n",
      "KNeighborsClassifier                 0.01  \n",
      "SVC                                  0.01  \n",
      "ExtraTreeClassifier                  0.00  \n",
      "DummyClassifier                      0.01  \n",
      "LGBMClassifier                       0.02  \n",
      "BernoulliNB                          0.01  \n"
     ]
    },
    {
     "name": "stderr",
     "output_type": "stream",
     "text": [
      "\n"
     ]
    }
   ],
   "source": [
    "primeraronda7win = torneossem[(torneossem['Winner'] == 'Andrey Rublev')]\n",
    "\n",
    "primeraronda7lose = torneossem[(torneossem['Loser'] == 'Andrey Rublev')]\n",
    "\n",
    "jugador=pd.concat([primeraronda7win,primeraronda7lose],axis=0)\n",
    "\n",
    "win=jugador.Winner\n",
    "\n",
    "jugador['Win'] = win \n",
    "\n",
    "def win(x):\n",
    "\n",
    "        if x == 'Andrey Rublev':\n",
    "            return 1\n",
    "        else:\n",
    "            return 0\n",
    "\n",
    "jugador.Win = jugador.Win.apply(win)\n",
    "\n",
    "jugador=jugador.drop(columns='Loser')\n",
    "\n",
    "jugador.Series=jugador.Series.apply(lambda x: series[x])\n",
    "jugador.Round=jugador.Round.apply(lambda x: rounds[x])\n",
    "\n",
    "\n",
    "jugador = jugador.drop(columns=['Tournament','Winner','Surface'])\n",
    "\n",
    "X=jugador.drop(columns = 'Win')\n",
    "y=jugador.Win\n",
    "\n",
    "data=pd.DataFrame(StandardScaler().fit_transform(X._get_numeric_data()),\\\n",
    "                     columns=X._get_numeric_data().columns)\n",
    "\n",
    "X_train, X_test, y_train, y_test = tts(data, y, train_size=0.8, test_size=0.2, random_state=42)\n",
    "\n",
    "clf = LazyClassifier(verbose=0, ignore_warnings=True, custom_metric=None)\n",
    "models, predictions = clf.fit(X_train, X_test, y_train, y_test)\n",
    "print(models)\n",
    "\n"
   ]
  },
  {
   "cell_type": "code",
   "execution_count": 413,
   "id": "ca465d08",
   "metadata": {},
   "outputs": [],
   "source": [
    "label  = LabelPropagation()\n",
    "label.fit(X_train, y_train)\n",
    "y_pred_rub3=label.predict(X_test)"
   ]
  },
  {
   "cell_type": "code",
   "execution_count": 414,
   "id": "b8287958",
   "metadata": {},
   "outputs": [],
   "source": [
    "raterub3= ratewins(y_pred_rub3)"
   ]
  },
  {
   "cell_type": "code",
   "execution_count": 415,
   "id": "9cf25103",
   "metadata": {},
   "outputs": [
    {
     "data": {
      "text/plain": [
       "0.6"
      ]
     },
     "execution_count": 415,
     "metadata": {},
     "output_type": "execute_result"
    }
   ],
   "source": [
    "raterub3"
   ]
  },
  {
   "cell_type": "markdown",
   "id": "90a891ec",
   "metadata": {},
   "source": [
    "### Stefanos Tsitsipas"
   ]
  },
  {
   "cell_type": "code",
   "execution_count": 416,
   "id": "6f440160",
   "metadata": {},
   "outputs": [
    {
     "name": "stderr",
     "output_type": "stream",
     "text": [
      "100%|██████████| 29/29 [00:00<00:00, 84.98it/s]"
     ]
    },
    {
     "name": "stdout",
     "output_type": "stream",
     "text": [
      "                               Accuracy  Balanced Accuracy  ROC AUC  F1 Score  \\\n",
      "Model                                                                           \n",
      "SVC                                1.00               1.00     1.00      1.00   \n",
      "QuadraticDiscriminantAnalysis      1.00               1.00     1.00      1.00   \n",
      "ExtraTreesClassifier               1.00               1.00     1.00      1.00   \n",
      "LabelPropagation                   1.00               1.00     1.00      1.00   \n",
      "LabelSpreading                     1.00               1.00     1.00      1.00   \n",
      "BaggingClassifier                  0.89               0.92     0.92      0.89   \n",
      "NuSVC                              0.89               0.92     0.92      0.89   \n",
      "AdaBoostClassifier                 0.78               0.83     0.83      0.78   \n",
      "SGDClassifier                      0.78               0.83     0.83      0.78   \n",
      "RidgeClassifier                    0.78               0.83     0.83      0.78   \n",
      "RandomForestClassifier             0.78               0.83     0.83      0.78   \n",
      "Perceptron                         0.78               0.83     0.83      0.78   \n",
      "PassiveAggressiveClassifier        0.78               0.83     0.83      0.78   \n",
      "LinearSVC                          0.78               0.83     0.83      0.78   \n",
      "LinearDiscriminantAnalysis         0.78               0.83     0.83      0.78   \n",
      "GaussianNB                         0.78               0.83     0.83      0.78   \n",
      "ExtraTreeClassifier                0.78               0.83     0.83      0.78   \n",
      "DecisionTreeClassifier             0.78               0.83     0.83      0.78   \n",
      "CalibratedClassifierCV             0.78               0.83     0.83      0.78   \n",
      "LogisticRegression                 0.67               0.75     0.75      0.67   \n",
      "RidgeClassifierCV                  0.67               0.75     0.75      0.67   \n",
      "XGBClassifier                      0.67               0.75     0.75      0.67   \n",
      "NearestCentroid                    0.56               0.67     0.67      0.53   \n",
      "KNeighborsClassifier               0.56               0.67     0.67      0.53   \n",
      "DummyClassifier                    0.67               0.50     0.50      0.53   \n",
      "BernoulliNB                        0.44               0.50     0.50      0.44   \n",
      "LGBMClassifier                     0.67               0.50     0.50      0.53   \n",
      "\n",
      "                               Time Taken  \n",
      "Model                                      \n",
      "SVC                                  0.01  \n",
      "QuadraticDiscriminantAnalysis        0.00  \n",
      "ExtraTreesClassifier                 0.06  \n",
      "LabelPropagation                     0.01  \n",
      "LabelSpreading                       0.01  \n",
      "BaggingClassifier                    0.01  \n",
      "NuSVC                                0.01  \n",
      "AdaBoostClassifier                   0.04  \n",
      "SGDClassifier                        0.01  \n",
      "RidgeClassifier                      0.01  \n",
      "RandomForestClassifier               0.07  \n",
      "Perceptron                           0.00  \n",
      "PassiveAggressiveClassifier          0.01  \n",
      "LinearSVC                            0.01  \n",
      "LinearDiscriminantAnalysis           0.01  \n",
      "GaussianNB                           0.01  \n",
      "ExtraTreeClassifier                  0.00  \n",
      "DecisionTreeClassifier               0.00  \n",
      "CalibratedClassifierCV               0.01  \n",
      "LogisticRegression                   0.01  \n",
      "RidgeClassifierCV                    0.01  \n",
      "XGBClassifier                        0.02  \n",
      "NearestCentroid                      0.00  \n",
      "KNeighborsClassifier                 0.01  \n",
      "DummyClassifier                      0.00  \n",
      "BernoulliNB                          0.01  \n",
      "LGBMClassifier                       0.01  \n"
     ]
    },
    {
     "name": "stderr",
     "output_type": "stream",
     "text": [
      "\n"
     ]
    }
   ],
   "source": [
    "primeraronda4wina = torneossem[(torneossem['Winner'] == 'Stefanos Tsitsipas')]\n",
    "\n",
    "primeraronda4losea = torneossem[(torneossem['Loser'] == 'Stefanos Tsitsipas')]\n",
    "\n",
    "jugador=pd.concat([primeraronda4wina,primeraronda4losea],axis=0)\n",
    "\n",
    "win=jugador.Winner\n",
    "\n",
    "jugador['Win'] = win \n",
    "\n",
    "def win(x):\n",
    "\n",
    "        if x == 'Stefanos Tsitsipas':\n",
    "            return 1\n",
    "        else:\n",
    "            return 0\n",
    "\n",
    "jugador.Win = jugador.Win.apply(win)\n",
    "\n",
    "jugador=jugador.drop(columns='Loser')\n",
    "\n",
    "jugador.Series=jugador.Series.apply(lambda x: series[x])\n",
    "jugador.Round=jugador.Round.apply(lambda x: rounds[x])\n",
    "\n",
    "\n",
    "jugador = jugador.drop(columns=['Tournament','Winner','Surface'])\n",
    "\n",
    "X=jugador.drop(columns = 'Win')\n",
    "y=jugador.Win\n",
    "\n",
    "data=pd.DataFrame(StandardScaler().fit_transform(X._get_numeric_data()),\\\n",
    "                     columns=X._get_numeric_data().columns)\n",
    "\n",
    "X_train, X_test, y_train, y_test = tts(data, y, train_size=0.8, test_size=0.2, random_state=42)\n",
    "\n",
    "clf = LazyClassifier(verbose=0, ignore_warnings=True, custom_metric=None)\n",
    "models, predictions = clf.fit(X_train, X_test, y_train, y_test)\n",
    "print(models)\n",
    "\n"
   ]
  },
  {
   "cell_type": "code",
   "execution_count": 417,
   "id": "ec046d0e",
   "metadata": {},
   "outputs": [],
   "source": [
    "qda = QuadraticDiscriminantAnalysis()\n",
    "qda.fit(X_train, y_train)\n",
    "y_pred_tsi3=qda.predict(X_test)"
   ]
  },
  {
   "cell_type": "code",
   "execution_count": 418,
   "id": "08263b97",
   "metadata": {},
   "outputs": [],
   "source": [
    "ratetsi3= ratewins(y_pred_tsi3)"
   ]
  },
  {
   "cell_type": "code",
   "execution_count": 419,
   "id": "3bb024a2",
   "metadata": {
    "scrolled": false
   },
   "outputs": [
    {
     "data": {
      "text/plain": [
       "0.3333333333333333"
      ]
     },
     "execution_count": 419,
     "metadata": {},
     "output_type": "execute_result"
    }
   ],
   "source": [
    "ratetsi3"
   ]
  },
  {
   "cell_type": "markdown",
   "id": "c35c4b62",
   "metadata": {},
   "source": [
    "### El ratio de victorias Andrey Rublev es mayor, por lo que consideremos que gana el encuentro y pasa a la siguiente ronda.  Stefanos Tsitsipas es eliminado."
   ]
  },
  {
   "cell_type": "markdown",
   "id": "77cc6a94",
   "metadata": {},
   "source": [
    "# Pareja 4"
   ]
  },
  {
   "cell_type": "code",
   "execution_count": 420,
   "id": "2e70e07e",
   "metadata": {},
   "outputs": [
    {
     "data": {
      "text/plain": [
       "['Matteo Berrettini', 'Carlos Alcaraz']"
      ]
     },
     "execution_count": 420,
     "metadata": {},
     "output_type": "execute_result"
    }
   ],
   "source": [
    "pars4"
   ]
  },
  {
   "cell_type": "markdown",
   "id": "0c60b077",
   "metadata": {},
   "source": [
    "### Matteo Berrettini"
   ]
  },
  {
   "cell_type": "code",
   "execution_count": 421,
   "id": "934c786c",
   "metadata": {},
   "outputs": [
    {
     "name": "stderr",
     "output_type": "stream",
     "text": [
      "100%|██████████| 29/29 [00:00<00:00, 96.89it/s]"
     ]
    },
    {
     "name": "stdout",
     "output_type": "stream",
     "text": [
      "                               Accuracy  Balanced Accuracy  ROC AUC  F1 Score  \\\n",
      "Model                                                                           \n",
      "AdaBoostClassifier                 0.80               0.88     0.88      0.82   \n",
      "LabelPropagation                   0.80               0.88     0.88      0.82   \n",
      "XGBClassifier                      0.80               0.88     0.88      0.82   \n",
      "SVC                                0.80               0.88     0.88      0.82   \n",
      "RandomForestClassifier             0.80               0.88     0.88      0.82   \n",
      "PassiveAggressiveClassifier        0.80               0.88     0.88      0.82   \n",
      "NuSVC                              0.80               0.88     0.88      0.82   \n",
      "LogisticRegression                 0.80               0.88     0.88      0.82   \n",
      "BaggingClassifier                  0.80               0.88     0.88      0.82   \n",
      "LabelSpreading                     0.80               0.88     0.88      0.82   \n",
      "LinearSVC                          0.80               0.88     0.88      0.82   \n",
      "KNeighborsClassifier               0.80               0.88     0.88      0.82   \n",
      "GaussianNB                         0.80               0.88     0.88      0.82   \n",
      "ExtraTreesClassifier               0.80               0.88     0.88      0.82   \n",
      "DecisionTreeClassifier             0.80               0.88     0.88      0.82   \n",
      "CalibratedClassifierCV             0.80               0.88     0.88      0.82   \n",
      "BernoulliNB                        0.80               0.88     0.88      0.82   \n",
      "NearestCentroid                    0.60               0.75     0.75      0.63   \n",
      "ExtraTreeClassifier                0.60               0.75     0.75      0.63   \n",
      "Perceptron                         0.60               0.75     0.75      0.63   \n",
      "SGDClassifier                      0.60               0.75     0.75      0.63   \n",
      "DummyClassifier                    0.80               0.50     0.50      0.71   \n",
      "LGBMClassifier                     0.80               0.50     0.50      0.71   \n",
      "QuadraticDiscriminantAnalysis      0.60               0.38     0.38      0.60   \n",
      "RidgeClassifier                    0.60               0.38     0.38      0.60   \n",
      "RidgeClassifierCV                  0.60               0.38     0.38      0.60   \n",
      "LinearDiscriminantAnalysis         0.40               0.25     0.25      0.46   \n",
      "\n",
      "                               Time Taken  \n",
      "Model                                      \n",
      "AdaBoostClassifier                   0.01  \n",
      "LabelPropagation                     0.01  \n",
      "XGBClassifier                        0.02  \n",
      "SVC                                  0.01  \n",
      "RandomForestClassifier               0.07  \n",
      "PassiveAggressiveClassifier          0.00  \n",
      "NuSVC                                0.00  \n",
      "LogisticRegression                   0.01  \n",
      "BaggingClassifier                    0.01  \n",
      "LabelSpreading                       0.01  \n",
      "LinearSVC                            0.00  \n",
      "KNeighborsClassifier                 0.01  \n",
      "GaussianNB                           0.01  \n",
      "ExtraTreesClassifier                 0.05  \n",
      "DecisionTreeClassifier               0.00  \n",
      "CalibratedClassifierCV               0.01  \n",
      "BernoulliNB                          0.01  \n",
      "NearestCentroid                      0.00  \n",
      "ExtraTreeClassifier                  0.01  \n",
      "Perceptron                           0.00  \n",
      "SGDClassifier                        0.01  \n",
      "DummyClassifier                      0.00  \n",
      "LGBMClassifier                       0.01  \n",
      "QuadraticDiscriminantAnalysis        0.00  \n",
      "RidgeClassifier                      0.01  \n",
      "RidgeClassifierCV                    0.01  \n",
      "LinearDiscriminantAnalysis           0.00  \n"
     ]
    },
    {
     "name": "stderr",
     "output_type": "stream",
     "text": [
      "\n"
     ]
    }
   ],
   "source": [
    "primeraronda7win = torneossem[torneossem['Winner'] == 'Matteo Berrettini']\n",
    "\n",
    "primeraronda7lose = torneossem[(torneossem['Loser'] == 'Matteo Berrettini')]\n",
    "\n",
    "jugador=pd.concat([primeraronda7win,primeraronda7lose],axis=0)\n",
    "\n",
    "win=jugador.Winner\n",
    "\n",
    "jugador['Win'] = win \n",
    "\n",
    "def win(x):\n",
    "\n",
    "        if x == 'Matteo Berrettini':\n",
    "            return 1\n",
    "        else:\n",
    "            return 0\n",
    "\n",
    "jugador.Win = jugador.Win.apply(win)\n",
    "\n",
    "jugador=jugador.drop(columns='Loser')\n",
    "\n",
    "jugador.Series=jugador.Series.apply(lambda x: series[x])\n",
    "jugador.Round=jugador.Round.apply(lambda x: rounds[x])\n",
    "\n",
    "\n",
    "jugador = jugador.drop(columns=['Tournament','Winner','Surface'])\n",
    "\n",
    "X=jugador.drop(columns = 'Win')\n",
    "y=jugador.Win\n",
    "\n",
    "data=pd.DataFrame(StandardScaler().fit_transform(X._get_numeric_data()),\\\n",
    "                     columns=X._get_numeric_data().columns)\n",
    "\n",
    "X_train, X_test, y_train, y_test = tts(data, y, train_size=0.8, test_size=0.2, random_state=42)\n",
    "\n",
    "clf = LazyClassifier(verbose=0, ignore_warnings=True, custom_metric=None)\n",
    "models, predictions = clf.fit(X_train, X_test, y_train, y_test)\n",
    "print(models)\n",
    "\n"
   ]
  },
  {
   "cell_type": "code",
   "execution_count": 422,
   "id": "a2980582",
   "metadata": {},
   "outputs": [],
   "source": [
    "ABC  = AdaBoostClassifier()\n",
    "ABC.fit(X_train, y_train)\n",
    "y_pred_ber3=ABC.predict(X_test)"
   ]
  },
  {
   "cell_type": "code",
   "execution_count": 423,
   "id": "372b00fc",
   "metadata": {},
   "outputs": [],
   "source": [
    "rateber3= ratewins(y_pred_ber3)"
   ]
  },
  {
   "cell_type": "code",
   "execution_count": 424,
   "id": "6612df0f",
   "metadata": {},
   "outputs": [
    {
     "data": {
      "text/plain": [
       "0.4"
      ]
     },
     "execution_count": 424,
     "metadata": {},
     "output_type": "execute_result"
    }
   ],
   "source": [
    "rateber3"
   ]
  },
  {
   "cell_type": "markdown",
   "id": "c44e0dad",
   "metadata": {},
   "source": [
    "### Carlos Alcaraz"
   ]
  },
  {
   "cell_type": "code",
   "execution_count": 425,
   "id": "ce926def",
   "metadata": {},
   "outputs": [
    {
     "name": "stderr",
     "output_type": "stream",
     "text": [
      "100%|██████████| 29/29 [00:00<00:00, 91.62it/s]"
     ]
    },
    {
     "name": "stdout",
     "output_type": "stream",
     "text": [
      "                               Accuracy  Balanced Accuracy  ROC AUC  F1 Score  \\\n",
      "Model                                                                           \n",
      "AdaBoostClassifier                 1.00               1.00     1.00      1.00   \n",
      "XGBClassifier                      1.00               1.00     1.00      1.00   \n",
      "DecisionTreeClassifier             1.00               1.00     1.00      1.00   \n",
      "KNeighborsClassifier               1.00               1.00     1.00      1.00   \n",
      "BaggingClassifier                  1.00               1.00     1.00      1.00   \n",
      "NearestCentroid                    0.50               0.67     0.67      0.50   \n",
      "SVC                                0.50               0.67     0.67      0.50   \n",
      "SGDClassifier                      0.50               0.67     0.67      0.50   \n",
      "RidgeClassifierCV                  0.50               0.67     0.67      0.50   \n",
      "RidgeClassifier                    0.50               0.67     0.67      0.50   \n",
      "RandomForestClassifier             0.50               0.67     0.67      0.50   \n",
      "QuadraticDiscriminantAnalysis      0.50               0.67     0.67      0.50   \n",
      "Perceptron                         0.50               0.67     0.67      0.50   \n",
      "PassiveAggressiveClassifier        0.50               0.67     0.67      0.50   \n",
      "NuSVC                              0.50               0.67     0.67      0.50   \n",
      "LinearSVC                          0.50               0.67     0.67      0.50   \n",
      "LogisticRegression                 0.50               0.67     0.67      0.50   \n",
      "LabelSpreading                     0.50               0.67     0.67      0.50   \n",
      "LabelPropagation                   0.50               0.67     0.67      0.50   \n",
      "GaussianNB                         0.50               0.67     0.67      0.50   \n",
      "ExtraTreesClassifier               0.50               0.67     0.67      0.50   \n",
      "ExtraTreeClassifier                0.50               0.67     0.67      0.50   \n",
      "CalibratedClassifierCV             0.50               0.67     0.67      0.50   \n",
      "BernoulliNB                        0.50               0.67     0.67      0.50   \n",
      "DummyClassifier                    0.75               0.50     0.50      0.64   \n",
      "LGBMClassifier                     0.75               0.50     0.50      0.64   \n",
      "LinearDiscriminantAnalysis         0.00               0.00     0.00      0.00   \n",
      "\n",
      "                               Time Taken  \n",
      "Model                                      \n",
      "AdaBoostClassifier                   0.01  \n",
      "XGBClassifier                        0.02  \n",
      "DecisionTreeClassifier               0.00  \n",
      "KNeighborsClassifier                 0.01  \n",
      "BaggingClassifier                    0.01  \n",
      "NearestCentroid                      0.00  \n",
      "SVC                                  0.00  \n",
      "SGDClassifier                        0.01  \n",
      "RidgeClassifierCV                    0.01  \n",
      "RidgeClassifier                      0.01  \n",
      "RandomForestClassifier               0.08  \n",
      "QuadraticDiscriminantAnalysis        0.00  \n",
      "Perceptron                           0.00  \n",
      "PassiveAggressiveClassifier          0.01  \n",
      "NuSVC                                0.01  \n",
      "LinearSVC                            0.01  \n",
      "LogisticRegression                   0.01  \n",
      "LabelSpreading                       0.01  \n",
      "LabelPropagation                     0.01  \n",
      "GaussianNB                           0.01  \n",
      "ExtraTreesClassifier                 0.06  \n",
      "ExtraTreeClassifier                  0.00  \n",
      "CalibratedClassifierCV               0.01  \n",
      "BernoulliNB                          0.01  \n",
      "DummyClassifier                      0.01  \n",
      "LGBMClassifier                       0.01  \n",
      "LinearDiscriminantAnalysis           0.01  \n"
     ]
    },
    {
     "name": "stderr",
     "output_type": "stream",
     "text": [
      "\n"
     ]
    }
   ],
   "source": [
    "primeraronda4wina = torneossem[(torneossem['Winner'] == 'Carlos Alcaraz')]\n",
    "\n",
    "primeraronda4losea = torneossem[(torneossem['Loser'] == 'Carlos Alcaraz')]\n",
    "\n",
    "jugador=pd.concat([primeraronda4wina,primeraronda4losea],axis=0)\n",
    "\n",
    "win=jugador.Winner\n",
    "\n",
    "jugador['Win'] = win \n",
    "\n",
    "def win(x):\n",
    "\n",
    "        if x == 'Carlos Alcaraz':\n",
    "            return 1\n",
    "        else:\n",
    "            return 0\n",
    "\n",
    "jugador.Win = jugador.Win.apply(win)\n",
    "\n",
    "jugador=jugador.drop(columns='Loser')\n",
    "\n",
    "jugador.Series=jugador.Series.apply(lambda x: series[x])\n",
    "jugador.Round=jugador.Round.apply(lambda x: rounds[x])\n",
    "\n",
    "\n",
    "jugador = jugador.drop(columns=['Tournament','Winner','Surface'])\n",
    "\n",
    "X=jugador.drop(columns = 'Win')\n",
    "y=jugador.Win\n",
    "\n",
    "data=pd.DataFrame(StandardScaler().fit_transform(X._get_numeric_data()),\\\n",
    "                     columns=X._get_numeric_data().columns)\n",
    "\n",
    "X_train, X_test, y_train, y_test = tts(data, y, train_size=0.8, test_size=0.2, random_state=42)\n",
    "\n",
    "clf = LazyClassifier(verbose=0, ignore_warnings=True, custom_metric=None)\n",
    "models, predictions = clf.fit(X_train, X_test, y_train, y_test)\n",
    "print(models)\n",
    "\n"
   ]
  },
  {
   "cell_type": "code",
   "execution_count": 426,
   "id": "d5cde0b5",
   "metadata": {},
   "outputs": [],
   "source": [
    "ABC = AdaBoostClassifier()\n",
    "ABC.fit(X_train, y_train)\n",
    "y_pred_alc3=ABC.predict(X_test)"
   ]
  },
  {
   "cell_type": "code",
   "execution_count": 427,
   "id": "57b4f589",
   "metadata": {},
   "outputs": [],
   "source": [
    "ratealc3= ratewins(y_pred_alc3)"
   ]
  },
  {
   "cell_type": "code",
   "execution_count": 428,
   "id": "f5d3eb8e",
   "metadata": {
    "scrolled": false
   },
   "outputs": [
    {
     "data": {
      "text/plain": [
       "0.75"
      ]
     },
     "execution_count": 428,
     "metadata": {},
     "output_type": "execute_result"
    }
   ],
   "source": [
    "ratealc3"
   ]
  },
  {
   "cell_type": "markdown",
   "id": "f4291394",
   "metadata": {},
   "source": [
    "### El ratio de victorias Carlos Alcaraz es mayor, por lo que consideremos que gana el encuentro y pasa a la siguiente ronda.  Matteo Berrettini es eliminado."
   ]
  },
  {
   "cell_type": "markdown",
   "id": "8430a92e",
   "metadata": {},
   "source": [
    "# Semifinal"
   ]
  },
  {
   "cell_type": "code",
   "execution_count": 429,
   "id": "aaca7f0d",
   "metadata": {},
   "outputs": [],
   "source": [
    "jugadoressemifinalsreal = ['Rafael Nadal','Novak Djokovic','Carlos Alcaraz','Andrey Rublev']\n",
    "                          "
   ]
  },
  {
   "cell_type": "code",
   "execution_count": 430,
   "id": "2bf2a419",
   "metadata": {},
   "outputs": [
    {
     "data": {
      "text/plain": [
       "[(('Andrey Rublev', 'Rafael Nadal'), ('Carlos Alcaraz', 'Novak Djokovic'))]"
      ]
     },
     "execution_count": 430,
     "metadata": {},
     "output_type": "execute_result"
    }
   ],
   "source": [
    "from itertools import permutations\n",
    "import random\n",
    "\n",
    "def group(agents, n=1):\n",
    "    todos = set()\n",
    "    for caso in permutations(agents):\n",
    "        gen = zip(*[iter(caso)]*2)\n",
    "        gen = tuple(sorted(tuple(sorted(pair)) for pair in gen))\n",
    "        todos.add(gen)\n",
    "    todos = list(todos)\n",
    "    random.seed(1)\n",
    "    random.shuffle(todos)\n",
    "    return todos[:n]\n",
    "\n",
    "agents = ['Rafael Nadal','Novak Djokovic','Carlos Alcaraz','Andrey Rublev']\n",
    "\n",
    "parejassimis = group (agents)\n",
    "parejassimis"
   ]
  },
  {
   "cell_type": "code",
   "execution_count": 431,
   "id": "548f2286",
   "metadata": {},
   "outputs": [],
   "source": [
    "torneossemis=totaltorneos[(totaltorneos['Winner'] == 'Rafael Nadal') | (totaltorneos['Winner'] == 'Andrey Rublev')\n",
    "               | (totaltorneos['Winner'] == 'Carlos Alcaraz') | (totaltorneos['Winner'] == 'Novak Djokovic')\n",
    "               |(totaltorneos['Loser'] == 'Rafael Nadal') | (totaltorneos['Loser'] == 'Andrey Rublev')\n",
    "               | (totaltorneos['Loser'] == 'Carlos Alcaraz') | (totaltorneos['Loser'] == 'Novak Djokovic')]\n",
    "                                                                  \n",
    "\n",
    "                                                                   "
   ]
  },
  {
   "cell_type": "markdown",
   "id": "71d4bfc2",
   "metadata": {},
   "source": [
    "# Pareja semifinalista 1"
   ]
  },
  {
   "cell_type": "code",
   "execution_count": 432,
   "id": "fa442620",
   "metadata": {},
   "outputs": [
    {
     "data": {
      "text/plain": [
       "('Andrey Rublev', 'Rafael Nadal')"
      ]
     },
     "execution_count": 432,
     "metadata": {},
     "output_type": "execute_result"
    }
   ],
   "source": [
    "parejassimis[0][0]"
   ]
  },
  {
   "cell_type": "markdown",
   "id": "659617a2",
   "metadata": {},
   "source": [
    "### Andrey Rublev"
   ]
  },
  {
   "cell_type": "code",
   "execution_count": 433,
   "id": "85879b31",
   "metadata": {},
   "outputs": [
    {
     "name": "stderr",
     "output_type": "stream",
     "text": [
      "100%|██████████| 29/29 [00:00<00:00, 68.38it/s]"
     ]
    },
    {
     "name": "stdout",
     "output_type": "stream",
     "text": [
      "                               Accuracy  Balanced Accuracy  ROC AUC  F1 Score  \\\n",
      "Model                                                                           \n",
      "AdaBoostClassifier                 1.00               1.00     1.00      1.00   \n",
      "ExtraTreesClassifier               1.00               1.00     1.00      1.00   \n",
      "XGBClassifier                      1.00               1.00     1.00      1.00   \n",
      "RandomForestClassifier             1.00               1.00     1.00      1.00   \n",
      "NuSVC                              1.00               1.00     1.00      1.00   \n",
      "LabelSpreading                     1.00               1.00     1.00      1.00   \n",
      "LabelPropagation                   1.00               1.00     1.00      1.00   \n",
      "LGBMClassifier                     0.95               0.94     0.94      0.95   \n",
      "DecisionTreeClassifier             0.95               0.94     0.94      0.95   \n",
      "SVC                                0.90               0.92     0.92      0.90   \n",
      "SGDClassifier                      0.90               0.92     0.92      0.90   \n",
      "CalibratedClassifierCV             0.90               0.90     0.90      0.90   \n",
      "ExtraTreeClassifier                0.90               0.88     0.88      0.90   \n",
      "LinearDiscriminantAnalysis         0.90               0.88     0.88      0.90   \n",
      "BaggingClassifier                  0.90               0.88     0.88      0.90   \n",
      "PassiveAggressiveClassifier        0.85               0.85     0.85      0.85   \n",
      "Perceptron                         0.85               0.85     0.85      0.85   \n",
      "LinearSVC                          0.85               0.85     0.85      0.85   \n",
      "LogisticRegression                 0.85               0.85     0.85      0.85   \n",
      "KNeighborsClassifier               0.85               0.83     0.83      0.85   \n",
      "RidgeClassifier                    0.80               0.79     0.79      0.80   \n",
      "GaussianNB                         0.80               0.77     0.77      0.79   \n",
      "RidgeClassifierCV                  0.75               0.73     0.73      0.75   \n",
      "NearestCentroid                    0.60               0.56     0.56      0.59   \n",
      "QuadraticDiscriminantAnalysis      0.40               0.50     0.50      0.23   \n",
      "DummyClassifier                    0.60               0.50     0.50      0.45   \n",
      "BernoulliNB                        0.55               0.50     0.50      0.52   \n",
      "\n",
      "                               Time Taken  \n",
      "Model                                      \n",
      "AdaBoostClassifier                   0.04  \n",
      "ExtraTreesClassifier                 0.06  \n",
      "XGBClassifier                        0.06  \n",
      "RandomForestClassifier               0.08  \n",
      "NuSVC                                0.01  \n",
      "LabelSpreading                       0.01  \n",
      "LabelPropagation                     0.01  \n",
      "LGBMClassifier                       0.04  \n",
      "DecisionTreeClassifier               0.01  \n",
      "SVC                                  0.01  \n",
      "SGDClassifier                        0.01  \n",
      "CalibratedClassifierCV               0.02  \n",
      "ExtraTreeClassifier                  0.00  \n",
      "LinearDiscriminantAnalysis           0.01  \n",
      "BaggingClassifier                    0.01  \n",
      "PassiveAggressiveClassifier          0.01  \n",
      "Perceptron                           0.01  \n",
      "LinearSVC                            0.01  \n",
      "LogisticRegression                   0.01  \n",
      "KNeighborsClassifier                 0.01  \n",
      "RidgeClassifier                      0.01  \n",
      "GaussianNB                           0.01  \n",
      "RidgeClassifierCV                    0.01  \n",
      "NearestCentroid                      0.01  \n",
      "QuadraticDiscriminantAnalysis        0.01  \n",
      "DummyClassifier                      0.00  \n",
      "BernoulliNB                          0.01  \n"
     ]
    },
    {
     "name": "stderr",
     "output_type": "stream",
     "text": [
      "\n"
     ]
    }
   ],
   "source": [
    "primerarondawin = totaltorneos[(totaltorneos['Winner'] == 'Andrey Rublev')]\n",
    "\n",
    "primerarondalose = totaltorneos[(totaltorneos['Loser'] == 'Andrey Rublev')]\n",
    "\n",
    "jugador=pd.concat([primeraronda4win,primeraronda4lose],axis=0)\n",
    "\n",
    "win=jugador.Winner\n",
    "\n",
    "jugador['Win'] = win \n",
    "\n",
    "def win(x):\n",
    "\n",
    "        if x == 'Andrey Rublev':\n",
    "            return 1\n",
    "        else:\n",
    "            return 0\n",
    "\n",
    "jugador.Win = jugador.Win.apply(win)\n",
    "\n",
    "jugador=jugador.drop(columns='Loser')\n",
    "\n",
    "jugador.Series=jugador.Series.apply(lambda x: series[x])\n",
    "jugador.Round=jugador.Round.apply(lambda x: rounds[x])\n",
    "\n",
    "\n",
    "jugador = jugador.drop(columns=['Tournament','Winner','Surface'])\n",
    "\n",
    "X=jugador.drop(columns = 'Win')\n",
    "y=jugador.Win\n",
    "\n",
    "data=pd.DataFrame(StandardScaler().fit_transform(X._get_numeric_data()),\\\n",
    "                     columns=X._get_numeric_data().columns)\n",
    "\n",
    "X_train, X_test, y_train, y_test = tts(data, y, train_size=0.8, test_size=0.2, random_state=42)\n",
    "\n",
    "clf = LazyClassifier(verbose=0, ignore_warnings=True, custom_metric=None)\n",
    "models, predictions = clf.fit(X_train, X_test, y_train, y_test)\n",
    "print(models)\n",
    "\n"
   ]
  },
  {
   "cell_type": "code",
   "execution_count": 434,
   "id": "5ccbe3d3",
   "metadata": {},
   "outputs": [],
   "source": [
    "ABC  = AdaBoostClassifier()\n",
    "ABC.fit(X_train, y_train)\n",
    "y_pred_rub4=ABC.predict(X_test)"
   ]
  },
  {
   "cell_type": "code",
   "execution_count": 435,
   "id": "87ec92a4",
   "metadata": {},
   "outputs": [],
   "source": [
    "raterub4= ratewins(y_pred_rub4)"
   ]
  },
  {
   "cell_type": "code",
   "execution_count": 436,
   "id": "02ee90f9",
   "metadata": {},
   "outputs": [
    {
     "data": {
      "text/plain": [
       "0.6"
      ]
     },
     "execution_count": 436,
     "metadata": {},
     "output_type": "execute_result"
    }
   ],
   "source": [
    "raterub4"
   ]
  },
  {
   "cell_type": "markdown",
   "id": "d8dd89b1",
   "metadata": {},
   "source": [
    "### Novak Djokovic"
   ]
  },
  {
   "cell_type": "code",
   "execution_count": 437,
   "id": "57a02965",
   "metadata": {},
   "outputs": [
    {
     "name": "stderr",
     "output_type": "stream",
     "text": [
      "100%|██████████| 29/29 [00:00<00:00, 65.44it/s]"
     ]
    },
    {
     "name": "stdout",
     "output_type": "stream",
     "text": [
      "                               Accuracy  Balanced Accuracy  ROC AUC  F1 Score  \\\n",
      "Model                                                                           \n",
      "AdaBoostClassifier                 1.00               1.00     1.00      1.00   \n",
      "ExtraTreesClassifier               1.00               1.00     1.00      1.00   \n",
      "XGBClassifier                      1.00               1.00     1.00      1.00   \n",
      "RandomForestClassifier             1.00               1.00     1.00      1.00   \n",
      "BaggingClassifier                  1.00               1.00     1.00      1.00   \n",
      "GaussianNB                         1.00               1.00     1.00      1.00   \n",
      "LGBMClassifier                     1.00               1.00     1.00      1.00   \n",
      "ExtraTreeClassifier                1.00               1.00     1.00      1.00   \n",
      "NearestCentroid                    0.95               0.97     0.97      0.95   \n",
      "DecisionTreeClassifier             0.95               0.88     0.88      0.95   \n",
      "SVC                                0.95               0.88     0.88      0.95   \n",
      "LogisticRegression                 0.95               0.88     0.88      0.95   \n",
      "LinearSVC                          0.95               0.88     0.88      0.95   \n",
      "LinearDiscriminantAnalysis         0.95               0.88     0.88      0.95   \n",
      "LabelSpreading                     0.95               0.88     0.88      0.95   \n",
      "LabelPropagation                   0.95               0.88     0.88      0.95   \n",
      "KNeighborsClassifier               0.95               0.88     0.88      0.95   \n",
      "SGDClassifier                      0.90               0.84     0.84      0.90   \n",
      "BernoulliNB                        0.90               0.84     0.84      0.90   \n",
      "PassiveAggressiveClassifier        0.85               0.81     0.81      0.86   \n",
      "RidgeClassifier                    0.90               0.75     0.75      0.89   \n",
      "RidgeClassifierCV                  0.90               0.75     0.75      0.89   \n",
      "Perceptron                         0.70               0.62     0.62      0.72   \n",
      "CalibratedClassifierCV             0.85               0.62     0.62      0.81   \n",
      "DummyClassifier                    0.80               0.50     0.50      0.71   \n",
      "QuadraticDiscriminantAnalysis      0.20               0.50     0.50      0.07   \n",
      "\n",
      "                               Time Taken  \n",
      "Model                                      \n",
      "AdaBoostClassifier                   0.04  \n",
      "ExtraTreesClassifier                 0.06  \n",
      "XGBClassifier                        0.06  \n",
      "RandomForestClassifier               0.08  \n",
      "BaggingClassifier                    0.01  \n",
      "GaussianNB                           0.01  \n",
      "LGBMClassifier                       0.06  \n",
      "ExtraTreeClassifier                  0.00  \n",
      "NearestCentroid                      0.01  \n",
      "DecisionTreeClassifier               0.00  \n",
      "SVC                                  0.01  \n",
      "LogisticRegression                   0.01  \n",
      "LinearSVC                            0.01  \n",
      "LinearDiscriminantAnalysis           0.01  \n",
      "LabelSpreading                       0.01  \n",
      "LabelPropagation                     0.01  \n",
      "KNeighborsClassifier                 0.01  \n",
      "SGDClassifier                        0.01  \n",
      "BernoulliNB                          0.00  \n",
      "PassiveAggressiveClassifier          0.01  \n",
      "RidgeClassifier                      0.01  \n",
      "RidgeClassifierCV                    0.01  \n",
      "Perceptron                           0.01  \n",
      "CalibratedClassifierCV               0.02  \n",
      "DummyClassifier                      0.00  \n",
      "QuadraticDiscriminantAnalysis        0.01  \n"
     ]
    },
    {
     "name": "stderr",
     "output_type": "stream",
     "text": [
      "\n"
     ]
    }
   ],
   "source": [
    "primerarondapar4 = totaltorneos[(totaltorneos['Winner'] == 'Novak Djokovic')]\n",
    "                        \n",
    "primerarondapar4rep = totaltorneos[(totaltorneos['Loser'] == 'Novak Djokovic')]\n",
    "\n",
    "djokovic=pd.concat([primerarondapar4,primerarondapar4rep],axis=0)\n",
    "\n",
    "win=djokovic.Winner\n",
    "\n",
    "djokovic['Win'] = win \n",
    "\n",
    "def win(x):\n",
    "    \n",
    "    if x == 'Novak Djokovic':\n",
    "        return 1\n",
    "    else:\n",
    "        return 0\n",
    "\n",
    "djokovic.Win = djokovic.Win.apply(win)\n",
    "\n",
    "djokovic=djokovic.drop(columns='Loser')\n",
    "\n",
    "\n",
    "djokovic.Series=djokovic.Series.apply(lambda x: series[x])\n",
    "djokovic.Round=djokovic.Round.apply(lambda x: rounds[x])\n",
    "\n",
    "djokovic = djokovic.drop(columns=['Tournament','Winner','Surface'])\n",
    "\n",
    "Xdjo=djokovic.drop(columns = 'Win')\n",
    "ydjo=djokovic.Win\n",
    "\n",
    "datadjo=pd.DataFrame(StandardScaler().fit_transform(Xdjo._get_numeric_data()),\n",
    "                      \n",
    "                      columns=Xdjo._get_numeric_data().columns)\n",
    "\n",
    "X_train, X_test, y_train, y_test = tts(datadjo, ydjo, train_size=0.8, test_size=0.2, random_state=42)\n",
    "\n",
    "from lazypredict.Supervised import LazyClassifier\n",
    "clf = LazyClassifier(verbose=0, ignore_warnings=True, custom_metric=None)\n",
    "models, predictions = clf.fit(X_train, X_test, y_train, y_test)\n",
    "print(models)\n",
    "\n"
   ]
  },
  {
   "cell_type": "code",
   "execution_count": 438,
   "id": "20a41c35",
   "metadata": {},
   "outputs": [],
   "source": [
    "ABC = AdaBoostClassifier()\n",
    "ABC.fit(X_train, y_train)\n",
    "y_pred_djo4=ABC.predict(X_test)"
   ]
  },
  {
   "cell_type": "code",
   "execution_count": 439,
   "id": "a4034534",
   "metadata": {},
   "outputs": [],
   "source": [
    "ratedjo4= ratewins(y_pred_djo4)"
   ]
  },
  {
   "cell_type": "code",
   "execution_count": 440,
   "id": "387791e4",
   "metadata": {
    "scrolled": false
   },
   "outputs": [
    {
     "data": {
      "text/plain": [
       "0.8"
      ]
     },
     "execution_count": 440,
     "metadata": {},
     "output_type": "execute_result"
    }
   ],
   "source": [
    "ratedjo4"
   ]
  },
  {
   "cell_type": "markdown",
   "id": "4a1aa17d",
   "metadata": {},
   "source": [
    "### El ratio de victorias Alexander Zverev es mayor, por lo que consideremos que gana el encuentro y pasa a la siguiente ronda.  Holgar Rune es eliminado."
   ]
  },
  {
   "cell_type": "markdown",
   "id": "937b74fe",
   "metadata": {},
   "source": [
    "# Pareja semifinalista 2"
   ]
  },
  {
   "cell_type": "code",
   "execution_count": 441,
   "id": "ce7a3660",
   "metadata": {},
   "outputs": [
    {
     "data": {
      "text/plain": [
       "('Carlos Alcaraz', 'Novak Djokovic')"
      ]
     },
     "execution_count": 441,
     "metadata": {},
     "output_type": "execute_result"
    }
   ],
   "source": [
    "parejassimis[0][1]"
   ]
  },
  {
   "cell_type": "markdown",
   "id": "c90c16c8",
   "metadata": {},
   "source": [
    "### Carlos Alcaraz"
   ]
  },
  {
   "cell_type": "code",
   "execution_count": 442,
   "id": "498a32fb",
   "metadata": {},
   "outputs": [
    {
     "name": "stderr",
     "output_type": "stream",
     "text": [
      "100%|██████████| 29/29 [00:00<00:00, 78.67it/s]"
     ]
    },
    {
     "name": "stdout",
     "output_type": "stream",
     "text": [
      "                               Accuracy  Balanced Accuracy  ROC AUC  F1 Score  \\\n",
      "Model                                                                           \n",
      "BernoulliNB                        1.00               1.00     1.00      1.00   \n",
      "ExtraTreeClassifier                1.00               1.00     1.00      1.00   \n",
      "GaussianNB                         1.00               1.00     1.00      1.00   \n",
      "AdaBoostClassifier                 0.88               0.83     0.83      0.87   \n",
      "BaggingClassifier                  0.88               0.83     0.83      0.87   \n",
      "XGBClassifier                      0.88               0.83     0.83      0.87   \n",
      "SVC                                0.88               0.83     0.83      0.87   \n",
      "SGDClassifier                      0.88               0.83     0.83      0.87   \n",
      "Perceptron                         0.88               0.83     0.83      0.87   \n",
      "PassiveAggressiveClassifier        0.88               0.83     0.83      0.87   \n",
      "NuSVC                              0.88               0.83     0.83      0.87   \n",
      "LinearSVC                          0.88               0.83     0.83      0.87   \n",
      "LabelSpreading                     0.88               0.83     0.83      0.87   \n",
      "LabelPropagation                   0.88               0.83     0.83      0.87   \n",
      "DecisionTreeClassifier             0.88               0.83     0.83      0.87   \n",
      "LinearDiscriminantAnalysis         0.75               0.67     0.67      0.71   \n",
      "LogisticRegression                 0.75               0.67     0.67      0.71   \n",
      "NearestCentroid                    0.75               0.67     0.67      0.71   \n",
      "ExtraTreesClassifier               0.75               0.67     0.67      0.71   \n",
      "RandomForestClassifier             0.75               0.67     0.67      0.71   \n",
      "RidgeClassifier                    0.75               0.67     0.67      0.71   \n",
      "RidgeClassifierCV                  0.75               0.67     0.67      0.71   \n",
      "CalibratedClassifierCV             0.75               0.67     0.67      0.71   \n",
      "KNeighborsClassifier               0.62               0.50     0.50      0.48   \n",
      "QuadraticDiscriminantAnalysis      0.38               0.50     0.50      0.20   \n",
      "DummyClassifier                    0.62               0.50     0.50      0.48   \n",
      "LGBMClassifier                     0.62               0.50     0.50      0.48   \n",
      "\n",
      "                               Time Taken  \n",
      "Model                                      \n",
      "BernoulliNB                          0.00  \n",
      "ExtraTreeClassifier                  0.00  \n",
      "GaussianNB                           0.01  \n",
      "AdaBoostClassifier                   0.04  \n",
      "BaggingClassifier                    0.01  \n",
      "XGBClassifier                        0.04  \n",
      "SVC                                  0.01  \n",
      "SGDClassifier                        0.01  \n",
      "Perceptron                           0.01  \n",
      "PassiveAggressiveClassifier          0.00  \n",
      "NuSVC                                0.01  \n",
      "LinearSVC                            0.01  \n",
      "LabelSpreading                       0.01  \n",
      "LabelPropagation                     0.01  \n",
      "DecisionTreeClassifier               0.00  \n",
      "LinearDiscriminantAnalysis           0.01  \n",
      "LogisticRegression                   0.01  \n",
      "NearestCentroid                      0.00  \n",
      "ExtraTreesClassifier                 0.05  \n",
      "RandomForestClassifier               0.08  \n",
      "RidgeClassifier                      0.01  \n",
      "RidgeClassifierCV                    0.01  \n",
      "CalibratedClassifierCV               0.01  \n",
      "KNeighborsClassifier                 0.01  \n",
      "QuadraticDiscriminantAnalysis        0.00  \n",
      "DummyClassifier                      0.00  \n",
      "LGBMClassifier                       0.01  \n"
     ]
    },
    {
     "name": "stderr",
     "output_type": "stream",
     "text": [
      "\n"
     ]
    }
   ],
   "source": [
    "primeraronda7win = totaltorneos[(totaltorneos['Winner'] == 'Carlos Alcaraz')]\n",
    "\n",
    "primeraronda7lose = totaltorneos[(totaltorneos['Loser'] == 'Carlos Alcaraz')]\n",
    "\n",
    "jugador=pd.concat([primeraronda7win,primeraronda7lose],axis=0)\n",
    "\n",
    "win=jugador.Winner\n",
    "\n",
    "jugador['Win'] = win \n",
    "\n",
    "def win(x):\n",
    "\n",
    "        if x == 'Carlos Alcaraz':\n",
    "            return 1\n",
    "        else:\n",
    "            return 0\n",
    "\n",
    "jugador.Win = jugador.Win.apply(win)\n",
    "\n",
    "jugador=jugador.drop(columns='Loser')\n",
    "\n",
    "jugador.Series=jugador.Series.apply(lambda x: series[x])\n",
    "jugador.Round=jugador.Round.apply(lambda x: rounds[x])\n",
    "\n",
    "\n",
    "jugador = jugador.drop(columns=['Tournament','Winner','Surface'])\n",
    "\n",
    "X=jugador.drop(columns = 'Win')\n",
    "y=jugador.Win\n",
    "\n",
    "data=pd.DataFrame(StandardScaler().fit_transform(X._get_numeric_data()),\\\n",
    "                     columns=X._get_numeric_data().columns)\n",
    "\n",
    "X_train, X_test, y_train, y_test = tts(data, y, train_size=0.8, test_size=0.2, random_state=42)\n",
    "\n",
    "clf = LazyClassifier(verbose=0, ignore_warnings=True, custom_metric=None)\n",
    "models, predictions = clf.fit(X_train, X_test, y_train, y_test)\n",
    "print(models)\n"
   ]
  },
  {
   "cell_type": "code",
   "execution_count": 443,
   "id": "b1ae928d",
   "metadata": {},
   "outputs": [],
   "source": [
    "bernoulli  = BernoulliNB()\n",
    "bernoulli.fit(X_train, y_train)\n",
    "y_pred_alc4=bernoulli.predict(X_test)"
   ]
  },
  {
   "cell_type": "code",
   "execution_count": 444,
   "id": "da0c8240",
   "metadata": {},
   "outputs": [],
   "source": [
    "ratealc4= ratewins(y_pred_alc4)"
   ]
  },
  {
   "cell_type": "code",
   "execution_count": 445,
   "id": "94b4008f",
   "metadata": {},
   "outputs": [
    {
     "data": {
      "text/plain": [
       "0.625"
      ]
     },
     "execution_count": 445,
     "metadata": {},
     "output_type": "execute_result"
    }
   ],
   "source": [
    "ratealc4"
   ]
  },
  {
   "cell_type": "markdown",
   "id": "b496fa1f",
   "metadata": {},
   "source": [
    "### Rafael Nadal"
   ]
  },
  {
   "cell_type": "code",
   "execution_count": 446,
   "id": "78264baa",
   "metadata": {},
   "outputs": [
    {
     "name": "stderr",
     "output_type": "stream",
     "text": [
      "100%|██████████| 29/29 [00:00<00:00, 66.82it/s]"
     ]
    },
    {
     "name": "stdout",
     "output_type": "stream",
     "text": [
      "                               Accuracy  Balanced Accuracy  ROC AUC  F1 Score  \\\n",
      "Model                                                                           \n",
      "RandomForestClassifier             1.00               1.00     1.00      1.00   \n",
      "ExtraTreesClassifier               1.00               1.00     1.00      1.00   \n",
      "XGBClassifier                      0.95               0.90     0.90      0.95   \n",
      "DecisionTreeClassifier             0.95               0.90     0.90      0.95   \n",
      "ExtraTreeClassifier                0.95               0.90     0.90      0.95   \n",
      "GaussianNB                         0.85               0.83     0.83      0.85   \n",
      "NearestCentroid                    0.85               0.83     0.83      0.85   \n",
      "AdaBoostClassifier                 0.90               0.80     0.80      0.89   \n",
      "BaggingClassifier                  0.90               0.80     0.80      0.89   \n",
      "SGDClassifier                      0.90               0.80     0.80      0.89   \n",
      "Perceptron                         0.90               0.80     0.80      0.89   \n",
      "PassiveAggressiveClassifier        0.90               0.80     0.80      0.89   \n",
      "LogisticRegression                 0.90               0.80     0.80      0.89   \n",
      "LinearSVC                          0.90               0.80     0.80      0.89   \n",
      "LinearDiscriminantAnalysis         0.90               0.80     0.80      0.89   \n",
      "LabelSpreading                     0.90               0.80     0.80      0.89   \n",
      "LabelPropagation                   0.90               0.80     0.80      0.89   \n",
      "KNeighborsClassifier               0.90               0.80     0.80      0.89   \n",
      "LGBMClassifier                     0.90               0.80     0.80      0.89   \n",
      "BernoulliNB                        0.80               0.73     0.73      0.80   \n",
      "QuadraticDiscriminantAnalysis      0.55               0.70     0.70      0.56   \n",
      "RidgeClassifier                    0.85               0.70     0.70      0.82   \n",
      "RidgeClassifierCV                  0.85               0.70     0.70      0.82   \n",
      "CalibratedClassifierCV             0.85               0.70     0.70      0.82   \n",
      "SVC                                0.85               0.70     0.70      0.82   \n",
      "DummyClassifier                    0.75               0.50     0.50      0.64   \n",
      "\n",
      "                               Time Taken  \n",
      "Model                                      \n",
      "RandomForestClassifier               0.08  \n",
      "ExtraTreesClassifier                 0.06  \n",
      "XGBClassifier                        0.06  \n",
      "DecisionTreeClassifier               0.00  \n",
      "ExtraTreeClassifier                  0.00  \n",
      "GaussianNB                           0.01  \n",
      "NearestCentroid                      0.01  \n",
      "AdaBoostClassifier                   0.04  \n",
      "BaggingClassifier                    0.01  \n",
      "SGDClassifier                        0.01  \n",
      "Perceptron                           0.01  \n",
      "PassiveAggressiveClassifier          0.01  \n",
      "LogisticRegression                   0.01  \n",
      "LinearSVC                            0.01  \n",
      "LinearDiscriminantAnalysis           0.01  \n",
      "LabelSpreading                       0.01  \n",
      "LabelPropagation                     0.01  \n",
      "KNeighborsClassifier                 0.01  \n",
      "LGBMClassifier                       0.05  \n",
      "BernoulliNB                          0.00  \n",
      "QuadraticDiscriminantAnalysis        0.01  \n",
      "RidgeClassifier                      0.01  \n",
      "RidgeClassifierCV                    0.01  \n",
      "CalibratedClassifierCV               0.01  \n",
      "SVC                                  0.01  \n",
      "DummyClassifier                      0.00  \n"
     ]
    },
    {
     "name": "stderr",
     "output_type": "stream",
     "text": [
      "\n"
     ]
    }
   ],
   "source": [
    "primeraronda7win = totaltorneos[(totaltorneos['Winner'] == 'Rafael Nadal')]\n",
    "\n",
    "primeraronda7lose = totaltorneos[(totaltorneos['Loser'] == 'Rafael Nadal')]\n",
    "\n",
    "jugador=pd.concat([primeraronda7win,primeraronda7lose],axis=0)\n",
    "\n",
    "win=jugador.Winner\n",
    "\n",
    "jugador['Win'] = win \n",
    "\n",
    "def win(x):\n",
    "\n",
    "        if x == 'Rafael Nadal':\n",
    "            return 1\n",
    "        else:\n",
    "            return 0\n",
    "\n",
    "jugador.Win = jugador.Win.apply(win)\n",
    "\n",
    "jugador=jugador.drop(columns='Loser')\n",
    "\n",
    "jugador.Series=jugador.Series.apply(lambda x: series[x])\n",
    "jugador.Round=jugador.Round.apply(lambda x: rounds[x])\n",
    "\n",
    "\n",
    "jugador = jugador.drop(columns=['Tournament','Winner','Surface'])\n",
    "\n",
    "X=jugador.drop(columns = 'Win')\n",
    "y=jugador.Win\n",
    "\n",
    "data=pd.DataFrame(StandardScaler().fit_transform(X._get_numeric_data()),\\\n",
    "                     columns=X._get_numeric_data().columns)\n",
    "\n",
    "X_train, X_test, y_train, y_test = tts(data, y, train_size=0.8, test_size=0.2, random_state=42)\n",
    "\n",
    "clf = LazyClassifier(verbose=0, ignore_warnings=True, custom_metric=None)\n",
    "models, predictions = clf.fit(X_train, X_test, y_train, y_test)\n",
    "print(models)\n",
    "\n"
   ]
  },
  {
   "cell_type": "code",
   "execution_count": 447,
   "id": "9fcd8a5d",
   "metadata": {},
   "outputs": [],
   "source": [
    "rfc = RandomForestClassifier ()\n",
    "rfc.fit(X_train, y_train)\n",
    "y_pred_nad4=rfc.predict(X_test)"
   ]
  },
  {
   "cell_type": "code",
   "execution_count": 448,
   "id": "520b0cc3",
   "metadata": {},
   "outputs": [],
   "source": [
    "ratenad4= ratewins(y_pred_nad4)"
   ]
  },
  {
   "cell_type": "code",
   "execution_count": 449,
   "id": "e50e1335",
   "metadata": {
    "scrolled": false
   },
   "outputs": [
    {
     "data": {
      "text/plain": [
       "0.8"
      ]
     },
     "execution_count": 449,
     "metadata": {},
     "output_type": "execute_result"
    }
   ],
   "source": [
    "ratenad4"
   ]
  },
  {
   "cell_type": "markdown",
   "id": "fba91a65",
   "metadata": {},
   "source": [
    "### El ratio de victorias Novak Djokovic es mayor, por lo que consideremos que gana el encuentro y pasa a la siguiente ronda.  Rafael Nadal es eliminado."
   ]
  },
  {
   "cell_type": "markdown",
   "id": "5ea54148",
   "metadata": {},
   "source": [
    "# Final"
   ]
  },
  {
   "cell_type": "markdown",
   "id": "338824f9",
   "metadata": {},
   "source": [
    "## Rafael Nadal vs Novak Djokovic"
   ]
  },
  {
   "cell_type": "code",
   "execution_count": 450,
   "id": "be795afe",
   "metadata": {},
   "outputs": [],
   "source": [
    "final=totaltorneos[(totaltorneos['Winner'] == 'Novak Djokovic') | (totaltorneos['Winner'] == 'Rafael Nadal')]"
   ]
  },
  {
   "cell_type": "code",
   "execution_count": 451,
   "id": "02fa4d2d",
   "metadata": {},
   "outputs": [],
   "source": [
    "final=final[(final['Loser'] == 'Novak Djokovic') | (final['Loser'] == 'Rafael Nadal')]"
   ]
  },
  {
   "cell_type": "code",
   "execution_count": 452,
   "id": "95cf108f",
   "metadata": {},
   "outputs": [
    {
     "name": "stderr",
     "output_type": "stream",
     "text": [
      "100%|██████████| 29/29 [00:00<00:00, 66.51it/s]"
     ]
    },
    {
     "name": "stdout",
     "output_type": "stream",
     "text": [
      "                               Accuracy  Balanced Accuracy  ROC AUC  F1 Score  \\\n",
      "Model                                                                           \n",
      "BernoulliNB                        1.00               1.00     1.00      1.00   \n",
      "DecisionTreeClassifier             1.00               1.00     1.00      1.00   \n",
      "ExtraTreeClassifier                1.00               1.00     1.00      1.00   \n",
      "AdaBoostClassifier                 0.50               0.50     0.50      0.33   \n",
      "NearestCentroid                    0.50               0.50     0.50      0.33   \n",
      "XGBClassifier                      0.50               0.50     0.50      0.33   \n",
      "SVC                                0.50               0.50     0.50      0.33   \n",
      "SGDClassifier                      0.50               0.50     0.50      0.33   \n",
      "RidgeClassifierCV                  0.50               0.50     0.50      0.33   \n",
      "RidgeClassifier                    0.50               0.50     0.50      0.33   \n",
      "RandomForestClassifier             0.50               0.50     0.50      0.33   \n",
      "Perceptron                         0.50               0.50     0.50      0.33   \n",
      "PassiveAggressiveClassifier        0.50               0.50     0.50      0.33   \n",
      "NuSVC                              0.50               0.50     0.50      0.33   \n",
      "LogisticRegression                 0.50               0.50     0.50      0.33   \n",
      "BaggingClassifier                  0.50               0.50     0.50      0.33   \n",
      "LinearSVC                          0.50               0.50     0.50      0.33   \n",
      "LinearDiscriminantAnalysis         0.50               0.50     0.50      0.33   \n",
      "LabelSpreading                     0.50               0.50     0.50      0.33   \n",
      "LabelPropagation                   0.50               0.50     0.50      0.33   \n",
      "KNeighborsClassifier               0.50               0.50     0.50      0.33   \n",
      "GaussianNB                         0.50               0.50     0.50      0.33   \n",
      "ExtraTreesClassifier               0.50               0.50     0.50      0.33   \n",
      "DummyClassifier                    0.50               0.50     0.50      0.33   \n",
      "LGBMClassifier                     0.50               0.50     0.50      0.33   \n",
      "QuadraticDiscriminantAnalysis      0.00               0.00     0.00      0.00   \n",
      "\n",
      "                               Time Taken  \n",
      "Model                                      \n",
      "BernoulliNB                          0.01  \n",
      "DecisionTreeClassifier               0.01  \n",
      "ExtraTreeClassifier                  0.01  \n",
      "AdaBoostClassifier                   0.01  \n",
      "NearestCentroid                      0.01  \n",
      "XGBClassifier                        0.12  \n",
      "SVC                                  0.01  \n",
      "SGDClassifier                        0.01  \n",
      "RidgeClassifierCV                    0.01  \n",
      "RidgeClassifier                      0.01  \n",
      "RandomForestClassifier               0.08  \n",
      "Perceptron                           0.01  \n",
      "PassiveAggressiveClassifier          0.01  \n",
      "NuSVC                                0.01  \n",
      "LogisticRegression                   0.01  \n",
      "BaggingClassifier                    0.02  \n",
      "LinearSVC                            0.01  \n",
      "LinearDiscriminantAnalysis           0.01  \n",
      "LabelSpreading                       0.01  \n",
      "LabelPropagation                     0.01  \n",
      "KNeighborsClassifier                 0.01  \n",
      "GaussianNB                           0.01  \n",
      "ExtraTreesClassifier                 0.06  \n",
      "DummyClassifier                      0.01  \n",
      "LGBMClassifier                       0.01  \n",
      "QuadraticDiscriminantAnalysis        0.01  \n"
     ]
    },
    {
     "name": "stderr",
     "output_type": "stream",
     "text": [
      "\n"
     ]
    }
   ],
   "source": [
    "primeraronda7win = final[(final['Winner'] == 'Rafael Nadal')]\n",
    "\n",
    "primeraronda7lose = final[(final['Loser'] == 'Rafael Nadal')]\n",
    "\n",
    "jugador=pd.concat([primeraronda7win,primeraronda7lose],axis=0)\n",
    "\n",
    "win=jugador.Winner\n",
    "\n",
    "jugador['Win'] = win \n",
    "\n",
    "def win(x):\n",
    "\n",
    "        if x == 'Rafael Nadal':\n",
    "            return 1\n",
    "        else:\n",
    "            return 0\n",
    "\n",
    "jugador.Win = jugador.Win.apply(win)\n",
    "\n",
    "jugador=jugador.drop(columns='Loser')\n",
    "\n",
    "jugador.Series=jugador.Series.apply(lambda x: series[x])\n",
    "jugador.Round=jugador.Round.apply(lambda x: rounds[x])\n",
    "\n",
    "\n",
    "jugador = jugador.drop(columns=['Tournament','Winner','Surface'])\n",
    "\n",
    "X=jugador.drop(columns = 'Win')\n",
    "y=jugador.Win\n",
    "\n",
    "data=pd.DataFrame(StandardScaler().fit_transform(X._get_numeric_data()),\\\n",
    "                     columns=X._get_numeric_data().columns)\n",
    "\n",
    "X_train, X_test, y_train, y_test = tts(data, y, train_size=0.8, test_size=0.2, random_state=42)\n",
    "\n",
    "clf = LazyClassifier(verbose=0, ignore_warnings=True, custom_metric=None)\n",
    "models, predictions = clf.fit(X_train, X_test, y_train, y_test)\n",
    "print(models)"
   ]
  },
  {
   "cell_type": "code",
   "execution_count": 453,
   "id": "fe3cad4b",
   "metadata": {},
   "outputs": [],
   "source": [
    "bernoulli = BernoulliNB()\n",
    "bernoulli.fit(X_train, y_train)\n",
    "y_pred_nad5=bernoulli.predict(X_test)"
   ]
  },
  {
   "cell_type": "code",
   "execution_count": 454,
   "id": "0efd21e2",
   "metadata": {},
   "outputs": [],
   "source": [
    "ratenad5= ratewins(y_pred_nad5)"
   ]
  },
  {
   "cell_type": "code",
   "execution_count": 455,
   "id": "78e6f561",
   "metadata": {},
   "outputs": [
    {
     "data": {
      "text/plain": [
       "0.5"
      ]
     },
     "execution_count": 455,
     "metadata": {},
     "output_type": "execute_result"
    }
   ],
   "source": [
    "ratenad5"
   ]
  },
  {
   "cell_type": "code",
   "execution_count": 456,
   "id": "f49846d2",
   "metadata": {},
   "outputs": [
    {
     "name": "stderr",
     "output_type": "stream",
     "text": [
      "100%|██████████| 29/29 [00:00<00:00, 100.28it/s]"
     ]
    },
    {
     "name": "stdout",
     "output_type": "stream",
     "text": [
      "                               Accuracy  Balanced Accuracy  ROC AUC  F1 Score  \\\n",
      "Model                                                                           \n",
      "LabelPropagation                   1.00               1.00     1.00      1.00   \n",
      "BernoulliNB                        1.00               1.00     1.00      1.00   \n",
      "DecisionTreeClassifier             1.00               1.00     1.00      1.00   \n",
      "Perceptron                         1.00               1.00     1.00      1.00   \n",
      "ExtraTreeClassifier                1.00               1.00     1.00      1.00   \n",
      "ExtraTreesClassifier               1.00               1.00     1.00      1.00   \n",
      "PassiveAggressiveClassifier        1.00               1.00     1.00      1.00   \n",
      "SGDClassifier                      1.00               1.00     1.00      1.00   \n",
      "RandomForestClassifier             1.00               1.00     1.00      1.00   \n",
      "LabelSpreading                     1.00               1.00     1.00      1.00   \n",
      "LinearDiscriminantAnalysis         1.00               1.00     1.00      1.00   \n",
      "LinearSVC                          1.00               1.00     1.00      1.00   \n",
      "BaggingClassifier                  1.00               1.00     1.00      1.00   \n",
      "NearestCentroid                    1.00               1.00     1.00      1.00   \n",
      "RidgeClassifierCV                  0.50               0.50     0.50      0.33   \n",
      "AdaBoostClassifier                 0.50               0.50     0.50      0.33   \n",
      "SVC                                0.50               0.50     0.50      0.33   \n",
      "XGBClassifier                      0.50               0.50     0.50      0.33   \n",
      "RidgeClassifier                    0.50               0.50     0.50      0.33   \n",
      "LogisticRegression                 0.50               0.50     0.50      0.33   \n",
      "QuadraticDiscriminantAnalysis      0.50               0.50     0.50      0.33   \n",
      "NuSVC                              0.50               0.50     0.50      0.33   \n",
      "KNeighborsClassifier               0.50               0.50     0.50      0.33   \n",
      "GaussianNB                         0.50               0.50     0.50      0.33   \n",
      "DummyClassifier                    0.50               0.50     0.50      0.33   \n",
      "LGBMClassifier                     0.50               0.50     0.50      0.33   \n",
      "\n",
      "                               Time Taken  \n",
      "Model                                      \n",
      "LabelPropagation                     0.01  \n",
      "BernoulliNB                          0.01  \n",
      "DecisionTreeClassifier               0.00  \n",
      "Perceptron                           0.00  \n",
      "ExtraTreeClassifier                  0.00  \n",
      "ExtraTreesClassifier                 0.05  \n",
      "PassiveAggressiveClassifier          0.00  \n",
      "SGDClassifier                        0.01  \n",
      "RandomForestClassifier               0.07  \n",
      "LabelSpreading                       0.01  \n",
      "LinearDiscriminantAnalysis           0.01  \n",
      "LinearSVC                            0.00  \n",
      "BaggingClassifier                    0.02  \n",
      "NearestCentroid                      0.00  \n",
      "RidgeClassifierCV                    0.01  \n",
      "AdaBoostClassifier                   0.01  \n",
      "SVC                                  0.01  \n",
      "XGBClassifier                        0.02  \n",
      "RidgeClassifier                      0.01  \n",
      "LogisticRegression                   0.01  \n",
      "QuadraticDiscriminantAnalysis        0.00  \n",
      "NuSVC                                0.00  \n",
      "KNeighborsClassifier                 0.01  \n",
      "GaussianNB                           0.01  \n",
      "DummyClassifier                      0.00  \n",
      "LGBMClassifier                       0.01  \n"
     ]
    },
    {
     "name": "stderr",
     "output_type": "stream",
     "text": [
      "\n"
     ]
    }
   ],
   "source": [
    "primeraronda7win = final[(final['Winner'] == 'Novak Djokovic')]\n",
    "\n",
    "primeraronda7lose = final[(final['Loser'] == 'Novak Djokovic')]\n",
    "\n",
    "jugador=pd.concat([primeraronda7win,primeraronda7lose],axis=0)\n",
    "\n",
    "win=jugador.Winner\n",
    "\n",
    "jugador['Win'] = win \n",
    "\n",
    "def win(x):\n",
    "\n",
    "        if x == 'Novak Djokovic':\n",
    "            return 1\n",
    "        else:\n",
    "            return 0\n",
    "\n",
    "jugador.Win = jugador.Win.apply(win)\n",
    "\n",
    "jugador=jugador.drop(columns='Loser')\n",
    "\n",
    "jugador.Series=jugador.Series.apply(lambda x: series[x])\n",
    "jugador.Round=jugador.Round.apply(lambda x: rounds[x])\n",
    "\n",
    "\n",
    "jugador = jugador.drop(columns=['Tournament','Winner','Surface'])\n",
    "\n",
    "X=jugador.drop(columns = 'Win')\n",
    "y=jugador.Win\n",
    "\n",
    "data=pd.DataFrame(StandardScaler().fit_transform(X._get_numeric_data()),\\\n",
    "                     columns=X._get_numeric_data().columns)\n",
    "\n",
    "X_train, X_test, y_train, y_test = tts(data, y, train_size=0.8, test_size=0.2, random_state=42)\n",
    "\n",
    "clf = LazyClassifier(verbose=0, ignore_warnings=True, custom_metric=None)\n",
    "models, predictions = clf.fit(X_train, X_test, y_train, y_test)\n",
    "print(models)"
   ]
  },
  {
   "cell_type": "code",
   "execution_count": 457,
   "id": "5dc8695e",
   "metadata": {},
   "outputs": [],
   "source": [
    "bernoulli = BernoulliNB()\n",
    "bernoulli.fit(X_train, y_train)\n",
    "y_pred_djo5=bernoulli.predict(X_test)"
   ]
  },
  {
   "cell_type": "code",
   "execution_count": 458,
   "id": "8bc438b7",
   "metadata": {},
   "outputs": [],
   "source": [
    "ratedjo5= ratewins(y_pred_djo5)"
   ]
  },
  {
   "cell_type": "code",
   "execution_count": 459,
   "id": "6965fe3e",
   "metadata": {},
   "outputs": [
    {
     "data": {
      "text/plain": [
       "0.5"
      ]
     },
     "execution_count": 459,
     "metadata": {},
     "output_type": "execute_result"
    }
   ],
   "source": [
    "ratedjo5"
   ]
  },
  {
   "cell_type": "markdown",
   "id": "4f07f1c3",
   "metadata": {},
   "source": [
    "Como los resultados obtenidos son iguales, se hace una prediccción de cada jugador contra todos los rivales."
   ]
  },
  {
   "cell_type": "code",
   "execution_count": 460,
   "id": "82939176",
   "metadata": {},
   "outputs": [
    {
     "name": "stderr",
     "output_type": "stream",
     "text": [
      "100%|██████████| 29/29 [00:00<00:00, 59.77it/s]"
     ]
    },
    {
     "name": "stdout",
     "output_type": "stream",
     "text": [
      "                               Accuracy  Balanced Accuracy  ROC AUC  F1 Score  \\\n",
      "Model                                                                           \n",
      "RandomForestClassifier             1.00               1.00     1.00      1.00   \n",
      "ExtraTreesClassifier               1.00               1.00     1.00      1.00   \n",
      "XGBClassifier                      0.95               0.90     0.90      0.95   \n",
      "DecisionTreeClassifier             0.95               0.90     0.90      0.95   \n",
      "ExtraTreeClassifier                0.95               0.90     0.90      0.95   \n",
      "GaussianNB                         0.85               0.83     0.83      0.85   \n",
      "NearestCentroid                    0.85               0.83     0.83      0.85   \n",
      "AdaBoostClassifier                 0.90               0.80     0.80      0.89   \n",
      "BaggingClassifier                  0.90               0.80     0.80      0.89   \n",
      "SGDClassifier                      0.90               0.80     0.80      0.89   \n",
      "Perceptron                         0.90               0.80     0.80      0.89   \n",
      "PassiveAggressiveClassifier        0.90               0.80     0.80      0.89   \n",
      "LogisticRegression                 0.90               0.80     0.80      0.89   \n",
      "LinearSVC                          0.90               0.80     0.80      0.89   \n",
      "LinearDiscriminantAnalysis         0.90               0.80     0.80      0.89   \n",
      "LabelSpreading                     0.90               0.80     0.80      0.89   \n",
      "LabelPropagation                   0.90               0.80     0.80      0.89   \n",
      "KNeighborsClassifier               0.90               0.80     0.80      0.89   \n",
      "LGBMClassifier                     0.90               0.80     0.80      0.89   \n",
      "BernoulliNB                        0.80               0.73     0.73      0.80   \n",
      "QuadraticDiscriminantAnalysis      0.55               0.70     0.70      0.56   \n",
      "RidgeClassifier                    0.85               0.70     0.70      0.82   \n",
      "RidgeClassifierCV                  0.85               0.70     0.70      0.82   \n",
      "CalibratedClassifierCV             0.85               0.70     0.70      0.82   \n",
      "SVC                                0.85               0.70     0.70      0.82   \n",
      "DummyClassifier                    0.75               0.50     0.50      0.64   \n",
      "\n",
      "                               Time Taken  \n",
      "Model                                      \n",
      "RandomForestClassifier               0.17  \n",
      "ExtraTreesClassifier                 0.06  \n",
      "XGBClassifier                        0.02  \n",
      "DecisionTreeClassifier               0.00  \n",
      "ExtraTreeClassifier                  0.00  \n",
      "GaussianNB                           0.01  \n",
      "NearestCentroid                      0.00  \n",
      "AdaBoostClassifier                   0.04  \n",
      "BaggingClassifier                    0.01  \n",
      "SGDClassifier                        0.01  \n",
      "Perceptron                           0.01  \n",
      "PassiveAggressiveClassifier          0.01  \n",
      "LogisticRegression                   0.01  \n",
      "LinearSVC                            0.01  \n",
      "LinearDiscriminantAnalysis           0.01  \n",
      "LabelSpreading                       0.01  \n",
      "LabelPropagation                     0.01  \n",
      "KNeighborsClassifier                 0.01  \n",
      "LGBMClassifier                       0.06  \n",
      "BernoulliNB                          0.00  \n",
      "QuadraticDiscriminantAnalysis        0.01  \n",
      "RidgeClassifier                      0.01  \n",
      "RidgeClassifierCV                    0.01  \n",
      "CalibratedClassifierCV               0.01  \n",
      "SVC                                  0.01  \n",
      "DummyClassifier                      0.00  \n"
     ]
    },
    {
     "name": "stderr",
     "output_type": "stream",
     "text": [
      "\n"
     ]
    }
   ],
   "source": [
    "primeraronda7win = totaltorneos[(totaltorneos['Winner'] == 'Rafael Nadal')]\n",
    "\n",
    "primeraronda7lose = totaltorneos[(totaltorneos['Loser'] == 'Rafael Nadal')]\n",
    "\n",
    "jugador=pd.concat([primeraronda7win,primeraronda7lose],axis=0)\n",
    "\n",
    "win=jugador.Winner\n",
    "\n",
    "jugador['Win'] = win \n",
    "\n",
    "def win(x):\n",
    "\n",
    "        if x == 'Rafael Nadal':\n",
    "            return 1\n",
    "        else:\n",
    "            return 0\n",
    "\n",
    "jugador.Win = jugador.Win.apply(win)\n",
    "\n",
    "jugador=jugador.drop(columns='Loser')\n",
    "\n",
    "jugador.Series=jugador.Series.apply(lambda x: series[x])\n",
    "jugador.Round=jugador.Round.apply(lambda x: rounds[x])\n",
    "\n",
    "\n",
    "jugador = jugador.drop(columns=['Tournament','Winner','Surface'])\n",
    "\n",
    "X=jugador.drop(columns = 'Win')\n",
    "y=jugador.Win\n",
    "\n",
    "data=pd.DataFrame(StandardScaler().fit_transform(X._get_numeric_data()),\\\n",
    "                     columns=X._get_numeric_data().columns)\n",
    "\n",
    "X_train, X_test, y_train, y_test = tts(data, y, train_size=0.8, test_size=0.2, random_state=42)\n",
    "\n",
    "clf = LazyClassifier(verbose=0, ignore_warnings=True, custom_metric=None)\n",
    "models, predictions = clf.fit(X_train, X_test, y_train, y_test)\n",
    "print(models)"
   ]
  },
  {
   "cell_type": "code",
   "execution_count": 461,
   "id": "91cc761c",
   "metadata": {},
   "outputs": [],
   "source": [
    "bernoulli = BernoulliNB()\n",
    "bernoulli.fit(X_train, y_train)\n",
    "y_pred_nadal5=bernoulli.predict(X_test)"
   ]
  },
  {
   "cell_type": "code",
   "execution_count": 462,
   "id": "3803853b",
   "metadata": {},
   "outputs": [],
   "source": [
    "ratenadal5= ratewins(y_pred_nadal5)"
   ]
  },
  {
   "cell_type": "code",
   "execution_count": 463,
   "id": "2eb9c221",
   "metadata": {},
   "outputs": [
    {
     "data": {
      "text/plain": [
       "0.7"
      ]
     },
     "execution_count": 463,
     "metadata": {},
     "output_type": "execute_result"
    }
   ],
   "source": [
    "ratenadal5"
   ]
  },
  {
   "cell_type": "code",
   "execution_count": 464,
   "id": "7ec5898b",
   "metadata": {},
   "outputs": [
    {
     "name": "stderr",
     "output_type": "stream",
     "text": [
      "100%|██████████| 29/29 [00:00<00:00, 62.11it/s]"
     ]
    },
    {
     "name": "stdout",
     "output_type": "stream",
     "text": [
      "                               Accuracy  Balanced Accuracy  ROC AUC  F1 Score  \\\n",
      "Model                                                                           \n",
      "AdaBoostClassifier                 1.00               1.00     1.00      1.00   \n",
      "ExtraTreesClassifier               1.00               1.00     1.00      1.00   \n",
      "XGBClassifier                      1.00               1.00     1.00      1.00   \n",
      "RandomForestClassifier             1.00               1.00     1.00      1.00   \n",
      "BaggingClassifier                  1.00               1.00     1.00      1.00   \n",
      "GaussianNB                         1.00               1.00     1.00      1.00   \n",
      "LGBMClassifier                     1.00               1.00     1.00      1.00   \n",
      "ExtraTreeClassifier                1.00               1.00     1.00      1.00   \n",
      "NearestCentroid                    0.95               0.97     0.97      0.95   \n",
      "DecisionTreeClassifier             0.95               0.88     0.88      0.95   \n",
      "SVC                                0.95               0.88     0.88      0.95   \n",
      "LogisticRegression                 0.95               0.88     0.88      0.95   \n",
      "LinearSVC                          0.95               0.88     0.88      0.95   \n",
      "LinearDiscriminantAnalysis         0.95               0.88     0.88      0.95   \n",
      "LabelSpreading                     0.95               0.88     0.88      0.95   \n",
      "LabelPropagation                   0.95               0.88     0.88      0.95   \n",
      "KNeighborsClassifier               0.95               0.88     0.88      0.95   \n",
      "SGDClassifier                      0.90               0.84     0.84      0.90   \n",
      "BernoulliNB                        0.90               0.84     0.84      0.90   \n",
      "PassiveAggressiveClassifier        0.85               0.81     0.81      0.86   \n",
      "RidgeClassifier                    0.90               0.75     0.75      0.89   \n",
      "RidgeClassifierCV                  0.90               0.75     0.75      0.89   \n",
      "Perceptron                         0.70               0.62     0.62      0.72   \n",
      "CalibratedClassifierCV             0.85               0.62     0.62      0.81   \n",
      "DummyClassifier                    0.80               0.50     0.50      0.71   \n",
      "QuadraticDiscriminantAnalysis      0.20               0.50     0.50      0.07   \n",
      "\n",
      "                               Time Taken  \n",
      "Model                                      \n",
      "AdaBoostClassifier                   0.04  \n",
      "ExtraTreesClassifier                 0.06  \n",
      "XGBClassifier                        0.06  \n",
      "RandomForestClassifier               0.08  \n",
      "BaggingClassifier                    0.01  \n",
      "GaussianNB                           0.01  \n",
      "LGBMClassifier                       0.08  \n",
      "ExtraTreeClassifier                  0.00  \n",
      "NearestCentroid                      0.01  \n",
      "DecisionTreeClassifier               0.00  \n",
      "SVC                                  0.01  \n",
      "LogisticRegression                   0.01  \n",
      "LinearSVC                            0.01  \n",
      "LinearDiscriminantAnalysis           0.01  \n",
      "LabelSpreading                       0.01  \n",
      "LabelPropagation                     0.01  \n",
      "KNeighborsClassifier                 0.01  \n",
      "SGDClassifier                        0.01  \n",
      "BernoulliNB                          0.00  \n",
      "PassiveAggressiveClassifier          0.01  \n",
      "RidgeClassifier                      0.01  \n",
      "RidgeClassifierCV                    0.01  \n",
      "Perceptron                           0.01  \n",
      "CalibratedClassifierCV               0.02  \n",
      "DummyClassifier                      0.00  \n",
      "QuadraticDiscriminantAnalysis        0.01  \n"
     ]
    },
    {
     "name": "stderr",
     "output_type": "stream",
     "text": [
      "\n"
     ]
    }
   ],
   "source": [
    "primeraronda7win = totaltorneos[(totaltorneos['Winner'] == 'Novak Djokovic')]\n",
    "\n",
    "primeraronda7lose = totaltorneos[(totaltorneos['Loser'] == 'Novak Djokovic')]\n",
    "\n",
    "jugador=pd.concat([primeraronda7win,primeraronda7lose],axis=0)\n",
    "\n",
    "win=jugador.Winner\n",
    "\n",
    "jugador['Win'] = win \n",
    "\n",
    "def win(x):\n",
    "\n",
    "        if x == 'Novak Djokovic':\n",
    "            return 1\n",
    "        else:\n",
    "            return 0\n",
    "\n",
    "jugador.Win = jugador.Win.apply(win)\n",
    "\n",
    "jugador=jugador.drop(columns='Loser')\n",
    "\n",
    "jugador.Series=jugador.Series.apply(lambda x: series[x])\n",
    "jugador.Round=jugador.Round.apply(lambda x: rounds[x])\n",
    "\n",
    "\n",
    "jugador = jugador.drop(columns=['Tournament','Winner','Surface'])\n",
    "\n",
    "X=jugador.drop(columns = 'Win')\n",
    "y=jugador.Win\n",
    "\n",
    "data=pd.DataFrame(StandardScaler().fit_transform(X._get_numeric_data()),\\\n",
    "                     columns=X._get_numeric_data().columns)\n",
    "\n",
    "X_train, X_test, y_train, y_test = tts(data, y, train_size=0.8, test_size=0.2, random_state=42)\n",
    "\n",
    "clf = LazyClassifier(verbose=0, ignore_warnings=True, custom_metric=None)\n",
    "models, predictions = clf.fit(X_train, X_test, y_train, y_test)\n",
    "print(models)"
   ]
  },
  {
   "cell_type": "code",
   "execution_count": 465,
   "id": "ffcbca50",
   "metadata": {},
   "outputs": [],
   "source": [
    "ABC = AdaBoostClassifier()\n",
    "ABC.fit(X_train, y_train)\n",
    "y_pred_djokovic5=ABC.predict(X_test)"
   ]
  },
  {
   "cell_type": "code",
   "execution_count": 466,
   "id": "e462ef34",
   "metadata": {},
   "outputs": [],
   "source": [
    "ratedjokovic5= ratewins(y_pred_djokovic5)"
   ]
  },
  {
   "cell_type": "code",
   "execution_count": 467,
   "id": "5667968b",
   "metadata": {},
   "outputs": [
    {
     "data": {
      "text/plain": [
       "0.8"
      ]
     },
     "execution_count": 467,
     "metadata": {},
     "output_type": "execute_result"
    }
   ],
   "source": [
    "ratedjokovic5"
   ]
  }
 ],
 "metadata": {
  "kernelspec": {
   "display_name": "clase",
   "language": "python",
   "name": "clase"
  },
  "language_info": {
   "codemirror_mode": {
    "name": "ipython",
    "version": 3
   },
   "file_extension": ".py",
   "mimetype": "text/x-python",
   "name": "python",
   "nbconvert_exporter": "python",
   "pygments_lexer": "ipython3",
   "version": "3.7.13"
  }
 },
 "nbformat": 4,
 "nbformat_minor": 5
}
