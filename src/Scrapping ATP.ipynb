{
 "cells": [
  {
   "cell_type": "markdown",
   "id": "55a4a0b0",
   "metadata": {},
   "source": [
    "# Extracción de datos:"
   ]
  },
  {
   "cell_type": "markdown",
   "id": "6a67cdd3",
   "metadata": {},
   "source": [
    "#### Librerías:"
   ]
  },
  {
   "cell_type": "code",
   "execution_count": 1,
   "id": "50abb672",
   "metadata": {},
   "outputs": [
    {
     "name": "stdout",
     "output_type": "stream",
     "text": [
      "Requirement already satisfied: joblib in /Users/anachaparrohernandez/opt/anaconda3/envs/clase/lib/python3.7/site-packages (1.2.0)\n",
      "Note: you may need to restart the kernel to use updated packages.\n"
     ]
    }
   ],
   "source": [
    "from selenium import webdriver\n",
    "import pandas as pd\n",
    "from selenium.webdriver.chrome.options import Options\n",
    "from webdriver_manager.chrome import ChromeDriverManager\n",
    "\n",
    "from webdriver_manager.chrome import ChromeDriverManager\n",
    "\n",
    "from selenium.webdriver.common.by import By   \n",
    "\n",
    "import time\n",
    "\n",
    "import warnings\n",
    "warnings.filterwarnings('ignore')\n",
    "\n",
    "%pip install joblib\n",
    "\n",
    "from joblib import Parallel, delayed\n",
    "import xgboost as xgb"
   ]
  },
  {
   "cell_type": "code",
   "execution_count": 2,
   "id": "d23a3800",
   "metadata": {},
   "outputs": [],
   "source": [
    "PATH=ChromeDriverManager().install()"
   ]
  },
  {
   "cell_type": "code",
   "execution_count": 3,
   "id": "d7e94aa6",
   "metadata": {},
   "outputs": [],
   "source": [
    "def extraer(url):\n",
    "    \n",
    "    \n",
    "    driver=webdriver.Chrome(PATH)\n",
    "    driver.get(url)\n",
    "\n",
    "    time.sleep(2)\n",
    "\n",
    "    tabla=driver.find_element(By.XPATH, '//*[@id=\"statsListingTableContent\"]/table')\n",
    "\n",
    "    filas=[[e.text for e in f.find_elements(By.TAG_NAME, 'td')] \n",
    "             for f in tabla.find_elements(By.TAG_NAME, 'tr')]\n",
    "\n",
    "    time.sleep(2)\n",
    "\n",
    "\n",
    "    cabeceras=[e.text.split('\\n') for e in driver.find_elements(By.CLASS_NAME, 'leaderboard-table-header')]\n",
    "\n",
    "\n",
    "    driver.quit()\n",
    "\n",
    "\n",
    "    return pd.DataFrame(filas, columns=cabeceras)\n"
   ]
  },
  {
   "cell_type": "markdown",
   "id": "1e2a25d9",
   "metadata": {},
   "source": [
    "#### Scrapping de Líderes en saque tierra."
   ]
  },
  {
   "cell_type": "code",
   "execution_count": 4,
   "id": "2eebef5c",
   "metadata": {},
   "outputs": [],
   "source": [
    "años=['52Week','2021','2020','2019','2018']"
   ]
  },
  {
   "cell_type": "code",
   "execution_count": 5,
   "id": "040d8957",
   "metadata": {},
   "outputs": [],
   "source": [
    "urlsaquetierra=[]\n",
    "\n",
    "for i in años:\n",
    "    \n",
    "    urlsaquetierra.append(f'https://www.atptour.com/es/stats/leaderboard?boardType=serve&timeFrame={i}&surface=clay&versusRank=all&formerNo1=false')\n",
    "  "
   ]
  },
  {
   "cell_type": "code",
   "execution_count": 6,
   "id": "98d96454",
   "metadata": {},
   "outputs": [
    {
     "name": "stderr",
     "output_type": "stream",
     "text": [
      "[Parallel(n_jobs=-1)]: Using backend LokyBackend with 8 concurrent workers.\n",
      "/Users/anachaparrohernandez/opt/anaconda3/envs/clase/lib/python3.7/site-packages/ipykernel_launcher.py:4: DeprecationWarning: executable_path has been deprecated, please pass in a Service object\n",
      "  after removing the cwd from sys.path.\n",
      "/Users/anachaparrohernandez/opt/anaconda3/envs/clase/lib/python3.7/site-packages/ipykernel_launcher.py:4: DeprecationWarning: executable_path has been deprecated, please pass in a Service object\n",
      "  after removing the cwd from sys.path.\n",
      "/Users/anachaparrohernandez/opt/anaconda3/envs/clase/lib/python3.7/site-packages/ipykernel_launcher.py:4: DeprecationWarning: executable_path has been deprecated, please pass in a Service object\n",
      "  after removing the cwd from sys.path.\n",
      "/Users/anachaparrohernandez/opt/anaconda3/envs/clase/lib/python3.7/site-packages/ipykernel_launcher.py:4: DeprecationWarning: executable_path has been deprecated, please pass in a Service object\n",
      "  after removing the cwd from sys.path.\n",
      "/Users/anachaparrohernandez/opt/anaconda3/envs/clase/lib/python3.7/site-packages/ipykernel_launcher.py:4: DeprecationWarning: executable_path has been deprecated, please pass in a Service object\n",
      "  after removing the cwd from sys.path.\n",
      "[Parallel(n_jobs=-1)]: Done   2 out of   5 | elapsed:  1.7min remaining:  2.5min\n",
      "[Parallel(n_jobs=-1)]: Done   5 out of   5 | elapsed:  1.7min finished\n"
     ]
    }
   ],
   "source": [
    "lst_dfsaquetierra=Parallel(n_jobs=-1, verbose=True)(delayed(extraer)(url) for url in urlsaquetierra)"
   ]
  },
  {
   "cell_type": "code",
   "execution_count": 7,
   "id": "48f7402e",
   "metadata": {},
   "outputs": [],
   "source": [
    "lst_dfsaquetierra1=lst_dfsaquetierra.copy()"
   ]
  },
  {
   "cell_type": "code",
   "execution_count": 8,
   "id": "060794a9",
   "metadata": {},
   "outputs": [],
   "source": [
    "dfsaquetierra52Week=lst_dfsaquetierra[0].to_csv('../Final-Project-Tennis/datanosubir/dfsaquetierra52Week.csv', index=False)\n",
    "dfsaquetierra2021=lst_dfsaquetierra[1].to_csv('../Final-Project-Tennis/datanosubir/dfsaquetierra2021.csv', index=False)\n",
    "dfsaquetierra2020=lst_dfsaquetierra[2].to_csv('../Final-Project-Tennis/datanosubir/dfsaquetierra2020.csv', index=False)\n",
    "dfsaquetierra2019=lst_dfsaquetierra[3].to_csv('../Final-Project-Tennis/datanosubir/dfsaquetierra2019.csv', index=False)\n",
    "dfsaquetierra2018=lst_dfsaquetierra[4].to_csv('../Final-Project-Tennis/datanosubir/dfsaquetierra2018.csv', index=False)"
   ]
  },
  {
   "cell_type": "markdown",
   "id": "a33e374f",
   "metadata": {},
   "source": [
    "#### Scrapping de Líderes en saque pista dura."
   ]
  },
  {
   "cell_type": "code",
   "execution_count": 9,
   "id": "2caa0520",
   "metadata": {},
   "outputs": [],
   "source": [
    "urlsaquedura=[]\n",
    "\n",
    "for i in años:\n",
    "    \n",
    "    urlsaquedura.append(f'https://www.atptour.com/es/stats/leaderboard?boardType=serve&timeFrame={i}&surface=hard&versusRank=all&formerNo1=false')\n",
    "  "
   ]
  },
  {
   "cell_type": "code",
   "execution_count": 10,
   "id": "92320ced",
   "metadata": {},
   "outputs": [
    {
     "name": "stderr",
     "output_type": "stream",
     "text": [
      "[Parallel(n_jobs=-1)]: Using backend LokyBackend with 8 concurrent workers.\n",
      "/Users/anachaparrohernandez/opt/anaconda3/envs/clase/lib/python3.7/site-packages/ipykernel_launcher.py:4: DeprecationWarning: executable_path has been deprecated, please pass in a Service object\n",
      "  after removing the cwd from sys.path.\n",
      "/Users/anachaparrohernandez/opt/anaconda3/envs/clase/lib/python3.7/site-packages/ipykernel_launcher.py:4: DeprecationWarning: executable_path has been deprecated, please pass in a Service object\n",
      "  after removing the cwd from sys.path.\n",
      "/Users/anachaparrohernandez/opt/anaconda3/envs/clase/lib/python3.7/site-packages/ipykernel_launcher.py:4: DeprecationWarning: executable_path has been deprecated, please pass in a Service object\n",
      "  after removing the cwd from sys.path.\n",
      "/Users/anachaparrohernandez/opt/anaconda3/envs/clase/lib/python3.7/site-packages/ipykernel_launcher.py:4: DeprecationWarning: executable_path has been deprecated, please pass in a Service object\n",
      "  after removing the cwd from sys.path.\n",
      "/Users/anachaparrohernandez/opt/anaconda3/envs/clase/lib/python3.7/site-packages/ipykernel_launcher.py:4: DeprecationWarning: executable_path has been deprecated, please pass in a Service object\n",
      "  after removing the cwd from sys.path.\n",
      "[Parallel(n_jobs=-1)]: Done   2 out of   5 | elapsed:  1.5min remaining:  2.3min\n",
      "[Parallel(n_jobs=-1)]: Done   5 out of   5 | elapsed:  1.6min finished\n"
     ]
    }
   ],
   "source": [
    "lst_dfsaquedura=Parallel(n_jobs=-1, verbose=True)(delayed(extraer)(url) for url in urlsaquedura)"
   ]
  },
  {
   "cell_type": "code",
   "execution_count": 11,
   "id": "2e0abee4",
   "metadata": {},
   "outputs": [],
   "source": [
    "lst_dfsaquedura1=lst_dfsaquedura.copy()"
   ]
  },
  {
   "cell_type": "code",
   "execution_count": 12,
   "id": "9ec2a16c",
   "metadata": {},
   "outputs": [],
   "source": [
    "dfsaquedura52Week=lst_dfsaquedura[0].to_csv('../Final-Project-Tennis/datanosubir/dfsaquedura52Week.csv', index=False)\n",
    "dfsaquedura2021=lst_dfsaquedura[1].to_csv('../Final-Project-Tennis/datanosubir/dfsaquedura2021.csv', index=False)\n",
    "dfsaquedura2020=lst_dfsaquedura[2].to_csv('../Final-Project-Tennis/datanosubir/dfsaquedura2020.csv', index=False)\n",
    "dfsaquedura2019=lst_dfsaquedura[3].to_csv('../Final-Project-Tennis/datanosubir/dfsaquedura2019.csv', index=False)\n",
    "dfsaquedura2018=lst_dfsaquedura[4].to_csv('../Final-Project-Tennis/datanosubir/dfsaquedura2018.csv', index=False)"
   ]
  },
  {
   "cell_type": "markdown",
   "id": "6f07bd5b",
   "metadata": {},
   "source": [
    "#### Scrapping de Líderes en saque hierba."
   ]
  },
  {
   "cell_type": "code",
   "execution_count": 13,
   "id": "16bb85e0",
   "metadata": {},
   "outputs": [],
   "source": [
    "años1=['52Week','2021','2019','2018']\n",
    "\n",
    "urlsaquehierba=[]\n",
    "\n",
    "for i in años1:\n",
    "    \n",
    "    urlsaquehierba.append(f'https://www.atptour.com/es/stats/leaderboard?boardType=serve&timeFrame={i}&surface=grass&versusRank=all&formerNo1=false')\n",
    "  "
   ]
  },
  {
   "cell_type": "code",
   "execution_count": 14,
   "id": "cb9244df",
   "metadata": {},
   "outputs": [
    {
     "name": "stderr",
     "output_type": "stream",
     "text": [
      "[Parallel(n_jobs=-1)]: Using backend LokyBackend with 8 concurrent workers.\n",
      "/Users/anachaparrohernandez/opt/anaconda3/envs/clase/lib/python3.7/site-packages/ipykernel_launcher.py:4: DeprecationWarning: executable_path has been deprecated, please pass in a Service object\n",
      "  after removing the cwd from sys.path.\n",
      "/Users/anachaparrohernandez/opt/anaconda3/envs/clase/lib/python3.7/site-packages/ipykernel_launcher.py:4: DeprecationWarning: executable_path has been deprecated, please pass in a Service object\n",
      "  after removing the cwd from sys.path.\n",
      "/Users/anachaparrohernandez/opt/anaconda3/envs/clase/lib/python3.7/site-packages/ipykernel_launcher.py:4: DeprecationWarning: executable_path has been deprecated, please pass in a Service object\n",
      "  after removing the cwd from sys.path.\n",
      "/Users/anachaparrohernandez/opt/anaconda3/envs/clase/lib/python3.7/site-packages/ipykernel_launcher.py:4: DeprecationWarning: executable_path has been deprecated, please pass in a Service object\n",
      "  after removing the cwd from sys.path.\n",
      "[Parallel(n_jobs=-1)]: Done   4 out of   4 | elapsed:  1.6min remaining:    0.0s\n",
      "[Parallel(n_jobs=-1)]: Done   4 out of   4 | elapsed:  1.6min finished\n"
     ]
    }
   ],
   "source": [
    "lst_dfsaquehierba=Parallel(n_jobs=-1, verbose=True)(delayed(extraer)(url) for url in urlsaquehierba)"
   ]
  },
  {
   "cell_type": "code",
   "execution_count": 15,
   "id": "3a0e46d4",
   "metadata": {},
   "outputs": [],
   "source": [
    "lst_dfsaquehierba1=lst_dfsaquehierba.copy()"
   ]
  },
  {
   "cell_type": "code",
   "execution_count": 16,
   "id": "3fad8097",
   "metadata": {},
   "outputs": [],
   "source": [
    "dfsaquehierba52Week=lst_dfsaquehierba[0].to_csv('../Final-Project-Tennis/datanosubir/dfsaquehierba52Week.csv', index=False)\n",
    "dfsaquehierba2021=lst_dfsaquehierba[1].to_csv('../Final-Project-Tennis/datanosubir/dfsaquehierba2021.csv', index=False)\n",
    "dfsaquehierba2019=lst_dfsaquehierba[2].to_csv('../Final-Project-Tennis/datanosubir/dfsaquehierba2019.csv', index=False)\n",
    "dfsaquehierba2018=lst_dfsaquehierba[3].to_csv('../Final-Project-Tennis/datanosubir/dfsaquehierba2018.csv', index=False)"
   ]
  },
  {
   "cell_type": "markdown",
   "id": "7ac60661",
   "metadata": {},
   "source": [
    "#### Scrapping de Líderes en resto tierra."
   ]
  },
  {
   "cell_type": "code",
   "execution_count": 17,
   "id": "87c23069",
   "metadata": {},
   "outputs": [],
   "source": [
    "urlrestotierra=[]\n",
    "\n",
    "for i in años:\n",
    "    \n",
    "    urlrestotierra.append(f'https://www.atptour.com/es/stats/leaderboard?boardType=return&timeFrame={i}&surface=clay&versusRank=all&formerNo1=false')\n",
    "  "
   ]
  },
  {
   "cell_type": "code",
   "execution_count": 19,
   "id": "b4e78690",
   "metadata": {},
   "outputs": [
    {
     "name": "stderr",
     "output_type": "stream",
     "text": [
      "[Parallel(n_jobs=-1)]: Using backend LokyBackend with 8 concurrent workers.\n",
      "/Users/anachaparrohernandez/opt/anaconda3/envs/clase/lib/python3.7/site-packages/ipykernel_launcher.py:4: DeprecationWarning: executable_path has been deprecated, please pass in a Service object\n",
      "  after removing the cwd from sys.path.\n",
      "/Users/anachaparrohernandez/opt/anaconda3/envs/clase/lib/python3.7/site-packages/ipykernel_launcher.py:4: DeprecationWarning: executable_path has been deprecated, please pass in a Service object\n",
      "  after removing the cwd from sys.path.\n",
      "/Users/anachaparrohernandez/opt/anaconda3/envs/clase/lib/python3.7/site-packages/ipykernel_launcher.py:4: DeprecationWarning: executable_path has been deprecated, please pass in a Service object\n",
      "  after removing the cwd from sys.path.\n",
      "/Users/anachaparrohernandez/opt/anaconda3/envs/clase/lib/python3.7/site-packages/ipykernel_launcher.py:4: DeprecationWarning: executable_path has been deprecated, please pass in a Service object\n",
      "  after removing the cwd from sys.path.\n",
      "/Users/anachaparrohernandez/opt/anaconda3/envs/clase/lib/python3.7/site-packages/ipykernel_launcher.py:4: DeprecationWarning: executable_path has been deprecated, please pass in a Service object\n",
      "  after removing the cwd from sys.path.\n",
      "[Parallel(n_jobs=-1)]: Done   2 out of   5 | elapsed:  1.4min remaining:  2.1min\n",
      "[Parallel(n_jobs=-1)]: Done   5 out of   5 | elapsed:  1.5min finished\n"
     ]
    }
   ],
   "source": [
    "lst_dfrestotierra=Parallel(n_jobs=-1, verbose=True)(delayed(extraer)(url) for url in urlrestotierra)"
   ]
  },
  {
   "cell_type": "code",
   "execution_count": 20,
   "id": "ba071759",
   "metadata": {},
   "outputs": [],
   "source": [
    "lst_dfrestotierra1=lst_dfrestotierra.copy()"
   ]
  },
  {
   "cell_type": "code",
   "execution_count": 21,
   "id": "1d270955",
   "metadata": {},
   "outputs": [],
   "source": [
    "dfrestotierra52Week=lst_dfrestotierra[0].to_csv('../Final-Project-Tennis/datanosubir/dfrestotierra52Week.csv', index=False)\n",
    "dfrestotierra2021=lst_dfrestotierra[1].to_csv('../Final-Project-Tennis/datanosubir/dfrestotierra2021.csv', index=False)\n",
    "dfrestotierra2020=lst_dfrestotierra[2].to_csv('../Final-Project-Tennis/datanosubir/dfrestotierra2020.csv', index=False)\n",
    "dfrestotierra2019=lst_dfrestotierra[3].to_csv('../Final-Project-Tennis/datanosubir/dfrestotierra2019.csv', index=False)\n",
    "dfrestotierra2018=lst_dfrestotierra[4].to_csv('../Final-Project-Tennis/datanosubir/dfrestotierra2018.csv', index=False)"
   ]
  },
  {
   "cell_type": "markdown",
   "id": "f293a265",
   "metadata": {},
   "source": [
    "#### Scrapping de Líderes en resto pista dura."
   ]
  },
  {
   "cell_type": "code",
   "execution_count": 22,
   "id": "9a202c4c",
   "metadata": {},
   "outputs": [],
   "source": [
    "urlrestodura=[]\n",
    "\n",
    "for i in años:\n",
    "    \n",
    "    urlrestodura.append(f'https://www.atptour.com/es/stats/leaderboard?boardType=return&timeFrame={i}&surface=hard&versusRank=all&formerNo1=false')\n",
    "  "
   ]
  },
  {
   "cell_type": "code",
   "execution_count": 23,
   "id": "857365fe",
   "metadata": {},
   "outputs": [
    {
     "name": "stderr",
     "output_type": "stream",
     "text": [
      "[Parallel(n_jobs=-1)]: Using backend LokyBackend with 8 concurrent workers.\n",
      "/Users/anachaparrohernandez/opt/anaconda3/envs/clase/lib/python3.7/site-packages/ipykernel_launcher.py:4: DeprecationWarning: executable_path has been deprecated, please pass in a Service object\n",
      "  after removing the cwd from sys.path.\n",
      "/Users/anachaparrohernandez/opt/anaconda3/envs/clase/lib/python3.7/site-packages/ipykernel_launcher.py:4: DeprecationWarning: executable_path has been deprecated, please pass in a Service object\n",
      "  after removing the cwd from sys.path.\n",
      "/Users/anachaparrohernandez/opt/anaconda3/envs/clase/lib/python3.7/site-packages/ipykernel_launcher.py:4: DeprecationWarning: executable_path has been deprecated, please pass in a Service object\n",
      "  after removing the cwd from sys.path.\n",
      "/Users/anachaparrohernandez/opt/anaconda3/envs/clase/lib/python3.7/site-packages/ipykernel_launcher.py:4: DeprecationWarning: executable_path has been deprecated, please pass in a Service object\n",
      "  after removing the cwd from sys.path.\n",
      "/Users/anachaparrohernandez/opt/anaconda3/envs/clase/lib/python3.7/site-packages/ipykernel_launcher.py:4: DeprecationWarning: executable_path has been deprecated, please pass in a Service object\n",
      "  after removing the cwd from sys.path.\n",
      "[Parallel(n_jobs=-1)]: Done   2 out of   5 | elapsed:  1.5min remaining:  2.2min\n",
      "[Parallel(n_jobs=-1)]: Done   5 out of   5 | elapsed:  1.5min finished\n"
     ]
    }
   ],
   "source": [
    "lst_dfrestodura=Parallel(n_jobs=-1, verbose=True)(delayed(extraer)(url) for url in urlrestodura)"
   ]
  },
  {
   "cell_type": "code",
   "execution_count": 24,
   "id": "dc3adc17",
   "metadata": {},
   "outputs": [],
   "source": [
    "lst_dfrestodura1=lst_dfrestodura.copy()"
   ]
  },
  {
   "cell_type": "code",
   "execution_count": 25,
   "id": "ad0f8e58",
   "metadata": {},
   "outputs": [],
   "source": [
    "dfrestodura52Week=lst_dfrestodura[0].to_csv('../Final-Project-Tennis/datanosubir/dfrestodura52Week.csv', index=False)\n",
    "dfrestodura2021=lst_dfrestodura[1].to_csv('../Final-Project-Tennis/datanosubir/dfrestodura2021.csv', index=False)\n",
    "dfrestodura2020=lst_dfrestodura[2].to_csv('../Final-Project-Tennis/datanosubir/dfrestodura2020.csv', index=False)\n",
    "dfrestodura2019=lst_dfrestodura[3].to_csv('../Final-Project-Tennis/datanosubir/dfrestodura2019.csv', index=False)\n",
    "dfrestodura2018=lst_dfrestodura[4].to_csv('../Final-Project-Tennis/datanosubir/dfrestodura2018.csv', index=False)"
   ]
  },
  {
   "cell_type": "markdown",
   "id": "f3542619",
   "metadata": {},
   "source": [
    "#### Scrapping de Líderes en resto hierba."
   ]
  },
  {
   "cell_type": "code",
   "execution_count": 26,
   "id": "62c51105",
   "metadata": {},
   "outputs": [],
   "source": [
    "años1=['52Week','2021','2019','2018']\n",
    "\n",
    "urlrestohierba=[]\n",
    "\n",
    "for i in años1:\n",
    "    \n",
    "    urlrestohierba.append(f'https://www.atptour.com/es/stats/leaderboard?boardType=return&timeFrame={i}&surface=grass&versusRank=all&formerNo1=false')\n",
    "  "
   ]
  },
  {
   "cell_type": "code",
   "execution_count": 27,
   "id": "126eb6d2",
   "metadata": {},
   "outputs": [
    {
     "name": "stderr",
     "output_type": "stream",
     "text": [
      "[Parallel(n_jobs=-1)]: Using backend LokyBackend with 8 concurrent workers.\n",
      "/Users/anachaparrohernandez/opt/anaconda3/envs/clase/lib/python3.7/site-packages/ipykernel_launcher.py:4: DeprecationWarning: executable_path has been deprecated, please pass in a Service object\n",
      "  after removing the cwd from sys.path.\n",
      "/Users/anachaparrohernandez/opt/anaconda3/envs/clase/lib/python3.7/site-packages/ipykernel_launcher.py:4: DeprecationWarning: executable_path has been deprecated, please pass in a Service object\n",
      "  after removing the cwd from sys.path.\n",
      "/Users/anachaparrohernandez/opt/anaconda3/envs/clase/lib/python3.7/site-packages/ipykernel_launcher.py:4: DeprecationWarning: executable_path has been deprecated, please pass in a Service object\n",
      "  after removing the cwd from sys.path.\n",
      "/Users/anachaparrohernandez/opt/anaconda3/envs/clase/lib/python3.7/site-packages/ipykernel_launcher.py:4: DeprecationWarning: executable_path has been deprecated, please pass in a Service object\n",
      "  after removing the cwd from sys.path.\n",
      "[Parallel(n_jobs=-1)]: Done   4 out of   4 | elapsed:  1.5min remaining:    0.0s\n",
      "[Parallel(n_jobs=-1)]: Done   4 out of   4 | elapsed:  1.5min finished\n"
     ]
    }
   ],
   "source": [
    "lst_dfrestohirba=Parallel(n_jobs=-1, verbose=True)(delayed(extraer)(url) for url in urlrestohierba)"
   ]
  },
  {
   "cell_type": "code",
   "execution_count": 28,
   "id": "bb094bed",
   "metadata": {},
   "outputs": [],
   "source": [
    "lst_dfrestohirba1=lst_dfrestohirba.copy()"
   ]
  },
  {
   "cell_type": "code",
   "execution_count": 29,
   "id": "1c6ada84",
   "metadata": {},
   "outputs": [],
   "source": [
    "dfrestohierba52Week=lst_dfrestohirba[0].to_csv('../Final-Project-Tennis/datanosubir/dfrestohierba52Week.csv', index=False)\n",
    "dfrestohierba2021=lst_dfrestohirba[1].to_csv('../Final-Project-Tennis/datanosubir/dfrestohierba2021.csv', index=False)\n",
    "dfrestohierba2019=lst_dfrestohirba[2].to_csv('../Final-Project-Tennis/datanosubir/dfrestohierba2019.csv', index=False)\n",
    "dfrestohierba2018=lst_dfrestohirba[3].to_csv('../Final-Project-Tennis/datanosubir/dfrestohierba2018.csv', index=False)"
   ]
  },
  {
   "cell_type": "markdown",
   "id": "fe869aaf",
   "metadata": {},
   "source": [
    "#### Scrapping de Líderes bajo presión en tierra."
   ]
  },
  {
   "cell_type": "code",
   "execution_count": 30,
   "id": "9b7ce81f",
   "metadata": {},
   "outputs": [],
   "source": [
    "urlpresiontierra=[]\n",
    "\n",
    "for i in años:\n",
    "    \n",
    "    urlpresiontierra.append(f'https://www.atptour.com/es/stats/leaderboard?boardType=pressure&timeFrame={i}&surface=clay&versusRank=all&formerNo1=false')\n",
    "  "
   ]
  },
  {
   "cell_type": "code",
   "execution_count": 31,
   "id": "938c22dd",
   "metadata": {},
   "outputs": [
    {
     "name": "stderr",
     "output_type": "stream",
     "text": [
      "[Parallel(n_jobs=-1)]: Using backend LokyBackend with 8 concurrent workers.\n",
      "/Users/anachaparrohernandez/opt/anaconda3/envs/clase/lib/python3.7/site-packages/ipykernel_launcher.py:4: DeprecationWarning: executable_path has been deprecated, please pass in a Service object\n",
      "  after removing the cwd from sys.path.\n",
      "/Users/anachaparrohernandez/opt/anaconda3/envs/clase/lib/python3.7/site-packages/ipykernel_launcher.py:4: DeprecationWarning: executable_path has been deprecated, please pass in a Service object\n",
      "  after removing the cwd from sys.path.\n",
      "/Users/anachaparrohernandez/opt/anaconda3/envs/clase/lib/python3.7/site-packages/ipykernel_launcher.py:4: DeprecationWarning: executable_path has been deprecated, please pass in a Service object\n",
      "  after removing the cwd from sys.path.\n",
      "/Users/anachaparrohernandez/opt/anaconda3/envs/clase/lib/python3.7/site-packages/ipykernel_launcher.py:4: DeprecationWarning: executable_path has been deprecated, please pass in a Service object\n",
      "  after removing the cwd from sys.path.\n",
      "/Users/anachaparrohernandez/opt/anaconda3/envs/clase/lib/python3.7/site-packages/ipykernel_launcher.py:4: DeprecationWarning: executable_path has been deprecated, please pass in a Service object\n",
      "  after removing the cwd from sys.path.\n",
      "[Parallel(n_jobs=-1)]: Done   2 out of   5 | elapsed:  1.6min remaining:  2.3min\n",
      "[Parallel(n_jobs=-1)]: Done   5 out of   5 | elapsed:  1.6min finished\n"
     ]
    }
   ],
   "source": [
    "lst_dfpresiontierra=Parallel(n_jobs=-1, verbose=True)(delayed(extraer)(url) for url in urlpresiontierra)"
   ]
  },
  {
   "cell_type": "code",
   "execution_count": 32,
   "id": "9237fc18",
   "metadata": {},
   "outputs": [],
   "source": [
    "lst_dfpresiontierra1=lst_dfpresiontierra.copy()"
   ]
  },
  {
   "cell_type": "code",
   "execution_count": 33,
   "id": "dcbaa453",
   "metadata": {},
   "outputs": [],
   "source": [
    "dfpresiontierra52Week=lst_dfpresiontierra[0].to_csv('../Final-Project-Tennis/datanosubir/dfpresiontierra52Week.csv', index=False)\n",
    "dfpresiontierra2021=lst_dfpresiontierra[1].to_csv('../Final-Project-Tennis/datanosubir/dfpresiontierra2021.csv', index=False)\n",
    "dfpresiontierra2020=lst_dfpresiontierra[2].to_csv('../Final-Project-Tennis/datanosubir/dfpresiontierra2020.csv', index=False)\n",
    "dfpresiontierra2019=lst_dfpresiontierra[3].to_csv('../Final-Project-Tennis/datanosubir/dfpresiontierra2019.csv', index=False)\n",
    "dfpresiontierra2018=lst_dfpresiontierra[4].to_csv('../Final-Project-Tennis/datanosubir/dfpresiontierra2018.csv', index=False)"
   ]
  },
  {
   "cell_type": "markdown",
   "id": "5413d20e",
   "metadata": {},
   "source": [
    "#### Scrapping de Líderes bajo presión en pista dura."
   ]
  },
  {
   "cell_type": "code",
   "execution_count": 34,
   "id": "47534177",
   "metadata": {},
   "outputs": [],
   "source": [
    "urlpresiondura=[]\n",
    "\n",
    "for i in años:\n",
    "    \n",
    "    urlpresiondura.append(f'https://www.atptour.com/es/stats/leaderboard?boardType=pressure&timeFrame={i}&surface=hard&versusRank=all&formerNo1=false')\n",
    "  "
   ]
  },
  {
   "cell_type": "code",
   "execution_count": 35,
   "id": "f0fe1393",
   "metadata": {},
   "outputs": [
    {
     "name": "stderr",
     "output_type": "stream",
     "text": [
      "[Parallel(n_jobs=-1)]: Using backend LokyBackend with 8 concurrent workers.\n",
      "/Users/anachaparrohernandez/opt/anaconda3/envs/clase/lib/python3.7/site-packages/ipykernel_launcher.py:4: DeprecationWarning: executable_path has been deprecated, please pass in a Service object\n",
      "  after removing the cwd from sys.path.\n",
      "/Users/anachaparrohernandez/opt/anaconda3/envs/clase/lib/python3.7/site-packages/ipykernel_launcher.py:4: DeprecationWarning: executable_path has been deprecated, please pass in a Service object\n",
      "  after removing the cwd from sys.path.\n",
      "/Users/anachaparrohernandez/opt/anaconda3/envs/clase/lib/python3.7/site-packages/ipykernel_launcher.py:4: DeprecationWarning: executable_path has been deprecated, please pass in a Service object\n",
      "  after removing the cwd from sys.path.\n",
      "/Users/anachaparrohernandez/opt/anaconda3/envs/clase/lib/python3.7/site-packages/ipykernel_launcher.py:4: DeprecationWarning: executable_path has been deprecated, please pass in a Service object\n",
      "  after removing the cwd from sys.path.\n",
      "/Users/anachaparrohernandez/opt/anaconda3/envs/clase/lib/python3.7/site-packages/ipykernel_launcher.py:4: DeprecationWarning: executable_path has been deprecated, please pass in a Service object\n",
      "  after removing the cwd from sys.path.\n",
      "[Parallel(n_jobs=-1)]: Done   2 out of   5 | elapsed:  1.5min remaining:  2.3min\n",
      "[Parallel(n_jobs=-1)]: Done   5 out of   5 | elapsed:  1.6min finished\n"
     ]
    }
   ],
   "source": [
    "lst_dfpresiondura=Parallel(n_jobs=-1, verbose=True)(delayed(extraer)(url) for url in urlpresiondura)"
   ]
  },
  {
   "cell_type": "code",
   "execution_count": 36,
   "id": "7b096333",
   "metadata": {},
   "outputs": [],
   "source": [
    "lst_dfpresiondura1=lst_dfpresiondura.copy()"
   ]
  },
  {
   "cell_type": "code",
   "execution_count": 37,
   "id": "4eb00a2c",
   "metadata": {},
   "outputs": [],
   "source": [
    "dfpresiondura52Week=lst_dfpresiondura[0].to_csv('../Final-Project-Tennis/datanosubir/dfpresiondura52Week.csv', index=False)\n",
    "dfpresiondura2021=lst_dfpresiondura[1].to_csv('../Final-Project-Tennis/datanosubir/dfpresiondura2021.csv', index=False)\n",
    "dfpresiondura2020=lst_dfpresiondura[2].to_csv('../Final-Project-Tennis/datanosubir/dfpresiondura2020.csv', index=False)\n",
    "dfpresiondura2019=lst_dfpresiondura[3].to_csv('../Final-Project-Tennis/datanosubir/dfpresiondura2019.csv', index=False)\n",
    "dfpresiondura2018=lst_dfpresiondura[4].to_csv('../Final-Project-Tennis/datanosubir/dfpresiondura2018.csv', index=False)"
   ]
  },
  {
   "cell_type": "markdown",
   "id": "202b50f3",
   "metadata": {},
   "source": [
    "#### Scrapping de Líderes bajo presión en hierba."
   ]
  },
  {
   "cell_type": "code",
   "execution_count": 38,
   "id": "5263a067",
   "metadata": {},
   "outputs": [],
   "source": [
    "años1=['52Week','2021','2019','2018']\n",
    "\n",
    "urlpresionhierba=[]\n",
    "\n",
    "for i in años1:\n",
    "    \n",
    "    urlpresionhierba.append(f'https://www.atptour.com/es/stats/leaderboard?boardType=pressure&timeFrame={i}&surface=grass&versusRank=all&formerNo1=false')\n",
    "  "
   ]
  },
  {
   "cell_type": "code",
   "execution_count": 39,
   "id": "50bde572",
   "metadata": {},
   "outputs": [
    {
     "name": "stderr",
     "output_type": "stream",
     "text": [
      "[Parallel(n_jobs=-1)]: Using backend LokyBackend with 8 concurrent workers.\n",
      "/Users/anachaparrohernandez/opt/anaconda3/envs/clase/lib/python3.7/site-packages/ipykernel_launcher.py:4: DeprecationWarning: executable_path has been deprecated, please pass in a Service object\n",
      "  after removing the cwd from sys.path.\n",
      "/Users/anachaparrohernandez/opt/anaconda3/envs/clase/lib/python3.7/site-packages/ipykernel_launcher.py:4: DeprecationWarning: executable_path has been deprecated, please pass in a Service object\n",
      "  after removing the cwd from sys.path.\n",
      "/Users/anachaparrohernandez/opt/anaconda3/envs/clase/lib/python3.7/site-packages/ipykernel_launcher.py:4: DeprecationWarning: executable_path has been deprecated, please pass in a Service object\n",
      "  after removing the cwd from sys.path.\n",
      "/Users/anachaparrohernandez/opt/anaconda3/envs/clase/lib/python3.7/site-packages/ipykernel_launcher.py:4: DeprecationWarning: executable_path has been deprecated, please pass in a Service object\n",
      "  after removing the cwd from sys.path.\n",
      "[Parallel(n_jobs=-1)]: Done   4 out of   4 | elapsed:  1.4min remaining:    0.0s\n",
      "[Parallel(n_jobs=-1)]: Done   4 out of   4 | elapsed:  1.4min finished\n"
     ]
    }
   ],
   "source": [
    "lst_dfpresionhierba=Parallel(n_jobs=-1, verbose=True)(delayed(extraer)(url) for url in urlpresionhierba)"
   ]
  },
  {
   "cell_type": "code",
   "execution_count": 40,
   "id": "b51c6b53",
   "metadata": {},
   "outputs": [],
   "source": [
    "lst_dfpresionhierba1=lst_dfpresionhierba.copy()  "
   ]
  },
  {
   "cell_type": "code",
   "execution_count": 41,
   "id": "30127e65",
   "metadata": {},
   "outputs": [],
   "source": [
    "dfpresionhierba52Week=lst_dfpresionhierba[0].to_csv('../Final-Project-Tennis/datanosubir/dfpresionhierba52Week.csv', index=False)\n",
    "dfpresionhierba2021=lst_dfpresionhierba[1].to_csv('../Final-Project-Tennis/datanosubir/dfpresionhierba2021.csv', index=False)\n",
    "dfpresionhierba2019=lst_dfpresionhierba[2].to_csv('../Final-Project-Tennis/datanosubir/dfpresionhierba2019.csv', index=False)\n",
    "dfpresionhierba2018=lst_dfpresionhierba[3].to_csv('../Final-Project-Tennis/datanosubir/dfpresionhierba2018.csv', index=False)"
   ]
  },
  {
   "cell_type": "markdown",
   "id": "fe5b6589",
   "metadata": {},
   "source": [
    "# Roland Garros"
   ]
  },
  {
   "cell_type": "code",
   "execution_count": 42,
   "id": "3f685d51",
   "metadata": {},
   "outputs": [],
   "source": [
    "urlrg='https://www.atptour.com/es/scores/archive/roland-garros/520/2022/results'"
   ]
  },
  {
   "cell_type": "code",
   "execution_count": 43,
   "id": "ae17bf30",
   "metadata": {},
   "outputs": [],
   "source": [
    "driverrg=webdriver.Chrome(PATH)         \n",
    "\n",
    "driverrg.get(urlrg)"
   ]
  },
  {
   "cell_type": "code",
   "execution_count": 44,
   "id": "02d5cf4c",
   "metadata": {},
   "outputs": [],
   "source": [
    "tabla1=driverrg.find_element(By.XPATH, '//*[@id=\"scoresResultsContent\"]/div/table')\n",
    "\n",
    "filas1=[[e.text for e in f.find_elements(By.CLASS_NAME, 'day-table-name')] \n",
    "        for f in tabla1.find_elements(By.TAG_NAME, 'tr')]"
   ]
  },
  {
   "cell_type": "code",
   "execution_count": 45,
   "id": "cc1cc242",
   "metadata": {},
   "outputs": [],
   "source": [
    "cols = [e.text.split('\\n') for e in driverrg.find_elements(By.TAG_NAME, 'th')]\n",
    "cols\n",
    "\n",
    "driverrg.quit()"
   ]
  },
  {
   "cell_type": "code",
   "execution_count": 46,
   "id": "1b2fe0bd",
   "metadata": {},
   "outputs": [],
   "source": [
    "cols1=['Winner','Loser']"
   ]
  },
  {
   "cell_type": "code",
   "execution_count": 47,
   "id": "500d06ef",
   "metadata": {},
   "outputs": [],
   "source": [
    "rg = pd.DataFrame(filas1, columns=cols1)\n"
   ]
  },
  {
   "cell_type": "code",
   "execution_count": 48,
   "id": "1b2f4cde",
   "metadata": {},
   "outputs": [],
   "source": [
    "def nada(x):\n",
    "    \n",
    "    if x==None:\n",
    "        \n",
    "        return 'Round'\n",
    "    else:\n",
    "        return x"
   ]
  },
  {
   "cell_type": "code",
   "execution_count": 49,
   "id": "7b7a1170",
   "metadata": {},
   "outputs": [],
   "source": [
    "rg.Winner=rg.Winner.apply(nada)"
   ]
  },
  {
   "cell_type": "code",
   "execution_count": 50,
   "id": "057a5f4e",
   "metadata": {},
   "outputs": [],
   "source": [
    "rg.Loser=rg.Loser.apply(nada)"
   ]
  },
  {
   "cell_type": "code",
   "execution_count": 51,
   "id": "9598a212",
   "metadata": {},
   "outputs": [],
   "source": [
    "rg=rg[(rg['Winner'] == 'Carlos Alcaraz') | (rg['Winner'] == 'Casper Ruud')\n",
    "               | (rg['Winner'] == 'Rafael Nadal') | (rg['Winner'] == 'Stefanos Tsitsipas')\n",
    "               | (rg['Winner'] == 'Felix Auger-Aliassime') | (rg['Winner'] == 'Daniil Medvedev')\n",
    "               | (rg['Winner'] == 'Andrey Rublev') | (rg['Winner'] == 'Taylor Fritz')\n",
    "               | (rg['Winner'] == 'Hubert Hurkacz') | (rg['Winner'] == 'Novak Djokovic')\n",
    "               | (rg['Winner'] == 'Holger Rune') | (rg['Winner'] == 'Alexander Zverev')\n",
    "               | (rg['Winner'] == 'Pablo Carreno Busta') | (rg['Winner'] == 'Cameron Norrie')\n",
    "               | (rg['Winner'] == 'Jannik Sinner') | (rg['Winner'] == 'Matteo Berrettini')\n",
    "               | (rg['Winner'] == 'Marin Cilic') | (rg['Winner'] == 'Denis Shapovalov')\n",
    "               | (rg['Winner'] == 'Frances Tiafoe') | (rg['Winner'] == 'Karen Khachanov')\n",
    "               | (rg['Winner'] == 'Roberto Bautista Agut') | (rg['Winner'] == 'Nick Kyrgios')\n",
    "               | (rg['Winner'] == 'Lorenzo Musetti') | (rg['Winner'] == 'Alex de Minaur')\n",
    "               | (rg['Winner'] == 'Diego Schwartzman') | (rg['Winner'] == 'Borna Coric')                                             \n",
    "               | (rg['Winner'] == 'Daniel Evans') | (rg['Winner'] == 'Grigor Dimitrov')\n",
    "               | (rg['Winner'] == 'Miomir Kecmanovic') | (rg['Winner'] == 'Francisco Cerundolo')\n",
    "               | (rg['Winner'] == 'Alejandro Davidovich Fokina') | (rg['Winner'] == 'Tommy Paul')\n",
    "               | (rg['Winner'] == 'Round')]"
   ]
  },
  {
   "cell_type": "code",
   "execution_count": 52,
   "id": "54436295",
   "metadata": {},
   "outputs": [],
   "source": [
    " rg=rg[(rg['Loser'] == 'Carlos Alcaraz') | (rg['Loser'] == 'Casper Ruud')\n",
    "               | (rg['Loser'] == 'Rafael Nadal') | (rg['Loser'] == 'Stefanos Tsitsipas')\n",
    "               | (rg['Loser'] == 'Felix Auger-Aliassime') | (rg['Loser'] == 'Daniil Medvedev')\n",
    "               | (rg['Loser'] == 'Andrey Rublev') | (rg['Loser'] == 'Taylor Fritz')\n",
    "               | (rg['Loser'] == 'Hubert Hurkacz') | (rg['Loser'] == 'Novak Djokovic')\n",
    "               | (rg['Loser'] == 'Holger Rune') | (rg['Loser'] == 'Alexander Zverev')\n",
    "               | (rg['Loser'] == 'Pablo Carreno Busta') | (rg['Loser'] == 'Cameron Norrie')\n",
    "               | (rg['Loser'] == 'Jannik Sinner') | (rg['Loser'] == 'Matteo Berrettini')\n",
    "               | (rg['Loser'] == 'Marin Cilic') | (rg['Loser'] == 'Denis Shapovalov')\n",
    "               | (rg['Loser'] == 'Frances Tiafoe') | (rg['Loser'] == 'Karen Khachanov')\n",
    "               | (rg['Loser'] == 'Frances Tiafoe') | (rg['Loser'] == 'Karen Khachanov')\n",
    "               | (rg['Loser'] == 'Roberto Bautista Agut') | (rg['Loser'] == 'Nick Kyrgios')\n",
    "               | (rg['Loser'] == 'Lorenzo Musetti') | (rg['Loser'] == 'Alex de Minaur')\n",
    "               | (rg['Loser'] == 'Diego Schwartzman') | (rg['Loser'] == 'Borna Coric')                                             \n",
    "               | (rg['Loser'] == 'Daniel Evans') | (rg['Loser'] == 'Grigor Dimitrov')\n",
    "               | (rg['Loser'] == 'Miomir Kecmanovic') | (rg['Loser'] == 'Francisco Cerundolo')\n",
    "               | (rg['Loser'] == 'Alejandro Davidovich Fokina') | (rg['Loser'] == 'Tommy Paul')\n",
    "               | (rg['Loser'] == 'Round')]\n",
    "    "
   ]
  },
  {
   "cell_type": "code",
   "execution_count": 53,
   "id": "d650b833",
   "metadata": {},
   "outputs": [],
   "source": [
    "rg.to_csv('../Final-Project-Tennis/datanosubir/RolandGarros.csv', index=False)"
   ]
  },
  {
   "cell_type": "markdown",
   "id": "3a60b099",
   "metadata": {},
   "source": [
    "# Wimbledon"
   ]
  },
  {
   "cell_type": "code",
   "execution_count": 54,
   "id": "d5451a7f",
   "metadata": {},
   "outputs": [],
   "source": [
    "urlw='https://www.atptour.com/es/scores/archive/wimbledon/540/2022/results'"
   ]
  },
  {
   "cell_type": "code",
   "execution_count": 55,
   "id": "fbf72e12",
   "metadata": {},
   "outputs": [],
   "source": [
    "driverw=webdriver.Chrome(PATH)         \n",
    "\n",
    "driverw.get(urlw)"
   ]
  },
  {
   "cell_type": "code",
   "execution_count": 56,
   "id": "abbe0f0f",
   "metadata": {},
   "outputs": [],
   "source": [
    "tabla2=driverw.find_element(By.XPATH, '//*[@id=\"scoresResultsContent\"]/div/table')\n",
    "\n",
    "filas2=[[e.text for e in f.find_elements(By.CLASS_NAME, 'day-table-name')] \n",
    "        for f in tabla2.find_elements(By.TAG_NAME, 'tr')]"
   ]
  },
  {
   "cell_type": "code",
   "execution_count": 57,
   "id": "75035d5d",
   "metadata": {},
   "outputs": [],
   "source": [
    "cols2 = [e.text.split('\\n') for e in driverw.find_elements(By.TAG_NAME, 'th')]\n",
    "\n",
    "driverw.quit()"
   ]
  },
  {
   "cell_type": "code",
   "execution_count": 58,
   "id": "4180b5b5",
   "metadata": {},
   "outputs": [],
   "source": [
    "cols2=['Winner','Loser']"
   ]
  },
  {
   "cell_type": "code",
   "execution_count": 59,
   "id": "e1e2d066",
   "metadata": {},
   "outputs": [],
   "source": [
    "w = pd.DataFrame(filas2, columns=cols2)"
   ]
  },
  {
   "cell_type": "code",
   "execution_count": 60,
   "id": "011eee53",
   "metadata": {},
   "outputs": [],
   "source": [
    "w.Winner=w.Winner.apply(nada)"
   ]
  },
  {
   "cell_type": "code",
   "execution_count": 61,
   "id": "59f406e8",
   "metadata": {},
   "outputs": [],
   "source": [
    "w.Loser=w.Loser.apply(nada)"
   ]
  },
  {
   "cell_type": "code",
   "execution_count": 62,
   "id": "f41e6bae",
   "metadata": {},
   "outputs": [],
   "source": [
    "w=w[(w['Winner'] == 'Carlos Alcaraz') | (w['Winner'] == 'Casper Ruud')\n",
    "               | (w['Winner'] == 'Rafael Nadal') | (w['Winner'] == 'Stefanos Tsitsipas')\n",
    "               | (w['Winner'] == 'Felix Auger-Aliassime') | (w['Winner'] == 'Daniil Medvedev')\n",
    "               | (w['Winner'] == 'Andrey Rublev') | (w['Winner'] == 'Taylor Fritz')\n",
    "               | (w['Winner'] == 'Hubert Hurkacz') | (w['Winner'] == 'Novak Djokovic')\n",
    "               | (w['Winner'] == 'Holger Rune') | (w['Winner'] == 'Alexander Zverev')\n",
    "               | (w['Winner'] == 'Pablo Carreno Busta') | (w['Winner'] == 'Cameron Norrie')\n",
    "               | (w['Winner'] == 'Jannik Sinner') | (w['Winner'] == 'Matteo Berrettini')\n",
    "               | (w['Winner'] == 'Marin Cilic') | (w['Winner'] == 'Denis Shapovalov')\n",
    "               | (w['Winner'] == 'Frances Tiafoe') | (w['Winner'] == 'Karen Khachanov')\n",
    "               | (w['Winner'] == 'Roberto Bautista Agut') | (w['Winner'] == 'Nick Kyrgios')\n",
    "               | (w['Winner'] == 'Lorenzo Musetti') | (w['Winner'] == 'Alex de Minaur')\n",
    "               | (w['Winner'] == 'Diego Schwartzman') | (w['Winner'] == 'Borna Coric')                                             \n",
    "               | (w['Winner'] == 'Daniel Evans') | (w['Winner'] == 'Grigor Dimitrov')\n",
    "               | (w['Winner'] == 'Miomir Kecmanovic') | (w['Winner'] == 'Francisco Cerundolo')\n",
    "               | (w['Winner'] == 'Alejandro Davidovich Fokina') | (w['Winner'] == 'Tommy Paul')\n",
    "               | (w['Winner'] == 'Round')]"
   ]
  },
  {
   "cell_type": "code",
   "execution_count": 63,
   "id": "a4cce9f6",
   "metadata": {},
   "outputs": [],
   "source": [
    "w=w[(w['Loser'] == 'Carlos Alcaraz') | (w['Loser'] == 'Casper Ruud')\n",
    "               | (w['Loser'] == 'Rafael Nadal') | (w['Loser'] == 'Stefanos Tsitsipas')\n",
    "               | (w['Loser'] == 'Felix Auger-Aliassime') | (w['Loser'] == 'Daniil Medvedev')\n",
    "               | (w['Loser'] == 'Andrey Rublev') | (w['Loser'] == 'Taylor Fritz')\n",
    "               | (w['Loser'] == 'Hubert Hurkacz') | (w['Loser'] == 'Novak Djokovic')\n",
    "               | (w['Loser'] == 'Holger Rune') | (w['Loser'] == 'Alexander Zverev')\n",
    "               | (w['Loser'] == 'Pablo Carreno Busta') | (w['Loser'] == 'Cameron Norrie')\n",
    "               | (w['Loser'] == 'Jannik Sinner') | (w['Loser'] == 'Matteo Berrettini')\n",
    "               | (w['Loser'] == 'Marin Cilic') | (w['Loser'] == 'Denis Shapovalov')\n",
    "               | (w['Loser'] == 'Frances Tiafoe') | (w['Loser'] == 'Karen Khachanov')\n",
    "               | (w['Loser'] == 'Frances Tiafoe') | (w['Loser'] == 'Karen Khachanov')\n",
    "               | (w['Loser'] == 'Roberto Bautista Agut') | (w['Loser'] == 'Nick Kyrgios')\n",
    "               | (w['Loser'] == 'Lorenzo Musetti') | (w['Loser'] == 'Alex de Minaur')\n",
    "               | (w['Loser'] == 'Diego Schwartzman') | (w['Loser'] == 'Borna Coric')                                             \n",
    "               | (w['Loser'] == 'Daniel Evans') | (w['Loser'] == 'Grigor Dimitrov')\n",
    "               | (w['Loser'] == 'Miomir Kecmanovic') | (w['Loser'] == 'Francisco Cerundolo')\n",
    "               | (w['Loser'] == 'Alejandro Davidovich Fokina') | (w['Loser'] == 'Tommy Paul')\n",
    "               | (w['Loser'] == 'Round')]\n",
    "    "
   ]
  },
  {
   "cell_type": "code",
   "execution_count": 64,
   "id": "dfeac4aa",
   "metadata": {},
   "outputs": [],
   "source": [
    "w.to_csv('../Final-Project-Tennis/datanosubir/Winbledon.csv', index=False)"
   ]
  },
  {
   "cell_type": "markdown",
   "id": "a66624bb",
   "metadata": {},
   "source": [
    "# US Open"
   ]
  },
  {
   "cell_type": "code",
   "execution_count": 65,
   "id": "e3472b15",
   "metadata": {},
   "outputs": [],
   "source": [
    "urlus='https://www.atptour.com/es/scores/archive/us-open/560/2022/results'"
   ]
  },
  {
   "cell_type": "code",
   "execution_count": 66,
   "id": "b3007336",
   "metadata": {},
   "outputs": [],
   "source": [
    "driverus=webdriver.Chrome(PATH)         \n",
    "\n",
    "driverus.get(urlus)"
   ]
  },
  {
   "cell_type": "code",
   "execution_count": 67,
   "id": "2e33a908",
   "metadata": {},
   "outputs": [],
   "source": [
    "tabla3=driverus.find_element(By.XPATH, '//*[@id=\"scoresResultsContent\"]/div/table')\n",
    "\n",
    "filas3=[[e.text for e in f.find_elements(By.CLASS_NAME, 'day-table-name')] \n",
    "        for f in tabla3.find_elements(By.TAG_NAME, 'tr')]"
   ]
  },
  {
   "cell_type": "code",
   "execution_count": 68,
   "id": "4ecbedd5",
   "metadata": {},
   "outputs": [],
   "source": [
    "cols3 = [e.text.split('\\n') for e in driverus.find_elements(By.TAG_NAME, 'th')]\n",
    "\n",
    "driverus.quit()"
   ]
  },
  {
   "cell_type": "code",
   "execution_count": 69,
   "id": "b8f82328",
   "metadata": {},
   "outputs": [],
   "source": [
    "cols3=['Winner','Loser']"
   ]
  },
  {
   "cell_type": "code",
   "execution_count": 70,
   "id": "f99b7f02",
   "metadata": {},
   "outputs": [],
   "source": [
    "us = pd.DataFrame(filas3, columns=cols3)"
   ]
  },
  {
   "cell_type": "code",
   "execution_count": 71,
   "id": "462a4b86",
   "metadata": {},
   "outputs": [],
   "source": [
    "us.Winner=us.Winner.apply(nada)"
   ]
  },
  {
   "cell_type": "code",
   "execution_count": 72,
   "id": "178f6eb5",
   "metadata": {},
   "outputs": [],
   "source": [
    "us.Loser=us.Loser.apply(nada)"
   ]
  },
  {
   "cell_type": "code",
   "execution_count": 73,
   "id": "e6139de3",
   "metadata": {},
   "outputs": [],
   "source": [
    "us=us[(us['Winner'] == 'Carlos Alcaraz') | (us['Winner'] == 'Casper Ruud')\n",
    "               | (us['Winner'] == 'Rafael Nadal') | (us['Winner'] == 'Stefanos Tsitsipas')\n",
    "               | (us['Winner'] == 'Felix Auger-Aliassime') | (us['Winner'] == 'Daniil Medvedev')\n",
    "               | (us['Winner'] == 'Andrey Rublev') | (us['Winner'] == 'Taylor Fritz')\n",
    "               | (us['Winner'] == 'Hubert Hurkacz') | (us['Winner'] == 'Novak Djokovic')\n",
    "               | (us['Winner'] == 'Holger Rune') | (us['Winner'] == 'Alexander Zverev')\n",
    "               | (us['Winner'] == 'Pablo Carreno Busta') | (us['Winner'] == 'Cameron Norrie')\n",
    "               | (us['Winner'] == 'Jannik Sinner') | (us['Winner'] == 'Matteo Berrettini')\n",
    "               | (us['Winner'] == 'Marin Cilic') | (us['Winner'] == 'Denis Shapovalov')\n",
    "               | (us['Winner'] == 'Frances Tiafoe') | (us['Winner'] == 'Karen Khachanov')\n",
    "               | (us['Winner'] == 'Roberto Bautista Agut') | (us['Winner'] == 'Nick Kyrgios')\n",
    "               | (us['Winner'] == 'Lorenzo Musetti') | (us['Winner'] == 'Alex de Minaur')\n",
    "               | (us['Winner'] == 'Diego Schwartzman') | (us['Winner'] == 'Borna Coric')                                             \n",
    "               | (us['Winner'] == 'Daniel Evans') | (us['Winner'] == 'Grigor Dimitrov')\n",
    "               | (us['Winner'] == 'Miomir Kecmanovic') | (us['Winner'] == 'Francisco Cerundolo')\n",
    "               | (us['Winner'] == 'Alejandro Davidovich Fokina') | (us['Winner'] == 'Tommy Paul')\n",
    "               | (us['Winner'] == 'Round')]"
   ]
  },
  {
   "cell_type": "code",
   "execution_count": 74,
   "id": "5bb38ca9",
   "metadata": {},
   "outputs": [],
   "source": [
    "us=us[(us['Loser'] == 'Carlos Alcaraz') | (us['Loser'] == 'Casper Ruud')\n",
    "               | (us['Loser'] == 'Rafael Nadal') | (us['Loser'] == 'Stefanos Tsitsipas')\n",
    "               | (us['Loser'] == 'Felix Auger-Aliassime') | (us['Loser'] == 'Daniil Medvedev')\n",
    "               | (us['Loser'] == 'Andrey Rublev') | (us['Loser'] == 'Taylor Fritz')\n",
    "               | (us['Loser'] == 'Hubert Hurkacz') | (us['Loser'] == 'Novak Djokovic')\n",
    "               | (us['Loser'] == 'Holger Rune') | (us['Loser'] == 'Alexander Zverev')\n",
    "               | (us['Loser'] == 'Pablo Carreno Busta') | (us['Loser'] == 'Cameron Norrie')\n",
    "               | (us['Loser'] == 'Jannik Sinner') | (us['Loser'] == 'Matteo Berrettini')\n",
    "               | (us['Loser'] == 'Marin Cilic') | (us['Loser'] == 'Denis Shapovalov')\n",
    "               | (us['Loser'] == 'Frances Tiafoe') | (us['Loser'] == 'Karen Khachanov')\n",
    "               | (us['Loser'] == 'Frances Tiafoe') | (us['Loser'] == 'Karen Khachanov')\n",
    "               | (us['Loser'] == 'Roberto Bautista Agut') | (us['Loser'] == 'Nick Kyrgios')\n",
    "               | (us['Loser'] == 'Lorenzo Musetti') | (us['Loser'] == 'Alex de Minaur')\n",
    "               | (us['Loser'] == 'Diego Schwartzman') | (us['Loser'] == 'Borna Coric')                                             \n",
    "               | (us['Loser'] == 'Daniel Evans') | (us['Loser'] == 'Grigor Dimitrov')\n",
    "               | (us['Loser'] == 'Miomir Kecmanovic') | (us['Loser'] == 'Francisco Cerundolo')\n",
    "               | (us['Loser'] == 'Alejandro Davidovich Fokina') | (us['Loser'] == 'Tommy Paul')\n",
    "               | (us['Loser'] == 'Round')]"
   ]
  },
  {
   "cell_type": "code",
   "execution_count": 75,
   "id": "9e1f2d55",
   "metadata": {},
   "outputs": [],
   "source": [
    "us.to_csv('../Final-Project-Tennis/datanosubir/USOpen.csv', index=False)"
   ]
  },
  {
   "cell_type": "markdown",
   "id": "e0dce47b",
   "metadata": {},
   "source": [
    "# Indian Wells"
   ]
  },
  {
   "cell_type": "code",
   "execution_count": 76,
   "id": "fcca3051",
   "metadata": {},
   "outputs": [],
   "source": [
    "urliw='https://www.atptour.com/es/scores/archive/indian-wells/404/2022/results'"
   ]
  },
  {
   "cell_type": "code",
   "execution_count": 77,
   "id": "d54aafe2",
   "metadata": {},
   "outputs": [],
   "source": [
    "driveriw=webdriver.Chrome(PATH)         \n",
    "\n",
    "driveriw.get(urliw)"
   ]
  },
  {
   "cell_type": "code",
   "execution_count": 78,
   "id": "8d3dd3d5",
   "metadata": {},
   "outputs": [],
   "source": [
    "tabla4=driveriw.find_element(By.XPATH, '//*[@id=\"scoresResultsContent\"]/div/table')\n",
    "\n",
    "filas4=[[e.text for e in f.find_elements(By.CLASS_NAME, 'day-table-name')] \n",
    "        for f in tabla4.find_elements(By.TAG_NAME, 'tr')]"
   ]
  },
  {
   "cell_type": "code",
   "execution_count": 79,
   "id": "6cc9d6c2",
   "metadata": {},
   "outputs": [],
   "source": [
    "cols4 = [e.text.split('\\n') for e in driveriw.find_elements(By.TAG_NAME, 'th')]\n",
    "\n",
    "driveriw.quit()"
   ]
  },
  {
   "cell_type": "code",
   "execution_count": 80,
   "id": "f9a15597",
   "metadata": {},
   "outputs": [],
   "source": [
    "cols4=['Winner','Loser']"
   ]
  },
  {
   "cell_type": "code",
   "execution_count": 81,
   "id": "42f4226b",
   "metadata": {},
   "outputs": [],
   "source": [
    "iw = pd.DataFrame(filas4, columns=cols4)"
   ]
  },
  {
   "cell_type": "code",
   "execution_count": 82,
   "id": "82d6783f",
   "metadata": {},
   "outputs": [],
   "source": [
    "iw.Winner=iw.Winner.apply(nada)"
   ]
  },
  {
   "cell_type": "code",
   "execution_count": 83,
   "id": "b54818a3",
   "metadata": {},
   "outputs": [],
   "source": [
    "iw.Loser=iw.Loser.apply(nada)"
   ]
  },
  {
   "cell_type": "code",
   "execution_count": 84,
   "id": "a4fd2357",
   "metadata": {},
   "outputs": [],
   "source": [
    "iw=iw[(iw['Winner'] == 'Carlos Alcaraz') | (iw['Winner'] == 'Casper Ruud')\n",
    "               | (iw['Winner'] == 'Rafael Nadal') | (iw['Winner'] == 'Stefanos Tsitsipas')\n",
    "               | (iw['Winner'] == 'Felix Auger-Aliassime') | (iw['Winner'] == 'Daniil Medvedev')\n",
    "               | (iw['Winner'] == 'Andrey Rublev') | (iw['Winner'] == 'Taylor Fritz')\n",
    "               | (iw['Winner'] == 'Hubert Hurkacz') | (iw['Winner'] == 'Novak Djokovic')\n",
    "               | (iw['Winner'] == 'Holger Rune') | (iw['Winner'] == 'Alexander Zverev')\n",
    "               | (iw['Winner'] == 'Pablo Carreno Busta') | (iw['Winner'] == 'Cameron Norrie')\n",
    "               | (iw['Winner'] == 'Jannik Sinner') | (iw['Winner'] == 'Matteo Berrettini')\n",
    "               | (iw['Winner'] == 'Marin Cilic') | (iw['Winner'] == 'Denis Shapovalov')\n",
    "               | (iw['Winner'] == 'Frances Tiafoe') | (iw['Winner'] == 'Karen Khachanov')\n",
    "               | (iw['Winner'] == 'Roberto Bautista Agut') | (iw['Winner'] == 'Nick Kyrgios')\n",
    "               | (iw['Winner'] == 'Lorenzo Musetti') | (iw['Winner'] == 'Alex de Minaur')\n",
    "               | (iw['Winner'] == 'Diego Schwartzman') | (iw['Winner'] == 'Borna Coric')                                             \n",
    "               | (iw['Winner'] == 'Daniel Evans') | (iw['Winner'] == 'Grigor Dimitrov')\n",
    "               | (iw['Winner'] == 'Miomir Kecmanovic') | (iw['Winner'] == 'Francisco Cerundolo')\n",
    "               | (iw['Winner'] == 'Alejandro Davidovich Fokina') | (iw['Winner'] == 'Tommy Paul')\n",
    "               | (iw['Winner'] == 'Round')]"
   ]
  },
  {
   "cell_type": "code",
   "execution_count": 85,
   "id": "28092c9d",
   "metadata": {},
   "outputs": [],
   "source": [
    "iw=iw[(iw['Loser'] == 'Carlos Alcaraz') | (iw['Loser'] == 'Casper Ruud')\n",
    "               | (iw['Loser'] == 'Rafael Nadal') | (iw['Loser'] == 'Stefanos Tsitsipas')\n",
    "               | (iw['Loser'] == 'Felix Auger-Aliassime') | (iw['Loser'] == 'Daniil Medvedev')\n",
    "               | (iw['Loser'] == 'Andrey Rublev') | (iw['Loser'] == 'Taylor Fritz')\n",
    "               | (iw['Loser'] == 'Hubert Hurkacz') | (iw['Loser'] == 'Novak Djokovic')\n",
    "               | (iw['Loser'] == 'Holger Rune') | (iw['Loser'] == 'Alexander Zverev')\n",
    "               | (iw['Loser'] == 'Pablo Carreno Busta') | (iw['Loser'] == 'Cameron Norrie')\n",
    "               | (iw['Loser'] == 'Jannik Sinner') | (iw['Loser'] == 'Matteo Berrettini')\n",
    "               | (iw['Loser'] == 'Marin Cilic') | (iw['Loser'] == 'Denis Shapovalov')\n",
    "               | (iw['Loser'] == 'Frances Tiafoe') | (iw['Loser'] == 'Karen Khachanov')\n",
    "               | (iw['Loser'] == 'Frances Tiafoe') | (iw['Loser'] == 'Karen Khachanov')\n",
    "               | (iw['Loser'] == 'Roberto Bautista Agut') | (iw['Loser'] == 'Nick Kyrgios')\n",
    "               | (iw['Loser'] == 'Lorenzo Musetti') | (iw['Loser'] == 'Alex de Minaur')\n",
    "               | (iw['Loser'] == 'Diego Schwartzman') | (iw['Loser'] == 'Borna Coric')                                             \n",
    "               | (iw['Loser'] == 'Daniel Evans') | (iw['Loser'] == 'Grigor Dimitrov')\n",
    "               | (iw['Loser'] == 'Miomir Kecmanovic') | (iw['Loser'] == 'Francisco Cerundolo')\n",
    "               | (iw['Loser'] == 'Alejandro Davidovich Fokina') | (iw['Loser'] == 'Tommy Paul')\n",
    "               | (iw['Loser'] == 'Round')]"
   ]
  },
  {
   "cell_type": "code",
   "execution_count": 86,
   "id": "8f3076b9",
   "metadata": {},
   "outputs": [],
   "source": [
    "iw.to_csv('../Final-Project-Tennis/datanosubir/IndianWells.csv', index=False)"
   ]
  },
  {
   "cell_type": "markdown",
   "id": "84de81d1",
   "metadata": {},
   "source": [
    "# Miami Open"
   ]
  },
  {
   "cell_type": "code",
   "execution_count": 87,
   "id": "4146b941",
   "metadata": {},
   "outputs": [],
   "source": [
    "urlmo='https://www.atptour.com/es/scores/archive/miami/403/2022/results'"
   ]
  },
  {
   "cell_type": "code",
   "execution_count": 88,
   "id": "15abca36",
   "metadata": {},
   "outputs": [],
   "source": [
    "drivermo=webdriver.Chrome(PATH)         \n",
    "\n",
    "drivermo.get(urlmo)"
   ]
  },
  {
   "cell_type": "code",
   "execution_count": 89,
   "id": "e283ec31",
   "metadata": {},
   "outputs": [],
   "source": [
    "tabla5=drivermo.find_element(By.XPATH, '//*[@id=\"scoresResultsContent\"]/div/table')\n",
    "\n",
    "filas5=[[e.text for e in f.find_elements(By.CLASS_NAME, 'day-table-name')] \n",
    "        for f in tabla5.find_elements(By.TAG_NAME, 'tr')]"
   ]
  },
  {
   "cell_type": "code",
   "execution_count": 90,
   "id": "8bf6b2a6",
   "metadata": {},
   "outputs": [],
   "source": [
    "cols5 = [e.text.split('\\n') for e in drivermo.find_elements(By.TAG_NAME, 'th')]\n",
    "\n",
    "drivermo.quit()"
   ]
  },
  {
   "cell_type": "code",
   "execution_count": 91,
   "id": "b11f86f2",
   "metadata": {},
   "outputs": [],
   "source": [
    "cols5=['Winner','Loser']"
   ]
  },
  {
   "cell_type": "code",
   "execution_count": 92,
   "id": "538848bd",
   "metadata": {},
   "outputs": [],
   "source": [
    "mo = pd.DataFrame(filas5, columns=cols5)"
   ]
  },
  {
   "cell_type": "code",
   "execution_count": 93,
   "id": "75abf4ec",
   "metadata": {},
   "outputs": [],
   "source": [
    "mo.Winner=mo.Winner.apply(nada)"
   ]
  },
  {
   "cell_type": "code",
   "execution_count": 94,
   "id": "fc1c81eb",
   "metadata": {},
   "outputs": [],
   "source": [
    "mo.Loser=mo.Loser.apply(nada)"
   ]
  },
  {
   "cell_type": "code",
   "execution_count": 95,
   "id": "69625aff",
   "metadata": {},
   "outputs": [],
   "source": [
    "mo=mo[(mo['Winner'] == 'Carlos Alcaraz') | (mo['Winner'] == 'Casper Ruud')\n",
    "               | (mo['Winner'] == 'Rafael Nadal') | (mo['Winner'] == 'Stefanos Tsitsipas')\n",
    "               | (mo['Winner'] == 'Felix Auger-Aliassime') | (mo['Winner'] == 'Daniil Medvedev')\n",
    "               | (mo['Winner'] == 'Andrey Rublev') | (mo['Winner'] == 'Taylor Fritz')\n",
    "               | (mo['Winner'] == 'Hubert Hurkacz') | (mo['Winner'] == 'Novak Djokovic')\n",
    "               | (mo['Winner'] == 'Holger Rune') | (mo['Winner'] == 'Alexander Zverev')\n",
    "               | (mo['Winner'] == 'Pablo Carreno Busta') | (mo['Winner'] == 'Cameron Norrie')\n",
    "               | (mo['Winner'] == 'Jannik Sinner') | (mo['Winner'] == 'Matteo Berrettini')\n",
    "               | (mo['Winner'] == 'Marin Cilic') | (mo['Winner'] == 'Denis Shapovalov')\n",
    "               | (mo['Winner'] == 'Frances Tiafoe') | (mo['Winner'] == 'Karen Khachanov')\n",
    "               | (mo['Winner'] == 'Roberto Bautista Agut') | (mo['Winner'] == 'Nick Kyrgios')\n",
    "               | (mo['Winner'] == 'Lorenzo Musetti') | (mo['Winner'] == 'Alex de Minaur')\n",
    "               | (mo['Winner'] == 'Diego Schwartzman') | (mo['Winner'] == 'Borna Coric')                                             \n",
    "               | (mo['Winner'] == 'Daniel Evans') | (mo['Winner'] == 'Grigor Dimitrov')\n",
    "               | (mo['Winner'] == 'Miomir Kecmanovic') | (mo['Winner'] == 'Francisco Cerundolo')\n",
    "               | (mo['Winner'] == 'Alejandro Davidovich Fokina') | (mo['Winner'] == 'Tommy Paul')\n",
    "               | (mo['Winner'] == 'Round')]"
   ]
  },
  {
   "cell_type": "code",
   "execution_count": 96,
   "id": "b29018e6",
   "metadata": {},
   "outputs": [],
   "source": [
    "mo=mo[(mo['Loser'] == 'Carlos Alcaraz') | (mo['Loser'] == 'Casper Ruud')\n",
    "               | (mo['Loser'] == 'Rafael Nadal') | (mo['Loser'] == 'Stefanos Tsitsipas')\n",
    "               | (mo['Loser'] == 'Felix Auger-Aliassime') | (mo['Loser'] == 'Daniil Medvedev')\n",
    "               | (mo['Loser'] == 'Andrey Rublev') | (mo['Loser'] == 'Taylor Fritz')\n",
    "               | (mo['Loser'] == 'Hubert Hurkacz') | (mo['Loser'] == 'Novak Djokovic')\n",
    "               | (mo['Loser'] == 'Holger Rune') | (mo['Loser'] == 'Alexander Zverev')\n",
    "               | (mo['Loser'] == 'Pablo Carreno Busta') | (mo['Loser'] == 'Cameron Norrie')\n",
    "               | (mo['Loser'] == 'Jannik Sinner') | (mo['Loser'] == 'Matteo Berrettini')\n",
    "               | (mo['Loser'] == 'Marin Cilic') | (mo['Loser'] == 'Denis Shapovalov')\n",
    "               | (mo['Loser'] == 'Frances Tiafoe') | (mo['Loser'] == 'Karen Khachanov')\n",
    "               | (mo['Loser'] == 'Frances Tiafoe') | (mo['Loser'] == 'Karen Khachanov')\n",
    "               | (mo['Loser'] == 'Roberto Bautista Agut') | (mo['Loser'] == 'Nick Kyrgios')\n",
    "               | (mo['Loser'] == 'Lorenzo Musetti') | (mo['Loser'] == 'Alex de Minaur')\n",
    "               | (mo['Loser'] == 'Diego Schwartzman') | (mo['Loser'] == 'Borna Coric')                                             \n",
    "               | (mo['Loser'] == 'Daniel Evans') | (mo['Loser'] == 'Grigor Dimitrov')\n",
    "               | (mo['Loser'] == 'Miomir Kecmanovic') | (mo['Loser'] == 'Francisco Cerundolo')\n",
    "               | (mo['Loser'] == 'Alejandro Davidovich Fokina') | (mo['Loser'] == 'Tommy Paul')\n",
    "               | (mo['Loser'] == 'Round')]"
   ]
  },
  {
   "cell_type": "code",
   "execution_count": 97,
   "id": "1c31321f",
   "metadata": {},
   "outputs": [],
   "source": [
    "mo.to_csv('../Final-Project-Tennis/datanosubir/MiamiOpen.csv', index=False)"
   ]
  },
  {
   "cell_type": "markdown",
   "id": "4b7f1bdd",
   "metadata": {},
   "source": [
    "# Motecarlo Masters"
   ]
  },
  {
   "cell_type": "code",
   "execution_count": 98,
   "id": "d808db50",
   "metadata": {},
   "outputs": [],
   "source": [
    "urlmc='https://www.atptour.com/es/scores/archive/monte-carlo/410/2022/results'"
   ]
  },
  {
   "cell_type": "code",
   "execution_count": 99,
   "id": "76feeb50",
   "metadata": {},
   "outputs": [],
   "source": [
    "drivermc=webdriver.Chrome(PATH)         \n",
    "\n",
    "drivermc.get(urlmc)"
   ]
  },
  {
   "cell_type": "code",
   "execution_count": 100,
   "id": "de541846",
   "metadata": {},
   "outputs": [],
   "source": [
    "tabla6=drivermc.find_element(By.XPATH, '//*[@id=\"scoresResultsContent\"]/div/table')\n",
    "\n",
    "filas6=[[e.text for e in f.find_elements(By.CLASS_NAME, 'day-table-name')] \n",
    "        for f in tabla6.find_elements(By.TAG_NAME, 'tr')]"
   ]
  },
  {
   "cell_type": "code",
   "execution_count": 101,
   "id": "9a09edab",
   "metadata": {},
   "outputs": [],
   "source": [
    "cols6 = [e.text.split('\\n') for e in drivermc.find_elements(By.TAG_NAME, 'th')]\n",
    "\n",
    "drivermc.quit()"
   ]
  },
  {
   "cell_type": "code",
   "execution_count": 102,
   "id": "4d9e5122",
   "metadata": {},
   "outputs": [],
   "source": [
    "cols6=['Winner','Loser']"
   ]
  },
  {
   "cell_type": "code",
   "execution_count": 103,
   "id": "4365006d",
   "metadata": {},
   "outputs": [],
   "source": [
    "mc = pd.DataFrame(filas6, columns=cols6)"
   ]
  },
  {
   "cell_type": "code",
   "execution_count": 104,
   "id": "3e4d33f7",
   "metadata": {},
   "outputs": [],
   "source": [
    "mc.Winner=mc.Winner.apply(nada)"
   ]
  },
  {
   "cell_type": "code",
   "execution_count": 105,
   "id": "d637f00a",
   "metadata": {},
   "outputs": [],
   "source": [
    "mc.Loser=mc.Loser.apply(nada)"
   ]
  },
  {
   "cell_type": "code",
   "execution_count": 106,
   "id": "37cc1341",
   "metadata": {},
   "outputs": [],
   "source": [
    "mc=mc[(mc['Winner'] == 'Carlos Alcaraz') | (mc['Winner'] == 'Casper Ruud')\n",
    "               | (mc['Winner'] == 'Rafael Nadal') | (mc['Winner'] == 'Stefanos Tsitsipas')\n",
    "               | (mc['Winner'] == 'Felix Auger-Aliassime') | (mc['Winner'] == 'Daniil Medvedev')\n",
    "               | (mc['Winner'] == 'Andrey Rublev') | (mc['Winner'] == 'Taylor Fritz')\n",
    "               | (mc['Winner'] == 'Hubert Hurkacz') | (mc['Winner'] == 'Novak Djokovic')\n",
    "               | (mc['Winner'] == 'Holger Rune') | (mc['Winner'] == 'Alexander Zverev')\n",
    "               | (mc['Winner'] == 'Pablo Carreno Busta') | (mc['Winner'] == 'Cameron Norrie')\n",
    "               | (mc['Winner'] == 'Jannik Sinner') | (mc['Winner'] == 'Matteo Berrettini')\n",
    "               | (mc['Winner'] == 'Marin Cilic') | (mc['Winner'] == 'Denis Shapovalov')\n",
    "               | (mc['Winner'] == 'Frances Tiafoe') | (mc['Winner'] == 'Karen Khachanov')\n",
    "               | (mc['Winner'] == 'Roberto Bautista Agut') | (mc['Winner'] == 'Nick Kyrgios')\n",
    "               | (mc['Winner'] == 'Lorenzo Musetti') | (mc['Winner'] == 'Alex de Minaur')\n",
    "               | (mc['Winner'] == 'Diego Schwartzman') | (mc['Winner'] == 'Borna Coric')                                             \n",
    "               | (mc['Winner'] == 'Daniel Evans') | (mc['Winner'] == 'Grigor Dimitrov')\n",
    "               | (mc['Winner'] == 'Miomir Kecmanovic') | (mc['Winner'] == 'Francisco Cerundolo')\n",
    "               | (mc['Winner'] == 'Alejandro Davidovich Fokina') | (mc['Winner'] == 'Tommy Paul')\n",
    "               | (mc['Winner'] == 'Round')]"
   ]
  },
  {
   "cell_type": "code",
   "execution_count": 107,
   "id": "8222acbd",
   "metadata": {},
   "outputs": [],
   "source": [
    "mc=mc[(mc['Loser'] == 'Carlos Alcaraz') | (mc['Loser'] == 'Casper Ruud')\n",
    "               | (mc['Loser'] == 'Rafael Nadal') | (mc['Loser'] == 'Stefanos Tsitsipas')\n",
    "               | (mc['Loser'] == 'Felix Auger-Aliassime') | (mc['Loser'] == 'Daniil Medvedev')\n",
    "               | (mc['Loser'] == 'Andrey Rublev') | (mc['Loser'] == 'Taylor Fritz')\n",
    "               | (mc['Loser'] == 'Hubert Hurkacz') | (mc['Loser'] == 'Novak Djokovic')\n",
    "               | (mc['Loser'] == 'Holger Rune') | (mc['Loser'] == 'Alexander Zverev')\n",
    "               | (mc['Loser'] == 'Pablo Carreno Busta') | (mc['Loser'] == 'Cameron Norrie')\n",
    "               | (mc['Loser'] == 'Jannik Sinner') | (mc['Loser'] == 'Matteo Berrettini')\n",
    "               | (mc['Loser'] == 'Marin Cilic') | (mc['Loser'] == 'Denis Shapovalov')\n",
    "               | (mc['Loser'] == 'Frances Tiafoe') | (mc['Loser'] == 'Karen Khachanov')\n",
    "               | (mc['Loser'] == 'Frances Tiafoe') | (mc['Loser'] == 'Karen Khachanov')\n",
    "               | (mc['Loser'] == 'Roberto Bautista Agut') | (mc['Loser'] == 'Nick Kyrgios')\n",
    "               | (mc['Loser'] == 'Lorenzo Musetti') | (mc['Loser'] == 'Alex de Minaur')\n",
    "               | (mc['Loser'] == 'Diego Schwartzman') | (mc['Loser'] == 'Borna Coric')                                             \n",
    "               | (mc['Loser'] == 'Daniel Evans') | (mc['Loser'] == 'Grigor Dimitrov')\n",
    "               | (mc['Loser'] == 'Miomir Kecmanovic') | (mc['Loser'] == 'Francisco Cerundolo')\n",
    "               | (mc['Loser'] == 'Alejandro Davidovich Fokina') | (mc['Loser'] == 'Tommy Paul')\n",
    "               | (mc['Loser'] == 'Round')]"
   ]
  },
  {
   "cell_type": "code",
   "execution_count": 108,
   "id": "2b6f55c7",
   "metadata": {},
   "outputs": [],
   "source": [
    "mc.to_csv('../Final-Project-Tennis/datanosubir/MonteCarloOpen.csv', index=False)"
   ]
  },
  {
   "cell_type": "markdown",
   "id": "d65f2a1a",
   "metadata": {},
   "source": [
    "# Mutua Madrid Open"
   ]
  },
  {
   "cell_type": "code",
   "execution_count": 109,
   "id": "3dd80922",
   "metadata": {},
   "outputs": [],
   "source": [
    "urlmm='https://www.atptour.com/es/scores/archive/madrid/1536/2022/results'"
   ]
  },
  {
   "cell_type": "code",
   "execution_count": 110,
   "id": "4f26fb05",
   "metadata": {},
   "outputs": [],
   "source": [
    "drivermm=webdriver.Chrome(PATH)         \n",
    "\n",
    "drivermm.get(urlmm)"
   ]
  },
  {
   "cell_type": "code",
   "execution_count": 111,
   "id": "f1cd0e53",
   "metadata": {},
   "outputs": [],
   "source": [
    "tabla7=drivermm.find_element(By.XPATH, '//*[@id=\"scoresResultsContent\"]/div/table')\n",
    "\n",
    "filas7=[[e.text for e in f.find_elements(By.CLASS_NAME, 'day-table-name')] \n",
    "        for f in tabla7.find_elements(By.TAG_NAME, 'tr')]"
   ]
  },
  {
   "cell_type": "code",
   "execution_count": 112,
   "id": "358aa568",
   "metadata": {},
   "outputs": [],
   "source": [
    "cols7 = [e.text.split('\\n') for e in drivermm.find_elements(By.TAG_NAME, 'th')]\n",
    "\n",
    "drivermm.quit()"
   ]
  },
  {
   "cell_type": "code",
   "execution_count": 113,
   "id": "58016b26",
   "metadata": {},
   "outputs": [],
   "source": [
    "cols7=['Winner','Loser']"
   ]
  },
  {
   "cell_type": "code",
   "execution_count": 114,
   "id": "23ba5817",
   "metadata": {},
   "outputs": [],
   "source": [
    "mm = pd.DataFrame(filas7, columns=cols7)"
   ]
  },
  {
   "cell_type": "code",
   "execution_count": 115,
   "id": "22120e4a",
   "metadata": {},
   "outputs": [],
   "source": [
    "mm.Winner=mm.Winner.apply(nada)"
   ]
  },
  {
   "cell_type": "code",
   "execution_count": 116,
   "id": "b956bf6d",
   "metadata": {},
   "outputs": [],
   "source": [
    "mm.Loser=mm.Loser.apply(nada)"
   ]
  },
  {
   "cell_type": "code",
   "execution_count": 117,
   "id": "6a7d3458",
   "metadata": {},
   "outputs": [],
   "source": [
    "mm=mm[(mm['Winner'] == 'Carlos Alcaraz') | (mm['Winner'] == 'Casper Ruud')\n",
    "               | (mm['Winner'] == 'Rafael Nadal') | (mm['Winner'] == 'Stefanos Tsitsipas')\n",
    "               | (mm['Winner'] == 'Felix Auger-Aliassime') | (mm['Winner'] == 'Daniil Medvedev')\n",
    "               | (mm['Winner'] == 'Andrey Rublev') | (mm['Winner'] == 'Taylor Fritz')\n",
    "               | (mm['Winner'] == 'Hubert Hurkacz') | (mm['Winner'] == 'Novak Djokovic')\n",
    "               | (mm['Winner'] == 'Holger Rune') | (mm['Winner'] == 'Alexander Zverev')\n",
    "               | (mm['Winner'] == 'Pablo Carreno Busta') | (mm['Winner'] == 'Cameron Norrie')\n",
    "               | (mm['Winner'] == 'Jannik Sinner') | (mm['Winner'] == 'Matteo Berrettini')\n",
    "               | (mm['Winner'] == 'Marin Cilic') | (mm['Winner'] == 'Denis Shapovalov')\n",
    "               | (mm['Winner'] == 'Frances Tiafoe') | (mm['Winner'] == 'Karen Khachanov')\n",
    "               | (mm['Winner'] == 'Roberto Bautista Agut') | (mm['Winner'] == 'Nick Kyrgios')\n",
    "               | (mm['Winner'] == 'Lorenzo Musetti') | (mm['Winner'] == 'Alex de Minaur')\n",
    "               | (mm['Winner'] == 'Diego Schwartzman') | (mm['Winner'] == 'Borna Coric')                                             \n",
    "               | (mm['Winner'] == 'Daniel Evans') | (mm['Winner'] == 'Grigor Dimitrov')\n",
    "               | (mm['Winner'] == 'Miomir Kecmanovic') | (mm['Winner'] == 'Francisco Cerundolo')\n",
    "               | (mm['Winner'] == 'Alejandro Davidovich Fokina') | (mm['Winner'] == 'Tommy Paul')\n",
    "               | (mm['Winner'] == 'Round')]"
   ]
  },
  {
   "cell_type": "code",
   "execution_count": 118,
   "id": "e0cf527e",
   "metadata": {},
   "outputs": [],
   "source": [
    "mm=mm[(mm['Loser'] == 'Carlos Alcaraz') | (mm['Loser'] == 'Casper Ruud')\n",
    "               | (mm['Loser'] == 'Rafael Nadal') | (mm['Loser'] == 'Stefanos Tsitsipas')\n",
    "               | (mm['Loser'] == 'Felix Auger-Aliassime') | (mm['Loser'] == 'Daniil Medvedev')\n",
    "               | (mm['Loser'] == 'Andrey Rublev') | (mm['Loser'] == 'Taylor Fritz')\n",
    "               | (mm['Loser'] == 'Hubert Hurkacz') | (mm['Loser'] == 'Novak Djokovic')\n",
    "               | (mm['Loser'] == 'Holger Rune') | (mm['Loser'] == 'Alexander Zverev')\n",
    "               | (mm['Loser'] == 'Pablo Carreno Busta') | (mm['Loser'] == 'Cameron Norrie')\n",
    "               | (mm['Loser'] == 'Jannik Sinner') | (mm['Loser'] == 'Matteo Berrettini')\n",
    "               | (mm['Loser'] == 'Marin Cilic') | (mm['Loser'] == 'Denis Shapovalov')\n",
    "               | (mm['Loser'] == 'Frances Tiafoe') | (mm['Loser'] == 'Karen Khachanov')\n",
    "               | (mm['Loser'] == 'Frances Tiafoe') | (mm['Loser'] == 'Karen Khachanov')\n",
    "               | (mm['Loser'] == 'Roberto Bautista Agut') | (mm['Loser'] == 'Nick Kyrgios')\n",
    "               | (mm['Loser'] == 'Lorenzo Musetti') | (mm['Loser'] == 'Alex de Minaur')\n",
    "               | (mm['Loser'] == 'Diego Schwartzman') | (mm['Loser'] == 'Borna Coric')                                             \n",
    "               | (mm['Loser'] == 'Daniel Evans') | (mm['Loser'] == 'Grigor Dimitrov')\n",
    "               | (mm['Loser'] == 'Miomir Kecmanovic') | (mm['Loser'] == 'Francisco Cerundolo')\n",
    "               | (mm['Loser'] == 'Alejandro Davidovich Fokina') | (mm['Loser'] == 'Tommy Paul')\n",
    "               | (mm['Loser'] == 'Round')]"
   ]
  },
  {
   "cell_type": "code",
   "execution_count": 119,
   "id": "11955db2",
   "metadata": {},
   "outputs": [],
   "source": [
    "mm.to_csv('../Final-Project-Tennis/datanosubir/MtuaMadrileñaOpen.csv', index=False)"
   ]
  },
  {
   "cell_type": "markdown",
   "id": "bfc171c8",
   "metadata": {},
   "source": [
    "# Masters Roma"
   ]
  },
  {
   "cell_type": "code",
   "execution_count": 120,
   "id": "5805f0c0",
   "metadata": {},
   "outputs": [],
   "source": [
    "urlmr='https://www.atptour.com/es/scores/archive/rome/416/2022/results'"
   ]
  },
  {
   "cell_type": "code",
   "execution_count": 121,
   "id": "3bf90e9a",
   "metadata": {},
   "outputs": [],
   "source": [
    "drivermr=webdriver.Chrome(PATH)         \n",
    "\n",
    "drivermr.get(urlmr)"
   ]
  },
  {
   "cell_type": "code",
   "execution_count": 122,
   "id": "7dbf8fc3",
   "metadata": {},
   "outputs": [],
   "source": [
    "tabla8=drivermr.find_element(By.XPATH, '//*[@id=\"scoresResultsContent\"]/div/table')\n",
    "\n",
    "filas8=[[e.text for e in f.find_elements(By.CLASS_NAME, 'day-table-name')] \n",
    "        for f in tabla8.find_elements(By.TAG_NAME, 'tr')]"
   ]
  },
  {
   "cell_type": "code",
   "execution_count": 123,
   "id": "d4565551",
   "metadata": {},
   "outputs": [],
   "source": [
    "cols8 = [e.text.split('\\n') for e in drivermr.find_elements(By.TAG_NAME, 'th')]\n",
    "\n",
    "drivermr.quit()"
   ]
  },
  {
   "cell_type": "code",
   "execution_count": 124,
   "id": "4b23ed83",
   "metadata": {},
   "outputs": [],
   "source": [
    "cols8=['Winner','Loser']"
   ]
  },
  {
   "cell_type": "code",
   "execution_count": 125,
   "id": "5edc0bfe",
   "metadata": {},
   "outputs": [],
   "source": [
    "mr = pd.DataFrame(filas8, columns=cols8)"
   ]
  },
  {
   "cell_type": "code",
   "execution_count": 126,
   "id": "4bd7ddd3",
   "metadata": {},
   "outputs": [],
   "source": [
    "mr.Winner=mr.Winner.apply(nada)"
   ]
  },
  {
   "cell_type": "code",
   "execution_count": 127,
   "id": "2be5a226",
   "metadata": {},
   "outputs": [],
   "source": [
    "mr.Loser=mr.Loser.apply(nada)"
   ]
  },
  {
   "cell_type": "code",
   "execution_count": 128,
   "id": "bb1c437a",
   "metadata": {},
   "outputs": [],
   "source": [
    "mr=mr[(mr['Winner'] == 'Carlos Alcaraz') | (mr['Winner'] == 'Casper Ruud')\n",
    "               | (mr['Winner'] == 'Rafael Nadal') | (mr['Winner'] == 'Stefanos Tsitsipas')\n",
    "               | (mr['Winner'] == 'Felix Auger-Aliassime') | (mr['Winner'] == 'Daniil Medvedev')\n",
    "               | (mr['Winner'] == 'Andrey Rublev') | (mr['Winner'] == 'Taylor Fritz')\n",
    "               | (mr['Winner'] == 'Hubert Hurkacz') | (mr['Winner'] == 'Novak Djokovic')\n",
    "               | (mr['Winner'] == 'Holger Rune') | (mr['Winner'] == 'Alexander Zverev')\n",
    "               | (mr['Winner'] == 'Pablo Carreno Busta') | (mr['Winner'] == 'Cameron Norrie')\n",
    "               | (mr['Winner'] == 'Jannik Sinner') | (mr['Winner'] == 'Matteo Berrettini')\n",
    "               | (mr['Winner'] == 'Marin Cilic') | (mr['Winner'] == 'Denis Shapovalov')\n",
    "               | (mr['Winner'] == 'Frances Tiafoe') | (mr['Winner'] == 'Karen Khachanov')\n",
    "               | (mr['Winner'] == 'Roberto Bautista Agut') | (mr['Winner'] == 'Nick Kyrgios')\n",
    "               | (mr['Winner'] == 'Lorenzo Musetti') | (mr['Winner'] == 'Alex de Minaur')\n",
    "               | (mr['Winner'] == 'Diego Schwartzman') | (mr['Winner'] == 'Borna Coric')                                             \n",
    "               | (mr['Winner'] == 'Daniel Evans') | (mr['Winner'] == 'Grigor Dimitrov')\n",
    "               | (mr['Winner'] == 'Miomir Kecmanovic') | (mr['Winner'] == 'Francisco Cerundolo')\n",
    "               | (mr['Winner'] == 'Alejandro Davidovich Fokina') | (mr['Winner'] == 'Tommy Paul')\n",
    "               | (mr['Winner'] == 'Round')]"
   ]
  },
  {
   "cell_type": "code",
   "execution_count": 129,
   "id": "f79354db",
   "metadata": {},
   "outputs": [],
   "source": [
    "mr=mr[(mr['Loser'] == 'Carlos Alcaraz') | (mr['Loser'] == 'Casper Ruud')\n",
    "               | (mr['Loser'] == 'Rafael Nadal') | (mr['Loser'] == 'Stefanos Tsitsipas')\n",
    "               | (mr['Loser'] == 'Felix Auger-Aliassime') | (mr['Loser'] == 'Daniil Medvedev')\n",
    "               | (mr['Loser'] == 'Andrey Rublev') | (mr['Loser'] == 'Taylor Fritz')\n",
    "               | (mr['Loser'] == 'Hubert Hurkacz') | (mr['Loser'] == 'Novak Djokovic')\n",
    "               | (mr['Loser'] == 'Holger Rune') | (mr['Loser'] == 'Alexander Zverev')\n",
    "               | (mr['Loser'] == 'Pablo Carreno Busta') | (mr['Loser'] == 'Cameron Norrie')\n",
    "               | (mr['Loser'] == 'Jannik Sinner') | (mr['Loser'] == 'Matteo Berrettini')\n",
    "               | (mr['Loser'] == 'Marin Cilic') | (mr['Loser'] == 'Denis Shapovalov')\n",
    "               | (mr['Loser'] == 'Frances Tiafoe') | (mr['Loser'] == 'Karen Khachanov')\n",
    "               | (mr['Loser'] == 'Frances Tiafoe') | (mr['Loser'] == 'Karen Khachanov')\n",
    "               | (mr['Loser'] == 'Roberto Bautista Agut') | (mr['Loser'] == 'Nick Kyrgios')\n",
    "               | (mr['Loser'] == 'Lorenzo Musetti') | (mr['Loser'] == 'Alex de Minaur')\n",
    "               | (mr['Loser'] == 'Diego Schwartzman') | (mr['Loser'] == 'Borna Coric')                                             \n",
    "               | (mr['Loser'] == 'Daniel Evans') | (mr['Loser'] == 'Grigor Dimitrov')\n",
    "               | (mr['Loser'] == 'Miomir Kecmanovic') | (mr['Loser'] == 'Francisco Cerundolo')\n",
    "               | (mr['Loser'] == 'Alejandro Davidovich Fokina') | (mr['Loser'] == 'Tommy Paul')\n",
    "               | (mr['Loser'] == 'Round')]"
   ]
  },
  {
   "cell_type": "code",
   "execution_count": 130,
   "id": "852fa9bd",
   "metadata": {},
   "outputs": [],
   "source": [
    "mr.to_csv('../Final-Project-Tennis/datanosubir/MastersRoma.csv', index=False)"
   ]
  },
  {
   "cell_type": "markdown",
   "id": "73b2a8af",
   "metadata": {},
   "source": [
    "# Masters Montreal"
   ]
  },
  {
   "cell_type": "code",
   "execution_count": 131,
   "id": "6a062949",
   "metadata": {},
   "outputs": [],
   "source": [
    "urlmon='https://www.atptour.com/es/scores/archive/montreal/421/2022/results'"
   ]
  },
  {
   "cell_type": "code",
   "execution_count": 132,
   "id": "9c8152e3",
   "metadata": {},
   "outputs": [],
   "source": [
    "drivermon=webdriver.Chrome(PATH)         \n",
    "\n",
    "drivermon.get(urlmon)"
   ]
  },
  {
   "cell_type": "code",
   "execution_count": 133,
   "id": "6e8eb059",
   "metadata": {},
   "outputs": [],
   "source": [
    "tabla9=drivermon.find_element(By.XPATH, '//*[@id=\"scoresResultsContent\"]/div/table')\n",
    "\n",
    "filas9=[[e.text for e in f.find_elements(By.CLASS_NAME, 'day-table-name')] \n",
    "        for f in tabla9.find_elements(By.TAG_NAME, 'tr')]"
   ]
  },
  {
   "cell_type": "code",
   "execution_count": 134,
   "id": "1b0bfe04",
   "metadata": {},
   "outputs": [],
   "source": [
    "cols9 = [e.text.split('\\n') for e in drivermon.find_elements(By.TAG_NAME, 'th')]\n",
    "\n",
    "drivermon.quit()"
   ]
  },
  {
   "cell_type": "code",
   "execution_count": 135,
   "id": "5e70f297",
   "metadata": {},
   "outputs": [],
   "source": [
    "cols9=['Winner','Loser']"
   ]
  },
  {
   "cell_type": "code",
   "execution_count": 136,
   "id": "580fbd94",
   "metadata": {},
   "outputs": [],
   "source": [
    "mon = pd.DataFrame(filas9, columns=cols9)"
   ]
  },
  {
   "cell_type": "code",
   "execution_count": 137,
   "id": "197299c8",
   "metadata": {},
   "outputs": [],
   "source": [
    "mon.Winner=mon.Winner.apply(nada)"
   ]
  },
  {
   "cell_type": "code",
   "execution_count": 138,
   "id": "46d2c770",
   "metadata": {},
   "outputs": [],
   "source": [
    "mon.Loser=mon.Loser.apply(nada)"
   ]
  },
  {
   "cell_type": "code",
   "execution_count": 139,
   "id": "f8c1d91a",
   "metadata": {},
   "outputs": [],
   "source": [
    "mon=mon[(mon['Winner'] == 'Carlos Alcaraz') | (mon['Winner'] == 'Casper Ruud')\n",
    "               | (mon['Winner'] == 'Rafael Nadal') | (mon['Winner'] == 'Stefanos Tsitsipas')\n",
    "               | (mon['Winner'] == 'Felix Auger-Aliassime') | (mon['Winner'] == 'Daniil Medvedev')\n",
    "               | (mon['Winner'] == 'Andrey Rublev') | (mon['Winner'] == 'Taylor Fritz')\n",
    "               | (mon['Winner'] == 'Hubert Hurkacz') | (mon['Winner'] == 'Novak Djokovic')\n",
    "               | (mon['Winner'] == 'Holger Rune') | (mon['Winner'] == 'Alexander Zverev')\n",
    "               | (mon['Winner'] == 'Pablo Carreno Busta') | (mon['Winner'] == 'Cameron Norrie')\n",
    "               | (mon['Winner'] == 'Jannik Sinner') | (mon['Winner'] == 'Matteo Berrettini')\n",
    "               | (mon['Winner'] == 'Marin Cilic') | (mon['Winner'] == 'Denis Shapovalov')\n",
    "               | (mon['Winner'] == 'Frances Tiafoe') | (mon['Winner'] == 'Karen Khachanov')\n",
    "               | (mon['Winner'] == 'Roberto Bautista Agut') | (mon['Winner'] == 'Nick Kyrgios')\n",
    "               | (mon['Winner'] == 'Lorenzo Musetti') | (mon['Winner'] == 'Alex de Minaur')\n",
    "               | (mon['Winner'] == 'Diego Schwartzman') | (mon['Winner'] == 'Borna Coric')                                             \n",
    "               | (mon['Winner'] == 'Daniel Evans') | (mon['Winner'] == 'Grigor Dimitrov')\n",
    "               | (mon['Winner'] == 'Miomir Kecmanovic') | (mon['Winner'] == 'Francisco Cerundolo')\n",
    "               | (mon['Winner'] == 'Alejandro Davidovich Fokina') | (mon['Winner'] == 'Tommy Paul')\n",
    "               | (mon['Winner'] == 'Round')]"
   ]
  },
  {
   "cell_type": "code",
   "execution_count": 140,
   "id": "b135a476",
   "metadata": {},
   "outputs": [],
   "source": [
    "mon=mon[(mon['Loser'] == 'Carlos Alcaraz') | (mon['Loser'] == 'Casper Ruud')\n",
    "               | (mon['Loser'] == 'Rafael Nadal') | (mon['Loser'] == 'Stefanos Tsitsipas')\n",
    "               | (mon['Loser'] == 'Felix Auger-Aliassime') | (mon['Loser'] == 'Daniil Medvedev')\n",
    "               | (mon['Loser'] == 'Andrey Rublev') | (mon['Loser'] == 'Taylor Fritz')\n",
    "               | (mon['Loser'] == 'Hubert Hurkacz') | (mon['Loser'] == 'Novak Djokovic')\n",
    "               | (mon['Loser'] == 'Holger Rune') | (mon['Loser'] == 'Alexander Zverev')\n",
    "               | (mon['Loser'] == 'Pablo Carreno Busta') | (mon['Loser'] == 'Cameron Norrie')\n",
    "               | (mon['Loser'] == 'Jannik Sinner') | (mon['Loser'] == 'Matteo Berrettini')\n",
    "               | (mon['Loser'] == 'Marin Cilic') | (mon['Loser'] == 'Denis Shapovalov')\n",
    "               | (mon['Loser'] == 'Frances Tiafoe') | (mon['Loser'] == 'Karen Khachanov')\n",
    "               | (mon['Loser'] == 'Frances Tiafoe') | (mon['Loser'] == 'Karen Khachanov')\n",
    "               | (mon['Loser'] == 'Roberto Bautista Agut') | (mon['Loser'] == 'Nick Kyrgios')\n",
    "               | (mon['Loser'] == 'Lorenzo Musetti') | (mon['Loser'] == 'Alex de Minaur')\n",
    "               | (mon['Loser'] == 'Diego Schwartzman') | (mon['Loser'] == 'Borna Coric')                                             \n",
    "               | (mon['Loser'] == 'Daniel Evans') | (mon['Loser'] == 'Grigor Dimitrov')\n",
    "               | (mon['Loser'] == 'Miomir Kecmanovic') | (mon['Loser'] == 'Francisco Cerundolo')\n",
    "               | (mon['Loser'] == 'Alejandro Davidovich Fokina') | (mon['Loser'] == 'Tommy Paul')\n",
    "               | (mon['Loser'] == 'Round')]"
   ]
  },
  {
   "cell_type": "code",
   "execution_count": 141,
   "id": "1a0ecf03",
   "metadata": {},
   "outputs": [],
   "source": [
    "mon.to_csv('../Final-Project-Tennis/datanosubir/MastersMontreal.csv', index=False)"
   ]
  },
  {
   "cell_type": "markdown",
   "id": "f1a5d91f",
   "metadata": {},
   "source": [
    "# Masters Cincinnati"
   ]
  },
  {
   "cell_type": "code",
   "execution_count": 142,
   "id": "8f34600a",
   "metadata": {},
   "outputs": [],
   "source": [
    "urlcin='https://www.atptour.com/es/scores/archive/cincinnati/422/2022/results'"
   ]
  },
  {
   "cell_type": "code",
   "execution_count": 143,
   "id": "0dc240d1",
   "metadata": {},
   "outputs": [],
   "source": [
    "drivercin=webdriver.Chrome(PATH)         \n",
    "\n",
    "drivercin.get(urlcin)"
   ]
  },
  {
   "cell_type": "code",
   "execution_count": 144,
   "id": "ab906ad5",
   "metadata": {},
   "outputs": [],
   "source": [
    "tabla10=drivercin.find_element(By.XPATH, '//*[@id=\"scoresResultsContent\"]/div/table')\n",
    "\n",
    "filas10=[[e.text for e in f.find_elements(By.CLASS_NAME, 'day-table-name')] \n",
    "        for f in tabla10.find_elements(By.TAG_NAME, 'tr')]"
   ]
  },
  {
   "cell_type": "code",
   "execution_count": 145,
   "id": "23481fc0",
   "metadata": {},
   "outputs": [],
   "source": [
    "cols10 = [e.text.split('\\n') for e in drivercin.find_elements(By.TAG_NAME, 'th')]\n",
    "\n",
    "drivercin.quit()"
   ]
  },
  {
   "cell_type": "code",
   "execution_count": 146,
   "id": "54f29458",
   "metadata": {},
   "outputs": [],
   "source": [
    "cols10 = ['Winner','Loser']"
   ]
  },
  {
   "cell_type": "code",
   "execution_count": 147,
   "id": "e1c63afc",
   "metadata": {},
   "outputs": [],
   "source": [
    "cin = pd.DataFrame(filas10, columns=cols10)"
   ]
  },
  {
   "cell_type": "code",
   "execution_count": 148,
   "id": "fd777eb3",
   "metadata": {},
   "outputs": [],
   "source": [
    "cin.Winner=cin.Winner.apply(nada)"
   ]
  },
  {
   "cell_type": "code",
   "execution_count": 149,
   "id": "04f4a097",
   "metadata": {},
   "outputs": [],
   "source": [
    "cin.Loser=cin.Loser.apply(nada)"
   ]
  },
  {
   "cell_type": "code",
   "execution_count": 150,
   "id": "34c8c985",
   "metadata": {},
   "outputs": [],
   "source": [
    "cin=cin[(cin['Winner'] == 'Carlos Alcaraz') | (cin['Winner'] == 'Casper Ruud')\n",
    "               | (cin['Winner'] == 'Rafael Nadal') | (cin['Winner'] == 'Stefanos Tsitsipas')\n",
    "               | (cin['Winner'] == 'Felix Auger-Aliassime') | (cin['Winner'] == 'Daniil Medvedev')\n",
    "               | (cin['Winner'] == 'Andrey Rublev') | (cin['Winner'] == 'Taylor Fritz')\n",
    "               | (cin['Winner'] == 'Hubert Hurkacz') | (cin['Winner'] == 'Novak Djokovic')\n",
    "               | (cin['Winner'] == 'Holger Rune') | (cin['Winner'] == 'Alexander Zverev')\n",
    "               | (cin['Winner'] == 'Pablo Carreno Busta') | (cin['Winner'] == 'Cameron Norrie')\n",
    "               | (cin['Winner'] == 'Jannik Sinner') | (cin['Winner'] == 'Matteo Berrettini')\n",
    "               | (cin['Winner'] == 'Marin Cilic') | (cin['Winner'] == 'Denis Shapovalov')\n",
    "               | (cin['Winner'] == 'Frances Tiafoe') | (cin['Winner'] == 'Karen Khachanov')\n",
    "               | (cin['Winner'] == 'Roberto Bautista Agut') | (cin['Winner'] == 'Nick Kyrgios')\n",
    "               | (cin['Winner'] == 'Lorenzo Musetti') | (cin['Winner'] == 'Alex de Minaur')\n",
    "               | (cin['Winner'] == 'Diego Schwartzman') | (cin['Winner'] == 'Borna Coric')                                             \n",
    "               | (cin['Winner'] == 'Daniel Evans') | (cin['Winner'] == 'Grigor Dimitrov')\n",
    "               | (cin['Winner'] == 'Miomir Kecmanovic') | (cin['Winner'] == 'Francisco Cerundolo')\n",
    "               | (cin['Winner'] == 'Alejandro Davidovich Fokina') | (cin['Winner'] == 'Tommy Paul')\n",
    "               | (cin['Winner'] == 'Round')]"
   ]
  },
  {
   "cell_type": "code",
   "execution_count": 151,
   "id": "fbfd5b5a",
   "metadata": {},
   "outputs": [],
   "source": [
    "cin=cin[(cin['Loser'] == 'Carlos Alcaraz') | (cin['Loser'] == 'Casper Ruud')\n",
    "               | (cin['Loser'] == 'Rafael Nadal') | (cin['Loser'] == 'Stefanos Tsitsipas')\n",
    "               | (cin['Loser'] == 'Felix Auger-Aliassime') | (cin['Loser'] == 'Daniil Medvedev')\n",
    "               | (cin['Loser'] == 'Andrey Rublev') | (cin['Loser'] == 'Taylor Fritz')\n",
    "               | (cin['Loser'] == 'Hubert Hurkacz') | (cin['Loser'] == 'Novak Djokovic')\n",
    "               | (cin['Loser'] == 'Holger Rune') | (cin['Loser'] == 'Alexander Zverev')\n",
    "               | (cin['Loser'] == 'Pablo Carreno Busta') | (cin['Loser'] == 'Cameron Norrie')\n",
    "               | (cin['Loser'] == 'Jannik Sinner') | (cin['Loser'] == 'Matteo Berrettini')\n",
    "               | (cin['Loser'] == 'Marin Cilic') | (cin['Loser'] == 'Denis Shapovalov')\n",
    "               | (cin['Loser'] == 'Frances Tiafoe') | (cin['Loser'] == 'Karen Khachanov')\n",
    "               | (cin['Loser'] == 'Frances Tiafoe') | (cin['Loser'] == 'Karen Khachanov')\n",
    "               | (cin['Loser'] == 'Roberto Bautista Agut') | (cin['Loser'] == 'Nick Kyrgios')\n",
    "               | (cin['Loser'] == 'Lorenzo Musetti') | (cin['Loser'] == 'Alex de Minaur')\n",
    "               | (cin['Loser'] == 'Diego Schwartzman') | (cin['Loser'] == 'Borna Coric')                                             \n",
    "               | (cin['Loser'] == 'Daniel Evans') | (cin['Loser'] == 'Grigor Dimitrov')\n",
    "               | (cin['Loser'] == 'Miomir Kecmanovic') | (cin['Loser'] == 'Francisco Cerundolo')\n",
    "               | (cin['Loser'] == 'Alejandro Davidovich Fokina') | (cin['Loser'] == 'Tommy Paul')\n",
    "               | (cin['Loser'] == 'Round')]"
   ]
  },
  {
   "cell_type": "code",
   "execution_count": 152,
   "id": "1dde549c",
   "metadata": {},
   "outputs": [],
   "source": [
    "cin.to_csv('../Final-Project-Tennis/datanosubir/MastersCincinnati.csv', index=False)"
   ]
  },
  {
   "cell_type": "markdown",
   "id": "d45efe7c",
   "metadata": {},
   "source": [
    "# Masters Rolex Paris"
   ]
  },
  {
   "cell_type": "code",
   "execution_count": 153,
   "id": "d8be5b09",
   "metadata": {},
   "outputs": [],
   "source": [
    "urlpar='https://www.atptour.com/es/scores/archive/paris/352/2022/results'"
   ]
  },
  {
   "cell_type": "code",
   "execution_count": 154,
   "id": "6161b66f",
   "metadata": {},
   "outputs": [],
   "source": [
    "driverpar=webdriver.Chrome(PATH)         \n",
    "\n",
    "driverpar.get(urlpar)"
   ]
  },
  {
   "cell_type": "code",
   "execution_count": 155,
   "id": "4cb8d629",
   "metadata": {},
   "outputs": [],
   "source": [
    "tabla11=driverpar.find_element(By.XPATH, '//*[@id=\"scoresResultsContent\"]/div/table')\n",
    "\n",
    "filas11=[[e.text for e in f.find_elements(By.CLASS_NAME, 'day-table-name')] \n",
    "        for f in tabla11.find_elements(By.TAG_NAME, 'tr')]"
   ]
  },
  {
   "cell_type": "code",
   "execution_count": 156,
   "id": "04ec8851",
   "metadata": {},
   "outputs": [],
   "source": [
    "cols11 = [e.text.split('\\n') for e in driverpar.find_elements(By.TAG_NAME, 'th')]\n",
    "\n",
    "driverpar.quit()"
   ]
  },
  {
   "cell_type": "code",
   "execution_count": 157,
   "id": "ac0361c0",
   "metadata": {},
   "outputs": [],
   "source": [
    "cols11 = ['Winner','Loser']"
   ]
  },
  {
   "cell_type": "code",
   "execution_count": 158,
   "id": "f3ff8944",
   "metadata": {},
   "outputs": [],
   "source": [
    "par = pd.DataFrame(filas11, columns=cols11)"
   ]
  },
  {
   "cell_type": "code",
   "execution_count": 159,
   "id": "2694605a",
   "metadata": {},
   "outputs": [],
   "source": [
    "par.Winner=par.Winner.apply(nada)"
   ]
  },
  {
   "cell_type": "code",
   "execution_count": 160,
   "id": "d5a84b49",
   "metadata": {},
   "outputs": [],
   "source": [
    "par.Loser=par.Loser.apply(nada)"
   ]
  },
  {
   "cell_type": "code",
   "execution_count": 161,
   "id": "e3d0bf62",
   "metadata": {},
   "outputs": [],
   "source": [
    "par=par[(par['Winner'] == 'Carlos Alcaraz') | (par['Winner'] == 'Casper Ruud')\n",
    "               | (par['Winner'] == 'Rafael Nadal') | (par['Winner'] == 'Stefanos Tsitsipas')\n",
    "               | (par['Winner'] == 'Felix Auger-Aliassime') | (par['Winner'] == 'Daniil Medvedev')\n",
    "               | (par['Winner'] == 'Andrey Rublev') | (par['Winner'] == 'Taylor Fritz')\n",
    "               | (par['Winner'] == 'Hubert Hurkacz') | (par['Winner'] == 'Novak Djokovic')\n",
    "               | (par['Winner'] == 'Holger Rune') | (par['Winner'] == 'Alexander Zverev')\n",
    "               | (par['Winner'] == 'Pablo Carreno Busta') | (par['Winner'] == 'Cameron Norrie')\n",
    "               | (par['Winner'] == 'Jannik Sinner') | (par['Winner'] == 'Matteo Berrettini')\n",
    "               | (par['Winner'] == 'Marin Cilic') | (par['Winner'] == 'Denis Shapovalov')\n",
    "               | (par['Winner'] == 'Frances Tiafoe') | (par['Winner'] == 'Karen Khachanov')\n",
    "               | (par['Winner'] == 'Roberto Bautista Agut') | (par['Winner'] == 'Nick Kyrgios')\n",
    "               | (par['Winner'] == 'Lorenzo Musetti') | (par['Winner'] == 'Alex de Minaur')\n",
    "               | (par['Winner'] == 'Diego Schwartzman') | (par['Winner'] == 'Borna Coric')                                             \n",
    "               | (par['Winner'] == 'Daniel Evans') | (par['Winner'] == 'Grigor Dimitrov')\n",
    "               | (par['Winner'] == 'Miomir Kecmanovic') | (par['Winner'] == 'Francisco Cerundolo')\n",
    "               | (par['Winner'] == 'Alejandro Davidovich Fokina') | (par['Winner'] == 'Tommy Paul')\n",
    "               | (par['Winner'] == 'Round')]"
   ]
  },
  {
   "cell_type": "code",
   "execution_count": 162,
   "id": "772d4aef",
   "metadata": {},
   "outputs": [],
   "source": [
    "par=par[(par['Loser'] == 'Carlos Alcaraz') | (par['Loser'] == 'Casper Ruud')\n",
    "               | (par['Loser'] == 'Rafael Nadal') | (par['Loser'] == 'Stefanos Tsitsipas')\n",
    "               | (par['Loser'] == 'Felix Auger-Aliassime') | (par['Loser'] == 'Daniil Medvedev')\n",
    "               | (par['Loser'] == 'Andrey Rublev') | (par['Loser'] == 'Taylor Fritz')\n",
    "               | (par['Loser'] == 'Hubert Hurkacz') | (par['Loser'] == 'Novak Djokovic')\n",
    "               | (par['Loser'] == 'Holger Rune') | (par['Loser'] == 'Alexander Zverev')\n",
    "               | (par['Loser'] == 'Pablo Carreno Busta') | (par['Loser'] == 'Cameron Norrie')\n",
    "               | (par['Loser'] == 'Jannik Sinner') | (par['Loser'] == 'Matteo Berrettini')\n",
    "               | (par['Loser'] == 'Marin Cilic') | (par['Loser'] == 'Denis Shapovalov')\n",
    "               | (par['Loser'] == 'Frances Tiafoe') | (par['Loser'] == 'Karen Khachanov')\n",
    "               | (par['Loser'] == 'Frances Tiafoe') | (par['Loser'] == 'Karen Khachanov')\n",
    "               | (par['Loser'] == 'Roberto Bautista Agut') | (par['Loser'] == 'Nick Kyrgios')\n",
    "               | (par['Loser'] == 'Lorenzo Musetti') | (par['Loser'] == 'Alex de Minaur')\n",
    "               | (par['Loser'] == 'Diego Schwartzman') | (par['Loser'] == 'Borna Coric')                                             \n",
    "               | (par['Loser'] == 'Daniel Evans') | (par['Loser'] == 'Grigor Dimitrov')\n",
    "               | (par['Loser'] == 'Miomir Kecmanovic') | (par['Loser'] == 'Francisco Cerundolo')\n",
    "               | (par['Loser'] == 'Alejandro Davidovich Fokina') | (par['Loser'] == 'Tommy Paul')\n",
    "               | (par['Loser'] == 'Round')]"
   ]
  },
  {
   "cell_type": "code",
   "execution_count": 163,
   "id": "b1883d89",
   "metadata": {},
   "outputs": [],
   "source": [
    "par.to_csv('../Final-Project-Tennis/datanosubir/MastersRolexParis.csv', index=False)"
   ]
  },
  {
   "cell_type": "markdown",
   "id": "32fe9b32",
   "metadata": {},
   "source": [
    "# Scraping ranking ATP 2022"
   ]
  },
  {
   "cell_type": "code",
   "execution_count": 174,
   "id": "4900d51c",
   "metadata": {},
   "outputs": [],
   "source": [
    "urlaespn='https://www.espn.com.ar/tenis/rankings'"
   ]
  },
  {
   "cell_type": "code",
   "execution_count": 175,
   "id": "bea0f089",
   "metadata": {},
   "outputs": [],
   "source": [
    "driverespn=webdriver.Chrome(PATH)         \n",
    "\n",
    "driverespn.get(urlaespn)"
   ]
  },
  {
   "cell_type": "code",
   "execution_count": 176,
   "id": "b58ccde5",
   "metadata": {},
   "outputs": [],
   "source": [
    "tablaespn=driverespn.find_element(By.XPATH, '//*[@id=\"fittPageContainer\"]/div[3]/div/div/section/div/div/section/div[4]/div[2]/div/div[2]')"
   ]
  },
  {
   "cell_type": "code",
   "execution_count": 177,
   "id": "170eabbd",
   "metadata": {},
   "outputs": [],
   "source": [
    "ranks=[[e.text for e in f.find_elements(By.TAG_NAME, 'td')] \n",
    "      for f in tablaespn.find_elements(By.TAG_NAME, 'tr')]"
   ]
  },
  {
   "cell_type": "code",
   "execution_count": 178,
   "id": "b504cefd",
   "metadata": {},
   "outputs": [],
   "source": [
    "cabeceras=driverespn.find_element(By.TAG_NAME, 'thead')\n",
    "\n",
    "cabeceras=[c.text for c in cabeceras.find_elements(By.TAG_NAME, 'th')]\n",
    "\n",
    "driverespn.quit()"
   ]
  },
  {
   "cell_type": "code",
   "execution_count": 179,
   "id": "51214cd4",
   "metadata": {},
   "outputs": [
    {
     "data": {
      "text/html": [
       "<div>\n",
       "<style scoped>\n",
       "    .dataframe tbody tr th:only-of-type {\n",
       "        vertical-align: middle;\n",
       "    }\n",
       "\n",
       "    .dataframe tbody tr th {\n",
       "        vertical-align: top;\n",
       "    }\n",
       "\n",
       "    .dataframe thead th {\n",
       "        text-align: right;\n",
       "    }\n",
       "</style>\n",
       "<table border=\"1\" class=\"dataframe\">\n",
       "  <thead>\n",
       "    <tr style=\"text-align: right;\">\n",
       "      <th></th>\n",
       "      <th>POS</th>\n",
       "      <th></th>\n",
       "      <th>NOMBRE</th>\n",
       "      <th>PUNTOS</th>\n",
       "      <th>EDAD</th>\n",
       "    </tr>\n",
       "  </thead>\n",
       "  <tbody>\n",
       "    <tr>\n",
       "      <th>0</th>\n",
       "      <td>None</td>\n",
       "      <td>None</td>\n",
       "      <td>None</td>\n",
       "      <td>None</td>\n",
       "      <td>None</td>\n",
       "    </tr>\n",
       "    <tr>\n",
       "      <th>1</th>\n",
       "      <td>1</td>\n",
       "      <td>-</td>\n",
       "      <td>Carlos Alcaraz</td>\n",
       "      <td>6,820</td>\n",
       "      <td>19</td>\n",
       "    </tr>\n",
       "    <tr>\n",
       "      <th>2</th>\n",
       "      <td>2</td>\n",
       "      <td>-</td>\n",
       "      <td>Rafael Nadal</td>\n",
       "      <td>6,020</td>\n",
       "      <td>36</td>\n",
       "    </tr>\n",
       "    <tr>\n",
       "      <th>3</th>\n",
       "      <td>3</td>\n",
       "      <td>-</td>\n",
       "      <td>Casper Ruud</td>\n",
       "      <td>5,820</td>\n",
       "      <td>23</td>\n",
       "    </tr>\n",
       "    <tr>\n",
       "      <th>4</th>\n",
       "      <td>4</td>\n",
       "      <td>-</td>\n",
       "      <td>Stefanos Tsitsipas</td>\n",
       "      <td>5,550</td>\n",
       "      <td>24</td>\n",
       "    </tr>\n",
       "  </tbody>\n",
       "</table>\n",
       "</div>"
      ],
      "text/plain": [
       "    POS                    NOMBRE PUNTOS  EDAD\n",
       "0  None  None                None   None  None\n",
       "1     1     -      Carlos Alcaraz  6,820    19\n",
       "2     2     -        Rafael Nadal  6,020    36\n",
       "3     3     -         Casper Ruud  5,820    23\n",
       "4     4     -  Stefanos Tsitsipas  5,550    24"
      ]
     },
     "execution_count": 179,
     "metadata": {},
     "output_type": "execute_result"
    }
   ],
   "source": [
    "rankings=pd.DataFrame(ranks, columns=cabeceras)\n",
    "\n",
    "rankings.head()"
   ]
  },
  {
   "cell_type": "code",
   "execution_count": 180,
   "id": "2e4ebe25",
   "metadata": {},
   "outputs": [],
   "source": [
    "rankings = rankings.drop([0],axis=0)"
   ]
  },
  {
   "cell_type": "code",
   "execution_count": 181,
   "id": "ecc51ed0",
   "metadata": {},
   "outputs": [
    {
     "data": {
      "text/plain": [
       "Index(['POS', '', 'NOMBRE', 'PUNTOS', 'EDAD'], dtype='object')"
      ]
     },
     "execution_count": 181,
     "metadata": {},
     "output_type": "execute_result"
    }
   ],
   "source": [
    "rankings.columns"
   ]
  },
  {
   "cell_type": "code",
   "execution_count": 182,
   "id": "dce74760",
   "metadata": {},
   "outputs": [],
   "source": [
    "colsborrar = ['']\n",
    "\n",
    "rankings = rankings.drop(columns=colsborrar)\n",
    "\n",
    "rankings.columns=['Posicion','Jugador', 'Puntos','Edad']"
   ]
  },
  {
   "cell_type": "code",
   "execution_count": 183,
   "id": "1cb5fc72",
   "metadata": {},
   "outputs": [],
   "source": [
    "rankings = rankings[:32]"
   ]
  },
  {
   "cell_type": "code",
   "execution_count": 184,
   "id": "72944153",
   "metadata": {},
   "outputs": [],
   "source": [
    "def cambiarCilic(x):\n",
    "    \n",
    "    if 'Čilić' in x:\n",
    "        \n",
    "        return 'Marin Cilic'\n",
    "    \n",
    "    else:\n",
    "        \n",
    "        return x"
   ]
  },
  {
   "cell_type": "code",
   "execution_count": 185,
   "id": "7addc4d7",
   "metadata": {},
   "outputs": [],
   "source": [
    "rankings.Jugador=rankings.Jugador.apply(cambiarCilic)"
   ]
  },
  {
   "cell_type": "code",
   "execution_count": 186,
   "id": "3d560f22",
   "metadata": {},
   "outputs": [],
   "source": [
    "def cambiarMinaur(x):\n",
    "    \n",
    "    if 'Minaur' in x:\n",
    "        \n",
    "        return 'Alex de Minaur'\n",
    "    \n",
    "    else:\n",
    "        \n",
    "        return x"
   ]
  },
  {
   "cell_type": "code",
   "execution_count": 187,
   "id": "7bfff161",
   "metadata": {},
   "outputs": [],
   "source": [
    "rankings.Jugador=rankings.Jugador.apply(cambiarMinaur)"
   ]
  },
  {
   "cell_type": "code",
   "execution_count": 188,
   "id": "c297a4bb",
   "metadata": {},
   "outputs": [],
   "source": [
    "rankings.to_csv('../Final-Project-Tennis/data/ranking.csv', index=False)"
   ]
  },
  {
   "cell_type": "code",
   "execution_count": null,
   "id": "4b8552c6",
   "metadata": {},
   "outputs": [],
   "source": []
  }
 ],
 "metadata": {
  "kernelspec": {
   "display_name": "clase",
   "language": "python",
   "name": "clase"
  },
  "language_info": {
   "codemirror_mode": {
    "name": "ipython",
    "version": 3
   },
   "file_extension": ".py",
   "mimetype": "text/x-python",
   "name": "python",
   "nbconvert_exporter": "python",
   "pygments_lexer": "ipython3",
   "version": "3.7.13"
  }
 },
 "nbformat": 4,
 "nbformat_minor": 5
}
